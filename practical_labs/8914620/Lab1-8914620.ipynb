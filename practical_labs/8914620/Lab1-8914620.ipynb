{
 "cells": [
  {
   "cell_type": "markdown",
   "metadata": {},
   "source": [
    "# **Lab 1 Assignment - AI algorithms - Numpy**\n",
    "\n",
    "## Aneesh Krishna Ramesh - 8914620\n"
   ]
  },
  {
   "cell_type": "code",
   "execution_count": 89,
   "metadata": {},
   "outputs": [],
   "source": [
    "import numpy as np "
   ]
  },
  {
   "cell_type": "markdown",
   "metadata": {},
   "source": [
    "### 1. Create an array that starts from the integer 1, ends at 20, incremented by 3."
   ]
  },
  {
   "cell_type": "code",
   "execution_count": 90,
   "metadata": {},
   "outputs": [
    {
     "name": "stdout",
     "output_type": "stream",
     "text": [
      "[ 1  4  7 10 13 16 19]\n"
     ]
    }
   ],
   "source": [
    "\n",
    "array = np.arange(1,21,3)\n",
    "\n",
    "print(array)"
   ]
  },
  {
   "cell_type": "markdown",
   "metadata": {},
   "source": [
    "###  2. Create a new array of shape 3 with random numbers between 0 and 1."
   ]
  },
  {
   "cell_type": "code",
   "execution_count": 91,
   "metadata": {},
   "outputs": [
    {
     "name": "stdout",
     "output_type": "stream",
     "text": [
      "[0.89789247 0.44163744 0.51634008]\n"
     ]
    }
   ],
   "source": [
    "npArray = np.random.rand(3)\n",
    "print(npArray)"
   ]
  },
  {
   "cell_type": "markdown",
   "metadata": {},
   "source": [
    "###  3. Create a 2-D array `[[10,20,45], [30,12,16], [42,17,56]]` and perform the following operations: \n",
    "####\t - Slice the 2D array to get the first two rows, slice the 2D array to get the last two rows."
   ]
  },
  {
   "cell_type": "code",
   "execution_count": 104,
   "metadata": {},
   "outputs": [
    {
     "name": "stdout",
     "output_type": "stream",
     "text": [
      "Original 2d array : \n",
      " [[10 20 45]\n",
      " [30 12 16]\n",
      " [42 17 56]] \n",
      "\n",
      "Split array : \n",
      " [[10 20 45]\n",
      " [30 12 16]]\n"
     ]
    }
   ],
   "source": [
    "# First 2 Row Split\n",
    "twoDArray = np.array([[10,20,45], [30,12,16], [42,17,56]]);\n",
    "print(\"Original 2d array : \\n\",twoDArray,\"\\n\")\n",
    "\n",
    "first_rows = twoDArray[:2, :]\n",
    "print(\"Split array : \\n\",first_rows)"
   ]
  },
  {
   "cell_type": "code",
   "execution_count": 93,
   "metadata": {},
   "outputs": [
    {
     "name": "stdout",
     "output_type": "stream",
     "text": [
      "[[30 12 16]\n",
      " [42 17 56]]\n"
     ]
    }
   ],
   "source": [
    "# Last 2 Row Split\n",
    "last_rows = twoDArray[1:3, :]\n",
    "print(last_rows)"
   ]
  },
  {
   "cell_type": "markdown",
   "metadata": {},
   "source": [
    "###  4. Create two 2x2 arrays and demonstrate how you can stack the elements vertically, horizontally, and split the arrays into smaller arrays."
   ]
  },
  {
   "cell_type": "code",
   "execution_count": 94,
   "metadata": {},
   "outputs": [
    {
     "name": "stdout",
     "output_type": "stream",
     "text": [
      "[[1 2]\n",
      " [3 4]\n",
      " [5 6]\n",
      " [7 8]]\n"
     ]
    }
   ],
   "source": [
    "twoDArrayOne = np.array([[1, 2],[3, 4]])\n",
    "twoDArrayTwo = np.array([[5, 6],[7, 8]])\n",
    "\n",
    "verticalStackedArray = np.vstack((twoDArrayOne, twoDArrayTwo))\n",
    "print(verticalStackedArray)\n"
   ]
  },
  {
   "cell_type": "code",
   "execution_count": 95,
   "metadata": {},
   "outputs": [
    {
     "name": "stdout",
     "output_type": "stream",
     "text": [
      "[[1 2 5 6]\n",
      " [3 4 7 8]]\n"
     ]
    }
   ],
   "source": [
    "horStackedArray = np.hstack((twoDArrayOne, twoDArrayTwo))\n",
    "print(horStackedArray)"
   ]
  },
  {
   "cell_type": "code",
   "execution_count": 100,
   "metadata": {},
   "outputs": [
    {
     "name": "stdout",
     "output_type": "stream",
     "text": [
      "Split arrays are :  [array([[1, 2]]), array([[3, 4]]), array([[5, 6]]), array([[7, 8]])]\n"
     ]
    }
   ],
   "source": [
    "# and split the arrays into smaller arrays.\n",
    "twoDArrayOne = np.vsplit(verticalStackedArray,4)\n",
    "twoDArrayTwo = np.hsplit(verticalStackedArray,2)\n",
    "\n",
    "print(\"Split arrays are : \",twoDArrayOne)\n"
   ]
  },
  {
   "cell_type": "markdown",
   "metadata": {},
   "source": [
    "\n",
    "## Part A- Create a Notebook to demonstrate NumPy Operations.\n",
    "\n",
    "### 5. Create two matrices `X= ([[5, 7, 2], [4, 5, 6], [7, 4 ,2]]),   Y= ([[4, 2], [6, 2], [4, 2]])` \n",
    "#####\t - Is it possible to multiply these matrices? \n",
    "#####\t - Demonstrate the case when it is not possible to."
   ]
  },
  {
   "cell_type": "markdown",
   "metadata": {},
   "source": [
    "> **ANSWER** : The matrices can be multiplied because the first matrix is a 3x3 and the 2nd is a 3x2. Since the number of columns in the 1st matrix is the same as the number of rows in the 2nd matrix which can be seen below. "
   ]
  },
  {
   "cell_type": "code",
   "execution_count": 97,
   "metadata": {},
   "outputs": [
    {
     "name": "stdout",
     "output_type": "stream",
     "text": [
      "[[70 28]\n",
      " [70 30]\n",
      " [60 26]]\n"
     ]
    }
   ],
   "source": [
    "twoDArrayOne = np.array([[5, 7, 2], [4, 5, 6], [7, 4 ,2]])\n",
    "twoDArrayTwo = np.array([[4, 2], [6, 2], [4, 2]])\n",
    "multipliedMatrix = np.dot(twoDArrayOne,twoDArrayTwo)\n",
    "\n",
    "print(multipliedMatrix)\n"
   ]
  },
  {
   "cell_type": "markdown",
   "metadata": {},
   "source": [
    "> **ANSWER** :  It cannot be multiplied if the columns in matrix A and columns in matrix B don't match. As demonstrated below. \n",
    "\n",
    "**ERROR-EXPECTED BELOW**"
   ]
  },
  {
   "cell_type": "code",
   "execution_count": 98,
   "metadata": {},
   "outputs": [
    {
     "ename": "ValueError",
     "evalue": "shapes (3,4) and (3,2) not aligned: 4 (dim 1) != 3 (dim 0)",
     "output_type": "error",
     "traceback": [
      "\u001b[1;31m---------------------------------------------------------------------------\u001b[0m",
      "\u001b[1;31mValueError\u001b[0m                                Traceback (most recent call last)",
      "\u001b[1;32mc:\\Users\\Anishx\\Documents\\Conestoga\\Yusuf-AI-Algo\\Fall2023\\practical_labs\\8914620\\lab1.ipynb Cell 18\u001b[0m line \u001b[0;36m4\n\u001b[0;32m      <a href='vscode-notebook-cell:/c%3A/Users/Anishx/Documents/Conestoga/Yusuf-AI-Algo/Fall2023/practical_labs/8914620/lab1.ipynb#X30sZmlsZQ%3D%3D?line=1'>2</a>\u001b[0m twoDArrayOne \u001b[39m=\u001b[39m np\u001b[39m.\u001b[39marray([[\u001b[39m5\u001b[39m, \u001b[39m7\u001b[39m, \u001b[39m2\u001b[39m,\u001b[39m1\u001b[39m], [\u001b[39m4\u001b[39m, \u001b[39m5\u001b[39m, \u001b[39m6\u001b[39m,\u001b[39m1\u001b[39m], [\u001b[39m7\u001b[39m, \u001b[39m4\u001b[39m ,\u001b[39m2\u001b[39m,\u001b[39m1\u001b[39m]])\n\u001b[0;32m      <a href='vscode-notebook-cell:/c%3A/Users/Anishx/Documents/Conestoga/Yusuf-AI-Algo/Fall2023/practical_labs/8914620/lab1.ipynb#X30sZmlsZQ%3D%3D?line=2'>3</a>\u001b[0m twoDArrayTwo \u001b[39m=\u001b[39m np\u001b[39m.\u001b[39marray([[\u001b[39m4\u001b[39m, \u001b[39m2\u001b[39m], [\u001b[39m6\u001b[39m, \u001b[39m2\u001b[39m], [\u001b[39m4\u001b[39m, \u001b[39m2\u001b[39m]])\n\u001b[1;32m----> <a href='vscode-notebook-cell:/c%3A/Users/Anishx/Documents/Conestoga/Yusuf-AI-Algo/Fall2023/practical_labs/8914620/lab1.ipynb#X30sZmlsZQ%3D%3D?line=3'>4</a>\u001b[0m multipliedMatrix \u001b[39m=\u001b[39m np\u001b[39m.\u001b[39;49mdot(twoDArrayOne,twoDArrayTwo)\n\u001b[0;32m      <a href='vscode-notebook-cell:/c%3A/Users/Anishx/Documents/Conestoga/Yusuf-AI-Algo/Fall2023/practical_labs/8914620/lab1.ipynb#X30sZmlsZQ%3D%3D?line=5'>6</a>\u001b[0m \u001b[39mprint\u001b[39m(multipliedMatrix)\n",
      "\u001b[1;31mValueError\u001b[0m: shapes (3,4) and (3,2) not aligned: 4 (dim 1) != 3 (dim 0)"
     ]
    }
   ],
   "source": [
    "# ERROR EXPECTED in running below \n",
    "twoDArrayOne = np.array([[5, 7, 2,1], [4, 5, 6,1], [7, 4 ,2,1]])\n",
    "twoDArrayTwo = np.array([[4, 2], [6, 2], [4, 2]])\n",
    "multipliedMatrix = np.dot(twoDArrayOne,twoDArrayTwo)\n",
    "\n",
    "print(multipliedMatrix)"
   ]
  },
  {
   "cell_type": "markdown",
   "metadata": {},
   "source": [
    "### 6. Create two arrays, `x = ([2, -1, -8]) y = ([3, 1, -2]),`\n",
    "#####\t - Find the Shape, Number of dimensions of vector x.\n",
    "#####\t - Reshape the vector x to a matrix of size (3,1) and determine the number of dimensions after reshaping y to a matrix of (3,1)."
   ]
  },
  {
   "cell_type": "code",
   "execution_count": null,
   "metadata": {},
   "outputs": [
    {
     "name": "stdout",
     "output_type": "stream",
     "text": [
      "Vector 1 : Shape : (3,) , Dimension : 1\n",
      "Vector 2 : Shape : (3,) , Dimension : 1\n"
     ]
    }
   ],
   "source": [
    "twoDArrayOne = np.array([2, -1, -8])\n",
    "twoDArrayTwo = np.array([3, 1, -2])\n",
    "\n",
    "print(\"Vector 1 : Shape :\",twoDArrayOne.shape,\", Dimension :\",twoDArrayOne.ndim)\n",
    "print(\"Vector 2 : Shape :\",twoDArrayTwo.shape,\", Dimension :\",twoDArrayTwo.ndim)"
   ]
  },
  {
   "cell_type": "markdown",
   "metadata": {},
   "source": [
    "### 7. How does broadcasting work? Demonstrate the subtraction, multiplication by considering a 3 x 3 matrix."
   ]
  },
  {
   "cell_type": "markdown",
   "metadata": {},
   "source": [
    "> **ANSWER** : Broadcasting allows us to perform multiple operations like addition, multiplication throughout an array without looping over each element. The name broadcasting comes from how NumPy handles these operations, it essentially broadcasts a small  array in the larger array to turn them into compatible shapes. \n",
    "> The below example shows examples of Substraction and Multiplication"
   ]
  },
  {
   "cell_type": "code",
   "execution_count": null,
   "metadata": {},
   "outputs": [
    {
     "name": "stdout",
     "output_type": "stream",
     "text": [
      "[[-9 -9 -9]\n",
      " [-9 -9 -9]\n",
      " [-9 -9 -9]] \n",
      "\n",
      "[[ 10  22  36]\n",
      " [ 52  70  90]\n",
      " [112 136 162]] \n",
      "\n"
     ]
    }
   ],
   "source": [
    "twoDArrayOne = np.array([[1, 2, 3],[4, 5, 6],[7, 8, 9]])\n",
    "twoDArrayTwo = np.array([[10, 11, 12],[13, 14, 15],[16, 17, 18]])\n",
    "subArray = twoDArrayOne - twoDArrayTwo \n",
    "mulArray = twoDArrayOne * twoDArrayTwo\n",
    "\n",
    "print(subArray,\"\\n\")\n",
    "print(mulArray,\"\\n\")\n"
   ]
  },
  {
   "cell_type": "code",
   "execution_count": null,
   "metadata": {},
   "outputs": [
    {
     "name": "stdout",
     "output_type": "stream",
     "text": [
      "[[ 0  0 -6]\n",
      " [ 3  3 -3]\n",
      " [ 6  6  0]] \n",
      "\n",
      "[[ 1  2  3]\n",
      " [ 8 10 12]\n",
      " [63 72 81]]\n"
     ]
    }
   ],
   "source": [
    "# With broadcasting\n",
    "print(twoDArrayOne - np.array([1,2,9]).reshape(1,3),\"\\n\")\n",
    "print(twoDArrayOne * np.array([1,2,9]).reshape(3,1) )"
   ]
  },
  {
   "cell_type": "markdown",
   "metadata": {},
   "source": [
    "## **Part B- Linear Equations**\n",
    "Determine the singularity of the system of equations, comment on the expected solution of the system. Solve the system of equations if possible. Justify the reason why you believe the system can or cannot be solved using numpy functions.\n",
    "### Part B.1\n",
    "\n",
    "1. 4x + y - 2z = 10\n",
    "2. 2x - 3y + 2z = -4\n",
    "3. x + 2y + 3z = 6"
   ]
  },
  {
   "cell_type": "code",
   "execution_count": 99,
   "metadata": {},
   "outputs": [
    {
     "name": "stdout",
     "output_type": "stream",
     "text": [
      "determinant of matrix :  -70.00000000000003\n"
     ]
    }
   ],
   "source": [
    "matrix = np.array([[4, 1, -2],[2, -3, 2],[1, 2, 3]])\n",
    "det = np.linalg.det(matrix)\n",
    "print(\"determinant of matrix : \",det)\n"
   ]
  },
  {
   "cell_type": "markdown",
   "metadata": {},
   "source": [
    ">  **ANSWER** :  Since the Determinant of the above system of equations is non-Zero (~ -70), the result is that the system is **NON-SINGULAR** \n",
    "> & hence has a unique solution. \n",
    "\n",
    "> Hence this **CAN** be solved by using numpy as shown below"
   ]
  },
  {
   "cell_type": "code",
   "execution_count": null,
   "metadata": {},
   "outputs": [
    {
     "name": "stdout",
     "output_type": "stream",
     "text": [
      "values of x, y & z :::  [ 1.8  2.4 -0.2]\n"
     ]
    }
   ],
   "source": [
    "sum = np.array([10, -4, 6])\n",
    "mulSolution = np.linalg.solve(matrix, sum)\n",
    "print(\"values of x, y & z ::: \",mulSolution)"
   ]
  },
  {
   "cell_type": "markdown",
   "metadata": {},
   "source": [
    "### Part B.2    \n",
    "\t\t\n",
    "1. 2x - y + 3z + 4w = 10\n",
    "2. 4x - 2y + 6z + 8w = 20\n",
    "3. 3x + y - 2z + 2w = 3\n",
    "4. x + 3y - 4z + w = -1"
   ]
  },
  {
   "cell_type": "code",
   "execution_count": null,
   "metadata": {},
   "outputs": [
    {
     "name": "stdout",
     "output_type": "stream",
     "text": [
      "0.0\n"
     ]
    }
   ],
   "source": [
    "matrix = np.array([[2,-1,3,4],[4, -2, 6, 8],[3, 1, -2, 2],[1,3,-4, 1]])\n",
    "det = np.linalg.det(matrix)\n",
    "print(\"determinant of matrix : \",det)"
   ]
  },
  {
   "cell_type": "markdown",
   "metadata": {},
   "source": [
    ">  **ANSWER** : Since the Determinant of the above system of equations **IS ZERO**, the result is that the system is **SINGULAR** \n",
    "> & hence has a NO unique solution or Infinite solutions. \n",
    "\n",
    "> So, this **CANNOT** be solved using Numpy as it only accepts a Non-Singular matrix, as shown below \n",
    "\n",
    "**ERROR-EXPECTED BELOW**"
   ]
  },
  {
   "cell_type": "code",
   "execution_count": null,
   "metadata": {},
   "outputs": [
    {
     "ename": "LinAlgError",
     "evalue": "Singular matrix",
     "output_type": "error",
     "traceback": [
      "\u001b[1;31m---------------------------------------------------------------------------\u001b[0m",
      "\u001b[1;31mLinAlgError\u001b[0m                               Traceback (most recent call last)",
      "\u001b[1;32mc:\\Users\\Anishx\\Documents\\Conestoga\\Yusuf-AI-Algo\\Fall2023\\practical_labs\\8914620\\lab1.ipynb Cell 33\u001b[0m line \u001b[0;36m2\n\u001b[0;32m      <a href='vscode-notebook-cell:/c%3A/Users/Anishx/Documents/Conestoga/Yusuf-AI-Algo/Fall2023/practical_labs/8914620/lab1.ipynb#X51sZmlsZQ%3D%3D?line=0'>1</a>\u001b[0m \u001b[39msum\u001b[39m \u001b[39m=\u001b[39m np\u001b[39m.\u001b[39marray([\u001b[39m10\u001b[39m, \u001b[39m20\u001b[39m, \u001b[39m3\u001b[39m, \u001b[39m-\u001b[39m\u001b[39m1\u001b[39m])\n\u001b[1;32m----> <a href='vscode-notebook-cell:/c%3A/Users/Anishx/Documents/Conestoga/Yusuf-AI-Algo/Fall2023/practical_labs/8914620/lab1.ipynb#X51sZmlsZQ%3D%3D?line=1'>2</a>\u001b[0m mulSolution \u001b[39m=\u001b[39m np\u001b[39m.\u001b[39;49mlinalg\u001b[39m.\u001b[39;49msolve(matrix, \u001b[39msum\u001b[39;49m)\n\u001b[0;32m      <a href='vscode-notebook-cell:/c%3A/Users/Anishx/Documents/Conestoga/Yusuf-AI-Algo/Fall2023/practical_labs/8914620/lab1.ipynb#X51sZmlsZQ%3D%3D?line=2'>3</a>\u001b[0m \u001b[39mprint\u001b[39m(\u001b[39m\"\u001b[39m\u001b[39mvalues of x, y, z & w ::: \u001b[39m\u001b[39m\"\u001b[39m,mulSolution)\n",
      "File \u001b[1;32mc:\\Users\\Anishx\\AppData\\Local\\Programs\\Python\\Python311\\Lib\\site-packages\\numpy\\linalg\\linalg.py:409\u001b[0m, in \u001b[0;36msolve\u001b[1;34m(a, b)\u001b[0m\n\u001b[0;32m    407\u001b[0m signature \u001b[39m=\u001b[39m \u001b[39m'\u001b[39m\u001b[39mDD->D\u001b[39m\u001b[39m'\u001b[39m \u001b[39mif\u001b[39;00m isComplexType(t) \u001b[39melse\u001b[39;00m \u001b[39m'\u001b[39m\u001b[39mdd->d\u001b[39m\u001b[39m'\u001b[39m\n\u001b[0;32m    408\u001b[0m extobj \u001b[39m=\u001b[39m get_linalg_error_extobj(_raise_linalgerror_singular)\n\u001b[1;32m--> 409\u001b[0m r \u001b[39m=\u001b[39m gufunc(a, b, signature\u001b[39m=\u001b[39;49msignature, extobj\u001b[39m=\u001b[39;49mextobj)\n\u001b[0;32m    411\u001b[0m \u001b[39mreturn\u001b[39;00m wrap(r\u001b[39m.\u001b[39mastype(result_t, copy\u001b[39m=\u001b[39m\u001b[39mFalse\u001b[39;00m))\n",
      "File \u001b[1;32mc:\\Users\\Anishx\\AppData\\Local\\Programs\\Python\\Python311\\Lib\\site-packages\\numpy\\linalg\\linalg.py:112\u001b[0m, in \u001b[0;36m_raise_linalgerror_singular\u001b[1;34m(err, flag)\u001b[0m\n\u001b[0;32m    111\u001b[0m \u001b[39mdef\u001b[39;00m \u001b[39m_raise_linalgerror_singular\u001b[39m(err, flag):\n\u001b[1;32m--> 112\u001b[0m     \u001b[39mraise\u001b[39;00m LinAlgError(\u001b[39m\"\u001b[39m\u001b[39mSingular matrix\u001b[39m\u001b[39m\"\u001b[39m)\n",
      "\u001b[1;31mLinAlgError\u001b[0m: Singular matrix"
     ]
    }
   ],
   "source": [
    "sum = np.array([10, 20, 3, -1])\n",
    "mulSolution = np.linalg.solve(matrix, sum)\n",
    "print(\"values of x, y, z & w ::: \",mulSolution)"
   ]
  }
 ],
 "metadata": {
  "kernelspec": {
   "display_name": "Python 3",
   "language": "python",
   "name": "python3"
  },
  "language_info": {
   "codemirror_mode": {
    "name": "ipython",
    "version": 3
   },
   "file_extension": ".py",
   "mimetype": "text/x-python",
   "name": "python",
   "nbconvert_exporter": "python",
   "pygments_lexer": "ipython3",
   "version": "3.11.5"
  },
  "orig_nbformat": 4
 },
 "nbformat": 4,
 "nbformat_minor": 2
}
