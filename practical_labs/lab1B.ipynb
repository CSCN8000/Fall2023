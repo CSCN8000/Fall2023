{
 "cells": [
  {
   "cell_type": "markdown",
   "metadata": {},
   "source": [
    "## Part B- Linear Equations\n",
    "Determine the singularity of the system of equations, comment on the expected solution of the system. Solve the system of equations if possible. Justify the reason why you believe the system can or cannot be solved using numpy functions.\n",
    "### Part B.1\n",
    "\n",
    "1. 4x + y - 2z = 10\n",
    "2. 2x - 3y + 2z = -4\n",
    "3. x + 2y + 3z = 6\n",
    "\n",
    "### Part B.2    \t\t\n",
    "1. 2x - y + 3z + 4w = 10\n",
    "2. 4x - 2y + 6z + 8w = 20\n",
    "3. 3x + y - 2z + 2w = 3\n",
    "4. x + 3y - 4z + w = -1"
   ]
  },
  {
   "cell_type": "code",
   "execution_count": 2,
   "metadata": {},
   "outputs": [
    {
     "name": "stdout",
     "output_type": "stream",
     "text": [
      "The system of equations is consistent and solvable.\n",
      "Solution: [ 1.8  2.4 -0.2]\n"
     ]
    }
   ],
   "source": [
    "import numpy as np\n",
    "\n",
    "# the coefficient matrix A and the right-hand side vector b \n",
    "A = np.array([[4, 1, -2], [2, -3, 2], [1, 2, 3]])\n",
    "b = np.array([10, -4, 6])\n",
    "\n",
    "# Augment A with b\n",
    "augmented_matrix = np.column_stack((A, b))\n",
    "\n",
    "# Calculate the rank of A and the rank of the augmented matrix\n",
    "rank_A = np.linalg.matrix_rank(A)\n",
    "rank_augmented = np.linalg.matrix_rank(augmented_matrix)\n",
    "\n",
    "# Check for consistency and solvability\n",
    "if rank_A == rank_augmented and rank_A == A.shape[1]:\n",
    "    print(\"The system of equations is consistent and solvable.\")\n",
    "    solution1 = np.linalg.solve(A, b)\n",
    "    print(\"Solution:\", solution1)\n",
    "else:\n",
    "    print(\"The system of equations is inconsistent and cannot be solved.\")\n"
   ]
  },
  {
   "cell_type": "markdown",
   "metadata": {},
   "source": [
    "##for part B-2"
   ]
  },
  {
   "cell_type": "code",
   "execution_count": 3,
   "metadata": {},
   "outputs": [
    {
     "name": "stdout",
     "output_type": "stream",
     "text": [
      "The system of equations is inconsistent and cannot be solved.\n"
     ]
    }
   ],
   "source": [
    "#the coefficient matrix A and the right-hand side vector b\n",
    "A = np.array([[2, -1, 3, 4], [4, -2, 6, 8], [3, 1, -2, 2], [1, 3, -4, 1]])\n",
    "b = np.array([10, 20, 3, -1])\n",
    "\n",
    "# Augment A with b\n",
    "augmented_matrix = np.column_stack((A, b))\n",
    "\n",
    "# Calculate the rank of A and the rank of the augmented matrix\n",
    "rank_A = np.linalg.matrix_rank(A)\n",
    "rank_augmented = np.linalg.matrix_rank(augmented_matrix)\n",
    "\n",
    "# Check for consistency and solvability\n",
    "if rank_A == rank_augmented and rank_A == A.shape[1]:\n",
    "    print(\"The system of equations is consistent and solvable.\")\n",
    "    solution = np.linalg.solve(A, b)\n",
    "    print(\"Solution:\", solution)\n",
    "else:\n",
    "    print(\"The system of equations is inconsistent and cannot be solved.\")\n"
   ]
  }
 ],
 "metadata": {
  "kernelspec": {
   "display_name": "CSCN8010_classic_ml`",
   "language": "python",
   "name": "cscn8010_classic_ml"
  },
  "language_info": {
   "codemirror_mode": {
    "name": "ipython",
    "version": 3
   },
   "file_extension": ".py",
   "mimetype": "text/x-python",
   "name": "python",
   "nbconvert_exporter": "python",
   "pygments_lexer": "ipython3",
   "version": "3.10.11"
  },
  "orig_nbformat": 4
 },
 "nbformat": 4,
 "nbformat_minor": 2
}
