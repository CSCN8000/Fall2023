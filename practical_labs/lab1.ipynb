{
 "cells": [
  {
   "cell_type": "markdown",
   "metadata": {},
   "source": [
    "1. Create an array that starts from the integer 1, ends at 20, incremented by 3."
   ]
  },
  {
   "cell_type": "code",
   "execution_count": 2,
   "metadata": {},
   "outputs": [
    {
     "ename": "ModuleNotFoundError",
     "evalue": "No module named 'numpy'",
     "output_type": "error",
     "traceback": [
      "\u001b[1;31m---------------------------------------------------------------------------\u001b[0m",
      "\u001b[1;31mModuleNotFoundError\u001b[0m                       Traceback (most recent call last)",
      "\u001b[1;32mc:\\Users\\nisar\\AIAM\\Fall2023\\practical_labs\\lab1.ipynb Cell 2\u001b[0m line \u001b[0;36m1\n\u001b[1;32m----> <a href='vscode-notebook-cell:/c%3A/Users/nisar/AIAM/Fall2023/practical_labs/lab1.ipynb#W1sZmlsZQ%3D%3D?line=0'>1</a>\u001b[0m \u001b[39mimport\u001b[39;00m \u001b[39mnumpy\u001b[39;00m \u001b[39mas\u001b[39;00m \u001b[39mnp\u001b[39;00m\n\u001b[0;32m      <a href='vscode-notebook-cell:/c%3A/Users/nisar/AIAM/Fall2023/practical_labs/lab1.ipynb#W1sZmlsZQ%3D%3D?line=2'>3</a>\u001b[0m \u001b[39m# Create the array starting from 1, ending at 20, and incremented by 3\u001b[39;00m\n\u001b[0;32m      <a href='vscode-notebook-cell:/c%3A/Users/nisar/AIAM/Fall2023/practical_labs/lab1.ipynb#W1sZmlsZQ%3D%3D?line=3'>4</a>\u001b[0m NP_array \u001b[39m=\u001b[39m np\u001b[39m.\u001b[39marange(\u001b[39m1\u001b[39m, \u001b[39m21\u001b[39m, \u001b[39m3\u001b[39m)\n",
      "\u001b[1;31mModuleNotFoundError\u001b[0m: No module named 'numpy'"
     ]
    }
   ],
   "source": [
    "import numpy as np\n",
    "\n",
    "# Create the array starting from 1, ending at 20, and incremented by 3\n",
    "NP_array = np.arange(1, 21, 3)\n",
    "\n",
    "# Print the array\n",
    "print(NP_array)\n"
   ]
  },
  {
   "cell_type": "markdown",
   "metadata": {},
   "source": [
    "2. Create a new array of shape 3 with random numbers between 0 and 1."
   ]
  },
  {
   "cell_type": "code",
   "execution_count": null,
   "metadata": {},
   "outputs": [],
   "source": [
    "import numpy as np\n",
    "\n",
    "# Create array of shape (3,) with random numbers between 0 and 1\n",
    "random_array = np.random.uniform(0, 1, 3)\n",
    "\n",
    "# Print  random array\n",
    "print(random_array)\n"
   ]
  },
  {
   "cell_type": "markdown",
   "metadata": {},
   "source": [
    "3. Create a 2 D array `[[10,20,45], [30,12,16], [42,17,56]]` and perform the following operations: \n",
    "\t - Slice the 2D array to get the first two rows, slice the 2D array to get the last two rows."
   ]
  },
  {
   "cell_type": "code",
   "execution_count": null,
   "metadata": {},
   "outputs": [],
   "source": [
    "import numpy as np\n",
    "\n",
    "# Create a 2D array\n",
    "two_d_array = np.array([[10, 20, 45], [30, 12, 16], [42, 17, 56]])\n",
    "\n",
    "# first two rows\n",
    "first_two_rows = two_d_array[:2, :]\n",
    "\n",
    "# last two rows\n",
    "last_two_rows = two_d_array[1:, :]\n",
    "\n",
    "# Print \n",
    "print(\"2D array:\\n\",two_d_array)\n",
    "print(\"first two rows:\\n\",first_two_rows)\n",
    "print(\"last two rows:\\n\",last_two_rows)\n"
   ]
  },
  {
   "cell_type": "markdown",
   "metadata": {},
   "source": [
    "4. Create two 2x2 arrays and demonstrate how you can stack the elements vertically, horizontally, and split the arrays into smaller arrays."
   ]
  },
  {
   "cell_type": "code",
   "execution_count": null,
   "metadata": {},
   "outputs": [],
   "source": [
    "import numpy as np\n",
    "\n",
    "# Create two 3x3 arrays\n",
    "array1 = np.array([[4, 5], [1, 2]])\n",
    "array2 = np.array([[2, 3], [8, 9]])\n",
    "\n",
    "# Stack the arrays vertically\n",
    "stack_vertically = np.vstack((array1, array2))\n",
    "\n",
    "# Stack the arrays horizontally\n",
    "stack_horizontally = np.hstack((array1, array2))\n",
    "\n",
    "# Split the stacked arrays back into smaller arrays\n",
    "split_vertically = np.vsplit(stack_vertically, 2)\n",
    "split_horizontally = np.hsplit(stack_horizontally, 2)\n",
    "\n",
    "# Print the results\n",
    "print(\"Array 1:\\n\", array1)\n",
    "print(\"Array 2:\\n\", array2)\n",
    "\n",
    "print(\"\\nStacked Vertically:\\n\", stack_vertically)\n",
    "print(\"\\nStacked Horizontally:\\n\", stack_horizontally)\n",
    "\n",
    "print(\"\\nSplit Vertically:\")\n",
    "for arr in split_vertically:\n",
    "    print(arr)\n",
    "\n",
    "print(\"\\nSplit Horizontally:\")\n",
    "for arr in split_horizontally:\n",
    "    print(arr)\n"
   ]
  },
  {
   "cell_type": "markdown",
   "metadata": {},
   "source": [
    "5. Create two matrices `X= ([[5, 7, 2], [4, 5, 6], [7, 4 ,2]]) Y= ([[4, 2], [6, 2], [4, 2]]),` \n",
    "\t - Is it possible to multiply these matrices? \n",
    "\t - Demonstrate the case when it is not possible to."
   ]
  },
  {
   "cell_type": "code",
   "execution_count": null,
   "metadata": {},
   "outputs": [],
   "source": [
    "import numpy as np\n",
    "\n",
    "# matrices X and Y\n",
    "X = np.array([[5, 7, 2], [4, 5, 6], [7, 4, 2]])\n",
    "Y = np.array([[4, 2], [6, 2], [4, 2]])\n",
    "\n",
    "# Check if matrix multiplication is possible\n",
    "if X.shape[1] == Y.shape[0]:\n",
    "    result = np.dot(X, Y)\n",
    "    print(\"Matrix multiplication is possible.\")\n",
    "    print(\"matrix (XY):\\n\", result)\n",
    "else:\n",
    "    print(\"Matrix multiplication is not possible due to incompatible dimensions.\")\n"
   ]
  },
  {
   "cell_type": "markdown",
   "metadata": {},
   "source": [
    "6. Create two arrays, `x = ([2, -1, -8]) y = ([3, 1, -2]),`\n",
    "\t - Find the Shape, Number of dimensions of vector x.\n",
    "\t - Reshape the vector x to a matrix of size (3,1) and determine the number of dimensions after reshaping y to a matrix of (3,1)."
   ]
  },
  {
   "cell_type": "code",
   "execution_count": null,
   "metadata": {},
   "outputs": [],
   "source": [
    "import numpy as np\n",
    "\n",
    "# arrays x and y\n",
    "x = np.array([2, -1, -8])\n",
    "y = np.array([3, 1, -2])\n",
    "\n",
    "# Find shape and number of dimensions of vector x\n",
    "x_shape = x.shape\n",
    "x_dimensions = x.ndim\n",
    "\n",
    "# Reshape vector x to a matrix of size (3,1)\n",
    "x_reshaped = x.reshape(3, 1)\n",
    "\n",
    "# Determine the number of dimensions after reshaping y to a matrix of (3,1)\n",
    "y_reshaped = y.reshape(3, 1)\n",
    "y_reshaped_dimensions = y_reshaped.ndim\n",
    "\n",
    "# Print the results\n",
    "print(\"x:\\n\", x)\n",
    "print(\"\\nShape of vector x:\", x_shape)\n",
    "print(\"Number of dimensions of vector x:\", x_dimensions)\n",
    "\n",
    "print(\"\\nMatrix x (reshaped to (3,1)):\\n\", x_reshaped)\n",
    "print(\"\\nMatrix y (reshaped to (3,1)):\\n\", y_reshaped)\n",
    "print(\"Number of dimensions of matrix y (reshaped):\", y_reshaped_dimensions)\n"
   ]
  },
  {
   "cell_type": "markdown",
   "metadata": {},
   "source": [
    "7. How does broadcasting work? Demonstrate the subtraction, multiplication by considering a 3 x 3 matrix."
   ]
  },
  {
   "cell_type": "code",
   "execution_count": null,
   "metadata": {},
   "outputs": [],
   "source": [
    "import numpy as np\n",
    "\n",
    "# Create a 3x3 matrix\n",
    "matrix = np.array([[10, 15, 20], [8, 6, 4], [12, 3, 7]])\n",
    "\n",
    "# Define a scalar value\n",
    "scalar = 4\n",
    "\n",
    "# Subtract the scalar from the matrix using broadcasting\n",
    "subtract = matrix - scalar\n",
    "\n",
    "# Multiply the matrix by the scalar using broadcasting\n",
    "multiply = matrix * scalar\n",
    "\n",
    "# Print the original matrix, the result of subtraction, and the result of multiplication\n",
    "print(\"Original Matrix:\\n\", matrix)\n",
    "print(\"\\nSubtract Scalar (4):\\n\", subtract)\n",
    "print(\"\\nMultiply by Scalar (4):\\n\", multiply)\n"
   ]
  }
 ],
 "metadata": {
  "kernelspec": {
   "display_name": "Python 3",
   "language": "python",
   "name": "python3"
  },
  "language_info": {
   "codemirror_mode": {
    "name": "ipython",
    "version": 3
   },
   "file_extension": ".py",
   "mimetype": "text/x-python",
   "name": "python",
   "nbconvert_exporter": "python",
   "pygments_lexer": "ipython3",
   "version": "3.11.5"
  },
  "orig_nbformat": 4
 },
 "nbformat": 4,
 "nbformat_minor": 2
}
