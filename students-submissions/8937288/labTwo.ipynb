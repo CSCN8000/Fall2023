{
 "cells": [
  {
   "cell_type": "code",
   "execution_count": 7,
   "metadata": {},
   "outputs": [
    {
     "name": "stdout",
     "output_type": "stream",
     "text": [
      "   Unnamed: 0 label                                               text  \\\n",
      "0         605   ham  Subject: enron methanol ; meter # : 988291\\r\\n...   \n",
      "1        2349   ham  Subject: hpl nom for january 9 , 2001\\r\\n( see...   \n",
      "2        3624   ham  Subject: neon retreat\\r\\nho ho ho , we ' re ar...   \n",
      "3        4685  spam  Subject: photoshop , windows , office . cheap ...   \n",
      "4        2030   ham  Subject: re : indian springs\\r\\nthis deal is t...   \n",
      "\n",
      "   label_num  \n",
      "0          0  \n",
      "1          0  \n",
      "2          0  \n",
      "3          1  \n",
      "4          0  \n"
     ]
    }
   ],
   "source": [
    "import numpy as np\n",
    "import sklearn as sklearn\n",
    "import pandas as pd\n",
    "\n",
    "\n",
    "dataset = pd.read_csv(r\"C:\\Users\\20102\\conestoga\\AIA\\Fall2023\\practical_labs\\datasets\\Lab_2\\Lab2_dataset.csv\")\n",
    "\n",
    "\n",
    "print(dataset.head())\n"
   ]
  },
  {
   "cell_type": "code",
   "execution_count": 10,
   "metadata": {},
   "outputs": [
    {
     "data": {
      "text/plain": [
       "<5171x50447 sparse matrix of type '<class 'numpy.int64'>'\n",
       "\twith 456145 stored elements in Compressed Sparse Row format>"
      ]
     },
     "execution_count": 10,
     "metadata": {},
     "output_type": "execute_result"
    }
   ],
   "source": [
    "from sklearn.feature_extraction.text import CountVectorizer\n",
    "vectorizer = CountVectorizer()\n",
    "\n",
    "\n",
    "textVect = vectorizer.fit_transform(dataset['text'])\n",
    "textVect"
   ]
  },
  {
   "cell_type": "code",
   "execution_count": 11,
   "metadata": {},
   "outputs": [],
   "source": [
    "from sklearn.model_selection import train_test_split\n",
    "\n",
    "\n",
    "X_train, X_test, y_train, y_test = train_test_split(\n",
    "    textVect, dataset['label'], test_size=0.2, random_state=0\n",
    ")"
   ]
  },
  {
   "cell_type": "code",
   "execution_count": 12,
   "metadata": {},
   "outputs": [],
   "source": [
    "from sklearn.svm import SVC\n",
    "from sklearn.naive_bayes import GaussianNB, MultinomialNB\n",
    "from sklearn.metrics import accuracy_score, classification_report"
   ]
  },
  {
   "cell_type": "code",
   "execution_count": 13,
   "metadata": {},
   "outputs": [
    {
     "name": "stdout",
     "output_type": "stream",
     "text": [
      "Support Vector Classifier Report:\n",
      "              precision    recall  f1-score   support\n",
      "\n",
      "         ham       0.98      0.96      0.97       732\n",
      "        spam       0.91      0.95      0.93       303\n",
      "\n",
      "    accuracy                           0.96      1035\n",
      "   macro avg       0.94      0.95      0.95      1035\n",
      "weighted avg       0.96      0.96      0.96      1035\n",
      "\n",
      "Gaussian Naive Bayes Report:\n",
      "              precision    recall  f1-score   support\n",
      "\n",
      "         ham       0.96      0.99      0.97       732\n",
      "        spam       0.97      0.90      0.94       303\n",
      "\n",
      "    accuracy                           0.96      1035\n",
      "   macro avg       0.96      0.95      0.95      1035\n",
      "weighted avg       0.96      0.96      0.96      1035\n",
      "\n",
      "Multinomial Naive Bayes Report:\n",
      "              precision    recall  f1-score   support\n",
      "\n",
      "         ham       0.98      0.98      0.98       732\n",
      "        spam       0.96      0.96      0.96       303\n",
      "\n",
      "    accuracy                           0.98      1035\n",
      "   macro avg       0.97      0.97      0.97      1035\n",
      "weighted avg       0.98      0.98      0.98      1035\n",
      "\n",
      "Support Vector Classifier Accuracy: 0.9565217391304348\n",
      "Gaussian Naive Bayes Accuracy: 0.9632850241545894\n",
      "Multinomial Naive Bayes Accuracy: 0.9768115942028985\n"
     ]
    }
   ],
   "source": [
    "# Initialize the classifiers\n",
    "svc_classifier = SVC()\n",
    "gaussian_nb_classifier = GaussianNB()\n",
    "multinomial_nb_classifier = MultinomialNB()\n",
    "\n",
    "\n",
    "svc_classifier.fit(X_train, y_train)\n",
    "gaussian_nb_classifier.fit(X_train.toarray(), y_train)  # Convert X_train to array for GaussianNB\n",
    "multinomial_nb_classifier.fit(X_train, y_train)\n",
    "\n",
    "\n",
    "svc_predictions = svc_classifier.predict(X_test)\n",
    "gaussian_nb_predictions = gaussian_nb_classifier.predict(X_test.toarray())  # Convert X_test to array for GaussianNB\n",
    "multinomial_nb_predictions = multinomial_nb_classifier.predict(X_test)\n",
    "\n",
    "\n",
    "svc_accuracy = accuracy_score(y_test, svc_predictions)\n",
    "gaussian_nb_accuracy = accuracy_score(y_test, gaussian_nb_predictions)\n",
    "multinomial_nb_accuracy = accuracy_score(y_test, multinomial_nb_predictions)\n",
    "\n",
    "\n",
    "print(\"Support Vector Classifier Report:\")\n",
    "print(classification_report(y_test, svc_predictions))\n",
    "\n",
    "print(\"Gaussian Naive Bayes Report:\")\n",
    "print(classification_report(y_test, gaussian_nb_predictions))\n",
    "\n",
    "print(\"Multinomial Naive Bayes Report:\")\n",
    "print(classification_report(y_test, multinomial_nb_predictions))\n",
    "\n",
    "# Print accuracy scores\n",
    "print(\"Support Vector Classifier Accuracy:\", svc_accuracy)\n",
    "print(\"Gaussian Naive Bayes Accuracy:\", gaussian_nb_accuracy)\n",
    "print(\"Multinomial Naive Bayes Accuracy:\", multinomial_nb_accuracy)"
   ]
  },
  {
   "cell_type": "markdown",
   "metadata": {},
   "source": [
    "## PART II"
   ]
  },
  {
   "cell_type": "code",
   "execution_count": 14,
   "metadata": {},
   "outputs": [
    {
     "name": "stdout",
     "output_type": "stream",
     "text": [
      "     id                                              name  host_id  \\\n",
      "0  2539                Clean & quiet apt home by the park     2787   \n",
      "1  2595                             Skylit Midtown Castle     2845   \n",
      "2  3647               THE VILLAGE OF HARLEM....NEW YORK !     4632   \n",
      "3  3831                   Cozy Entire Floor of Brownstone     4869   \n",
      "4  5022  Entire Apt: Spacious Studio/Loft by central park     7192   \n",
      "\n",
      "     host_name neighbourhood_group neighbourhood  latitude  longitude  \\\n",
      "0         John            Brooklyn    Kensington  40.64749  -73.97237   \n",
      "1     Jennifer           Manhattan       Midtown  40.75362  -73.98377   \n",
      "2    Elisabeth           Manhattan        Harlem  40.80902  -73.94190   \n",
      "3  LisaRoxanne            Brooklyn  Clinton Hill  40.68514  -73.95976   \n",
      "4        Laura           Manhattan   East Harlem  40.79851  -73.94399   \n",
      "\n",
      "         room_type  price  minimum_nights  number_of_reviews last_review  \\\n",
      "0     Private room    149               1                  9  2018-10-19   \n",
      "1  Entire home/apt    225               1                 45  2019-05-21   \n",
      "2     Private room    150               3                  0         NaN   \n",
      "3  Entire home/apt     89               1                270  2019-07-05   \n",
      "4  Entire home/apt     80              10                  9  2018-11-19   \n",
      "\n",
      "   reviews_per_month  calculated_host_listings_count  availability_365  \n",
      "0               0.21                               6               365  \n",
      "1               0.38                               2               355  \n",
      "2                NaN                               1               365  \n",
      "3               4.64                               1               194  \n",
      "4               0.10                               1                 0  \n"
     ]
    }
   ],
   "source": [
    "import pandas as pd\n",
    "import numpy as np\n",
    "import matplotlib.pyplot as plt\n",
    "\n",
    "\n",
    "df = pd.read_csv(r\"C:\\Users\\20102\\conestoga\\AIA\\Fall2023\\practical_labs\\datasets\\Lab_2\\AB_NYC_2019.csv\")\n",
    "\n",
    "\n",
    "print(df.head())"
   ]
  },
  {
   "cell_type": "code",
   "execution_count": 15,
   "metadata": {},
   "outputs": [
    {
     "data": {
      "image/png": "[encoded data removed]",
      "text/plain": [
       "<Figure size 720x432 with 1 Axes>"
      ]
     },
     "metadata": {
      "needs_background": "light"
     },
     "output_type": "display_data"
    }
   ],
   "source": [
    "plt.figure(figsize=(10, 6))\n",
    "plt.hist(df['price'], bins=100, color='blue', alpha=0.7)\n",
    "plt.xlabel('Price per Night')\n",
    "plt.ylabel('Frequency')\n",
    "plt.title('Price Distribution')\n",
    "plt.show()"
   ]
  },
  {
   "cell_type": "code",
   "execution_count": 16,
   "metadata": {},
   "outputs": [
    {
     "data": {
      "image/png": "[encoded data removed]",
      "text/plain": [
       "<Figure size 720x432 with 1 Axes>"
      ]
     },
     "metadata": {
      "needs_background": "light"
     },
     "output_type": "display_data"
    }
   ],
   "source": [
    "from scipy import stats\n",
    "\n",
    "\n",
    "z_scores = np.abs(stats.zscore(df['price']))\n",
    "\n",
    "## 3 standard deviations\n",
    "threshold = 3\n",
    "\n",
    "\n",
    "df_no_outliers_zscore = df[(z_scores < threshold)]\n",
    "\n",
    "\n",
    "plt.figure(figsize=(10, 6))\n",
    "plt.hist(df_no_outliers_zscore['price'], bins=100, color='green', alpha=0.7)\n",
    "plt.xlabel('Price per Night')\n",
    "plt.ylabel('Frequency')\n",
    "plt.title('Price Distribution (Z-score approach)')\n",
    "plt.show()\n"
   ]
  },
  {
   "cell_type": "code",
   "execution_count": 17,
   "metadata": {},
   "outputs": [
    {
     "data": {
      "image/png": "[encoded data removed]",
      "text/plain": [
       "<Figure size 720x432 with 1 Axes>"
      ]
     },
     "metadata": {
      "needs_background": "light"
     },
     "output_type": "display_data"
    }
   ],
   "source": [
    "\n",
    "Q1 = df['price'].quantile(0.25)\n",
    "Q3 = df['price'].quantile(0.75)\n",
    "IQR = Q3 - Q1\n",
    "\n",
    "\n",
    "lower_whisker = Q1 - 1.5 * IQR\n",
    "upper_whisker = Q3 + 1.5 * IQR\n",
    "\n",
    "\n",
    "df_no_outliers_whiskers = df[(df['price'] >= lower_whisker) & (df['price'] <= upper_whisker)]\n",
    "\n",
    "\n",
    "plt.figure(figsize=(10, 6))\n",
    "plt.hist(df_no_outliers_whiskers['price'], bins=100, color='purple', alpha=0.7)\n",
    "plt.xlabel('Price per Night')\n",
    "plt.ylabel('Frequency')\n",
    "plt.title('Price Distribution (Whiskers approach)')\n",
    "plt.show()"
   ]
  },
  {
   "cell_type": "code",
   "execution_count": 19,
   "metadata": {},
   "outputs": [
    {
     "name": "stdout",
     "output_type": "stream",
     "text": [
      "Original dataset size: (48895, 16)\n",
      "no. of Data after Z-score: (48507, 16)\n",
      "no. of Data after Whiskers: (45923, 16)\n"
     ]
    }
   ],
   "source": [
    "# Compare the sizes of the cleaned datasets\n",
    "print(\"Original dataset size:\", df.shape)\n",
    "print(\"no. of Data after Z-score:\", df_no_outliers_zscore.shape)\n",
    "print(\"no. of Data after Whiskers:\", df_no_outliers_whiskers.shape)\n",
    "\n"
   ]
  },
  {
   "cell_type": "markdown",
   "metadata": {},
   "source": [
    "#### both approuches removed outliers and the wisker approuch gives us a better presentable data but i beleave that it removed data that shouldn't been removed. so if i want to know the general quantity of data and prices i will choose the wisker just for presentation but for more realistic data i will goo with the Z-score approuch"
   ]
  }
 ],
 "metadata": {
  "kernelspec": {
   "display_name": "base",
   "language": "python",
   "name": "python3"
  },
  "language_info": {
   "codemirror_mode": {
    "name": "ipython",
    "version": 3
   },
   "file_extension": ".py",
   "mimetype": "text/x-python",
   "name": "python",
   "nbconvert_exporter": "python",
   "pygments_lexer": "ipython3",
   "version": "3.9.7"
  }
 },
 "nbformat": 4,
 "nbformat_minor": 2
}
