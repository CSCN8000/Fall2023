{
 "cells": [
  {
   "cell_type": "code",
   "execution_count": 190,
   "metadata": {},
   "outputs": [
    {
     "data": {
      "text/plain": [
       "'1.25.2'"
      ]
     },
     "execution_count": 190,
     "metadata": {},
     "output_type": "execute_result"
    }
   ],
   "source": [
    "import numpy as np\n",
    "np.__version__"
   ]
  },
  {
   "cell_type": "code",
   "execution_count": 191,
   "metadata": {},
   "outputs": [
    {
     "name": "stdout",
     "output_type": "stream",
     "text": [
      "[ 1  4  7 10 13 16 19]\n"
     ]
    }
   ],
   "source": [
    "# 1. Create an array that starts from the integer 1, ends at 20, incremented by 3.\n",
    "arr = np.arange(start=1, stop=21, step=3)\n",
    "print(arr)"
   ]
  },
  {
   "cell_type": "code",
   "execution_count": 192,
   "metadata": {},
   "outputs": [
    {
     "name": "stdout",
     "output_type": "stream",
     "text": [
      "[0.81808118 0.94376178 0.55940974]\n"
     ]
    }
   ],
   "source": [
    "# 2. Create a new array of shape 3 with random numbers between 0 and 1.\n",
    "randomArr = np.random.random(3)\n",
    "print(randomArr)"
   ]
  },
  {
   "cell_type": "code",
   "execution_count": 200,
   "metadata": {},
   "outputs": [
    {
     "name": "stdout",
     "output_type": "stream",
     "text": [
      "First Two Rows: \n",
      " [[10 20 45]\n",
      " [30 12 16]]\n",
      "Last Two Rows: \n",
      " [[30 12 16]\n",
      " [42 17 56]]\n"
     ]
    }
   ],
   "source": [
    "# 3. Create a 2 D array `[[10,20,45], [30,12,16], [42,17,56]]` and perform the following operations: \n",
    "twoDimArr = np.array([[10, 20, 45], [30, 12, 16], [42, 17, 56]])\n",
    "\n",
    "# 3.1 Slice the 2D array to get the first two rows, slice the 2D array to get the last two rows.\n",
    "firstTwoRows = twoDimArr[0:2]\n",
    "lastTwoRows = twoDimArr[1:3]\n",
    "\n",
    "print(\"First Two Rows:\", \"\\n\", firstTwoRows)\n",
    "print(\"Last Two Rows:\", \"\\n\", lastTwoRows)"
   ]
  },
  {
   "cell_type": "code",
   "execution_count": 231,
   "metadata": {},
   "outputs": [
    {
     "name": "stdout",
     "output_type": "stream",
     "text": [
      "First 2x2 array: \n",
      " [[7 2]\n",
      " [9 4]]\n",
      "Second 2x2 array: \n",
      " [[ 5  6]\n",
      " [18  8]]\n",
      "Stacked vertically: \n",
      " [[ 7  2]\n",
      " [ 9  4]\n",
      " [ 5  6]\n",
      " [18  8]]\n",
      "Stacked horizontally: \n",
      " [[ 7  2  5  6]\n",
      " [ 9  4 18  8]]\n",
      "Splited array 1: \n",
      " [array([[7, 2]]), array([[9, 4]])]\n",
      "Splited array 2: \n",
      " [array([[5, 6]]), array([[18,  8]])]\n"
     ]
    }
   ],
   "source": [
    "# 4. Create two 2x2 arrays and demonstrate how you can stack the elements vertically, horizontally, and split the arrays into smaller arrays.\n",
    "arr1 = np.array([[7, 2], [9, 4]])\n",
    "arr2 = np.array([[5, 6], [18, 8]])\n",
    "\n",
    "print(\"First 2x2 array:\", \"\\n\", arr1)\n",
    "print(\"Second 2x2 array:\", \"\\n\", arr2)\n",
    "\n",
    "# Stack elements vertically & horizontally\n",
    "print(\"Stacked vertically:\", \"\\n\", np.vstack((arr1, arr2)))\n",
    "print(\"Stacked horizontally:\", \"\\n\", np.hstack((arr1, arr2)))\n",
    "\n",
    "# Split the arrays into smaller arrays\n",
    "print(\"Splited array 1:\", \"\\n\", np.split(arr1, 2))\n",
    "print(\"Splited array 2:\", \"\\n\", np.split(arr2, 2))"
   ]
  },
  {
   "cell_type": "code",
   "execution_count": 272,
   "metadata": {},
   "outputs": [
    {
     "name": "stdout",
     "output_type": "stream",
     "text": [
      "3x3 matrix (3, 3)\n",
      "3x3 matrix (3, 2)\n",
      "[[70 28]\n",
      " [70 30]\n",
      " [60 26]]\n"
     ]
    }
   ],
   "source": [
    "# 5. Create two matrices `X= ([[5, 7, 2], [4, 5, 6], [7, 4 ,2]]) Y= ([[4, 2], [6, 2], [4, 2]]),` \n",
    "\t# 5.1 Is it possible to multiply these matrices? \n",
    "\t# 5.2 Demonstrate the case when it is not possible to.\n",
    "\n",
    "x= np.array(([[5, 7, 2], [4, 5, 6], [7, 4 ,2]]) )\n",
    "y= np.array(([[4, 2], [6, 2], [4, 2]]))\n",
    "\n",
    "print(\"3x3 matrix\", x.shape)\n",
    "print(\"3x2 matrix\", y.shape)\n",
    "\n",
    "if x.shape[1] == y.shape[0]:\n",
    "    print(np.dot(x, y))"
   ]
  },
  {
   "cell_type": "markdown",
   "metadata": {},
   "source": [
    "#### When the number of the elements within an array is not equal in the two matrices, it is not possible to multiply them, in this case, we can observe it by looking at the second position of the shape function"
   ]
  },
  {
   "cell_type": "code",
   "execution_count": 318,
   "metadata": {},
   "outputs": [
    {
     "name": "stdout",
     "output_type": "stream",
     "text": [
      "Shape vector x: \n",
      " (3,)\n",
      "Dimensions vector x: \n",
      " 1\n",
      "Vector x reshaped: \n",
      " 2\n",
      "Vector y reshaped: \n",
      " 2\n"
     ]
    }
   ],
   "source": [
    "# 6. Create two arrays, `x = ([2, -1, -8]) y = ([3, 1, -2]),`\n",
    "#   - Find the Shape, Number of dimensions of vector x.\n",
    "#   - Reshape the vector x to a matrix of size (3,1) and determine the number of dimensions after reshaping y to a matrix of (3,1).\n",
    "x = np.array([2, -1, -8])\n",
    "y = np.array([3, 1, -2])\n",
    "shapeX = x.shape\n",
    "ndimX = x.ndim\n",
    "print(\"Shape vector x:\",\"\\n\",shapeX)\n",
    "print(\"Dimensions vector x:\",\"\\n\",ndimX)\n",
    " \n",
    "reshapedX = x.reshape(3, 1)\n",
    "reshapedY = y.reshape(3, 1)\n",
    "\n",
    "print(\"Vector x reshaped:\",\"\\n\",reshapedX.ndim)\n",
    "print(\"Vector y reshaped:\",\"\\n\",reshapedY.ndim)"
   ]
  },
  {
   "cell_type": "code",
   "execution_count": 319,
   "metadata": {},
   "outputs": [
    {
     "name": "stdout",
     "output_type": "stream",
     "text": [
      "Subtraction: [[ 0  8  8]\n",
      " [ 6  0  8]\n",
      " [-1  8  8]]\n",
      "Multiplication: [[ 7 63 63]\n",
      " [49  7 63]\n",
      " [ 0 63 63]]\n"
     ]
    }
   ],
   "source": [
    "# 7. How does broadcasting work? Demonstrate the subtraction, multiplication by considering a 3 x 3 matrix.\n",
    " \n",
    "threeDimMatrix = np.array([[1, 9, 9],\n",
    "                   [7, 1, 9],\n",
    "                   [0, 9, 9]])\n",
    "\n",
    "subtraction = threeDimMatrix - 1\n",
    "multiplication = threeDimMatrix * 7\n",
    "print(\"Subtraction:\", subtraction)\n",
    "print(\"Multiplication:\", multiplication)"
   ]
  },
  {
   "cell_type": "markdown",
   "metadata": {},
   "source": [
    "#### The broadcasting works when it's necessary to make an operation that affects all the values of the matrix, in this case, each operation will take effect on each value and then will generate another matrix with the new values"
   ]
  },
  {
   "cell_type": "markdown",
   "metadata": {},
   "source": [
    "### To determine the singularity of a system of linear equations, it's important to check the conditions beforehand. \n",
    "\n",
    "#### 1. A matrix is singular if its determinant is equal to zero.  \n",
    "\n",
    "#### 2. If the determinant is zero, the system could have no solutions or infinite solutions.\n",
    "\n",
    "#### It's possible to solve them by using numpy functions, there is a function in numpy that helps to find the determinant value and the other to solve them np.linalg.det(), np.linalg.solve()"
   ]
  },
  {
   "cell_type": "code",
   "execution_count": 327,
   "metadata": {},
   "outputs": [
    {
     "name": "stdout",
     "output_type": "stream",
     "text": [
      "Determinant of B1: -70.00000000000003\n",
      "Solution of B1: [ 1.8  2.4 -0.2]\n"
     ]
    }
   ],
   "source": [
    "b1 = np.array([[4, 1, -2],\n",
    "              [2, -3, 2],\n",
    "              [1, 2, 3]])\n",
    "\n",
    "values = np.array([10, -4, 6])\n",
    "\n",
    "determinantB1 = np.linalg.det(b1)\n",
    "print(\"Determinant of B1:\", determinantB1)\n",
    "\n",
    "solutionB1 = np.linalg.solve(b1, values)\n",
    "print(\"Solution of B1:\", solutionB1)\n"
   ]
  },
  {
   "cell_type": "code",
   "execution_count": 333,
   "metadata": {},
   "outputs": [
    {
     "name": "stdout",
     "output_type": "stream",
     "text": [
      "Determinant of B2: 0.0\n"
     ]
    }
   ],
   "source": [
    "b2 = np.array([[2, -1, 3, 4],\n",
    "              [4, -2, 6, 8],\n",
    "              [3, 1, -2, 2],\n",
    "              [1, 3, -4, 1]])\n",
    "\n",
    "values = np.array([10, 20, 3, -1])\n",
    "\n",
    "detB2 = np.linalg.det(b2)\n",
    "print(\"Determinant of B2:\", detB2)\n",
    "\n",
    "# solutionB2 = np.linalg.solve(b2, values)\n",
    "# print(\"Solution of B2:\", solutionB2)\n",
    "\n",
    "# It's not possible to solve it by numpy functions when the determinant of the matrix is 0 (singular)"
   ]
  }
 ],
 "metadata": {
  "kernelspec": {
   "display_name": "Python 3",
   "language": "python",
   "name": "python3"
  },
  "language_info": {
   "codemirror_mode": {
    "name": "ipython",
    "version": 3
   },
   "file_extension": ".py",
   "mimetype": "text/x-python",
   "name": "python",
   "nbconvert_exporter": "python",
   "pygments_lexer": "ipython3",
   "version": "3.11.5"
  },
  "orig_nbformat": 4
 },
 "nbformat": 4,
 "nbformat_minor": 2
}
