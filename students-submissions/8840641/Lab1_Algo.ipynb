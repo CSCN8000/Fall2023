{
 "cells": [
  {
   "cell_type": "markdown",
   "id": "32e2c841",
   "metadata": {},
   "source": [
    "Koonj Shah\n",
    "8840641"
   ]
  },
  {
   "cell_type": "markdown",
   "id": "6f491a04",
   "metadata": {},
   "source": [
    "# Lab 1 – Basic NumPy Operations\n"
   ]
  },
  {
   "cell_type": "markdown",
   "id": "b7110ea5",
   "metadata": {},
   "source": [
    "# Part A - Create a Notebook to demonstrate NumPy Operations\n"
   ]
  },
  {
   "cell_type": "markdown",
   "id": "2c2c9c01",
   "metadata": {},
   "source": [
    "1) Create an array that starts from the integer 1, ends at 20, incremented by 3."
   ]
  },
  {
   "cell_type": "code",
   "execution_count": 2,
   "id": "c7771b82",
   "metadata": {},
   "outputs": [],
   "source": [
    "import numpy as np"
   ]
  },
  {
   "cell_type": "code",
   "execution_count": 3,
   "id": "c2581109",
   "metadata": {},
   "outputs": [
    {
     "name": "stdout",
     "output_type": "stream",
     "text": [
      "Array of integers between 1 and 20 incrementing by 3:\n",
      "[ 1  4  7 10 13 16 19]\n"
     ]
    }
   ],
   "source": [
    "arrayOfInts = np.arange(1, 20, 3)\n",
    "print(\"Array of integers between 1 and 20 incrementing by 3:\")\n",
    "print(arrayOfInts)"
   ]
  },
  {
   "cell_type": "markdown",
   "id": "c28b81bd",
   "metadata": {},
   "source": [
    "2) Create a new array of shape 3 with random numbers between 0 and 1.\n"
   ]
  },
  {
   "cell_type": "code",
   "execution_count": 7,
   "id": "88e8e69f",
   "metadata": {},
   "outputs": [
    {
     "name": "stdout",
     "output_type": "stream",
     "text": [
      "Array of three random numbers between 0 and 1:\n",
      "[0.16590824 0.56134038 0.25437093]\n"
     ]
    }
   ],
   "source": [
    "random_Array = np.random.rand(3)\n",
    "print(\"Array of three random numbers between 0 and 1:\")\n",
    "print(random_Array)"
   ]
  },
  {
   "cell_type": "markdown",
   "id": "cda6716f",
   "metadata": {},
   "source": [
    "3) Create a 2 D array [[10,20,45], [30,12,16], [42,17,56]] and perform the following operations:\n",
    "Slice the 2D array to get the first two rows, slice the 2D array to get the last two rows."
   ]
  },
  {
   "cell_type": "code",
   "execution_count": 10,
   "id": "f01728db",
   "metadata": {},
   "outputs": [
    {
     "name": "stdout",
     "output_type": "stream",
     "text": [
      "Original Array:\n",
      "[[10 20 45]\n",
      " [30 12 16]\n",
      " [42 17 56]]\n",
      "\n",
      "First Two Rows:\n",
      "[[10 20 45]\n",
      " [30 12 16]]\n",
      "\n",
      "Last Two Rows:\n",
      "[[30 12 16]\n",
      " [42 17 56]]\n"
     ]
    }
   ],
   "source": [
    "ndArray1 = np.array([[10,20,45], [30,12,16], [42,17,56]])\n",
    "\n",
    "print(\"Original Array:\")\n",
    "print(ndArray1)\n",
    "print()\n",
    "print(\"First Two Rows:\")\n",
    "print(ndArray1[:2,])\n",
    "print()\n",
    "print(\"Last Two Rows:\")\n",
    "print(ndArray1[1:,])"
   ]
  },
  {
   "cell_type": "markdown",
   "id": "df65399f",
   "metadata": {},
   "source": [
    "4) Create two 2x2 arrays and demonstrate how you can stack the elements vertically, horizontally, and split the arrays into smaller arrays."
   ]
  },
  {
   "cell_type": "code",
   "execution_count": 14,
   "id": "4ab0cf04",
   "metadata": {},
   "outputs": [
    {
     "name": "stdout",
     "output_type": "stream",
     "text": [
      "Array 1:\n",
      "[[100 200]\n",
      " [300 400]]\n",
      "\n",
      "Array 2:\n",
      "[[500 600]\n",
      " [700 800]]\n",
      "\n",
      "Vertical Stack:\n",
      "[[100 200]\n",
      " [300 400]\n",
      " [500 600]\n",
      " [700 800]]\n",
      "\n",
      "Horizontal Stack:\n",
      "[[100 200 500 600]\n",
      " [300 400 700 800]]\n"
     ]
    }
   ],
   "source": [
    "array1234 = np.array([[100,200],\n",
    "                      [300,400]])\n",
    "array5678 = np.array([[500,600],\n",
    "                      [700,800]])\n",
    "vertArray = np.vstack([array1234, array5678])\n",
    "horArray = np.hstack([array1234, array5678])\n",
    "print(\"Array 1:\")\n",
    "print(array1234)\n",
    "print()\n",
    "print(\"Array 2:\")\n",
    "print(array5678)\n",
    "print()\n",
    "print(\"Vertical Stack:\")\n",
    "print(vertArray)\n",
    "print()\n",
    "print(\"Horizontal Stack:\")\n",
    "print(horArray)"
   ]
  },
  {
   "cell_type": "markdown",
   "id": "007b3207",
   "metadata": {},
   "source": [
    "5) Create two matrices X= ([[5, 7, 2], [4, 5, 6], [7, 4 ,2]]) Y= ([[4, 2], [6, 2], [4, 2]])\n",
    "\n",
    "Is it possible to multiply these matrices?\n",
    "\n",
    "Yes, It is possible to multiply these matrices as X has 3 columns, and Y has 3 rows, so matrix multiplication is possible.\n",
    "\n",
    "Demonstrate the case when it is not possible to.\n",
    "\n",
    "When the Matrix A has 3 columns, and matrix B has 3 rows. Since the number of columns in A does not match the number of rows in B, matrix multiplication is not possible for these matrices."
   ]
  },
  {
   "cell_type": "code",
   "execution_count": 15,
   "id": "d0502259",
   "metadata": {},
   "outputs": [
    {
     "name": "stdout",
     "output_type": "stream",
     "text": [
      "Matrix X (3x3):\n",
      "[[5 7 2]\n",
      " [4 5 6]\n",
      " [7 4 2]]\n",
      "\n",
      "Matrix Y (3x2):\n",
      "[[4 2]\n",
      " [6 2]\n",
      " [4 2]]\n",
      "\n",
      "Matrix X*Y (3x2):\n",
      "[[70 28]\n",
      " [70 30]\n",
      " [60 26]]\n"
     ]
    }
   ],
   "source": [
    "X = np.matrix([[5, 7, 2], [4, 5, 6], [7, 4 ,2]])\n",
    "Y = np.matrix([[4, 2], [6, 2], [4, 2]])\n",
    "\n",
    "print(\"Matrix X (3x3):\")\n",
    "print(X)\n",
    "print()\n",
    "print(\"Matrix Y (3x2):\")\n",
    "print(Y)\n",
    "print()\n",
    "print(\"Matrix X*Y (3x2):\")\n",
    "try:\n",
    "    print(X @ Y)\n",
    "except ValueError:\n",
    "    print(\"ERROR: the columns in X and the rows in Y must have equal length!\")"
   ]
  },
  {
   "cell_type": "code",
   "execution_count": 18,
   "id": "e9728f08",
   "metadata": {},
   "outputs": [
    {
     "name": "stdout",
     "output_type": "stream",
     "text": [
      "Matrix X (3x3):\n",
      "[[5 7 2]\n",
      " [4 5 6]\n",
      " [7 4 2]]\n",
      "\n",
      "Matrix Y (2x2):\n",
      "[[4 2]\n",
      " [6 2]]\n",
      "\n",
      "Matrix X*Y (Should Fail):\n",
      "ERROR: the columns in X and the rows in Y must have equal length!\n"
     ]
    }
   ],
   "source": [
    "Y = Y[:2,]\n",
    "\n",
    "print(\"Matrix X (3x3):\")\n",
    "print(X)\n",
    "print()\n",
    "print(\"Matrix Y (2x2):\")\n",
    "print(Y)\n",
    "print()\n",
    "print(\"Matrix X*Y (Should Fail):\")\n",
    "try:\n",
    "    print(X @ Y)\n",
    "except ValueError:\n",
    "    print(\"ERROR: the columns in X and the rows in Y must have equal length!\")"
   ]
  },
  {
   "cell_type": "markdown",
   "id": "3e6c9ed1",
   "metadata": {},
   "source": [
    "6) Create two arrays, x = ([2, -1, -8]) y = ([3, 1, -2]),\n",
    "Find the Shape, Number of dimensions of vector x.\n",
    "Reshape the vector x to a matrix of size (3,1) and determine the number of dimensions after reshaping y to a matrix of (3,1)."
   ]
  },
  {
   "cell_type": "code",
   "execution_count": 21,
   "id": "3c796ea8",
   "metadata": {},
   "outputs": [
    {
     "name": "stdout",
     "output_type": "stream",
     "text": [
      "Original array x: [ 2 -1 -8]\n",
      "Shape of x: (3,)\n",
      "Number of dimensions of x: 1\n",
      "\n",
      "Reshaped matrix x:\n",
      " [[ 2]\n",
      " [-1]\n",
      " [-8]]\n",
      "Number of dimensions after reshaping x: 2\n",
      "\n",
      "Reshaped matrix y:\n",
      " [[ 3]\n",
      " [ 1]\n",
      " [-2]]\n",
      "Number of dimensions after reshaping y: 2\n"
     ]
    }
   ],
   "source": [
    "\n",
    "x = np.array([2, -1, -8])\n",
    "y = np.array([3, 1, -2])\n",
    "\n",
    "\n",
    "shape_x = x.shape\n",
    "dimensions_x = x.ndim\n",
    "\n",
    "print(\"Original array x:\", x)\n",
    "print(\"Shape of x:\", shape_x)\n",
    "print(\"Number of dimensions of x:\", dimensions_x)\n",
    "\n",
    "\n",
    "x_reshaped = x.reshape((3, 1))\n",
    "\n",
    "\n",
    "y_reshaped = y.reshape((3, 1))\n",
    "\n",
    "\n",
    "dimensions_x_reshaped = x_reshaped.ndim\n",
    "dimensions_y_reshaped = y_reshaped.ndim\n",
    "\n",
    "print(\"\\nReshaped matrix x:\\n\", x_reshaped)\n",
    "print(\"Number of dimensions after reshaping x:\", dimensions_x_reshaped)\n",
    "\n",
    "print(\"\\nReshaped matrix y:\\n\", y_reshaped)\n",
    "print(\"Number of dimensions after reshaping y:\", dimensions_y_reshaped)"
   ]
  },
  {
   "cell_type": "markdown",
   "id": "6f069d0b",
   "metadata": {},
   "source": [
    "7) How does broadcasting work? \n",
    "\n",
    "Broadcasting is a feature in NumPy that allows for arithmetic operations between arrays of different shapes and dimensions, under certain conditions.Broadcasting provides a means of vectorizing array operations so that looping occurs in C instead of Python."
   ]
  },
  {
   "cell_type": "markdown",
   "id": "b151a379",
   "metadata": {},
   "source": [
    "Lets Demonstrate the subtraction, multiplication by considering a 3 x 3 matrix."
   ]
  },
  {
   "cell_type": "code",
   "execution_count": 26,
   "id": "bab86858",
   "metadata": {},
   "outputs": [
    {
     "name": "stdout",
     "output_type": "stream",
     "text": [
      "Original matrix:\n",
      " [[1 2 3]\n",
      " [4 5 6]\n",
      " [7 8 9]]\n",
      "\n",
      "Result of subtraction:\n",
      " [[-1  0  1]\n",
      " [ 2  3  4]\n",
      " [ 5  6  7]]\n",
      "\n",
      "Result of multiplication:\n",
      " [[ 2  4  6]\n",
      " [ 8 10 12]\n",
      " [14 16 18]]\n"
     ]
    }
   ],
   "source": [
    "\n",
    "matrix = np.array([[1, 2, 3],\n",
    "                   [4, 5, 6],\n",
    "                   [7, 8, 9]])\n",
    "\n",
    "\n",
    "s_subtraction = 2\n",
    "\n",
    "\n",
    "result_subtraction = matrix - s_subtraction\n",
    "\n",
    "result_multiplication = matrix * s_subtraction\n",
    "\n",
    "print(\"Original matrix:\\n\", matrix)\n",
    "print(\"\\nResult of subtraction:\\n\", result_subtraction)\n",
    "print(\"\\nResult of multiplication:\\n\", result_multiplication)\n"
   ]
  },
  {
   "cell_type": "markdown",
   "id": "905d8108",
   "metadata": {},
   "source": [
    "# Part B- Linear Equations"
   ]
  },
  {
   "cell_type": "markdown",
   "id": "18410809",
   "metadata": {},
   "source": [
    "# Part B.1"
   ]
  },
  {
   "cell_type": "code",
   "execution_count": 27,
   "id": "f67fcee9",
   "metadata": {},
   "outputs": [
    {
     "name": "stdout",
     "output_type": "stream",
     "text": [
      "The coefficient matrix is not singular.\n",
      "The system is expected to have a unique solution.\n"
     ]
    }
   ],
   "source": [
    "\n",
    "matrix_b1 = np.array([[4, 1, -2], [2, -3, 2], [1, 2, 3]])\n",
    "\n",
    "det_b1 = np.linalg.det(matrix_b1)\n",
    "\n",
    "if det_b1 == 0:\n",
    "    print(\"The coefficient matrix is singular.\")\n",
    "    print(\"The system may not have a unique solution.\")\n",
    "else:\n",
    "    print(\"The coefficient matrix is not singular.\")\n",
    "    print(\"The system is expected to have a unique solution.\")\n"
   ]
  },
  {
   "cell_type": "markdown",
   "id": "6b82ee5d",
   "metadata": {},
   "source": [
    "Let's solve the equations as it is non singular"
   ]
  },
  {
   "cell_type": "code",
   "execution_count": 29,
   "id": "34a80a85",
   "metadata": {},
   "outputs": [
    {
     "name": "stdout",
     "output_type": "stream",
     "text": [
      "\n",
      "Solution of the system:\n",
      "x = 1.7999999999999998\n",
      "y = 2.4\n",
      "z = -0.2\n"
     ]
    }
   ],
   "source": [
    "\n",
    "rhs = np.array([10, -4, 6])\n",
    "\n",
    "\n",
    "solution = np.linalg.solve(matrix_b1, rhs)\n",
    "\n",
    "print(\"\\nSolution of the system:\")\n",
    "print(\"x =\", solution[0])\n",
    "print(\"y =\", solution[1])\n",
    "print(\"z =\", solution[2])"
   ]
  },
  {
   "cell_type": "markdown",
   "id": "41a003c5",
   "metadata": {},
   "source": [
    "# Part B.2"
   ]
  },
  {
   "cell_type": "code",
   "execution_count": 37,
   "id": "d725d698",
   "metadata": {},
   "outputs": [
    {
     "name": "stdout",
     "output_type": "stream",
     "text": [
      "The matrix is singular.\n",
      "The system may not have a unique solution.\n"
     ]
    }
   ],
   "source": [
    "matrix_b2 = np.array([[2, -1, 3, 4], [4, -2, 6, 8], [3, 1, -2, 2], [1, 3, -4, 1]])\n",
    "\n",
    "det_b2 = np.linalg.det(matrix_b2)\n",
    "\n",
    "if det_b2 == 0:\n",
    "    print(\"The matrix is singular.\")\n",
    "    print(\"The system may not have a unique solution.\")\n",
    "else:\n",
    "    print(\"The matrix is not singular.\")\n",
    "    print(\"The system is expected to have a unique solution.\")\n"
   ]
  },
  {
   "cell_type": "code",
   "execution_count": 43,
   "id": "0f1d71e4",
   "metadata": {},
   "outputs": [
    {
     "ename": "LinAlgError",
     "evalue": "Singular matrix",
     "output_type": "error",
     "traceback": [
      "\u001b[0;31m---------------------------------------------------------------------------\u001b[0m",
      "\u001b[0;31mLinAlgError\u001b[0m                               Traceback (most recent call last)",
      "Cell \u001b[0;32mIn[43], line 3\u001b[0m\n\u001b[1;32m      1\u001b[0m rhs_b2 \u001b[38;5;241m=\u001b[39m np\u001b[38;5;241m.\u001b[39marray([\u001b[38;5;241m10\u001b[39m, \u001b[38;5;241m20\u001b[39m, \u001b[38;5;241m3\u001b[39m, \u001b[38;5;241m-\u001b[39m\u001b[38;5;241m1\u001b[39m])\n\u001b[0;32m----> 3\u001b[0m solution_b2 \u001b[38;5;241m=\u001b[39m \u001b[43mnp\u001b[49m\u001b[38;5;241;43m.\u001b[39;49m\u001b[43mlinalg\u001b[49m\u001b[38;5;241;43m.\u001b[39;49m\u001b[43msolve\u001b[49m\u001b[43m(\u001b[49m\u001b[43mmatrix_b2\u001b[49m\u001b[43m,\u001b[49m\u001b[43m \u001b[49m\u001b[43mrhs_b2\u001b[49m\u001b[43m)\u001b[49m\n\u001b[1;32m      5\u001b[0m \u001b[38;5;28mprint\u001b[39m(\u001b[38;5;124m\"\u001b[39m\u001b[38;5;124mx =\u001b[39m\u001b[38;5;124m\"\u001b[39m, solution_b2[\u001b[38;5;241m0\u001b[39m])\n\u001b[1;32m      6\u001b[0m \u001b[38;5;28mprint\u001b[39m(\u001b[38;5;124m\"\u001b[39m\u001b[38;5;124my =\u001b[39m\u001b[38;5;124m\"\u001b[39m, solution_b2[\u001b[38;5;241m1\u001b[39m])\n",
      "File \u001b[0;32m/Library/Frameworks/Python.framework/Versions/3.11/lib/python3.11/site-packages/numpy/linalg/linalg.py:409\u001b[0m, in \u001b[0;36msolve\u001b[0;34m(a, b)\u001b[0m\n\u001b[1;32m    407\u001b[0m signature \u001b[38;5;241m=\u001b[39m \u001b[38;5;124m'\u001b[39m\u001b[38;5;124mDD->D\u001b[39m\u001b[38;5;124m'\u001b[39m \u001b[38;5;28;01mif\u001b[39;00m isComplexType(t) \u001b[38;5;28;01melse\u001b[39;00m \u001b[38;5;124m'\u001b[39m\u001b[38;5;124mdd->d\u001b[39m\u001b[38;5;124m'\u001b[39m\n\u001b[1;32m    408\u001b[0m extobj \u001b[38;5;241m=\u001b[39m get_linalg_error_extobj(_raise_linalgerror_singular)\n\u001b[0;32m--> 409\u001b[0m r \u001b[38;5;241m=\u001b[39m \u001b[43mgufunc\u001b[49m\u001b[43m(\u001b[49m\u001b[43ma\u001b[49m\u001b[43m,\u001b[49m\u001b[43m \u001b[49m\u001b[43mb\u001b[49m\u001b[43m,\u001b[49m\u001b[43m \u001b[49m\u001b[43msignature\u001b[49m\u001b[38;5;241;43m=\u001b[39;49m\u001b[43msignature\u001b[49m\u001b[43m,\u001b[49m\u001b[43m \u001b[49m\u001b[43mextobj\u001b[49m\u001b[38;5;241;43m=\u001b[39;49m\u001b[43mextobj\u001b[49m\u001b[43m)\u001b[49m\n\u001b[1;32m    411\u001b[0m \u001b[38;5;28;01mreturn\u001b[39;00m wrap(r\u001b[38;5;241m.\u001b[39mastype(result_t, copy\u001b[38;5;241m=\u001b[39m\u001b[38;5;28;01mFalse\u001b[39;00m))\n",
      "File \u001b[0;32m/Library/Frameworks/Python.framework/Versions/3.11/lib/python3.11/site-packages/numpy/linalg/linalg.py:112\u001b[0m, in \u001b[0;36m_raise_linalgerror_singular\u001b[0;34m(err, flag)\u001b[0m\n\u001b[1;32m    111\u001b[0m \u001b[38;5;28;01mdef\u001b[39;00m \u001b[38;5;21m_raise_linalgerror_singular\u001b[39m(err, flag):\n\u001b[0;32m--> 112\u001b[0m     \u001b[38;5;28;01mraise\u001b[39;00m LinAlgError(\u001b[38;5;124m\"\u001b[39m\u001b[38;5;124mSingular matrix\u001b[39m\u001b[38;5;124m\"\u001b[39m)\n",
      "\u001b[0;31mLinAlgError\u001b[0m: Singular matrix"
     ]
    }
   ],
   "source": [
    "rhs_b2 = np.array([10, 20, 3, -1])\n",
    "\n",
    "solution_b2 = np.linalg.solve(matrix_b2, rhs_b2)\n",
    "\n",
    "print(\"x =\", solution_b2[0])\n",
    "print(\"y =\", solution_b2[1])\n",
    "print(\"z =\", solution_b2[2])\n",
    "print(\"w =\", solution_b2[3])"
   ]
  },
  {
   "cell_type": "code",
   "execution_count": null,
   "id": "7580add7",
   "metadata": {},
   "outputs": [],
   "source": []
  }
 ],
 "metadata": {
  "kernelspec": {
   "display_name": "Python 3 (ipykernel)",
   "language": "python",
   "name": "python3"
  },
  "language_info": {
   "codemirror_mode": {
    "name": "ipython",
    "version": 3
   },
   "file_extension": ".py",
   "mimetype": "text/x-python",
   "name": "python",
   "nbconvert_exporter": "python",
   "pygments_lexer": "ipython3",
   "version": "3.11.3"
  }
 },
 "nbformat": 4,
 "nbformat_minor": 5
}
