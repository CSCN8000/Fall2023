{
 "cells": [
  {
   "cell_type": "code",
   "execution_count": 7,
   "id": "ffe5d21c",
   "metadata": {},
   "outputs": [],
   "source": [
    "#Importing Libraries\n",
    "import pandas as pd\n",
    "import random\n",
    "import matplotlib.pyplot as plt\n",
    "from sklearn.feature_extraction.text import CountVectorizer\n",
    "from sklearn.model_selection import train_test_split\n",
    "from sklearn.svm import SVC\n",
    "from sklearn.naive_bayes import MultinomialNB, GaussianNB\n",
    "from sklearn.metrics import confusion_matrix, f1_score"
   ]
  },
  {
   "cell_type": "markdown",
   "id": "ffc50c90",
   "metadata": {},
   "source": [
    "Impoting Data"
   ]
  },
  {
   "cell_type": "code",
   "execution_count": 8,
   "id": "796b1004",
   "metadata": {},
   "outputs": [],
   "source": [
    "lab2_data = pd.read_csv('/Users/koonj/Desktop/AI:ML/AI:ML ALgo/Fall2023/Fall2023/practical_labs/datasets/Lab_2/Lab2_dataset.csv')"
   ]
  },
  {
   "cell_type": "code",
   "execution_count": 18,
   "id": "0d66b685",
   "metadata": {},
   "outputs": [
    {
     "data": {
      "text/html": [
       "<div>\n",
       "<style scoped>\n",
       "    .dataframe tbody tr th:only-of-type {\n",
       "        vertical-align: middle;\n",
       "    }\n",
       "\n",
       "    .dataframe tbody tr th {\n",
       "        vertical-align: top;\n",
       "    }\n",
       "\n",
       "    .dataframe thead th {\n",
       "        text-align: right;\n",
       "    }\n",
       "</style>\n",
       "<table border=\"1\" class=\"dataframe\">\n",
       "  <thead>\n",
       "    <tr style=\"text-align: right;\">\n",
       "      <th></th>\n",
       "      <th>Unnamed: 0</th>\n",
       "      <th>label</th>\n",
       "      <th>text</th>\n",
       "      <th>label_num</th>\n",
       "    </tr>\n",
       "  </thead>\n",
       "  <tbody>\n",
       "    <tr>\n",
       "      <th>0</th>\n",
       "      <td>605</td>\n",
       "      <td>ham</td>\n",
       "      <td>Subject: enron methanol ; meter # : 988291\\nth...</td>\n",
       "      <td>0</td>\n",
       "    </tr>\n",
       "    <tr>\n",
       "      <th>1</th>\n",
       "      <td>2349</td>\n",
       "      <td>ham</td>\n",
       "      <td>Subject: hpl nom for january 9 , 2001\\n( see a...</td>\n",
       "      <td>0</td>\n",
       "    </tr>\n",
       "    <tr>\n",
       "      <th>2</th>\n",
       "      <td>3624</td>\n",
       "      <td>ham</td>\n",
       "      <td>Subject: neon retreat\\nho ho ho , we ' re arou...</td>\n",
       "      <td>0</td>\n",
       "    </tr>\n",
       "    <tr>\n",
       "      <th>3</th>\n",
       "      <td>4685</td>\n",
       "      <td>spam</td>\n",
       "      <td>Subject: photoshop , windows , office . cheap ...</td>\n",
       "      <td>1</td>\n",
       "    </tr>\n",
       "    <tr>\n",
       "      <th>4</th>\n",
       "      <td>2030</td>\n",
       "      <td>ham</td>\n",
       "      <td>Subject: re : indian springs\\nthis deal is to ...</td>\n",
       "      <td>0</td>\n",
       "    </tr>\n",
       "  </tbody>\n",
       "</table>\n",
       "</div>"
      ],
      "text/plain": [
       "   Unnamed: 0 label                                               text  \\\n",
       "0         605   ham  Subject: enron methanol ; meter # : 988291\\nth...   \n",
       "1        2349   ham  Subject: hpl nom for january 9 , 2001\\n( see a...   \n",
       "2        3624   ham  Subject: neon retreat\\nho ho ho , we ' re arou...   \n",
       "3        4685  spam  Subject: photoshop , windows , office . cheap ...   \n",
       "4        2030   ham  Subject: re : indian springs\\nthis deal is to ...   \n",
       "\n",
       "   label_num  \n",
       "0          0  \n",
       "1          0  \n",
       "2          0  \n",
       "3          1  \n",
       "4          0  "
      ]
     },
     "execution_count": 18,
     "metadata": {},
     "output_type": "execute_result"
    }
   ],
   "source": [
    "lab2_data.head()"
   ]
  },
  {
   "cell_type": "markdown",
   "id": "a2be696e",
   "metadata": {},
   "source": [
    "# PART A"
   ]
  },
  {
   "cell_type": "code",
   "execution_count": 14,
   "id": "6223c6ce",
   "metadata": {},
   "outputs": [],
   "source": [
    "#Pre Prosessing"
   ]
  },
  {
   "cell_type": "code",
   "execution_count": 23,
   "id": "477b0d3f",
   "metadata": {},
   "outputs": [],
   "source": [
    "# use CountVectorizer to transform the \"text\" feature\n",
    "\n",
    "# transform the data\n",
    "vectorizer = CountVectorizer()\n",
    "X = vectorizer.fit_transform(lab2_data['text'])\n",
    "\n",
    "# toarray() making\n",
    "X_arr = X.toarray()\n",
    "\n",
    "# splitting to training and testing\n",
    "X_train, X_test, y_train, y_test = train_test_split(X_arr, \\\n",
    "                                                    lab2_data['label_num'], train_size= 0.6)"
   ]
  },
  {
   "cell_type": "markdown",
   "id": "c768f3ab",
   "metadata": {},
   "source": [
    "# Model training"
   ]
  },
  {
   "cell_type": "code",
   "execution_count": 24,
   "id": "b58d1617",
   "metadata": {},
   "outputs": [
    {
     "data": {
      "text/html": [
       "<style>#sk-container-id-2 {color: black;}#sk-container-id-2 pre{padding: 0;}#sk-container-id-2 div.sk-toggleable {background-color: white;}#sk-container-id-2 label.sk-toggleable__label {cursor: pointer;display: block;width: 100%;margin-bottom: 0;padding: 0.3em;box-sizing: border-box;text-align: center;}#sk-container-id-2 label.sk-toggleable__label-arrow:before {content: \"▸\";float: left;margin-right: 0.25em;color: #696969;}#sk-container-id-2 label.sk-toggleable__label-arrow:hover:before {color: black;}#sk-container-id-2 div.sk-estimator:hover label.sk-toggleable__label-arrow:before {color: black;}#sk-container-id-2 div.sk-toggleable__content {max-height: 0;max-width: 0;overflow: hidden;text-align: left;background-color: #f0f8ff;}#sk-container-id-2 div.sk-toggleable__content pre {margin: 0.2em;color: black;border-radius: 0.25em;background-color: #f0f8ff;}#sk-container-id-2 input.sk-toggleable__control:checked~div.sk-toggleable__content {max-height: 200px;max-width: 100%;overflow: auto;}#sk-container-id-2 input.sk-toggleable__control:checked~label.sk-toggleable__label-arrow:before {content: \"▾\";}#sk-container-id-2 div.sk-estimator input.sk-toggleable__control:checked~label.sk-toggleable__label {background-color: #d4ebff;}#sk-container-id-2 div.sk-label input.sk-toggleable__control:checked~label.sk-toggleable__label {background-color: #d4ebff;}#sk-container-id-2 input.sk-hidden--visually {border: 0;clip: rect(1px 1px 1px 1px);clip: rect(1px, 1px, 1px, 1px);height: 1px;margin: -1px;overflow: hidden;padding: 0;position: absolute;width: 1px;}#sk-container-id-2 div.sk-estimator {font-family: monospace;background-color: #f0f8ff;border: 1px dotted black;border-radius: 0.25em;box-sizing: border-box;margin-bottom: 0.5em;}#sk-container-id-2 div.sk-estimator:hover {background-color: #d4ebff;}#sk-container-id-2 div.sk-parallel-item::after {content: \"\";width: 100%;border-bottom: 1px solid gray;flex-grow: 1;}#sk-container-id-2 div.sk-label:hover label.sk-toggleable__label {background-color: #d4ebff;}#sk-container-id-2 div.sk-serial::before {content: \"\";position: absolute;border-left: 1px solid gray;box-sizing: border-box;top: 0;bottom: 0;left: 50%;z-index: 0;}#sk-container-id-2 div.sk-serial {display: flex;flex-direction: column;align-items: center;background-color: white;padding-right: 0.2em;padding-left: 0.2em;position: relative;}#sk-container-id-2 div.sk-item {position: relative;z-index: 1;}#sk-container-id-2 div.sk-parallel {display: flex;align-items: stretch;justify-content: center;background-color: white;position: relative;}#sk-container-id-2 div.sk-item::before, #sk-container-id-2 div.sk-parallel-item::before {content: \"\";position: absolute;border-left: 1px solid gray;box-sizing: border-box;top: 0;bottom: 0;left: 50%;z-index: -1;}#sk-container-id-2 div.sk-parallel-item {display: flex;flex-direction: column;z-index: 1;position: relative;background-color: white;}#sk-container-id-2 div.sk-parallel-item:first-child::after {align-self: flex-end;width: 50%;}#sk-container-id-2 div.sk-parallel-item:last-child::after {align-self: flex-start;width: 50%;}#sk-container-id-2 div.sk-parallel-item:only-child::after {width: 0;}#sk-container-id-2 div.sk-dashed-wrapped {border: 1px dashed gray;margin: 0 0.4em 0.5em 0.4em;box-sizing: border-box;padding-bottom: 0.4em;background-color: white;}#sk-container-id-2 div.sk-label label {font-family: monospace;font-weight: bold;display: inline-block;line-height: 1.2em;}#sk-container-id-2 div.sk-label-container {text-align: center;}#sk-container-id-2 div.sk-container {/* jupyter's `normalize.less` sets `[hidden] { display: none; }` but bootstrap.min.css set `[hidden] { display: none !important; }` so we also need the `!important` here to be able to override the default hidden behavior on the sphinx rendered scikit-learn.org. See: https://github.com/scikit-learn/scikit-learn/issues/21755 */display: inline-block !important;position: relative;}#sk-container-id-2 div.sk-text-repr-fallback {display: none;}</style><div id=\"sk-container-id-2\" class=\"sk-top-container\"><div class=\"sk-text-repr-fallback\"><pre>GaussianNB()</pre><b>In a Jupyter environment, please rerun this cell to show the HTML representation or trust the notebook. <br />On GitHub, the HTML representation is unable to render, please try loading this page with nbviewer.org.</b></div><div class=\"sk-container\" hidden><div class=\"sk-item\"><div class=\"sk-estimator sk-toggleable\"><input class=\"sk-toggleable__control sk-hidden--visually\" id=\"sk-estimator-id-2\" type=\"checkbox\" checked><label for=\"sk-estimator-id-2\" class=\"sk-toggleable__label sk-toggleable__label-arrow\">GaussianNB</label><div class=\"sk-toggleable__content\"><pre>GaussianNB()</pre></div></div></div></div></div>"
      ],
      "text/plain": [
       "GaussianNB()"
      ]
     },
     "execution_count": 24,
     "metadata": {},
     "output_type": "execute_result"
    }
   ],
   "source": [
    "# TRAINING CELL\n",
    "model1 = SVC()\n",
    "model1.fit(X_train, y_train)\n",
    "\n",
    "model2 = MultinomialNB()\n",
    "model2.fit(X_train, y_train)\n",
    "\n",
    "model3 = GaussianNB()\n",
    "model3.fit(X_train, y_train)"
   ]
  },
  {
   "cell_type": "code",
   "execution_count": 28,
   "id": "24778fd8",
   "metadata": {},
   "outputs": [
    {
     "name": "stdout",
     "output_type": "stream",
     "text": [
      "[[1417   44]\n",
      " [  32  576]]\n",
      "[[1441   20]\n",
      " [  32  576]]\n",
      "[[1442   19]\n",
      " [  66  542]]\n"
     ]
    }
   ],
   "source": [
    "# Evaluation\n",
    "y_pred1 = model1.predict(X_test)\n",
    "y_pred2 = model2.predict(X_test)\n",
    "y_pred3 = model3.predict(X_test)\n",
    "\n",
    "conf1 = confusion_matrix(y_test, y_pred1)\n",
    "conf2 = confusion_matrix(y_test, y_pred2)\n",
    "conf3 = confusion_matrix(y_test, y_pred3)\n",
    "\n",
    "# the count of true negatives is C_00, false negatives is C_10, \n",
    "# true positives C_11 is and false positives is C_01.\n",
    "print(conf1)\n",
    "print(conf2)\n",
    "print(conf3)"
   ]
  },
  {
   "cell_type": "code",
   "execution_count": 29,
   "id": "a6e495ab",
   "metadata": {},
   "outputs": [
    {
     "name": "stdout",
     "output_type": "stream",
     "text": [
      "0.9381107491856677 0.9568106312292358 0.9272882805816938\n"
     ]
    }
   ],
   "source": [
    "score1 = f1_score(y_test, y_pred1)\n",
    "score2 = f1_score(y_test, y_pred2)\n",
    "score3 = f1_score(y_test, y_pred3)\n",
    "\n",
    "print(score1, score2, score3)"
   ]
  },
  {
   "cell_type": "markdown",
   "id": "d763121d",
   "metadata": {},
   "source": [
    "In this model training and evaluation, three different classification models were trained on the given dataset: Support Vector Classifier (SVC), Multinomial Naive Bayes, and Gaussian Naive Bayes. After training, these models were evaluated using a test dataset, and their performance was assessed using confusion matrices and F1 scores.\n",
    "\n",
    "The confusion matrices reveal how well each model classified the test data. Here are the key observations from the confusion matrices:\n",
    "\n",
    "Support Vector Classifier (SVC):\n",
    "\n",
    "True Negatives (C_00): 1417\n",
    "False Negatives (C_10): 44\n",
    "True Positives (C_11): 576\n",
    "False Positives (C_01): 32\n",
    "Multinomial Naive Bayes:\n",
    "\n",
    "True Negatives (C_00): 1441\n",
    "False Negatives (C_10): 20\n",
    "True Positives (C_11): 576\n",
    "False Positives (C_01): 32\n",
    "Gaussian Naive Bayes:\n",
    "\n",
    "True Negatives (C_00): 1442\n",
    "False Negatives (C_10): 19\n",
    "True Positives (C_11): 542\n",
    "False Positives (C_01): 66\n",
    "Additionally, the F1 scores for each model were calculated as follows:\n",
    "\n",
    "SVC: 0.9381\n",
    "Multinomial Naive Bayes: 0.9568\n",
    "Gaussian Naive Bayes: 0.9273\n",
    "The F1 score is a metric that combines precision and recall, providing a single value to assess the model's overall performance. Based on these results, the Multinomial Naive Bayes model achieved the highest F1 score, indicating better overall performance in terms of classifying the test data. However, the choice of the best model may also depend on other factors, such as the specific goals of the classification task and the nature of the data. Further analysis and consideration of these factors may be necessary to make a final model selection."
   ]
  },
  {
   "cell_type": "markdown",
   "id": "32bb5e15",
   "metadata": {},
   "source": [
    "# Part B"
   ]
  },
  {
   "cell_type": "code",
   "execution_count": 39,
   "id": "82fb5a1f",
   "metadata": {},
   "outputs": [],
   "source": [
    "AB_NYCData = pd.read_csv('/Users/koonj/Desktop/AI:ML/AI:ML ALgo/Fall2023/Fall2023/practical_labs/datasets/Lab_2/AB_NYC_2019.csv')"
   ]
  },
  {
   "cell_type": "code",
   "execution_count": 49,
   "id": "a5fbac10",
   "metadata": {},
   "outputs": [],
   "source": [
    "def remove_outliers(data, method='Z-score'):\n",
    "    \n",
    "    print('\\n' + method + '\\n')\n",
    "    \n",
    "    print('Shape of the Data before removing the outliers:', data.shape)\n",
    "    \n",
    "    if method == 'Z-score':\n",
    "        # Removing Outliers using Z-score method with the standard 3 as threshold\n",
    "        z_scores = np.abs(stats.zscore(data['price']))\n",
    "        final_data = data[(z_scores < 3)]\n",
    "        \n",
    "    elif method == 'Whisker':\n",
    "        # Using Whisker Method to remove the outliers \n",
    "        quantile1 = data['price'].quantile(0.25)\n",
    "        quantile3 = data['price'].quantile(0.75)\n",
    "        iqr = quantile3 - quantile1\n",
    "        lower_range = quantile1 - 1.5 * iqr\n",
    "        upper_range = quantile3 + 1.5 * iqr\n",
    "        final_data = data[(data['price'] >= lower_range) & (data['price'] <= upper_range)]\n",
    "        \n",
    "    else:\n",
    "        final_data = data\n",
    "    \n",
    "    print('Shape of the Data frame after removing outliers using the', method, 'method:', final_data.shape)\n",
    "    print('The number of records deleted after removing outliers:', data.shape[0] - final_data.shape[0])\n",
    "    \n",
    "    \n",
    "    return final_data\n",
    "\n",
    "# Usage example:\n",
    "# final_data = remove_outliers(AB_NYCData, method='Z-score')\n",
    "# final_data = remove_outliers(AB_NYCData, method='Whisker')\n"
   ]
  },
  {
   "cell_type": "code",
   "execution_count": 52,
   "id": "4a1c4f88",
   "metadata": {},
   "outputs": [
    {
     "name": "stdout",
     "output_type": "stream",
     "text": [
      "\n",
      "Z-score\n",
      "\n",
      "Shape of the Data before removing the outliers: (48895, 16)\n",
      "Shape of the Data frame after removing outliers using the Z-score method: (48507, 16)\n",
      "The number of records deleted after removing outliers: 388\n",
      "\n",
      "Whisker\n",
      "\n",
      "Shape of the Data before removing the outliers: (48895, 16)\n",
      "Shape of the Data frame after removing outliers using the Whisker method: (45923, 16)\n",
      "The number of records deleted after removing outliers: 2972\n"
     ]
    }
   ],
   "source": [
    "AB_NYCData = pd.read_csv('/Users/koonj/Desktop/AI:ML/AI:ML ALgo/Fall2023/Fall2023/practical_labs/datasets/Lab_2/AB_NYC_2019.csv')\n",
    "\n",
    "# Define the remove_outliers function as previously shown\n",
    "\n",
    "methods = ['Z-score', 'Whisker']\n",
    "for method in methods:\n",
    "    final_data = remove_outliers(AB_NYCData, method)"
   ]
  },
  {
   "cell_type": "code",
   "execution_count": 60,
   "id": "ee006ae5",
   "metadata": {},
   "outputs": [
    {
     "data": {
      "image/png": "[encoded data removed]",
      "text/plain": [
       "<Figure size 640x480 with 1 Axes>"
      ]
     },
     "metadata": {},
     "output_type": "display_data"
    }
   ],
   "source": [
    "plt.hist(AB_NYCData['price'])\n",
    "plt.show()"
   ]
  },
  {
   "cell_type": "markdown",
   "id": "6b5102e8",
   "metadata": {},
   "source": [
    "Here are the observations:\n",
    "\n",
    "Using the Z-Score method resulted in the removal of approximately 388 records.\n",
    "On the other hand, applying the Whisker method led to the removal of roughly 2,972 records.\n"
   ]
  },
  {
   "cell_type": "code",
   "execution_count": null,
   "id": "7c102c34",
   "metadata": {},
   "outputs": [],
   "source": []
  }
 ],
 "metadata": {
  "kernelspec": {
   "display_name": "Python 3 (ipykernel)",
   "language": "python",
   "name": "python3"
  },
  "language_info": {
   "codemirror_mode": {
    "name": "ipython",
    "version": 3
   },
   "file_extension": ".py",
   "mimetype": "text/x-python",
   "name": "python",
   "nbconvert_exporter": "python",
   "pygments_lexer": "ipython3",
   "version": "3.11.3"
  }
 },
 "nbformat": 4,
 "nbformat_minor": 5
}
