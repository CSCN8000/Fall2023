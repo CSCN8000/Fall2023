{
 "cells": [
  {
   "cell_type": "markdown",
   "metadata": {},
   "source": [
    "Create an array that starts from the integer 1, ends at 20, incremented by 3."
   ]
  },
  {
   "cell_type": "code",
   "execution_count": 1,
   "metadata": {},
   "outputs": [
    {
     "name": "stdout",
     "output_type": "stream",
     "text": [
      "[1, 4, 7, 10, 13, 16, 19]\n"
     ]
    }
   ],
   "source": [
    "my_array = [i for i in range(1, 21, 3)]\n",
    "print(my_array)"
   ]
  },
  {
   "cell_type": "markdown",
   "metadata": {},
   "source": [
    "A new array of shape 3 with random numbers between 0 and 1. without comment"
   ]
  },
  {
   "cell_type": "code",
   "execution_count": 2,
   "metadata": {},
   "outputs": [
    {
     "name": "stdout",
     "output_type": "stream",
     "text": [
      "[0.51479709 0.64269278 0.60679456]\n"
     ]
    }
   ],
   "source": [
    "import numpy as np\n",
    "\n",
    "random_array = np.random.uniform(0, 1, 3)\n",
    "print(random_array)"
   ]
  },
  {
   "cell_type": "markdown",
   "metadata": {},
   "source": [
    "Create a 2 D array [[10,20,45], [30,12,16], [42,17,56]] and perform the following operations:\n",
    "Slice the 2D array to get the first two rows, slice the 2D array to get the last two rows. without comments"
   ]
  },
  {
   "cell_type": "code",
   "execution_count": 3,
   "metadata": {},
   "outputs": [
    {
     "name": "stdout",
     "output_type": "stream",
     "text": [
      "First two rows:\n",
      "[[10 20 45]\n",
      " [30 12 16]]\n",
      "Last two rows:\n",
      "[[30 12 16]\n",
      " [42 17 56]]\n"
     ]
    }
   ],
   "source": [
    "import numpy as np\n",
    "\n",
    "\n",
    "array_2d = np.array([[10, 20, 45], [30, 12, 16], [42, 17, 56]])\n",
    "\n",
    "\n",
    "first_two_rows = array_2d[:2]\n",
    "last_two_rows = array_2d[1:]\n",
    "print(\"First two rows:\")\n",
    "print(first_two_rows)\n",
    "print(\"Last two rows:\")\n",
    "print(last_two_rows)\n"
   ]
  },
  {
   "cell_type": "markdown",
   "metadata": {},
   "source": [
    "Create two 2x2 arrays and demonstrate how you can stack the elements vertically, horizontally, and split the arrays into smaller arrays. code without comment"
   ]
  },
  {
   "cell_type": "code",
   "execution_count": 4,
   "metadata": {},
   "outputs": [
    {
     "name": "stdout",
     "output_type": "stream",
     "text": [
      "Original Arrays:\n",
      "[[1 2]\n",
      " [3 4]]\n",
      "[[5 6]\n",
      " [7 8]]\n",
      "Stacked Vertically:\n",
      "[[1 2]\n",
      " [3 4]\n",
      " [5 6]\n",
      " [7 8]]\n",
      "Stacked Horizontally:\n",
      "[[1 2 5 6]\n",
      " [3 4 7 8]]\n",
      "Split Horizontally:\n",
      "[[1 2]\n",
      " [3 4]]\n",
      "[[5 6]\n",
      " [7 8]]\n",
      "Split Vertically:\n",
      "[[1 2]\n",
      " [3 4]]\n",
      "[[5 6]\n",
      " [7 8]]\n"
     ]
    }
   ],
   "source": [
    "import numpy as np\n",
    "\n",
    "\n",
    "array1 = np.array([[1, 2], [3, 4]])\n",
    "array2 = np.array([[5, 6], [7, 8]])\n",
    "vertical_stack = np.concatenate((array1, array2), axis=0)\n",
    "horizontal_stack = np.concatenate((array1, array2), axis=1)\n",
    "split_horizontal = np.split(horizontal_stack, 2, axis=1)\n",
    "split_vertical = np.split(vertical_stack, 2, axis=0)\n",
    "\n",
    "print(\"Original Arrays:\")\n",
    "print(array1)\n",
    "print(array2)\n",
    "\n",
    "print(\"Stacked Vertically:\")\n",
    "print(vertical_stack)\n",
    "\n",
    "print(\"Stacked Horizontally:\")\n",
    "print(horizontal_stack)\n",
    "\n",
    "print(\"Split Horizontally:\")\n",
    "for sub_array in split_horizontal:\n",
    "    print(sub_array)\n",
    "\n",
    "print(\"Split Vertically:\")\n",
    "for sub_array in split_vertical:\n",
    "    print(sub_array)\n"
   ]
  },
  {
   "cell_type": "markdown",
   "metadata": {},
   "source": [
    "\n",
    "Create two matrices X= ([[5, 7, 2], [4, 5, 6], [7, 4 ,2]]) Y= ([[4, 2], [6, 2], [4, 2]]),\n",
    "Is it possible to multiply these matrices?\n",
    "Demonstrate the case when it is not possible to. code without comments"
   ]
  },
  {
   "cell_type": "code",
   "execution_count": 5,
   "metadata": {},
   "outputs": [
    {
     "name": "stdout",
     "output_type": "stream",
     "text": [
      "Matrix Multiplication Result:\n",
      "[[70 28]\n",
      " [70 30]\n",
      " [60 26]]\n"
     ]
    }
   ],
   "source": [
    "import numpy as np\n",
    "\n",
    "X = np.array([[5, 7, 2], [4, 5, 6], [7, 4, 2]])\n",
    "Y = np.array([[4, 2], [6, 2], [4, 2]])\n",
    "\n",
    "if X.shape[1] == Y.shape[0]:\n",
    "    result = np.dot(X, Y)\n",
    "    print(\"Matrix Multiplication Result:\")\n",
    "    print(result)\n",
    "else:\n",
    "    print(\"Matrix multiplication is not possible due to incompatible dimensions.\")\n"
   ]
  },
  {
   "cell_type": "markdown",
   "metadata": {},
   "source": [
    "Create two arrays, x = ([2, -1, -8]) y = ([3, 1, -2]),\n",
    "Find the Shape, Number of dimensions of vector x.\n",
    "Reshape the vector x to a matrix of size (3,1) and determine the number of dimensions after reshaping y to a matrix of (3,1).  code without comment"
   ]
  },
  {
   "cell_type": "code",
   "execution_count": 6,
   "metadata": {},
   "outputs": [
    {
     "name": "stdout",
     "output_type": "stream",
     "text": [
      "Shape of x: (3,)\n",
      "Number of dimensions of x: 1\n",
      "Reshaped x:\n",
      "[[ 2]\n",
      " [-1]\n",
      " [-8]]\n",
      "Number of dimensions after reshaping y: 2\n"
     ]
    }
   ],
   "source": [
    "import numpy as np\n",
    "\n",
    "x = np.array([2, -1, -8])\n",
    "y = np.array([3, 1, -2])\n",
    "\n",
    "x_shape = x.shape\n",
    "x_dimensions = x.ndim\n",
    "\n",
    "x_reshaped = x.reshape(-1, 1)\n",
    "y_reshaped = y.reshape(-1, 1)\n",
    "y_reshaped_dimensions = y_reshaped.ndim\n",
    "\n",
    "print(\"Shape of x:\", x_shape)\n",
    "print(\"Number of dimensions of x:\", x_dimensions)\n",
    "\n",
    "print(\"Reshaped x:\")\n",
    "print(x_reshaped)\n",
    "\n",
    "print(\"Number of dimensions after reshaping y:\", y_reshaped_dimensions)\n"
   ]
  },
  {
   "cell_type": "markdown",
   "metadata": {},
   "source": [
    "How does broadcasting work? Demonstrate the subtraction, multiplication by considering a 3 x 3 matrix. a code without comment\n",
    "\n"
   ]
  },
  {
   "cell_type": "code",
   "execution_count": 7,
   "metadata": {},
   "outputs": [
    {
     "name": "stdout",
     "output_type": "stream",
     "text": [
      "Original Matrix:\n",
      "[[1 2 3]\n",
      " [4 5 6]\n",
      " [7 8 9]]\n",
      "Subtract [2, 2, 2]:\n",
      "[[-1  0  1]\n",
      " [ 2  3  4]\n",
      " [ 5  6  7]]\n",
      "Multiply by 2:\n",
      "[[ 2  4  6]\n",
      " [ 8 10 12]\n",
      " [14 16 18]]\n"
     ]
    }
   ],
   "source": [
    "import numpy as np\n",
    "\n",
    "\n",
    "matrix = np.array([[1, 2, 3],\n",
    "                   [4, 5, 6],\n",
    "                   [7, 8, 9]])\n",
    "\n",
    "result_subtraction = matrix - np.array([2, 2, 2])\n",
    "result_multiplication = matrix * 2\n",
    "\n",
    "print(\"Original Matrix:\")\n",
    "print(matrix)\n",
    "\n",
    "print(\"Subtract [2, 2, 2]:\")\n",
    "print(result_subtraction)\n",
    "\n",
    "print(\"Multiply by 2:\")\n",
    "print(result_multiplication)\n"
   ]
  },
  {
   "cell_type": "markdown",
   "metadata": {},
   "source": [
    "Linear Equation\n",
    "4x + y - 2z = 10\n",
    "2x - 3y + 2z = -4\n",
    "x + 2y + 3z = 6"
   ]
  },
  {
   "cell_type": "code",
   "execution_count": 8,
   "metadata": {},
   "outputs": [
    {
     "name": "stdout",
     "output_type": "stream",
     "text": [
      "Solution:\n",
      "x = 1.7999999999999998\n",
      "y = 2.4\n",
      "z = -0.2\n"
     ]
    }
   ],
   "source": [
    "import numpy as np\n",
    "\n",
    "\n",
    "A = np.array([[4, 1, -2],\n",
    "              [2, -3, 2],\n",
    "              [1, 2, 3]])\n",
    "B = np.array([10, -4, 6])\n",
    "X = np.linalg.solve(A, B)\n",
    "print(\"Solution:\")\n",
    "print(\"x =\", X[0])\n",
    "print(\"y =\", X[1])\n",
    "print(\"z =\", X[2])\n"
   ]
  },
  {
   "cell_type": "markdown",
   "metadata": {},
   "source": [
    "If det_A is not equal to zero, it means that the system can be solved using NumPy functions because the coefficient matrix is invertible."
   ]
  },
  {
   "cell_type": "markdown",
   "metadata": {},
   "source": [
    "2x - y + 3z + 4w = 10\n",
    "4x - 2y + 6z + 8w = 20\n",
    "3x + y - 2z + 2w = 3\n",
    "x + 3y - 4z + w = -1"
   ]
  },
  {
   "cell_type": "code",
   "execution_count": 9,
   "metadata": {},
   "outputs": [
    {
     "name": "stdout",
     "output_type": "stream",
     "text": [
      "The system of equations has no unique solution.\n"
     ]
    }
   ],
   "source": [
    "import numpy as np\n",
    "\n",
    "# Coefficient matrix A\n",
    "A = np.array([[2, -1, 3, 4],\n",
    "              [4, -2, 6, 8],\n",
    "              [3, 1, -2, 2],\n",
    "              [1, 3, -4, 1]])\n",
    "\n",
    "# Constants vector B\n",
    "B = np.array([10, 20, 3, -1])\n",
    "\n",
    "# Solve for X\n",
    "try:\n",
    "    X = np.linalg.solve(A, B)\n",
    "    print(\"Solution:\")\n",
    "    print(\"x =\", X[0])\n",
    "    print(\"y =\", X[1])\n",
    "    print(\"z =\", X[2])\n",
    "    print(\"w =\", X[3])\n",
    "except np.linalg.LinAlgError:\n",
    "    print(\"The system of equations has no unique solution.\")\n",
    "\n"
   ]
  },
  {
   "cell_type": "markdown",
   "metadata": {},
   "source": [
    "If det_A is not equal to zero, and the rank of A matches the rank of the augmented matrix [A|B], then the system can be solved using NumPy functions, and it has a unique solution."
   ]
  }
 ],
 "metadata": {
  "kernelspec": {
   "display_name": "Python 3",
   "language": "python",
   "name": "python3"
  },
  "language_info": {
   "codemirror_mode": {
    "name": "ipython",
    "version": 3
   },
   "file_extension": ".py",
   "mimetype": "text/x-python",
   "name": "python",
   "nbconvert_exporter": "python",
   "pygments_lexer": "ipython3",
   "version": "3.7.3"
  },
  "orig_nbformat": 4
 },
 "nbformat": 4,
 "nbformat_minor": 2
}
