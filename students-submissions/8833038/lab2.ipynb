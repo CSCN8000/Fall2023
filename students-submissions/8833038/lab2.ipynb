{
 "cells": [
  {
   "cell_type": "code",
   "execution_count": 1,
   "metadata": {},
   "outputs": [
    {
     "name": "stdout",
     "output_type": "stream",
     "text": [
      "Original Data:  48895\n",
      "Z-Score - outliers removed:  48507\n",
      "Whiskers - outliers removed  45923\n"
     ]
    }
   ],
   "source": [
    "#part b\n",
    "import pandas as pd\n",
    "import numpy as np\n",
    "\n",
    "data = pd.read_csv('AB_NYC_2019.csv')\n",
    "\n",
    "# Z-score\n",
    "zs = np.abs((data['price'] - data['price'].mean()) / data['price'].std())\n",
    "\n",
    "# Removing outliers\n",
    "data_zscore = data[zs < 3]\n",
    "\n",
    "\n",
    "#Calculating the interquartile range for the data\n",
    "q1 = data['price'].quantile(0.25)\n",
    "q3 = data['price'].quantile(0.75)\n",
    "iqr = q3 - q1\n",
    "\n",
    "#whiskers\n",
    "left = q1 - 1.5 * iqr\n",
    "right = q3 + 1.5 * iqr\n",
    "\n",
    "data_whisker = data[(data['price'] >= left) & (data['price'] <= right)]\n",
    "\n",
    "#data points before and after removing outliers\n",
    "print('Original Data: ', len(data))\n",
    "print('Z-Score - outliers removed: ', len(data_zscore))\n",
    "print('Whiskers - outliers removed ', len(data_whisker))\n",
    "\n"
   ]
  },
  {
   "cell_type": "markdown",
   "metadata": {},
   "source": [
    "<h2>\n",
    "\n",
    "Based on the observation, whiskers approach is a better approach as it has removed more outliers resulting in more accuracy.\n",
    "\n",
    "\n",
    "\n",
    "\n",
    "</h2>"
   ]
  },
  {
   "cell_type": "code",
   "execution_count": 2,
   "metadata": {},
   "outputs": [
    {
     "name": "stdout",
     "output_type": "stream",
     "text": [
      "SVC accuracy: 0.9652173913043478\n",
      "GaussianNB accuracy: 0.9545893719806763\n",
      "MultinomialNB accuracy: 0.978743961352657\n"
     ]
    }
   ],
   "source": [
    "#part a\n",
    "import pandas as pd\n",
    "\n",
    "from sklearn.svm import SVC\n",
    "from sklearn.metrics import accuracy_score\n",
    "from sklearn.model_selection import train_test_split\n",
    "from sklearn.feature_extraction.text import CountVectorizer\n",
    "from sklearn.naive_bayes import GaussianNB, MultinomialNB\n",
    "df = pd.read_csv('Lab2_dataset.csv')\n",
    "\n",
    "vectorizer = CountVectorizer()\n",
    "X = vectorizer.fit_transform(df['text'])\n",
    "\n",
    "y = df['label']\n",
    "x_train, x_test, y_train, y_test = train_test_split(X, y, test_size=0.2, random_state=42)\n",
    "\n",
    "svc = SVC()\n",
    "svc.fit(x_train, y_train)\n",
    "y_pred = svc.predict(x_test)\n",
    "accuracy1 = accuracy_score(y_test, y_pred)\n",
    "print(\"SVC accuracy:\", accuracy1)\n",
    "\n",
    "gnb = GaussianNB()\n",
    "gnb.fit(x_train.toarray(), y_train)\n",
    "y_pred = gnb.predict(x_test.toarray())\n",
    "accuracy2 = accuracy_score(y_test, y_pred)\n",
    "print(\"GaussianNB accuracy:\", accuracy2)\n",
    "\n",
    "mnb = MultinomialNB()\n",
    "mnb.fit(x_train, y_train)\n",
    "y_pred = mnb.predict(x_test)\n",
    "accuracy3 = accuracy_score(y_test, y_pred)\n",
    "print(\"MultinomialNB accuracy:\", accuracy3)\n",
    "\n",
    "\n",
    "\n",
    "\n"
   ]
  },
  {
   "cell_type": "markdown",
   "metadata": {},
   "source": [
    "<h2>\n",
    "MultinomialNB gives more accurate results as compared to other theorems. \n",
    "</h2>\n"
   ]
  }
 ],
 "metadata": {
  "kernelspec": {
   "display_name": "Python 3",
   "language": "python",
   "name": "python3"
  },
  "language_info": {
   "codemirror_mode": {
    "name": "ipython",
    "version": 3
   },
   "file_extension": ".py",
   "mimetype": "text/x-python",
   "name": "python",
   "nbconvert_exporter": "python",
   "pygments_lexer": "ipython3",
   "version": "3.11.6"
  }
 },
 "nbformat": 4,
 "nbformat_minor": 2
}
