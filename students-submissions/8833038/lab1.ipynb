{
 "cells": [
  {
   "cell_type": "code",
   "execution_count": 1,
   "metadata": {},
   "outputs": [
    {
     "data": {
      "text/plain": [
       "array([ 1,  4,  7, 10, 13, 16, 19])"
      ]
     },
     "execution_count": 1,
     "metadata": {},
     "output_type": "execute_result"
    }
   ],
   "source": [
    "import numpy as np\n",
    "np.arange(1,21,3) "
   ]
  },
  {
   "cell_type": "code",
   "execution_count": 2,
   "metadata": {},
   "outputs": [
    {
     "name": "stdout",
     "output_type": "stream",
     "text": [
      "[0.28997164 0.56500299 0.71102785]\n"
     ]
    }
   ],
   "source": [
    "#q2\n",
    "import numpy as np\n",
    "r=np.random.rand(3)\n",
    "print(r)"
   ]
  },
  {
   "cell_type": "code",
   "execution_count": 3,
   "metadata": {},
   "outputs": [
    {
     "name": "stdout",
     "output_type": "stream",
     "text": [
      "first two rows [[10 20 45]\n",
      " [30 12 16]]\n",
      "last two rows [[30 12 16]\n",
      " [42 17 56]]\n"
     ]
    }
   ],
   "source": [
    "x=np.array([[10,20,45], [30,12,16], [42,17,56]])\n",
    "print('first two rows',x[0:2])\n",
    "print('last two rows',x[1:])\n"
   ]
  },
  {
   "cell_type": "code",
   "execution_count": 4,
   "metadata": {},
   "outputs": [
    {
     "name": "stdout",
     "output_type": "stream",
     "text": [
      "[0.21143289 0.98105876]\n",
      "[0.01557859 0.52464195]\n",
      "[[0.21143289 0.98105876]\n",
      " [0.01557859 0.52464195]]\n",
      "[0.21143289 0.98105876 0.01557859 0.52464195]\n"
     ]
    }
   ],
   "source": [
    "#q4\n",
    "r=np.random.rand(2)\n",
    "print(r)\n",
    "p=np.random.rand(2)\n",
    "print(p)\n",
    "ver=np.vstack((r,p))\n",
    "print(ver)\n",
    "hor=np.hstack((r,p))\n",
    "print(hor)\n"
   ]
  },
  {
   "cell_type": "code",
   "execution_count": 5,
   "metadata": {},
   "outputs": [
    {
     "name": "stdout",
     "output_type": "stream",
     "text": [
      "[ 2 -1 -8]\n",
      "[ 3  1 -2]\n",
      "xshape= (3,)\n",
      "xdim= 1\n",
      "XRESHAPE [[ 2]\n",
      " [-1]\n",
      " [-8]]\n",
      "yshape= (3,)\n",
      "ydim= 1\n",
      "yRESHAPE [[ 3]\n",
      " [ 1]\n",
      " [-2]]\n"
     ]
    }
   ],
   "source": [
    "#q6\n",
    "x=np.array([2, -1, -8])\n",
    "y=np.array([3, 1, -2])\n",
    "print(x)\n",
    "print(y)\n",
    "xshape=x.shape\n",
    "xdimension=x.ndim\n",
    "print(\"xshape=\",xshape)\n",
    "print(\"xdim=\",xdimension)\n",
    "\n",
    "xreshape=x.reshape(3,1)\n",
    "print('XRESHAPE',xreshape)\n",
    "\n",
    "yshape=y.shape\n",
    "ydimension=y.ndim\n",
    "print(\"yshape=\",yshape)\n",
    "print(\"ydim=\",ydimension)\n",
    "\n",
    "yreshape=y.reshape(3,1)\n",
    "print('yRESHAPE',yreshape)\n",
    "\n"
   ]
  },
  {
   "cell_type": "code",
   "execution_count": 6,
   "metadata": {},
   "outputs": [
    {
     "name": "stdout",
     "output_type": "stream",
     "text": [
      "[[70 28]\n",
      " [70 30]\n",
      " [60 26]]\n"
     ]
    },
    {
     "data": {
      "text/plain": [
       "' the above example wwas for 3x2 martixs so its possipble to do dot product\\nbut if it was 2x3 matrix it was not possible to do so'"
      ]
     },
     "execution_count": 6,
     "metadata": {},
     "output_type": "execute_result"
    }
   ],
   "source": [
    "#5\n",
    "X= np.array([[5, 7, 2], [4, 5, 6], [7, 4 ,2]]) \n",
    "Y= np.array([[4, 2], [6, 2], [4, 2]])\n",
    "product=np.dot(X,Y)\n",
    "print(product)\n",
    "\"\"\" the above example wwas for 3x2 martixs so its possipble to do dot product\n",
    "but if it was 2x3 matrix it was not possible to do so\"\"\"\n"
   ]
  },
  {
   "cell_type": "code",
   "execution_count": 7,
   "metadata": {},
   "outputs": [
    {
     "name": "stdout",
     "output_type": "stream",
     "text": [
      "sub\n",
      "\n",
      "[[-2  0 -1]\n",
      " [ 0 -2 -1]\n",
      " [ 0 -2 -2]]\n",
      "\n",
      "add \n",
      "\n",
      "[[3 5 4]\n",
      " [5 3 4]\n",
      " [5 3 3]]\n",
      "\n",
      "multi \n",
      "\n",
      "[[2 6 4]\n",
      " [6 2 4]\n",
      " [6 2 2]]\n"
     ]
    }
   ],
   "source": [
    "#7\n",
    "A=np.random.randint(1,5,size=(3,3))\n",
    "\n",
    "\n",
    "s=A-3\n",
    "p=A+2\n",
    "m=A*2\n",
    "print(\"sub\",s, \"add \",p, \"multi \",m, sep=\"\\n\\n\")"
   ]
  },
  {
   "cell_type": "code",
   "execution_count": 8,
   "metadata": {},
   "outputs": [
    {
     "name": "stdout",
     "output_type": "stream",
     "text": [
      "determinant of A -70.00000000000003\n",
      "Solution(x,y,z) [ 1.8  2.4 -0.2]\n"
     ]
    }
   ],
   "source": [
    "#Part B\n",
    "A = np.array([[4,1,-2],[2,-3,2],[1,2,3]])\n",
    "det_A = np.linalg.det(A)\n",
    "print('determinant of A',det_A)\n",
    "\n",
    "B=np.array([10,-4,6])\n",
    "x=np.linalg.solve(A,B)\n",
    "print('Solution(x,y,z)',x)\n",
    "\n",
    "\n",
    "\n",
    "\n"
   ]
  },
  {
   "cell_type": "code",
   "execution_count": 9,
   "metadata": {},
   "outputs": [
    {
     "name": "stdout",
     "output_type": "stream",
     "text": [
      "determinant of A 0.0\n"
     ]
    }
   ],
   "source": [
    "A = np.array([[2,-1,3,4],[4,-2,6,8],[3,1,-2,2],[1,3,-4,1]])\n",
    "det_A = np.linalg.det(A)\n",
    "print('determinant of A',det_A)\n",
    "\n"
   ]
  }
 ],
 "metadata": {
  "kernelspec": {
   "display_name": "Python 3",
   "language": "python",
   "name": "python3"
  },
  "language_info": {
   "codemirror_mode": {
    "name": "ipython",
    "version": 3
   },
   "file_extension": ".py",
   "mimetype": "text/x-python",
   "name": "python",
   "nbconvert_exporter": "python",
   "pygments_lexer": "ipython3",
   "version": "3.11.5"
  },
  "orig_nbformat": 4
 },
 "nbformat": 4,
 "nbformat_minor": 2
}
