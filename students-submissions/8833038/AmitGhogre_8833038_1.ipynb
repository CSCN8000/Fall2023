{
 "cells": [
  {
   "cell_type": "markdown",
   "metadata": {},
   "source": [
    "Name : Amit Ghogre   Student id: 8833038   Section: 1"
   ]
  },
  {
   "cell_type": "code",
   "execution_count": 2,
   "metadata": {},
   "outputs": [],
   "source": [
    "import pandas as pd\n",
    "import numpy as np\n",
    "from scipy import stats\n",
    "import matplotlib.pyplot as plt\n",
    "from sklearn.preprocessing import MinMaxScaler\n",
    "import matplotlib.pyplot as plt\n",
    "import seaborn as sns\n",
    "from sklearn.model_selection import train_test_split\n",
    "from sklearn.linear_model import LinearRegression\n",
    "from sklearn.metrics import mean_absolute_error, mean_squared_error\n",
    "from sklearn.tree import DecisionTreeRegressor\n",
    "from sklearn.ensemble import RandomForestRegressor"
   ]
  },
  {
   "cell_type": "markdown",
   "metadata": {},
   "source": [
    "Detect and handle outliers for the “median_house_value” field using:\n",
    "a. Apply the whiskers approach to identify outlier rows."
   ]
  },
  {
   "cell_type": "code",
   "execution_count": 3,
   "metadata": {},
   "outputs": [
    {
     "name": "stdout",
     "output_type": "stream",
     "text": [
      "Left whisker:  -96337.5\n",
      "Right Whisker:  482162.5\n",
      "Outlier rows are following: \n",
      "       longitude  latitude  housing_median_age  total_rooms  total_bedrooms  \\\n",
      "19568    -118.37     33.81                33.0       5057.0           790.0   \n",
      "19569    -117.19     32.69                35.0       2921.0           438.0   \n",
      "19570    -117.87     33.60                34.0       3415.0           779.0   \n",
      "19571    -118.59     34.14                19.0       1303.0           155.0   \n",
      "19572    -122.18     37.81                30.0        292.0            38.0   \n",
      "...          ...       ...                 ...          ...             ...   \n",
      "20635    -118.90     34.14                35.0       1503.0           263.0   \n",
      "20636    -118.69     34.18                11.0       1177.0           138.0   \n",
      "20637    -118.80     34.19                 4.0      15572.0          2222.0   \n",
      "20638    -118.69     34.21                10.0       3663.0           409.0   \n",
      "20639    -118.85     34.27                50.0        187.0            33.0   \n",
      "\n",
      "       population  households  median_income  median_house_value  \\\n",
      "19568      2021.0       748.0         6.8553            482200.0   \n",
      "19569      1042.0       415.0         6.3612            482700.0   \n",
      "19570      1275.0       718.0         4.4980            482900.0   \n",
      "19571       450.0       145.0        10.5511            483100.0   \n",
      "19572       126.0        52.0         6.3624            483300.0   \n",
      "...           ...         ...            ...                 ...   \n",
      "20635       576.0       216.0         5.1457            500001.0   \n",
      "20636       415.0       119.0        10.0472            500001.0   \n",
      "20637      5495.0      2152.0         8.6499            500001.0   \n",
      "20638      1179.0       371.0        12.5420            500001.0   \n",
      "20639       130.0        35.0         3.3438            500001.0   \n",
      "\n",
      "      ocean_proximity  \n",
      "19568      NEAR OCEAN  \n",
      "19569      NEAR OCEAN  \n",
      "19570       <1H OCEAN  \n",
      "19571       <1H OCEAN  \n",
      "19572        NEAR BAY  \n",
      "...               ...  \n",
      "20635       <1H OCEAN  \n",
      "20636       <1H OCEAN  \n",
      "20637       <1H OCEAN  \n",
      "20638       <1H OCEAN  \n",
      "20639       <1H OCEAN  \n",
      "\n",
      "[1072 rows x 10 columns]\n"
     ]
    }
   ],
   "source": [
    "df = pd.read_csv('housing_dataset.csv') \n",
    "\n",
    "Q1 = df['median_house_value'].quantile(0.25)\n",
    "Q3 = df['median_house_value'].quantile(0.75)\n",
    "IQR = Q3 - Q1\n",
    "\n",
    "lower_bound = Q1 - 1.5 * IQR\n",
    "upper_bound = Q3 + 1.5 * IQR\n",
    "\n",
    "print(\"Left whisker: \",lower_bound)\n",
    "print(\"Right Whisker: \",upper_bound)\n",
    "\n",
    "outliers = df[(df['median_house_value'] < lower_bound) | (df['median_house_value'] > upper_bound)]\n",
    "print(\"Outlier rows are following: \",outliers,sep=\"\\n\")\n",
    "\n",
    "\n"
   ]
  },
  {
   "cell_type": "markdown",
   "metadata": {},
   "source": [
    "Apply Z-score normalization and choose appropriate threshold to match the\n",
    "outliers from the whiskers approach "
   ]
  },
  {
   "cell_type": "markdown",
   "metadata": {},
   "source": []
  },
  {
   "cell_type": "code",
   "execution_count": 4,
   "metadata": {},
   "outputs": [
    {
     "name": "stdout",
     "output_type": "stream",
     "text": [
      "no. of outliers:  1005\n",
      "       longitude  latitude  housing_median_age  total_rooms  total_bedrooms  \\\n",
      "19635    -122.71     37.88                21.0       2845.0           552.0   \n",
      "19636    -122.27     37.47                44.0       3022.0           473.0   \n",
      "19637    -122.26     37.45                17.0       2742.0           441.0   \n",
      "19638    -117.25     32.72                33.0       1677.0           228.0   \n",
      "19639    -121.97     37.25                21.0       2775.0           389.0   \n",
      "...          ...       ...                 ...          ...             ...   \n",
      "20635    -118.90     34.14                35.0       1503.0           263.0   \n",
      "20636    -118.69     34.18                11.0       1177.0           138.0   \n",
      "20637    -118.80     34.19                 4.0      15572.0          2222.0   \n",
      "20638    -118.69     34.21                10.0       3663.0           409.0   \n",
      "20639    -118.85     34.27                50.0        187.0            33.0   \n",
      "\n",
      "       population  households  median_income  median_house_value  \\\n",
      "19635       599.0       250.0         4.3125            495800.0   \n",
      "19636      1235.0       477.0         6.7058            495900.0   \n",
      "19637       986.0       421.0         5.9285            496000.0   \n",
      "19638       629.0       239.0         6.5970            496400.0   \n",
      "19639       856.0       350.0         7.9135            496400.0   \n",
      "...           ...         ...            ...                 ...   \n",
      "20635       576.0       216.0         5.1457            500001.0   \n",
      "20636       415.0       119.0        10.0472            500001.0   \n",
      "20637      5495.0      2152.0         8.6499            500001.0   \n",
      "20638      1179.0       371.0        12.5420            500001.0   \n",
      "20639       130.0        35.0         3.3438            500001.0   \n",
      "\n",
      "      ocean_proximity   z_score  \n",
      "19635      NEAR OCEAN  2.500740  \n",
      "19636      NEAR OCEAN  2.501607  \n",
      "19637      NEAR OCEAN  2.502474  \n",
      "19638      NEAR OCEAN  2.505941  \n",
      "19639       <1H OCEAN  2.505941  \n",
      "...               ...       ...  \n",
      "20635       <1H OCEAN  2.537159  \n",
      "20636       <1H OCEAN  2.537159  \n",
      "20637       <1H OCEAN  2.537159  \n",
      "20638       <1H OCEAN  2.537159  \n",
      "20639       <1H OCEAN  2.537159  \n",
      "\n",
      "[1005 rows x 11 columns]\n"
     ]
    }
   ],
   "source": [
    "\n",
    "# Z-score\n",
    "mean = df['median_house_value'].mean()\n",
    "std = df['median_house_value'].std()\n",
    "df['z_score'] = (df['median_house_value'] - mean) / std\n",
    "\n",
    "threshold = 2.5\n",
    "\n",
    "# Outlier rows\n",
    "outliers = df[df['z_score'] > threshold]\n",
    "print(\"no. of outliers: \",len(outliers))\n",
    "print(outliers)\n"
   ]
  },
  {
   "cell_type": "markdown",
   "metadata": {},
   "source": [
    "#2.a <br>\n",
    "Since the data is skewed, it is better to use the median to impute missing values. This is because the median is less sensitive to outliers than the mean, and therefore, is a more robust measure of central tendency for skewed data.\n"
   ]
  },
  {
   "cell_type": "code",
   "execution_count": 5,
   "metadata": {},
   "outputs": [
    {
     "name": "stdout",
     "output_type": "stream",
     "text": [
      "longitude               0\n",
      "latitude                0\n",
      "housing_median_age     11\n",
      "total_rooms            15\n",
      "total_bedrooms        207\n",
      "population             19\n",
      "households             14\n",
      "median_income           8\n",
      "median_house_value     80\n",
      "ocean_proximity       154\n",
      "z_score                80\n",
      "dtype: int64\n",
      "longitude               0\n",
      "latitude                0\n",
      "housing_median_age      0\n",
      "total_rooms             0\n",
      "total_bedrooms          0\n",
      "population              0\n",
      "households              0\n",
      "median_income           0\n",
      "median_house_value      0\n",
      "ocean_proximity       154\n",
      "z_score                 0\n",
      "dtype: int64\n"
     ]
    }
   ],
   "source": [
    "\n",
    "#Checking missing values\n",
    "print(df.isnull().sum())\n",
    "\n",
    "\n",
    "for col in df.columns:\n",
    "    if df[col].dtype != 'object':\n",
    "        if df[col].isnull().sum() > 0:\n",
    "            df[col].fillna(df[col].mean(), inplace=True)\n",
    "\n",
    "# Verifying\n",
    "print(df.isnull().sum())"
   ]
  },
  {
   "cell_type": "markdown",
   "metadata": {},
   "source": [
    "2.b <br>\n",
    "Working on categorical feature: ocean_proximity"
   ]
  },
  {
   "cell_type": "code",
   "execution_count": 6,
   "metadata": {},
   "outputs": [
    {
     "name": "stdout",
     "output_type": "stream",
     "text": [
      "missing values of ocean_proximity:  154\n",
      "Verifying no missing values of ocean_proximity:  0\n"
     ]
    }
   ],
   "source": [
    "# Check for missing values\n",
    "print(\"missing values of ocean_proximity: \",df['ocean_proximity'].isnull().sum())\n",
    "\n",
    "# Impute missing values with the mode\n",
    "df['ocean_proximity'].fillna(df['ocean_proximity'].mode()[0], inplace=True)\n",
    "\n",
    "# Verify that there are no missing values\n",
    "print(\"Verifying no missing values of ocean_proximity: \",df['ocean_proximity'].isnull().sum())"
   ]
  },
  {
   "cell_type": "markdown",
   "metadata": {},
   "source": []
  },
  {
   "cell_type": "code",
   "execution_count": null,
   "metadata": {},
   "outputs": [],
   "source": []
  },
  {
   "cell_type": "markdown",
   "metadata": {},
   "source": [
    "3. Investigate the existence of errors/inconsistencies in the fields and solve them <br>"
   ]
  },
  {
   "cell_type": "code",
   "execution_count": 7,
   "metadata": {},
   "outputs": [
    {
     "name": "stdout",
     "output_type": "stream",
     "text": [
      "          longitude      latitude  housing_median_age   total_rooms  \\\n",
      "count  20640.000000  20640.000000        20640.000000  20640.000000   \n",
      "mean    -119.569704     35.631861           28.633380   2636.314812   \n",
      "std        2.003532      2.135952           12.580813   2181.391445   \n",
      "min     -124.350000     32.540000            1.000000      2.000000   \n",
      "25%     -121.800000     33.930000           18.000000   1448.750000   \n",
      "50%     -118.490000     34.260000           29.000000   2127.000000   \n",
      "75%     -118.010000     37.710000           37.000000   3146.250000   \n",
      "max     -114.310000     41.950000           52.000000  39320.000000   \n",
      "\n",
      "       total_bedrooms    population    households  median_income  \\\n",
      "count    20640.000000  20640.000000  20640.000000   20640.000000   \n",
      "mean       537.870553   1425.785510    499.675555       3.871003   \n",
      "std        419.266592   1132.277835    382.275441       1.899601   \n",
      "min          1.000000      3.000000      1.000000       0.499900   \n",
      "25%        297.000000    788.000000    280.000000       2.563975   \n",
      "50%        438.000000   1167.000000    410.000000       3.536000   \n",
      "75%        643.250000   1724.000000    605.000000       4.742725   \n",
      "max       6445.000000  35682.000000   6082.000000      15.000100   \n",
      "\n",
      "       median_house_value       z_score  \n",
      "count        20640.000000  2.064000e+04  \n",
      "mean        207334.239348  1.321940e-16  \n",
      "std         115128.392810  9.980600e-01  \n",
      "min          14999.000000 -1.667374e+00  \n",
      "25%         120800.000000 -7.501743e-01  \n",
      "50%         180900.000000 -2.291612e-01  \n",
      "75%         264725.000000  4.975265e-01  \n",
      "max         500001.000000  2.537159e+00  \n",
      "['INLAND' '<1H OCEAN' 'NEAR BAY' 'NEAR OCEAN' 'inland' 'NEAR_bay' 'ISLAND']\n",
      "Empty DataFrame\n",
      "Columns: [longitude, latitude, housing_median_age, total_rooms, total_bedrooms, population, households, median_income, median_house_value, ocean_proximity, z_score]\n",
      "Index: []\n"
     ]
    }
   ],
   "source": [
    "\n",
    "print(df.describe())\n",
    "\n",
    "# Checking for inconsistent or incorrect values in categorical features\n",
    "print(df['ocean_proximity'].unique())\n",
    "\n",
    "# Checking for inconsistent or incorrect values in numerical features\n",
    "print(df[df['total_rooms'] == 0])\n",
    "\n",
    "# any errors or inconsistencies\n",
    "df = df[df['total_rooms'] > 0]"
   ]
  },
  {
   "cell_type": "markdown",
   "metadata": {},
   "source": [
    "#4 Normalize numerical features using appropriate method based on feature\n",
    "characteristics."
   ]
  },
  {
   "cell_type": "code",
   "execution_count": 8,
   "metadata": {},
   "outputs": [
    {
     "name": "stdout",
     "output_type": "stream",
     "text": [
      "          longitude      latitude  housing_median_age   total_rooms  \\\n",
      "count  20640.000000  20640.000000        20640.000000  20640.000000   \n",
      "mean    -119.569704     35.631861           28.633380   2636.314812   \n",
      "std        2.003532      2.135952           12.580813   2181.391445   \n",
      "min     -124.350000     32.540000            1.000000      2.000000   \n",
      "25%     -121.800000     33.930000           18.000000   1448.750000   \n",
      "50%     -118.490000     34.260000           29.000000   2127.000000   \n",
      "75%     -118.010000     37.710000           37.000000   3146.250000   \n",
      "max     -114.310000     41.950000           52.000000  39320.000000   \n",
      "\n",
      "       total_bedrooms    population    households  median_income  \\\n",
      "count    20640.000000  20640.000000  20640.000000   20640.000000   \n",
      "mean       537.870553   1425.785510    499.675555       3.871003   \n",
      "std        419.266592   1132.277835    382.275441       1.899601   \n",
      "min          1.000000      3.000000      1.000000       0.499900   \n",
      "25%        297.000000    788.000000    280.000000       2.563975   \n",
      "50%        438.000000   1167.000000    410.000000       3.536000   \n",
      "75%        643.250000   1724.000000    605.000000       4.742725   \n",
      "max       6445.000000  35682.000000   6082.000000      15.000100   \n",
      "\n",
      "       median_house_value  \n",
      "count        20640.000000  \n",
      "mean        207334.239348  \n",
      "std         115128.392810  \n",
      "min          14999.000000  \n",
      "25%         120800.000000  \n",
      "50%         180900.000000  \n",
      "75%         264725.000000  \n",
      "max         500001.000000  \n"
     ]
    },
    {
     "ename": "NameError",
     "evalue": "name 'StandardScaler' is not defined",
     "output_type": "error",
     "traceback": [
      "\u001b[1;31m---------------------------------------------------------------------------\u001b[0m",
      "\u001b[1;31mNameError\u001b[0m                                 Traceback (most recent call last)",
      "\u001b[1;32mc:\\Users\\Amit\\Desktop\\github\\youssefs_lab\\Fall2023\\Fall2023\\students-submissions\\8833038\\AmitGhogre_8833038_1.ipynb Cell 17\u001b[0m line \u001b[0;36m8\n\u001b[0;32m      <a href='vscode-notebook-cell:/c%3A/Users/Amit/Desktop/github/youssefs_lab/Fall2023/Fall2023/students-submissions/8833038/AmitGhogre_8833038_1.ipynb#X22sZmlsZQ%3D%3D?line=4'>5</a>\u001b[0m \u001b[39mprint\u001b[39m(df[num_features]\u001b[39m.\u001b[39mdescribe())\n\u001b[0;32m      <a href='vscode-notebook-cell:/c%3A/Users/Amit/Desktop/github/youssefs_lab/Fall2023/Fall2023/students-submissions/8833038/AmitGhogre_8833038_1.ipynb#X22sZmlsZQ%3D%3D?line=6'>7</a>\u001b[0m \u001b[39m# Normalize the numerical features using the appropriate method\u001b[39;00m\n\u001b[1;32m----> <a href='vscode-notebook-cell:/c%3A/Users/Amit/Desktop/github/youssefs_lab/Fall2023/Fall2023/students-submissions/8833038/AmitGhogre_8833038_1.ipynb#X22sZmlsZQ%3D%3D?line=7'>8</a>\u001b[0m scaler \u001b[39m=\u001b[39m StandardScaler() \u001b[39m# or MinMaxScaler()\u001b[39;00m\n\u001b[0;32m      <a href='vscode-notebook-cell:/c%3A/Users/Amit/Desktop/github/youssefs_lab/Fall2023/Fall2023/students-submissions/8833038/AmitGhogre_8833038_1.ipynb#X22sZmlsZQ%3D%3D?line=8'>9</a>\u001b[0m df[num_features] \u001b[39m=\u001b[39m scaler\u001b[39m.\u001b[39mfit_transform(df[num_features])\n\u001b[0;32m     <a href='vscode-notebook-cell:/c%3A/Users/Amit/Desktop/github/youssefs_lab/Fall2023/Fall2023/students-submissions/8833038/AmitGhogre_8833038_1.ipynb#X22sZmlsZQ%3D%3D?line=10'>11</a>\u001b[0m \u001b[39m# Verify that the numerical features are normalized\u001b[39;00m\n",
      "\u001b[1;31mNameError\u001b[0m: name 'StandardScaler' is not defined"
     ]
    }
   ],
   "source": [
    "\n",
    "# Identify the numerical features that need to be normalized\n",
    "num_features = ['longitude', 'latitude', 'housing_median_age', 'total_rooms', 'total_bedrooms', 'population', 'households', 'median_income', 'median_house_value']\n",
    "\n",
    "# Check the distribution of each numerical feature\n",
    "print(df[num_features].describe())\n",
    "\n",
    "# Normalize the numerical features using the appropriate method\n",
    "scaler = StandardScaler() # or MinMaxScaler()\n",
    "df[num_features] = scaler.fit_transform(df[num_features])\n",
    "\n",
    "# Verify that the numerical features are normalized\n",
    "print(df[num_features].describe())"
   ]
  },
  {
   "cell_type": "markdown",
   "metadata": {},
   "source": [
    "5 Encode categorical variables using using appropriate method based on feature\n",
    "characteristics."
   ]
  },
  {
   "cell_type": "code",
   "execution_count": null,
   "metadata": {},
   "outputs": [
    {
     "name": "stdout",
     "output_type": "stream",
     "text": [
      "   longitude  latitude  housing_median_age  total_rooms  total_bedrooms  \\\n",
      "0  -1.582392  1.909330           -1.003935    -1.091279       -1.103224   \n",
      "1   1.272636  0.359632           -0.765534    -0.924470       -0.709275   \n",
      "2   0.853366 -0.651651            1.856872    -0.840149       -0.642826   \n",
      "3  -1.797018  2.190242            0.585402    -1.163227       -1.210017   \n",
      "4   0.618775 -0.693788            0.823803    -0.982211       -0.877771   \n",
      "\n",
      "   population  households  median_income  median_house_value  \\\n",
      "0   -1.183632   -1.207324      -1.163364           -1.667415   \n",
      "1   -0.826102   -0.877822      -0.932145           -1.667415   \n",
      "2   -0.704277   -0.718302       0.169584           -1.667415   \n",
      "3   -1.242779   -1.285776      -1.755336           -1.667415   \n",
      "4   -1.030027   -0.945814      -0.791770           -1.645733   \n",
      "\n",
      "   ocean_proximity_<1H OCEAN  ocean_proximity_INLAND  ocean_proximity_ISLAND  \\\n",
      "0                      False                    True                   False   \n",
      "1                      False                    True                   False   \n",
      "2                      False                    True                   False   \n",
      "3                      False                    True                   False   \n",
      "4                       True                   False                   False   \n",
      "\n",
      "   ocean_proximity_NEAR BAY  ocean_proximity_NEAR OCEAN  \\\n",
      "0                     False                       False   \n",
      "1                     False                       False   \n",
      "2                     False                       False   \n",
      "3                     False                       False   \n",
      "4                     False                       False   \n",
      "\n",
      "   ocean_proximity_NEAR_bay  ocean_proximity_inland  \n",
      "0                     False                   False  \n",
      "1                     False                   False  \n",
      "2                     False                   False  \n",
      "3                     False                   False  \n",
      "4                     False                   False  \n"
     ]
    }
   ],
   "source": [
    "\n",
    "# Encoding\n",
    "df = pd.get_dummies(df, columns=['ocean_proximity'])\n",
    "\n",
    "# Verifying\n",
    "print(df.head())"
   ]
  },
  {
   "cell_type": "markdown",
   "metadata": {},
   "source": [
    "6. Engineer one new feature based on existing features"
   ]
  },
  {
   "cell_type": "code",
   "execution_count": null,
   "metadata": {},
   "outputs": [
    {
     "name": "stdout",
     "output_type": "stream",
     "text": [
      "   longitude  latitude  housing_median_age  total_rooms  total_bedrooms  \\\n",
      "0  -1.582392  1.909330           -1.003935    -1.091279       -1.103224   \n",
      "1   1.272636  0.359632           -0.765534    -0.924470       -0.709275   \n",
      "2   0.853366 -0.651651            1.856872    -0.840149       -0.642826   \n",
      "3  -1.797018  2.190242            0.585402    -1.163227       -1.210017   \n",
      "4   0.618775 -0.693788            0.823803    -0.982211       -0.877771   \n",
      "\n",
      "   population  households  median_income  median_house_value  \\\n",
      "0   -1.183632   -1.207324      -1.163364           -1.667415   \n",
      "1   -0.826102   -0.877822      -0.932145           -1.667415   \n",
      "2   -0.704277   -0.718302       0.169584           -1.667415   \n",
      "3   -1.242779   -1.285776      -1.755336           -1.667415   \n",
      "4   -1.030027   -0.945814      -0.791770           -1.645733   \n",
      "\n",
      "   ocean_proximity_<1H OCEAN  ocean_proximity_INLAND  ocean_proximity_ISLAND  \\\n",
      "0                      False                    True                   False   \n",
      "1                      False                    True                   False   \n",
      "2                      False                    True                   False   \n",
      "3                      False                    True                   False   \n",
      "4                       True                   False                   False   \n",
      "\n",
      "   ocean_proximity_NEAR BAY  ocean_proximity_NEAR OCEAN  \\\n",
      "0                     False                       False   \n",
      "1                     False                       False   \n",
      "2                     False                       False   \n",
      "3                     False                       False   \n",
      "4                     False                       False   \n",
      "\n",
      "   ocean_proximity_NEAR_bay  ocean_proximity_inland  bedroom_to_room_ratio  \\\n",
      "0                     False                   False               1.010945   \n",
      "1                     False                   False               0.767223   \n",
      "2                     False                   False               0.765133   \n",
      "3                     False                   False               1.040224   \n",
      "4                     False                   False               0.893668   \n",
      "\n",
      "   property_age  \n",
      "0   2024.003935  \n",
      "1   2023.765534  \n",
      "2   2021.143128  \n",
      "3   2022.414598  \n",
      "4   2022.176197  \n"
     ]
    }
   ],
   "source": [
    "# Engineer a new feature for bedroom to room ratio\n",
    "df['bedroom_to_room_ratio'] = df['total_bedrooms'] / df['total_rooms']\n",
    "# Engineer a new feature for age of the property\n",
    "df['property_age'] = 2023 - df['housing_median_age']\n",
    "# Verifying that the new features are added to the datas\n",
    "print(df.head())"
   ]
  },
  {
   "cell_type": "markdown",
   "metadata": {},
   "source": [
    "Descriptive Analytics Tasks (6 Points): <br>\n",
    "1. (3 points) Investigate the distribution of housing prices across different ocean proximities in\n",
    "California"
   ]
  },
  {
   "cell_type": "code",
   "execution_count": null,
   "metadata": {},
   "outputs": [
    {
     "name": "stderr",
     "output_type": "stream",
     "text": [
      "C:\\Users\\Amit\\AppData\\Local\\Packages\\PythonSoftwareFoundation.Python.3.11_qbz5n2kfra8p0\\LocalCache\\local-packages\\Python311\\site-packages\\seaborn\\_oldcore.py:1498: FutureWarning: is_categorical_dtype is deprecated and will be removed in a future version. Use isinstance(dtype, CategoricalDtype) instead\n",
      "  if pd.api.types.is_categorical_dtype(vector):\n",
      "C:\\Users\\Amit\\AppData\\Local\\Packages\\PythonSoftwareFoundation.Python.3.11_qbz5n2kfra8p0\\LocalCache\\local-packages\\Python311\\site-packages\\seaborn\\_oldcore.py:1498: FutureWarning: is_categorical_dtype is deprecated and will be removed in a future version. Use isinstance(dtype, CategoricalDtype) instead\n",
      "  if pd.api.types.is_categorical_dtype(vector):\n",
      "C:\\Users\\Amit\\AppData\\Local\\Packages\\PythonSoftwareFoundation.Python.3.11_qbz5n2kfra8p0\\LocalCache\\local-packages\\Python311\\site-packages\\seaborn\\_oldcore.py:1498: FutureWarning: is_categorical_dtype is deprecated and will be removed in a future version. Use isinstance(dtype, CategoricalDtype) instead\n",
      "  if pd.api.types.is_categorical_dtype(vector):\n"
     ]
    },
    {
     "data": {
      "image/png": "[encoded data removed]",
      "text/plain": [
       "<Figure size 1200x800 with 1 Axes>"
      ]
     },
     "metadata": {},
     "output_type": "display_data"
    }
   ],
   "source": [
    "df = pd.read_csv('housing_dataset.csv')\n",
    "plt.figure(figsize=(12, 8))\n",
    "sns.boxplot(x='ocean_proximity', y='median_house_value', data=df)\n",
    "plt.title('distribution of hosing price ocean proximity')\n",
    "plt.ylabel('median house value')\n",
    "plt.xlabel('ocean oroximity')\n",
    "plt.show()"
   ]
  },
  {
   "cell_type": "markdown",
   "metadata": {},
   "source": [
    " Analyze the relationship between median income and housing prices"
   ]
  },
  {
   "cell_type": "code",
   "execution_count": null,
   "metadata": {},
   "outputs": [
    {
     "name": "stderr",
     "output_type": "stream",
     "text": [
      "C:\\Users\\Amit\\AppData\\Local\\Packages\\PythonSoftwareFoundation.Python.3.11_qbz5n2kfra8p0\\LocalCache\\local-packages\\Python311\\site-packages\\seaborn\\_oldcore.py:1498: FutureWarning: is_categorical_dtype is deprecated and will be removed in a future version. Use isinstance(dtype, CategoricalDtype) instead\n",
      "  if pd.api.types.is_categorical_dtype(vector):\n",
      "C:\\Users\\Amit\\AppData\\Local\\Packages\\PythonSoftwareFoundation.Python.3.11_qbz5n2kfra8p0\\LocalCache\\local-packages\\Python311\\site-packages\\seaborn\\_oldcore.py:1498: FutureWarning: is_categorical_dtype is deprecated and will be removed in a future version. Use isinstance(dtype, CategoricalDtype) instead\n",
      "  if pd.api.types.is_categorical_dtype(vector):\n",
      "C:\\Users\\Amit\\AppData\\Local\\Packages\\PythonSoftwareFoundation.Python.3.11_qbz5n2kfra8p0\\LocalCache\\local-packages\\Python311\\site-packages\\seaborn\\_oldcore.py:1498: FutureWarning: is_categorical_dtype is deprecated and will be removed in a future version. Use isinstance(dtype, CategoricalDtype) instead\n",
      "  if pd.api.types.is_categorical_dtype(vector):\n",
      "C:\\Users\\Amit\\AppData\\Local\\Packages\\PythonSoftwareFoundation.Python.3.11_qbz5n2kfra8p0\\LocalCache\\local-packages\\Python311\\site-packages\\seaborn\\_oldcore.py:1119: FutureWarning: use_inf_as_na option is deprecated and will be removed in a future version. Convert inf values to NaN before operating instead.\n",
      "  with pd.option_context('mode.use_inf_as_na', True):\n"
     ]
    },
    {
     "name": "stderr",
     "output_type": "stream",
     "text": [
      "C:\\Users\\Amit\\AppData\\Local\\Packages\\PythonSoftwareFoundation.Python.3.11_qbz5n2kfra8p0\\LocalCache\\local-packages\\Python311\\site-packages\\seaborn\\_oldcore.py:1498: FutureWarning: is_categorical_dtype is deprecated and will be removed in a future version. Use isinstance(dtype, CategoricalDtype) instead\n",
      "  if pd.api.types.is_categorical_dtype(vector):\n",
      "C:\\Users\\Amit\\AppData\\Local\\Packages\\PythonSoftwareFoundation.Python.3.11_qbz5n2kfra8p0\\LocalCache\\local-packages\\Python311\\site-packages\\seaborn\\_oldcore.py:1119: FutureWarning: use_inf_as_na option is deprecated and will be removed in a future version. Convert inf values to NaN before operating instead.\n",
      "  with pd.option_context('mode.use_inf_as_na', True):\n"
     ]
    },
    {
     "data": {
      "text/plain": [
       "<seaborn.axisgrid.JointGrid at 0x260151a0fd0>"
      ]
     },
     "execution_count": 140,
     "metadata": {},
     "output_type": "execute_result"
    },
    {
     "data": {
      "image/png": "[encoded data removed]",
      "text/plain": [
       "<Figure size 600x600 with 3 Axes>"
      ]
     },
     "metadata": {},
     "output_type": "display_data"
    }
   ],
   "source": [
    "# Visualize the relationship between median income and housing prices using a scatter plot with a regression line\n",
    "sns.jointplot(x='median_income', y='median_house_value', data=df, kind='reg',color='orange')"
   ]
  },
  {
   "cell_type": "markdown",
   "metadata": {},
   "source": [
    "ML Model Training and Testing Tasks (14 Points):\n",
    "1. (1 point) Split the cleaned data into training and testing sets (e.g., 80% training, 20% testing)"
   ]
  },
  {
   "cell_type": "code",
   "execution_count": 9,
   "metadata": {},
   "outputs": [],
   "source": [
    "dfnew = pd.get_dummies(df, columns=['ocean_proximity'], drop_first=True)\n",
    "\n",
    "# Fill NaN values for numeric columns with their median\n",
    "for column in dfnew.select_dtypes(include=['float64', 'int64']).columns:\n",
    "    dfnew[column].fillna(dfnew[column].median(), inplace=True)\n",
    "\n",
    "# Assuming there are other categorical columns after encoding \n",
    "for column in dfnew.select_dtypes(exclude=['float64', 'int64']).columns:\n",
    "    mode_val = dfnew[column].mode()[0]\n",
    "    dfnew[column].fillna(mode_val, inplace=True)"
   ]
  },
  {
   "cell_type": "code",
   "execution_count": 10,
   "metadata": {},
   "outputs": [],
   "source": [
    "\n",
    "#separating features\n",
    "X = dfnew.drop('median_house_value', axis=1)\n",
    "y = dfnew['median_house_value']\n",
    "\n",
    "# Spliting dats\n",
    "X_train, X_test, y_train, y_test = train_test_split(X, y, test_size=0.2, random_state=42)"
   ]
  },
  {
   "cell_type": "markdown",
   "metadata": {},
   "source": [
    "2. Train a linear regression model as a baseline model."
   ]
  },
  {
   "cell_type": "code",
   "execution_count": null,
   "metadata": {},
   "outputs": [
    {
     "name": "stdout",
     "output_type": "stream",
     "text": [
      "Mean squared error: 4888061805.542042\n"
     ]
    }
   ],
   "source": [
    "model = LinearRegression()\n",
    "model.fit(X_train, y_train)\n",
    "# Evaluate the model\n",
    "y_pred = model.predict(X_test)\n",
    "mse = mean_squared_error(y_test, y_pred)\n",
    "print('Mean squared error:', mse)"
   ]
  },
  {
   "cell_type": "markdown",
   "metadata": {},
   "source": [
    "3) Print the learned coefficients (weights) of the model."
   ]
  },
  {
   "cell_type": "code",
   "execution_count": null,
   "metadata": {},
   "outputs": [
    {
     "name": "stdout",
     "output_type": "stream",
     "text": [
      "Learned coefficients:\n",
      "longitude : -27160.881626728373\n",
      "latitude : -25810.09064411229\n",
      "housing_median_age : 1044.367933596722\n",
      "total_rooms : -3.9732266870087187\n",
      "total_bedrooms : 76.56375690333789\n",
      "population : -44.310950408191275\n",
      "households : 78.94385083380848\n",
      "median_income : 38537.98168062622\n",
      "ocean_proximity_INLAND : -40083.01802575634\n",
      "ocean_proximity_ISLAND : 152825.16713826556\n",
      "ocean_proximity_NEAR BAY : -4122.8048850506075\n",
      "ocean_proximity_NEAR OCEAN : 4206.7433656409\n",
      "ocean_proximity_NEAR_bay : -89679.24924479544\n",
      "ocean_proximity_inland : -48703.69793202106\n"
     ]
    }
   ],
   "source": [
    "print('Learned coefficients:')\n",
    "for feature, coef in zip(X_train.columns, model.coef_):\n",
    "    print(feature, ':', coef)"
   ]
  },
  {
   "cell_type": "markdown",
   "metadata": {},
   "source": [
    "4) Evaluate the model's performance on the test set using the following metrics:\n",
    "a. Mean Absolute Error (MAE)\n",
    "b. Mean Squared Error (MSE)"
   ]
  },
  {
   "cell_type": "code",
   "execution_count": null,
   "metadata": {},
   "outputs": [
    {
     "name": "stdout",
     "output_type": "stream",
     "text": [
      "Evaluation metrics:\n",
      "Mean Absolute Error: 49972.221152144215\n",
      "Mean Squared Error: 4888061805.542042\n"
     ]
    }
   ],
   "source": [
    "y_pred = model.predict(X_test)\n",
    "mae = mean_absolute_error(y_test, y_pred)\n",
    "mse = mean_squared_error(y_test, y_pred)\n",
    "# Print the evaluation metrics\n",
    "print('Evaluation metrics:')\n",
    "print('Mean Absolute Error:', mae)\n",
    "print('Mean Squared Error:', mse)"
   ]
  },
  {
   "cell_type": "markdown",
   "metadata": {},
   "source": [
    "5) Try 2 other regression algorithms and compare their performance to the linear\n",
    "regression baseline"
   ]
  },
  {
   "cell_type": "code",
   "execution_count": null,
   "metadata": {},
   "outputs": [
    {
     "name": "stdout",
     "output_type": "stream",
     "text": [
      "Decision Tree Regression - Mean Absolute Error: 44215.56976744186\n",
      "Decision Tree Regression - Mean Squared Error: 4830618809.295543\n"
     ]
    }
   ],
   "source": [
    "\n",
    "dt_model = DecisionTreeRegressor()\n",
    "dt_model.fit(X_train, y_train)\n",
    "\n",
    "dt_pred = dt_model.predict(X_test)\n",
    "\n",
    "dt_mae = mean_absolute_error(y_test, dt_pred)\n",
    "dt_mse = mean_squared_error(y_test, dt_pred)\n",
    "\n",
    "print('Decision Tree Regression - Mean Absolute Error:', dt_mae)\n",
    "print('Decision Tree Regression - Mean Squared Error:', dt_mse)\n",
    "\n",
    "\n"
   ]
  },
  {
   "cell_type": "code",
   "execution_count": null,
   "metadata": {},
   "outputs": [
    {
     "name": "stdout",
     "output_type": "stream",
     "text": [
      "Random Forest Regression - Mean Absolute Error: 32119.64178052326\n",
      "Random Forest Regression - Mean Squared Error: 2431528542.9064927\n"
     ]
    }
   ],
   "source": [
    "rf_model = RandomForestRegressor()\n",
    "rf_model.fit(X_train, y_train)\n",
    "\n",
    "rf_pred = rf_model.predict(X_test)\n",
    "\n",
    "rf_mae = mean_absolute_error(y_test, rf_pred)\n",
    "rf_mse = mean_squared_error(y_test, rf_pred)\n",
    "\n",
    "print('Random Forest Regression - Mean Absolute Error:', rf_mae)\n",
    "print('Random Forest Regression - Mean Squared Error:', rf_mse)\n",
    "\n"
   ]
  }
 ],
 "metadata": {
  "kernelspec": {
   "display_name": "Python 3",
   "language": "python",
   "name": "python3"
  },
  "language_info": {
   "codemirror_mode": {
    "name": "ipython",
    "version": 3
   },
   "file_extension": ".py",
   "mimetype": "text/x-python",
   "name": "python",
   "nbconvert_exporter": "python",
   "pygments_lexer": "ipython3",
   "version": "3.11.6"
  }
 },
 "nbformat": 4,
 "nbformat_minor": 2
}
