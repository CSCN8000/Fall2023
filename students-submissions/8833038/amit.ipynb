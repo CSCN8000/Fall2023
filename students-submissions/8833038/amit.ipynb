{
  "cells": [
    {
      "cell_type": "markdown",
      "metadata": {
        "id": "Mta6IA_RP13C"
      },
      "source": [
        "Name : Amit Ghogre 8833038"
      ]
    },
    {
      "cell_type": "code",
      "execution_count": 1,
      "metadata": {
        "id": "2U6Eb-QH-csQ"
      },
      "outputs": [],
      "source": [
        "import pandas as pd\n",
        "from sklearn.preprocessing import LabelEncoder\n",
        "import matplotlib.pyplot as plt\n",
        "import seaborn as sns\n",
        "from sklearn.model_selection import train_test_split\n",
        "from sklearn.ensemble import RandomForestClassifier\n",
        "from sklearn.metrics import classification_report\n",
        "from sklearn.model_selection import train_test_split, GridSearchCV\n",
        "from sklearn.svm import SVC\n",
        "from sklearn.metrics import accuracy_score,precision_score, recall_score, f1_score\n"
      ]
    },
    {
      "cell_type": "markdown",
      "metadata": {
        "id": "VMB7C1v7QHNc"
      },
      "source": []
    },
    {
      "cell_type": "code",
      "execution_count": 2,
      "metadata": {
        "id": "ybZg5uD0-sGV"
      },
      "outputs": [],
      "source": [
        "\n",
        "data = pd.read_csv('breast_cancer.csv')\n",
        "\n",
        "# Converting the diagnosis column to numeric values\n",
        "label_encoder = LabelEncoder()\n",
        "data['diagnosis'] = label_encoder.fit_transform(data['diagnosis'])\n",
        "\n",
        "# correlation between numerical features\n",
        "numeric_data = data.select_dtypes(include=['float64','int64'])\n",
        "correlation_matrix = numeric_data.corr()"
      ]
    },
    {
      "cell_type": "markdown",
      "metadata": {
        "id": "1hhf-_YKW6ub"
      },
      "source": [
        "1. (2 point) Split the data into training and testing sets (e.g., 80% training, 20% testing)"
      ]
    },
    {
      "cell_type": "code",
      "execution_count": 3,
      "metadata": {
        "id": "WuDLBgEY-49C"
      },
      "outputs": [
        {
          "name": "stdout",
          "output_type": "stream",
          "text": [
            "Training set shape: (455, 31) (455,)\n",
            "Testing set shape: (114, 31) (114,)\n"
          ]
        }
      ],
      "source": [
        "\n",
        "# Split the data\n",
        "X = data.drop('diagnosis', axis=1)\n",
        "y = data['diagnosis']  # Target variable\n",
        "\n",
        "# Split the data into training and testing sets\n",
        "X_train, X_test, y_train, y_test = train_test_split(X, y, test_size=0.2, random_state=42)\n",
        "\n",
        "# Display the shapes of the training and testing sets\n",
        "print(\"Training set shape:\", X_train.shape, y_train.shape)\n",
        "print(\"Testing set shape:\", X_test.shape, y_test.shape)"
      ]
    },
    {
      "cell_type": "markdown",
      "metadata": {
        "id": "giCNTvb0W9DZ"
      },
      "source": [
        "Utilize the class weights approach to handle class imbalance in the following model\n",
        "training code"
      ]
    },
    {
      "cell_type": "code",
      "execution_count": 4,
      "metadata": {
        "id": "gARboIGEB_MB"
      },
      "outputs": [
        {
          "name": "stdout",
          "output_type": "stream",
          "text": [
            "              precision    recall  f1-score   support\n",
            "\n",
            "           0       0.96      0.99      0.97        71\n",
            "           1       0.98      0.93      0.95        43\n",
            "\n",
            "    accuracy                           0.96       114\n",
            "   macro avg       0.97      0.96      0.96       114\n",
            "weighted avg       0.97      0.96      0.96       114\n",
            "\n"
          ]
        }
      ],
      "source": [
        "# Utilize the class weights approach with RandomForestClassifier\n",
        "\n",
        "rf_model = RandomForestClassifier(class_weight='balanced')\n",
        "rf_model.fit(X_train, y_train)\n",
        "\n",
        "# Evaluate the model\n",
        "y_pred = rf_model.predict(X_test)\n",
        "print(classification_report(y_test, y_pred))"
      ]
    },
    {
      "cell_type": "code",
      "execution_count": null,
      "metadata": {
        "id": "YhDRXK91WiUS"
      },
      "outputs": [],
      "source": []
    },
    {
      "cell_type": "markdown",
      "metadata": {
        "id": "kiP76i_6XMl-"
      },
      "source": [
        "3. (10 points) Train the SVC model on the training set, however you need to do a comparison\n",
        "between the performance of the model on the validation set using different hyperparameter\n",
        "values:\n",
        "a. Need to try at least 5 different values of the “C” hyperparameter. (5 points)\n",
        "b. Need to compare between linear/poly degree 2/poly degree 3/ rbf /sigmoid kernels (5\n",
        "points)\n",
        "c. Note: You need to try out all the 25 different combinations of the C values and the\n",
        "kernels. The GridSearchCV function in sklearn could help with that."
      ]
    },
    {
      "cell_type": "code",
      "execution_count": null,
      "metadata": {
        "id": "E40jljZlC5lW"
      },
      "outputs": [],
      "source": [
        "param_grid = {'C': [0.1, 1, 2, 3, 4], 'kernel': ['linear', 'poly', 'rbf', 'sigmoid'], 'degree': [2, 3]}\n",
        "\n",
        "# Create the SVC model\n",
        "svc = SVC()\n",
        "\n",
        "# Perform GridSearchCV\n",
        "grid_search = GridSearchCV(svc, param_grid, cv=5, scoring='accuracy')\n",
        "grid_search.fit(X_train, y_train)\n",
        "\n",
        "# Print the best parameters and the performance on the validation set\n",
        "print(\"Best parameters: \", grid_search.best_params_)\n",
        "y_pred = grid_search.predict(X_test)\n",
        "print(classification_report(y_test, y_pred))"
      ]
    },
    {
      "cell_type": "markdown",
      "metadata": {
        "id": "uRGf5A8XP0G3"
      },
      "source": [
        " Evaluate the top performing model's performance on the test set using the following\n",
        "metrics:\n",
        "a. Accuracy / Precision / Recall / F1-Score"
      ]
    },
    {
      "cell_type": "code",
      "execution_count": null,
      "metadata": {
        "id": "NooeT0y7ITfG"
      },
      "outputs": [],
      "source": [
        "y_pred = grid_search.predict(X_test) #on test data\n",
        "print(\"Accuracy:\", accuracy_score(y_test, y_pred))\n",
        "print(\"Pecision:\", precision_score(y_test, y_pred, pos_label='M', zero_division=1)) #did zero division because the precision was coming 0\n",
        "print(\"Recall:\", recall_score(y_test, y_pred, pos_label='M', zero_division=1))\n",
        "print(\"F1:\", f1_score(y_test, y_pred, pos_label='M', zero_division=1))"
      ]
    },
    {
      "cell_type": "markdown",
      "metadata": {},
      "source": [
        "the code was taking long to load bcause of my system issues"
      ]
    }
  ],
  "metadata": {
    "colab": {
      "provenance": []
    },
    "kernelspec": {
      "display_name": "Python 3",
      "name": "python3"
    },
    "language_info": {
      "codemirror_mode": {
        "name": "ipython",
        "version": 3
      },
      "file_extension": ".py",
      "mimetype": "text/x-python",
      "name": "python",
      "nbconvert_exporter": "python",
      "pygments_lexer": "ipython3",
      "version": "3.11.6"
    }
  },
  "nbformat": 4,
  "nbformat_minor": 0
}
