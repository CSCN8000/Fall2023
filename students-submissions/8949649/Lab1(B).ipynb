{
 "cells": [
  {
   "cell_type": "code",
   "execution_count": 1,
   "metadata": {},
   "outputs": [
    {
     "name": "stdout",
     "output_type": "stream",
     "text": [
      "The solution for x, y, and z is: [ 1.8  2.4 -0.2]\n"
     ]
    }
   ],
   "source": [
    "#   System of Equations is \n",
    "#   4x + y - 2z = 10, 2x - 3y + 2z = -4, x + 2y + 3z = 6\n",
    "#   Yes, It can be solved using nummpy as all the equations are linearly independent\n",
    "#   also the determinant of cofficient matrix will be non zero which makes it non singular\n",
    "\n",
    "import numpy as np\n",
    "\n",
    "# Coefficient matrix\n",
    "a = np.array([[4, 1, -2], [2, -3, 2], [1, 2, 3]])\n",
    "\n",
    "# Ordinate or \"dependent variable\" values\n",
    "b = np.array([10, -4, 6])\n",
    "\n",
    "# Solve the system of equations\n",
    "x = np.linalg.solve(a, b)\n",
    "\n",
    "print(\"The solution for x, y, and z is:\", x)\n"
   ]
  },
  {
   "cell_type": "code",
   "execution_count": 2,
   "metadata": {},
   "outputs": [
    {
     "ename": "TypeError",
     "evalue": "array() takes from 1 to 2 positional arguments but 4 were given",
     "output_type": "error",
     "traceback": [
      "\u001b[1;31m---------------------------------------------------------------------------\u001b[0m",
      "\u001b[1;31mTypeError\u001b[0m                                 Traceback (most recent call last)",
      "\u001b[1;32mc:\\Users\\singh\\OneDrive\\Desktop\\Aerish\\youssef\\Fall2023\\students-submissions\\8949649\\Lab1(B).ipynb Cell 2\u001b[0m line \u001b[0;36m9\n\u001b[0;32m      <a href='vscode-notebook-cell:/c%3A/Users/singh/OneDrive/Desktop/Aerish/youssef/Fall2023/students-submissions/8949649/Lab1%28B%29.ipynb#W1sZmlsZQ%3D%3D?line=0'>1</a>\u001b[0m \u001b[39m#   Now the stwm of equations is \u001b[39;00m\n\u001b[0;32m      <a href='vscode-notebook-cell:/c%3A/Users/singh/OneDrive/Desktop/Aerish/youssef/Fall2023/students-submissions/8949649/Lab1%28B%29.ipynb#W1sZmlsZQ%3D%3D?line=1'>2</a>\u001b[0m \u001b[39m#   2x - y + 3z + 4w = 10 --------(1)\u001b[39;00m\n\u001b[0;32m      <a href='vscode-notebook-cell:/c%3A/Users/singh/OneDrive/Desktop/Aerish/youssef/Fall2023/students-submissions/8949649/Lab1%28B%29.ipynb#W1sZmlsZQ%3D%3D?line=2'>3</a>\u001b[0m \u001b[39m#   4x - 2y + 6z + 8w = 20 -------(2) \u001b[39;00m\n\u001b[1;32m   (...)\u001b[0m\n\u001b[0;32m      <a href='vscode-notebook-cell:/c%3A/Users/singh/OneDrive/Desktop/Aerish/youssef/Fall2023/students-submissions/8949649/Lab1%28B%29.ipynb#W1sZmlsZQ%3D%3D?line=5'>6</a>\u001b[0m \u001b[39m#   As equation (1) can be written as linear combination of equation (2) by simply multiplying it by 2 \u001b[39;00m\n\u001b[0;32m      <a href='vscode-notebook-cell:/c%3A/Users/singh/OneDrive/Desktop/Aerish/youssef/Fall2023/students-submissions/8949649/Lab1%28B%29.ipynb#W1sZmlsZQ%3D%3D?line=6'>7</a>\u001b[0m \u001b[39m#   Now this System of equations cannot be solved by using numpy as shown below\u001b[39;00m\n\u001b[1;32m----> <a href='vscode-notebook-cell:/c%3A/Users/singh/OneDrive/Desktop/Aerish/youssef/Fall2023/students-submissions/8949649/Lab1%28B%29.ipynb#W1sZmlsZQ%3D%3D?line=8'>9</a>\u001b[0m a \u001b[39m=\u001b[39m np\u001b[39m.\u001b[39;49marray([\u001b[39m2\u001b[39;49m, \u001b[39m-\u001b[39;49m\u001b[39m1\u001b[39;49m, \u001b[39m3\u001b[39;49m, \u001b[39m4\u001b[39;49m], [\u001b[39m4\u001b[39;49m, \u001b[39m-\u001b[39;49m\u001b[39m2\u001b[39;49m, \u001b[39m6\u001b[39;49m, \u001b[39m8\u001b[39;49m], [\u001b[39m3\u001b[39;49m, \u001b[39m1\u001b[39;49m, \u001b[39m-\u001b[39;49m\u001b[39m2\u001b[39;49m, \u001b[39m2\u001b[39;49m], [\u001b[39m1\u001b[39;49m, \u001b[39m3\u001b[39;49m, \u001b[39m-\u001b[39;49m\u001b[39m4\u001b[39;49m, \u001b[39m1\u001b[39;49m])\n\u001b[0;32m     <a href='vscode-notebook-cell:/c%3A/Users/singh/OneDrive/Desktop/Aerish/youssef/Fall2023/students-submissions/8949649/Lab1%28B%29.ipynb#W1sZmlsZQ%3D%3D?line=10'>11</a>\u001b[0m b \u001b[39m=\u001b[39m np\u001b[39m.\u001b[39marray([\u001b[39m10\u001b[39m, \u001b[39m20\u001b[39m, \u001b[39m3\u001b[39m, \u001b[39m-\u001b[39m\u001b[39m1\u001b[39m])\n\u001b[0;32m     <a href='vscode-notebook-cell:/c%3A/Users/singh/OneDrive/Desktop/Aerish/youssef/Fall2023/students-submissions/8949649/Lab1%28B%29.ipynb#W1sZmlsZQ%3D%3D?line=12'>13</a>\u001b[0m x \u001b[39m=\u001b[39m np\u001b[39m.\u001b[39mlinalg\u001b[39m.\u001b[39msolve(a, b)\n",
      "\u001b[1;31mTypeError\u001b[0m: array() takes from 1 to 2 positional arguments but 4 were given"
     ]
    }
   ],
   "source": [
    "#   Now the stwm of equations is \n",
    "#   2x - y + 3z + 4w = 10 --------(1)\n",
    "#   4x - 2y + 6z + 8w = 20 -------(2) \n",
    "#   3x + y - 2z + 2w = 3 ---------(3)\n",
    "#   x + 3y - 4z + w = -1 ---------(4)\n",
    "#   As equation (1) can be written as linear combination of equation (2) by simply multiplying it by 2 \n",
    "#   Now this System of equations cannot be solved by using numpy as shown below\n",
    "\n",
    "a = np.array([2, -1, 3, 4], [4, -2, 6, 8], [3, 1, -2, 2], [1, 3, -4, 1])\n",
    "\n",
    "b = np.array([10, 20, 3, -1])\n",
    "\n",
    "x = np.linalg.solve(a, b)\n"
   ]
  },
  {
   "cell_type": "code",
   "execution_count": null,
   "metadata": {},
   "outputs": [],
   "source": []
  }
 ],
 "metadata": {
  "kernelspec": {
   "display_name": "Python 3",
   "language": "python",
   "name": "python3"
  },
  "language_info": {
   "codemirror_mode": {
    "name": "ipython",
    "version": 3
   },
   "file_extension": ".py",
   "mimetype": "text/x-python",
   "name": "python",
   "nbconvert_exporter": "python",
   "pygments_lexer": "ipython3",
   "version": "3.11.5"
  },
  "orig_nbformat": 4
 },
 "nbformat": 4,
 "nbformat_minor": 2
}
