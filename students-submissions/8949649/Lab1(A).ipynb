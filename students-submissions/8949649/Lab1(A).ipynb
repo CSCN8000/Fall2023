{
 "cells": [
  {
   "cell_type": "code",
   "execution_count": 3,
   "metadata": {},
   "outputs": [
    {
     "name": "stdout",
     "output_type": "stream",
     "text": [
      "[ 1  4  7 10 13 16 19]\n"
     ]
    }
   ],
   "source": [
    "# Name  - Aerish Gaba\n",
    "# Student ID - 8949649\n",
    "\n",
    "# array that starts from the integer 1, ends at 20, incremented by 3.\n",
    "import numpy as np\n",
    "\n",
    "array = np.arange(1, 21, 3)\n",
    "print(array)"
   ]
  },
  {
   "cell_type": "code",
   "execution_count": 2,
   "metadata": {},
   "outputs": [
    {
     "name": "stdout",
     "output_type": "stream",
     "text": [
      "[0.60234594 0.5057638  0.32085606]\n"
     ]
    }
   ],
   "source": [
    "import numpy as np\n",
    "\n",
    "# Create a new array of shape 3 with random numbers between 0 and 1\n",
    "new_array = np.random.rand(3)\n",
    "\n",
    "print(new_array)\n"
   ]
  },
  {
   "cell_type": "code",
   "execution_count": 4,
   "metadata": {},
   "outputs": [
    {
     "name": "stdout",
     "output_type": "stream",
     "text": [
      "First two rows:\n",
      "[[10 20 45]\n",
      " [30 12 16]]\n",
      "Last two rows:\n",
      "[[30 12 16]\n",
      " [42 17 56]]\n"
     ]
    }
   ],
   "source": [
    "import numpy as np\n",
    "\n",
    "# Create a 2D array\n",
    "array = np.array([[10, 20, 45], [30, 12, 16], [42, 17, 56]])\n",
    "\n",
    "# Slice the 2D array to get the first two rows\n",
    "first_two_rows = array[:2, :]\n",
    "print(\"First two rows:\")\n",
    "print(first_two_rows)\n",
    "\n",
    "# Slice the 2D array to get the last two rows\n",
    "last_two_rows = array[1:, :]\n",
    "print(\"Last two rows:\")\n",
    "print(last_two_rows)\n"
   ]
  },
  {
   "cell_type": "code",
   "execution_count": 5,
   "metadata": {},
   "outputs": [
    {
     "name": "stdout",
     "output_type": "stream",
     "text": [
      "Vertically stacked arrays:\n",
      "[[1 2]\n",
      " [3 4]\n",
      " [5 6]\n",
      " [7 8]]\n",
      "Horizontally stacked arrays:\n",
      "[[1 2 5 6]\n",
      " [3 4 7 8]]\n",
      "Split arrays:\n",
      "[array([[1],\n",
      "       [3]]), array([[2],\n",
      "       [4]])]\n",
      "[array([[5],\n",
      "       [7]]), array([[6],\n",
      "       [8]])]\n"
     ]
    }
   ],
   "source": [
    "import numpy as np\n",
    "\n",
    "# Create two 2x2 arrays\n",
    "a1 = np.array([[1, 2], [3, 4]])\n",
    "a2 = np.array([[5, 6], [7, 8]])\n",
    "\n",
    "# Stacking vertically\n",
    "vertical_stack = np.vstack((a1, a2))\n",
    "print(\"Vertically stacked arrays:\")\n",
    "print(vertical_stack)\n",
    "\n",
    "# Stacking horizontally\n",
    "horizontal_stack = np.hstack((a1, a2))\n",
    "print(\"Horizontally stacked arrays:\")\n",
    "print(horizontal_stack)\n",
    "\n",
    "# Splitting smaller arrays\n",
    "split_a1 = np.hsplit(a1, 2)\n",
    "split_a2 = np.hsplit(a2, 2)\n",
    "print(\"Split arrays:\")\n",
    "print(split_a1)\n",
    "print(split_a2)\n"
   ]
  },
  {
   "cell_type": "code",
   "execution_count": 15,
   "metadata": {},
   "outputs": [
    {
     "name": "stdout",
     "output_type": "stream",
     "text": [
      "[[70 28]\n",
      " [70 30]\n",
      " [60 26]]\n"
     ]
    }
   ],
   "source": [
    "import numpy as np\n",
    "\n",
    "# Yes, Multiplication is possible as number of columns in X is equals to number of rows in Y\n",
    "X= np.array([[5, 7, 2], [4, 5, 6], [7, 4 ,2]]) \n",
    "Y= np.array([[4, 2], [6, 2], [4, 2]])\n",
    "\n",
    "Z = np.matmul(X, Y)\n",
    "print(Z)\n",
    "\n",
    "# Case when it is not possible is when Y is multiplies by X as No of columns in Y is not equals to No of rows in X\n",
    "# i.e. Z = np.matmul(Y, X) is not possible\n"
   ]
  },
  {
   "cell_type": "code",
   "execution_count": 23,
   "metadata": {},
   "outputs": [
    {
     "name": "stdout",
     "output_type": "stream",
     "text": [
      "Shape of vector x: (3,)\n",
      "Number of dimensions of vector x: 1\n",
      "Number of dimensions of x after reshaping: 2\n",
      "Number of dimensions of y after reshaping: 2\n"
     ]
    }
   ],
   "source": [
    "import numpy as np\n",
    "\n",
    "x = np.array([2, -1, -8])\n",
    "y = np.array([3, 1, -2])\n",
    "\n",
    "shape_x = x.shape\n",
    "dimensions_x = x.ndim\n",
    "\n",
    "print(\"Shape of vector x:\", shape_x)\n",
    "print(\"Number of dimensions of vector x:\", dimensions_x)\n",
    "\n",
    "# Reshaping x to a matrix of size (3,1)\n",
    "x_reshaped = x.reshape((3,1))\n",
    "\n",
    "# Reshaping y to a matrix of size (3,1)\n",
    "y_reshaped = y.reshape((3,1))\n",
    "\n",
    "print(f\"Number of dimensions of x after reshaping: {x_reshaped.ndim}\")\n",
    "print(f\"Number of dimensions of y after reshaping: {y_reshaped.ndim}\")\n",
    "\n",
    "\n",
    "\n"
   ]
  },
  {
   "cell_type": "code",
   "execution_count": 24,
   "metadata": {},
   "outputs": [
    {
     "name": "stdout",
     "output_type": "stream",
     "text": [
      "Subtraction Result:\n",
      "[[-1  0  1]\n",
      " [ 2  3  4]\n",
      " [ 5  6  7]]\n",
      "Multiplication Result:\n",
      "[[ 3  6  9]\n",
      " [12 15 18]\n",
      " [21 24 27]]\n"
     ]
    }
   ],
   "source": [
    "#The term broadcasting describes how NumPy treats arrays with different shapes during arithmetic operations.\n",
    "#Subject to certain constraints, the smaller array is “broadcast” across the larger array so that they have compatible shapes.\n",
    "\n",
    "import numpy as np\n",
    "\n",
    "# Create a 3 x 3 matrix\n",
    "matrix = np.array([[1, 2, 3],\n",
    "                   [4, 5, 6],\n",
    "                   [7, 8, 9]])\n",
    "\n",
    "# Subtract 2 from each element of the matrix\n",
    "subtraction_result = matrix - 2\n",
    "\n",
    "# Multiply each element of the matrix by 3\n",
    "multiplication_result = matrix * 3\n",
    "\n",
    "print(\"Subtraction Result:\")\n",
    "print(subtraction_result)\n",
    "\n",
    "print(\"Multiplication Result:\")\n",
    "print(multiplication_result)\n"
   ]
  },
  {
   "cell_type": "code",
   "execution_count": null,
   "metadata": {},
   "outputs": [],
   "source": [
    "|"
   ]
  }
 ],
 "metadata": {
  "kernelspec": {
   "display_name": "Python 3",
   "language": "python",
   "name": "python3"
  },
  "language_info": {
   "codemirror_mode": {
    "name": "ipython",
    "version": 3
   },
   "file_extension": ".py",
   "mimetype": "text/x-python",
   "name": "python",
   "nbconvert_exporter": "python",
   "pygments_lexer": "ipython3",
   "version": "3.11.5"
  },
  "orig_nbformat": 4
 },
 "nbformat": 4,
 "nbformat_minor": 2
}
