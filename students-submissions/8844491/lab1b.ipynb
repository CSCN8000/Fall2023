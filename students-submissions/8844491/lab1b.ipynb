{
 "cells": [
  {
   "cell_type": "markdown",
   "metadata": {},
   "source": [
    "## <center><b>PRACTICAL LAB 1: PART B</b>\n",
    "<center> Done by Aardran Premakumar"
   ]
  },
  {
   "cell_type": "markdown",
   "metadata": {},
   "source": [
    "#### <CENTER><B>PART B"
   ]
  },
  {
   "cell_type": "markdown",
   "metadata": {},
   "source": [
    "<b>Question 1"
   ]
  },
  {
   "cell_type": "markdown",
   "metadata": {},
   "source": [
    "<i>If a system of linear equations is said to be singular, then the matrix's coefficient determinant will be zero. </i>"
   ]
  },
  {
   "cell_type": "code",
   "execution_count": 1,
   "metadata": {},
   "outputs": [],
   "source": [
    "import numpy as np"
   ]
  },
  {
   "cell_type": "code",
   "execution_count": 5,
   "metadata": {},
   "outputs": [
    {
     "name": "stdout",
     "output_type": "stream",
     "text": [
      "The linear equation is non singular\n",
      "\n",
      "Solution of the linear equation:  [ 1.8  2.4 -0.2]\n"
     ]
    }
   ],
   "source": [
    "# 4x + y - 2z = 10\n",
    "# 2x -3y + 2z = -4\n",
    "# x + 2y +3z = 6\n",
    "# This 3 equations are represented as Mx = C form where M is coefficient matrix, x vector or variables and C vector of constants\n",
    "\n",
    "M = np.array([[4,1,-2],\n",
    "              [2,-3,2],\n",
    "              [1,2,3]])\n",
    "# vectorX = [x,y,z]\n",
    "C = np.array([10,-4,6])\n",
    "#checking if the equation is singular or not\n",
    "detM = np.linalg.det(M)\n",
    "if detM != 0:\n",
    "    print(\"The linear equation is non singular\")\n",
    "    vectorX = np.linalg.solve(M, C)\n",
    "    print(\"\\nSolution of the linear equation: \", vectorX)\n",
    "else:\n",
    "    print(\"\\n The linear equation is singular\")"
   ]
  },
  {
   "cell_type": "code",
   "execution_count": 8,
   "metadata": {},
   "outputs": [
    {
     "name": "stdout",
     "output_type": "stream",
     "text": [
      "0.0\n",
      "\n",
      " The linear equation is singular\n"
     ]
    }
   ],
   "source": [
    "# 2x - y + 3z + 4w = 10\n",
    "# 4x - 2y + 6z + 8w = 20\n",
    "# 3x + y - 2z + 2w = 3\n",
    "# x + 3y - 4z + w = -1\n",
    "# This 4 equations are represented as Mx = C form where M is coefficient matrix, x vector or variables and C vector of constants\n",
    "\n",
    "M2 = np.array([[2,-1,3,4],\n",
    "              [4,-2,6,8],\n",
    "              [3,1,-2,2],\n",
    "              [1,3,-4,1]])\n",
    "# vectorX2 =[x,y,z,w]\n",
    "C2 = np.array([10,20,2,-1])\n",
    "#checking if the equation is singular or not\n",
    "detM2 = np.linalg.det(M2)\n",
    "print(detM2)\n",
    "if detM2 != 0:\n",
    "    print(\"The linear equation is non singular\")\n",
    "    vectorX2 = np.linalg.solve(M2, C2)\n",
    "    print(\"\\nSolution of the linear equation: \", vectorX2)\n",
    "else:\n",
    "    print(\"\\n The linear equation is singular\")"
   ]
  },
  {
   "cell_type": "markdown",
   "metadata": {},
   "source": [
    "<i>The reason I believe the system can be solved using NumPy functions is because, using NumPy modules like \"linalg\" which provides a specified module for linear algebra, it is possible to solve linear equations using NumPy functions.</i>"
   ]
  }
 ],
 "metadata": {
  "kernelspec": {
   "display_name": "CSCN8010_classic_ml",
   "language": "python",
   "name": "python3"
  },
  "language_info": {
   "codemirror_mode": {
    "name": "ipython",
    "version": 3
   },
   "file_extension": ".py",
   "mimetype": "text/x-python",
   "name": "python",
   "nbconvert_exporter": "python",
   "pygments_lexer": "ipython3",
   "version": "3.10.5"
  },
  "orig_nbformat": 4
 },
 "nbformat": 4,
 "nbformat_minor": 2
}
