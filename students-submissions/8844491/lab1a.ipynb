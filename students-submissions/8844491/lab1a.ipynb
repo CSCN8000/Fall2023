{
 "cells": [
  {
   "cell_type": "markdown",
   "metadata": {},
   "source": [
    "## <center><b>PRACTICAL LAB 1: PART A</b>\n",
    "<center> Done by Aardran Premakumar"
   ]
  },
  {
   "cell_type": "markdown",
   "metadata": {},
   "source": [
    "#### <CENTER><B>PART A"
   ]
  },
  {
   "cell_type": "markdown",
   "metadata": {},
   "source": [
    "<b>Question 1</b>\n",
    "<br>Array starts from 1 and ends at 20 with 3 as increment."
   ]
  },
  {
   "cell_type": "code",
   "execution_count": 1,
   "metadata": {},
   "outputs": [
    {
     "name": "stdout",
     "output_type": "stream",
     "text": [
      "[ 1  4  7 10 13 16 19]\n"
     ]
    }
   ],
   "source": [
    "#Array starts from 1 and ends at 20 with 3 as increment.\n",
    "import numpy as np\n",
    "arrElements = np.arange(start = 1, stop = 20, step = 3)\n",
    "print(arrElements)"
   ]
  },
  {
   "cell_type": "markdown",
   "metadata": {},
   "source": [
    "<b>Question 2</b>\n",
    "<br>Array of shape 3 with random values between 0 and 1\n",
    "\n"
   ]
  },
  {
   "cell_type": "code",
   "execution_count": 2,
   "metadata": {},
   "outputs": [
    {
     "name": "stdout",
     "output_type": "stream",
     "text": [
      "[[0.02808956 0.37791959 0.83021394]\n",
      " [0.35076163 0.07299535 0.59216716]\n",
      " [0.72916109 0.40317842 0.08731442]]\n"
     ]
    }
   ],
   "source": [
    "#Array of shape 3 with random values between 0 and 1\n",
    "randomArray = np.random.rand(3,3)\n",
    "print(randomArray)"
   ]
  },
  {
   "cell_type": "markdown",
   "metadata": {},
   "source": [
    "<b>Question 3</b>\n",
    "<br>Creating 2D array and performing slice operation"
   ]
  },
  {
   "cell_type": "code",
   "execution_count": 3,
   "metadata": {},
   "outputs": [
    {
     "name": "stdout",
     "output_type": "stream",
     "text": [
      "\n",
      "\n",
      " [[10 20 45]\n",
      " [30 12 16]\n",
      " [42 17 56]]\n",
      "\n",
      "\n",
      " [[10 20 45]\n",
      " [30 12 16]]\n",
      "\n",
      "\n",
      " [[30 12 16]\n",
      " [42 17 56]]\n"
     ]
    }
   ],
   "source": [
    "#Creating 2D array and performing slice operation\n",
    "list2D = [[10,20,45],[30,12,16],[42,17,56]]\n",
    "num2D = np.array(list2D)\n",
    "print(\"\\n\\n\", num2D)\n",
    "\n",
    "print(\"\\n\\n\", num2D[:2:])\n",
    "\n",
    "print(\"\\n\\n\", num2D[1::])"
   ]
  },
  {
   "cell_type": "markdown",
   "metadata": {},
   "source": [
    "<b>Question 4</b>\n",
    "<br>Vertical Stack, Horizontal Stack, Splitting Array"
   ]
  },
  {
   "cell_type": "code",
   "execution_count": 4,
   "metadata": {},
   "outputs": [
    {
     "name": "stdout",
     "output_type": "stream",
     "text": [
      "[[1 2]\n",
      " [3 4]] \n",
      " [[5 6]\n",
      " [7 8]]\n",
      "Vertical:\n",
      "  [[1 2]\n",
      " [3 4]\n",
      " [5 6]\n",
      " [7 8]]\n",
      "Horizontal:\n",
      "  [[1 2 5 6]\n",
      " [3 4 7 8]]\n",
      "Splitted first array\n",
      " [array([[1],\n",
      "       [3]]), array([[2],\n",
      "       [4]])]\n",
      "Splitted second array\n",
      " [array([[5, 6]]), array([[7, 8]])]\n"
     ]
    }
   ],
   "source": [
    "#Doing vertical stack, horizontal stack, splitting array into smaller ones.\n",
    "array1 = np.arange(1,5).reshape(2,2)\n",
    "array2 = np.arange(5,9).reshape(2,2)\n",
    "print(array1, \"\\n\", array2)\n",
    "#vertical stack\n",
    "vStack = np.vstack((array1, array2))\n",
    "print(\"Vertical:\\n \" ,vStack)\n",
    "#horizontal stack\n",
    "hStack = np.hstack((array1,array2))\n",
    "print(\"Horizontal:\\n \" ,hStack)\n",
    "#splitting array into smaller arrays\n",
    "array1Split = np.split(array1, 2, axis = 1)\n",
    "array2Split = np.split(array2, 2, axis = 0)\n",
    "print(\"Splitted first array\\n\", array1Split)\n",
    "print(\"Splitted second array\\n\", array2Split)\n",
    "\n"
   ]
  },
  {
   "cell_type": "markdown",
   "metadata": {},
   "source": [
    "<b>Question 5</b>\n",
    "<br>Matrix Multiplication"
   ]
  },
  {
   "cell_type": "code",
   "execution_count": 7,
   "metadata": {},
   "outputs": [
    {
     "name": "stdout",
     "output_type": "stream",
     "text": [
      "First matrix:\n",
      " [[5 7 2]\n",
      " [4 5 6]\n",
      " [7 4 2]]\n",
      "Second matrix:\n",
      " [[4 2]\n",
      " [6 2]\n",
      " [4 2]]\n",
      "Matrix after multiplication:\n",
      " [[70 28]\n",
      " [70 30]\n",
      " [60 26]]\n"
     ]
    }
   ],
   "source": [
    "#Matrix Multiplication\n",
    "X = np.array([[5,7,2],[4,5,6],[7,4,2]])\n",
    "Y = np.array([[4,2],[6,2],[4,2]])\n",
    "print(\"First matrix:\\n\",X)\n",
    "print(\"Second matrix:\\n\",Y)\n",
    "#It is possible to multiply the two matrices \n",
    "#since the size of the first matrix is in X * N and the size of the second matrix is in N * Y\n",
    "matrixMultiplication = np.dot(X, Y)\n",
    "print(\"Matrix after multiplication:\\n\",matrixMultiplication)\n",
    "\n",
    "#For the case where the multiplication is not possible, the column size of 1st matrix is differ from the row size of 2nd matrix.\n",
    "#Example\n",
    "# matrixA = np.array([[4,5],[6,7]])\n",
    "# matrixB = np.array([[1,2,3,], [4,5,6],[7,8,9]])\n",
    "\n",
    "\n"
   ]
  },
  {
   "cell_type": "markdown",
   "metadata": {},
   "source": [
    "<b>Question 6</b>\n",
    "<br>Finding shape and dimension of an array and re shaping the array."
   ]
  },
  {
   "cell_type": "code",
   "execution_count": 20,
   "metadata": {},
   "outputs": [
    {
     "name": "stdout",
     "output_type": "stream",
     "text": [
      "Array X: [ 2 -1 -8]\n",
      "Array Y: [ 3  1 -2]\n",
      "Shape of array X (3,)\n",
      "Dimension of vector X 1\n",
      "Array X reshaped:\n",
      " [[ 2]\n",
      " [-1]\n",
      " [-8]]\n",
      "Dimensions of array X after reshaping:\n",
      " 2\n",
      "Array Y reshaped:\n",
      " [[ 3]\n",
      " [ 1]\n",
      " [-2]]\n",
      "Dimensional dimensions of array Y after reshaping:\n",
      " 2\n"
     ]
    }
   ],
   "source": [
    "#Finding shape and dimension of an array and re shaping the array.\n",
    "arrayX = np.array([2,-1,-8])\n",
    "arrayY = np.array([3,1,-2])\n",
    "\n",
    "print(\"Array X:\", arrayX)\n",
    "print(\"Array Y:\", arrayY)\n",
    "#shape of array X\n",
    "print(\"Shape of array X\", arrayX.shape)\n",
    "print(\"Dimension of vector X\", arrayX.ndim)\n",
    "\n",
    "reshapedArrayX = arrayX.reshape(3,1)\n",
    "print(\"Array X reshaped:\\n\", reshapedArrayX)\n",
    "print(\"Dimensions of array X after reshaping:\\n\", reshapedArrayX.ndim)\n",
    "reshapedArrayY = arrayY.reshape(3,1)\n",
    "print(\"Array Y reshaped:\\n\", reshapedArrayY)\n",
    "print(\"Dimensional dimensions of array Y after reshaping:\\n\",reshapedArrayY.ndim)"
   ]
  },
  {
   "cell_type": "markdown",
   "metadata": {},
   "source": [
    "<b>Question 7</b>\n",
    "<br>Broadcasting a 3x3 matrix with subtraction and multiplication."
   ]
  },
  {
   "cell_type": "markdown",
   "metadata": {},
   "source": [
    "<i>Broadcasting is a feature provided by NumPy, which allows to execute operations on arrays with different shapes. It adjusts the shape of the arrays to match with larger arrays, and do operations element-wise without changing the shape of the arrays.</i>"
   ]
  },
  {
   "cell_type": "code",
   "execution_count": 24,
   "metadata": {},
   "outputs": [
    {
     "name": "stdout",
     "output_type": "stream",
     "text": [
      "3x3 matrix: \n",
      " [[10 20 30]\n",
      " [ 2  4  6]\n",
      " [11 12 13]]\n",
      "Matrix after subtracting:\n",
      " [[ 5 15 25]\n",
      " [-3 -1  1]\n",
      " [ 6  7  8]]\n",
      "Matrix after multiplication:\n",
      " [[20 40 60]\n",
      " [ 4  8 12]\n",
      " [22 24 26]]\n"
     ]
    }
   ],
   "source": [
    "#Broadcasting a 3x3 matrix with subtraction and multiplication.\n",
    "matrix3D = np.array([[10,20,30],[2,4,6],[11,12,13]])\n",
    "subScalar = 5\n",
    "mulScalar = 2\n",
    "print(\"3x3 matrix: \\n\", matrix3D)\n",
    "subbedMatrix3D = matrix3D - subScalar\n",
    "print(\"Matrix after subtracting:\\n\", subbedMatrix3D)\n",
    "mulMatrix3D = matrix3D * mulScalar\n",
    "print(\"Matrix after multiplication:\\n\", mulMatrix3D)\n"
   ]
  }
 ],
 "metadata": {
  "kernelspec": {
   "display_name": "CSCN8010_classic_ml",
   "language": "python",
   "name": "python3"
  },
  "language_info": {
   "codemirror_mode": {
    "name": "ipython",
    "version": 3
   },
   "file_extension": ".py",
   "mimetype": "text/x-python",
   "name": "python",
   "nbconvert_exporter": "python",
   "pygments_lexer": "ipython3",
   "version": "3.10.5"
  },
  "orig_nbformat": 4
 },
 "nbformat": 4,
 "nbformat_minor": 2
}
