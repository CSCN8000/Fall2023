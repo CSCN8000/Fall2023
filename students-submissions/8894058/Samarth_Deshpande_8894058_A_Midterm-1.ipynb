{
 "cells": [
  {
   "cell_type": "markdown",
   "id": "94650d6a",
   "metadata": {},
   "source": [
    "# Name : Samarth Deshpande\n",
    "# Student ID : 8894058\n",
    "# Course Name : CSCN8000 –Artificial Intelligence Algorithms and Mathematics\n",
    "# Title : Midterm Part B: California Housing Prices Prediction"
   ]
  },
  {
   "cell_type": "code",
   "execution_count": 1,
   "id": "e319409a",
   "metadata": {},
   "outputs": [],
   "source": [
    "#Importing Libraries for data manupulation\n",
    "import numpy as np\n",
    "import pandas as pd\n",
    "\n",
    "#Importing Data vislulisation Libraries\n",
    "import matplotlib.pyplot as plt\n",
    "import seaborn as sns\n",
    "%matplotlib inline\n",
    "import warnings\n",
    "\n",
    "# Importing library for Using Z score and removing outliers\n",
    "from scipy import stats\n",
    "warnings.filterwarnings(\"ignore\")\n",
    "\n",
    "#Import Libraries for model traning\n",
    "#for scaling data\n",
    "from sklearn.preprocessing import StandardScaler\n",
    "#for spliting data \n",
    "from sklearn.model_selection import train_test_split\n",
    "#for linear regression model\n",
    "from sklearn.linear_model import LinearRegression\n",
    "#for evalution matrix of model\n",
    "from sklearn.metrics import mean_squared_error, mean_absolute_error, r2_score\n",
    "#for decision tree regressor\n",
    "from sklearn.tree import DecisionTreeRegressor\n",
    "#for random forest regressor\n",
    "from sklearn.ensemble import RandomForestRegressor"
   ]
  },
  {
   "cell_type": "markdown",
   "id": "8b967d12",
   "metadata": {},
   "source": [
    "# Loading Data"
   ]
  },
  {
   "cell_type": "code",
   "execution_count": 2,
   "id": "827ef4d6",
   "metadata": {},
   "outputs": [
    {
     "data": {
      "text/html": [
       "<div>\n",
       "<style scoped>\n",
       "    .dataframe tbody tr th:only-of-type {\n",
       "        vertical-align: middle;\n",
       "    }\n",
       "\n",
       "    .dataframe tbody tr th {\n",
       "        vertical-align: top;\n",
       "    }\n",
       "\n",
       "    .dataframe thead th {\n",
       "        text-align: right;\n",
       "    }\n",
       "</style>\n",
       "<table border=\"1\" class=\"dataframe\">\n",
       "  <thead>\n",
       "    <tr style=\"text-align: right;\">\n",
       "      <th></th>\n",
       "      <th>longitude</th>\n",
       "      <th>latitude</th>\n",
       "      <th>housing_median_age</th>\n",
       "      <th>total_rooms</th>\n",
       "      <th>total_bedrooms</th>\n",
       "      <th>population</th>\n",
       "      <th>households</th>\n",
       "      <th>median_income</th>\n",
       "      <th>median_house_value</th>\n",
       "      <th>ocean_proximity</th>\n",
       "    </tr>\n",
       "  </thead>\n",
       "  <tbody>\n",
       "    <tr>\n",
       "      <th>0</th>\n",
       "      <td>-122.74</td>\n",
       "      <td>39.71</td>\n",
       "      <td>16.0</td>\n",
       "      <td>255.0</td>\n",
       "      <td>73.0</td>\n",
       "      <td>85.0</td>\n",
       "      <td>38.0</td>\n",
       "      <td>1.6607</td>\n",
       "      <td>14999.0</td>\n",
       "      <td>INLAND</td>\n",
       "    </tr>\n",
       "    <tr>\n",
       "      <th>1</th>\n",
       "      <td>-117.02</td>\n",
       "      <td>36.40</td>\n",
       "      <td>19.0</td>\n",
       "      <td>619.0</td>\n",
       "      <td>239.0</td>\n",
       "      <td>490.0</td>\n",
       "      <td>164.0</td>\n",
       "      <td>2.1000</td>\n",
       "      <td>14999.0</td>\n",
       "      <td>INLAND</td>\n",
       "    </tr>\n",
       "    <tr>\n",
       "      <th>2</th>\n",
       "      <td>-117.86</td>\n",
       "      <td>34.24</td>\n",
       "      <td>52.0</td>\n",
       "      <td>803.0</td>\n",
       "      <td>267.0</td>\n",
       "      <td>628.0</td>\n",
       "      <td>225.0</td>\n",
       "      <td>4.1932</td>\n",
       "      <td>14999.0</td>\n",
       "      <td>INLAND</td>\n",
       "    </tr>\n",
       "    <tr>\n",
       "      <th>3</th>\n",
       "      <td>-123.17</td>\n",
       "      <td>40.31</td>\n",
       "      <td>36.0</td>\n",
       "      <td>98.0</td>\n",
       "      <td>28.0</td>\n",
       "      <td>18.0</td>\n",
       "      <td>8.0</td>\n",
       "      <td>0.5360</td>\n",
       "      <td>14999.0</td>\n",
       "      <td>INLAND</td>\n",
       "    </tr>\n",
       "    <tr>\n",
       "      <th>4</th>\n",
       "      <td>-118.33</td>\n",
       "      <td>34.15</td>\n",
       "      <td>39.0</td>\n",
       "      <td>493.0</td>\n",
       "      <td>168.0</td>\n",
       "      <td>259.0</td>\n",
       "      <td>138.0</td>\n",
       "      <td>2.3667</td>\n",
       "      <td>17500.0</td>\n",
       "      <td>&lt;1H OCEAN</td>\n",
       "    </tr>\n",
       "  </tbody>\n",
       "</table>\n",
       "</div>"
      ],
      "text/plain": [
       "   longitude  latitude  housing_median_age  total_rooms  total_bedrooms  \\\n",
       "0    -122.74     39.71                16.0        255.0            73.0   \n",
       "1    -117.02     36.40                19.0        619.0           239.0   \n",
       "2    -117.86     34.24                52.0        803.0           267.0   \n",
       "3    -123.17     40.31                36.0         98.0            28.0   \n",
       "4    -118.33     34.15                39.0        493.0           168.0   \n",
       "\n",
       "   population  households  median_income  median_house_value ocean_proximity  \n",
       "0        85.0        38.0         1.6607             14999.0          INLAND  \n",
       "1       490.0       164.0         2.1000             14999.0          INLAND  \n",
       "2       628.0       225.0         4.1932             14999.0          INLAND  \n",
       "3        18.0         8.0         0.5360             14999.0          INLAND  \n",
       "4       259.0       138.0         2.3667             17500.0       <1H OCEAN  "
      ]
     },
     "execution_count": 2,
     "metadata": {},
     "output_type": "execute_result"
    }
   ],
   "source": [
    "df = pd.read_csv(\"housing_dataset.csv\")\n",
    "df.head()"
   ]
  },
  {
   "cell_type": "code",
   "execution_count": 3,
   "id": "3dcf9c66",
   "metadata": {},
   "outputs": [
    {
     "name": "stdout",
     "output_type": "stream",
     "text": [
      "<class 'pandas.core.frame.DataFrame'>\n",
      "RangeIndex: 20640 entries, 0 to 20639\n",
      "Data columns (total 10 columns):\n",
      " #   Column              Non-Null Count  Dtype  \n",
      "---  ------              --------------  -----  \n",
      " 0   longitude           20640 non-null  float64\n",
      " 1   latitude            20640 non-null  float64\n",
      " 2   housing_median_age  20629 non-null  float64\n",
      " 3   total_rooms         20625 non-null  float64\n",
      " 4   total_bedrooms      20433 non-null  float64\n",
      " 5   population          20621 non-null  float64\n",
      " 6   households          20626 non-null  float64\n",
      " 7   median_income       20632 non-null  float64\n",
      " 8   median_house_value  20560 non-null  float64\n",
      " 9   ocean_proximity     20486 non-null  object \n",
      "dtypes: float64(9), object(1)\n",
      "memory usage: 1.6+ MB\n"
     ]
    }
   ],
   "source": [
    "#Using DF.info to check the datatype of data\n",
    "df.info()"
   ]
  },
  {
   "cell_type": "code",
   "execution_count": 4,
   "id": "3d0b9fca",
   "metadata": {},
   "outputs": [
    {
     "data": {
      "text/html": [
       "<div>\n",
       "<style scoped>\n",
       "    .dataframe tbody tr th:only-of-type {\n",
       "        vertical-align: middle;\n",
       "    }\n",
       "\n",
       "    .dataframe tbody tr th {\n",
       "        vertical-align: top;\n",
       "    }\n",
       "\n",
       "    .dataframe thead th {\n",
       "        text-align: right;\n",
       "    }\n",
       "</style>\n",
       "<table border=\"1\" class=\"dataframe\">\n",
       "  <thead>\n",
       "    <tr style=\"text-align: right;\">\n",
       "      <th></th>\n",
       "      <th>longitude</th>\n",
       "      <th>latitude</th>\n",
       "      <th>housing_median_age</th>\n",
       "      <th>total_rooms</th>\n",
       "      <th>total_bedrooms</th>\n",
       "      <th>population</th>\n",
       "      <th>households</th>\n",
       "      <th>median_income</th>\n",
       "      <th>median_house_value</th>\n",
       "    </tr>\n",
       "  </thead>\n",
       "  <tbody>\n",
       "    <tr>\n",
       "      <th>count</th>\n",
       "      <td>20640.000000</td>\n",
       "      <td>20640.000000</td>\n",
       "      <td>20629.000000</td>\n",
       "      <td>20625.000000</td>\n",
       "      <td>20433.000000</td>\n",
       "      <td>20621.000000</td>\n",
       "      <td>20626.000000</td>\n",
       "      <td>20632.000000</td>\n",
       "      <td>20560.000000</td>\n",
       "    </tr>\n",
       "    <tr>\n",
       "      <th>mean</th>\n",
       "      <td>-119.569704</td>\n",
       "      <td>35.631861</td>\n",
       "      <td>28.633380</td>\n",
       "      <td>2636.314812</td>\n",
       "      <td>537.870553</td>\n",
       "      <td>1425.785510</td>\n",
       "      <td>499.675555</td>\n",
       "      <td>3.871003</td>\n",
       "      <td>207334.239348</td>\n",
       "    </tr>\n",
       "    <tr>\n",
       "      <th>std</th>\n",
       "      <td>2.003532</td>\n",
       "      <td>2.135952</td>\n",
       "      <td>12.584167</td>\n",
       "      <td>2182.184573</td>\n",
       "      <td>421.385070</td>\n",
       "      <td>1132.799376</td>\n",
       "      <td>382.405161</td>\n",
       "      <td>1.899969</td>\n",
       "      <td>115352.171422</td>\n",
       "    </tr>\n",
       "    <tr>\n",
       "      <th>min</th>\n",
       "      <td>-124.350000</td>\n",
       "      <td>32.540000</td>\n",
       "      <td>1.000000</td>\n",
       "      <td>2.000000</td>\n",
       "      <td>1.000000</td>\n",
       "      <td>3.000000</td>\n",
       "      <td>1.000000</td>\n",
       "      <td>0.499900</td>\n",
       "      <td>14999.000000</td>\n",
       "    </tr>\n",
       "    <tr>\n",
       "      <th>25%</th>\n",
       "      <td>-121.800000</td>\n",
       "      <td>33.930000</td>\n",
       "      <td>18.000000</td>\n",
       "      <td>1448.000000</td>\n",
       "      <td>296.000000</td>\n",
       "      <td>787.000000</td>\n",
       "      <td>280.000000</td>\n",
       "      <td>2.563400</td>\n",
       "      <td>120600.000000</td>\n",
       "    </tr>\n",
       "    <tr>\n",
       "      <th>50%</th>\n",
       "      <td>-118.490000</td>\n",
       "      <td>34.260000</td>\n",
       "      <td>29.000000</td>\n",
       "      <td>2127.000000</td>\n",
       "      <td>435.000000</td>\n",
       "      <td>1166.000000</td>\n",
       "      <td>410.000000</td>\n",
       "      <td>3.535250</td>\n",
       "      <td>180400.000000</td>\n",
       "    </tr>\n",
       "    <tr>\n",
       "      <th>75%</th>\n",
       "      <td>-118.010000</td>\n",
       "      <td>37.710000</td>\n",
       "      <td>37.000000</td>\n",
       "      <td>3148.000000</td>\n",
       "      <td>647.000000</td>\n",
       "      <td>1725.000000</td>\n",
       "      <td>605.000000</td>\n",
       "      <td>4.743700</td>\n",
       "      <td>265225.000000</td>\n",
       "    </tr>\n",
       "    <tr>\n",
       "      <th>max</th>\n",
       "      <td>-114.310000</td>\n",
       "      <td>41.950000</td>\n",
       "      <td>52.000000</td>\n",
       "      <td>39320.000000</td>\n",
       "      <td>6445.000000</td>\n",
       "      <td>35682.000000</td>\n",
       "      <td>6082.000000</td>\n",
       "      <td>15.000100</td>\n",
       "      <td>500001.000000</td>\n",
       "    </tr>\n",
       "  </tbody>\n",
       "</table>\n",
       "</div>"
      ],
      "text/plain": [
       "          longitude      latitude  housing_median_age   total_rooms  \\\n",
       "count  20640.000000  20640.000000        20629.000000  20625.000000   \n",
       "mean    -119.569704     35.631861           28.633380   2636.314812   \n",
       "std        2.003532      2.135952           12.584167   2182.184573   \n",
       "min     -124.350000     32.540000            1.000000      2.000000   \n",
       "25%     -121.800000     33.930000           18.000000   1448.000000   \n",
       "50%     -118.490000     34.260000           29.000000   2127.000000   \n",
       "75%     -118.010000     37.710000           37.000000   3148.000000   \n",
       "max     -114.310000     41.950000           52.000000  39320.000000   \n",
       "\n",
       "       total_bedrooms    population    households  median_income  \\\n",
       "count    20433.000000  20621.000000  20626.000000   20632.000000   \n",
       "mean       537.870553   1425.785510    499.675555       3.871003   \n",
       "std        421.385070   1132.799376    382.405161       1.899969   \n",
       "min          1.000000      3.000000      1.000000       0.499900   \n",
       "25%        296.000000    787.000000    280.000000       2.563400   \n",
       "50%        435.000000   1166.000000    410.000000       3.535250   \n",
       "75%        647.000000   1725.000000    605.000000       4.743700   \n",
       "max       6445.000000  35682.000000   6082.000000      15.000100   \n",
       "\n",
       "       median_house_value  \n",
       "count        20560.000000  \n",
       "mean        207334.239348  \n",
       "std         115352.171422  \n",
       "min          14999.000000  \n",
       "25%         120600.000000  \n",
       "50%         180400.000000  \n",
       "75%         265225.000000  \n",
       "max         500001.000000  "
      ]
     },
     "execution_count": 4,
     "metadata": {},
     "output_type": "execute_result"
    }
   ],
   "source": [
    "#Using df.describe to understand the 5 summary statisctics of data  \n",
    "df.describe()"
   ]
  },
  {
   "cell_type": "code",
   "execution_count": 5,
   "id": "646e128e",
   "metadata": {},
   "outputs": [
    {
     "data": {
      "text/plain": [
       "longitude               0\n",
       "latitude                0\n",
       "housing_median_age     11\n",
       "total_rooms            15\n",
       "total_bedrooms        207\n",
       "population             19\n",
       "households             14\n",
       "median_income           8\n",
       "median_house_value     80\n",
       "ocean_proximity       154\n",
       "dtype: int64"
      ]
     },
     "execution_count": 5,
     "metadata": {},
     "output_type": "execute_result"
    }
   ],
   "source": [
    "#Checking for na values in dataset\n",
    "df.isna().sum()"
   ]
  },
  {
   "cell_type": "code",
   "execution_count": 6,
   "id": "fbb1b480",
   "metadata": {},
   "outputs": [
    {
     "data": {
      "text/plain": [
       "<1H OCEAN     9058\n",
       "INLAND        6490\n",
       "NEAR OCEAN    2647\n",
       "NEAR BAY      2239\n",
       "NEAR_bay        32\n",
       "inland          15\n",
       "ISLAND           5\n",
       "Name: ocean_proximity, dtype: int64"
      ]
     },
     "execution_count": 6,
     "metadata": {},
     "output_type": "execute_result"
    }
   ],
   "source": [
    "#Checking the count of uniques of only categorical feature that we have \n",
    "df['ocean_proximity'].value_counts()\n",
    "#Here we can see that their is inconsistancy present for example : Near_by and Near Bay \n",
    "#We will treat this inconsistancy in futher code"
   ]
  },
  {
   "cell_type": "code",
   "execution_count": 7,
   "id": "5e0522ed",
   "metadata": {},
   "outputs": [
    {
     "data": {
      "text/plain": [
       "(20640, 10)"
      ]
     },
     "execution_count": 7,
     "metadata": {},
     "output_type": "execute_result"
    }
   ],
   "source": [
    "#Checking the shape of the data i.e we have 20640 rows and 10 columns present till now\n",
    "df.shape"
   ]
  },
  {
   "cell_type": "markdown",
   "id": "fb637e40",
   "metadata": {},
   "source": [
    "# Investigate the existence of errors/inconsistencies in the fields and solve them"
   ]
  },
  {
   "cell_type": "code",
   "execution_count": 8,
   "id": "41bff012",
   "metadata": {},
   "outputs": [
    {
     "data": {
      "text/plain": [
       "NEAR_OCEAN    11705\n",
       "INLAND         6510\n",
       "NEAR_BAY       2271\n",
       "Name: ocean_proximity, dtype: int64"
      ]
     },
     "execution_count": 8,
     "metadata": {},
     "output_type": "execute_result"
    }
   ],
   "source": [
    "# As discussied above here first we have converted the values of ocean proximity column in capital string \n",
    "#Then have replace the wrong values with correct name\n",
    "#After checking the count again we can only find 3 unique values for ocean proximity column\n",
    "\n",
    "df['ocean_proximity'] = df['ocean_proximity'].str.upper()\n",
    "df['ocean_proximity'].replace({'NEAR BAY': 'NEAR_BAY', 'ISLAND': 'INLAND','<1H OCEAN' :'NEAR_OCEAN', 'NEAR OCEAN':'NEAR_OCEAN' }, inplace=True)\n",
    "df['ocean_proximity'].value_counts()"
   ]
  },
  {
   "cell_type": "code",
   "execution_count": 9,
   "id": "62caf050",
   "metadata": {},
   "outputs": [
    {
     "data": {
      "text/plain": [
       "<AxesSubplot: >"
      ]
     },
     "execution_count": 9,
     "metadata": {},
     "output_type": "execute_result"
    },
    {
     "data": {
      "image/png": "[encoded data removed]",
      "text/plain": [
       "<Figure size 504x504 with 1 Axes>"
      ]
     },
     "metadata": {
      "needs_background": "light"
     },
     "output_type": "display_data"
    }
   ],
   "source": [
    "#Here we are checking the distribution of meadian house value which is our target variable and here we can find out that data is not distributed well and has outliers present\n",
    "df['median_house_value'].hist(bins=50, figsize = (7,7))"
   ]
  },
  {
   "cell_type": "code",
   "execution_count": 10,
   "id": "e81c172f",
   "metadata": {},
   "outputs": [
    {
     "data": {
      "image/png": "[encoded data removed]",
      "text/plain": [
       "<Figure size 1080x1080 with 12 Axes>"
      ]
     },
     "metadata": {
      "needs_background": "light"
     },
     "output_type": "display_data"
    }
   ],
   "source": [
    "#One more way to check outliers is by using box plot\n",
    "df['median_house_value'].plot(kind = \"box\" , subplots = True , figsize = (15,15) ,  layout = (3,4))\n",
    "plt.show()"
   ]
  },
  {
   "cell_type": "markdown",
   "id": "767d734b",
   "metadata": {},
   "source": [
    "# Detect and handle outliers for the “median_house_value” field using:\n",
    "a. Apply the whiskers approach to identify outlier rows"
   ]
  },
  {
   "cell_type": "code",
   "execution_count": 11,
   "id": "ffe6380c",
   "metadata": {},
   "outputs": [],
   "source": [
    "#Now are removing the outliers from median house value column by using IQR (Inter Quartile Range)\n",
    "\n",
    "#Here we are calculating the IQR\n",
    "Q1 = df['median_house_value'].quantile(0.25)\n",
    "Q3 = df['median_house_value'].quantile(0.75)\n",
    "IQR = Q3 - Q1\n",
    "\n",
    "#We are defining the lower and upper bound \n",
    "lower_bound = Q1 - 1.5 * IQR\n",
    "upper_bound = Q3 + 1.5 * IQR\n",
    "\n",
    "#Now we are removing the outliers and are keeping the values which are greater then lower bound and smaller then upper bound\n",
    "outliers = (df['median_house_value'] < lower_bound) | (df['median_house_value']> upper_bound)\n",
    "df_no_outliers = df[~outliers]"
   ]
  },
  {
   "cell_type": "code",
   "execution_count": 12,
   "id": "92e90272",
   "metadata": {},
   "outputs": [
    {
     "data": {
      "text/plain": [
       "144625.0"
      ]
     },
     "execution_count": 12,
     "metadata": {},
     "output_type": "execute_result"
    }
   ],
   "source": [
    "IQR"
   ]
  },
  {
   "cell_type": "code",
   "execution_count": 13,
   "id": "6cdb8843",
   "metadata": {},
   "outputs": [
    {
     "data": {
      "text/plain": [
       "-96337.5"
      ]
     },
     "execution_count": 13,
     "metadata": {},
     "output_type": "execute_result"
    }
   ],
   "source": [
    "lower_bound"
   ]
  },
  {
   "cell_type": "code",
   "execution_count": 14,
   "id": "c5e456cd",
   "metadata": {},
   "outputs": [
    {
     "data": {
      "text/plain": [
       "482162.5"
      ]
     },
     "execution_count": 14,
     "metadata": {},
     "output_type": "execute_result"
    }
   ],
   "source": [
    "upper_bound"
   ]
  },
  {
   "cell_type": "code",
   "execution_count": 15,
   "id": "b597c251",
   "metadata": {},
   "outputs": [
    {
     "data": {
      "text/plain": [
       "(19568, 10)"
      ]
     },
     "execution_count": 15,
     "metadata": {},
     "output_type": "execute_result"
    }
   ],
   "source": [
    "df_no_outliers.shape"
   ]
  },
  {
   "cell_type": "code",
   "execution_count": 16,
   "id": "e0e7faa7",
   "metadata": {},
   "outputs": [
    {
     "data": {
      "text/plain": [
       "<AxesSubplot: >"
      ]
     },
     "execution_count": 16,
     "metadata": {},
     "output_type": "execute_result"
    },
    {
     "data": {
      "image/png": "[encoded data removed]",
      "text/plain": [
       "<Figure size 504x504 with 1 Axes>"
      ]
     },
     "metadata": {
      "needs_background": "light"
     },
     "output_type": "display_data"
    }
   ],
   "source": [
    "#After removing the outlier here we have again used the histogram plot to check whether outoutliers are removed or not\n",
    "df_no_outliers[\"median_house_value\"].hist(bins=50, figsize = (7,7))\n",
    "#After visualising we can observe that outliers had been remove by comparing the plot with previous one"
   ]
  },
  {
   "cell_type": "markdown",
   "id": "6aff4027",
   "metadata": {},
   "source": [
    "# b. (Optional) Apply Z-score normalization and choose appropriate threshold to match the outliers from the whiskers approach "
   ]
  },
  {
   "cell_type": "code",
   "execution_count": 17,
   "id": "48d90076",
   "metadata": {},
   "outputs": [
    {
     "name": "stdout",
     "output_type": "stream",
     "text": [
      "no. of outliers:  2017\n"
     ]
    },
    {
     "data": {
      "text/html": [
       "<div>\n",
       "<style scoped>\n",
       "    .dataframe tbody tr th:only-of-type {\n",
       "        vertical-align: middle;\n",
       "    }\n",
       "\n",
       "    .dataframe tbody tr th {\n",
       "        vertical-align: top;\n",
       "    }\n",
       "\n",
       "    .dataframe thead th {\n",
       "        text-align: right;\n",
       "    }\n",
       "</style>\n",
       "<table border=\"1\" class=\"dataframe\">\n",
       "  <thead>\n",
       "    <tr style=\"text-align: right;\">\n",
       "      <th></th>\n",
       "      <th>longitude</th>\n",
       "      <th>latitude</th>\n",
       "      <th>housing_median_age</th>\n",
       "      <th>total_rooms</th>\n",
       "      <th>total_bedrooms</th>\n",
       "      <th>population</th>\n",
       "      <th>households</th>\n",
       "      <th>median_income</th>\n",
       "      <th>median_house_value</th>\n",
       "      <th>ocean_proximity</th>\n",
       "      <th>z_score</th>\n",
       "    </tr>\n",
       "  </thead>\n",
       "  <tbody>\n",
       "    <tr>\n",
       "      <th>18623</th>\n",
       "      <td>-118.40</td>\n",
       "      <td>34.15</td>\n",
       "      <td>41.0</td>\n",
       "      <td>2394.0</td>\n",
       "      <td>500.0</td>\n",
       "      <td>837.0</td>\n",
       "      <td>417.0</td>\n",
       "      <td>4.3889</td>\n",
       "      <td>380400.0</td>\n",
       "      <td>NEAR_OCEAN</td>\n",
       "      <td>1.500325</td>\n",
       "    </tr>\n",
       "    <tr>\n",
       "      <th>18624</th>\n",
       "      <td>-118.32</td>\n",
       "      <td>34.08</td>\n",
       "      <td>52.0</td>\n",
       "      <td>1164.0</td>\n",
       "      <td>257.0</td>\n",
       "      <td>575.0</td>\n",
       "      <td>251.0</td>\n",
       "      <td>3.1250</td>\n",
       "      <td>380400.0</td>\n",
       "      <td>NEAR_OCEAN</td>\n",
       "      <td>1.500325</td>\n",
       "    </tr>\n",
       "    <tr>\n",
       "      <th>18625</th>\n",
       "      <td>-118.24</td>\n",
       "      <td>34.16</td>\n",
       "      <td>52.0</td>\n",
       "      <td>1904.0</td>\n",
       "      <td>297.0</td>\n",
       "      <td>797.0</td>\n",
       "      <td>286.0</td>\n",
       "      <td>6.6603</td>\n",
       "      <td>380400.0</td>\n",
       "      <td>NEAR_OCEAN</td>\n",
       "      <td>1.500325</td>\n",
       "    </tr>\n",
       "    <tr>\n",
       "      <th>18626</th>\n",
       "      <td>-122.44</td>\n",
       "      <td>37.75</td>\n",
       "      <td>52.0</td>\n",
       "      <td>1573.0</td>\n",
       "      <td>334.0</td>\n",
       "      <td>725.0</td>\n",
       "      <td>338.0</td>\n",
       "      <td>5.0505</td>\n",
       "      <td>380400.0</td>\n",
       "      <td>NEAR_BAY</td>\n",
       "      <td>1.500325</td>\n",
       "    </tr>\n",
       "    <tr>\n",
       "      <th>18627</th>\n",
       "      <td>-119.23</td>\n",
       "      <td>34.15</td>\n",
       "      <td>18.0</td>\n",
       "      <td>6213.0</td>\n",
       "      <td>1188.0</td>\n",
       "      <td>2679.0</td>\n",
       "      <td>1000.0</td>\n",
       "      <td>3.7480</td>\n",
       "      <td>380400.0</td>\n",
       "      <td>NEAR_OCEAN</td>\n",
       "      <td>1.500325</td>\n",
       "    </tr>\n",
       "  </tbody>\n",
       "</table>\n",
       "</div>"
      ],
      "text/plain": [
       "       longitude  latitude  housing_median_age  total_rooms  total_bedrooms  \\\n",
       "18623    -118.40     34.15                41.0       2394.0           500.0   \n",
       "18624    -118.32     34.08                52.0       1164.0           257.0   \n",
       "18625    -118.24     34.16                52.0       1904.0           297.0   \n",
       "18626    -122.44     37.75                52.0       1573.0           334.0   \n",
       "18627    -119.23     34.15                18.0       6213.0          1188.0   \n",
       "\n",
       "       population  households  median_income  median_house_value  \\\n",
       "18623       837.0       417.0         4.3889            380400.0   \n",
       "18624       575.0       251.0         3.1250            380400.0   \n",
       "18625       797.0       286.0         6.6603            380400.0   \n",
       "18626       725.0       338.0         5.0505            380400.0   \n",
       "18627      2679.0      1000.0         3.7480            380400.0   \n",
       "\n",
       "      ocean_proximity   z_score  \n",
       "18623      NEAR_OCEAN  1.500325  \n",
       "18624      NEAR_OCEAN  1.500325  \n",
       "18625      NEAR_OCEAN  1.500325  \n",
       "18626        NEAR_BAY  1.500325  \n",
       "18627      NEAR_OCEAN  1.500325  "
      ]
     },
     "execution_count": 17,
     "metadata": {},
     "output_type": "execute_result"
    }
   ],
   "source": [
    "#Here we have used Z Score normalization technique and for that first we have calculated mean and \n",
    "#standard deviation for calculating Zscore \n",
    "\n",
    "# Z-score\n",
    "mean = df['median_house_value'].mean()\n",
    "std = df['median_house_value'].std()\n",
    "df['z_score'] = (df['median_house_value'] - mean) / std\n",
    "\n",
    "#We have used threshold as 1.5\n",
    "\n",
    "threshold = 1.5\n",
    "\n",
    "#Here we can find out that their are 2017 outliers \n",
    "outliers = df[df['z_score'] > threshold]\n",
    "print(\"no. of outliers: \",len(outliers))\n",
    "outliers.head()"
   ]
  },
  {
   "cell_type": "code",
   "execution_count": 18,
   "id": "1cb6c747",
   "metadata": {},
   "outputs": [],
   "source": [
    "#Here we can find out that their are 2017 outliers \n",
    "new_df = df[df['z_score'] < threshold]"
   ]
  },
  {
   "cell_type": "code",
   "execution_count": 19,
   "id": "9d8c4152",
   "metadata": {},
   "outputs": [
    {
     "data": {
      "image/png": "[encoded data removed]",
      "text/plain": [
       "<Figure size 720x720 with 12 Axes>"
      ]
     },
     "metadata": {
      "needs_background": "light"
     },
     "output_type": "display_data"
    }
   ],
   "source": [
    "new_df['median_house_value'].plot(kind = \"box\" , subplots = True , figsize = (10,10) ,  layout = (3,4))\n",
    "plt.show()"
   ]
  },
  {
   "cell_type": "markdown",
   "id": "2bb4a7ef",
   "metadata": {},
   "source": [
    "# Handle missing values in the dataset:\n",
    "# a. For numerical features:\n",
    "# i. Choose whether mean/median is better to impute the values\n",
    "# ii. (Optional) look for other ways to impute based on other categorical variables (1 bonus point)\n",
    "# b. For categorical features: Choose the appropriate imputation method"
   ]
  },
  {
   "cell_type": "code",
   "execution_count": 20,
   "id": "5c83b4d7",
   "metadata": {},
   "outputs": [
    {
     "data": {
      "text/plain": [
       "longitude               0\n",
       "latitude                0\n",
       "housing_median_age      3\n",
       "total_rooms            11\n",
       "total_bedrooms        188\n",
       "population             10\n",
       "households             14\n",
       "median_income           4\n",
       "median_house_value      0\n",
       "ocean_proximity       147\n",
       "z_score                 0\n",
       "dtype: int64"
      ]
     },
     "execution_count": 20,
     "metadata": {},
     "output_type": "execute_result"
    }
   ],
   "source": [
    "#Finding out the missing values \n",
    "new_df.isna().sum()"
   ]
  },
  {
   "cell_type": "code",
   "execution_count": 21,
   "id": "da76a4ab",
   "metadata": {},
   "outputs": [],
   "source": [
    "# Here we have imputed the numerical missing values by median and to increase the efficency I imputed the values by calculating median of each value data type of ocean_proximity   \n",
    "# Imputed categorical data by mode that is highest occuring value but I belive that it will increase the bias of data.\n",
    "#I have used median because it is not affected by outliers\n",
    "\n",
    "categorical_columns = [\"ocean_proximity\"]\n",
    "numerical_columns = [\"housing_median_age\", \"total_rooms\", \"total_bedrooms\", \"population\", \"households\", \"median_income\", \"median_house_value\"]\n",
    "\n",
    "\n",
    "# Impute missing values for categorical columns with mode\n",
    "for column in categorical_columns:\n",
    "    mode_value = new_df[column].mode()[0]\n",
    "    new_df[column].fillna(mode_value, inplace=True)\n",
    "\n",
    "# Impute missing values for numerical columns with median\n",
    "for column in numerical_columns:\n",
    "    median_value =new_df.groupby('ocean_proximity')[column].transform('median')\n",
    "    new_df[column].fillna(median_value, inplace=True)"
   ]
  },
  {
   "cell_type": "code",
   "execution_count": 22,
   "id": "a3d7d644",
   "metadata": {},
   "outputs": [
    {
     "data": {
      "text/plain": [
       "longitude             0\n",
       "latitude              0\n",
       "housing_median_age    0\n",
       "total_rooms           0\n",
       "total_bedrooms        0\n",
       "population            0\n",
       "households            0\n",
       "median_income         0\n",
       "median_house_value    0\n",
       "ocean_proximity       0\n",
       "z_score               0\n",
       "dtype: int64"
      ]
     },
     "execution_count": 22,
     "metadata": {},
     "output_type": "execute_result"
    }
   ],
   "source": [
    "#Again checking for na values but their are none\n",
    "new_df.isna().sum()"
   ]
  },
  {
   "cell_type": "markdown",
   "id": "b0c39fd5",
   "metadata": {},
   "source": [
    "# Engineer one new feature based on existing features."
   ]
  },
  {
   "cell_type": "code",
   "execution_count": 23,
   "id": "b5582bd1",
   "metadata": {},
   "outputs": [],
   "source": [
    "#Here we have created a new feature called bedroom_ratio which will tell us that outof total rooms how many are bedrooms\n",
    "new_df['bedrooms_ratio'] = new_df['total_bedrooms'] / new_df['total_rooms']"
   ]
  },
  {
   "cell_type": "code",
   "execution_count": 24,
   "id": "1b0ef276",
   "metadata": {},
   "outputs": [
    {
     "data": {
      "text/html": [
       "<div>\n",
       "<style scoped>\n",
       "    .dataframe tbody tr th:only-of-type {\n",
       "        vertical-align: middle;\n",
       "    }\n",
       "\n",
       "    .dataframe tbody tr th {\n",
       "        vertical-align: top;\n",
       "    }\n",
       "\n",
       "    .dataframe thead th {\n",
       "        text-align: right;\n",
       "    }\n",
       "</style>\n",
       "<table border=\"1\" class=\"dataframe\">\n",
       "  <thead>\n",
       "    <tr style=\"text-align: right;\">\n",
       "      <th></th>\n",
       "      <th>longitude</th>\n",
       "      <th>latitude</th>\n",
       "      <th>housing_median_age</th>\n",
       "      <th>total_rooms</th>\n",
       "      <th>total_bedrooms</th>\n",
       "      <th>population</th>\n",
       "      <th>households</th>\n",
       "      <th>median_income</th>\n",
       "      <th>median_house_value</th>\n",
       "      <th>ocean_proximity</th>\n",
       "      <th>z_score</th>\n",
       "      <th>bedrooms_ratio</th>\n",
       "    </tr>\n",
       "  </thead>\n",
       "  <tbody>\n",
       "    <tr>\n",
       "      <th>0</th>\n",
       "      <td>-122.74</td>\n",
       "      <td>39.71</td>\n",
       "      <td>16.0</td>\n",
       "      <td>255.0</td>\n",
       "      <td>73.0</td>\n",
       "      <td>85.0</td>\n",
       "      <td>38.0</td>\n",
       "      <td>1.6607</td>\n",
       "      <td>14999.0</td>\n",
       "      <td>INLAND</td>\n",
       "      <td>-1.667374</td>\n",
       "      <td>0.286275</td>\n",
       "    </tr>\n",
       "    <tr>\n",
       "      <th>1</th>\n",
       "      <td>-117.02</td>\n",
       "      <td>36.40</td>\n",
       "      <td>19.0</td>\n",
       "      <td>619.0</td>\n",
       "      <td>239.0</td>\n",
       "      <td>490.0</td>\n",
       "      <td>164.0</td>\n",
       "      <td>2.1000</td>\n",
       "      <td>14999.0</td>\n",
       "      <td>INLAND</td>\n",
       "      <td>-1.667374</td>\n",
       "      <td>0.386107</td>\n",
       "    </tr>\n",
       "    <tr>\n",
       "      <th>2</th>\n",
       "      <td>-117.86</td>\n",
       "      <td>34.24</td>\n",
       "      <td>52.0</td>\n",
       "      <td>803.0</td>\n",
       "      <td>267.0</td>\n",
       "      <td>628.0</td>\n",
       "      <td>225.0</td>\n",
       "      <td>4.1932</td>\n",
       "      <td>14999.0</td>\n",
       "      <td>INLAND</td>\n",
       "      <td>-1.667374</td>\n",
       "      <td>0.332503</td>\n",
       "    </tr>\n",
       "    <tr>\n",
       "      <th>3</th>\n",
       "      <td>-123.17</td>\n",
       "      <td>40.31</td>\n",
       "      <td>36.0</td>\n",
       "      <td>98.0</td>\n",
       "      <td>28.0</td>\n",
       "      <td>18.0</td>\n",
       "      <td>8.0</td>\n",
       "      <td>0.5360</td>\n",
       "      <td>14999.0</td>\n",
       "      <td>INLAND</td>\n",
       "      <td>-1.667374</td>\n",
       "      <td>0.285714</td>\n",
       "    </tr>\n",
       "    <tr>\n",
       "      <th>4</th>\n",
       "      <td>-118.33</td>\n",
       "      <td>34.15</td>\n",
       "      <td>39.0</td>\n",
       "      <td>493.0</td>\n",
       "      <td>168.0</td>\n",
       "      <td>259.0</td>\n",
       "      <td>138.0</td>\n",
       "      <td>2.3667</td>\n",
       "      <td>17500.0</td>\n",
       "      <td>NEAR_OCEAN</td>\n",
       "      <td>-1.645693</td>\n",
       "      <td>0.340771</td>\n",
       "    </tr>\n",
       "    <tr>\n",
       "      <th>...</th>\n",
       "      <td>...</td>\n",
       "      <td>...</td>\n",
       "      <td>...</td>\n",
       "      <td>...</td>\n",
       "      <td>...</td>\n",
       "      <td>...</td>\n",
       "      <td>...</td>\n",
       "      <td>...</td>\n",
       "      <td>...</td>\n",
       "      <td>...</td>\n",
       "      <td>...</td>\n",
       "      <td>...</td>\n",
       "    </tr>\n",
       "    <tr>\n",
       "      <th>18618</th>\n",
       "      <td>-121.34</td>\n",
       "      <td>38.59</td>\n",
       "      <td>22.0</td>\n",
       "      <td>3273.0</td>\n",
       "      <td>480.0</td>\n",
       "      <td>1151.0</td>\n",
       "      <td>463.0</td>\n",
       "      <td>8.0500</td>\n",
       "      <td>380000.0</td>\n",
       "      <td>INLAND</td>\n",
       "      <td>1.496857</td>\n",
       "      <td>0.146654</td>\n",
       "    </tr>\n",
       "    <tr>\n",
       "      <th>18619</th>\n",
       "      <td>-122.41</td>\n",
       "      <td>37.79</td>\n",
       "      <td>52.0</td>\n",
       "      <td>3598.0</td>\n",
       "      <td>1011.0</td>\n",
       "      <td>2062.0</td>\n",
       "      <td>966.0</td>\n",
       "      <td>2.9871</td>\n",
       "      <td>380000.0</td>\n",
       "      <td>NEAR_BAY</td>\n",
       "      <td>1.496857</td>\n",
       "      <td>0.280989</td>\n",
       "    </tr>\n",
       "    <tr>\n",
       "      <th>18620</th>\n",
       "      <td>-120.66</td>\n",
       "      <td>35.20</td>\n",
       "      <td>13.0</td>\n",
       "      <td>5138.0</td>\n",
       "      <td>713.0</td>\n",
       "      <td>1838.0</td>\n",
       "      <td>645.0</td>\n",
       "      <td>5.9676</td>\n",
       "      <td>380000.0</td>\n",
       "      <td>NEAR_OCEAN</td>\n",
       "      <td>1.496857</td>\n",
       "      <td>0.138770</td>\n",
       "    </tr>\n",
       "    <tr>\n",
       "      <th>18621</th>\n",
       "      <td>-118.24</td>\n",
       "      <td>34.24</td>\n",
       "      <td>31.0</td>\n",
       "      <td>3812.0</td>\n",
       "      <td>595.0</td>\n",
       "      <td>1645.0</td>\n",
       "      <td>591.0</td>\n",
       "      <td>7.5850</td>\n",
       "      <td>380100.0</td>\n",
       "      <td>NEAR_OCEAN</td>\n",
       "      <td>1.497724</td>\n",
       "      <td>0.156086</td>\n",
       "    </tr>\n",
       "    <tr>\n",
       "      <th>18622</th>\n",
       "      <td>-118.32</td>\n",
       "      <td>34.08</td>\n",
       "      <td>52.0</td>\n",
       "      <td>2370.0</td>\n",
       "      <td>473.0</td>\n",
       "      <td>1053.0</td>\n",
       "      <td>434.0</td>\n",
       "      <td>4.1429</td>\n",
       "      <td>380300.0</td>\n",
       "      <td>NEAR_OCEAN</td>\n",
       "      <td>1.499458</td>\n",
       "      <td>0.199578</td>\n",
       "    </tr>\n",
       "  </tbody>\n",
       "</table>\n",
       "<p>18543 rows × 12 columns</p>\n",
       "</div>"
      ],
      "text/plain": [
       "       longitude  latitude  housing_median_age  total_rooms  total_bedrooms  \\\n",
       "0        -122.74     39.71                16.0        255.0            73.0   \n",
       "1        -117.02     36.40                19.0        619.0           239.0   \n",
       "2        -117.86     34.24                52.0        803.0           267.0   \n",
       "3        -123.17     40.31                36.0         98.0            28.0   \n",
       "4        -118.33     34.15                39.0        493.0           168.0   \n",
       "...          ...       ...                 ...          ...             ...   \n",
       "18618    -121.34     38.59                22.0       3273.0           480.0   \n",
       "18619    -122.41     37.79                52.0       3598.0          1011.0   \n",
       "18620    -120.66     35.20                13.0       5138.0           713.0   \n",
       "18621    -118.24     34.24                31.0       3812.0           595.0   \n",
       "18622    -118.32     34.08                52.0       2370.0           473.0   \n",
       "\n",
       "       population  households  median_income  median_house_value  \\\n",
       "0            85.0        38.0         1.6607             14999.0   \n",
       "1           490.0       164.0         2.1000             14999.0   \n",
       "2           628.0       225.0         4.1932             14999.0   \n",
       "3            18.0         8.0         0.5360             14999.0   \n",
       "4           259.0       138.0         2.3667             17500.0   \n",
       "...           ...         ...            ...                 ...   \n",
       "18618      1151.0       463.0         8.0500            380000.0   \n",
       "18619      2062.0       966.0         2.9871            380000.0   \n",
       "18620      1838.0       645.0         5.9676            380000.0   \n",
       "18621      1645.0       591.0         7.5850            380100.0   \n",
       "18622      1053.0       434.0         4.1429            380300.0   \n",
       "\n",
       "      ocean_proximity   z_score  bedrooms_ratio  \n",
       "0              INLAND -1.667374        0.286275  \n",
       "1              INLAND -1.667374        0.386107  \n",
       "2              INLAND -1.667374        0.332503  \n",
       "3              INLAND -1.667374        0.285714  \n",
       "4          NEAR_OCEAN -1.645693        0.340771  \n",
       "...               ...       ...             ...  \n",
       "18618          INLAND  1.496857        0.146654  \n",
       "18619        NEAR_BAY  1.496857        0.280989  \n",
       "18620      NEAR_OCEAN  1.496857        0.138770  \n",
       "18621      NEAR_OCEAN  1.497724        0.156086  \n",
       "18622      NEAR_OCEAN  1.499458        0.199578  \n",
       "\n",
       "[18543 rows x 12 columns]"
      ]
     },
     "execution_count": 24,
     "metadata": {},
     "output_type": "execute_result"
    }
   ],
   "source": [
    "new_df"
   ]
  },
  {
   "cell_type": "markdown",
   "id": "62880ccb",
   "metadata": {},
   "source": [
    "# Investigate the distribution of housing prices across different ocean proximities in California"
   ]
  },
  {
   "cell_type": "markdown",
   "id": "06f81fb1",
   "metadata": {},
   "source": [
    "Here we can see observe that the prices for houses near bay are costly whereas houses in inland are cheeper."
   ]
  },
  {
   "cell_type": "code",
   "execution_count": 50,
   "id": "b4cdb4d3",
   "metadata": {},
   "outputs": [
    {
     "data": {
      "image/png": "[encoded data removed]",
      "text/plain": [
       "<Figure size 432x432 with 1 Axes>"
      ]
     },
     "metadata": {},
     "output_type": "display_data"
    }
   ],
   "source": [
    "sns.set(style=\"whitegrid\")\n",
    "\n",
    "plt.figure(figsize=(6, 6))\n",
    "sns.boxplot(x='ocean_proximity', y='median_house_value', data=new_df)\n",
    "plt.title('Distribution of Housing Prices Across Ocean Proximities')\n",
    "plt.xlabel('Ocean Proximity')\n",
    "plt.ylabel('Median House Value')\n",
    "plt.show()"
   ]
  },
  {
   "cell_type": "markdown",
   "id": "6a50b9c9",
   "metadata": {},
   "source": [
    "# Analyze the relationship between median income and housing prices"
   ]
  },
  {
   "cell_type": "markdown",
   "id": "9ef21ace",
   "metadata": {},
   "source": [
    "Here we can see a linear and positive relationship between median income and housing prices and is 64% corelated"
   ]
  },
  {
   "cell_type": "code",
   "execution_count": 26,
   "id": "01b274b8",
   "metadata": {},
   "outputs": [
    {
     "data": {
      "image/png": "[encoded data removed]",
      "text/plain": [
       "<Figure size 720x432 with 1 Axes>"
      ]
     },
     "metadata": {},
     "output_type": "display_data"
    },
    {
     "name": "stdout",
     "output_type": "stream",
     "text": [
      "Correlation Coefficient: 0.6429201931476213\n"
     ]
    }
   ],
   "source": [
    "plt.figure(figsize=(10, 6))\n",
    "sns.scatterplot(x='median_income', y='median_house_value', data=new_df)\n",
    "plt.title('Relationship Between Median Income and Housing Prices')\n",
    "plt.xlabel('Median Income')\n",
    "plt.ylabel('Median House Value')\n",
    "plt.show()\n",
    "\n",
    "# Calculated correlation coefficient to check the correlation\n",
    "correlation_coef = df_no_outliers['median_income'].corr(df_no_outliers['median_house_value'])\n",
    "print(f'Correlation Coefficient: {correlation_coef}')"
   ]
  },
  {
   "cell_type": "markdown",
   "id": "91b0d077",
   "metadata": {},
   "source": [
    "# Encode categorical variables using using appropriate method based on feature characteristics."
   ]
  },
  {
   "cell_type": "markdown",
   "id": "f67c96a1",
   "metadata": {},
   "source": [
    "Here we have used pd.getdummies to encoded the categorical variable. As there are more then 2 values so we have not used onehot encoding to avoid ordinal behaviour of data."
   ]
  },
  {
   "cell_type": "code",
   "execution_count": 27,
   "id": "71bf423d",
   "metadata": {},
   "outputs": [],
   "source": [
    "df_encoded = pd.get_dummies(new_df, columns=['ocean_proximity'], prefix='ocean_proximity')"
   ]
  },
  {
   "cell_type": "markdown",
   "id": "b17cb074",
   "metadata": {},
   "source": [
    "Here we can see that 3 new columns are added"
   ]
  },
  {
   "cell_type": "code",
   "execution_count": 28,
   "id": "637d9ecd",
   "metadata": {
    "scrolled": true
   },
   "outputs": [
    {
     "data": {
      "text/html": [
       "<div>\n",
       "<style scoped>\n",
       "    .dataframe tbody tr th:only-of-type {\n",
       "        vertical-align: middle;\n",
       "    }\n",
       "\n",
       "    .dataframe tbody tr th {\n",
       "        vertical-align: top;\n",
       "    }\n",
       "\n",
       "    .dataframe thead th {\n",
       "        text-align: right;\n",
       "    }\n",
       "</style>\n",
       "<table border=\"1\" class=\"dataframe\">\n",
       "  <thead>\n",
       "    <tr style=\"text-align: right;\">\n",
       "      <th></th>\n",
       "      <th>longitude</th>\n",
       "      <th>latitude</th>\n",
       "      <th>housing_median_age</th>\n",
       "      <th>total_rooms</th>\n",
       "      <th>total_bedrooms</th>\n",
       "      <th>population</th>\n",
       "      <th>households</th>\n",
       "      <th>median_income</th>\n",
       "      <th>median_house_value</th>\n",
       "      <th>z_score</th>\n",
       "      <th>bedrooms_ratio</th>\n",
       "      <th>ocean_proximity_INLAND</th>\n",
       "      <th>ocean_proximity_NEAR_BAY</th>\n",
       "      <th>ocean_proximity_NEAR_OCEAN</th>\n",
       "    </tr>\n",
       "  </thead>\n",
       "  <tbody>\n",
       "    <tr>\n",
       "      <th>0</th>\n",
       "      <td>-122.74</td>\n",
       "      <td>39.71</td>\n",
       "      <td>16.0</td>\n",
       "      <td>255.0</td>\n",
       "      <td>73.0</td>\n",
       "      <td>85.0</td>\n",
       "      <td>38.0</td>\n",
       "      <td>1.6607</td>\n",
       "      <td>14999.0</td>\n",
       "      <td>-1.667374</td>\n",
       "      <td>0.286275</td>\n",
       "      <td>1</td>\n",
       "      <td>0</td>\n",
       "      <td>0</td>\n",
       "    </tr>\n",
       "    <tr>\n",
       "      <th>1</th>\n",
       "      <td>-117.02</td>\n",
       "      <td>36.40</td>\n",
       "      <td>19.0</td>\n",
       "      <td>619.0</td>\n",
       "      <td>239.0</td>\n",
       "      <td>490.0</td>\n",
       "      <td>164.0</td>\n",
       "      <td>2.1000</td>\n",
       "      <td>14999.0</td>\n",
       "      <td>-1.667374</td>\n",
       "      <td>0.386107</td>\n",
       "      <td>1</td>\n",
       "      <td>0</td>\n",
       "      <td>0</td>\n",
       "    </tr>\n",
       "    <tr>\n",
       "      <th>2</th>\n",
       "      <td>-117.86</td>\n",
       "      <td>34.24</td>\n",
       "      <td>52.0</td>\n",
       "      <td>803.0</td>\n",
       "      <td>267.0</td>\n",
       "      <td>628.0</td>\n",
       "      <td>225.0</td>\n",
       "      <td>4.1932</td>\n",
       "      <td>14999.0</td>\n",
       "      <td>-1.667374</td>\n",
       "      <td>0.332503</td>\n",
       "      <td>1</td>\n",
       "      <td>0</td>\n",
       "      <td>0</td>\n",
       "    </tr>\n",
       "    <tr>\n",
       "      <th>3</th>\n",
       "      <td>-123.17</td>\n",
       "      <td>40.31</td>\n",
       "      <td>36.0</td>\n",
       "      <td>98.0</td>\n",
       "      <td>28.0</td>\n",
       "      <td>18.0</td>\n",
       "      <td>8.0</td>\n",
       "      <td>0.5360</td>\n",
       "      <td>14999.0</td>\n",
       "      <td>-1.667374</td>\n",
       "      <td>0.285714</td>\n",
       "      <td>1</td>\n",
       "      <td>0</td>\n",
       "      <td>0</td>\n",
       "    </tr>\n",
       "    <tr>\n",
       "      <th>4</th>\n",
       "      <td>-118.33</td>\n",
       "      <td>34.15</td>\n",
       "      <td>39.0</td>\n",
       "      <td>493.0</td>\n",
       "      <td>168.0</td>\n",
       "      <td>259.0</td>\n",
       "      <td>138.0</td>\n",
       "      <td>2.3667</td>\n",
       "      <td>17500.0</td>\n",
       "      <td>-1.645693</td>\n",
       "      <td>0.340771</td>\n",
       "      <td>0</td>\n",
       "      <td>0</td>\n",
       "      <td>1</td>\n",
       "    </tr>\n",
       "    <tr>\n",
       "      <th>...</th>\n",
       "      <td>...</td>\n",
       "      <td>...</td>\n",
       "      <td>...</td>\n",
       "      <td>...</td>\n",
       "      <td>...</td>\n",
       "      <td>...</td>\n",
       "      <td>...</td>\n",
       "      <td>...</td>\n",
       "      <td>...</td>\n",
       "      <td>...</td>\n",
       "      <td>...</td>\n",
       "      <td>...</td>\n",
       "      <td>...</td>\n",
       "      <td>...</td>\n",
       "    </tr>\n",
       "    <tr>\n",
       "      <th>18618</th>\n",
       "      <td>-121.34</td>\n",
       "      <td>38.59</td>\n",
       "      <td>22.0</td>\n",
       "      <td>3273.0</td>\n",
       "      <td>480.0</td>\n",
       "      <td>1151.0</td>\n",
       "      <td>463.0</td>\n",
       "      <td>8.0500</td>\n",
       "      <td>380000.0</td>\n",
       "      <td>1.496857</td>\n",
       "      <td>0.146654</td>\n",
       "      <td>1</td>\n",
       "      <td>0</td>\n",
       "      <td>0</td>\n",
       "    </tr>\n",
       "    <tr>\n",
       "      <th>18619</th>\n",
       "      <td>-122.41</td>\n",
       "      <td>37.79</td>\n",
       "      <td>52.0</td>\n",
       "      <td>3598.0</td>\n",
       "      <td>1011.0</td>\n",
       "      <td>2062.0</td>\n",
       "      <td>966.0</td>\n",
       "      <td>2.9871</td>\n",
       "      <td>380000.0</td>\n",
       "      <td>1.496857</td>\n",
       "      <td>0.280989</td>\n",
       "      <td>0</td>\n",
       "      <td>1</td>\n",
       "      <td>0</td>\n",
       "    </tr>\n",
       "    <tr>\n",
       "      <th>18620</th>\n",
       "      <td>-120.66</td>\n",
       "      <td>35.20</td>\n",
       "      <td>13.0</td>\n",
       "      <td>5138.0</td>\n",
       "      <td>713.0</td>\n",
       "      <td>1838.0</td>\n",
       "      <td>645.0</td>\n",
       "      <td>5.9676</td>\n",
       "      <td>380000.0</td>\n",
       "      <td>1.496857</td>\n",
       "      <td>0.138770</td>\n",
       "      <td>0</td>\n",
       "      <td>0</td>\n",
       "      <td>1</td>\n",
       "    </tr>\n",
       "    <tr>\n",
       "      <th>18621</th>\n",
       "      <td>-118.24</td>\n",
       "      <td>34.24</td>\n",
       "      <td>31.0</td>\n",
       "      <td>3812.0</td>\n",
       "      <td>595.0</td>\n",
       "      <td>1645.0</td>\n",
       "      <td>591.0</td>\n",
       "      <td>7.5850</td>\n",
       "      <td>380100.0</td>\n",
       "      <td>1.497724</td>\n",
       "      <td>0.156086</td>\n",
       "      <td>0</td>\n",
       "      <td>0</td>\n",
       "      <td>1</td>\n",
       "    </tr>\n",
       "    <tr>\n",
       "      <th>18622</th>\n",
       "      <td>-118.32</td>\n",
       "      <td>34.08</td>\n",
       "      <td>52.0</td>\n",
       "      <td>2370.0</td>\n",
       "      <td>473.0</td>\n",
       "      <td>1053.0</td>\n",
       "      <td>434.0</td>\n",
       "      <td>4.1429</td>\n",
       "      <td>380300.0</td>\n",
       "      <td>1.499458</td>\n",
       "      <td>0.199578</td>\n",
       "      <td>0</td>\n",
       "      <td>0</td>\n",
       "      <td>1</td>\n",
       "    </tr>\n",
       "  </tbody>\n",
       "</table>\n",
       "<p>18543 rows × 14 columns</p>\n",
       "</div>"
      ],
      "text/plain": [
       "       longitude  latitude  housing_median_age  total_rooms  total_bedrooms  \\\n",
       "0        -122.74     39.71                16.0        255.0            73.0   \n",
       "1        -117.02     36.40                19.0        619.0           239.0   \n",
       "2        -117.86     34.24                52.0        803.0           267.0   \n",
       "3        -123.17     40.31                36.0         98.0            28.0   \n",
       "4        -118.33     34.15                39.0        493.0           168.0   \n",
       "...          ...       ...                 ...          ...             ...   \n",
       "18618    -121.34     38.59                22.0       3273.0           480.0   \n",
       "18619    -122.41     37.79                52.0       3598.0          1011.0   \n",
       "18620    -120.66     35.20                13.0       5138.0           713.0   \n",
       "18621    -118.24     34.24                31.0       3812.0           595.0   \n",
       "18622    -118.32     34.08                52.0       2370.0           473.0   \n",
       "\n",
       "       population  households  median_income  median_house_value   z_score  \\\n",
       "0            85.0        38.0         1.6607             14999.0 -1.667374   \n",
       "1           490.0       164.0         2.1000             14999.0 -1.667374   \n",
       "2           628.0       225.0         4.1932             14999.0 -1.667374   \n",
       "3            18.0         8.0         0.5360             14999.0 -1.667374   \n",
       "4           259.0       138.0         2.3667             17500.0 -1.645693   \n",
       "...           ...         ...            ...                 ...       ...   \n",
       "18618      1151.0       463.0         8.0500            380000.0  1.496857   \n",
       "18619      2062.0       966.0         2.9871            380000.0  1.496857   \n",
       "18620      1838.0       645.0         5.9676            380000.0  1.496857   \n",
       "18621      1645.0       591.0         7.5850            380100.0  1.497724   \n",
       "18622      1053.0       434.0         4.1429            380300.0  1.499458   \n",
       "\n",
       "       bedrooms_ratio  ocean_proximity_INLAND  ocean_proximity_NEAR_BAY  \\\n",
       "0            0.286275                       1                         0   \n",
       "1            0.386107                       1                         0   \n",
       "2            0.332503                       1                         0   \n",
       "3            0.285714                       1                         0   \n",
       "4            0.340771                       0                         0   \n",
       "...               ...                     ...                       ...   \n",
       "18618        0.146654                       1                         0   \n",
       "18619        0.280989                       0                         1   \n",
       "18620        0.138770                       0                         0   \n",
       "18621        0.156086                       0                         0   \n",
       "18622        0.199578                       0                         0   \n",
       "\n",
       "       ocean_proximity_NEAR_OCEAN  \n",
       "0                               0  \n",
       "1                               0  \n",
       "2                               0  \n",
       "3                               0  \n",
       "4                               1  \n",
       "...                           ...  \n",
       "18618                           0  \n",
       "18619                           0  \n",
       "18620                           1  \n",
       "18621                           1  \n",
       "18622                           1  \n",
       "\n",
       "[18543 rows x 14 columns]"
      ]
     },
     "execution_count": 28,
     "metadata": {},
     "output_type": "execute_result"
    }
   ],
   "source": [
    "df_encoded"
   ]
  },
  {
   "cell_type": "code",
   "execution_count": 29,
   "id": "ee06ccb2",
   "metadata": {},
   "outputs": [
    {
     "name": "stdout",
     "output_type": "stream",
     "text": [
      "longitude                     float64\n",
      "latitude                      float64\n",
      "housing_median_age            float64\n",
      "total_rooms                   float64\n",
      "total_bedrooms                float64\n",
      "population                    float64\n",
      "households                    float64\n",
      "median_income                 float64\n",
      "median_house_value            float64\n",
      "z_score                       float64\n",
      "bedrooms_ratio                float64\n",
      "ocean_proximity_INLAND          uint8\n",
      "ocean_proximity_NEAR_BAY        uint8\n",
      "ocean_proximity_NEAR_OCEAN      uint8\n",
      "dtype: object\n"
     ]
    }
   ],
   "source": [
    "print(df_encoded.dtypes)"
   ]
  },
  {
   "cell_type": "code",
   "execution_count": 30,
   "id": "7d412644",
   "metadata": {},
   "outputs": [
    {
     "name": "stdout",
     "output_type": "stream",
     "text": [
      "longitude                     0\n",
      "latitude                      0\n",
      "housing_median_age            0\n",
      "total_rooms                   0\n",
      "total_bedrooms                0\n",
      "population                    0\n",
      "households                    0\n",
      "median_income                 0\n",
      "median_house_value            0\n",
      "z_score                       0\n",
      "bedrooms_ratio                0\n",
      "ocean_proximity_INLAND        0\n",
      "ocean_proximity_NEAR_BAY      0\n",
      "ocean_proximity_NEAR_OCEAN    0\n",
      "dtype: int64\n"
     ]
    }
   ],
   "source": [
    "print(df_encoded.isnull().sum())"
   ]
  },
  {
   "cell_type": "code",
   "execution_count": 31,
   "id": "a5cecbbf",
   "metadata": {},
   "outputs": [],
   "source": [
    "df_encoded.drop_duplicates(inplace=True)"
   ]
  },
  {
   "cell_type": "code",
   "execution_count": 32,
   "id": "4137f2cf",
   "metadata": {},
   "outputs": [],
   "source": [
    "## Standardization allows to preserve the original distribution of the data. It scales the data such that the mean is 0 and standard deviation is 1.\n",
    "## Standardization ensures that all features are on the same scale.Features measured in different units or with different ranges can be effectively compared after standardization. \n",
    "## Standardization removes the units and makes the values comparable on a standardized scale."
   ]
  },
  {
   "cell_type": "markdown",
   "id": "4e388985",
   "metadata": {},
   "source": [
    "# Standardization"
   ]
  },
  {
   "cell_type": "code",
   "execution_count": 33,
   "id": "9a85554e",
   "metadata": {},
   "outputs": [],
   "source": [
    "numerical_columns = [\"longitude\", \"latitude\", \"housing_median_age\", \"total_rooms\", \"total_bedrooms\", \"population\", \"households\", \"median_income\", \"median_house_value\", \"bedrooms_ratio\"]\n",
    "\n",
    "# Select numerical columns and apply StandardScaler\n",
    "scaler = StandardScaler()\n",
    "df_encoded[numerical_columns] = scaler.fit_transform(df_encoded[numerical_columns])"
   ]
  },
  {
   "cell_type": "code",
   "execution_count": 34,
   "id": "5a2a6a79",
   "metadata": {},
   "outputs": [
    {
     "data": {
      "text/html": [
       "<div>\n",
       "<style scoped>\n",
       "    .dataframe tbody tr th:only-of-type {\n",
       "        vertical-align: middle;\n",
       "    }\n",
       "\n",
       "    .dataframe tbody tr th {\n",
       "        vertical-align: top;\n",
       "    }\n",
       "\n",
       "    .dataframe thead th {\n",
       "        text-align: right;\n",
       "    }\n",
       "</style>\n",
       "<table border=\"1\" class=\"dataframe\">\n",
       "  <thead>\n",
       "    <tr style=\"text-align: right;\">\n",
       "      <th></th>\n",
       "      <th>longitude</th>\n",
       "      <th>latitude</th>\n",
       "      <th>housing_median_age</th>\n",
       "      <th>total_rooms</th>\n",
       "      <th>total_bedrooms</th>\n",
       "      <th>population</th>\n",
       "      <th>households</th>\n",
       "      <th>median_income</th>\n",
       "      <th>median_house_value</th>\n",
       "      <th>z_score</th>\n",
       "      <th>bedrooms_ratio</th>\n",
       "      <th>ocean_proximity_INLAND</th>\n",
       "      <th>ocean_proximity_NEAR_BAY</th>\n",
       "      <th>ocean_proximity_NEAR_OCEAN</th>\n",
       "    </tr>\n",
       "  </thead>\n",
       "  <tbody>\n",
       "    <tr>\n",
       "      <th>0</th>\n",
       "      <td>-1.602441</td>\n",
       "      <td>1.877361</td>\n",
       "      <td>-0.977941</td>\n",
       "      <td>-1.075241</td>\n",
       "      <td>-1.098968</td>\n",
       "      <td>-1.183593</td>\n",
       "      <td>-1.199859</td>\n",
       "      <td>-1.312755</td>\n",
       "      <td>-2.019059</td>\n",
       "      <td>-1.667374</td>\n",
       "      <td>1.069549</td>\n",
       "      <td>1</td>\n",
       "      <td>0</td>\n",
       "      <td>0</td>\n",
       "    </tr>\n",
       "    <tr>\n",
       "      <th>1</th>\n",
       "      <td>1.259619</td>\n",
       "      <td>0.344358</td>\n",
       "      <td>-0.736598</td>\n",
       "      <td>-0.908412</td>\n",
       "      <td>-0.707279</td>\n",
       "      <td>-0.833004</td>\n",
       "      <td>-0.873355</td>\n",
       "      <td>-1.009518</td>\n",
       "      <td>-2.019059</td>\n",
       "      <td>-1.667374</td>\n",
       "      <td>2.614797</td>\n",
       "      <td>1</td>\n",
       "      <td>0</td>\n",
       "      <td>0</td>\n",
       "    </tr>\n",
       "    <tr>\n",
       "      <th>2</th>\n",
       "      <td>0.839316</td>\n",
       "      <td>-0.656030</td>\n",
       "      <td>1.918177</td>\n",
       "      <td>-0.824081</td>\n",
       "      <td>-0.641211</td>\n",
       "      <td>-0.713544</td>\n",
       "      <td>-0.715285</td>\n",
       "      <td>0.435361</td>\n",
       "      <td>-2.019059</td>\n",
       "      <td>-1.667374</td>\n",
       "      <td>1.785097</td>\n",
       "      <td>1</td>\n",
       "      <td>0</td>\n",
       "      <td>0</td>\n",
       "    </tr>\n",
       "    <tr>\n",
       "      <th>3</th>\n",
       "      <td>-1.817596</td>\n",
       "      <td>2.155247</td>\n",
       "      <td>0.631013</td>\n",
       "      <td>-1.147197</td>\n",
       "      <td>-1.205148</td>\n",
       "      <td>-1.241592</td>\n",
       "      <td>-1.277598</td>\n",
       "      <td>-2.089105</td>\n",
       "      <td>-2.019059</td>\n",
       "      <td>-1.667374</td>\n",
       "      <td>1.060878</td>\n",
       "      <td>1</td>\n",
       "      <td>0</td>\n",
       "      <td>0</td>\n",
       "    </tr>\n",
       "    <tr>\n",
       "      <th>4</th>\n",
       "      <td>0.604147</td>\n",
       "      <td>-0.697713</td>\n",
       "      <td>0.872357</td>\n",
       "      <td>-0.966160</td>\n",
       "      <td>-0.874809</td>\n",
       "      <td>-1.032969</td>\n",
       "      <td>-0.940729</td>\n",
       "      <td>-0.825423</td>\n",
       "      <td>-1.988354</td>\n",
       "      <td>-1.645693</td>\n",
       "      <td>1.913068</td>\n",
       "      <td>0</td>\n",
       "      <td>0</td>\n",
       "      <td>1</td>\n",
       "    </tr>\n",
       "  </tbody>\n",
       "</table>\n",
       "</div>"
      ],
      "text/plain": [
       "   longitude  latitude  housing_median_age  total_rooms  total_bedrooms  \\\n",
       "0  -1.602441  1.877361           -0.977941    -1.075241       -1.098968   \n",
       "1   1.259619  0.344358           -0.736598    -0.908412       -0.707279   \n",
       "2   0.839316 -0.656030            1.918177    -0.824081       -0.641211   \n",
       "3  -1.817596  2.155247            0.631013    -1.147197       -1.205148   \n",
       "4   0.604147 -0.697713            0.872357    -0.966160       -0.874809   \n",
       "\n",
       "   population  households  median_income  median_house_value   z_score  \\\n",
       "0   -1.183593   -1.199859      -1.312755           -2.019059 -1.667374   \n",
       "1   -0.833004   -0.873355      -1.009518           -2.019059 -1.667374   \n",
       "2   -0.713544   -0.715285       0.435361           -2.019059 -1.667374   \n",
       "3   -1.241592   -1.277598      -2.089105           -2.019059 -1.667374   \n",
       "4   -1.032969   -0.940729      -0.825423           -1.988354 -1.645693   \n",
       "\n",
       "   bedrooms_ratio  ocean_proximity_INLAND  ocean_proximity_NEAR_BAY  \\\n",
       "0        1.069549                       1                         0   \n",
       "1        2.614797                       1                         0   \n",
       "2        1.785097                       1                         0   \n",
       "3        1.060878                       1                         0   \n",
       "4        1.913068                       0                         0   \n",
       "\n",
       "   ocean_proximity_NEAR_OCEAN  \n",
       "0                           0  \n",
       "1                           0  \n",
       "2                           0  \n",
       "3                           0  \n",
       "4                           1  "
      ]
     },
     "execution_count": 34,
     "metadata": {},
     "output_type": "execute_result"
    }
   ],
   "source": [
    "df_encoded.head()"
   ]
  },
  {
   "cell_type": "markdown",
   "id": "3a4b692e",
   "metadata": {},
   "source": [
    "# Splitting the data into independent and dependent set"
   ]
  },
  {
   "cell_type": "code",
   "execution_count": 35,
   "id": "92ad6e88",
   "metadata": {},
   "outputs": [],
   "source": [
    "X = df_encoded.drop(\"median_house_value\", axis=1) \n",
    "y = df_encoded[\"median_house_value\"]"
   ]
  },
  {
   "cell_type": "code",
   "execution_count": 36,
   "id": "861147ea",
   "metadata": {},
   "outputs": [
    {
     "data": {
      "text/html": [
       "<div>\n",
       "<style scoped>\n",
       "    .dataframe tbody tr th:only-of-type {\n",
       "        vertical-align: middle;\n",
       "    }\n",
       "\n",
       "    .dataframe tbody tr th {\n",
       "        vertical-align: top;\n",
       "    }\n",
       "\n",
       "    .dataframe thead th {\n",
       "        text-align: right;\n",
       "    }\n",
       "</style>\n",
       "<table border=\"1\" class=\"dataframe\">\n",
       "  <thead>\n",
       "    <tr style=\"text-align: right;\">\n",
       "      <th></th>\n",
       "      <th>longitude</th>\n",
       "      <th>latitude</th>\n",
       "      <th>housing_median_age</th>\n",
       "      <th>total_rooms</th>\n",
       "      <th>total_bedrooms</th>\n",
       "      <th>population</th>\n",
       "      <th>households</th>\n",
       "      <th>median_income</th>\n",
       "      <th>z_score</th>\n",
       "      <th>bedrooms_ratio</th>\n",
       "      <th>ocean_proximity_INLAND</th>\n",
       "      <th>ocean_proximity_NEAR_BAY</th>\n",
       "      <th>ocean_proximity_NEAR_OCEAN</th>\n",
       "    </tr>\n",
       "  </thead>\n",
       "  <tbody>\n",
       "    <tr>\n",
       "      <th>0</th>\n",
       "      <td>-1.602441</td>\n",
       "      <td>1.877361</td>\n",
       "      <td>-0.977941</td>\n",
       "      <td>-1.075241</td>\n",
       "      <td>-1.098968</td>\n",
       "      <td>-1.183593</td>\n",
       "      <td>-1.199859</td>\n",
       "      <td>-1.312755</td>\n",
       "      <td>-1.667374</td>\n",
       "      <td>1.069549</td>\n",
       "      <td>1</td>\n",
       "      <td>0</td>\n",
       "      <td>0</td>\n",
       "    </tr>\n",
       "    <tr>\n",
       "      <th>1</th>\n",
       "      <td>1.259619</td>\n",
       "      <td>0.344358</td>\n",
       "      <td>-0.736598</td>\n",
       "      <td>-0.908412</td>\n",
       "      <td>-0.707279</td>\n",
       "      <td>-0.833004</td>\n",
       "      <td>-0.873355</td>\n",
       "      <td>-1.009518</td>\n",
       "      <td>-1.667374</td>\n",
       "      <td>2.614797</td>\n",
       "      <td>1</td>\n",
       "      <td>0</td>\n",
       "      <td>0</td>\n",
       "    </tr>\n",
       "    <tr>\n",
       "      <th>2</th>\n",
       "      <td>0.839316</td>\n",
       "      <td>-0.656030</td>\n",
       "      <td>1.918177</td>\n",
       "      <td>-0.824081</td>\n",
       "      <td>-0.641211</td>\n",
       "      <td>-0.713544</td>\n",
       "      <td>-0.715285</td>\n",
       "      <td>0.435361</td>\n",
       "      <td>-1.667374</td>\n",
       "      <td>1.785097</td>\n",
       "      <td>1</td>\n",
       "      <td>0</td>\n",
       "      <td>0</td>\n",
       "    </tr>\n",
       "    <tr>\n",
       "      <th>3</th>\n",
       "      <td>-1.817596</td>\n",
       "      <td>2.155247</td>\n",
       "      <td>0.631013</td>\n",
       "      <td>-1.147197</td>\n",
       "      <td>-1.205148</td>\n",
       "      <td>-1.241592</td>\n",
       "      <td>-1.277598</td>\n",
       "      <td>-2.089105</td>\n",
       "      <td>-1.667374</td>\n",
       "      <td>1.060878</td>\n",
       "      <td>1</td>\n",
       "      <td>0</td>\n",
       "      <td>0</td>\n",
       "    </tr>\n",
       "    <tr>\n",
       "      <th>4</th>\n",
       "      <td>0.604147</td>\n",
       "      <td>-0.697713</td>\n",
       "      <td>0.872357</td>\n",
       "      <td>-0.966160</td>\n",
       "      <td>-0.874809</td>\n",
       "      <td>-1.032969</td>\n",
       "      <td>-0.940729</td>\n",
       "      <td>-0.825423</td>\n",
       "      <td>-1.645693</td>\n",
       "      <td>1.913068</td>\n",
       "      <td>0</td>\n",
       "      <td>0</td>\n",
       "      <td>1</td>\n",
       "    </tr>\n",
       "    <tr>\n",
       "      <th>...</th>\n",
       "      <td>...</td>\n",
       "      <td>...</td>\n",
       "      <td>...</td>\n",
       "      <td>...</td>\n",
       "      <td>...</td>\n",
       "      <td>...</td>\n",
       "      <td>...</td>\n",
       "      <td>...</td>\n",
       "      <td>...</td>\n",
       "      <td>...</td>\n",
       "      <td>...</td>\n",
       "      <td>...</td>\n",
       "      <td>...</td>\n",
       "    </tr>\n",
       "    <tr>\n",
       "      <th>18618</th>\n",
       "      <td>-0.901937</td>\n",
       "      <td>1.358641</td>\n",
       "      <td>-0.495255</td>\n",
       "      <td>0.307970</td>\n",
       "      <td>-0.138623</td>\n",
       "      <td>-0.260807</td>\n",
       "      <td>-0.098554</td>\n",
       "      <td>3.097605</td>\n",
       "      <td>1.496857</td>\n",
       "      <td>-1.091555</td>\n",
       "      <td>1</td>\n",
       "      <td>0</td>\n",
       "      <td>0</td>\n",
       "    </tr>\n",
       "    <tr>\n",
       "      <th>18619</th>\n",
       "      <td>-1.437322</td>\n",
       "      <td>0.988127</td>\n",
       "      <td>1.918177</td>\n",
       "      <td>0.456925</td>\n",
       "      <td>1.114308</td>\n",
       "      <td>0.527802</td>\n",
       "      <td>1.204872</td>\n",
       "      <td>-0.397177</td>\n",
       "      <td>1.496857</td>\n",
       "      <td>0.987744</td>\n",
       "      <td>0</td>\n",
       "      <td>1</td>\n",
       "      <td>0</td>\n",
       "    </tr>\n",
       "    <tr>\n",
       "      <th>18620</th>\n",
       "      <td>-0.561692</td>\n",
       "      <td>-0.211413</td>\n",
       "      <td>-1.219285</td>\n",
       "      <td>1.162738</td>\n",
       "      <td>0.411157</td>\n",
       "      <td>0.333896</td>\n",
       "      <td>0.373063</td>\n",
       "      <td>1.660181</td>\n",
       "      <td>1.496857</td>\n",
       "      <td>-1.213595</td>\n",
       "      <td>0</td>\n",
       "      <td>0</td>\n",
       "      <td>1</td>\n",
       "    </tr>\n",
       "    <tr>\n",
       "      <th>18621</th>\n",
       "      <td>0.649179</td>\n",
       "      <td>-0.656030</td>\n",
       "      <td>0.228775</td>\n",
       "      <td>0.555005</td>\n",
       "      <td>0.132727</td>\n",
       "      <td>0.166825</td>\n",
       "      <td>0.233133</td>\n",
       "      <td>2.776628</td>\n",
       "      <td>1.497724</td>\n",
       "      <td>-0.945569</td>\n",
       "      <td>0</td>\n",
       "      <td>0</td>\n",
       "      <td>1</td>\n",
       "    </tr>\n",
       "    <tr>\n",
       "      <th>18622</th>\n",
       "      <td>0.609151</td>\n",
       "      <td>-0.730133</td>\n",
       "      <td>1.918177</td>\n",
       "      <td>-0.105893</td>\n",
       "      <td>-0.155140</td>\n",
       "      <td>-0.345641</td>\n",
       "      <td>-0.173702</td>\n",
       "      <td>0.400640</td>\n",
       "      <td>1.499458</td>\n",
       "      <td>-0.272379</td>\n",
       "      <td>0</td>\n",
       "      <td>0</td>\n",
       "      <td>1</td>\n",
       "    </tr>\n",
       "  </tbody>\n",
       "</table>\n",
       "<p>18543 rows × 13 columns</p>\n",
       "</div>"
      ],
      "text/plain": [
       "       longitude  latitude  housing_median_age  total_rooms  total_bedrooms  \\\n",
       "0      -1.602441  1.877361           -0.977941    -1.075241       -1.098968   \n",
       "1       1.259619  0.344358           -0.736598    -0.908412       -0.707279   \n",
       "2       0.839316 -0.656030            1.918177    -0.824081       -0.641211   \n",
       "3      -1.817596  2.155247            0.631013    -1.147197       -1.205148   \n",
       "4       0.604147 -0.697713            0.872357    -0.966160       -0.874809   \n",
       "...          ...       ...                 ...          ...             ...   \n",
       "18618  -0.901937  1.358641           -0.495255     0.307970       -0.138623   \n",
       "18619  -1.437322  0.988127            1.918177     0.456925        1.114308   \n",
       "18620  -0.561692 -0.211413           -1.219285     1.162738        0.411157   \n",
       "18621   0.649179 -0.656030            0.228775     0.555005        0.132727   \n",
       "18622   0.609151 -0.730133            1.918177    -0.105893       -0.155140   \n",
       "\n",
       "       population  households  median_income   z_score  bedrooms_ratio  \\\n",
       "0       -1.183593   -1.199859      -1.312755 -1.667374        1.069549   \n",
       "1       -0.833004   -0.873355      -1.009518 -1.667374        2.614797   \n",
       "2       -0.713544   -0.715285       0.435361 -1.667374        1.785097   \n",
       "3       -1.241592   -1.277598      -2.089105 -1.667374        1.060878   \n",
       "4       -1.032969   -0.940729      -0.825423 -1.645693        1.913068   \n",
       "...           ...         ...            ...       ...             ...   \n",
       "18618   -0.260807   -0.098554       3.097605  1.496857       -1.091555   \n",
       "18619    0.527802    1.204872      -0.397177  1.496857        0.987744   \n",
       "18620    0.333896    0.373063       1.660181  1.496857       -1.213595   \n",
       "18621    0.166825    0.233133       2.776628  1.497724       -0.945569   \n",
       "18622   -0.345641   -0.173702       0.400640  1.499458       -0.272379   \n",
       "\n",
       "       ocean_proximity_INLAND  ocean_proximity_NEAR_BAY  \\\n",
       "0                           1                         0   \n",
       "1                           1                         0   \n",
       "2                           1                         0   \n",
       "3                           1                         0   \n",
       "4                           0                         0   \n",
       "...                       ...                       ...   \n",
       "18618                       1                         0   \n",
       "18619                       0                         1   \n",
       "18620                       0                         0   \n",
       "18621                       0                         0   \n",
       "18622                       0                         0   \n",
       "\n",
       "       ocean_proximity_NEAR_OCEAN  \n",
       "0                               0  \n",
       "1                               0  \n",
       "2                               0  \n",
       "3                               0  \n",
       "4                               1  \n",
       "...                           ...  \n",
       "18618                           0  \n",
       "18619                           0  \n",
       "18620                           1  \n",
       "18621                           1  \n",
       "18622                           1  \n",
       "\n",
       "[18543 rows x 13 columns]"
      ]
     },
     "execution_count": 36,
     "metadata": {},
     "output_type": "execute_result"
    }
   ],
   "source": [
    "X"
   ]
  },
  {
   "cell_type": "code",
   "execution_count": 37,
   "id": "3de448e5",
   "metadata": {},
   "outputs": [
    {
     "data": {
      "text/plain": [
       "0       -2.019059\n",
       "1       -2.019059\n",
       "2       -2.019059\n",
       "3       -2.019059\n",
       "4       -1.988354\n",
       "           ...   \n",
       "18618    2.462055\n",
       "18619    2.462055\n",
       "18620    2.462055\n",
       "18621    2.463283\n",
       "18622    2.465738\n",
       "Name: median_house_value, Length: 18543, dtype: float64"
      ]
     },
     "execution_count": 37,
     "metadata": {},
     "output_type": "execute_result"
    }
   ],
   "source": [
    "y"
   ]
  },
  {
   "cell_type": "markdown",
   "id": "a2ea8385",
   "metadata": {},
   "source": [
    "# Train test split"
   ]
  },
  {
   "cell_type": "code",
   "execution_count": 38,
   "id": "36f508ef",
   "metadata": {},
   "outputs": [],
   "source": [
    "X_train, X_test, y_train, y_test = train_test_split(X, y, test_size=0.2, random_state=42)"
   ]
  },
  {
   "cell_type": "markdown",
   "id": "58227430",
   "metadata": {},
   "source": [
    "# Linear Regression"
   ]
  },
  {
   "cell_type": "code",
   "execution_count": 39,
   "id": "e34bb4dd",
   "metadata": {},
   "outputs": [],
   "source": [
    "model = LinearRegression()"
   ]
  },
  {
   "cell_type": "markdown",
   "id": "eabfad18",
   "metadata": {},
   "source": [
    "# Fitting linear regression model"
   ]
  },
  {
   "cell_type": "code",
   "execution_count": 40,
   "id": "d9235b3f",
   "metadata": {},
   "outputs": [
    {
     "data": {
      "text/html": [
       "<style>#sk-container-id-1 {color: black;background-color: white;}#sk-container-id-1 pre{padding: 0;}#sk-container-id-1 div.sk-toggleable {background-color: white;}#sk-container-id-1 label.sk-toggleable__label {cursor: pointer;display: block;width: 100%;margin-bottom: 0;padding: 0.3em;box-sizing: border-box;text-align: center;}#sk-container-id-1 label.sk-toggleable__label-arrow:before {content: \"▸\";float: left;margin-right: 0.25em;color: #696969;}#sk-container-id-1 label.sk-toggleable__label-arrow:hover:before {color: black;}#sk-container-id-1 div.sk-estimator:hover label.sk-toggleable__label-arrow:before {color: black;}#sk-container-id-1 div.sk-toggleable__content {max-height: 0;max-width: 0;overflow: hidden;text-align: left;background-color: #f0f8ff;}#sk-container-id-1 div.sk-toggleable__content pre {margin: 0.2em;color: black;border-radius: 0.25em;background-color: #f0f8ff;}#sk-container-id-1 input.sk-toggleable__control:checked~div.sk-toggleable__content {max-height: 200px;max-width: 100%;overflow: auto;}#sk-container-id-1 input.sk-toggleable__control:checked~label.sk-toggleable__label-arrow:before {content: \"▾\";}#sk-container-id-1 div.sk-estimator input.sk-toggleable__control:checked~label.sk-toggleable__label {background-color: #d4ebff;}#sk-container-id-1 div.sk-label input.sk-toggleable__control:checked~label.sk-toggleable__label {background-color: #d4ebff;}#sk-container-id-1 input.sk-hidden--visually {border: 0;clip: rect(1px 1px 1px 1px);clip: rect(1px, 1px, 1px, 1px);height: 1px;margin: -1px;overflow: hidden;padding: 0;position: absolute;width: 1px;}#sk-container-id-1 div.sk-estimator {font-family: monospace;background-color: #f0f8ff;border: 1px dotted black;border-radius: 0.25em;box-sizing: border-box;margin-bottom: 0.5em;}#sk-container-id-1 div.sk-estimator:hover {background-color: #d4ebff;}#sk-container-id-1 div.sk-parallel-item::after {content: \"\";width: 100%;border-bottom: 1px solid gray;flex-grow: 1;}#sk-container-id-1 div.sk-label:hover label.sk-toggleable__label {background-color: #d4ebff;}#sk-container-id-1 div.sk-serial::before {content: \"\";position: absolute;border-left: 1px solid gray;box-sizing: border-box;top: 0;bottom: 0;left: 50%;z-index: 0;}#sk-container-id-1 div.sk-serial {display: flex;flex-direction: column;align-items: center;background-color: white;padding-right: 0.2em;padding-left: 0.2em;position: relative;}#sk-container-id-1 div.sk-item {position: relative;z-index: 1;}#sk-container-id-1 div.sk-parallel {display: flex;align-items: stretch;justify-content: center;background-color: white;position: relative;}#sk-container-id-1 div.sk-item::before, #sk-container-id-1 div.sk-parallel-item::before {content: \"\";position: absolute;border-left: 1px solid gray;box-sizing: border-box;top: 0;bottom: 0;left: 50%;z-index: -1;}#sk-container-id-1 div.sk-parallel-item {display: flex;flex-direction: column;z-index: 1;position: relative;background-color: white;}#sk-container-id-1 div.sk-parallel-item:first-child::after {align-self: flex-end;width: 50%;}#sk-container-id-1 div.sk-parallel-item:last-child::after {align-self: flex-start;width: 50%;}#sk-container-id-1 div.sk-parallel-item:only-child::after {width: 0;}#sk-container-id-1 div.sk-dashed-wrapped {border: 1px dashed gray;margin: 0 0.4em 0.5em 0.4em;box-sizing: border-box;padding-bottom: 0.4em;background-color: white;}#sk-container-id-1 div.sk-label label {font-family: monospace;font-weight: bold;display: inline-block;line-height: 1.2em;}#sk-container-id-1 div.sk-label-container {text-align: center;}#sk-container-id-1 div.sk-container {/* jupyter's `normalize.less` sets `[hidden] { display: none; }` but bootstrap.min.css set `[hidden] { display: none !important; }` so we also need the `!important` here to be able to override the default hidden behavior on the sphinx rendered scikit-learn.org. See: https://github.com/scikit-learn/scikit-learn/issues/21755 */display: inline-block !important;position: relative;}#sk-container-id-1 div.sk-text-repr-fallback {display: none;}</style><div id=\"sk-container-id-1\" class=\"sk-top-container\"><div class=\"sk-text-repr-fallback\"><pre>LinearRegression()</pre><b>In a Jupyter environment, please rerun this cell to show the HTML representation or trust the notebook. <br />On GitHub, the HTML representation is unable to render, please try loading this page with nbviewer.org.</b></div><div class=\"sk-container\" hidden><div class=\"sk-item\"><div class=\"sk-estimator sk-toggleable\"><input class=\"sk-toggleable__control sk-hidden--visually\" id=\"sk-estimator-id-1\" type=\"checkbox\" checked><label for=\"sk-estimator-id-1\" class=\"sk-toggleable__label sk-toggleable__label-arrow\">LinearRegression</label><div class=\"sk-toggleable__content\"><pre>LinearRegression()</pre></div></div></div></div></div>"
      ],
      "text/plain": [
       "LinearRegression()"
      ]
     },
     "execution_count": 40,
     "metadata": {},
     "output_type": "execute_result"
    }
   ],
   "source": [
    "model.fit(X_train, y_train)"
   ]
  },
  {
   "cell_type": "markdown",
   "id": "8edf9b25",
   "metadata": {},
   "source": [
    "# Making predictions on the test set"
   ]
  },
  {
   "cell_type": "code",
   "execution_count": 41,
   "id": "e501e10b",
   "metadata": {},
   "outputs": [],
   "source": [
    "y_pred = model.predict(X_test)"
   ]
  },
  {
   "cell_type": "markdown",
   "id": "4ea08168",
   "metadata": {},
   "source": [
    "# Evaluating the model using MSE, MAE, and R2"
   ]
  },
  {
   "cell_type": "code",
   "execution_count": 42,
   "id": "8a38022d",
   "metadata": {},
   "outputs": [],
   "source": [
    "mse = mean_squared_error(y_test, y_pred)\n",
    "mae = mean_absolute_error(y_test, y_pred)\n",
    "r2 = r2_score(y_test, y_pred)"
   ]
  },
  {
   "cell_type": "code",
   "execution_count": 43,
   "id": "e82ec943",
   "metadata": {},
   "outputs": [],
   "source": [
    "coefficients = model.coef_\n",
    "feature_names = X.columns"
   ]
  },
  {
   "cell_type": "code",
   "execution_count": 44,
   "id": "7af2fb93",
   "metadata": {},
   "outputs": [
    {
     "name": "stdout",
     "output_type": "stream",
     "text": [
      "                       Feature   Coefficient\n",
      "0                    longitude -1.053869e-15\n",
      "1                     latitude -6.661338e-16\n",
      "2           housing_median_age  1.016919e-15\n",
      "3                  total_rooms -6.564375e-16\n",
      "4               total_bedrooms  1.014753e-15\n",
      "5                   population  1.648516e-16\n",
      "6                   households  1.924604e-16\n",
      "7                median_income  8.420960e-16\n",
      "8                      z_score  1.416178e+00\n",
      "9               bedrooms_ratio  2.705057e-16\n",
      "10      ocean_proximity_INLAND -5.152718e-16\n",
      "11    ocean_proximity_NEAR_BAY  2.978197e-16\n",
      "12  ocean_proximity_NEAR_OCEAN  4.423303e-16\n",
      "The feature with the highest weight is: z_score\n"
     ]
    }
   ],
   "source": [
    "# Create a DataFrame to display the coefficients\n",
    "coefficients_df = pd.DataFrame({'Feature': feature_names, 'Coefficient': coefficients})\n",
    "\n",
    "# Print the coefficients\n",
    "print(coefficients_df)\n",
    "\n",
    "# Identify the feature with the highest weight\n",
    "highest_weight_feature = coefficients_df.loc[coefficients_df['Coefficient'].idxmax(), 'Feature']\n",
    "print(f\"The feature with the highest weight is: {highest_weight_feature}\")"
   ]
  },
  {
   "cell_type": "markdown",
   "id": "9e395b37",
   "metadata": {},
   "source": [
    "# Decision Tree Regressor"
   ]
  },
  {
   "cell_type": "code",
   "execution_count": 45,
   "id": "1278d45a",
   "metadata": {},
   "outputs": [],
   "source": [
    "# Decision Tree Regressor\n",
    "tree_model = DecisionTreeRegressor()\n",
    "tree_model.fit(X_train, y_train)\n",
    "y_pred_tree = tree_model.predict(X_test)"
   ]
  },
  {
   "cell_type": "code",
   "execution_count": 46,
   "id": "e8efd03e",
   "metadata": {},
   "outputs": [],
   "source": [
    "forest_model = RandomForestRegressor(n_estimators=100, random_state=42) \n",
    "forest_model.fit(X_train, y_train)\n",
    "y_pred_forest = forest_model.predict(X_test)"
   ]
  },
  {
   "cell_type": "markdown",
   "id": "d289737b",
   "metadata": {},
   "source": [
    "## Model evaluation using mae, mse and r2"
   ]
  },
  {
   "cell_type": "code",
   "execution_count": 47,
   "id": "a183e268",
   "metadata": {},
   "outputs": [
    {
     "name": "stdout",
     "output_type": "stream",
     "text": [
      "Simple Linear regression Metrics:\n",
      "MSE: 2.523478214645613e-30\n",
      "MAE: 1.2758340441384244e-15\n",
      "R2: 1.0\n",
      "\n",
      "\n",
      "Decision Tree Regressor Metrics:\n",
      "MSE: 6.392279001740176e-07\n",
      "MAE: 0.0001969482149295416\n",
      "R2: 0.9999993503317178\n",
      "\n",
      "\n",
      "Random Forest Regressor Metrics:\n",
      "MSE: 5.58868199434553e-07\n",
      "MAE: 0.00017450594928819944\n",
      "R2: 0.9999994320039175\n",
      "\n",
      "\n"
     ]
    }
   ],
   "source": [
    "# Evaluate performance\n",
    "def evaluate_performance(y_true, y_pred, model_name):\n",
    "    mse = mean_squared_error(y_true, y_pred)\n",
    "    mae = mean_absolute_error(y_true, y_pred)\n",
    "    r2 = r2_score(y_true, y_pred)\n",
    "    print(f\"{model_name} Metrics:\")\n",
    "    print(f\"MSE: {mse}\")\n",
    "    print(f\"MAE: {mae}\")\n",
    "    print(f\"R2: {r2}\")\n",
    "    print(\"\\n\")\n",
    "    \n",
    "evaluate_performance(y_test, y_pred, \"Simple Linear regression\")\n",
    "evaluate_performance(y_test, y_pred_tree, \"Decision Tree Regressor\")\n",
    "evaluate_performance(y_test, y_pred_forest, \"Random Forest Regressor\")"
   ]
  },
  {
   "cell_type": "markdown",
   "id": "be263310",
   "metadata": {},
   "source": [
    "Simple Linear Regression:\n",
    "\n",
    "Very low MSE (mean squared error), close to zero, indicates that the model fits the data extremely well.\n",
    "Extremely low MAE (mean absolute error) suggests very accurate predictions.\n",
    "R2 score of 1.0 indicates a perfect fit, meaning the model explains all the variance in the data.\n",
    "\n",
    "\n",
    "Decision Tree Regressor\n",
    "\n",
    "\n",
    "A low MSE and MAE, though slightly higher than the linear regression, indicate good performance.\n",
    "The R2 score close to 1 suggests that the model explains most of the variance in the data but might have a slight overfitting issue.\n",
    "\n",
    "\n",
    "Random Forest Regressor:\n",
    "\n",
    "Similar to the Decision Tree, this model has low MSE and MAE, indicating good predictive accuracy.\n",
    "The R2 score is also close to 1, showing a strong ability to explain the variance in the data.\n",
    "In summary, all three models perform exceptionally well with very low error metrics and high R2 scores. However, the Simple Linear Regression model seems to have the best performance with the lowest errors and a perfect R2 score, though it might be overfitting. The Decision Tree and Random Forest models are also highly accurate but may have a slight overfitting concern."
   ]
  }
 ],
 "metadata": {
  "kernelspec": {
   "display_name": "Python 3 (ipykernel)",
   "language": "python",
   "name": "python3"
  },
  "language_info": {
   "codemirror_mode": {
    "name": "ipython",
    "version": 3
   },
   "file_extension": ".py",
   "mimetype": "text/x-python",
   "name": "python",
   "nbconvert_exporter": "python",
   "pygments_lexer": "ipython3",
   "version": "3.9.16"
  }
 },
 "nbformat": 4,
 "nbformat_minor": 5
}
