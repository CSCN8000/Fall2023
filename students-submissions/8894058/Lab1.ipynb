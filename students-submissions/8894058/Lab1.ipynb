{
 "cells": [
  {
   "cell_type": "markdown",
   "id": "d7608e40",
   "metadata": {},
   "source": [
    "# Name: Samarth Subhash Deshpande"
   ]
  },
  {
   "cell_type": "markdown",
   "id": "66899717",
   "metadata": {},
   "source": [
    "# Student ID: 8894058"
   ]
  },
  {
   "cell_type": "code",
   "execution_count": null,
   "id": "4ae9ffa3",
   "metadata": {},
   "outputs": [],
   "source": [
    "Importing necessary packages "
   ]
  },
  {
   "cell_type": "code",
   "execution_count": 1,
   "id": "99ceedd8",
   "metadata": {},
   "outputs": [],
   "source": [
    "import numpy as np\n",
    "import pandas as pd"
   ]
  },
  {
   "cell_type": "markdown",
   "id": "90172b3e",
   "metadata": {},
   "source": [
    "# Part A- Create a Notebook to demonstrate NumPy Operations."
   ]
  },
  {
   "cell_type": "markdown",
   "id": "315f4d08",
   "metadata": {},
   "source": [
    "# Q1) Create an array that starts from the integer 1, ends at 20, incremented by 3."
   ]
  },
  {
   "cell_type": "code",
   "execution_count": 5,
   "id": "ec19f9a0",
   "metadata": {},
   "outputs": [
    {
     "name": "stdout",
     "output_type": "stream",
     "text": [
      "The incremented by 3 numbers [ 1  4  7 10 13 16 19]\n"
     ]
    }
   ],
   "source": [
    "# The numpy arange function is used to create an array in a specified range.[np.arange(start,stop,step)]\n",
    "array = np.arange(1,20,3)\n",
    "print(\"The incremented by 3 numbers\",array)"
   ]
  },
  {
   "cell_type": "markdown",
   "id": "d02b268e",
   "metadata": {},
   "source": [
    "# Q2) Create a new array of shape 3 with random numbers between 0 and 1."
   ]
  },
  {
   "cell_type": "code",
   "execution_count": 6,
   "id": "681204bf",
   "metadata": {},
   "outputs": [
    {
     "data": {
      "text/plain": [
       "array([0.8515035 , 0.2460776 , 0.55720139])"
      ]
     },
     "execution_count": 6,
     "metadata": {},
     "output_type": "execute_result"
    }
   ],
   "source": [
    "# np.random.rand() function is used to generate random numbers \n",
    "array1 = np.random.rand(3)\n",
    "array1"
   ]
  },
  {
   "cell_type": "markdown",
   "id": "2f952d4e",
   "metadata": {},
   "source": [
    "# Q3) Create a 2 D array [[10,20,45], [30,12,16], [42,17,56]] and perform the following operations:Slice the 2D array to get the first two rows, slice the 2D array to get the last two rows."
   ]
  },
  {
   "cell_type": "code",
   "execution_count": 9,
   "id": "9468a9f0",
   "metadata": {},
   "outputs": [],
   "source": [
    "# Creating a 2D array\n",
    "array2 = np.array([[10,20,45],[30,12,16],[42,17,56]])\n",
    "array2\n",
    "#slicing first two rows\n",
    "first_two_rows = array2[:2,:]\n",
    "#slcing last two rows\n",
    "last_two_rows = array2[1:,:]"
   ]
  },
  {
   "cell_type": "code",
   "execution_count": 10,
   "id": "75a49646",
   "metadata": {},
   "outputs": [
    {
     "name": "stdout",
     "output_type": "stream",
     "text": [
      "The first two rows are  \n",
      " [[10 20 45]\n",
      " [30 12 16]]\n"
     ]
    }
   ],
   "source": [
    "print(\"The first two rows are \",\"\\n\",first_two_rows)"
   ]
  },
  {
   "cell_type": "code",
   "execution_count": 11,
   "id": "f34e2020",
   "metadata": {},
   "outputs": [
    {
     "name": "stdout",
     "output_type": "stream",
     "text": [
      "The Last two rows are \n",
      " [[30 12 16]\n",
      " [42 17 56]]\n"
     ]
    }
   ],
   "source": [
    "print(\"The Last two rows are\",\"\\n\",last_two_rows)"
   ]
  },
  {
   "cell_type": "markdown",
   "id": "ddc5248f",
   "metadata": {},
   "source": [
    "# Create two 2x2 arrays and demonstrate how you can stack the elements vertically, horizontally, and split the arrays into smaller arrays."
   ]
  },
  {
   "cell_type": "code",
   "execution_count": 19,
   "id": "56a7f531",
   "metadata": {},
   "outputs": [],
   "source": [
    "array1 = np.array([[100,101], [102,103]])\n",
    "array2 = np.array([[104,105], [106,107]])"
   ]
  },
  {
   "cell_type": "code",
   "execution_count": 20,
   "id": "8a8c17b5",
   "metadata": {},
   "outputs": [
    {
     "name": "stdout",
     "output_type": "stream",
     "text": [
      "The array1 is \n",
      " [[100 101]\n",
      " [102 103]]\n"
     ]
    }
   ],
   "source": [
    "print(\"The array1 is\",\"\\n\",array1)"
   ]
  },
  {
   "cell_type": "code",
   "execution_count": 14,
   "id": "c1a6858f",
   "metadata": {},
   "outputs": [
    {
     "name": "stdout",
     "output_type": "stream",
     "text": [
      "the array2 is \n",
      " [[104 105]\n",
      " [106 107]]\n"
     ]
    }
   ],
   "source": [
    "print(\"the array2 is\",\"\\n\",array2)"
   ]
  },
  {
   "cell_type": "code",
   "execution_count": 43,
   "id": "dbaf4982",
   "metadata": {},
   "outputs": [
    {
     "name": "stdout",
     "output_type": "stream",
     "text": [
      "The vertical stack is \n",
      " [[100 101]\n",
      " [102 103]\n",
      " [104 105]\n",
      " [106 107]]\n"
     ]
    }
   ],
   "source": [
    "#vertical stack\n",
    "# vstack is a function that is used to vertically stack arrays\n",
    "arr3_vstack = np.vstack((array1,array2))\n",
    "print(\"The vertical stack is\",\"\\n\",arr3_vstack)"
   ]
  },
  {
   "cell_type": "code",
   "execution_count": 44,
   "id": "fb2b5cb4",
   "metadata": {},
   "outputs": [
    {
     "name": "stdout",
     "output_type": "stream",
     "text": [
      "The horizontal stack is \n",
      " [[100 101 104 105]\n",
      " [102 103 106 107]]\n"
     ]
    }
   ],
   "source": [
    "#horizontal stack\n",
    "# hstack is a function that is used to horizontally stack arrays\n",
    "arr4_hstack = np.hstack((array1,array2))\n",
    "print(\"The horizontal stack is\",\"\\n\",arr4_hstack)"
   ]
  },
  {
   "cell_type": "code",
   "execution_count": 17,
   "id": "5e27087c",
   "metadata": {},
   "outputs": [
    {
     "name": "stdout",
     "output_type": "stream",
     "text": [
      "Vertical splits is \n",
      " [array([[100, 101],\n",
      "       [102, 103]]), array([[104, 105],\n",
      "       [106, 107]])]\n"
     ]
    }
   ],
   "source": [
    "#create a vertical split of the given arrays\n",
    "vert_split = np.vsplit(arr_3_vstack,2)\n",
    "print(\"Vertical splits is\",\"\\n\",vert_split)"
   ]
  },
  {
   "cell_type": "code",
   "execution_count": 18,
   "id": "54a79481",
   "metadata": {},
   "outputs": [
    {
     "name": "stdout",
     "output_type": "stream",
     "text": [
      "The horizontal split is \n",
      " [array([[100],\n",
      "       [102]]), array([[101],\n",
      "       [103]]), array([[104],\n",
      "       [106]]), array([[105],\n",
      "       [107]])]\n"
     ]
    }
   ],
   "source": [
    "#create horizontal split of the given arrays\n",
    "horizontal_split = np.hsplit(arr_4_hstack,4)\n",
    "print(\"The horizontal split is\",\"\\n\",horizontal_split)"
   ]
  },
  {
   "cell_type": "markdown",
   "id": "54a99c56",
   "metadata": {},
   "source": [
    "# Q5.Create two matrices X= ([[5, 7, 2], [4, 5, 6], [7, 4 ,2]]) Y= ([[4, 2], [6, 2], [4, 2]]), Is it possible to multiply these matrices"
   ]
  },
  {
   "cell_type": "markdown",
   "id": "a99fab1e",
   "metadata": {},
   "source": [
    "We can perform the matrix multiplication of the above given two matrices using matmul.can handle matrix multiplication for arrays of various dimensions and shapes."
   ]
  },
  {
   "cell_type": "code",
   "execution_count": 45,
   "id": "1cbce00d",
   "metadata": {},
   "outputs": [
    {
     "name": "stdout",
     "output_type": "stream",
     "text": [
      "The multiplied matrices are \n",
      " [[70 28]\n",
      " [70 30]\n",
      " [60 26]]\n"
     ]
    }
   ],
   "source": [
    "X = np.array([[5, 7, 2], [4, 5, 6], [7, 4, 2]])\n",
    "Y = np.array([[4, 2], [6, 2], [4, 2]])\n",
    "multi_matrices = np.matmul(X, Y)\n",
    "print(\"The multiplied matrices are\",\"\\n\",multi_matrices)"
   ]
  },
  {
   "cell_type": "markdown",
   "id": "6cc4ea58",
   "metadata": {},
   "source": [
    "# Q6 .Create two arrays, x = ([2, -1, -8]) y = ([3, 1, -2]), Find the Shape, Number of dimensions of vector x"
   ]
  },
  {
   "cell_type": "code",
   "execution_count": 22,
   "id": "7421f5c2",
   "metadata": {},
   "outputs": [],
   "source": [
    "x = np.array([2, -1, -8])\n",
    "y = np.array([3, 1, -2])\n",
    "#Shape OF X and Y\n",
    "x_shape = x.shape\n",
    "y_shape = y.shape\n",
    "#Dimension of vector x and y\n",
    "x_dim = x.ndim\n",
    "y_dim = y.ndim"
   ]
  },
  {
   "cell_type": "code",
   "execution_count": 23,
   "id": "2ffd1f05",
   "metadata": {},
   "outputs": [
    {
     "name": "stdout",
     "output_type": "stream",
     "text": [
      "The shape of x is (3,)\n",
      "The shape of y is: (3,)\n",
      "Number of dimensions of x: 1\n",
      "Number of dimensions of y: 1\n"
     ]
    }
   ],
   "source": [
    "print(\"The shape of x is\", x_shape)\n",
    "print(\"The shape of y is:\", y_shape)\n",
    "print(\"Number of dimensions of x:\", x_dim)\n",
    "print(\"Number of dimensions of y:\", y_dim)"
   ]
  },
  {
   "cell_type": "code",
   "execution_count": 24,
   "id": "eda648b2",
   "metadata": {
    "collapsed": true
   },
   "outputs": [
    {
     "name": "stdout",
     "output_type": "stream",
     "text": [
      "Reshaping x \n",
      " [[ 2]\n",
      " [-1]\n",
      " [-8]]\n",
      "Reshaping y \n",
      " [[ 3]\n",
      " [ 1]\n",
      " [-2]]\n"
     ]
    }
   ],
   "source": [
    "reshape_x = print(\"Reshaping x\",\"\\n\",x.reshape(3,1))\n",
    "reshape_y = print(\"Reshaping y\",\"\\n\",y.reshape(3,1))"
   ]
  },
  {
   "cell_type": "markdown",
   "id": "ceb85e2f",
   "metadata": {},
   "source": [
    "# Q7. How does broadcasting work? Demonstrate the subtraction, multiplication by considering a 3 x 3 matrix."
   ]
  },
  {
   "cell_type": "code",
   "execution_count": null,
   "id": "58202634",
   "metadata": {},
   "outputs": [],
   "source": [
    "Broadcasting enables us to performing operations between arrays of different shapes"
   ]
  },
  {
   "cell_type": "code",
   "execution_count": 57,
   "id": "d5694e7d",
   "metadata": {},
   "outputs": [
    {
     "name": "stdout",
     "output_type": "stream",
     "text": [
      "Matrix 1 is \n",
      " [[120 130 140]\n",
      " [150 160 170]\n",
      " [180 190 210]]\n",
      "Matrix 2 is \n",
      " [[110 120 130]\n",
      " [140 150 160]\n",
      " [170 180 190]]\n"
     ]
    }
   ],
   "source": [
    "a = np.array([[120,130 ,140],[150, 160, 170],[180, 190, 210]])\n",
    "print(\"Matrix 1 is\",\"\\n\",a)\n",
    "\n",
    "b = np.array([[110,120,130],[140,150,160],[170,180,190]])\n",
    "print(\"Matrix 2 is\",\"\\n\",b)"
   ]
  },
  {
   "cell_type": "code",
   "execution_count": 49,
   "id": "c329b8d9",
   "metadata": {},
   "outputs": [
    {
     "data": {
      "text/plain": [
       "array([[10, 10, 10],\n",
       "       [10, 10, 10],\n",
       "       [10, 10, 20]])"
      ]
     },
     "execution_count": 49,
     "metadata": {},
     "output_type": "execute_result"
    }
   ],
   "source": [
    "# Subtraction of a and b\n",
    "sub = a - b\n",
    "sub"
   ]
  },
  {
   "cell_type": "code",
   "execution_count": 50,
   "id": "052d8a4e",
   "metadata": {},
   "outputs": [
    {
     "data": {
      "text/plain": [
       "array([[55200, 59100, 63000],\n",
       "       [67800, 72600, 77400],\n",
       "       [82100, 87900, 93700]])"
      ]
     },
     "execution_count": 50,
     "metadata": {},
     "output_type": "execute_result"
    }
   ],
   "source": [
    "#Multipilcation of a and b\n",
    "multi = np.dot(a,b)\n",
    "multi"
   ]
  },
  {
   "cell_type": "markdown",
   "id": "0fb907c0",
   "metadata": {},
   "source": [
    "# Part B- Linear Equations"
   ]
  },
  {
   "cell_type": "markdown",
   "id": "67b3a7a0",
   "metadata": {},
   "source": [
    "Determine the singularity of the system of equations, comment on the expected solution of the system. Solve the system of equations if possible.Justify the reason why you believe the system can or cannot be solved using numpy functions."
   ]
  },
  {
   "cell_type": "markdown",
   "id": "2ed6b1ee",
   "metadata": {},
   "source": [
    "Part B.1\n",
    "4x + y - 2z = 10\n",
    "2x - 3y + 2z = -4\n",
    "x + 2y + 3z = 6"
   ]
  },
  {
   "cell_type": "code",
   "execution_count": 55,
   "id": "d700dfbc",
   "metadata": {},
   "outputs": [],
   "source": [
    "X = np.array([[4, 1, -2],[2, -3, 2],[1, 2, 3]])\n",
    "Y = np.array([10, -4, 6])"
   ]
  },
  {
   "cell_type": "code",
   "execution_count": 54,
   "id": "1eeee17d",
   "metadata": {},
   "outputs": [
    {
     "data": {
      "text/plain": [
       "-70.00000000000003"
      ]
     },
     "execution_count": 54,
     "metadata": {},
     "output_type": "execute_result"
    }
   ],
   "source": [
    "#Calculate determinant of A\n",
    "detX = np.linalg.det(X)\n",
    "detX"
   ]
  },
  {
   "cell_type": "code",
   "execution_count": 53,
   "id": "7e0def15",
   "metadata": {},
   "outputs": [
    {
     "data": {
      "text/plain": [
       "array([ 1.8,  2.4, -0.2])"
      ]
     },
     "execution_count": 53,
     "metadata": {},
     "output_type": "execute_result"
    }
   ],
   "source": [
    "sol=np.linalg.solve(X,Y)\n",
    "sol"
   ]
  },
  {
   "cell_type": "markdown",
   "id": "4f343141",
   "metadata": {},
   "source": [
    "# Ans) detX is not equal to 0 so matrix X is not singular.we can expected to have a unique solution"
   ]
  },
  {
   "cell_type": "markdown",
   "id": "60b5f0c0",
   "metadata": {},
   "source": [
    "Part B.2\n",
    "2x - y + 3z + 4w = 10\n",
    "4x - 2y + 6z + 8w = 20\n",
    "3x + y - 2z + 2w = 3\n",
    "x + 3y - 4z + w = -1"
   ]
  },
  {
   "cell_type": "code",
   "execution_count": 56,
   "id": "f15e90f6",
   "metadata": {},
   "outputs": [],
   "source": [
    "E = np.array([[2, -1, 3, 4],[4, -2, 6, 8],[3, 1, -2, 2],[1, 3, -4, 1]])\n",
    "F = np.array([10, 20, 3, -1])"
   ]
  },
  {
   "cell_type": "code",
   "execution_count": 51,
   "id": "ffbaa707",
   "metadata": {},
   "outputs": [
    {
     "data": {
      "text/plain": [
       "0.0"
      ]
     },
     "execution_count": 51,
     "metadata": {},
     "output_type": "execute_result"
    }
   ],
   "source": [
    "#Calculate determinant of A\n",
    "detE = np.linalg.det(E)\n",
    "detE"
   ]
  },
  {
   "cell_type": "markdown",
   "id": "d5c0ed58",
   "metadata": {},
   "source": [
    "# Ans) detX is equal to 0 so matrix A is singular. we cannot expected to have unique solution"
   ]
  },
  {
   "cell_type": "code",
   "execution_count": 40,
   "id": "f69ffaf6",
   "metadata": {},
   "outputs": [
    {
     "ename": "LinAlgError",
     "evalue": "Singular matrix",
     "output_type": "error",
     "traceback": [
      "\u001b[1;31m---------------------------------------------------------------------------\u001b[0m",
      "\u001b[1;31mLinAlgError\u001b[0m                               Traceback (most recent call last)",
      "Cell \u001b[1;32mIn[40], line 3\u001b[0m\n\u001b[0;32m      1\u001b[0m E \u001b[38;5;241m=\u001b[39m np\u001b[38;5;241m.\u001b[39marray([[\u001b[38;5;241m2\u001b[39m, \u001b[38;5;241m-\u001b[39m\u001b[38;5;241m1\u001b[39m, \u001b[38;5;241m3\u001b[39m, \u001b[38;5;241m4\u001b[39m],[\u001b[38;5;241m4\u001b[39m, \u001b[38;5;241m-\u001b[39m\u001b[38;5;241m2\u001b[39m, \u001b[38;5;241m6\u001b[39m, \u001b[38;5;241m8\u001b[39m],[\u001b[38;5;241m3\u001b[39m, \u001b[38;5;241m1\u001b[39m, \u001b[38;5;241m-\u001b[39m\u001b[38;5;241m2\u001b[39m, \u001b[38;5;241m2\u001b[39m],[\u001b[38;5;241m1\u001b[39m, \u001b[38;5;241m3\u001b[39m, \u001b[38;5;241m-\u001b[39m\u001b[38;5;241m4\u001b[39m, \u001b[38;5;241m1\u001b[39m]])\n\u001b[0;32m      2\u001b[0m F \u001b[38;5;241m=\u001b[39m np\u001b[38;5;241m.\u001b[39marray([\u001b[38;5;241m10\u001b[39m, \u001b[38;5;241m20\u001b[39m, \u001b[38;5;241m3\u001b[39m, \u001b[38;5;241m-\u001b[39m\u001b[38;5;241m1\u001b[39m])\n\u001b[1;32m----> 3\u001b[0m sol1\u001b[38;5;241m=\u001b[39m\u001b[43mnp\u001b[49m\u001b[38;5;241;43m.\u001b[39;49m\u001b[43mlinalg\u001b[49m\u001b[38;5;241;43m.\u001b[39;49m\u001b[43msolve\u001b[49m\u001b[43m(\u001b[49m\u001b[43mE\u001b[49m\u001b[43m,\u001b[49m\u001b[43mF\u001b[49m\u001b[43m)\u001b[49m\n\u001b[0;32m      4\u001b[0m sol1\n",
      "File \u001b[1;32m<__array_function__ internals>:200\u001b[0m, in \u001b[0;36msolve\u001b[1;34m(*args, **kwargs)\u001b[0m\n",
      "File \u001b[1;32m~\\anaconda3\\lib\\site-packages\\numpy\\linalg\\linalg.py:386\u001b[0m, in \u001b[0;36msolve\u001b[1;34m(a, b)\u001b[0m\n\u001b[0;32m    384\u001b[0m signature \u001b[38;5;241m=\u001b[39m \u001b[38;5;124m'\u001b[39m\u001b[38;5;124mDD->D\u001b[39m\u001b[38;5;124m'\u001b[39m \u001b[38;5;28;01mif\u001b[39;00m isComplexType(t) \u001b[38;5;28;01melse\u001b[39;00m \u001b[38;5;124m'\u001b[39m\u001b[38;5;124mdd->d\u001b[39m\u001b[38;5;124m'\u001b[39m\n\u001b[0;32m    385\u001b[0m extobj \u001b[38;5;241m=\u001b[39m get_linalg_error_extobj(_raise_linalgerror_singular)\n\u001b[1;32m--> 386\u001b[0m r \u001b[38;5;241m=\u001b[39m \u001b[43mgufunc\u001b[49m\u001b[43m(\u001b[49m\u001b[43ma\u001b[49m\u001b[43m,\u001b[49m\u001b[43m \u001b[49m\u001b[43mb\u001b[49m\u001b[43m,\u001b[49m\u001b[43m \u001b[49m\u001b[43msignature\u001b[49m\u001b[38;5;241;43m=\u001b[39;49m\u001b[43msignature\u001b[49m\u001b[43m,\u001b[49m\u001b[43m \u001b[49m\u001b[43mextobj\u001b[49m\u001b[38;5;241;43m=\u001b[39;49m\u001b[43mextobj\u001b[49m\u001b[43m)\u001b[49m\n\u001b[0;32m    388\u001b[0m \u001b[38;5;28;01mreturn\u001b[39;00m wrap(r\u001b[38;5;241m.\u001b[39mastype(result_t, copy\u001b[38;5;241m=\u001b[39m\u001b[38;5;28;01mFalse\u001b[39;00m))\n",
      "File \u001b[1;32m~\\anaconda3\\lib\\site-packages\\numpy\\linalg\\linalg.py:89\u001b[0m, in \u001b[0;36m_raise_linalgerror_singular\u001b[1;34m(err, flag)\u001b[0m\n\u001b[0;32m     88\u001b[0m \u001b[38;5;28;01mdef\u001b[39;00m \u001b[38;5;21m_raise_linalgerror_singular\u001b[39m(err, flag):\n\u001b[1;32m---> 89\u001b[0m     \u001b[38;5;28;01mraise\u001b[39;00m LinAlgError(\u001b[38;5;124m\"\u001b[39m\u001b[38;5;124mSingular matrix\u001b[39m\u001b[38;5;124m\"\u001b[39m)\n",
      "\u001b[1;31mLinAlgError\u001b[0m: Singular matrix"
     ]
    }
   ],
   "source": [
    "sol1=np.linalg.solve(E,F)\n",
    "sol1"
   ]
  },
  {
   "cell_type": "markdown",
   "id": "2daebdc0",
   "metadata": {},
   "source": [
    "It is a singular matrix so we cant have a solution"
   ]
  }
 ],
 "metadata": {
  "kernelspec": {
   "display_name": "Python 3 (ipykernel)",
   "language": "python",
   "name": "python3"
  },
  "language_info": {
   "codemirror_mode": {
    "name": "ipython",
    "version": 3
   },
   "file_extension": ".py",
   "mimetype": "text/x-python",
   "name": "python",
   "nbconvert_exporter": "python",
   "pygments_lexer": "ipython3",
   "version": "3.9.16"
  }
 },
 "nbformat": 4,
 "nbformat_minor": 5
}
