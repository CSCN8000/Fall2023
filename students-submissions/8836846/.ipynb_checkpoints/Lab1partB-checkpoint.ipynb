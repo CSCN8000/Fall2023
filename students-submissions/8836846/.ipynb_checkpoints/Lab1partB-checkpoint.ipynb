{
 "cells": [
  {
   "cell_type": "markdown",
   "id": "8cd6ac7e",
   "metadata": {},
   "source": [
    "# Part B- Linear Equations"
   ]
  },
  {
   "cell_type": "markdown",
   "id": "096a1651",
   "metadata": {},
   "source": [
    "## Determine the singularity of the system of equations, comment on the expected solution of the system. Solve the system of equations if possible. Justify the reason why you believe the system can or cannot be solved using numpy functions."
   ]
  },
  {
   "cell_type": "markdown",
   "id": "93080168",
   "metadata": {},
   "source": [
    "Part B.1\n",
    "\n",
    "4x + y - 2z = 10\n",
    "\n",
    "2x - 3y + 2z = -4\n",
    "\n",
    "x + 2y + 3z = 6"
   ]
  },
  {
   "cell_type": "markdown",
   "id": "ed5d7c7a",
   "metadata": {},
   "source": [
    "## Solution:\n",
    "\n"
   ]
  },
  {
   "cell_type": "markdown",
   "id": "814c017b",
   "metadata": {},
   "source": [
    "To determine the singularity of the system, we need to analyze the coefficient matrix's determinant. If the determinant is non-zero, the system is non-singular, and a unique solution exists. If the determinant is zero, the system may be singular, indicating either no solutions or an infinite number of solutions.\n"
   ]
  },
  {
   "cell_type": "code",
   "execution_count": 2,
   "id": "145b18ba",
   "metadata": {},
   "outputs": [],
   "source": [
    "import numpy as np"
   ]
  },
  {
   "cell_type": "code",
   "execution_count": 8,
   "id": "aac6e7b3",
   "metadata": {},
   "outputs": [
    {
     "name": "stdout",
     "output_type": "stream",
     "text": [
      "The system is non-singular. A unique solution exists.\n",
      "Solution:\n",
      "x = 1.7999999999999998, y = 2.4, z = -0.2\n"
     ]
    }
   ],
   "source": [
    "\n",
    "# Defining the coefficient matrix A and the constant vector B\n",
    "A = np.array([[4, 1, -2],\n",
    "              [2, -3, 2],\n",
    "              [1, 2, 3]])\n",
    "\n",
    "B = np.array([10, -4, 6])\n",
    "\n",
    "# Calculating the determinant of A\n",
    "det_A = np.linalg.det(A)\n",
    "\n",
    "if det_A != 0:\n",
    "    # If determinant is non-zero, the system is non-singular, and a unique solution exists\n",
    "    # Solve for X using numpy's linear algebra solver\n",
    "    X = np.linalg.solve(A, B)\n",
    "    print(\"The system is non-singular. A unique solution exists.\")\n",
    "    print(\"Solution:\")\n",
    "    print(f\"x = {X[0]}, y = {X[1]}, z = {X[2]}\")\n",
    "else:\n",
    "    # If determinant is zero, the system is singular, and there may be either no solution or infinite solutions\n",
    "    print(\"The system may be singular. There may be no solution or infinite solutions.\")\n"
   ]
  },
  {
   "cell_type": "markdown",
   "id": "f418082a",
   "metadata": {},
   "source": [
    " the system is not singular. It has a unique solution, which is \n",
    " x = 1.8, y = 2.4 and z = -0.2. This is expected because the determinant of the coefficient matrix is non-zero, indicating a unique solution. The system can be solved using NumPy functions."
   ]
  },
  {
   "cell_type": "markdown",
   "id": "e13b3255",
   "metadata": {},
   "source": [
    "Part B.2\n",
    "\n",
    "2x - y + 3z + 4w = 10\n",
    "\n",
    "4x - 2y + 6z + 8w = 20\n",
    "\n",
    "3x + y - 2z + 2w = 3\n",
    "\n",
    "x + 3y - 4z + w = -1"
   ]
  },
  {
   "cell_type": "code",
   "execution_count": 6,
   "id": "71ab6de7",
   "metadata": {},
   "outputs": [
    {
     "name": "stdout",
     "output_type": "stream",
     "text": [
      "The system is singular, and it may not have a unique solution.\n"
     ]
    }
   ],
   "source": [
    "# Defining the coefficient matrix A and constants b\n",
    "A = np.array([[2, -1, 3, 4],\n",
    "              [4, -2, 6, 8],\n",
    "              [3, 1, -2, 2],\n",
    "              [1, 3, -4, 1]])\n",
    "b = np.array([10, 20, 3, -1])\n",
    "\n",
    "# Calculating the determinant of A\n",
    "det_A = np.linalg.det(A)\n",
    "\n",
    "if det_A != 0:\n",
    "    print(\"The system is not singular.\")\n",
    "    print(\"Expected solution: It has a unique solution.\")\n",
    "    # Solve the system\n",
    "    solution = np.linalg.solve(A, b)\n",
    "    print(\"Solution:\", solution)\n",
    "else:\n",
    "    print(\"The system is singular, and it may not have a unique solution.\")\n"
   ]
  },
  {
   "cell_type": "markdown",
   "id": "12db4c15",
   "metadata": {},
   "source": [
    " the system is singular. It may not have a unique solution. This is expected because the determinant of the coefficient matrix is zero, indicating it may not have an unique solution. The system cannot be solved using NumPy functions."
   ]
  },
  {
   "cell_type": "code",
   "execution_count": null,
   "id": "118e058a",
   "metadata": {},
   "outputs": [],
   "source": []
  }
 ],
 "metadata": {
  "kernelspec": {
   "display_name": "Python 3 (ipykernel)",
   "language": "python",
   "name": "python3"
  },
  "language_info": {
   "codemirror_mode": {
    "name": "ipython",
    "version": 3
   },
   "file_extension": ".py",
   "mimetype": "text/x-python",
   "name": "python",
   "nbconvert_exporter": "python",
   "pygments_lexer": "ipython3",
   "version": "3.10.9"
  }
 },
 "nbformat": 4,
 "nbformat_minor": 5
}
