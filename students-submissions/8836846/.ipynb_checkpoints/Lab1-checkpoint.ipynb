{
 "cells": [
  {
   "cell_type": "code",
   "execution_count": 1,
   "id": "8ecd2cda",
   "metadata": {},
   "outputs": [],
   "source": [
    "import numpy as np"
   ]
  },
  {
   "cell_type": "markdown",
   "id": "1b3c8957",
   "metadata": {},
   "source": [
    "# PART A - Creating a Notebook to demonstrate Numpy Operations."
   ]
  },
  {
   "cell_type": "markdown",
   "id": "65bc556a",
   "metadata": {},
   "source": [
    "## 1. Create an array that starts from the integer 1, ends at 20, incremented by 3."
   ]
  },
  {
   "cell_type": "code",
   "execution_count": 2,
   "id": "dc793b68",
   "metadata": {},
   "outputs": [
    {
     "name": "stdout",
     "output_type": "stream",
     "text": [
      "[ 1  4  7 10 13 16 19]\n"
     ]
    }
   ],
   "source": [
    "# Creating an array using list comprehension\n",
    "my_list = [i for i in range(1, 20, 3)]\n",
    "\n",
    "# Converting the list to a Numpy array\n",
    "my_array = np.array(my_list)\n",
    "\n",
    "print(my_array)\n"
   ]
  },
  {
   "cell_type": "markdown",
   "id": "ee91bc3b",
   "metadata": {},
   "source": [
    "## 2. Create a new array of shape 3 with random numbers between 0 and 1."
   ]
  },
  {
   "cell_type": "code",
   "execution_count": 4,
   "id": "57134bd8",
   "metadata": {},
   "outputs": [
    {
     "name": "stdout",
     "output_type": "stream",
     "text": [
      "[0.6452177  0.3266733  0.18600346]\n"
     ]
    }
   ],
   "source": [
    "# Creating a new array of shape 3 with random numbers between 0 and 1\n",
    "array = np.random.rand(3)\n",
    "# Printing the array\n",
    "print(array)"
   ]
  },
  {
   "cell_type": "markdown",
   "id": "3c2b72bf",
   "metadata": {},
   "source": [
    "## 3. Create a 2 D array [[10,20,45], [30,12,16], [42,17,56]] and perform the following operations:\n",
    "\n"
   ]
  },
  {
   "cell_type": "markdown",
   "id": "2e1679a5",
   "metadata": {},
   "source": [
    "Slice the 2D array to get the first two rows, slice the 2D array to get the last two rows."
   ]
  },
  {
   "cell_type": "code",
   "execution_count": 6,
   "id": "5f728b86",
   "metadata": {},
   "outputs": [
    {
     "name": "stdout",
     "output_type": "stream",
     "text": [
      "Displaying First two rows:\n",
      "[[10 20 45]\n",
      " [30 12 16]]\n",
      "\n",
      "Displaying Last two rows:\n",
      "[[30 12 16]\n",
      " [42 17 56]]\n"
     ]
    }
   ],
   "source": [
    "# Creating the 2D array\n",
    "my_array = np.array([[10, 20, 45], [30, 12, 16], [42, 17, 56]])\n",
    "\n",
    "# Slice to get the first two rows\n",
    "first_two_rows = my_array[:2, :]\n",
    "\n",
    "# Slice to get the last two rows\n",
    "last_two_rows = my_array[1:, :]\n",
    "\n",
    "print(\"Displaying First two rows:\")\n",
    "print(first_two_rows)\n",
    "\n",
    "print(\"\\nDisplaying Last two rows:\")\n",
    "print(last_two_rows)"
   ]
  },
  {
   "cell_type": "markdown",
   "id": "18836c1f",
   "metadata": {},
   "source": [
    "# 4. Create two 2x2 arrays and demonstrate how you can stack the elements vertically, horizontally, and split the arrays into smaller arrays."
   ]
  },
  {
   "cell_type": "code",
   "execution_count": 8,
   "id": "6b31b9a5",
   "metadata": {},
   "outputs": [
    {
     "name": "stdout",
     "output_type": "stream",
     "text": [
      "Array 1:\n",
      "[[1 2]\n",
      " [3 4]]\n",
      "\n",
      "Array 2:\n",
      "[[5 6]\n",
      " [7 8]]\n",
      "\n",
      "Vertically stacked:\n",
      "[[1 2]\n",
      " [3 4]\n",
      " [5 6]\n",
      " [7 8]]\n",
      "\n",
      "Horizontally stacked:\n",
      "[[1 2 5 6]\n",
      " [3 4 7 8]]\n",
      "\n",
      "Split horizontally:\n",
      "[array([[1, 2],\n",
      "       [3, 4]]), array([[5, 6],\n",
      "       [7, 8]])]\n",
      "\n",
      "Split vertically:\n",
      "[array([[1, 2],\n",
      "       [3, 4]]), array([[5, 6],\n",
      "       [7, 8]])]\n"
     ]
    }
   ],
   "source": [
    "# Creating two 2x2 arrays of my choice:\n",
    "array1 = np.array([[1, 2], [3, 4]])\n",
    "array2 = np.array([[5, 6], [7, 8]])\n",
    "\n",
    "# Stack vertically\n",
    "vertical_stack = np.vstack((array1, array2))\n",
    "\n",
    "# Stack horizontally\n",
    "horizontal_stack = np.hstack((array1, array2))\n",
    "\n",
    "# Split horizontally\n",
    "split_horizontal = np.hsplit(horizontal_stack, 2)\n",
    "\n",
    "# Split vertically\n",
    "split_vertical = np.vsplit(vertical_stack, 2)\n",
    "\n",
    "# Print the results\n",
    "\n",
    "#Displaying First array in order to view the stacking and splitting effectively\n",
    "print(\"Array 1:\")\n",
    "print(array1)\n",
    "\n",
    "#Displaying second array in order to view the stacking and splitting effectively\n",
    "print(\"\\nArray 2:\")\n",
    "print(array2)\n",
    "\n",
    "\n",
    "print(\"\\nVertically stacked:\")\n",
    "print(vertical_stack)\n",
    "\n",
    "print(\"\\nHorizontally stacked:\")\n",
    "print(horizontal_stack)\n",
    "\n",
    "print(\"\\nSplit horizontally:\")\n",
    "print(split_horizontal)\n",
    "\n",
    "print(\"\\nSplit vertically:\")\n",
    "print(split_vertical)\n"
   ]
  },
  {
   "cell_type": "markdown",
   "id": "39e8e1ed",
   "metadata": {},
   "source": [
    "## 5. Create two matrices X= ([[5, 7, 2], [4, 5, 6], [7, 4 ,2]]) Y= ([[4, 2], [6, 2], [4, 2]]),\n"
   ]
  },
  {
   "cell_type": "markdown",
   "id": "812850d2",
   "metadata": {},
   "source": [
    "### Is it possible to multiply these matrices?\n"
   ]
  },
  {
   "cell_type": "markdown",
   "id": "490582a0",
   "metadata": {},
   "source": [
    "### Demonstrate the case when it is not possible to."
   ]
  },
  {
   "cell_type": "markdown",
   "id": "5ce90f30",
   "metadata": {},
   "source": [
    "### Solution:\n",
    "\n",
    "Yes, it is possible to multiply matrices X and Y if and only if the number of columns in X is equal to the number of rows in Y. In other words, if X is of shape (m, n) and Y is of shape (n, p), then the result of the multiplication XY will be a matrix of shape (m, p).\n"
   ]
  },
  {
   "cell_type": "code",
   "execution_count": 10,
   "id": "b5b71373",
   "metadata": {},
   "outputs": [
    {
     "name": "stdout",
     "output_type": "stream",
     "text": [
      "Matrix multiplication is possible.\n",
      "Result:\n",
      "[[70 28]\n",
      " [70 30]\n",
      " [60 26]]\n"
     ]
    }
   ],
   "source": [
    "#First of all, creating the matrices X and Y\n",
    "X = np.array([[5, 7, 2], \n",
    "              [4, 5, 6], \n",
    "              [7, 4, 2]])\n",
    "\n",
    "Y = np.array([[4, 2], \n",
    "              [6, 2], \n",
    "              [4, 2]])\n",
    "\n",
    "#Now, let's check if it's possible to multiply them:\n",
    "\n",
    "# Getting the number of columns in X and the number of rows in Y\n",
    "n_cols_X = X.shape[1]\n",
    "n_rows_Y = Y.shape[0]\n",
    "\n",
    "# Checking if they can be multiplied\n",
    "if n_cols_X == n_rows_Y:\n",
    "    result = np.dot(X, Y)\n",
    "    print(\"Matrix multiplication is possible.\")\n",
    "    print(\"Result:\")\n",
    "    print(result)\n",
    "else:\n",
    "    print(\"Matrix multiplication is not possible because the number of columns in X is not equal to the number of rows in Y.\")\n",
    "\n",
    "\n"
   ]
  },
  {
   "cell_type": "markdown",
   "id": "fe914952",
   "metadata": {},
   "source": [
    "In this case, since X has 3 columns and Y has 3 rows, it is possible to multiply them.\n"
   ]
  },
  {
   "cell_type": "code",
   "execution_count": 12,
   "id": "2694084d",
   "metadata": {},
   "outputs": [
    {
     "name": "stdout",
     "output_type": "stream",
     "text": [
      "Matrix multiplication is not possible because the number of columns in A is not equal to the number of rows in B.\n"
     ]
    }
   ],
   "source": [
    "#Now,Demonstarting the case where multiplication of matrices is not possible:\n",
    "\n",
    "#Creating 2 matrices A and B\n",
    "A = np.array([[1, 2, 3], [4, 5, 6]])\n",
    "B = np.array([[7, 8], [9, 10]])\n",
    "\n",
    "#Now, let's check if it's possible to multiply them:\n",
    "\n",
    "# Getting the number of columns in X and the number of rows in Y\n",
    "n_cols_A = A.shape[1]\n",
    "n_rows_B = B.shape[0]\n",
    "\n",
    "# Checking if they can be multiplied\n",
    "if n_cols_A == n_rows_B:\n",
    "    result = np.dot(A, B)\n",
    "    print(\"Matrix multiplication is possible.\")\n",
    "    print(\"Result:\")\n",
    "    print(result)\n",
    "else:\n",
    "    print(\"Matrix multiplication is not possible because the number of columns in A is not equal to the number of rows in B.\")\n"
   ]
  },
  {
   "cell_type": "markdown",
   "id": "985ce2ea",
   "metadata": {},
   "source": [
    "From Above, it can be stated that number of columns of first matrix should be equal to number of rows in second matrix in order to get matrix multiplication of both matrices "
   ]
  },
  {
   "cell_type": "markdown",
   "id": "9e679a89",
   "metadata": {},
   "source": [
    "## 6. Create two arrays, x = ([2, -1, -8]) y = ([3, 1, -2])"
   ]
  },
  {
   "cell_type": "markdown",
   "id": "4faf8b66",
   "metadata": {},
   "source": [
    "### Find the Shape, Number of dimensions of vector x."
   ]
  },
  {
   "cell_type": "markdown",
   "id": "1487406c",
   "metadata": {},
   "source": [
    "### Reshape the vector x to a matrix of size (3,1) and determine the number of dimensions after reshaping y to a matrix of (3,1)."
   ]
  },
  {
   "cell_type": "code",
   "execution_count": 14,
   "id": "f0ee67dc",
   "metadata": {},
   "outputs": [
    {
     "name": "stdout",
     "output_type": "stream",
     "text": [
      "Original x:\n",
      "[ 2 -1 -8]\n",
      "Shape of x: (3,)\n",
      "Number of dimensions of x: 1\n",
      "\n",
      "Reshaped x:\n",
      "[[ 2]\n",
      " [-1]\n",
      " [-8]]\n",
      "\n",
      "Reshaped y:\n",
      "[[ 3]\n",
      " [ 1]\n",
      " [-2]]\n",
      "Number of dimensions of reshaped y: 2\n"
     ]
    }
   ],
   "source": [
    "\n",
    "# Creating the arrays x and y\n",
    "x = np.array([2, -1, -8])\n",
    "y = np.array([3, 1, -2])\n",
    "\n",
    "# Find the shape and number of dimensions of vector x\n",
    "x_shape = x.shape\n",
    "#x.shape returns the shape of the array x, which is (3,), indicating it's a 1D array with 3 elements.\n",
    "\n",
    "x_dimensions = x.ndim\n",
    "#x.ndim returns the number of dimensions of x, which is 1.\n",
    "\n",
    "# Reshape x to a matrix of size (3, 1)\n",
    "#x.reshape((3, 1)) reshapes x into a 2D array with dimensions (3, 1).\n",
    "x_reshaped = x.reshape((3, 1))\n",
    "\n",
    "# Reshape y to a matrix of size (3, 1\n",
    "#y.reshape((3, 1)) reshapes y into a 2D array with dimensions (3, 1).)\n",
    "y_reshaped = y.reshape((3, 1))\n",
    "\n",
    "\n",
    "# Determine the number of dimensions after reshaping y\n",
    "y_reshaped_dimensions = y_reshaped.ndim\n",
    "#y_reshaped.ndim returns the number of dimensions of the reshaped y, which is 2\n",
    "\n",
    "print(\"Original x:\")\n",
    "print(x)\n",
    "print(f\"Shape of x: {x_shape}\")\n",
    "print(f\"Number of dimensions of x: {x_dimensions}\")\n",
    "\n",
    "print(\"\\nReshaped x:\")\n",
    "print(x_reshaped)\n",
    "\n",
    "print(\"\\nReshaped y:\")\n",
    "print(y_reshaped)\n",
    "print(f\"Number of dimensions of reshaped y: {y_reshaped_dimensions}\")\n"
   ]
  },
  {
   "cell_type": "markdown",
   "id": "bcf8febc",
   "metadata": {},
   "source": [
    "## 7. How does broadcasting work? Demonstrate the subtraction, multiplication by considering a 3 x 3 matrix"
   ]
  },
  {
   "cell_type": "markdown",
   "id": "148a9bcb",
   "metadata": {},
   "source": [
    "Broadcasting is a feature in NumPy that allows arrays with different shapes to be combined together for arithmetic operations. It does this by implicitly expanding the smaller array to match the shape of the larger one, so that the operation can be performed element-wise."
   ]
  },
  {
   "cell_type": "code",
   "execution_count": 15,
   "id": "feeb0a96",
   "metadata": {},
   "outputs": [
    {
     "name": "stdout",
     "output_type": "stream",
     "text": [
      "Matrix A:\n",
      "[[1 2 3]\n",
      " [4 5 6]\n",
      " [7 8 9]]\n",
      "\n",
      "Array B:\n",
      "[10 20 30]\n",
      "\n",
      "Array C:\n",
      "[[1]\n",
      " [2]\n",
      " [3]]\n",
      "\n",
      "Result of Subtraction (A - B):\n",
      "[[ -9 -18 -27]\n",
      " [ -6 -15 -24]\n",
      " [ -3 -12 -21]]\n",
      "\n",
      "Result of Multiplication (A * C):\n",
      "[[ 1  2  3]\n",
      " [ 8 10 12]\n",
      " [21 24 27]]\n"
     ]
    }
   ],
   "source": [
    "#Let's demonstrate broadcasting with subtraction and multiplication using a 3x3 matrix:\n",
    "\n",
    "\n",
    "\n",
    "# Creating a 3x3 matrix\n",
    "A = np.array([[1, 2, 3],\n",
    "              [4, 5, 6],\n",
    "              [7, 8, 9]])\n",
    "\n",
    "# Defining a 1D array (row vector)\n",
    "B = np.array([10, 20, 30])\n",
    "\n",
    "# Defining a 1D array (column vector)\n",
    "C = np.array([1, 2, 3]).reshape(-1, 1)\n",
    "\n",
    "# Broadcasting with subtraction\n",
    "result_subtraction = A - B\n",
    "\n",
    "# Broadcasting with multiplication\n",
    "result_multiplication = A * C\n",
    "\n",
    "print(\"Matrix A:\")\n",
    "print(A)\n",
    "\n",
    "print(\"\\nArray B:\")\n",
    "print(B)\n",
    "\n",
    "print(\"\\nArray C:\")\n",
    "print(C)\n",
    "\n",
    "print(\"\\nResult of Subtraction (A - B):\")\n",
    "print(result_subtraction)\n",
    "\n",
    "print(\"\\nResult of Multiplication (A * C):\")\n",
    "print(result_multiplication)\n"
   ]
  },
  {
   "cell_type": "markdown",
   "id": "92dca9b2",
   "metadata": {},
   "source": [
    "In this example, we have a 3x3 matrix A, a 1D array B, and a 1D array C which has been reshaped into a column vector.\n",
    "\n",
    "Here's what happens in the operations:\n",
    "\n",
    "Subtraction (A - B):\n",
    "Array B is broadcasted to match the shape of A. It essentially becomes a 3x3 matrix where each row is a copy of B.\n",
    "Then, element-wise subtraction is performed.\n",
    "Multiplication (A * C):\n",
    "Array C is broadcasted to match the shape of A. It is copied along the columns to form a 3x3 matrix.\n",
    "Then, element-wise multiplication is performed.\n",
    "\n",
    "\n",
    "As you can see from the output, broadcasting allows us to perform these operations even though the shapes of the arrays are different.\n"
   ]
  },
  {
   "cell_type": "code",
   "execution_count": null,
   "id": "ba7c420d",
   "metadata": {},
   "outputs": [],
   "source": []
  }
 ],
 "metadata": {
  "kernelspec": {
   "display_name": "Python 3 (ipykernel)",
   "language": "python",
   "name": "python3"
  },
  "language_info": {
   "codemirror_mode": {
    "name": "ipython",
    "version": 3
   },
   "file_extension": ".py",
   "mimetype": "text/x-python",
   "name": "python",
   "nbconvert_exporter": "python",
   "pygments_lexer": "ipython3",
   "version": "3.10.9"
  }
 },
 "nbformat": 4,
 "nbformat_minor": 5
}
