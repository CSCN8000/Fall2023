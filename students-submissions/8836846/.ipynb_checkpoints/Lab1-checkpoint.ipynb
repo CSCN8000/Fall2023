{
 "cells": [
  {
   "cell_type": "code",
   "execution_count": 1,
   "id": "8ecd2cda",
   "metadata": {},
   "outputs": [],
   "source": [
    "import numpy as np"
   ]
  },
  {
   "cell_type": "markdown",
   "id": "1b3c8957",
   "metadata": {},
   "source": [
    "# PART A - Creating a Notebook to demonstrate Numpy Operations."
   ]
  },
  {
   "cell_type": "markdown",
   "id": "65bc556a",
   "metadata": {},
   "source": [
    "## 1. Create an array that starts from the integer 1, ends at 20, incremented by 3."
   ]
  },
  {
   "cell_type": "code",
   "execution_count": 2,
   "id": "dc793b68",
   "metadata": {},
   "outputs": [
    {
     "name": "stdout",
     "output_type": "stream",
     "text": [
      "[ 1  4  7 10 13 16 19]\n"
     ]
    }
   ],
   "source": [
    "# Creating an array using list comprehension\n",
    "my_list = [i for i in range(1, 20, 3)]\n",
    "\n",
    "# Converting the list to a Numpy array\n",
    "my_array = np.array(my_list)\n",
    "\n",
    "print(my_array)\n"
   ]
  },
  {
   "cell_type": "markdown",
   "id": "ee91bc3b",
   "metadata": {},
   "source": [
    "## 2. Create a new array of shape 3 with random numbers between 0 and 1."
   ]
  },
  {
   "cell_type": "code",
   "execution_count": 3,
   "id": "57134bd8",
   "metadata": {},
   "outputs": [
    {
     "name": "stdout",
     "output_type": "stream",
     "text": [
      "[0.22364368 0.67288337 0.75340799]\n"
     ]
    }
   ],
   "source": [
    "# Creating a new array of shape 3 with random numbers between 0 and 1\n",
    "array = np.random.rand(3)\n",
    "# Printing the array\n",
    "print(array)"
   ]
  },
  {
   "cell_type": "markdown",
   "id": "3c2b72bf",
   "metadata": {},
   "source": [
    "## 3. Create a 2 D array [[10,20,45], [30,12,16], [42,17,56]] and perform the following operations:\n",
    "\n"
   ]
  },
  {
   "cell_type": "markdown",
   "id": "2e1679a5",
   "metadata": {},
   "source": [
    "Slice the 2D array to get the first two rows, slice the 2D array to get the last two rows."
   ]
  },
  {
   "cell_type": "code",
   "execution_count": 4,
   "id": "5f728b86",
   "metadata": {},
   "outputs": [
    {
     "name": "stdout",
     "output_type": "stream",
     "text": [
      "Displaying First two rows:\n",
      "[[10 20 45]\n",
      " [30 12 16]]\n",
      "\n",
      "Displaying Last two rows:\n",
      "[[30 12 16]\n",
      " [42 17 56]]\n"
     ]
    }
   ],
   "source": [
    "# Creating the 2D array\n",
    "my_array = np.array([[10, 20, 45], [30, 12, 16], [42, 17, 56]])\n",
    "\n",
    "# Slice to get the first two rows\n",
    "first_two_rows = my_array[:2, :]\n",
    "\n",
    "# Slice to get the last two rows\n",
    "last_two_rows = my_array[1:, :]\n",
    "\n",
    "print(\"Displaying First two rows:\")\n",
    "print(first_two_rows)\n",
    "\n",
    "print(\"\\nDisplaying Last two rows:\")\n",
    "print(last_two_rows)"
   ]
  },
  {
   "cell_type": "markdown",
   "id": "18836c1f",
   "metadata": {},
   "source": [
    "# 4. Create two 2x2 arrays and demonstrate how you can stack the elements vertically, horizontally, and split the arrays into smaller arrays."
   ]
  },
  {
   "cell_type": "code",
   "execution_count": 5,
   "id": "6b31b9a5",
   "metadata": {},
   "outputs": [
    {
     "name": "stdout",
     "output_type": "stream",
     "text": [
      "Array 1:\n",
      "[[1 2]\n",
      " [3 4]]\n",
      "\n",
      "Array 2:\n",
      "[[5 6]\n",
      " [7 8]]\n",
      "\n",
      "Vertically stacked:\n",
      "[[1 2]\n",
      " [3 4]\n",
      " [5 6]\n",
      " [7 8]]\n",
      "\n",
      "Horizontally stacked:\n",
      "[[1 2 5 6]\n",
      " [3 4 7 8]]\n",
      "\n",
      "Split horizontally:\n",
      "[array([[1, 2],\n",
      "       [3, 4]]), array([[5, 6],\n",
      "       [7, 8]])]\n",
      "\n",
      "Split vertically:\n",
      "[array([[1, 2],\n",
      "       [3, 4]]), array([[5, 6],\n",
      "       [7, 8]])]\n"
     ]
    }
   ],
   "source": [
    "# Creating two 2x2 arrays of my choice:\n",
    "array1 = np.array([[1, 2], [3, 4]])\n",
    "array2 = np.array([[5, 6], [7, 8]])\n",
    "\n",
    "# Stack vertically\n",
    "vertical_stack = np.vstack((array1, array2))\n",
    "\n",
    "# Stack horizontally\n",
    "horizontal_stack = np.hstack((array1, array2))\n",
    "\n",
    "# Split horizontally\n",
    "split_horizontal = np.hsplit(horizontal_stack, 2)\n",
    "\n",
    "# Split vertically\n",
    "split_vertical = np.vsplit(vertical_stack, 2)\n",
    "\n",
    "# Print the results\n",
    "\n",
    "#Displaying First array in order to view the stacking and splitting effectively\n",
    "print(\"Array 1:\")\n",
    "print(array1)\n",
    "\n",
    "#Displaying second array in order to view the stacking and splitting effectively\n",
    "print(\"\\nArray 2:\")\n",
    "print(array2)\n",
    "\n",
    "\n",
    "print(\"\\nVertically stacked:\")\n",
    "print(vertical_stack)\n",
    "\n",
    "print(\"\\nHorizontally stacked:\")\n",
    "print(horizontal_stack)\n",
    "\n",
    "print(\"\\nSplit horizontally:\")\n",
    "print(split_horizontal)\n",
    "\n",
    "print(\"\\nSplit vertically:\")\n",
    "print(split_vertical)\n"
   ]
  },
  {
   "cell_type": "markdown",
   "id": "39e8e1ed",
   "metadata": {},
   "source": [
    "## 5. Create two matrices X= ([[5, 7, 2], [4, 5, 6], [7, 4 ,2]]) Y= ([[4, 2], [6, 2], [4, 2]]),\n"
   ]
  },
  {
   "cell_type": "markdown",
   "id": "812850d2",
   "metadata": {},
   "source": [
    "### Is it possible to multiply these matrices?\n"
   ]
  },
  {
   "cell_type": "markdown",
   "id": "490582a0",
   "metadata": {},
   "source": [
    "### Demonstrate the case when it is not possible to."
   ]
  },
  {
   "cell_type": "markdown",
   "id": "5ce90f30",
   "metadata": {},
   "source": [
    "### Solution:\n",
    "\n",
    "Yes, it is possible to multiply matrices X and Y if and only if the number of columns in X is equal to the number of rows in Y. In other words, if X is of shape (m, n) and Y is of shape (n, p), then the result of the multiplication XY will be a matrix of shape (m, p).\n"
   ]
  },
  {
   "cell_type": "code",
   "execution_count": 6,
   "id": "b5b71373",
   "metadata": {},
   "outputs": [
    {
     "name": "stdout",
     "output_type": "stream",
     "text": [
      "Matrix multiplication is possible.\n",
      "Result:\n",
      "[[70 28]\n",
      " [70 30]\n",
      " [60 26]]\n"
     ]
    }
   ],
   "source": [
    "#First of all, creating the matrices X and Y\n",
    "X = np.array([[5, 7, 2], \n",
    "              [4, 5, 6], \n",
    "              [7, 4, 2]])\n",
    "\n",
    "Y = np.array([[4, 2], \n",
    "              [6, 2], \n",
    "              [4, 2]])\n",
    "\n",
    "#Now, let's check if it's possible to multiply them:\n",
    "\n",
    "# Getting the number of columns in X and the number of rows in Y\n",
    "n_cols_X = X.shape[1]\n",
    "n_rows_Y = Y.shape[0]\n",
    "\n",
    "# Checking if they can be multiplied\n",
    "if n_cols_X == n_rows_Y:\n",
    "    result = np.dot(X, Y)\n",
    "    print(\"Matrix multiplication is possible.\")\n",
    "    print(\"Result:\")\n",
    "    print(result)\n",
    "else:\n",
    "    print(\"Matrix multiplication is not possible because the number of columns in X is not equal to the number of rows in Y.\")\n",
    "\n",
    "\n"
   ]
  },
  {
   "cell_type": "markdown",
   "id": "fe914952",
   "metadata": {},
   "source": [
    "In this case, since X has 3 columns and Y has 3 rows, it is possible to multiply them.\n"
   ]
  },
  {
   "cell_type": "code",
   "execution_count": 7,
   "id": "2694084d",
   "metadata": {},
   "outputs": [
    {
     "name": "stdout",
     "output_type": "stream",
     "text": [
      "Matrix multiplication is not possible because the number of columns in A is not equal to the number of rows in B.\n"
     ]
    }
   ],
   "source": [
    "#Now,Demonstarting the case where multiplication of matrices is not possible:\n",
    "\n",
    "#Creating 2 matrices A and B\n",
    "A = np.array([[1, 2, 3], [4, 5, 6]])\n",
    "B = np.array([[7, 8], [9, 10]])\n",
    "\n",
    "#Now, let's check if it's possible to multiply them:\n",
    "\n",
    "# Getting the number of columns in X and the number of rows in Y\n",
    "n_cols_A = A.shape[1]\n",
    "n_rows_B = B.shape[0]\n",
    "\n",
    "# Checking if they can be multiplied\n",
    "if n_cols_A == n_rows_B:\n",
    "    result = np.dot(A, B)\n",
    "    print(\"Matrix multiplication is possible.\")\n",
    "    print(\"Result:\")\n",
    "    print(result)\n",
    "else:\n",
    "    print(\"Matrix multiplication is not possible because the number of columns in A is not equal to the number of rows in B.\")\n"
   ]
  },
  {
   "cell_type": "markdown",
   "id": "985ce2ea",
   "metadata": {},
   "source": [
    "From Above, it can be stated that number of columns of first matrix should be equal to number of rows in second matrix in order to get matrix multiplication of both matrices "
   ]
  },
  {
   "cell_type": "markdown",
   "id": "9e679a89",
   "metadata": {},
   "source": [
    "## 6. Create two arrays, x = ([2, -1, -8]) y = ([3, 1, -2])"
   ]
  },
  {
   "cell_type": "markdown",
   "id": "4faf8b66",
   "metadata": {},
   "source": [
    "### Find the Shape, Number of dimensions of vector x."
   ]
  },
  {
   "cell_type": "markdown",
   "id": "1487406c",
   "metadata": {},
   "source": [
    "### Reshape the vector x to a matrix of size (3,1) and determine the number of dimensions after reshaping y to a matrix of (3,1)."
   ]
  },
  {
   "cell_type": "code",
   "execution_count": 8,
   "id": "f0ee67dc",
   "metadata": {},
   "outputs": [
    {
     "name": "stdout",
     "output_type": "stream",
     "text": [
      "Original x:\n",
      "[ 2 -1 -8]\n",
      "Shape of x: (3,)\n",
      "Number of dimensions of x: 1\n",
      "\n",
      "Reshaped x:\n",
      "[[ 2]\n",
      " [-1]\n",
      " [-8]]\n",
      "\n",
      "Reshaped y:\n",
      "[[ 3]\n",
      " [ 1]\n",
      " [-2]]\n",
      "Number of dimensions of reshaped y: 2\n"
     ]
    }
   ],
   "source": [
    "\n",
    "# Creating the arrays x and y\n",
    "x = np.array([2, -1, -8])\n",
    "y = np.array([3, 1, -2])\n",
    "\n",
    "# Find the shape and number of dimensions of vector x\n",
    "x_shape = x.shape\n",
    "#x.shape returns the shape of the array x, which is (3,), indicating it's a 1D array with 3 elements.\n",
    "\n",
    "x_dimensions = x.ndim\n",
    "#x.ndim returns the number of dimensions of x, which is 1.\n",
    "\n",
    "# Reshape x to a matrix of size (3, 1)\n",
    "#x.reshape((3, 1)) reshapes x into a 2D array with dimensions (3, 1).\n",
    "x_reshaped = x.reshape((3, 1))\n",
    "\n",
    "# Reshape y to a matrix of size (3, 1\n",
    "#y.reshape((3, 1)) reshapes y into a 2D array with dimensions (3, 1).)\n",
    "y_reshaped = y.reshape((3, 1))\n",
    "\n",
    "\n",
    "# Determine the number of dimensions after reshaping y\n",
    "y_reshaped_dimensions = y_reshaped.ndim\n",
    "#y_reshaped.ndim returns the number of dimensions of the reshaped y, which is 2\n",
    "\n",
    "print(\"Original x:\")\n",
    "print(x)\n",
    "print(f\"Shape of x: {x_shape}\")\n",
    "print(f\"Number of dimensions of x: {x_dimensions}\")\n",
    "\n",
    "print(\"\\nReshaped x:\")\n",
    "print(x_reshaped)\n",
    "\n",
    "print(\"\\nReshaped y:\")\n",
    "print(y_reshaped)\n",
    "print(f\"Number of dimensions of reshaped y: {y_reshaped_dimensions}\")\n"
   ]
  },
  {
   "cell_type": "markdown",
   "id": "bcf8febc",
   "metadata": {},
   "source": [
    "## 7. How does broadcasting work? Demonstrate the subtraction, multiplication by considering a 3 x 3 matrix"
   ]
  },
  {
   "cell_type": "markdown",
   "id": "148a9bcb",
   "metadata": {},
   "source": [
    "Broadcasting is a feature in NumPy that allows arrays with different shapes to be combined together for arithmetic operations. It does this by implicitly expanding the smaller array to match the shape of the larger one, so that the operation can be performed element-wise."
   ]
  },
  {
   "cell_type": "code",
   "execution_count": 9,
   "id": "feeb0a96",
   "metadata": {},
   "outputs": [
    {
     "name": "stdout",
     "output_type": "stream",
     "text": [
      "Matrix A:\n",
      "[[1 2 3]\n",
      " [4 5 6]\n",
      " [7 8 9]]\n",
      "\n",
      "Array B:\n",
      "[10 20 30]\n",
      "\n",
      "Array C:\n",
      "[[1]\n",
      " [2]\n",
      " [3]]\n",
      "\n",
      "Result of Subtraction (A - B):\n",
      "[[ -9 -18 -27]\n",
      " [ -6 -15 -24]\n",
      " [ -3 -12 -21]]\n",
      "\n",
      "Result of Multiplication (A * C):\n",
      "[[ 1  2  3]\n",
      " [ 8 10 12]\n",
      " [21 24 27]]\n"
     ]
    }
   ],
   "source": [
    "#Let's demonstrate broadcasting with subtraction and multiplication using a 3x3 matrix:\n",
    "\n",
    "\n",
    "\n",
    "# Creating a 3x3 matrix\n",
    "A = np.array([[1, 2, 3],\n",
    "              [4, 5, 6],\n",
    "              [7, 8, 9]])\n",
    "\n",
    "# Defining a 1D array (row vector)\n",
    "B = np.array([10, 20, 30])\n",
    "\n",
    "# Defining a 1D array (column vector)\n",
    "C = np.array([1, 2, 3]).reshape(-1, 1)\n",
    "\n",
    "# Broadcasting with subtraction\n",
    "result_subtraction = A - B\n",
    "\n",
    "# Broadcasting with multiplication\n",
    "result_multiplication = A * C\n",
    "\n",
    "print(\"Matrix A:\")\n",
    "print(A)\n",
    "\n",
    "print(\"\\nArray B:\")\n",
    "print(B)\n",
    "\n",
    "print(\"\\nArray C:\")\n",
    "print(C)\n",
    "\n",
    "print(\"\\nResult of Subtraction (A - B):\")\n",
    "print(result_subtraction)\n",
    "\n",
    "print(\"\\nResult of Multiplication (A * C):\")\n",
    "print(result_multiplication)\n"
   ]
  },
  {
   "cell_type": "markdown",
   "id": "92dca9b2",
   "metadata": {},
   "source": [
    "In this example, we have a 3x3 matrix A, a 1D array B, and a 1D array C which has been reshaped into a column vector.\n",
    "\n",
    "Here's what happens in the operations:\n",
    "\n",
    "Subtraction (A - B):\n",
    "Array B is broadcasted to match the shape of A. It essentially becomes a 3x3 matrix where each row is a copy of B.\n",
    "Then, element-wise subtraction is performed.\n",
    "Multiplication (A * C):\n",
    "Array C is broadcasted to match the shape of A. It is copied along the columns to form a 3x3 matrix.\n",
    "Then, element-wise multiplication is performed.\n",
    "\n",
    "\n",
    "As you can see from the output, broadcasting allows us to perform these operations even though the shapes of the arrays are different.\n"
   ]
  },
  {
   "cell_type": "markdown",
   "id": "ee555899",
   "metadata": {},
   "source": [
    "# Part B- Linear Equations"
   ]
  },
  {
   "cell_type": "markdown",
   "id": "40aa7098",
   "metadata": {},
   "source": [
    "## Determine the singularity of the system of equations, comment on the expected solution of the system. Solve the system of equations if possible. Justify the reason why you believe the system can or cannot be solved using numpy functions."
   ]
  },
  {
   "cell_type": "markdown",
   "id": "80bd3ef4",
   "metadata": {},
   "source": [
    "Part B.1\n",
    "\n",
    "4x + y - 2z = 10\n",
    "\n",
    "2x - 3y + 2z = -4\n",
    "\n",
    "x + 2y + 3z = 6"
   ]
  },
  {
   "cell_type": "markdown",
   "id": "68add7c3",
   "metadata": {},
   "source": [
    "## Solution:\n",
    "\n"
   ]
  },
  {
   "cell_type": "markdown",
   "id": "f9f694a5",
   "metadata": {},
   "source": [
    "To determine the singularity of the system, we need to analyze the coefficient matrix's determinant. If the determinant is non-zero, the system is non-singular, and a unique solution exists. If the determinant is zero, the system may be singular, indicating either no solutions or an infinite number of solutions.\n"
   ]
  },
  {
   "cell_type": "code",
   "execution_count": 10,
   "id": "37ccff68",
   "metadata": {},
   "outputs": [
    {
     "name": "stdout",
     "output_type": "stream",
     "text": [
      "The system is non-singular. A unique solution exists.\n",
      "Solution:\n",
      "x = 1.7999999999999998, y = 2.4, z = -0.2\n"
     ]
    }
   ],
   "source": [
    "\n",
    "# Defining the coefficient matrix A and the constant vector B\n",
    "A = np.array([[4, 1, -2],\n",
    "              [2, -3, 2],\n",
    "              [1, 2, 3]])\n",
    "\n",
    "B = np.array([10, -4, 6])\n",
    "\n",
    "# Calculating the determinant of A\n",
    "det_A = np.linalg.det(A)\n",
    "\n",
    "if det_A != 0:\n",
    "    # If determinant is non-zero, the system is non-singular, and a unique solution exists\n",
    "    # Solve for X using numpy's linear algebra solver\n",
    "    X = np.linalg.solve(A, B)\n",
    "    print(\"The system is non-singular. A unique solution exists.\")\n",
    "    print(\"Solution:\")\n",
    "    print(f\"x = {X[0]}, y = {X[1]}, z = {X[2]}\")\n",
    "else:\n",
    "    # If determinant is zero, the system is singular, and there may be either no solution or infinite solutions\n",
    "    print(\"The system may be singular. There may be no solution or infinite solutions.\")\n"
   ]
  },
  {
   "cell_type": "markdown",
   "id": "bfad121f",
   "metadata": {},
   "source": [
    "The system is not singular. It has a unique solution, which is x = 1.8, y = 2.4 and z = -0.2. This is expected because the determinant of the coefficient matrix is non-zero, indicating a unique solution. The system can be solved using NumPy functions."
   ]
  },
  {
   "cell_type": "markdown",
   "id": "abe48351",
   "metadata": {},
   "source": [
    "Part B.2\n",
    "\n",
    "2x - y + 3z + 4w = 10\n",
    "\n",
    "4x - 2y + 6z + 8w = 20\n",
    "\n",
    "3x + y - 2z + 2w = 3\n",
    "\n",
    "x + 3y - 4z + w = -1"
   ]
  },
  {
   "cell_type": "code",
   "execution_count": 11,
   "id": "4092cbf2",
   "metadata": {},
   "outputs": [
    {
     "name": "stdout",
     "output_type": "stream",
     "text": [
      "The system is singular, and it may not have a unique solution.\n"
     ]
    }
   ],
   "source": [
    "# Defining the coefficient matrix A and constants b\n",
    "A = np.array([[2, -1, 3, 4],\n",
    "              [4, -2, 6, 8],\n",
    "              [3, 1, -2, 2],\n",
    "              [1, 3, -4, 1]])\n",
    "b = np.array([10, 20, 3, -1])\n",
    "\n",
    "# Calculating the determinant of A\n",
    "det_A = np.linalg.det(A)\n",
    "\n",
    "if det_A != 0:\n",
    "    print(\"The system is not singular.\")\n",
    "    print(\"Expected solution: It has a unique solution.\")\n",
    "    # Solve the system\n",
    "    solution = np.linalg.solve(A, b)\n",
    "    print(\"Solution:\", solution)\n",
    "else:\n",
    "    print(\"The system is singular, and it may not have a unique solution.\")\n"
   ]
  },
  {
   "cell_type": "markdown",
   "id": "5fccc3ec",
   "metadata": {},
   "source": [
    "The system is singular. It may not have a unique solution. This is expected because the determinant of the coefficient matrix is zero, indicating it may not have an unique solution. The system cannot be solved using NumPy functions."
   ]
  },
  {
   "cell_type": "code",
   "execution_count": null,
   "id": "7b459f49",
   "metadata": {},
   "outputs": [],
   "source": []
  }
 ],
 "metadata": {
  "kernelspec": {
   "display_name": "Python 3 (ipykernel)",
   "language": "python",
   "name": "python3"
  },
  "language_info": {
   "codemirror_mode": {
    "name": "ipython",
    "version": 3
   },
   "file_extension": ".py",
   "mimetype": "text/x-python",
   "name": "python",
   "nbconvert_exporter": "python",
   "pygments_lexer": "ipython3",
   "version": "3.10.9"
  }
 },
 "nbformat": 4,
 "nbformat_minor": 5
}
