{
 "cells": [
  {
   "cell_type": "markdown",
   "metadata": {},
   "source": [
    "# <span style=\"color:pink\"><center>  Lab 1 – Basic NumPy Operations<center>\n",
    "---\n",
    "Student Name: **Zeel Samir Shah** <br>\n",
    "Student ID: **8947091**\n",
    "\n",
    "## Part A- Create a Notebook to demonstrate NumPy Operations.\n",
    "\n",
    "<span style=\"color:pink\">1] Create an array that starts from the integer 1, ends at 20, incremented by 3.</span>"
   ]
  },
  {
   "cell_type": "code",
   "execution_count": 7,
   "metadata": {},
   "outputs": [
    {
     "name": "stdout",
     "output_type": "stream",
     "text": [
      "[ 1  4  7 10 13 16 19]\n"
     ]
    }
   ],
   "source": [
    "import numpy as np\n",
    "\n",
    "array = np.arange(1, 20, 3)\n",
    "print(array)\n"
   ]
  },
  {
   "cell_type": "markdown",
   "metadata": {},
   "source": [
    "<span style=\"color:pink\">2] Create a new array of shape 3 with random numbers between 0 and 1.</span>"
   ]
  },
  {
   "cell_type": "code",
   "execution_count": 8,
   "metadata": {},
   "outputs": [
    {
     "name": "stdout",
     "output_type": "stream",
     "text": [
      "[0.12481201 0.12800608 0.43553446]\n"
     ]
    }
   ],
   "source": [
    "import numpy as np\n",
    "\n",
    "array = np.random.rand(3)\n",
    "print(array)\n"
   ]
  },
  {
   "cell_type": "markdown",
   "metadata": {},
   "source": [
    "<span style=\"color:pink\">3] Create a 2 D array `[[10,20,45], [30,12,16], [42,17,56]]` and perform the following operations: \n",
    " - Slice the 2D array to get the first two rows, slice the 2D array to get the last two rows.</span>"
   ]
  },
  {
   "cell_type": "code",
   "execution_count": 9,
   "metadata": {},
   "outputs": [
    {
     "name": "stdout",
     "output_type": "stream",
     "text": [
      "[[10 20 45]\n",
      " [30 12 16]]\n",
      "[[30 12 16]\n",
      " [42 17 56]]\n"
     ]
    }
   ],
   "source": [
    "import numpy as np\n",
    "\n",
    "array = np.array([[10,20,45], [30,12,16], [42,17,56]])\n",
    "\n",
    "first_two_rows = array[:2]\n",
    "last_two_rows = array[-2:]\n",
    "\n",
    "print(first_two_rows)\n",
    "print(last_two_rows)\n"
   ]
  },
  {
   "cell_type": "markdown",
   "metadata": {},
   "source": [
    "<span style=\"color:pink\">4] Create two 2x2 arrays and demonstrate how you can stack the elements vertically, horizontally, and split the arrays into smaller arrays.</span>"
   ]
  },
  {
   "cell_type": "code",
   "execution_count": 27,
   "metadata": {},
   "outputs": [
    {
     "name": "stdout",
     "output_type": "stream",
     "text": [
      "\n",
      "Array1:\n",
      "[[1 2]\n",
      " [3 4]]\n",
      "\n",
      "Array2:\n",
      "[[5 6]\n",
      " [7 8]]\n",
      "\n",
      "Stacked vertically:\n",
      "[[1 2]\n",
      " [3 4]\n",
      " [5 6]\n",
      " [7 8]]\n",
      "\n",
      "Stacked horizontally:\n",
      "[[1 2 5 6]\n",
      " [3 4 7 8]]\n",
      "\n",
      "Splited Smaller Arrays:\n",
      "[array([[1],\n",
      "       [3]]), array([[2],\n",
      "       [4]])]\n"
     ]
    }
   ],
   "source": [
    "import numpy as np\n",
    "\n",
    "array1 = np.array([[1, 2], [3, 4]])\n",
    "array2 = np.array([[5, 6], [7, 8]])\n",
    "print(\"\\nArray1:\")\n",
    "print(array1)\n",
    "print(\"\\nArray2:\")\n",
    "print(array2)\n",
    "\n",
    "stacked_array = np.vstack((array1, array2))\n",
    "print(\"\\nStacked vertically:\")\n",
    "print(stacked_array)\n",
    "\n",
    "stacked_array = np.hstack((array1, array2))\n",
    "print(\"\\nStacked horizontally:\")\n",
    "print(stacked_array)\n",
    "\n",
    "split_arrays = np.split(array1, 2, axis=1)\n",
    "print(\"\\nSplited Smaller Arrays:\")\n",
    "print(split_arrays)\n",
    "\n",
    "\n",
    "\n"
   ]
  },
  {
   "cell_type": "markdown",
   "metadata": {},
   "source": [
    "<span style=\"color:pink\">5] Create two matrices X= ([[5, 7, 2], [4, 5, 6], [7, 4 ,2]]) Y= ([[4, 2], [6, 2], [4, 2]]),\n",
    "- Is it possible to multiply these matrices? \n",
    " <br> **Answer**: Yes, it is possible to multiply the two matrices X and Y that you have provided. To multiply two matrices, the number of columns in the first matrix must be equal to the number of rows in the second matrix. In this case, the first matrix X has 3 columns and the second matrix Y has 3 rows. Therefore, the two matrices can be multiplied.\n",
    "- Demonstrate the case when it is not possible to.\n",
    " <br>**Answer:** When we try to multiply Y with X, we can't multiply. Both examples are demonstrated below.</span>"
   ]
  },
  {
   "cell_type": "code",
   "execution_count": 29,
   "metadata": {},
   "outputs": [
    {
     "name": "stdout",
     "output_type": "stream",
     "text": [
      "[[70 28]\n",
      " [70 30]\n",
      " [60 26]]\n"
     ]
    }
   ],
   "source": [
    "import numpy as np\n",
    "\n",
    "X = np.array([[5, 7, 2], [4, 5, 6], [7, 4, 2]])\n",
    "Y = np.array([[4, 2], [6, 2], [4, 2]])\n",
    "\n",
    "product = np.dot(X, Y)\n",
    "\n",
    "print(product)\n",
    "\n"
   ]
  },
  {
   "cell_type": "markdown",
   "metadata": {},
   "source": [
    "<span style=\"color:pink\">6] Create two arrays, x = ([2, -1, -8]) y = ([3, 1, -2]),\n",
    "- Find the Shape, Number of dimensions of vector x.\n",
    "- Reshape the vector x to a matrix of size (3,1) and determine the number of dimensions after reshaping y to a matrix of (3,1).</span>"
   ]
  },
  {
   "cell_type": "code",
   "execution_count": 30,
   "metadata": {},
   "outputs": [
    {
     "name": "stdout",
     "output_type": "stream",
     "text": [
      "Shape of vector x: (3,)\n",
      "Number of dimensions of vector x: 1\n",
      "Number of dimensions after reshaping y to a matrix of (3,1): 2\n"
     ]
    }
   ],
   "source": [
    "import numpy as np\n",
    "\n",
    "x = np.array([2, -1, -8])\n",
    "y = np.array([3, 1, -2])\n",
    "\n",
    "print(\"Shape of vector x:\", x.shape)\n",
    "print(\"Number of dimensions of vector x:\", x.ndim)\n",
    "\n",
    "x_reshaped = x.reshape((3, 1))\n",
    "\n",
    "y_reshaped = y.reshape((3, 1))\n",
    "print(\"Number of dimensions after reshaping y to a matrix of (3,1):\", y_reshaped.ndim)\n"
   ]
  },
  {
   "cell_type": "markdown",
   "metadata": {},
   "source": [
    "<span style=\"color:pink\">7] How does broadcasting work? Demonstrate the subtraction, multiplication by considering a 3 x 3 matrix.</span>\n",
    "<br>**Answer :** Broadcasting works by expanding the smaller array to the shape of the larger array. This allows you to perform arithmetic operations on arrays of different shapes without having to explicitly reshape them."
   ]
  },
  {
   "cell_type": "code",
   "execution_count": 33,
   "metadata": {},
   "outputs": [
    {
     "name": "stdout",
     "output_type": "stream",
     "text": [
      "[[-4 -3 -2]\n",
      " [-1  0  1]\n",
      " [ 2  3  4]]\n",
      "[[ 2  4  6]\n",
      " [ 8 10 12]\n",
      " [14 16 18]]\n"
     ]
    }
   ],
   "source": [
    "import numpy as np\n",
    "\n",
    "A = np.array([[1, 2, 3], [4, 5, 6], [7, 8, 9]])\n",
    "\n",
    "B = A - 5\n",
    "\n",
    "C = A * 2\n",
    "\n",
    "print(B)\n",
    "print(C)\n"
   ]
  },
  {
   "cell_type": "markdown",
   "metadata": {},
   "source": [
    "---\n",
    "## Part B- Linear Equations\n",
    "Determine the singularity of the system of equations, comment on the expected solution of the system. Solve the system of equations if possible. Justify the reason why you believe the system can or cannot be solved using numpy functions.\n",
    "### <span style=\"color:pink\">Part B.1</span>\n",
    "\n",
    "1. 4x + y - 2z = 10\n",
    "2. 2x - 3y + 2z = -4\n",
    "3. x + 2y + 3z = 6\n",
    "\n",
    "<span style=\"color:pink\">Answer:</span>\n",
    "==> To determine the singularity of a system of equations, we can use the determinant of the coefficient matrix. If the determinant is zero, then the system of equations is singular. If the determinant is non-zero, then the system of equations has a unique solution.\n",
    "\n",
    "Let's calculate the determinant and solve the system:"
   ]
  },
  {
   "cell_type": "code",
   "execution_count": 34,
   "metadata": {},
   "outputs": [
    {
     "name": "stdout",
     "output_type": "stream",
     "text": [
      "[ 1.8  2.4 -0.2]\n"
     ]
    }
   ],
   "source": [
    "import numpy as np\n",
    "\n",
    "A = np.array([[4, 1, -2], [2, -3, 2], [1, 2, 3]])\n",
    "b = np.array([10, -4, 6])\n",
    "\n",
    "x = np.linalg.solve(A, b)\n",
    "\n",
    "print(x)\n"
   ]
  },
  {
   "cell_type": "markdown",
   "metadata": {},
   "source": [
    "### <span style=\"color:pink\">Part B.2</span>\n",
    "1. 2x - y + 3z + 4w = 10\n",
    "2. 4x - 2y + 6z + 8w = 20\n",
    "3. 3x + y - 2z + 2w = 3\n",
    "4. x + 3y - 4z + w = -1"
   ]
  },
  {
   "cell_type": "code",
   "execution_count": 35,
   "metadata": {},
   "outputs": [
    {
     "name": "stdout",
     "output_type": "stream",
     "text": [
      "The system of equations is singular.\n"
     ]
    }
   ],
   "source": [
    "import numpy as np\n",
    "\n",
    "A = np.array([[2, -1, 3, 4], [4, -2, 6, 8], [3, 1, -2, 2], [1, 3, -4, 1]])\n",
    "b = np.array([10, 20, 3, -1])\n",
    "\n",
    "try:\n",
    "  x = np.linalg.solve(A, b)\n",
    "except np.linalg.LinAlgError:\n",
    "  print(\"The system of equations is singular.\")\n"
   ]
  }
 ],
 "metadata": {
  "kernelspec": {
   "display_name": "CSCN8010_classic_ml",
   "language": "python",
   "name": "cscn8010_classic_ml"
  },
  "language_info": {
   "codemirror_mode": {
    "name": "ipython",
    "version": 3
   },
   "file_extension": ".py",
   "mimetype": "text/x-python",
   "name": "python",
   "nbconvert_exporter": "python",
   "pygments_lexer": "ipython3",
   "version": "3.11.4"
  },
  "orig_nbformat": 4
 },
 "nbformat": 4,
 "nbformat_minor": 2
}
