{
 "cells": [
  {
   "cell_type": "markdown",
   "metadata": {},
   "source": [
    "# Lab 1"
   ]
  },
  {
   "cell_type": "markdown",
   "metadata": {},
   "source": [
    "## Lab 1 – Basic NumPy Operations\n"
   ]
  },
  {
   "cell_type": "code",
   "execution_count": 2,
   "metadata": {},
   "outputs": [],
   "source": [
    "# Importing the package\n",
    "\n",
    "import numpy as np"
   ]
  },
  {
   "cell_type": "markdown",
   "metadata": {},
   "source": [
    "#### 1.  Create an array that starts from the integer 1, ends at 20, incremented by 3."
   ]
  },
  {
   "cell_type": "code",
   "execution_count": 3,
   "metadata": {},
   "outputs": [
    {
     "name": "stdout",
     "output_type": "stream",
     "text": [
      "[ 1  4  7 10 13 16 19]\n"
     ]
    }
   ],
   "source": [
    "# create array from 1 to 20 with 3 intervals between them\n",
    "\n",
    "array1D = np.arange(1, 20, 3)\n",
    "print(array1D)"
   ]
  },
  {
   "cell_type": "markdown",
   "metadata": {},
   "source": [
    "### 2. Create a new array of shape 3 with random numbers between 0 and 1."
   ]
  },
  {
   "cell_type": "code",
   "execution_count": 62,
   "metadata": {},
   "outputs": [
    {
     "name": "stdout",
     "output_type": "stream",
     "text": [
      "[0.55224242 0.62902572 0.57929568 0.11494719 0.68380816 0.87608212\n",
      " 0.66400914 0.90230059 0.70464356 0.19455448]\n"
     ]
    },
    {
     "data": {
      "text/plain": [
       "(10,)"
      ]
     },
     "execution_count": 62,
     "metadata": {},
     "output_type": "execute_result"
    }
   ],
   "source": [
    "arr_rand = np.random.rand(10)\n",
    "# print(arr_rand)\n",
    "arr_rand.shape"
   ]
  },
  {
   "cell_type": "markdown",
   "metadata": {},
   "source": [
    "#### 3. Create a 2 D array `[[10,20,45], [30,12,16], [42,17,56]]` and perform the following operations: \n",
    "\t - Slice the 2D array to get the first two rows, slice the 2D array to get the last two rows."
   ]
  },
  {
   "cell_type": "code",
   "execution_count": 5,
   "metadata": {},
   "outputs": [
    {
     "name": "stdout",
     "output_type": "stream",
     "text": [
      "[[10 20 45]\n",
      " [30 12 16]]\n",
      "[[30 12 16]\n",
      " [42 17 56]]\n"
     ]
    }
   ],
   "source": [
    "array2D = np.array([[10,20,45],[30,12,16],[42,17,56]])\n",
    "# print(array2D)\n",
    "\n",
    "\n",
    "# to get first 2 row of the 2 dimension array\n",
    "\n",
    "array2d_first_2row = array2D[:2, :]\n",
    "print(array2d_first_2row)\n",
    "\n",
    "\n",
    "# to get last two row of the 2D array\n",
    "\n",
    "array2d_last_2row = array2D[-2:,:]\n",
    "print(array2d_last_2row)\n",
    "\n",
    "\n",
    "\n"
   ]
  },
  {
   "cell_type": "markdown",
   "metadata": {},
   "source": [
    "#### 4. Create two 2x2 arrays and demonstrate how you can stack the elements vertically, horizontally, and split the arrays into smaller arrays."
   ]
  },
  {
   "cell_type": "code",
   "execution_count": 70,
   "metadata": {},
   "outputs": [
    {
     "name": "stdout",
     "output_type": "stream",
     "text": [
      "Splited array [array([[32,  4]]), array([[19, 17]])]\n",
      "\n",
      "\n",
      "\n",
      "Horizontal stacked of matrix \n",
      " [[[32  4]\n",
      "  [19 17]]\n",
      "\n",
      " [[ 0 48]\n",
      "  [13  0]]] \n",
      "\n",
      "\n",
      " Vertical stack of matrix \n",
      " [[[32  4]\n",
      "  [ 0 48]]\n",
      "\n",
      " [[19 17]\n",
      "  [13  0]]]\n"
     ]
    }
   ],
   "source": [
    "array_1 = np.random.randint(50, size = (2,2))\n",
    "array_2 = np.random.randint(50, size = (2,2))\n",
    "\n",
    "# print(array_1,'\\n\\n',array_2)\n",
    "\n",
    "# Horizontally stack of matrix\n",
    "array_horizontal_stack = np.stack([array_1, array_2], axis=0)\n",
    "\n",
    "# Vertically stack of matrix\n",
    "array_vertical_stack = np.stack([array_1, array_2], axis=1)\n",
    "\n",
    "\n",
    "#split the array\n",
    "array_split = np.split(array_1, 2, axis=0)  \n",
    "print(\"Splited array\",array_split)\n",
    "\n",
    "print(\"\\n\\n\")\n",
    "\n",
    "print(\"Horizontal stacked of matrix \\n\", array_horizontal_stack,'\\n\\n\\n Vertical stack of matrix \\n',array_vertical_stack)\n",
    "\n"
   ]
  },
  {
   "cell_type": "markdown",
   "metadata": {},
   "source": [
    "## 5."
   ]
  },
  {
   "cell_type": "code",
   "execution_count": 12,
   "metadata": {},
   "outputs": [
    {
     "name": "stdout",
     "output_type": "stream",
     "text": [
      "[[5 7 2]\n",
      " [4 5 6]\n",
      " [7 4 2]] \n",
      " [[4 2]\n",
      " [6 2]\n",
      " [4 2]]\n",
      "[[70 28]\n",
      " [70 30]\n",
      " [60 26]]\n"
     ]
    }
   ],
   "source": [
    "#creating two matrices\n",
    "\n",
    "matrix_X = np.array([[5,7,2],[4,5,6],[7,4,2]])\n",
    "matrix_Y = np.array([[4,2],[6,2],[4,2]])\n",
    "\n",
    "print(matrix_X,'\\n', matrix_Y)\n",
    "\n",
    "\n",
    "\n",
    "\n",
    "\n",
    "# performing matrix multiplication \n",
    "matrix_mult = np.matmul(matrix_X,matrix_Y)\n",
    "\n",
    "#- Is it possible to multiply these matrices? \n",
    "\n",
    "# Yes matrix multiplication \"X.Y\"  is possible since first matrix column is equal to second nos of column\n",
    "\n",
    "print(matrix_mult)\n"
   ]
  },
  {
   "cell_type": "markdown",
   "metadata": {},
   "source": [
    "### - Demonstrate the case when it is not possible to.\n",
    "##### If first matrix's column is not equal to second matrix's row than matrix multiplication is not possible. Matrix multiplication of X and Y is possible but matrix muliplication of Y and X is not possible"
   ]
  },
  {
   "cell_type": "code",
   "execution_count": 13,
   "metadata": {},
   "outputs": [
    {
     "ename": "ValueError",
     "evalue": "matmul: Input operand 1 has a mismatch in its core dimension 0, with gufunc signature (n?,k),(k,m?)->(n?,m?) (size 3 is different from 2)",
     "output_type": "error",
     "traceback": [
      "\u001b[0;31m---------------------------------------------------------------------------\u001b[0m",
      "\u001b[0;31mValueError\u001b[0m                                Traceback (most recent call last)",
      "\u001b[1;32m/home/rohit/Desktop/Artificial_inteligence_lab/Rohit/students-submissions/8899399/lab1.ipynb Cell 15\u001b[0m line \u001b[0;36m1\n\u001b[0;32m----> <a href='vscode-notebook-cell:/home/rohit/Desktop/Artificial_inteligence_lab/Rohit/students-submissions/8899399/lab1.ipynb#X16sZmlsZQ%3D%3D?line=0'>1</a>\u001b[0m matrix_mult_Y\u001b[39m.\u001b[39mX \u001b[39m=\u001b[39m np\u001b[39m.\u001b[39;49mmatmul(matrix_Y,matrix_X)\n",
      "\u001b[0;31mValueError\u001b[0m: matmul: Input operand 1 has a mismatch in its core dimension 0, with gufunc signature (n?,k),(k,m?)->(n?,m?) (size 3 is different from 2)"
     ]
    }
   ],
   "source": [
    "matrix_mult_Y.X = np.matmul(matrix_Y,matrix_X)"
   ]
  },
  {
   "cell_type": "markdown",
   "metadata": {},
   "source": [
    " ## 6. "
   ]
  },
  {
   "cell_type": "code",
   "execution_count": 46,
   "metadata": {},
   "outputs": [
    {
     "name": "stdout",
     "output_type": "stream",
     "text": [
      "[ 2 -1 -8] [ 3  1 -2]\n",
      "Shape of x : (3,) Deimension of vectorx (3,) and size is : 3\n",
      "Reshape of x : [[ 2]\n",
      " [-1]\n",
      " [-8]]\n",
      "Reshape shape of vector y --> [[ 3]\n",
      " [ 1]\n",
      " [-2]] and dimension of reshaped Y is : 2\n"
     ]
    }
   ],
   "source": [
    "# Creating two arrays, `x = ([2, -1, -8]) y = ([3, 1, -2]),`\n",
    "\n",
    "vector_X = np.array([2,-1,-8])\n",
    "vector_y = np.array([3,1,-2])\n",
    "\n",
    "print(vector_X,vector_y)\n",
    "\n",
    "# Shape , number of dimension of vector x\n",
    "shape_X = vector_X.shape\n",
    "dimension_Y = vector_X.ndim\n",
    "size_x = vector_X.size\n",
    "print('Shape of x :', shape_X, 'Deimension of vectorx',dimension_X,\"and size is :\", size_x)\n",
    "\n",
    "# Reshape to (3,1)\n",
    "reshape_X = vector_X.reshape(3,1)\n",
    "print('Reshape of x :', reshape_X)\n",
    "\n",
    "# Reshape of y vector in (3,1)\n",
    "reshape_Y = vector_y.reshape(3,1)\n",
    "shape_Y = reshape_Y.shape\n",
    "dimension_Y = reshape_Y.ndim\n",
    "print('Reshape shape of vector y -->', reshape_Y, \"and dimension of reshaped Y is :\", dimension_Y)\n",
    "\n"
   ]
  },
  {
   "cell_type": "markdown",
   "metadata": {},
   "source": [
    "###  7."
   ]
  },
  {
   "cell_type": "code",
   "execution_count": 57,
   "metadata": {},
   "outputs": [
    {
     "name": "stdout",
     "output_type": "stream",
     "text": [
      "Sub =  [[-1 -1  1]\n",
      " [ 1 -8 -2]\n",
      " [-5  8 -5]] \n",
      " Addition =  [[ 1  9  1]\n",
      " [13  8  8]\n",
      " [13 10  7]] \n",
      " multiplication =  [[33 33 26]\n",
      " [34 38 18]\n",
      " [67 93 51]]\n",
      "[[0 4 1]\n",
      " [7 0 3]\n",
      " [4 9 1]]\n",
      "[[1 5 0]\n",
      " [6 8 5]\n",
      " [9 1 6]]\n",
      "[[-1 -1  1]\n",
      " [ 1 -8 -2]\n",
      " [-5  8 -5]]\n"
     ]
    }
   ],
   "source": [
    "# creating 3*3 matrices\n",
    "\n",
    "matrix_3_X = np.random.randint(10, size=(3, 3))\n",
    "matrix_3_y = np.random.randint(10,size=(3,3))\n",
    "\n",
    "# print(matrix_3_X)\n",
    "# print(matrix_3_y)\n",
    "\n",
    "\n",
    "# substraction of matrix\n",
    "sub_matrix = (matrix_3_X - matrix_3_y)\n",
    "\n",
    "# Addition of matrix\n",
    "add_matrix = (matrix_3_X + matrix_3_y)\n",
    "\n",
    "# Multiplication pf matrix\n",
    "mult_matrix = np.matmul(matrix_3_X, matrix_3_y)\n",
    "\n",
    "\n",
    "\n",
    "print (\"Sub = \", sub_matrix , '\\n Addition = ', add_matrix,'\\n multiplication = ', mult_matrix)\n",
    "\n",
    "\n",
    "\n",
    "\n"
   ]
  },
  {
   "cell_type": "code",
   "execution_count": null,
   "metadata": {},
   "outputs": [],
   "source": []
  }
 ],
 "metadata": {
  "kernelspec": {
   "display_name": "CSCN8010_classic_ml",
   "language": "python",
   "name": "cscn8010_classic_ml"
  },
  "language_info": {
   "codemirror_mode": {
    "name": "ipython",
    "version": 3
   },
   "file_extension": ".py",
   "mimetype": "text/x-python",
   "name": "python",
   "nbconvert_exporter": "python",
   "pygments_lexer": "ipython3",
   "version": "3.10.12"
  },
  "orig_nbformat": 4
 },
 "nbformat": 4,
 "nbformat_minor": 2
}
