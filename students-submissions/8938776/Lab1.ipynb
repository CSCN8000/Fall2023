{
 "cells": [
  {
   "cell_type": "markdown",
   "metadata": {},
   "source": [
    "# __Velon Murugathas__ LAB 1 Assignment\n",
    "\n",
    "## _Part A_"
   ]
  },
  {
   "cell_type": "markdown",
   "metadata": {},
   "source": [
    "### 1. Create an array that starts from the integer 1, ends at 20, incremented by 3."
   ]
  },
  {
   "cell_type": "code",
   "execution_count": 54,
   "metadata": {},
   "outputs": [
    {
     "name": "stdout",
     "output_type": "stream",
     "text": [
      "[ 1  4  7 10 13 16 19]\n"
     ]
    }
   ],
   "source": [
    "import numpy as np                  # Importing numpy library for computing\n",
    "\n",
    "array = np.arange(1, 20, 3)         # To create a regularly spaced array of values within a specified range\n",
    "\n",
    "print(array)"
   ]
  },
  {
   "cell_type": "markdown",
   "metadata": {},
   "source": [
    "### 2. Creating an Array of shape 3 with random numbers between 0 and 1."
   ]
  },
  {
   "cell_type": "code",
   "execution_count": 55,
   "metadata": {},
   "outputs": [
    {
     "name": "stdout",
     "output_type": "stream",
     "text": [
      "[0.56921043 0.3620946  0.35177012]\n"
     ]
    }
   ],
   "source": [
    "random_array = np.random.rand(3)    #   To generate random array of length 3 \n",
    "\n",
    "print(random_array)"
   ]
  },
  {
   "cell_type": "markdown",
   "metadata": {},
   "source": [
    "### 3. Creating a 2-D array and slicing the first and last rows"
   ]
  },
  {
   "cell_type": "code",
   "execution_count": 56,
   "metadata": {},
   "outputs": [
    {
     "name": "stdout",
     "output_type": "stream",
     "text": [
      "Initial 2D Array:\n",
      "[[10 20 45]\n",
      " [30 12 16]\n",
      " [42 17 56]]\n",
      "\n",
      "First Two Rows:\n",
      "[[10 20 45]\n",
      " [30 12 16]]\n",
      "\n",
      "Last Two Rows:\n",
      "[[30 12 16]\n",
      " [42 17 56]]\n"
     ]
    }
   ],
   "source": [
    "array_2d = np.array([[10, 20, 45], [30, 12, 16], [42, 17, 56]])\n",
    "\n",
    "first_two_rows = array_2d[:2, :]\n",
    "last_two_rows = array_2d[1:, :]\n",
    "\n",
    "print(\"Initial 2D Array:\")\n",
    "print(array_2d)\n",
    "\n",
    "print(\"\\nFirst Two Rows:\")\n",
    "print(first_two_rows)\n",
    "\n",
    "print(\"\\nLast Two Rows:\")\n",
    "print(last_two_rows)"
   ]
  },
  {
   "cell_type": "markdown",
   "metadata": {},
   "source": [
    "### 4. Creating two 2x2 arrays and then stack the elements vertically, horizontally, and split the arrays into smaller arrays"
   ]
  },
  {
   "cell_type": "code",
   "execution_count": 57,
   "metadata": {},
   "outputs": [
    {
     "name": "stdout",
     "output_type": "stream",
     "text": [
      "Array 1:\n",
      "[[1 2]\n",
      " [3 4]]\n",
      "\n",
      "Array 2:\n",
      "[[5 6]\n",
      " [7 8]]\n",
      "\n",
      "Vertically Stacked:\n",
      "[[1 2]\n",
      " [3 4]\n",
      " [5 6]\n",
      " [7 8]]\n",
      "\n",
      "Horizontally Stacked:\n",
      "[[1 2 5 6]\n",
      " [3 4 7 8]]\n",
      "\n",
      "Split Vertically:\n",
      "[[1 2]\n",
      " [3 4]]\n",
      "[[5 6]\n",
      " [7 8]]\n",
      "\n",
      "Split Horizontally:\n",
      "[[1 2]\n",
      " [3 4]]\n",
      "[[5 6]\n",
      " [7 8]]\n"
     ]
    }
   ],
   "source": [
    "array1 = np.array([[1, 2], [3, 4]])\n",
    "array2 = np.array([[5, 6], [7, 8]])\n",
    "\n",
    "vertical_stack = np.vstack((array1, array2))            # To vertically stack arrays\n",
    "horizontal_stack = np.hstack((array1, array2))          # To horizontally stack arrays\n",
    "\n",
    "split_vertical = np.vsplit(vertical_stack, 2)           # For splitting an array vertically into multiple sub-arrays.\n",
    "split_horizontal = np.hsplit(horizontal_stack, 2)       # For splitting an array horizontally into multiple sub-arrays.\n",
    "\n",
    "print(\"Array 1:\")\n",
    "print(array1)\n",
    "print(\"\\nArray 2:\")\n",
    "print(array2)\n",
    "\n",
    "print(\"\\nVertically Stacked:\")\n",
    "print(vertical_stack)\n",
    "\n",
    "print(\"\\nHorizontally Stacked:\")\n",
    "print(horizontal_stack)\n",
    "\n",
    "print(\"\\nSplit Vertically:\")\n",
    "for arr in split_vertical:\n",
    "    print(arr)\n",
    "\n",
    "print(\"\\nSplit Horizontally:\")\n",
    "for arr in split_horizontal:\n",
    "    print(arr)"
   ]
  },
  {
   "cell_type": "markdown",
   "metadata": {},
   "source": [
    "#### 5. Reasons why the multiplication of matrices is possible\n",
    "* Yes, it is possible to multiply both matrices.\n",
    "* The size of matrix X is 3x3 and Y is 3x2.\n",
    "* Since the number colums of the first matrix (X) and the number of rows of the second matrix (Y) are equal the multiplication is possible.\n",
    "* The result matrix would be a 3x2 matrix."
   ]
  },
  {
   "cell_type": "code",
   "execution_count": 58,
   "metadata": {},
   "outputs": [
    {
     "name": "stdout",
     "output_type": "stream",
     "text": [
      "X:\n",
      "[[5 7 2]\n",
      " [4 5 6]\n",
      " [7 4 2]]\n",
      "\n",
      "Y:\n",
      "[[4 2]\n",
      " [6 2]\n",
      " [4 2]]\n",
      "\n",
      "Result of matrix multiplication (X * Y):\n",
      "[[70 28]\n",
      " [70 30]\n",
      " [60 26]]\n"
     ]
    }
   ],
   "source": [
    "X = np.array([[5, 7, 2], [4, 5, 6], [7, 4, 2]])\n",
    "Y = np.array([[4, 2], [6, 2], [4, 2]])\n",
    "\n",
    "result = np.dot(X, Y)                       # Compute the dot product of two arrays (matrices) or inner product of vectors.\n",
    "\n",
    "print(\"X:\")\n",
    "print(X)\n",
    "\n",
    "print(\"\\nY:\")\n",
    "print(Y)\n",
    "\n",
    "print(\"\\nResult of matrix multiplication (X * Y):\")\n",
    "print(result)"
   ]
  },
  {
   "cell_type": "markdown",
   "metadata": {},
   "source": [
    "#### Scenario when matrix multiplication is not possible\n",
    "\n",
    "<p>If the number colums of the first matrix and the number of rows of the second matrix are different then the matrix multiplication is not possible. Consider the scenario below,</p>\n",
    "\n",
    "<p>A = np.array([[5, 7, 2], [4, 5, 6], [7, 4, 2]])</p>\n",
    "<p>B = np.array([[4, 2, 3], [6, 2, 1]])</p>\n",
    "<p>result = np.dot(A, B)</p>\n",
    "\n",
    "* When this code is executed it will throw this error \"ValueError: shapes (3,3) and (2,3) not aligned: 3 (dim 1) != 2 (dim 0)\""
   ]
  },
  {
   "cell_type": "markdown",
   "metadata": {},
   "source": [
    "#### 6. Finding shapes and Reshaping the arrays"
   ]
  },
  {
   "cell_type": "code",
   "execution_count": 59,
   "metadata": {},
   "outputs": [
    {
     "name": "stdout",
     "output_type": "stream",
     "text": [
      "Vector x:\n",
      "[ 2 -1 -8]\n",
      "Shape of x: (3,)\n",
      "Number of dimensions of x: 1\n",
      "\n",
      "Reshaped x (matrix of size (3,1)):\n",
      "[[ 2]\n",
      " [-1]\n",
      " [-8]]\n",
      "\n",
      "Reshaped y (matrix of size (3,1)):\n",
      "[[ 3]\n",
      " [ 1]\n",
      " [-2]]\n",
      "Number of dimensions of y after reshaping: 2\n"
     ]
    }
   ],
   "source": [
    "x = np.array([2, -1, -8])\n",
    "y = np.array([3, 1, -2])\n",
    "\n",
    "x_shape = x.shape                   # To get the dimensions of the array\n",
    "x_dimensions = x.ndim\n",
    "\n",
    "x_reshaped = x.reshape(3, 1)        # Reshaping the array x into a 3x1 matrix\n",
    "\n",
    "y_reshaped = y.reshape(3, 1)\n",
    "y_dimensions_after_reshape = y_reshaped.ndim\n",
    "\n",
    "print(\"Vector x:\")\n",
    "print(x)\n",
    "print(\"Shape of x:\", x_shape)\n",
    "print(\"Number of dimensions of x:\", x_dimensions)\n",
    "\n",
    "print(\"\\nReshaped x (matrix of size (3,1)):\")\n",
    "print(x_reshaped)\n",
    "\n",
    "print(\"\\nReshaped y (matrix of size (3,1)):\")\n",
    "print(y_reshaped)\n",
    "print(\"Number of dimensions of y after reshaping:\", y_dimensions_after_reshape)"
   ]
  },
  {
   "cell_type": "markdown",
   "metadata": {},
   "source": [
    "#### 7. Broadcasting\n",
    "\n",
    "<p>Broadcasting in NumPy allows arrays with different shapes to be combined and used in operations together. It's like a set of rules that NumPy follows to make arrays with mismatched shapes. compatible for element-wise operations.</p>\n",
    "\n",
    "* In the code below a 3x3 matrix has been created and named as matrix.\n",
    "* Then subtract 2 from the entire matrix and multiply the entire matrix by 3 using broadcasting.\n",
    "* Broadcasting automatically applies the operation to each element of the matrix, in this case, subtracting 2 and multiplying by 3 element-wise.\n",
    "* Then the matrix is shown after subtracting 2, and the matrix after multiplication by 3, all achieved through broadcasting.\n",
    "\n",
    "These 2 examples below shows NumPy broadcasting, which allows efficient element-wise operations between arrays and scalars."
   ]
  },
  {
   "cell_type": "code",
   "execution_count": 60,
   "metadata": {},
   "outputs": [
    {
     "name": "stdout",
     "output_type": "stream",
     "text": [
      "Original Matrix:\n",
      "[[1 2 3]\n",
      " [4 5 6]\n",
      " [7 8 9]]\n",
      "\n",
      "Subtract 2 using Broadcasting:\n",
      "[[-1  0  1]\n",
      " [ 2  3  4]\n",
      " [ 5  6  7]]\n",
      "\n",
      "Multiply by 3 using Broadcasting:\n",
      "[[ 3  6  9]\n",
      " [12 15 18]\n",
      " [21 24 27]]\n"
     ]
    }
   ],
   "source": [
    "matrix = np.array([[1, 2, 3],\n",
    "                   [4, 5, 6],\n",
    "                   [7, 8, 9]])\n",
    "\n",
    "result_subtract = matrix - 2            # Each element in result_subtract is obtained by subtracting 2 from the corresponding element in the matrix\n",
    "\n",
    "result_multiply = matrix * 3            # Each element in result_subtract is obtained by multiplying 3 from the corresponding element in the matrix\n",
    "\n",
    "print(\"Original Matrix:\")\n",
    "print(matrix)\n",
    "\n",
    "print(\"\\nSubtract 2 using Broadcasting:\")\n",
    "print(result_subtract)\n",
    "\n",
    "print(\"\\nMultiply by 3 using Broadcasting:\")\n",
    "print(result_multiply)"
   ]
  },
  {
   "cell_type": "markdown",
   "metadata": {},
   "source": [
    "## _Part B_"
   ]
  },
  {
   "cell_type": "markdown",
   "metadata": {},
   "source": [
    "### Part B.1\n",
    "\n",
    "<p>4x +  y - 2z = 10</p>\n",
    "<p>2x - 3y + 2z = -4</p>\n",
    "<p> x + 2y + 3z =  6</p>\n",
    "\n",
    "\n",
    "\n",
    "A = |  4   1  -2 |\n",
    "    |  2  -3   2 |\n",
    "    |  1   2   3 |\n",
    "\n",
    "x = | x |\n",
    "    | y |\n",
    "    | z |\n",
    "\n",
    "B = | 10 |\n",
    "    | -4 |\n",
    "    |  6 |\n",
    "\n",
    "#### Justification\n",
    "\n",
    "<p>If the determinant of the coefficient matrix is not zero, there is a unique solution to the system of equations; but if the determinant is zero, the system is singular, and solutions may either not exist or be infinite.</p>"
   ]
  },
  {
   "cell_type": "code",
   "execution_count": 61,
   "metadata": {},
   "outputs": [
    {
     "name": "stdout",
     "output_type": "stream",
     "text": [
      "Determinant of A is  -70.00000000000003\n",
      "The system is non-singular, and a unique solution exists.\n",
      "Solution (x, y, z): [ 1.8  2.4 -0.2]\n"
     ]
    }
   ],
   "source": [
    "A = np.array([[4, 1, -2],\n",
    "              [2, -3, 2],\n",
    "              [1, 2, 3]])\n",
    "\n",
    "det_A = np.linalg.det(A)\n",
    "\n",
    "print(\"Determinant of A is \" , det_A)\n",
    "\n",
    "if det_A != 0:\n",
    "    print(\"The system is non-singular, and a unique solution exists.\")\n",
    "    solution = np.linalg.solve(A, np.array([10, -4, 6]))\n",
    "    print(\"Solution (x, y, z):\", solution)\n",
    "else:\n",
    "    print(\"The system is singular\")\n"
   ]
  },
  {
   "cell_type": "markdown",
   "metadata": {},
   "source": [
    "### Part B.2\n",
    "\n",
    "2x - y + 3z + 4w = 10\n",
    "4x - 2y + 6z + 8w = 20\n",
    "3x + y - 2z + 2w = 3\n",
    "  x + 3y - 4z +   w = -1\n",
    "\n",
    "\n",
    "A = |  2  -1   3   4 |\n",
    "    |  4  -2   6   8 |\n",
    "    |  3   1  -2   2 |\n",
    "    |  1   3  -4   1 |\n",
    "\n",
    "x = | x |\n",
    "    | y |\n",
    "    | z |\n",
    "    | w |\n",
    "\n",
    "B = | 10 |\n",
    "    | 20 |\n",
    "    |  3 |\n",
    "    | -1 |\n",
    "\n",
    "#### Justification\n",
    "\n",
    "<p>If the determinant of the coefficient matrix is not zero, there is a unique solution to the system of equations; but if the determinant is zero, the system is singular, and solutions may either not exist or be infinite.</p>"
   ]
  },
  {
   "cell_type": "code",
   "execution_count": 62,
   "metadata": {},
   "outputs": [
    {
     "name": "stdout",
     "output_type": "stream",
     "text": [
      "Determinant of A is  0.0\n",
      "The system is singular\n"
     ]
    }
   ],
   "source": [
    "A = np.array([[2, -1, 3, 4],\n",
    "              [4, -2, 6, 8],\n",
    "              [3, 1, -2, 2],\n",
    "              [1, 3, -4, 1]])\n",
    "\n",
    "det_A = np.linalg.det(A)\n",
    "\n",
    "print(\"Determinant of A is \" , det_A)\n",
    "\n",
    "if det_A != 0:\n",
    "    print(\"The system is non-singular, and a unique solution exists.\")\n",
    "    solution = np.linalg.solve(A, np.array([10, 20, 3, -1]))\n",
    "    print(\"Solution (x, y, z, w):\", solution)\n",
    "else:\n",
    "    print(\"The system is singular\")"
   ]
  }
 ],
 "metadata": {
  "kernelspec": {
   "display_name": "Python 3",
   "language": "python",
   "name": "python3"
  },
  "language_info": {
   "codemirror_mode": {
    "name": "ipython",
    "version": 3
   },
   "file_extension": ".py",
   "mimetype": "text/x-python",
   "name": "python",
   "nbconvert_exporter": "python",
   "pygments_lexer": "ipython3",
   "version": "3.11.5"
  },
  "orig_nbformat": 4
 },
 "nbformat": 4,
 "nbformat_minor": 2
}
