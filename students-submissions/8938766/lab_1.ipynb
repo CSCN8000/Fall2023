{
 "cells": [
  {
   "cell_type": "markdown",
   "metadata": {},
   "source": [
    "<h2><center>Lab 1 – Basic NumPy Operations</center><h2>\n",
    "<h4><center>Submission by Chitrank Dave (8938766)</center></h4>"
   ]
  },
  {
   "cell_type": "markdown",
   "metadata": {},
   "source": [
    "> ### **Part A- Create a Notebook to demonstrate NumPy Operations.**"
   ]
  },
  {
   "cell_type": "code",
   "execution_count": 19,
   "metadata": {},
   "outputs": [],
   "source": [
    "import numpy as np"
   ]
  },
  {
   "cell_type": "markdown",
   "metadata": {},
   "source": [
    "---\n",
    "#### 1. Create an array that starts from the integer 1, ends at 20, incremented by 3."
   ]
  },
  {
   "cell_type": "code",
   "execution_count": 20,
   "metadata": {},
   "outputs": [
    {
     "name": "stdout",
     "output_type": "stream",
     "text": [
      "Result:  [ 1  4  7 10 13 16 19]\n"
     ]
    }
   ],
   "source": [
    "array = np.arange(1, 20, 3)\n",
    "print(\"Result: \", array)"
   ]
  },
  {
   "cell_type": "markdown",
   "metadata": {},
   "source": [
    "---\n",
    "#### 2. Create a new array of shape 3 with random numbers between 0 and 1."
   ]
  },
  {
   "cell_type": "code",
   "execution_count": 21,
   "metadata": {},
   "outputs": [
    {
     "name": "stdout",
     "output_type": "stream",
     "text": [
      "[0.88523193 0.4809034  0.16741977]\n"
     ]
    }
   ],
   "source": [
    "print(np.random.rand(3))"
   ]
  },
  {
   "cell_type": "markdown",
   "metadata": {},
   "source": [
    "--- \n",
    "#### 3. Create a 2 D array [[10,20,45], [30,12,16], [42,17,56]] and perform the following operations:\n",
    "* Slice the 2D array to get the first two rows.\n",
    "* Slice the 2D array to get the last two rows."
   ]
  },
  {
   "cell_type": "code",
   "execution_count": 22,
   "metadata": {},
   "outputs": [
    {
     "name": "stdout",
     "output_type": "stream",
     "text": [
      "Array: \n",
      " [[10 20 45]\n",
      " [30 12 16]\n",
      " [42 17 56]] \n",
      "\n",
      "\n",
      "First 2 rows: \n",
      " [[10 20 45]\n",
      " [30 12 16]]\n",
      "\n",
      "\n",
      "Last 2 rows: \n",
      " [[30 12 16]\n",
      " [42 17 56]]\n"
     ]
    }
   ],
   "source": [
    "arr = [10, 20, 45, 30, 12, 16, 42, 17, 56]\n",
    "arr_2d = np.array(arr).reshape(3, 3)\n",
    "\n",
    "print(\"Array: \\n\", arr_2d, \"\\n\\n\")\n",
    "\n",
    "print(\"First 2 rows: \\n\", arr_2d[:2])\n",
    "\n",
    "print(\"\\n\\nLast 2 rows: \\n\", arr_2d[-2:]) "
   ]
  },
  {
   "cell_type": "markdown",
   "metadata": {},
   "source": [
    "---\n",
    "#### 4. Create two 2x2 arrays and demonstrate how you can stack the elements vertically, horizontally, and split the arrays into smaller arrays."
   ]
  },
  {
   "cell_type": "code",
   "execution_count": 23,
   "metadata": {},
   "outputs": [
    {
     "name": "stdout",
     "output_type": "stream",
     "text": [
      "Array 1: \n",
      " [[1 2]\n",
      " [3 4]]\n",
      "\n",
      "Array 2: \n",
      " [[5 6]\n",
      " [7 8]]\n",
      "\n",
      "\n",
      "Vertically Stacked: \n",
      " [[1 2]\n",
      " [3 4]\n",
      " [5 6]\n",
      " [7 8]]\n",
      "\n",
      "\n",
      "Horizontally Stacked: \n",
      " [[1 2 5 6]\n",
      " [3 4 7 8]]\n",
      "\n",
      "\n",
      "Array1 Split: \n",
      " [array([[1, 2]]), array([[3, 4]])]\n",
      "\n",
      "Array2 Split: \n",
      " [array([[5, 6]]), array([[7, 8]])]\n"
     ]
    }
   ],
   "source": [
    "arr1 = np.array([[1, 2], [3, 4]])\n",
    "arr2 = np.array([[5, 6], [7, 8]])\n",
    "\n",
    "print(\"Array 1: \\n\", arr1)\n",
    "print(\"\\nArray 2: \\n\", arr2)\n",
    "\n",
    "print(\"\\n\\nVertically Stacked: \\n\", np.vstack((arr1, arr2)))\n",
    "print(\"\\n\\nHorizontally Stacked: \\n\", np.hstack((arr1, arr2)))\n",
    "\n",
    "print(\"\\n\\nArray1 Split: \\n\", np.array_split(arr1, 2))\n",
    "print(\"\\nArray2 Split: \\n\", np.array_split(arr2, 2))\n",
    "\n"
   ]
  },
  {
   "cell_type": "markdown",
   "metadata": {},
   "source": [
    "--- \n",
    "#### 5. Create two matrices X= ([[5, 7, 2], [4, 5, 6], [7, 4 ,2]]) Y= ([[4, 2], [6, 2], [4, 2]])\n",
    "* Is it possible to multiply these matrices?\n",
    "    - **Yes, it is possible to multiply the provided matrices since this dimensions of the matrix 1 is 3x3 and for matrix 2 is 2x3, and the requirement of matrices multiplication is that the number of columns in the first matrix equal the number of rows in the second matrix. The resulting product matrix will have the dimension of 3x2.**\n",
    "* Demonstrate the case when it is not possible to.\n",
    "    - **As mentioned above, matrix multiplication is only possible when the number of columns in the first matrix is equal to the number of rows in the second matrix. If this condition is not met, you cannot perform matrix multiplication. So, if we try to multiply provided second matrix with first matrix, then we can see the error thrown by the Python interpreter. (see the below outcome)**"
   ]
  },
  {
   "cell_type": "code",
   "execution_count": 24,
   "metadata": {},
   "outputs": [
    {
     "name": "stdout",
     "output_type": "stream",
     "text": [
      "Matrix1: \n",
      " [[5, 7, 2], [4, 5, 6], [7, 4, 2]]\n",
      "\n",
      "Matrix2: \n",
      " [[4, 2], [6, 2], [4, 2]]\n",
      "\n",
      "\n",
      "Product of Matrix1 with Matrix2: \n",
      " [[70 28]\n",
      " [70 30]\n",
      " [60 26]]\n",
      "Matrices shapes are not aligned!!!\n"
     ]
    }
   ],
   "source": [
    "m1 = [[5, 7, 2], [4, 5, 6], [7, 4, 2]]\n",
    "m2 = [[4, 2], [6, 2], [4, 2]]\n",
    "\n",
    "print(\"Matrix1: \\n\", m1)\n",
    "print(\"\\nMatrix2: \\n\", m2)\n",
    "\n",
    "print(\"\\n\\nProduct of Matrix1 with Matrix2: \\n\", np.dot(m1, m2))\n",
    "try:\n",
    "    print(\"\\n\\nProduct of Matrix2 with Matrix1: \\n\", np.dot(m2, m1))\n",
    "except:\n",
    "    print(\"Matrices shapes are not aligned!!!\")\n"
   ]
  },
  {
   "cell_type": "markdown",
   "metadata": {},
   "source": [
    "---\n",
    "#### 6. Create two arrays, x = ([2, -1, -8]) y = ([3, 1, -2])\n",
    "* Find the Shape, Number of dimensions of vector x.\n",
    "* Reshape the vector x to a matrix of size (3,1) and determine the number of dimensions after reshaping y to a matrix of (3,1)."
   ]
  },
  {
   "cell_type": "code",
   "execution_count": 25,
   "metadata": {},
   "outputs": [
    {
     "name": "stdout",
     "output_type": "stream",
     "text": [
      "Array x: \n",
      " [ 2 -1 -8]\n",
      "\n",
      "Array y: \n",
      " [ 3  1 -2]\n",
      "\n",
      "\n",
      "Shape of x:  (3,)\n",
      "Number of dimensions of x: 1\n"
     ]
    }
   ],
   "source": [
    "x = np.array([2, -1, -8])\n",
    "y = np.array([3, 1, -2])\n",
    "\n",
    "print(\"Array x: \\n\", x)\n",
    "print(\"\\nArray y: \\n\", y)\n",
    "\n",
    "print(\"\\n\\nShape of x: \", x.shape)\n",
    "print(\"Number of dimensions of x:\", x.ndim)"
   ]
  },
  {
   "cell_type": "code",
   "execution_count": 26,
   "metadata": {},
   "outputs": [
    {
     "name": "stdout",
     "output_type": "stream",
     "text": [
      "Vector x reshaped result: \n",
      " [[ 2]\n",
      " [-1]\n",
      " [-8]]\n",
      "\n",
      "Vector y reshaped result: \n",
      " [[ 3]\n",
      " [ 1]\n",
      " [-2]]\n",
      "\n",
      "Number of dimensions of vector y after reshaping to (3, 1):  2\n"
     ]
    }
   ],
   "source": [
    "x_reshaped = x.reshape((3, 1))\n",
    "print(\"Vector x reshaped result: \\n\", x_reshaped)\n",
    "\n",
    "y_reshaped = y.reshape((3, 1))\n",
    "print(\"\\nVector y reshaped result: \\n\", y_reshaped)\n",
    "print(\"\\nNumber of dimensions of vector y after reshaping to (3, 1): \", y_reshaped.ndim)"
   ]
  },
  {
   "cell_type": "markdown",
   "metadata": {},
   "source": [
    "---\n",
    "#### 7. How does broadcasting work? Demonstrate the subtraction, multiplication by considering a 3 x 3 matrix.\n",
    "* **Broadcasting expands the smaller array to take the shape of the larger array.**"
   ]
  },
  {
   "cell_type": "code",
   "execution_count": 27,
   "metadata": {},
   "outputs": [
    {
     "name": "stdout",
     "output_type": "stream",
     "text": [
      "[[-3 -2 -1]\n",
      " [ 0  1  2]\n",
      " [ 3  4  5]]\n",
      "[[ 3  6  9]\n",
      " [12 15 18]\n",
      " [21 24 27]]\n",
      "\n",
      "\n",
      " Subtraction result of matrix b from a: \n",
      " [[-9 -9 -9]\n",
      " [-6 -6 -6]\n",
      " [-3 -3 -3]]\n",
      "\n",
      "\n",
      "Multiplication result of matrix a from b: \n",
      " [[ 10  22  36]\n",
      " [ 40  55  72]\n",
      " [ 70  88 108]]\n"
     ]
    }
   ],
   "source": [
    "a = np.array([[1, 2, 3], [4, 5, 6], [7, 8, 9]])\n",
    "b = np.array([10, 11, 12])\n",
    "\n",
    "print(a - 4)\n",
    "\n",
    "print(a * 3)\n",
    "\n",
    "print(\"\\n\\n Subtraction result of matrix b from a: \\n\", np.subtract(a, b))\n",
    "print(\"\\n\\nMultiplication result of matrix a from b: \\n\", np.multiply(a, b))"
   ]
  },
  {
   "cell_type": "markdown",
   "metadata": {},
   "source": [
    "---\n",
    "---"
   ]
  },
  {
   "cell_type": "markdown",
   "metadata": {},
   "source": [
    "> ### **Part B- Linear Equations**"
   ]
  },
  {
   "cell_type": "markdown",
   "metadata": {},
   "source": [
    "Determine the singularity of the system of equations, comment on the expected solution of the system. Solve the system of equations if possible. Justify the reason why you believe the system can or cannot be solved using numpy functions.\n",
    "\n",
    "\n",
    "#### Part B.1\n",
    "* \n",
    "    4x + y - 2z =  <br>\n",
    "    2x - 3y + 2z = -4 <br>\n",
    "    x + 2y + 3z = 6\n"
   ]
  },
  {
   "cell_type": "code",
   "execution_count": 28,
   "metadata": {},
   "outputs": [
    {
     "name": "stdout",
     "output_type": "stream",
     "text": [
      "Determinant:  -70.00000000000003\n",
      "The system of equations is not singular.\n",
      "The solution to the system of equations is:  [ 1.8  2.4 -0.2]\n"
     ]
    }
   ],
   "source": [
    "def solveSystem(systemEqs, dependantEq):\n",
    "  determination = np.linalg.det(systemEqs)\n",
    "  print(\"Determinant: \", determination)\n",
    "  if determination == 0:\n",
    "    print(\"The system of equations is singular, hence it is\")\n",
    "  else:\n",
    "    print(\"The system of equations is not singular.\")\n",
    "    print(\"The solution to the system of equations is: \", np.linalg.solve(systemEqs, dependantEq))\n",
    "\n",
    "eqSystem = np.array([[4, 1, -2], [2, -3, 2], [1, 2, 3]])\n",
    "\n",
    "solveSystem(eqSystem, np.array([10, -4, 6]))"
   ]
  },
  {
   "cell_type": "markdown",
   "metadata": {},
   "source": [
    "***Since the determinant of the coefficient matrix is not zero, the system of equations is not singular. This means that the system has a unique solution.***"
   ]
  },
  {
   "cell_type": "markdown",
   "metadata": {},
   "source": [
    "---\n",
    "#### Part B.2\n",
    "*   2x - y + 3z + 4w = 10 <br>\n",
    "    4x - 2y + 6z + 8w = 20 <br>\n",
    "    3x + y - 2z + 2w = 3 <br>\n",
    "    x + 3y - 4z + w = -1 <br>"
   ]
  },
  {
   "cell_type": "code",
   "execution_count": 29,
   "metadata": {},
   "outputs": [
    {
     "name": "stdout",
     "output_type": "stream",
     "text": [
      "Determinant:  0.0\n",
      "The system of equations is singular, hence it is\n"
     ]
    }
   ],
   "source": [
    "eqSystem2 = np.array([[2, -1, 3, 4], [4, -2, 6, 8], [3, 1, -2, 2], [1, 3, -4, 1]])\n",
    "\n",
    "solveSystem(eqSystem2, np.array([10, 20, 3, 2]))"
   ]
  },
  {
   "cell_type": "markdown",
   "metadata": {},
   "source": [
    "***Since the determinant of the coefficient matrix is zero, the system of equations is singular. This means that the system is unsolvable.***"
   ]
  }
 ],
 "metadata": {
  "kernelspec": {
   "display_name": "CSCN8010_classic_ml",
   "language": "python",
   "name": "cscn8010_classic_ml"
  },
  "language_info": {
   "codemirror_mode": {
    "name": "ipython",
    "version": 3
   },
   "file_extension": ".py",
   "mimetype": "text/x-python",
   "name": "python",
   "nbconvert_exporter": "python",
   "pygments_lexer": "ipython3",
   "version": "3.11.5"
  },
  "orig_nbformat": 4
 },
 "nbformat": 4,
 "nbformat_minor": 2
}
