{
 "cells": [
  {
   "cell_type": "markdown",
   "metadata": {},
   "source": [
    "Student Name: Parthasarathy Rajendiran <br>\n",
    "Student ID: 8883828"
   ]
  },
  {
   "cell_type": "markdown",
   "metadata": {},
   "source": [
    "# Lab 1 - Basic NumPy Operations"
   ]
  },
  {
   "cell_type": "code",
   "execution_count": 20,
   "metadata": {},
   "outputs": [],
   "source": [
    "import numpy as np"
   ]
  },
  {
   "cell_type": "markdown",
   "metadata": {},
   "source": [
    "## Part A - NumPy Operations"
   ]
  },
  {
   "cell_type": "markdown",
   "metadata": {},
   "source": [
    "<font color = '#9C0006'> 1. Create an array that starts from the integer 1, ends at 20, incremented by 3. </font>"
   ]
  },
  {
   "cell_type": "code",
   "execution_count": 3,
   "metadata": {},
   "outputs": [
    {
     "data": {
      "text/plain": [
       "array([ 1,  4,  7, 10, 13, 16, 19])"
      ]
     },
     "execution_count": 3,
     "metadata": {},
     "output_type": "execute_result"
    }
   ],
   "source": [
    "#1\n",
    "array1 = np.arange(1, 20, 3)\n",
    "array1"
   ]
  },
  {
   "cell_type": "markdown",
   "metadata": {},
   "source": [
    "<font color = '#9C0006'> 2. Create a new array of shape 3 with random numbers between 0 and 1. </font>"
   ]
  },
  {
   "cell_type": "code",
   "execution_count": 4,
   "metadata": {},
   "outputs": [
    {
     "name": "stdout",
     "output_type": "stream",
     "text": [
      "[0.61862085 0.73856002 0.22938108]\n",
      "3\n"
     ]
    }
   ],
   "source": [
    "#2\n",
    "array2 = np.random.rand(3)\n",
    "print(array2)\n",
    "print(array2.size)"
   ]
  },
  {
   "cell_type": "markdown",
   "metadata": {},
   "source": [
    "<font color = '#9C0006'> 3. Create a 2 D array `[[10,20,45], [30,12,16], [42,17,56]]` and perform the following operations: \n",
    "\t - Slice the 2D array to get the first two rows, slice the 2D array to get the last two rows. </font>"
   ]
  },
  {
   "cell_type": "code",
   "execution_count": 5,
   "metadata": {},
   "outputs": [
    {
     "name": "stdout",
     "output_type": "stream",
     "text": [
      "The 2D array\n",
      " [[10 20 45]\n",
      " [30 12 16]\n",
      " [42 17 56]]\n",
      "First 2 rows\n",
      "[[10 20 45]\n",
      " [30 12 16]]\n",
      "Last 2 rows\n",
      "[[30 12 16]\n",
      " [42 17 56]]\n"
     ]
    }
   ],
   "source": [
    "#3\n",
    "array3 = np.array([[10,20,45], [30,12,16], [42,17,56]])\n",
    "print('The 2D array\\n', array3)\n",
    "print('First 2 rows')\n",
    "print(array3[:2,])\n",
    "print('Last 2 rows')\n",
    "print(array3[-2:,])"
   ]
  },
  {
   "cell_type": "markdown",
   "metadata": {},
   "source": [
    "<font color = '#9C0006'> 4. Create two 2x2 arrays and demonstrate how you can stack the elements vertically, horizontally, and split the arrays into smaller arrays. </font>"
   ]
  },
  {
   "cell_type": "code",
   "execution_count": 17,
   "metadata": {},
   "outputs": [
    {
     "name": "stdout",
     "output_type": "stream",
     "text": [
      "2x2 Array\n",
      "[[0 0]\n",
      " [7 6]]\n",
      "\n",
      "Elements stacked horizontally to get 3x2 Array\n",
      "[[ 0  0]\n",
      " [ 7  6]\n",
      " [10 20]]\n",
      "\n",
      "Elements stacked vertically\n",
      "[[ 0  0 10]\n",
      " [ 7  6 30]\n",
      " [10 20 42]]\n",
      "\n",
      "The array splitted to smaller subarrays\n",
      "[array([[ 0,  0, 10]]), array([[ 7,  6, 30]]), array([[10, 20, 42]])]\n"
     ]
    }
   ],
   "source": [
    "#4\n",
    "array4 = (np.random.rand(4) * 10).astype(int).reshape(2, 2)\n",
    "print('2x2 Array')\n",
    "print(array4)\n",
    "\n",
    "array4 = np.vstack((array4, array3[:1,:2]))\n",
    "print('\\nElements stacked horizontally to get 3x2 Array')\n",
    "print(array4)\n",
    "\n",
    "array4 = np.hstack((array4, array3[:,:1]))\n",
    "print('\\nElements stacked vertically')\n",
    "print(array4)\n",
    "\n",
    "print('\\nThe array splitted to smaller subarrays')\n",
    "print(np.array_split(array4, 3))"
   ]
  },
  {
   "cell_type": "markdown",
   "metadata": {},
   "source": [
    "<font color = '#9C0006'><pre> 5. Create two matrices `X= ([[5, 7, 2], [4, 5, 6], [7, 4 ,2]]) Y= ([[4, 2], [6, 2], [4, 2]]),` \n",
    "\t - Is it possible to multiply these matrices? \n",
    "\t - Demonstrate the case when it is not possible to. </pre></font>"
   ]
  },
  {
   "cell_type": "code",
   "execution_count": 22,
   "metadata": {},
   "outputs": [
    {
     "name": "stdout",
     "output_type": "stream",
     "text": [
      "The shape of X is (3, 3) and Y is (3, 2)\n"
     ]
    }
   ],
   "source": [
    "#5\n",
    "X= np.array([[5, 7, 2], [4, 5, 6], [7, 4 ,2]]) \n",
    "Y= np.array([[4, 2], [6, 2], [4, 2]])\n",
    "\n",
    "print(f'The shape of X is {X.shape} and Y is {Y.shape}')"
   ]
  },
  {
   "cell_type": "markdown",
   "metadata": {},
   "source": [
    "Since the number of columns of X is equal to number of rows of Y, it is possible to multiply X and Y"
   ]
  },
  {
   "cell_type": "markdown",
   "metadata": {},
   "source": [
    "On the otherhand, Y * X is not possible as the number of columns of Y is not equal to number of rows of X"
   ]
  },
  {
   "cell_type": "code",
   "execution_count": 33,
   "metadata": {},
   "outputs": [
    {
     "name": "stdout",
     "output_type": "stream",
     "text": [
      "[[5 7 2]\n",
      " [4 5 6]\n",
      " [7 4 2]] * \n",
      "[[4 2]\n",
      " [6 2]\n",
      " [4 2]]\n",
      "= \n",
      " [[70 28]\n",
      " [70 30]\n",
      " [60 26]]\n",
      "--------------------------------------------------\n",
      "[[4 2]\n",
      " [6 2]\n",
      " [4 2]] * \n",
      "[[5 7 2]\n",
      " [4 5 6]\n",
      " [7 4 2]]\n",
      "is not possible\n",
      "because of the exception \n",
      "matmul: Input operand 1 has a mismatch in its core dimension 0, with gufunc signature (n?,k),(k,m?)->(n?,m?) (size 3 is different from 2)\n",
      "--------------------------------------------------\n"
     ]
    }
   ],
   "source": [
    "fmt = '{} * \\n{}\\n'\n",
    "for matrix_tuple in [(X, Y), (Y, X)]:\n",
    "    try:\n",
    "        result = np.matmul(*matrix_tuple)\n",
    "        print(fmt.format(*matrix_tuple) + '= \\n', result)\n",
    "    except ValueError as e:\n",
    "        print(fmt.format(*matrix_tuple) + 'is not possible\\nbecause of the exception \\n' + str(e))\n",
    "    finally:\n",
    "        print('-' * 50)"
   ]
  },
  {
   "cell_type": "markdown",
   "metadata": {},
   "source": [
    "<font color = '#9C0006'><pre> 6. Create two arrays, `x = ([2, -1, -8]) y = ([3, 1, -2]),`\n",
    "\t - Find the Shape, Number of dimensions of vector x.\n",
    "\t - Reshape the vector x to a matrix of size (3,1) and determine the number of dimensions after reshaping y to a matrix of (3,1). </pre></font>"
   ]
  },
  {
   "cell_type": "code",
   "execution_count": 44,
   "metadata": {},
   "outputs": [],
   "source": [
    "#6\n",
    "x = np.array([2, -1, -8]) \n",
    "y = np.array([3, 1, -2])"
   ]
  },
  {
   "cell_type": "code",
   "execution_count": 45,
   "metadata": {},
   "outputs": [
    {
     "name": "stdout",
     "output_type": "stream",
     "text": [
      "Shape of X is (3,)\n",
      "Dimension of X is 1\n"
     ]
    }
   ],
   "source": [
    "print('Shape of X is', x.shape)\n",
    "print('Dimension of X is', x.ndim)"
   ]
  },
  {
   "cell_type": "code",
   "execution_count": 47,
   "metadata": {},
   "outputs": [
    {
     "name": "stdout",
     "output_type": "stream",
     "text": [
      "Dimension of X is 1\n",
      "Dimension of Y is 1\n"
     ]
    }
   ],
   "source": [
    "x1 = x.reshape((3, 1))\n",
    "y1 = y.reshape((3, 1))\n",
    "print('Dimension of X is', x.ndim)\n",
    "print('Dimension of Y is', y.ndim)"
   ]
  },
  {
   "cell_type": "markdown",
   "metadata": {},
   "source": [
    "<font color = '#9C0006'> 7. How does broadcasting work? Demonstrate the subtraction, multiplication by considering a 3 x 3 matrix. </font>"
   ]
  },
  {
   "cell_type": "markdown",
   "metadata": {},
   "source": [
    "During arithmetic operations to an array with another smaller array or scalar, the smaller one is broadcasted (stretched) across the larger array such that they have the compatible shapes. This enables the numpy to do arithmetic operation element-by-element <br>\n",
    "Reference: https://numpy.org/doc/stable/user/basics.broadcasting.html"
   ]
  },
  {
   "cell_type": "code",
   "execution_count": 53,
   "metadata": {},
   "outputs": [
    {
     "name": "stdout",
     "output_type": "stream",
     "text": [
      "Larger Array\n",
      " [[5 7 2]\n",
      " [4 5 6]\n",
      " [7 4 2]]\n",
      "Smaller Array\n",
      " [1 2 3]\n"
     ]
    }
   ],
   "source": [
    "# Subtracting \n",
    "larger = np.array([[5, 7, 2], [4, 5, 6], [7, 4 ,2]])\n",
    "smaller = np.array([1, 2, 3])\n",
    "print('Larger Array\\n', larger)\n",
    "print('Smaller Array\\n', smaller)"
   ]
  },
  {
   "cell_type": "code",
   "execution_count": 54,
   "metadata": {},
   "outputs": [
    {
     "data": {
      "text/plain": [
       "array([[ 4,  5, -1],\n",
       "       [ 3,  3,  3],\n",
       "       [ 6,  2, -1]])"
      ]
     },
     "execution_count": 54,
     "metadata": {},
     "output_type": "execute_result"
    }
   ],
   "source": [
    "larger - smaller"
   ]
  },
  {
   "cell_type": "markdown",
   "metadata": {},
   "source": [
    "The smaller array of size 1X3 has been stretched to 3X3 such that the first column of larger array is subtracted by first element of smaller, second column of larger is subtracted by second element of the smaller and so on."
   ]
  },
  {
   "cell_type": "code",
   "execution_count": 55,
   "metadata": {},
   "outputs": [
    {
     "data": {
      "text/plain": [
       "array([[10, 14,  4],\n",
       "       [ 8, 10, 12],\n",
       "       [14,  8,  4]])"
      ]
     },
     "execution_count": 55,
     "metadata": {},
     "output_type": "execute_result"
    }
   ],
   "source": [
    "# Multiplication\n",
    "larger * 2"
   ]
  },
  {
   "cell_type": "markdown",
   "metadata": {},
   "source": [
    "When multiplying a scalar value with an array, all the elements of the array got multiplied by the scalar"
   ]
  },
  {
   "cell_type": "markdown",
   "metadata": {},
   "source": [
    "## Part B - Linear Equations"
   ]
  },
  {
   "cell_type": "markdown",
   "metadata": {},
   "source": [
    "<font color = '#9C0006'>Determine the singularity of the system of equations, comment on the expected solution of the system. Solve the system of equations if possible. Justify the reason why you believe the system can or cannot be solved using numpy functions.</font>"
   ]
  },
  {
   "cell_type": "markdown",
   "metadata": {},
   "source": [
    "The system of equations can be represented in matrix format (Ax = b) to check for the singularity and finding the solution. <br>\n",
    "The matrix format of the equations can be easily translated to numpy arrays and using numpy.linalg, all the operations of linear algebra can be performed."
   ]
  },
  {
   "cell_type": "code",
   "execution_count": 63,
   "metadata": {},
   "outputs": [],
   "source": [
    "def is_singular(array):\n",
    "    if array.shape[0] != array.shape[1]:\n",
    "        return False  # As singular matrix should be a square matrix\n",
    "    return np.linalg.det(array) == 0"
   ]
  },
  {
   "cell_type": "code",
   "execution_count": 66,
   "metadata": {},
   "outputs": [],
   "source": [
    "x = ['x', 'y', 'z']"
   ]
  },
  {
   "cell_type": "markdown",
   "metadata": {},
   "source": [
    "### Part B.1\n",
    "<pre>\n",
    "1. 4x +  y - 2z = 10 \n",
    "2. 2x - 3y + 2z = -4 \n",
    "3.  x + 2y + 3z =  6 \n",
    "</pre>"
   ]
  },
  {
   "cell_type": "code",
   "execution_count": 73,
   "metadata": {},
   "outputs": [],
   "source": [
    "A1 = np.array([\n",
    "    [4, 1, -2],\n",
    "    [2, -3, 2],\n",
    "    [1, 2, 3]\n",
    "])\n",
    "b1 = np.array([10, -4, 6])"
   ]
  },
  {
   "cell_type": "code",
   "execution_count": 68,
   "metadata": {},
   "outputs": [
    {
     "data": {
      "text/plain": [
       "False"
      ]
     },
     "execution_count": 68,
     "metadata": {},
     "output_type": "execute_result"
    }
   ],
   "source": [
    "is_singular(A1)"
   ]
  },
  {
   "cell_type": "markdown",
   "metadata": {},
   "source": [
    "The linear equations can be solved only if it is non-singular. Since A1 is non-singular, it is solvable. i.e., it has unique solution"
   ]
  },
  {
   "cell_type": "code",
   "execution_count": 74,
   "metadata": {},
   "outputs": [],
   "source": [
    "soln1 = np.linalg.solve(A1, b1)"
   ]
  },
  {
   "cell_type": "code",
   "execution_count": 72,
   "metadata": {},
   "outputs": [
    {
     "name": "stdout",
     "output_type": "stream",
     "text": [
      "The solution of the B.1 is\n",
      "x = 1.7999999999999998\n",
      "y = 2.4\n",
      "z = -0.2\n"
     ]
    }
   ],
   "source": [
    "print('The solution of the B.1 is')\n",
    "print(*[f'{var} = {val}' for var, val in zip(x, soln1)], sep='\\n')"
   ]
  },
  {
   "cell_type": "markdown",
   "metadata": {},
   "source": [
    "### Part B.2"
   ]
  },
  {
   "cell_type": "markdown",
   "metadata": {},
   "source": [
    "<pre>\n",
    "1. 2x -  y + 3z + 4w = 10\n",
    "2. 4x - 2y + 6z + 8w = 20\n",
    "3. 3x +  y - 2z + 2w =  3\n",
    "4.  x + 3y - 4z +  w = -1\n",
    "</pre>"
   ]
  },
  {
   "cell_type": "code",
   "execution_count": 75,
   "metadata": {},
   "outputs": [],
   "source": [
    "A2 = np.array([\n",
    "    [2, -1, 3, 4],\n",
    "    [4, -2, 6, 8],\n",
    "    [3, 1, -2, 2],\n",
    "    [1, 3, -4, 1]\n",
    "])\n",
    "b2 = np.array([10, 20, 3, -1])"
   ]
  },
  {
   "cell_type": "code",
   "execution_count": 76,
   "metadata": {},
   "outputs": [
    {
     "data": {
      "text/plain": [
       "True"
      ]
     },
     "execution_count": 76,
     "metadata": {},
     "output_type": "execute_result"
    }
   ],
   "source": [
    "is_singular(A2)"
   ]
  },
  {
   "cell_type": "markdown",
   "metadata": {},
   "source": [
    "The B.2 set of equations can not be solved. <br>\n",
    "As this is singular, these equations has no or infinite solutions."
   ]
  }
 ],
 "metadata": {
  "kernelspec": {
   "display_name": "PROG8245",
   "language": "python",
   "name": "python3"
  },
  "language_info": {
   "codemirror_mode": {
    "name": "ipython",
    "version": 3
   },
   "file_extension": ".py",
   "mimetype": "text/x-python",
   "name": "python",
   "nbconvert_exporter": "python",
   "pygments_lexer": "ipython3",
   "version": "3.11.5"
  },
  "orig_nbformat": 4
 },
 "nbformat": 4,
 "nbformat_minor": 2
}
