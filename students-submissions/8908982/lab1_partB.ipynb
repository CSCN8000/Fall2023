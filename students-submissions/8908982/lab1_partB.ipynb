{
 "cells": [
  {
   "cell_type": "markdown",
   "metadata": {},
   "source": [
    "# Part B- Linear Equations\n",
    "## Question 1: Determine the singularity of the system of equations, comment on the expected solution of the system. Solve the system of equations if possible. Justify the reason why you believe the system can or cannot be solved using numpy functions."
   ]
  },
  {
   "cell_type": "markdown",
   "metadata": {},
   "source": [
    "### Part B.1\n",
    "### 4x + y - 2z = 10\n",
    "### 2x - 3y + 2z = -4\n",
    "### x + 2y + 3z = 6"
   ]
  },
  {
   "cell_type": "markdown",
   "metadata": {},
   "source": [
    "### Solution Part B.1"
   ]
  },
  {
   "cell_type": "code",
   "execution_count": 5,
   "metadata": {},
   "outputs": [
    {
     "name": "stdout",
     "output_type": "stream",
     "text": [
      "The determinant of given set of equations is :  -70.00000000000003\n"
     ]
    }
   ],
   "source": [
    "import numpy as np\n",
    "matcheck = np.array([[4, 1, -2],\n",
    "                     [2, -3, 2],\n",
    "                     [1, 2, 3]]) #coefficients of given equations\n",
    "det_of_mat = np.linalg.det(matcheck)\n",
    "print(\"The determinant of given set of equations is : \",det_of_mat)"
   ]
  },
  {
   "cell_type": "markdown",
   "metadata": {},
   "source": [
    "## My opinion:   As we can see that Determinant of the above given system of equations is non-Zero i.e. -70 which indicates a unique solution. Therefore, the given system is non-singular.\n",
    "\n",
    "## Since, it has a unique solution so the given system can be solved using numpy which is depicted below in code\n"
   ]
  },
  {
   "cell_type": "code",
   "execution_count": 4,
   "metadata": {},
   "outputs": [
    {
     "name": "stdout",
     "output_type": "stream",
     "text": [
      "Solution of x, y & z is   [ 1.8  2.4 -0.2]\n"
     ]
    }
   ],
   "source": [
    "constants = np.array([10, -4, 6]) #checking the right hand side of given system of equations\n",
    "solutions = np.linalg.solve(matcheck, constants)\n",
    "print(\"Solution of x, y & z is  \",solutions)"
   ]
  },
  {
   "cell_type": "markdown",
   "metadata": {},
   "source": [
    "### Part B.2\n",
    "### 2x - y + 3z + 4w = 10\n",
    "### 4x - 2y + 6z + 8w = 20\n",
    "### 3x + y - 2z + 2w = 3\n",
    "### x + 3y - 4z + w = -1"
   ]
  },
  {
   "cell_type": "code",
   "execution_count": null,
   "metadata": {},
   "outputs": [],
   "source": []
  },
  {
   "cell_type": "code",
   "execution_count": 20,
   "metadata": {},
   "outputs": [
    {
     "name": "stdout",
     "output_type": "stream",
     "text": [
      "The determinant of given set of equations is :  0.0\n"
     ]
    }
   ],
   "source": [
    "import numpy as np\n",
    "\n",
    "matcoeff=np.array([[2,-1,3,4],\n",
    "                   [4,-2,6,8],\n",
    "                   [3,1,-2,2],\n",
    "                   [1,3,-4,1]]) # matrix of coefficients of given system of equations\n",
    "\n",
    "det_of_matcoeff = np.linalg.det(matcoeff)\n",
    "\n",
    "print(\"The determinant of given set of equations is : \",det_of_matcoeff)"
   ]
  },
  {
   "cell_type": "markdown",
   "metadata": {},
   "source": [
    "## My opinion:   As we can see that Determinant of the above given system of equations is Zero which indicates a multiple solutions. Therefore, the given system is singular.\n",
    "\n",
    "## Since, it has a multiple solutions so the given system cant be solved using numpy.\n"
   ]
  },
  {
   "cell_type": "markdown",
   "metadata": {},
   "source": [
    "### we can see the error below if we try to solve"
   ]
  },
  {
   "cell_type": "code",
   "execution_count": 21,
   "metadata": {},
   "outputs": [
    {
     "ename": "ValueError",
     "evalue": "solve1: Input operand 1 has a mismatch in its core dimension 0, with gufunc signature (m,m),(m)->(m) (size 3 is different from 4)",
     "output_type": "error",
     "traceback": [
      "\u001b[0;31m---------------------------------------------------------------------------\u001b[0m",
      "\u001b[0;31mValueError\u001b[0m                                Traceback (most recent call last)",
      "\u001b[1;32m/Users/samiksharajpal/Desktop/samikshaRajpal_8908982_Youssef/lab1_partB.ipynb Cell 12\u001b[0m line \u001b[0;36m2\n\u001b[1;32m      <a href='vscode-notebook-cell:/Users/samiksharajpal/Desktop/samikshaRajpal_8908982_Youssef/lab1_partB.ipynb#X12sZmlsZQ%3D%3D?line=0'>1</a>\u001b[0m mat_of_const \u001b[39m=\u001b[39m np\u001b[39m.\u001b[39marray([\u001b[39m10\u001b[39m, \u001b[39m-\u001b[39m\u001b[39m4\u001b[39m, \u001b[39m6\u001b[39m]) \u001b[39m#checking the right hand side of given system of equations\u001b[39;00m\n\u001b[0;32m----> <a href='vscode-notebook-cell:/Users/samiksharajpal/Desktop/samikshaRajpal_8908982_Youssef/lab1_partB.ipynb#X12sZmlsZQ%3D%3D?line=1'>2</a>\u001b[0m solutions \u001b[39m=\u001b[39m np\u001b[39m.\u001b[39;49mlinalg\u001b[39m.\u001b[39;49msolve(matcoeff, mat_of_const)\n\u001b[1;32m      <a href='vscode-notebook-cell:/Users/samiksharajpal/Desktop/samikshaRajpal_8908982_Youssef/lab1_partB.ipynb#X12sZmlsZQ%3D%3D?line=2'>3</a>\u001b[0m \u001b[39mprint\u001b[39m(\u001b[39m\"\u001b[39m\u001b[39mSolution of x, y & z is  \u001b[39m\u001b[39m\"\u001b[39m,solutions)\n",
      "File \u001b[0;32m/Library/Frameworks/Python.framework/Versions/3.11/lib/python3.11/site-packages/numpy/linalg/linalg.py:409\u001b[0m, in \u001b[0;36msolve\u001b[0;34m(a, b)\u001b[0m\n\u001b[1;32m    407\u001b[0m signature \u001b[39m=\u001b[39m \u001b[39m'\u001b[39m\u001b[39mDD->D\u001b[39m\u001b[39m'\u001b[39m \u001b[39mif\u001b[39;00m isComplexType(t) \u001b[39melse\u001b[39;00m \u001b[39m'\u001b[39m\u001b[39mdd->d\u001b[39m\u001b[39m'\u001b[39m\n\u001b[1;32m    408\u001b[0m extobj \u001b[39m=\u001b[39m get_linalg_error_extobj(_raise_linalgerror_singular)\n\u001b[0;32m--> 409\u001b[0m r \u001b[39m=\u001b[39m gufunc(a, b, signature\u001b[39m=\u001b[39;49msignature, extobj\u001b[39m=\u001b[39;49mextobj)\n\u001b[1;32m    411\u001b[0m \u001b[39mreturn\u001b[39;00m wrap(r\u001b[39m.\u001b[39mastype(result_t, copy\u001b[39m=\u001b[39m\u001b[39mFalse\u001b[39;00m))\n",
      "\u001b[0;31mValueError\u001b[0m: solve1: Input operand 1 has a mismatch in its core dimension 0, with gufunc signature (m,m),(m)->(m) (size 3 is different from 4)"
     ]
    }
   ],
   "source": [
    "mat_of_const = np.array([10, -4, 6]) #checking the right hand side of given system of equations\n",
    "solutions = np.linalg.solve(matcoeff, mat_of_const)\n",
    "print(\"Solution of x, y & z is  \",solutions)"
   ]
  },
  {
   "cell_type": "code",
   "execution_count": null,
   "metadata": {},
   "outputs": [],
   "source": []
  }
 ],
 "metadata": {
  "kernelspec": {
   "display_name": "Python 3",
   "language": "python",
   "name": "python3"
  },
  "language_info": {
   "codemirror_mode": {
    "name": "ipython",
    "version": 3
   },
   "file_extension": ".py",
   "mimetype": "text/x-python",
   "name": "python",
   "nbconvert_exporter": "python",
   "pygments_lexer": "ipython3",
   "version": "3.11.5"
  },
  "orig_nbformat": 4
 },
 "nbformat": 4,
 "nbformat_minor": 2
}
