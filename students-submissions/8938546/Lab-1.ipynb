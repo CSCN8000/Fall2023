{
 "cells": [
  {
   "cell_type": "markdown",
   "metadata": {},
   "source": [
    "## <center>Dev Bharatbhai Patel(8938546)</center>\n",
    "### <center>Lab-1 Basic Numpy Operations</center>\n",
    "\n"
   ]
  },
  {
   "cell_type": "markdown",
   "metadata": {},
   "source": [
    "**Part A- Create a Notebook to demonstrate NumPy Operations.**"
   ]
  },
  {
   "cell_type": "markdown",
   "metadata": {},
   "source": [
    "<font color='indigo'>1. Create an array that starts from the integer 1, ends at 20, incremented by 3.</font>"
   ]
  },
  {
   "cell_type": "code",
   "execution_count": 1,
   "metadata": {},
   "outputs": [
    {
     "name": "stdout",
     "output_type": "stream",
     "text": [
      "[ 1  4  7 10 13 16 19]\n"
     ]
    }
   ],
   "source": [
    "## Importing numpy package\n",
    "import numpy as np\n",
    "\n",
    "## Creating an array using np.arange() function.\n",
    "array = np.arange(1, 20, 3)\n",
    "\n",
    "## Printing the result.\n",
    "print(array)"
   ]
  },
  {
   "cell_type": "markdown",
   "metadata": {},
   "source": [
    "<font color='indigo'>2. Create a new array of shape 3 with random numbers between 0 and 1.</font>"
   ]
  },
  {
   "cell_type": "code",
   "execution_count": 2,
   "metadata": {},
   "outputs": [
    {
     "name": "stdout",
     "output_type": "stream",
     "text": [
      "[0.13748756 0.07965484 0.96175805]\n"
     ]
    }
   ],
   "source": [
    "## Creating an array by using the np.random.rand() function to generate random numbers between 0 and 1 for array of shape-3.\n",
    "random = np.random.rand(3)\n",
    "\n",
    "## Printing the result.\n",
    "print(random)"
   ]
  },
  {
   "cell_type": "markdown",
   "metadata": {},
   "source": [
    "<font color='indigo'>3. Create a 2 D array `[[10, 20, 45], [30, 12, 16], [42, 17, 56]]` and perform the following operations:-</font>\n",
    "\n",
    "-  <font color='indigo'>Slice the 2D array to get the first two rows, slice the 2D array to get the last two rows.</font>"
   ]
  },
  {
   "cell_type": "code",
   "execution_count": 3,
   "metadata": {},
   "outputs": [
    {
     "name": "stdout",
     "output_type": "stream",
     "text": [
      "[[10 20 45]\n",
      " [30 12 16]]\n",
      "\n",
      " [[30 12 16]\n",
      " [42 17 56]]\n"
     ]
    }
   ],
   "source": [
    "## Creating a 2D array\n",
    "array2D = np.array([[10, 20, 45], [30, 12, 16],[42, 17, 56]])\n",
    "\n",
    "## Slicing the 2D array to get First 2 rows.\n",
    "print(array2D[0:2])\n",
    "\n",
    "## Slicing the 2D array to get the last 2 rows.\n",
    "print(\"\\n\",array2D[1:3])"
   ]
  },
  {
   "cell_type": "markdown",
   "metadata": {},
   "source": [
    "<font color='indigo'>4. Create two 2x2 arrays and demonstrate how you can stack the elements vertically, horizontally, and split the arrays into smaller arrays.</font>"
   ]
  },
  {
   "cell_type": "code",
   "execution_count": 4,
   "metadata": {},
   "outputs": [
    {
     "name": "stdout",
     "output_type": "stream",
     "text": [
      "[[1 2]\n",
      " [3 4]\n",
      " [5 6]\n",
      " [7 8]]\n",
      "\n",
      " [[1 2 5 6]\n",
      " [3 4 7 8]]\n",
      "\n",
      " [array([[1, 2]]), array([[3, 4]])]\n",
      "\n",
      " [array([[5, 6]]), array([[7, 8]])]\n"
     ]
    }
   ],
   "source": [
    "## Creating two 2x2 arrays.\n",
    "array1 = np.array([[1, 2],[3, 4]])\n",
    "array2 = np.array([[5, 6],[7, 8]])\n",
    "\n",
    "## Stacking the elements vertically using vstack() function.\n",
    "vertical_stack = np.vstack((array1, array2))\n",
    "\n",
    "## Stacking the elements horizontally using hstack() function.\n",
    "horizontal_stack = np.hstack((array1, array2))\n",
    "\n",
    "## Splitting the arrays into smaller arrays using split() function.\n",
    "split_array1 = np.split(array1,2)\n",
    "split_array2 = np.split(array2,2)\n",
    "\n",
    "## Printing the Results.\n",
    "print(vertical_stack)\n",
    "print(\"\\n\",horizontal_stack)\n",
    "print(\"\\n\",split_array1)\n",
    "print(\"\\n\",split_array2)"
   ]
  },
  {
   "cell_type": "markdown",
   "metadata": {},
   "source": [
    "<font color='indigo'>5. Create two matrices `X= ([[5, 7, 2], [4, 5, 6], [7, 4 ,2]]) Y= ([[4, 2], [6, 2], [4, 2]])`</font>\n",
    "\n",
    "- <font color='indigo'>Is it possible to multiply these matrices? </font>"
   ]
  },
  {
   "cell_type": "code",
   "execution_count": 5,
   "metadata": {},
   "outputs": [
    {
     "name": "stdout",
     "output_type": "stream",
     "text": [
      "[[70 28]\n",
      " [70 30]\n",
      " [60 26]]\n"
     ]
    }
   ],
   "source": [
    "## Creating 2 matrices.\n",
    "X = np.array([[5, 7, 2], [4, 5, 6],[7, 4, 2]])\n",
    "Y = np.array([[4, 2], [6, 2], [4, 2]]) \n",
    "\n",
    "## Multiplying the matrices by using the np.dot() function.\n",
    "print(np.dot(X,Y))"
   ]
  },
  {
   "cell_type": "markdown",
   "metadata": {},
   "source": [
    "- <font color='indigo'>Demonstrate the case when it is not possible to. </font>"
   ]
  },
  {
   "cell_type": "code",
   "execution_count": 6,
   "metadata": {},
   "outputs": [
    {
     "ename": "ValueError",
     "evalue": "shapes (3,2) and (3,3) not aligned: 2 (dim 1) != 3 (dim 0)",
     "output_type": "error",
     "traceback": [
      "\u001b[1;31m---------------------------------------------------------------------------\u001b[0m",
      "\u001b[1;31mValueError\u001b[0m                                Traceback (most recent call last)",
      "\u001b[1;32md:\\College\\AI_Algorith\\AI_Algorithm\\students-submissions\\8938546\\Lab-1.ipynb Cell 14\u001b[0m line \u001b[0;36m2\n\u001b[0;32m      <a href='vscode-notebook-cell:/d%3A/College/AI_Algorith/AI_Algorithm/students-submissions/8938546/Lab-1.ipynb#X25sZmlsZQ%3D%3D?line=0'>1</a>\u001b[0m \u001b[39m## Demonstrating when multiplication is not possible.\u001b[39;00m\n\u001b[1;32m----> <a href='vscode-notebook-cell:/d%3A/College/AI_Algorith/AI_Algorithm/students-submissions/8938546/Lab-1.ipynb#X25sZmlsZQ%3D%3D?line=1'>2</a>\u001b[0m \u001b[39mprint\u001b[39m(np\u001b[39m.\u001b[39;49mdot(Y,X))\n",
      "\u001b[1;31mValueError\u001b[0m: shapes (3,2) and (3,3) not aligned: 2 (dim 1) != 3 (dim 0)"
     ]
    }
   ],
   "source": [
    "## Demonstrating when multiplication is not possible.\n",
    "print(np.dot(Y,X))"
   ]
  },
  {
   "cell_type": "markdown",
   "metadata": {},
   "source": [
    "   - *When we try to multiply these matrices it will gives us an error.*\n",
    "   - *Well, in order to multiply two matrices, the number of columns in the first matrix must be equal to the number of rows in the second matrix. In the given example, the number of columns in the Y matrix is not equal to the number of rows in the X matrix. Therefore, multiplication is not possible.*\n",
    "    "
   ]
  },
  {
   "cell_type": "markdown",
   "metadata": {},
   "source": [
    "<font color='indigo'>6. Create two arrays, `x = ([2, -1, -8]) y = ([3, 1, -2])` </font>\n",
    "\n",
    " - <font color='indigo'>Find the Shape, Number of dimensions of vector x.</font>"
   ]
  },
  {
   "cell_type": "code",
   "execution_count": null,
   "metadata": {},
   "outputs": [
    {
     "name": "stdout",
     "output_type": "stream",
     "text": [
      "(3,)\n",
      "\n",
      " 1\n"
     ]
    }
   ],
   "source": [
    "## Creating 2 arrays.\n",
    "x = np.array([2, -1, -8])\n",
    "y = np.array([3, 1, -2])\n",
    "\n",
    "## Finding the shape of vector x using shape() function.\n",
    "print(x.shape)\n",
    "\n",
    "## Finding the dimensions of vector x using ndim() function.\n",
    "print(\"\\n\",x.ndim)"
   ]
  },
  {
   "cell_type": "markdown",
   "metadata": {},
   "source": [
    "- <font color='indigo'>Reshape the vector x to a matrix of size (3,1) and determine the number of dimensions after reshaping y to a matrix of (3,1).</font>"
   ]
  },
  {
   "cell_type": "code",
   "execution_count": null,
   "metadata": {},
   "outputs": [
    {
     "name": "stdout",
     "output_type": "stream",
     "text": [
      "[[ 2]\n",
      " [-1]\n",
      " [-8]]\n",
      "\n",
      " 2\n"
     ]
    }
   ],
   "source": [
    "## Reshaping the matrix of vector x using the reshape() function.\n",
    "print(x.reshape(3, 1))\n",
    "\n",
    "## Reshaping the matrix of vector y using the same function.\n",
    "reshape_y = y.reshape(3, 1)\n",
    "\n",
    "## Determining the number of dimensions.\n",
    "print(\"\\n\",reshape_y.ndim)"
   ]
  },
  {
   "cell_type": "markdown",
   "metadata": {},
   "source": [
    "<font color='indigo'>7. How does broadcasting work? Demonstrate the subtraction, multiplication by considering a 3 x 3 matrix.</font>\n",
    "\n",
    "-  *In order to enable element-wise operations, broadcasting automatically expands the smaller array to take the shape of the larger array.*"
   ]
  },
  {
   "cell_type": "code",
   "execution_count": null,
   "metadata": {},
   "outputs": [],
   "source": [
    "## Creating a 3 x 3 matrix.\n",
    "A = np.array([[1, 2, 3],[4, 5, 6],[7, 8, 9]])"
   ]
  },
  {
   "cell_type": "markdown",
   "metadata": {},
   "source": [
    "  - <font color='indigo'>Subtraction</font>"
   ]
  },
  {
   "cell_type": "code",
   "execution_count": null,
   "metadata": {},
   "outputs": [
    {
     "name": "stdout",
     "output_type": "stream",
     "text": [
      "[[-4 -3 -2]\n",
      " [-1  0  1]\n",
      " [ 2  3  4]]\n",
      "\n",
      " [[ 5  6  7]\n",
      " [-3 -2 -1]\n",
      " [ 8  9 10]]\n",
      "\n",
      " [[ 6  4  0]\n",
      " [ 9  7  3]\n",
      " [12 10  6]]\n"
     ]
    }
   ],
   "source": [
    "## Subracting by single value.\n",
    "print(np.subtract(A, 5))\n",
    "\n",
    "## Subracting by Rows.\n",
    "print(\"\\n\", np.subtract(A, [[-4], [7], [-1]]))\n",
    "\n",
    "## Subracting by columns.\n",
    "print(\"\\n\",np.subtract(A,[-5, -2, 3]))"
   ]
  },
  {
   "cell_type": "markdown",
   "metadata": {},
   "source": [
    "  - <font color='indigo'>Multiplication</font>"
   ]
  },
  {
   "cell_type": "code",
   "execution_count": null,
   "metadata": {},
   "outputs": [
    {
     "name": "stdout",
     "output_type": "stream",
     "text": [
      "[[ 8 16 24]\n",
      " [32 40 48]\n",
      " [56 64 72]]\n",
      "\n",
      " [[ 2  4  6]\n",
      " [24 30 36]\n",
      " [ 7  8  9]]\n",
      "\n",
      " [[ -9   6 -15]\n",
      " [-36  15 -30]\n",
      " [-63  24 -45]]\n"
     ]
    }
   ],
   "source": [
    "## Multiplying by single value\n",
    "print(np.multiply(A, 8))\n",
    "\n",
    "## Multiplying by Rows.\n",
    "print(\"\\n\", np.multiply(A, [[2], [6], [1]]))\n",
    "\n",
    "## Multiplying by columns.\n",
    "print(\"\\n\",np.multiply(A,[-9, 3, -5]))"
   ]
  },
  {
   "cell_type": "markdown",
   "metadata": {},
   "source": [
    "**Part B- Linear Equations**"
   ]
  },
  {
   "cell_type": "markdown",
   "metadata": {},
   "source": [
    "- <font color='indigo'>Part B.1</font>\n",
    "    -  <font color='indigo'>4x + y - 2z = 10</font>\n",
    "    -  <font color='indigo'>2x - 3y + 2z = -4</font>\n",
    "    -  <font color='indigo'>x + 2y + 3z = 6</font>\n"
   ]
  },
  {
   "cell_type": "code",
   "execution_count": null,
   "metadata": {},
   "outputs": [
    {
     "name": "stdout",
     "output_type": "stream",
     "text": [
      "-70.00000000000003\n"
     ]
    }
   ],
   "source": [
    "## Converting the linear equations to the matrix.\n",
    "a = np.array([[4, 1, -2], [2, -3, 2], [1, 2, 3]])\n",
    "b = np.array([10, -4, 6])\n",
    "\n",
    "## Calculating the determinant of the matrix a by using the np.linalg.det() functions.\n",
    "print(np.linalg.det(a))"
   ]
  },
  {
   "cell_type": "markdown",
   "metadata": {},
   "source": [
    "*As we can see in the above line code the determinant of the matrix 'a' is not zero and in addition to that it is non-singular. Thus, the linear equation is solved.*"
   ]
  },
  {
   "cell_type": "markdown",
   "metadata": {},
   "source": [
    "- <font color='indigo'>Part B.2</font>\n",
    "    - <font color='indigo'>2x - y + 3z + 4w = 10</font>\n",
    "    - <font color='indigo'>4x - 2y + 6z + 8w = 20</font>\n",
    "    - <font color='indigo'>3x + y - 2z + 2w = 3</font>\n",
    "    - <font color='indigo'>x + 3y - 4z + w = -1</font>"
   ]
  },
  {
   "cell_type": "code",
   "execution_count": null,
   "metadata": {},
   "outputs": [
    {
     "name": "stdout",
     "output_type": "stream",
     "text": [
      "0.0\n"
     ]
    }
   ],
   "source": [
    "## Running the same process as above.\n",
    "d = np.array([[2, -1, 3, 4], [4, -2, 6, 8], [3, 1, -2, 2], [1, 3, -4, 1]])\n",
    "e = np.array([10, 20, 3, -1])\n",
    "\n",
    "print(np.linalg.det(d))"
   ]
  },
  {
   "cell_type": "markdown",
   "metadata": {},
   "source": [
    "*As we can see in the above code that we got the result zero because the matrix is singular. So, the equal is unsolvable.*"
   ]
  }
 ],
 "metadata": {
  "kernelspec": {
   "display_name": "CSCN8010_classic_ml",
   "language": "python",
   "name": "cscn8010_classic_ml"
  },
  "language_info": {
   "codemirror_mode": {
    "name": "ipython",
    "version": 3
   },
   "file_extension": ".py",
   "mimetype": "text/x-python",
   "name": "python",
   "nbconvert_exporter": "python",
   "pygments_lexer": "ipython3",
   "version": "3.11.4"
  },
  "orig_nbformat": 4
 },
 "nbformat": 4,
 "nbformat_minor": 2
}
