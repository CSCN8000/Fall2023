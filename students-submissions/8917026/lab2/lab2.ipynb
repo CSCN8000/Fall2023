{
 "cells": [
  {
   "cell_type": "markdown",
   "metadata": {},
   "source": [
    "# <center>Lab 2 - Probability and Statistics<center>\n",
    "---\n",
    "Student Name: **Devarsh Sandip Shah** <br>\n",
    "Student ID: **8917026**\n",
    "\n",
    "## Part A"
   ]
  },
  {
   "cell_type": "code",
   "execution_count": 50,
   "metadata": {},
   "outputs": [],
   "source": [
    "# Installing packages\n",
    "import numpy as np\n",
    "import pandas as pd\n",
    "import matplotlib.pyplot as plt\n",
    "from sklearn.feature_extraction.text import CountVectorizer\n",
    "from sklearn.model_selection import train_test_split\n",
    "from sklearn.svm import SVC\n",
    "from sklearn.naive_bayes import MultinomialNB, GaussianNB\n",
    "from sklearn.metrics import accuracy_score"
   ]
  },
  {
   "cell_type": "code",
   "execution_count": 51,
   "metadata": {},
   "outputs": [],
   "source": [
    "# Loading lab_2_dataset.csv\n",
    "lab2_datasets = pd.read_csv(\"D:/conestoga-aiml/Semester1/AiAlgorithms/Fall2023/students-submissions/8917026/lab2/Lab2_dataset.csv\")"
   ]
  },
  {
   "cell_type": "code",
   "execution_count": 52,
   "metadata": {},
   "outputs": [
    {
     "data": {
      "text/html": [
       "<div>\n",
       "<style scoped>\n",
       "    .dataframe tbody tr th:only-of-type {\n",
       "        vertical-align: middle;\n",
       "    }\n",
       "\n",
       "    .dataframe tbody tr th {\n",
       "        vertical-align: top;\n",
       "    }\n",
       "\n",
       "    .dataframe thead th {\n",
       "        text-align: right;\n",
       "    }\n",
       "</style>\n",
       "<table border=\"1\" class=\"dataframe\">\n",
       "  <thead>\n",
       "    <tr style=\"text-align: right;\">\n",
       "      <th></th>\n",
       "      <th>Unnamed: 0</th>\n",
       "      <th>label</th>\n",
       "      <th>text</th>\n",
       "      <th>label_num</th>\n",
       "    </tr>\n",
       "  </thead>\n",
       "  <tbody>\n",
       "    <tr>\n",
       "      <th>0</th>\n",
       "      <td>605</td>\n",
       "      <td>ham</td>\n",
       "      <td>Subject: enron methanol ; meter # : 988291\\nth...</td>\n",
       "      <td>0</td>\n",
       "    </tr>\n",
       "    <tr>\n",
       "      <th>1</th>\n",
       "      <td>2349</td>\n",
       "      <td>ham</td>\n",
       "      <td>Subject: hpl nom for january 9 , 2001\\n( see a...</td>\n",
       "      <td>0</td>\n",
       "    </tr>\n",
       "    <tr>\n",
       "      <th>2</th>\n",
       "      <td>3624</td>\n",
       "      <td>ham</td>\n",
       "      <td>Subject: neon retreat\\nho ho ho , we ' re arou...</td>\n",
       "      <td>0</td>\n",
       "    </tr>\n",
       "    <tr>\n",
       "      <th>3</th>\n",
       "      <td>4685</td>\n",
       "      <td>spam</td>\n",
       "      <td>Subject: photoshop , windows , office . cheap ...</td>\n",
       "      <td>1</td>\n",
       "    </tr>\n",
       "    <tr>\n",
       "      <th>4</th>\n",
       "      <td>2030</td>\n",
       "      <td>ham</td>\n",
       "      <td>Subject: re : indian springs\\nthis deal is to ...</td>\n",
       "      <td>0</td>\n",
       "    </tr>\n",
       "  </tbody>\n",
       "</table>\n",
       "</div>"
      ],
      "text/plain": [
       "   Unnamed: 0 label                                               text   \n",
       "0         605   ham  Subject: enron methanol ; meter # : 988291\\nth...  \\\n",
       "1        2349   ham  Subject: hpl nom for january 9 , 2001\\n( see a...   \n",
       "2        3624   ham  Subject: neon retreat\\nho ho ho , we ' re arou...   \n",
       "3        4685  spam  Subject: photoshop , windows , office . cheap ...   \n",
       "4        2030   ham  Subject: re : indian springs\\nthis deal is to ...   \n",
       "\n",
       "   label_num  \n",
       "0          0  \n",
       "1          0  \n",
       "2          0  \n",
       "3          1  \n",
       "4          0  "
      ]
     },
     "execution_count": 52,
     "metadata": {},
     "output_type": "execute_result"
    }
   ],
   "source": [
    "lab2_datasets.head()"
   ]
  },
  {
   "cell_type": "markdown",
   "metadata": {},
   "source": [
    "# Pre-processing"
   ]
  },
  {
   "cell_type": "code",
   "execution_count": 53,
   "metadata": {},
   "outputs": [],
   "source": [
    "# Pre-Processing the data\n",
    "count_Vectorizer = CountVectorizer(max_features = 5000)\n",
    "X_train_vector = count_Vectorizer.fit_transform(lab2_datasets['text'])\n",
    "\n",
    "# Using to.array() to convert the sparsed matrix into dense numpy array\n",
    "X_train_vectorized = X_train_vector.toarray()\n",
    "\n",
    "# Data Splitting into training and testing datasets\n",
    "X_train, X_test, Y_train, Y_test = train_test_split(X_train_vectorized, lab2_datasets['label_num'], test_size = 0.2)"
   ]
  },
  {
   "cell_type": "markdown",
   "metadata": {},
   "source": [
    "# Model Training and Evaluation"
   ]
  },
  {
   "cell_type": "markdown",
   "metadata": {},
   "source": [
    "- **_Train using Sklearn SVC model on the training dataset and evaluate on the test set_**"
   ]
  },
  {
   "cell_type": "code",
   "execution_count": 54,
   "metadata": {},
   "outputs": [
    {
     "name": "stdout",
     "output_type": "stream",
     "text": [
      "Accuracy Score of SVC model: 96.14%\n"
     ]
    }
   ],
   "source": [
    "# Training the model using SVC(Support Vector Classifier)\n",
    "svc_model = SVC()\n",
    "svc_model.fit(X_train, Y_train)\n",
    "\n",
    "# Evaluating the model\n",
    "svc_model_evaluate = svc_model.predict(X_test)\n",
    "svc_model_confusion_matrix = accuracy_score(Y_test, svc_model_evaluate)\n",
    "\n",
    "print(f'Accuracy Score of SVC model: {svc_model_confusion_matrix * 100:.2f}%')"
   ]
  },
  {
   "cell_type": "markdown",
   "metadata": {},
   "source": [
    "**_Train and evaluate also on the Gaussian and Multinomial Naiive Bayes Classifiers_**\n",
    "\n",
    "- Gaussian Naiive Bayes Classifier"
   ]
  },
  {
   "cell_type": "code",
   "execution_count": 55,
   "metadata": {},
   "outputs": [
    {
     "name": "stdout",
     "output_type": "stream",
     "text": [
      "Accuracy Score of Gaussian Naiive Bayes Classifier : 96.62%\n"
     ]
    }
   ],
   "source": [
    "# Training model by Gaussian Naiive Bayes Classifier \n",
    "model_GNB = GaussianNB()\n",
    "model_GNB.fit(X_train, Y_train)\n",
    "\n",
    "# Evaluating the model \n",
    "model_GNB_evaluate = model_GNB.predict(X_test)\n",
    "gnb_model_confusion_matrix = accuracy_score(Y_test, model_GNB_evaluate)\n",
    "\n",
    "print(f'Accuracy Score of Gaussian Naiive Bayes Classifier : {gnb_model_confusion_matrix *100 :.2f}%')"
   ]
  },
  {
   "cell_type": "markdown",
   "metadata": {},
   "source": [
    "- Multinomial Naiive Bayes Classifier "
   ]
  },
  {
   "cell_type": "code",
   "execution_count": 56,
   "metadata": {},
   "outputs": [
    {
     "name": "stdout",
     "output_type": "stream",
     "text": [
      "Accuracy Score of Multinominal Naiive Bayes Classifier  : 95.75%\n"
     ]
    }
   ],
   "source": [
    "# Training model by Multinominal Naiive Bayes Classifier \n",
    "model_MNB = MultinomialNB()\n",
    "model_MNB.fit(X_train, Y_train)\n",
    "\n",
    "# Evaluating the model\n",
    "model_MNB_evaluate = model_MNB.predict(X_test)\n",
    "model_MNB_confusion_matrix = accuracy_score(Y_test, model_MNB_evaluate)\n",
    "\n",
    "print(f'Accuracy Score of Multinominal Naiive Bayes Classifier  : {model_MNB_confusion_matrix *100 :.2f}%')"
   ]
  },
  {
   "cell_type": "markdown",
   "metadata": {},
   "source": [
    "# Compare between the performance of all models and comment on the reasons behind the differences seen between the three models.\n",
    "\n",
    "- After training all models it seems like SVC model is slower than other two models and have less accurary than Gaussian Naiive Bayes Classifier.\n",
    "\n",
    "- I also tried to limit the max_feature() to limit the data and I got the accurate result for all the models, but the Gaussian and Multinomial Naiive Bayes Classifier are faster compared to SVC.\n",
    "\n",
    "- After looking at the result: Gaussian Naiive Bayes Classifiers performed much better."
   ]
  },
  {
   "cell_type": "markdown",
   "metadata": {},
   "source": [
    "## Part B"
   ]
  },
  {
   "cell_type": "code",
   "execution_count": 57,
   "metadata": {},
   "outputs": [],
   "source": [
    "# Loading AB_NYC_2019.csv data:\n",
    "AB_NYC_data = pd.read_csv(\"D:/conestoga-aiml/Semester1/AiAlgorithms/Fall2023/students-submissions/8917026/lab2/AB_NYC_2019.csv\")"
   ]
  },
  {
   "cell_type": "code",
   "execution_count": 58,
   "metadata": {},
   "outputs": [
    {
     "data": {
      "text/html": [
       "<div>\n",
       "<style scoped>\n",
       "    .dataframe tbody tr th:only-of-type {\n",
       "        vertical-align: middle;\n",
       "    }\n",
       "\n",
       "    .dataframe tbody tr th {\n",
       "        vertical-align: top;\n",
       "    }\n",
       "\n",
       "    .dataframe thead th {\n",
       "        text-align: right;\n",
       "    }\n",
       "</style>\n",
       "<table border=\"1\" class=\"dataframe\">\n",
       "  <thead>\n",
       "    <tr style=\"text-align: right;\">\n",
       "      <th></th>\n",
       "      <th>id</th>\n",
       "      <th>name</th>\n",
       "      <th>host_id</th>\n",
       "      <th>host_name</th>\n",
       "      <th>neighbourhood_group</th>\n",
       "      <th>neighbourhood</th>\n",
       "      <th>latitude</th>\n",
       "      <th>longitude</th>\n",
       "      <th>room_type</th>\n",
       "      <th>price</th>\n",
       "      <th>minimum_nights</th>\n",
       "      <th>number_of_reviews</th>\n",
       "      <th>last_review</th>\n",
       "      <th>reviews_per_month</th>\n",
       "      <th>calculated_host_listings_count</th>\n",
       "      <th>availability_365</th>\n",
       "    </tr>\n",
       "  </thead>\n",
       "  <tbody>\n",
       "    <tr>\n",
       "      <th>0</th>\n",
       "      <td>2539</td>\n",
       "      <td>Clean &amp; quiet apt home by the park</td>\n",
       "      <td>2787</td>\n",
       "      <td>John</td>\n",
       "      <td>Brooklyn</td>\n",
       "      <td>Kensington</td>\n",
       "      <td>40.64749</td>\n",
       "      <td>-73.97237</td>\n",
       "      <td>Private room</td>\n",
       "      <td>149</td>\n",
       "      <td>1</td>\n",
       "      <td>9</td>\n",
       "      <td>2018-10-19</td>\n",
       "      <td>0.21</td>\n",
       "      <td>6</td>\n",
       "      <td>365</td>\n",
       "    </tr>\n",
       "    <tr>\n",
       "      <th>1</th>\n",
       "      <td>2595</td>\n",
       "      <td>Skylit Midtown Castle</td>\n",
       "      <td>2845</td>\n",
       "      <td>Jennifer</td>\n",
       "      <td>Manhattan</td>\n",
       "      <td>Midtown</td>\n",
       "      <td>40.75362</td>\n",
       "      <td>-73.98377</td>\n",
       "      <td>Entire home/apt</td>\n",
       "      <td>225</td>\n",
       "      <td>1</td>\n",
       "      <td>45</td>\n",
       "      <td>2019-05-21</td>\n",
       "      <td>0.38</td>\n",
       "      <td>2</td>\n",
       "      <td>355</td>\n",
       "    </tr>\n",
       "    <tr>\n",
       "      <th>2</th>\n",
       "      <td>3647</td>\n",
       "      <td>THE VILLAGE OF HARLEM....NEW YORK !</td>\n",
       "      <td>4632</td>\n",
       "      <td>Elisabeth</td>\n",
       "      <td>Manhattan</td>\n",
       "      <td>Harlem</td>\n",
       "      <td>40.80902</td>\n",
       "      <td>-73.94190</td>\n",
       "      <td>Private room</td>\n",
       "      <td>150</td>\n",
       "      <td>3</td>\n",
       "      <td>0</td>\n",
       "      <td>NaN</td>\n",
       "      <td>NaN</td>\n",
       "      <td>1</td>\n",
       "      <td>365</td>\n",
       "    </tr>\n",
       "    <tr>\n",
       "      <th>3</th>\n",
       "      <td>3831</td>\n",
       "      <td>Cozy Entire Floor of Brownstone</td>\n",
       "      <td>4869</td>\n",
       "      <td>LisaRoxanne</td>\n",
       "      <td>Brooklyn</td>\n",
       "      <td>Clinton Hill</td>\n",
       "      <td>40.68514</td>\n",
       "      <td>-73.95976</td>\n",
       "      <td>Entire home/apt</td>\n",
       "      <td>89</td>\n",
       "      <td>1</td>\n",
       "      <td>270</td>\n",
       "      <td>2019-07-05</td>\n",
       "      <td>4.64</td>\n",
       "      <td>1</td>\n",
       "      <td>194</td>\n",
       "    </tr>\n",
       "    <tr>\n",
       "      <th>4</th>\n",
       "      <td>5022</td>\n",
       "      <td>Entire Apt: Spacious Studio/Loft by central park</td>\n",
       "      <td>7192</td>\n",
       "      <td>Laura</td>\n",
       "      <td>Manhattan</td>\n",
       "      <td>East Harlem</td>\n",
       "      <td>40.79851</td>\n",
       "      <td>-73.94399</td>\n",
       "      <td>Entire home/apt</td>\n",
       "      <td>80</td>\n",
       "      <td>10</td>\n",
       "      <td>9</td>\n",
       "      <td>2018-11-19</td>\n",
       "      <td>0.10</td>\n",
       "      <td>1</td>\n",
       "      <td>0</td>\n",
       "    </tr>\n",
       "  </tbody>\n",
       "</table>\n",
       "</div>"
      ],
      "text/plain": [
       "     id                                              name  host_id   \n",
       "0  2539                Clean & quiet apt home by the park     2787  \\\n",
       "1  2595                             Skylit Midtown Castle     2845   \n",
       "2  3647               THE VILLAGE OF HARLEM....NEW YORK !     4632   \n",
       "3  3831                   Cozy Entire Floor of Brownstone     4869   \n",
       "4  5022  Entire Apt: Spacious Studio/Loft by central park     7192   \n",
       "\n",
       "     host_name neighbourhood_group neighbourhood  latitude  longitude   \n",
       "0         John            Brooklyn    Kensington  40.64749  -73.97237  \\\n",
       "1     Jennifer           Manhattan       Midtown  40.75362  -73.98377   \n",
       "2    Elisabeth           Manhattan        Harlem  40.80902  -73.94190   \n",
       "3  LisaRoxanne            Brooklyn  Clinton Hill  40.68514  -73.95976   \n",
       "4        Laura           Manhattan   East Harlem  40.79851  -73.94399   \n",
       "\n",
       "         room_type  price  minimum_nights  number_of_reviews last_review   \n",
       "0     Private room    149               1                  9  2018-10-19  \\\n",
       "1  Entire home/apt    225               1                 45  2019-05-21   \n",
       "2     Private room    150               3                  0         NaN   \n",
       "3  Entire home/apt     89               1                270  2019-07-05   \n",
       "4  Entire home/apt     80              10                  9  2018-11-19   \n",
       "\n",
       "   reviews_per_month  calculated_host_listings_count  availability_365  \n",
       "0               0.21                               6               365  \n",
       "1               0.38                               2               355  \n",
       "2                NaN                               1               365  \n",
       "3               4.64                               1               194  \n",
       "4               0.10                               1                 0  "
      ]
     },
     "execution_count": 58,
     "metadata": {},
     "output_type": "execute_result"
    }
   ],
   "source": [
    "AB_NYC_data.head()"
   ]
  },
  {
   "cell_type": "markdown",
   "metadata": {},
   "source": [
    "- **_Remove outliers based on price per night for a given apartment/home._**\n",
    "\n",
    "- **_Compare the Z-score approach and the whiskers approach in terms of who is better to remove the outliers in this case._**"
   ]
  },
  {
   "cell_type": "code",
   "execution_count": 59,
   "metadata": {},
   "outputs": [
    {
     "name": "stdout",
     "output_type": "stream",
     "text": [
      "Rows of data in original data : 48895\n",
      "Rows of data in original data after removing outliers: 48507\n"
     ]
    }
   ],
   "source": [
    "## Z-Score Approach\n",
    "# All attributes for Z-score: \n",
    "\n",
    "price_data = AB_NYC_data[\"price\"]\n",
    "mean_price_data = np.mean(price_data)\n",
    "sd_price_data = np.std(price_data)\n",
    "\n",
    "# Calculating Z-score\n",
    "z_score = (price_data - mean_price_data) / sd_price_data\n",
    "\n",
    "# Removing outliers using default threshold value\n",
    "AB_NYC_outliers_removed = AB_NYC_data[z_score < 3]\n",
    "\n",
    "print(\"Rows of data in original data :\", len(z_score))\n",
    "print(\"Rows of data in original data after removing outliers:\", len(AB_NYC_outliers_removed))\n"
   ]
  },
  {
   "cell_type": "code",
   "execution_count": 60,
   "metadata": {},
   "outputs": [
    {
     "name": "stdout",
     "output_type": "stream",
     "text": [
      "Rows within whiskers : 45923\n"
     ]
    }
   ],
   "source": [
    "# Whiskers approach\n",
    "\n",
    "# Calculating the quartiles\n",
    "Q1 = AB_NYC_data['price'].quantile(0.25)\n",
    "Q3 = AB_NYC_data['price'].quantile(0.75)\n",
    "\n",
    "# Calculating the IQR\n",
    "IQR = Q3 - Q1\n",
    "\n",
    "# Calculating the whiskers\n",
    "left_whiskers = Q1 - 1.5 * IQR\n",
    "right_whiskers = Q3 + 1.5 * IQR\n",
    "\n",
    "whiskers = AB_NYC_data[(AB_NYC_data['price'] >= left_whiskers) & (AB_NYC_data['price'] <= right_whiskers)]\n",
    "\n",
    "print(\"Rows within whiskers :\", len(whiskers))"
   ]
  },
  {
   "cell_type": "markdown",
   "metadata": {},
   "source": [
    "- Let's see why this much difference using distribution plotting:"
   ]
  },
  {
   "cell_type": "code",
   "execution_count": 61,
   "metadata": {},
   "outputs": [
    {
     "data": {
      "image/png": "[encoded data removed]",
      "text/plain": [
       "<Figure size 640x480 with 1 Axes>"
      ]
     },
     "metadata": {},
     "output_type": "display_data"
    }
   ],
   "source": [
    "plt.hist(AB_NYC_data['price'], bins= 150)\n",
    "plt.show()"
   ]
  },
  {
   "cell_type": "markdown",
   "metadata": {},
   "source": [
    "- When we examine the 'price' data distribution, it becomes clear that it leans heavily towards higher values with a sharp peak, indicating a right-skewed pattern. This results in the box-whisker approach being quite strict in identifying outliers, as the Interquartile Range (IQR) is relatively small. In practice, the box-whisker method, which classifies only around 3,000 data points as outliers out of a total of about 49,000, appears to be the better choice. It's like being cautious but not overly so, as we still have a substantial amount of data left for further analysis and modeling. \n",
    "- Therefore, the box-whisker approach strikes a good balance between outlier removal and retaining valuable data in this context."
   ]
  }
 ],
 "metadata": {
  "kernelspec": {
   "display_name": "CSCN8010_classic_ml",
   "language": "python",
   "name": "cscn8010_classic_ml"
  },
  "language_info": {
   "codemirror_mode": {
    "name": "ipython",
    "version": 3
   },
   "file_extension": ".py",
   "mimetype": "text/x-python",
   "name": "python",
   "nbconvert_exporter": "python",
   "pygments_lexer": "ipython3",
   "version": "3.11.5"
  }
 },
 "nbformat": 4,
 "nbformat_minor": 2
}
