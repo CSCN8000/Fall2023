{
 "cells": [
  {
   "cell_type": "markdown",
   "metadata": {},
   "source": [
    "# <center>  Lab 1 – Basic NumPy Operations<center>\n",
    "---\n",
    "Student Name: **Devarsh Sandip Shah** <br>\n",
    "Student ID: **8917026**\n",
    "\n",
    "## Part A- Create a Notebook to demonstrate NumPy Operations.\n",
    "\n",
    "<span style=\"color:orange\">1] Create an array that starts from the integer 1, ends at 20, incremented by 3.</span>"
   ]
  },
  {
   "cell_type": "code",
   "execution_count": 1,
   "metadata": {},
   "outputs": [
    {
     "name": "stdout",
     "output_type": "stream",
     "text": [
      "Array from 1 to 20 incremented by 3 are :  [ 1  4  7 10 13 16 19]\n"
     ]
    }
   ],
   "source": [
    "import numpy as np\n",
    "nums=np.arange(1,20,3)\n",
    "print(\"Array from 1 to 20 incremented by 3 are : \", nums)"
   ]
  },
  {
   "cell_type": "markdown",
   "metadata": {},
   "source": [
    "<span style=\"color:orange\">2] Create a new array of shape 3 with random numbers between 0 and 1.</span>"
   ]
  },
  {
   "cell_type": "code",
   "execution_count": 2,
   "metadata": {},
   "outputs": [
    {
     "name": "stdout",
     "output_type": "stream",
     "text": [
      "[0.82698864 0.06750584 0.26329166]\n"
     ]
    }
   ],
   "source": [
    "random_nums=np.random.rand(3)\n",
    "print(random_nums)"
   ]
  },
  {
   "cell_type": "markdown",
   "metadata": {},
   "source": [
    "<span style=\"color:orange\">3] Create a 2 D array `[[10,20,45], [30,12,16], [42,17,56]]` and perform the following operations: \n",
    " - Slice the 2D array to get the first two rows, slice the 2D array to get the last two rows.</span>"
   ]
  },
  {
   "cell_type": "code",
   "execution_count": 3,
   "metadata": {},
   "outputs": [
    {
     "name": "stdout",
     "output_type": "stream",
     "text": [
      "First 2 rows:\n",
      " [[10 20 45]\n",
      " [30 12 16]]\n",
      "Last 2 rows:\n",
      " [[30 12 16]\n",
      " [42 17 56]]\n"
     ]
    }
   ],
   "source": [
    "# Array Created\n",
    "arr3 = np.array([[10,20,45], [30,12,16], [42,17,56]])\n",
    "\n",
    "# Slicing of Array\n",
    "print(\"First 2 rows:\\n\",arr3[:2])\n",
    "print(\"Last 2 rows:\\n\",arr3[1:])"
   ]
  },
  {
   "cell_type": "markdown",
   "metadata": {},
   "source": [
    "<span style=\"color:orange\">4] Create two 2x2 arrays and demonstrate how you can stack the elements vertically, horizontally, and split the arrays into smaller arrays.</span>"
   ]
  },
  {
   "cell_type": "code",
   "execution_count": 4,
   "metadata": {},
   "outputs": [
    {
     "name": "stdout",
     "output_type": "stream",
     "text": [
      "\n",
      "Array 4a:\n",
      "[[1 2]\n",
      " [3 4]]\n",
      "\n",
      "Array 4b:\n",
      "[[5 6]\n",
      " [7 8]]\n",
      "\n",
      "Stacked vertically:\n",
      "[[1 2]\n",
      " [3 4]\n",
      " [5 6]\n",
      " [7 8]]\n",
      "\n",
      "Stacked horizontally:\n",
      "[[1 2 5 6]\n",
      " [3 4 7 8]]\n",
      "\n",
      "Splited Smaller Arrays:\n",
      "[array([[1, 2, 5, 6]]), array([[3, 4, 7, 8]])]\n"
     ]
    }
   ],
   "source": [
    "# Two 2x2 arrays\n",
    "arr4a = np.array([[1, 2], [3, 4]])\n",
    "arr4b = np.array([[5, 6], [7, 8]])\n",
    "print(\"\\nArray 4a:\")\n",
    "print(arr4a)\n",
    "print(\"\\nArray 4b:\")\n",
    "print(arr4b)\n",
    "\n",
    "# vertically Stacked\n",
    "stacked_vertically = np.vstack((arr4a, arr4b))\n",
    "print(\"\\nStacked vertically:\")\n",
    "print(stacked_vertically)\n",
    "\n",
    "# horizontally Stacked\n",
    "stacked_horizontally = np.hstack((arr4a, arr4b))\n",
    "print(\"\\nStacked horizontally:\")\n",
    "print(stacked_horizontally)\n",
    "\n",
    "# Split into smaller arrays\n",
    "split_arrays = np.split(stacked_horizontally, 2)\n",
    "print(\"\\nSplited Smaller Arrays:\")\n",
    "print(split_arrays)\n"
   ]
  },
  {
   "cell_type": "markdown",
   "metadata": {},
   "source": [
    "<span style=\"color:orange\">5] Create two matrices `X= ([[5, 7, 2], [4, 5, 6], [7, 4 ,2]]) Y= ([[4, 2], [6, 2], [4, 2]]),` \n",
    "- Is it possible to multiply these matrices? \n",
    " <br> **Answer**: A matrix of shape (m, n) can be multiplied with a matrix of size (p,q) if and only if n and p are equal, then the shape of the resultant matrix will be (m,q). In the given example of X is a matrix of shape (3,3) and Y is of shape (3,2), Thus, number of columns of X is equal to number of rows of Y. Thus it is possible to multiply x with Y. The resultant matrix will be of size (3,2). But the reverse is not possible i.e. (2,3)\n",
    "\n",
    "- Demonstrate the case when it is not possible to.\n",
    " <br>**Answer:** When we try to multiply Y with X, we can't multiply. Both examples are demonstrated below.</span>"
   ]
  },
  {
   "cell_type": "code",
   "execution_count": 5,
   "metadata": {},
   "outputs": [
    {
     "name": "stdout",
     "output_type": "stream",
     "text": [
      "=> X * Y \n",
      " [[70 28]\n",
      " [70 30]\n",
      " [60 26]]\n",
      "Not possible to multiply Y * X\n",
      "The number of columns of Y is not equal to the row of X\n"
     ]
    }
   ],
   "source": [
    "# Two Matrices X(3,3) and Y(3,2)\n",
    "X=np.array([[5, 7, 2], [4, 5, 6], [7, 4 ,2]])\n",
    "Y=np.array([[4, 2], [6, 2], [4, 2]])\n",
    "\n",
    "# Multiplying X*Y\n",
    "if(X.shape[1]==Y.shape[0]):\n",
    "    print(\"=> X * Y \\n\",np.matmul(X,Y))\n",
    "else:\n",
    "    print(\"Not possible to multiply X * Y\")\n",
    "    print(\"The number of columns of X is not equal to the row of Y\")\n",
    "    \n",
    "# Multiplying Y*X\n",
    "if(Y.shape[1]==X.shape[0]):\n",
    "    print(\"=> Y * X  \\n\",np.matmul(Y,X))\n",
    "else:\n",
    "    print(\"Not possible to multiply Y * X\")\n",
    "    print(\"The number of columns of Y is not equal to the row of X\")"
   ]
  },
  {
   "cell_type": "markdown",
   "metadata": {},
   "source": [
    "<span style=\"color:orange\">6] Create two arrays, `x = ([2, -1, -8]) y = ([3, 1, -2]),`\n",
    "- Find the Shape, Number of dimensions of vector x.\n",
    "- Reshape the vector x to a matrix of size (3,1) and determine the number of dimensions after reshaping y to a matrix of (3,1).</span>"
   ]
  },
  {
   "cell_type": "code",
   "execution_count": 6,
   "metadata": {},
   "outputs": [
    {
     "name": "stdout",
     "output_type": "stream",
     "text": [
      "Shape of X= (3,)\n",
      "Shape of Y= (3,)\n",
      "Dimension of vector X= 1\n",
      "\n",
      "Reshaped X:\n",
      "[[ 2]\n",
      " [-1]\n",
      " [-8]]\n",
      "\n",
      "Reshaped Y:\n",
      "[[ 3]\n",
      " [ 1]\n",
      " [-2]]\n",
      "Number of dimensions after reshaping Y: 2\n"
     ]
    }
   ],
   "source": [
    "#Two Arrays\n",
    "X=np.array([2, -1, -8])\n",
    "Y=np.array([3, 1, -2])\n",
    "\n",
    "# Shape of Arrays\n",
    "print(\"Shape of X=\",X.shape)\n",
    "print(\"Shape of Y=\",Y.shape)\n",
    "\n",
    "# Dimension of X\n",
    "print(\"Dimension of vector X=\",X.ndim)\n",
    "\n",
    "# Reshape X and Y to (3, 1) matrix\n",
    "x_reshaped = X.reshape((3, 1))\n",
    "y_reshaped = Y.reshape((3, 1))\n",
    "print(\"\\nReshaped X:\")\n",
    "print(x_reshaped)\n",
    "print(\"\\nReshaped Y:\")\n",
    "print(y_reshaped)\n",
    "print(\"Number of dimensions after reshaping Y:\", y_reshaped.ndim)"
   ]
  },
  {
   "cell_type": "markdown",
   "metadata": {},
   "source": [
    "<span style=\"color:orange\">7] How does broadcasting work? Demonstrate the subtraction, multiplication by considering a 3 x 3 matrix.</span>\n",
    "<br>**Answer :** Broadcasting in NumPy refers to its capability to handle arrays with varying shapes for arithmetic operations. Arrays are considered compatible for broadcasting if they share the same size or if one of them has a size of one. "
   ]
  },
  {
   "cell_type": "code",
   "execution_count": 7,
   "metadata": {},
   "outputs": [
    {
     "name": "stdout",
     "output_type": "stream",
     "text": [
      "\n",
      "Matrix 7:\n",
      "[[1 2 3]\n",
      " [4 5 6]\n",
      " [7 8 9]]\n",
      "\n",
      "Result of subtraction:\n",
      "[[0 1 2]\n",
      " [3 4 5]\n",
      " [6 7 8]]\n",
      "\n",
      "Result of multiplication:\n",
      "[[ 2  4  6]\n",
      " [ 8 10 12]\n",
      " [14 16 18]]\n"
     ]
    }
   ],
   "source": [
    "# One 3x3 matrix\n",
    "mat7 = np.array([[1, 2, 3], [4, 5, 6], [7, 8, 9]])\n",
    "print(\"\\nMatrix 7:\")\n",
    "print(mat7)\n",
    "\n",
    "# Subtract 1 from all elements using broadcasting\n",
    "subtracted_matrix = mat7 - 1\n",
    "print(\"\\nResult of subtraction:\")\n",
    "print(subtracted_matrix)\n",
    "\n",
    "# Multiply by 2 using broadcasting\n",
    "multiplicated_matrix = mat7 * 2\n",
    "print(\"\\nResult of multiplication:\")\n",
    "print(multiplicated_matrix)\n"
   ]
  },
  {
   "cell_type": "markdown",
   "metadata": {},
   "source": [
    "---\n",
    "## Part B- Linear Equations\n",
    "Determine the singularity of the system of equations, comment on the expected solution of the system. Solve the system of equations if possible. Justify the reason why you believe the system can or cannot be solved using numpy functions.\n",
    "### <span style=\"color:orange\">Part B.1</span>\n",
    "\n",
    "1. 4x + y - 2z = 10\n",
    "2. 2x - 3y + 2z = -4\n",
    "3. x + 2y + 3z = 6\n",
    "\n",
    "<span style=\"color:green\">Answer:</span>\n",
    "==> To determine singularity, we can check if the determinant of the coefficient matrix. If the determinant is zero, the system is singular, and there may be either no solutions or infinitely many solutions.\n",
    "\n",
    "Let's calculate the determinant and solve the system:"
   ]
  },
  {
   "cell_type": "code",
   "execution_count": 8,
   "metadata": {},
   "outputs": [
    {
     "name": "stdout",
     "output_type": "stream",
     "text": [
      "It is a Non- singular System:\n",
      "Solution of x, y, and z : [ 1.8  2.4 -0.2]\n"
     ]
    }
   ],
   "source": [
    "coefficient_matrix=np.array([[4, 1, -2], [2, -3, 2], [1, 2, 3]])\n",
    "right_hand_side_vector=np.array([10,-4,6])\n",
    "\n",
    "#Calculate determinant of the coefficient matrix\n",
    "det_matrix = np.linalg.det(coefficient_matrix)\n",
    "\n",
    "if det_matrix==0:\n",
    "    print(\"The system is singular, and there may be no solutions or infinitely many solutions.\")\n",
    "else:\n",
    "    #if it is a non-singular system then Solve it\n",
    "    print(\"It is a Non- singular System:\")\n",
    "    resultant_matrix=np.linalg.solve(coefficient_matrix,right_hand_side_vector)\n",
    "    print(\"Solution of x, y, and z :\",resultant_matrix)\n"
   ]
  },
  {
   "cell_type": "markdown",
   "metadata": {},
   "source": [
    "### <span style=\"color:orange\">Part B.2</span>\n",
    "1. 2x - y + 3z + 4w = 10\n",
    "2. 4x - 2y + 6z + 8w = 20\n",
    "3. 3x + y - 2z + 2w = 3\n",
    "4. x + 3y - 4z + w = -1"
   ]
  },
  {
   "cell_type": "code",
   "execution_count": 9,
   "metadata": {},
   "outputs": [
    {
     "name": "stdout",
     "output_type": "stream",
     "text": [
      "The system is singular, and there may be no solutions or infinitely many solutions.\n"
     ]
    }
   ],
   "source": [
    "# Coefficient matrix\n",
    "coefficient_matrix = np.array([[2, -1, 3, 4], [4, -2, 6, 8], [3, 1, -2, 2], [1, 3, -4, 1]])\n",
    "\n",
    "# Right-hand side vector\n",
    "right_hand_side_vector = np.array([10, 20, 3, -1])\n",
    "\n",
    "# Calculate the determinant\n",
    "det_matrix = np.linalg.det(coefficient_matrix)\n",
    "\n",
    "if det_matrix == 0:\n",
    "    print(\"The system is singular, and there may be no solutions or infinitely many solutions.\")\n",
    "else:\n",
    "    # if it is a non-singular System then Solve it\n",
    "    resultant_matrix = np.linalg.solve(coefficient_matrix, right_hand_side_vector)\n",
    "    print(\"Solution for x, y, z, and w:\")\n",
    "    print(resultant_matrix)\n"
   ]
  },
  {
   "cell_type": "code",
   "execution_count": null,
   "metadata": {},
   "outputs": [],
   "source": []
  }
 ],
 "metadata": {
  "kernelspec": {
   "display_name": "CSCN8010_classic_ml",
   "language": "python",
   "name": "cscn8010_classic_ml"
  },
  "language_info": {
   "codemirror_mode": {
    "name": "ipython",
    "version": 3
   },
   "file_extension": ".py",
   "mimetype": "text/x-python",
   "name": "python",
   "nbconvert_exporter": "python",
   "pygments_lexer": "ipython3",
   "version": "3.11.5"
  },
  "orig_nbformat": 4
 },
 "nbformat": 4,
 "nbformat_minor": 2
}
