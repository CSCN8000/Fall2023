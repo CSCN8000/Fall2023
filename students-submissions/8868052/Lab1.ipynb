{
 "cells": [
  {
   "cell_type": "markdown",
   "metadata": {},
   "source": [
    "# CSCN8000 Lab-1\n",
    "Name: Devanshi Joshi   \n",
    "Id: 8868052  \n",
    "\n",
    "#### Part-A - Demonstrating NumPy Operations "
   ]
  },
  {
   "cell_type": "code",
   "execution_count": 2,
   "metadata": {},
   "outputs": [],
   "source": [
    "# Importing the necessary libraries required \n",
    "import numpy as np"
   ]
  },
  {
   "cell_type": "markdown",
   "metadata": {},
   "source": [
    "1. Create an array that starts from the integer 1, ends at 20, incremented by 3."
   ]
  },
  {
   "cell_type": "code",
   "execution_count": 2,
   "metadata": {},
   "outputs": [
    {
     "name": "stdout",
     "output_type": "stream",
     "text": [
      "[ 1  4  7 10 13 16 19]\n"
     ]
    }
   ],
   "source": [
    "array1 = np.arange(1, 21, 3)\n",
    "print(array1)"
   ]
  },
  {
   "cell_type": "markdown",
   "metadata": {},
   "source": [
    "The above code uses the np.arange function. The np.arange function is used to create an array of evenly spaced values within a specified range which in our case is from 1 to 20."
   ]
  },
  {
   "cell_type": "markdown",
   "metadata": {},
   "source": [
    "2. Create a new array of shape 3 with random numbers between 0 and 1."
   ]
  },
  {
   "cell_type": "code",
   "execution_count": 3,
   "metadata": {},
   "outputs": [
    {
     "name": "stdout",
     "output_type": "stream",
     "text": [
      "[0.93242338 0.03698687 0.69074013]\n"
     ]
    }
   ],
   "source": [
    "array2 = np.random.rand(3)\n",
    "print(array2)"
   ]
  },
  {
   "cell_type": "markdown",
   "metadata": {},
   "source": [
    "The above code uses the np.random.rand(3) function that generates 3 random float numbers between 0 (inclusive) and 1 (exclusive)."
   ]
  },
  {
   "cell_type": "markdown",
   "metadata": {},
   "source": [
    "3. Create a 2D array [[10,20,45], [30,12,16], [42,17,56]] and perform the requested operations.   \n",
    "Slice the 2D array to get the first two rows, slice the 2D array to get the last two rows."
   ]
  },
  {
   "cell_type": "code",
   "execution_count": 4,
   "metadata": {},
   "outputs": [
    {
     "name": "stdout",
     "output_type": "stream",
     "text": [
      "First two rows:\n",
      "[[10 20 45]\n",
      " [30 12 16]]\n",
      "Last two rows:\n",
      "[[30 12 16]\n",
      " [42 17 56]]\n"
     ]
    }
   ],
   "source": [
    "array3 = np.array([[10, 20, 45], [30, 12, 16], [42, 17, 56]])\n",
    "\n",
    "# Slice the 2D array to get the first two rows\n",
    "first_two_rows = array3[:2, :]\n",
    "\n",
    "# Slice the 2D array to get the last two rows\n",
    "last_two_rows = array3[1:, :]\n",
    "\n",
    "print(\"First two rows:\")\n",
    "print(first_two_rows)\n",
    "\n",
    "print(\"Last two rows:\")\n",
    "print(last_two_rows)\n"
   ]
  },
  {
   "cell_type": "markdown",
   "metadata": {},
   "source": [
    "I have defined an array which has 3 rows and 3 columns. I have used slicing to extract the first two and the last two rows of the array."
   ]
  },
  {
   "cell_type": "markdown",
   "metadata": {},
   "source": [
    "4. Create two 2x2 arrays and demonstrate how you can stack the elements vertically, horizontally, and split the arrays into smaller arrays."
   ]
  },
  {
   "cell_type": "code",
   "execution_count": 16,
   "metadata": {},
   "outputs": [
    {
     "name": "stdout",
     "output_type": "stream",
     "text": [
      "Stacked vertically:\n",
      "[[12 35]\n",
      " [23 42]\n",
      " [25 32]\n",
      " [17 28]]\n",
      "Stacked horizontally:\n",
      "[[12 35 25 32]\n",
      " [23 42 17 28]]\n",
      "Split vertically:\n",
      "[array([[12, 35],\n",
      "       [23, 42]]), array([[25, 32],\n",
      "       [17, 28]])]\n",
      "Split horizontally:\n",
      "[array([[12, 35, 25, 32]]), array([[23, 42, 17, 28]])]\n"
     ]
    }
   ],
   "source": [
    "array4 = np.array([[12, 35], [23, 42]])\n",
    "array5 = np.array([[25, 32], [17, 28]])\n",
    "\n",
    "# Stack vertically\n",
    "stacked_vertically = np.vstack((array4, array5))\n",
    "\n",
    "# Stack horizontally\n",
    "stacked_horizontally = np.hstack((array4, array5))\n",
    "\n",
    "# Split the arrays\n",
    "split_vertically = np.split(stacked_vertically, 2)\n",
    "split_horizontally = np.split(stacked_horizontally, 2)\n",
    "\n",
    "print(\"Stacked vertically:\")\n",
    "print(stacked_vertically)\n",
    "\n",
    "print(\"Stacked horizontally:\")\n",
    "print(stacked_horizontally)\n",
    "\n",
    "print(\"Split vertically:\")\n",
    "print(split_vertically)\n",
    "\n",
    "print(\"Split horizontally:\")\n",
    "print(split_horizontally)\n"
   ]
  },
  {
   "cell_type": "markdown",
   "metadata": {},
   "source": [
    "Two 2x2 arrays have been defined for this example.   \n",
    "The function vstack is used to stack the arrays vertidcally which results in a 4x2 matrix.   \n",
    "The function hstack is used to stack the arrays horizontally which results in a 2x4 matrix.   \n",
    "For splitting the matrix vertically and horizontally the split function has been used. "
   ]
  },
  {
   "cell_type": "markdown",
   "metadata": {},
   "source": [
    "5. Create two matrices X= ([[5, 7, 2], [4, 5, 6], [7, 4 ,2]]) Y= ([[4, 2], [6, 2], [4, 2]])   \n",
    "- Is it possible to multiply these matrices?   "
   ]
  },
  {
   "cell_type": "code",
   "execution_count": 7,
   "metadata": {},
   "outputs": [
    {
     "name": "stdout",
     "output_type": "stream",
     "text": [
      "Matrix multiplication is possible.\n",
      "Result:\n",
      "[[70 28]\n",
      " [70 30]\n",
      " [60 26]]\n"
     ]
    }
   ],
   "source": [
    "X = np.array([[5, 7, 2], [4, 5, 6], [7, 4, 2]])\n",
    "Y = np.array([[4, 2], [6, 2], [4, 2]])\n",
    "\n",
    "# Check if multiplication is possible\n",
    "if X.shape[1] == Y.shape[0]:\n",
    "    result = np.dot(X, Y)\n",
    "    print(\"Matrix multiplication is possible.\")\n",
    "    print(\"Result:\")\n",
    "    print(result)\n",
    "else:\n",
    "    print(\"Matrix multiplication is not possible.\")\n"
   ]
  },
  {
   "cell_type": "markdown",
   "metadata": {},
   "source": [
    "This code checks if matrix multiplication between matrices X and Y is possible. X is a 3x3 matrix and Y is a 3x2 matrix. As per the mulitplication rule the number of columns in the first matrix should be equal to the number of rows in the second matrix. "
   ]
  },
  {
   "cell_type": "markdown",
   "metadata": {},
   "source": [
    "- Demonstrate the case when it is not possible to."
   ]
  },
  {
   "cell_type": "code",
   "execution_count": 13,
   "metadata": {},
   "outputs": [
    {
     "name": "stdout",
     "output_type": "stream",
     "text": [
      "Matrix multiplication is not possible.\n"
     ]
    }
   ],
   "source": [
    "X = np.array([[5, 7, 2], [4, 5, 6], [7, 4, 2]])\n",
    "Y = np.array([[4, 2], [6, 2], [4, 2]])\n",
    "\n",
    "# Reshaping the arrays X and Y to demonstrate a case where matrix multiplication is not possible\n",
    "X_reshaped = X.reshape(9, 1)  \n",
    "Y_reshaped = Y.reshape(3, 2)  \n",
    "\n",
    "# Condition to check if matrix multiplication is possible\n",
    "if X_reshaped.shape[1] == Y_reshaped.shape[0]:\n",
    "    result = np.dot(X_reshaped, Y_reshaped)\n",
    "    print(\"Matrix multiplication is possible.\")\n",
    "    print(\"Result:\")\n",
    "    print(result)\n",
    "else:\n",
    "    print(\"Matrix multiplication is not possible.\")\n"
   ]
  },
  {
   "cell_type": "markdown",
   "metadata": {},
   "source": [
    "For demonstrating the case where matrix multiplication is not possible I have reshaped the matrix X as a 9x1 matrix and Y as a 3x2 matrix. The number of columns in the first matrix is 1 and the number of rows in the second matrix is 3. The reshaping of the matrix enables the demonstration of the case where the matrix multiplication is not possible.  "
   ]
  },
  {
   "cell_type": "markdown",
   "metadata": {},
   "source": [
    "6. Create two arrays, x = ([2, -1, -8]) y = ([3, 1, -2]),\n",
    "- Find the Shape, Number of dimensions of vector x.\n",
    "- Reshape the vector x to a matrix of size (3,1) and determine the number of dimensions after reshaping y to a matrix of (3,1).\n"
   ]
  },
  {
   "cell_type": "code",
   "execution_count": 14,
   "metadata": {},
   "outputs": [
    {
     "name": "stdout",
     "output_type": "stream",
     "text": [
      "Shape of x: (3,)\n",
      "Number of dimensions of x: 1\n",
      "Reshaped x:\n",
      "[[ 2]\n",
      " [-1]\n",
      " [-8]]\n",
      "Number of dimensions of reshaped y: 2\n"
     ]
    }
   ],
   "source": [
    "x = np.array([2, -1, -8])\n",
    "y = np.array([3, 1, -2])\n",
    "\n",
    "# Finding the shape and number of dimensions of vector x\n",
    "x_shape = x.shape\n",
    "x_dims = x.ndim\n",
    "\n",
    "# Reshaping x to a matrix of size (3, 1)\n",
    "x_reshaped = x.reshape(3, 1)\n",
    "\n",
    "# Reshaping y to a matrix of size (3, 1) and determining the number of dimensions\n",
    "y_reshaped = y.reshape(3, 1)\n",
    "y_reshaped_dims = y_reshaped.ndim\n",
    "\n",
    "# Printing the results \n",
    "print(\"Shape of x:\", x_shape)\n",
    "print(\"Number of dimensions of x:\", x_dims)\n",
    "print(\"Reshaped x:\")\n",
    "print(x_reshaped)\n",
    "print(\"Number of dimensions of reshaped y:\", y_reshaped_dims)\n"
   ]
  },
  {
   "cell_type": "markdown",
   "metadata": {},
   "source": [
    "The code will display the shape and number of dimensions of vector x. and reshape both x and y into matrices of size (3, 1) and determine the number of dimensions of the reshaped y."
   ]
  },
  {
   "cell_type": "markdown",
   "metadata": {},
   "source": [
    "7. How does broadcasting work? Demonstrate the subtraction, multiplication by considering a 3 x 3 matrix."
   ]
  },
  {
   "cell_type": "code",
   "execution_count": 15,
   "metadata": {},
   "outputs": [
    {
     "name": "stdout",
     "output_type": "stream",
     "text": [
      "Matrix A:\n",
      "[[11  2 31]\n",
      " [14  5 16]\n",
      " [ 7 18 29]]\n",
      "Subtracting a scalar:\n",
      "[[ 9  0 29]\n",
      " [12  3 14]\n",
      " [ 5 16 27]]\n",
      "Multiplying by a scalar:\n",
      "[[22  4 62]\n",
      " [28 10 32]\n",
      " [14 36 58]]\n"
     ]
    }
   ],
   "source": [
    "matrix_a = np.array([[11, 2, 31], [14, 5, 16], [7, 18, 29]])\n",
    "scalar_b = 2\n",
    "\n",
    "# Subtract scalar_b from each element of matrix_a\n",
    "result_subtraction = matrix_a - scalar_b\n",
    "\n",
    "# Multiply each element of matrix_a by scalar_b\n",
    "result_multiplication = matrix_a * scalar_b\n",
    "\n",
    "print(\"Matrix A:\")\n",
    "print(matrix_a)\n",
    "\n",
    "print(\"Subtracting a scalar:\")\n",
    "print(result_subtraction)\n",
    "\n",
    "print(\"Multiplying by a scalar:\")\n",
    "print(result_multiplication)\n"
   ]
  },
  {
   "cell_type": "markdown",
   "metadata": {},
   "source": [
    "NumPy's broadcasting feature enables element-wise operations on various array forms. For the element-wise operation in broadcasting, the scalar is automatically expanded to take the shape of the matrix.   \n",
    "The code subtracts the scalar value scalar_b (which is 2) from each element of matrix_a, creating a new matrix result_subtraction with the same dimensions as matrix_a. Further it multiplies each element of matrix_a by the scalar value scalar_b, creating a new matrix result_multiplication with the same dimensions as matrix_a."
   ]
  },
  {
   "cell_type": "markdown",
   "metadata": {},
   "source": [
    "#### Part-B - Linear Equations \n",
    "##### Determine the singularity of the system of equations, comment on the expected solution of the system. Solve the system of equations if possible. Justify the reason why you believe the system can or cannot be solved using numpy functions.\n",
    "##### Part-B.1\n"
   ]
  },
  {
   "cell_type": "markdown",
   "metadata": {},
   "source": [
    "    4x + y - 2z = 10\n",
    "    2x - 3y + 2z = -4\n",
    "    x + 2y + 3z = 6\n",
    "    \n"
   ]
  },
  {
   "cell_type": "markdown",
   "metadata": {},
   "source": [
    "To determine the singularity of the system i.e., if it has a unique solution, we can use the determinant of matrix A. \n",
    "- If the determinant of matrix A is non-zero, the system has a unique solution. \n",
    "- If the determinant is zero, the system is singular and may have either no solutions or infinitely many solutions.\n",
    "\n",
    "If the determinant of A is non-zero, the code will print that the system is not singular and will provide the unique solution using NumPy's linalg.solve function. Otherwise, it will print that the system is singular, indicating that there may be no solutions or infinitely many solutions."
   ]
  },
  {
   "cell_type": "code",
   "execution_count": 4,
   "metadata": {},
   "outputs": [
    {
     "name": "stdout",
     "output_type": "stream",
     "text": [
      "The system is not singular, and it has a unique solution.\n",
      "Solution (x, y, z): [ 1.8  2.4 -0.2]\n"
     ]
    }
   ],
   "source": [
    "A = np.array([[4, 1, -2],\n",
    "              [2, -3, 2],\n",
    "              [1, 2, 3]])\n",
    "\n",
    "# Finding the determinant of the matrix A \n",
    "det_A = np.linalg.det(A)\n",
    "\n",
    "if det_A != 0:\n",
    "    print(\"The system is not singular, and it has a unique solution.\")\n",
    "    b = np.array([10, -4, 6])\n",
    "    x = np.linalg.solve(A, b)\n",
    "    print(\"Solution (x, y, z):\", x)\n",
    "else:\n",
    "    print(\"The system is singular, and it may have either no solutions or infinitely many solutions.\")"
   ]
  },
  {
   "cell_type": "markdown",
   "metadata": {},
   "source": [
    "The solution that was provided concludes the the value of x = 1.8, y = 2.4 and z = -0.2   \n",
    "When the values are substituted in the original linear equations the results obtained confirm that the values are correct  \n",
    " \n",
    "    4(1.8) + 2.4 -2(-0.2) = 7.2 + 2.4 + 0.4 = 10   \n",
    "    2(1.8) - 3(2.4) + 2(-0.2) = 3.6 - 7.2 - 0.4 = -4   \n",
    "    1.8 + 2(2.4) + 3(-0.2) = 1.8 + 4.8 - 0.6 = 6   "
   ]
  },
  {
   "cell_type": "markdown",
   "metadata": {},
   "source": [
    "##### Part-B.2\n",
    "\n",
    "    2x - y + 3z + 4w = 10\n",
    "    4x - 2y + 6z + 8w = 20\n",
    "    3x + y - 2z + 2w = 3\n",
    "    x + 3y - 4z + w = -1\n"
   ]
  },
  {
   "cell_type": "code",
   "execution_count": 8,
   "metadata": {},
   "outputs": [
    {
     "name": "stdout",
     "output_type": "stream",
     "text": [
      "The system is singular, and it may have either no solutions or infinitely many solutions.\n"
     ]
    }
   ],
   "source": [
    "A = np.array([[2, -1, 3, 4],\n",
    "              [4, -2, 6, 8],\n",
    "              [3, 1, -2, 2],\n",
    "              [1, 3, -4, 1]])\n",
    "\n",
    "# Calculate the determinant of A\n",
    "det_A = np.linalg.det(A)\n",
    "if det_A != 0:\n",
    "    print(\"The system is not singular, and it has a unique solution.\")\n",
    "    b = np.array([10, 20, 3, -1])\n",
    "    x = np.linalg.solve(A, b)\n",
    "    print(\"Solution (x, y, z, w):\", x)\n",
    "else:\n",
    "    print(\"The system is singular, and it may have either no solutions or infinitely many solutions.\")\n"
   ]
  },
  {
   "cell_type": "markdown",
   "metadata": {},
   "source": [
    "The message \"The system is singular, and it may have either no solutions or infinitely many solutions\" indicates that matrix A of the system is singular, which denotes that its determinant is zero. When the determinant of the matrix is zero, it indicates that the system of equations may have multiple solutions, or it may be inconsistent (no solutions).   \n",
    "A system of linear equations with a singular matrix (zero determinant) indicates that the columns are linearly dependent, leading to an underdetermined system. Infinite solutions occur when the system has infinitely many solutions, resulting in multiple sets of variables satisfying the equations simultaneously. This is underdetermined because there are more variables than independent equations. Traditional Gaussian elimination or numpy's linalg.solve function cannot find a unique solution due to the infinite number of solutions. Instead, a square matrix with a non-zero determinant is needed to find a unique solution."
   ]
  }
 ],
 "metadata": {
  "kernelspec": {
   "display_name": "CSCN8010_classic_ml",
   "language": "python",
   "name": "python3"
  },
  "language_info": {
   "codemirror_mode": {
    "name": "ipython",
    "version": 3
   },
   "file_extension": ".py",
   "mimetype": "text/x-python",
   "name": "python",
   "nbconvert_exporter": "python",
   "pygments_lexer": "ipython3",
   "version": "3.11.3"
  },
  "orig_nbformat": 4
 },
 "nbformat": 4,
 "nbformat_minor": 2
}
