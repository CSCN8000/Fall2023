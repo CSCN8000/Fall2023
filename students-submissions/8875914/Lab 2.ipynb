{
 "cells": [
  {
   "cell_type": "code",
   "execution_count": 89,
   "id": "8c6644bb",
   "metadata": {},
   "outputs": [],
   "source": [
    "# Imprting Libraries\n",
    "import pandas as pd\n",
    "import numpy as np\n",
    "from sklearn.feature_extraction.text import CountVectorizer\n",
    "import re\n",
    "import nltk\n",
    "from nltk.corpus import stopwords\n",
    "from nltk.tokenize import word_tokenize\n",
    "from sklearn.model_selection import train_test_split\n",
    "from sklearn.svm import SVC\n",
    "from sklearn.naive_bayes import GaussianNB, MultinomialNB\n",
    "from sklearn.metrics import accuracy_score, classification_report\n",
    "from sklearn.metrics import confusion_matrix\n",
    "import seaborn as sns\n",
    "import matplotlib.pyplot as plt\n",
    "from scipy import stats\n"
   ]
  },
  {
   "cell_type": "code",
   "execution_count": 62,
   "id": "ad21e8e4",
   "metadata": {},
   "outputs": [],
   "source": [
    "# Importing the Data\n",
    "lab2_data = pd.read_csv('Lab2_dataset.csv')"
   ]
  },
  {
   "cell_type": "code",
   "execution_count": 63,
   "id": "353ef5f4",
   "metadata": {},
   "outputs": [
    {
     "data": {
      "text/html": [
       "<div>\n",
       "<style scoped>\n",
       "    .dataframe tbody tr th:only-of-type {\n",
       "        vertical-align: middle;\n",
       "    }\n",
       "\n",
       "    .dataframe tbody tr th {\n",
       "        vertical-align: top;\n",
       "    }\n",
       "\n",
       "    .dataframe thead th {\n",
       "        text-align: right;\n",
       "    }\n",
       "</style>\n",
       "<table border=\"1\" class=\"dataframe\">\n",
       "  <thead>\n",
       "    <tr style=\"text-align: right;\">\n",
       "      <th></th>\n",
       "      <th>Unnamed: 0</th>\n",
       "      <th>label</th>\n",
       "      <th>text</th>\n",
       "      <th>label_num</th>\n",
       "    </tr>\n",
       "  </thead>\n",
       "  <tbody>\n",
       "    <tr>\n",
       "      <th>0</th>\n",
       "      <td>605</td>\n",
       "      <td>ham</td>\n",
       "      <td>Subject: enron methanol ; meter # : 988291\\nth...</td>\n",
       "      <td>0</td>\n",
       "    </tr>\n",
       "    <tr>\n",
       "      <th>1</th>\n",
       "      <td>2349</td>\n",
       "      <td>ham</td>\n",
       "      <td>Subject: hpl nom for january 9 , 2001\\n( see a...</td>\n",
       "      <td>0</td>\n",
       "    </tr>\n",
       "    <tr>\n",
       "      <th>2</th>\n",
       "      <td>3624</td>\n",
       "      <td>ham</td>\n",
       "      <td>Subject: neon retreat\\nho ho ho , we ' re arou...</td>\n",
       "      <td>0</td>\n",
       "    </tr>\n",
       "    <tr>\n",
       "      <th>3</th>\n",
       "      <td>4685</td>\n",
       "      <td>spam</td>\n",
       "      <td>Subject: photoshop , windows , office . cheap ...</td>\n",
       "      <td>1</td>\n",
       "    </tr>\n",
       "    <tr>\n",
       "      <th>4</th>\n",
       "      <td>2030</td>\n",
       "      <td>ham</td>\n",
       "      <td>Subject: re : indian springs\\nthis deal is to ...</td>\n",
       "      <td>0</td>\n",
       "    </tr>\n",
       "  </tbody>\n",
       "</table>\n",
       "</div>"
      ],
      "text/plain": [
       "   Unnamed: 0 label                                               text  \\\n",
       "0         605   ham  Subject: enron methanol ; meter # : 988291\\nth...   \n",
       "1        2349   ham  Subject: hpl nom for january 9 , 2001\\n( see a...   \n",
       "2        3624   ham  Subject: neon retreat\\nho ho ho , we ' re arou...   \n",
       "3        4685  spam  Subject: photoshop , windows , office . cheap ...   \n",
       "4        2030   ham  Subject: re : indian springs\\nthis deal is to ...   \n",
       "\n",
       "   label_num  \n",
       "0          0  \n",
       "1          0  \n",
       "2          0  \n",
       "3          1  \n",
       "4          0  "
      ]
     },
     "execution_count": 63,
     "metadata": {},
     "output_type": "execute_result"
    }
   ],
   "source": [
    "lab2_data.head()"
   ]
  },
  {
   "cell_type": "markdown",
   "id": "4e6704ae",
   "metadata": {},
   "source": [
    "### PART A"
   ]
  },
  {
   "cell_type": "markdown",
   "id": "7b93f14e",
   "metadata": {},
   "source": [
    "Use the CountVectorizer function in sklearn to transform the \"text\" feature to a vector representation of a predetermined size.\n",
    "\n",
    "Split the dataset into training and testing"
   ]
  },
  {
   "cell_type": "markdown",
   "id": "bf30d051",
   "metadata": {},
   "source": [
    "#### Data Preprocessing"
   ]
  },
  {
   "cell_type": "code",
   "execution_count": 53,
   "id": "71d3b171",
   "metadata": {},
   "outputs": [],
   "source": [
    "# Removing Stop Words using NLTK\n",
    "\n",
    "stop_words = stopwords.words('english')\n",
    "lab2_data['text'] = lab2_data['text'].apply(lambda x: ' '.join([word for word in x.split() if word not in (stop_words)]))"
   ]
  },
  {
   "cell_type": "code",
   "execution_count": 54,
   "id": "b8ae2b75",
   "metadata": {},
   "outputs": [],
   "source": [
    "# Function for cleaning the text of special characters\n",
    "def parse_text(data):\n",
    "    parsed_list = []\n",
    "    # Removing Websties, Mentions and Hashtags\n",
    "    text = data['text'].to_list()\n",
    "    text = [i.lower() for i in text]\n",
    "    for i in text:\n",
    "        tmp = re.sub('[^A-Za-z0-9 ]+', '', i)\n",
    "        tmp = tmp.replace('\\n', '').strip()\n",
    "        parsed_list.append(tmp)     \n",
    "    return parsed_list"
   ]
  },
  {
   "cell_type": "code",
   "execution_count": 55,
   "id": "b21f2519",
   "metadata": {},
   "outputs": [],
   "source": [
    "lab2_data['text'] = parse_text(lab2_data)"
   ]
  },
  {
   "cell_type": "code",
   "execution_count": 79,
   "id": "2f10eb68",
   "metadata": {},
   "outputs": [],
   "source": [
    "# Function to train and test the models\n",
    "def train_model(data, model_name):\n",
    "    X = data['text']\n",
    "    y = data['label_num']\n",
    "    count_vector = CountVectorizer(max_features=500)\n",
    "    CVArray = count_vector.fit_transform(data['text'].tolist())\n",
    "    X_train, X_test, y_train, y_test = train_test_split(CVArray, y, test_size=0.25, random_state=42)\n",
    "\n",
    "    if model_name == 'SVC':\n",
    "        SVC_Classifier = SVC()\n",
    "        SVC_Classifier.fit(X_train, y_train)\n",
    "        SVC_preds = SVC_Classifier.predict(X_test)\n",
    "        SVC_accuracy = accuracy_score(y_test, SVC_preds)\n",
    "        print('The Accuracy of the SVC Model is : ', SVC_accuracy)\n",
    "        print('\\n The Classification Report for SVC : \\n')\n",
    "        print(classification_report(y_test, SVC_preds))\n",
    "        sns.heatmap(confusion_matrix(y_test, SVC_preds), annot = True,annot_kws={\"size\": 8}, fmt='g')\n",
    "        plt.title(\"Confusion matrix for SVC\")\n",
    "        plt.show()\n",
    "\n",
    "    if model_name == 'GausianNB':\n",
    "        GNB_Classifier = GaussianNB()\n",
    "        GNB_Classifier.fit(X_train.toarray(), y_train)\n",
    "        GNB_preds = GNB_Classifier.predict(X_test.toarray())\n",
    "        GNB_accuracy = accuracy_score(y_test, GNB_preds)\n",
    "        print('The Accuracy of the GausianNB Model is : ', GNB_accuracy)\n",
    "        print('\\n The Classification Report for GausianNB : \\n')\n",
    "        print(classification_report(y_test, GNB_preds))\n",
    "        sns.heatmap(confusion_matrix(y_test, GNB_preds), annot = True,annot_kws={\"size\": 8}, fmt='g')\n",
    "        plt.title(\"Confusion matrix for GausianNB\")\n",
    "        plt.show()\n",
    "        \n",
    "    if model_name == 'MultinomialNB':\n",
    "        MNB_classifier = MultinomialNB()\n",
    "        MNB_classifier.fit(X_train, y_train)\n",
    "        MNB_preds = MNB_classifier.predict(X_test)\n",
    "        MNB_accuracy = accuracy_score(y_test, MNB_preds)\n",
    "        print('The Accuracy of the MultinomialNB Model is : ', MNB_accuracy)\n",
    "        print('\\n The Classification Report for MultinomialNB : \\n')\n",
    "        print(classification_report(y_test, MNB_preds))\n",
    "        sns.heatmap(confusion_matrix(y_test, MNB_preds), annot = True,annot_kws={\"size\": 8}, fmt='g')\n",
    "        plt.title(\"Confusion matrix for MultinomialNB\")\n",
    "        plt.show()\n",
    "        \n",
    "\n",
    "    "
   ]
  },
  {
   "cell_type": "code",
   "execution_count": 87,
   "id": "8ba6ba4c",
   "metadata": {
    "scrolled": false
   },
   "outputs": [
    {
     "name": "stdout",
     "output_type": "stream",
     "text": [
      "##################################################################### \n",
      "\n",
      "The Accuracy of the SVC Model is :  0.9497293116782676\n",
      "\n",
      " The Classification Report for SVC : \n",
      "\n",
      "              precision    recall  f1-score   support\n",
      "\n",
      "           0       0.99      0.94      0.96       930\n",
      "           1       0.87      0.96      0.92       363\n",
      "\n",
      "    accuracy                           0.95      1293\n",
      "   macro avg       0.93      0.95      0.94      1293\n",
      "weighted avg       0.95      0.95      0.95      1293\n",
      "\n"
     ]
    },
    {
     "data": {
      "image/png": "[encoded data removed]",
      "text/plain": [
       "<Figure size 640x480 with 2 Axes>"
      ]
     },
     "metadata": {},
     "output_type": "display_data"
    },
    {
     "name": "stdout",
     "output_type": "stream",
     "text": [
      "#####################################################################\n",
      "\n",
      "\n",
      "\n",
      "##################################################################### \n",
      "\n",
      "The Accuracy of the GausianNB Model is :  0.9319412219644239\n",
      "\n",
      " The Classification Report for GausianNB : \n",
      "\n",
      "              precision    recall  f1-score   support\n",
      "\n",
      "           0       0.99      0.92      0.95       930\n",
      "           1       0.82      0.97      0.89       363\n",
      "\n",
      "    accuracy                           0.93      1293\n",
      "   macro avg       0.90      0.94      0.92      1293\n",
      "weighted avg       0.94      0.93      0.93      1293\n",
      "\n"
     ]
    },
    {
     "data": {
      "image/png": "[encoded data removed]",
      "text/plain": [
       "<Figure size 640x480 with 2 Axes>"
      ]
     },
     "metadata": {},
     "output_type": "display_data"
    },
    {
     "name": "stdout",
     "output_type": "stream",
     "text": [
      "#####################################################################\n",
      "\n",
      "\n",
      "\n",
      "##################################################################### \n",
      "\n",
      "The Accuracy of the MultinomialNB Model is :  0.9079659706109822\n",
      "\n",
      " The Classification Report for MultinomialNB : \n",
      "\n",
      "              precision    recall  f1-score   support\n",
      "\n",
      "           0       0.96      0.91      0.93       930\n",
      "           1       0.80      0.89      0.84       363\n",
      "\n",
      "    accuracy                           0.91      1293\n",
      "   macro avg       0.88      0.90      0.89      1293\n",
      "weighted avg       0.91      0.91      0.91      1293\n",
      "\n"
     ]
    },
    {
     "data": {
      "image/png": "[encoded data removed]",
      "text/plain": [
       "<Figure size 640x480 with 2 Axes>"
      ]
     },
     "metadata": {},
     "output_type": "display_data"
    },
    {
     "name": "stdout",
     "output_type": "stream",
     "text": [
      "#####################################################################\n",
      "\n",
      "\n",
      "\n"
     ]
    }
   ],
   "source": [
    "# Calling the function and retrieving the model outputs\n",
    "\n",
    "models = ['SVC', 'GausianNB', 'MultinomialNB']\n",
    "try:\n",
    "    for i in models:\n",
    "        print(\"##################################################################### \\n\")\n",
    "        train_model(lab2_data, i)\n",
    "        print(\"#####################################################################\")\n",
    "        print('\\n\\n')\n",
    "except Exception as e:\n",
    "    print('Error : ', e)"
   ]
  },
  {
   "cell_type": "markdown",
   "id": "02a0fecd",
   "metadata": {},
   "source": [
    "We can observe the performance of the 3 models,\n",
    "\n",
    "* SVC is best performing classifier with 94% Accuracy\n",
    "* Multinomial Naiva Bayes is the worst performing model is 90% Accuracy.\n",
    "* We can also see above all the models have trouble with generalizing the class associated with 1. This could be due to a multitude of resons such as an imbalanced class. "
   ]
  },
  {
   "cell_type": "markdown",
   "id": "c00dc4a1",
   "metadata": {},
   "source": [
    "### PART B"
   ]
  },
  {
   "cell_type": "code",
   "execution_count": 85,
   "id": "5dc268c4",
   "metadata": {},
   "outputs": [],
   "source": [
    "AB_NYCData = pd.read_csv('AB_NYC_2019.csv')"
   ]
  },
  {
   "cell_type": "code",
   "execution_count": 118,
   "id": "bfcbf03e",
   "metadata": {},
   "outputs": [],
   "source": [
    "def remove_outliers(data,method):\n",
    "\n",
    "    print(\"#####################################################################\")\n",
    "    print(i + '\\n')\n",
    "    print('Shape of the Data before removing the outliers :', data.shape)\n",
    "    if method == 'Z-score':\n",
    "        # Removing Outliers using Z-score method with the standard 3 as threshold\n",
    "        score = np.abs(stats.zscore(data['price']))\n",
    "        final_data = data[(score < 3)]\n",
    "        print('Shape of the Data frame after removing outliers using the Z-score method :', final_data.shape)\n",
    "        print('The number of records deleted after removing outliers : ', data.shape[0] - final_data.shape[0])\n",
    "        print(\"##################################################################### \\n\")\n",
    "\n",
    "    if method == 'Whisker':\n",
    "        # Using Whisker Method to remove the outliers \n",
    "        quantile1 = AB_NYCData['price'].quantile(0.25)\n",
    "        quantile3 = AB_NYCData['price'].quantile(0.75)\n",
    "        iqr = quantile3 - quantile1\n",
    "        lower_range = quantile1 - 1.5 * iqr\n",
    "        upper_range = quantile3 + 1.5 * iqr\n",
    "        final_data = AB_NYCData[(AB_NYCData['price'] >= lower_range) & (AB_NYCData['price'] <= upper_range)]\n",
    "        print('Shape of the Data frame after removing outliers using the Whisker score method :', final_data.shape)\n",
    "        print('The number of records deleted after removing outliers : ', data.shape[0] - final_data.shape[0])\n",
    "        print(\"##################################################################### \\n\")\n",
    "\n",
    "    else:\n",
    "        None\n",
    "    \n",
    "    return final_data"
   ]
  },
  {
   "cell_type": "code",
   "execution_count": 119,
   "id": "235865db",
   "metadata": {},
   "outputs": [
    {
     "name": "stdout",
     "output_type": "stream",
     "text": [
      "#####################################################################\n",
      "Z-score\n",
      "\n",
      "Shape of the Data before removing the outliers : (48895, 16)\n",
      "Shape of the Data frame after removing outliers using the Z-score method : (48507, 16)\n",
      "The number of records deleted after removing outliers :  388\n",
      "##################################################################### \n",
      "\n",
      "#####################################################################\n",
      "Whisker\n",
      "\n",
      "Shape of the Data before removing the outliers : (48895, 16)\n",
      "Shape of the Data frame after removing outliers using the Whisker score method : (45923, 16)\n",
      "The number of records deleted after removing outliers :  2972\n",
      "##################################################################### \n",
      "\n"
     ]
    }
   ],
   "source": [
    "methods = ['Z-score', 'Whisker']\n",
    "for i in methods :\n",
    "    remove_outliers(AB_NYCData,i)\n"
   ]
  },
  {
   "cell_type": "markdown",
   "id": "7977c53d",
   "metadata": {},
   "source": [
    "We can observe the following, \n",
    "\n",
    "* The Z-Score method removed around 388 records.\n",
    "* The Whisker method removed around 2972 records"
   ]
  },
  {
   "cell_type": "code",
   "execution_count": null,
   "id": "a8f8e993",
   "metadata": {},
   "outputs": [],
   "source": []
  },
  {
   "cell_type": "code",
   "execution_count": null,
   "id": "ddf407bb",
   "metadata": {},
   "outputs": [],
   "source": []
  }
 ],
 "metadata": {
  "kernelspec": {
   "display_name": "Python 3 (ipykernel)",
   "language": "python",
   "name": "python3"
  },
  "language_info": {
   "codemirror_mode": {
    "name": "ipython",
    "version": 3
   },
   "file_extension": ".py",
   "mimetype": "text/x-python",
   "name": "python",
   "nbconvert_exporter": "python",
   "pygments_lexer": "ipython3",
   "version": "3.10.9"
  }
 },
 "nbformat": 4,
 "nbformat_minor": 5
}
