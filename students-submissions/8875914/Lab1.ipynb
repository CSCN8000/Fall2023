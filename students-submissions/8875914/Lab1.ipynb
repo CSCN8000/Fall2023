{
 "cells": [
  {
   "cell_type": "code",
   "execution_count": 1,
   "id": "c9e31785",
   "metadata": {},
   "outputs": [],
   "source": [
    "import numpy as np\n"
   ]
  },
  {
   "cell_type": "markdown",
   "id": "552e6016",
   "metadata": {},
   "source": [
    "### PART A"
   ]
  },
  {
   "cell_type": "markdown",
   "id": "3b2a9913",
   "metadata": {},
   "source": [
    "1) Create an array that starts from the integer 1, ends at 20, incremented by 3."
   ]
  },
  {
   "cell_type": "code",
   "execution_count": 2,
   "id": "51944638",
   "metadata": {},
   "outputs": [
    {
     "data": {
      "text/plain": [
       "array([ 1,  4,  7, 10, 13, 16, 19])"
      ]
     },
     "execution_count": 2,
     "metadata": {},
     "output_type": "execute_result"
    }
   ],
   "source": [
    "np.array([i for i in range(1, 21, 3)])"
   ]
  },
  {
   "cell_type": "markdown",
   "id": "1d6532e3",
   "metadata": {},
   "source": [
    "2) Create a new array of shape 3 with random numbers between 0 and 1."
   ]
  },
  {
   "cell_type": "code",
   "execution_count": 3,
   "id": "3122edbc",
   "metadata": {},
   "outputs": [
    {
     "data": {
      "text/plain": [
       "array([0.27986538, 0.57375456, 0.26114382])"
      ]
     },
     "execution_count": 3,
     "metadata": {},
     "output_type": "execute_result"
    }
   ],
   "source": [
    "np.random.rand(3)"
   ]
  },
  {
   "cell_type": "markdown",
   "id": "0f3eb8de",
   "metadata": {},
   "source": [
    "3) Create a 2 D array [[10,20,45], [30,12,16], [42,17,56]] and perform the following operations:\n",
    "Slice the 2D array to get the first two rows, slice the 2D array to get the last two rows."
   ]
  },
  {
   "cell_type": "code",
   "execution_count": 4,
   "id": "44b06e1f",
   "metadata": {},
   "outputs": [],
   "source": [
    "arr = [[10, 20, 45], [30, 12, 16], [42, 17, 56]]"
   ]
  },
  {
   "cell_type": "code",
   "execution_count": 5,
   "id": "02727820",
   "metadata": {},
   "outputs": [
    {
     "data": {
      "text/plain": [
       "[[10, 20, 45], [30, 12, 16]]"
      ]
     },
     "execution_count": 5,
     "metadata": {},
     "output_type": "execute_result"
    }
   ],
   "source": [
    "arr[:2]"
   ]
  },
  {
   "cell_type": "code",
   "execution_count": 6,
   "id": "b2b2a662",
   "metadata": {},
   "outputs": [
    {
     "data": {
      "text/plain": [
       "[[30, 12, 16], [42, 17, 56]]"
      ]
     },
     "execution_count": 6,
     "metadata": {},
     "output_type": "execute_result"
    }
   ],
   "source": [
    "arr[1:]"
   ]
  },
  {
   "cell_type": "markdown",
   "id": "de650006",
   "metadata": {},
   "source": [
    "4) Create two 2x2 arrays and demonstrate how you can stack the elements vertically, horizontally, and split the arrays into smaller arrays."
   ]
  },
  {
   "cell_type": "code",
   "execution_count": 7,
   "id": "ed4ffda7",
   "metadata": {},
   "outputs": [],
   "source": [
    "first_array = np.array([[10, 15],[20, 25]])\n",
    "second_array = np.array([[11, 16],[21, 26]])"
   ]
  },
  {
   "cell_type": "code",
   "execution_count": 8,
   "id": "4c4f81bb",
   "metadata": {},
   "outputs": [
    {
     "data": {
      "text/plain": [
       "array([[10, 15],\n",
       "       [20, 25],\n",
       "       [11, 16],\n",
       "       [21, 26]])"
      ]
     },
     "execution_count": 8,
     "metadata": {},
     "output_type": "execute_result"
    }
   ],
   "source": [
    "# Vertical Stacking\n",
    "np.vstack((first_array, second_array))"
   ]
  },
  {
   "cell_type": "code",
   "execution_count": 9,
   "id": "a1a7ed4e",
   "metadata": {},
   "outputs": [
    {
     "data": {
      "text/plain": [
       "array([[10, 15, 11, 16],\n",
       "       [20, 25, 21, 26]])"
      ]
     },
     "execution_count": 9,
     "metadata": {},
     "output_type": "execute_result"
    }
   ],
   "source": [
    "# Horizontal Stacking\n",
    "np.hstack((first_array, second_array))"
   ]
  },
  {
   "cell_type": "code",
   "execution_count": 10,
   "id": "36f82638",
   "metadata": {},
   "outputs": [
    {
     "data": {
      "text/plain": [
       "[array([[10, 15],\n",
       "        [20, 25]]),\n",
       " array([[11, 16],\n",
       "        [21, 26]])]"
      ]
     },
     "execution_count": 10,
     "metadata": {},
     "output_type": "execute_result"
    }
   ],
   "source": [
    "# Splitting into smaller arrays\n",
    "np.split(np.vstack((first_array, second_array)), 2)"
   ]
  },
  {
   "cell_type": "markdown",
   "id": "cc3bb2f2",
   "metadata": {},
   "source": [
    "5) Create two matrices X= ([[5, 7, 2], [4, 5, 6], [7, 4 ,2]]) Y= ([[4, 2], [6, 2], [4, 2]]),\n",
    "Is it possible to multiply these matrices?\n",
    "Demonstrate the case when it is not possible to."
   ]
  },
  {
   "cell_type": "code",
   "execution_count": 11,
   "id": "1c79b420",
   "metadata": {},
   "outputs": [],
   "source": [
    "X= ([[5, 7, 2], [4, 5, 6], [7, 4 ,2]]) \n",
    "Y= ([[4, 2], [6, 2], [4, 2]])"
   ]
  },
  {
   "cell_type": "code",
   "execution_count": 12,
   "id": "febf9301",
   "metadata": {},
   "outputs": [
    {
     "data": {
      "text/plain": [
       "array([[70, 28],\n",
       "       [70, 30],\n",
       "       [60, 26]])"
      ]
     },
     "execution_count": 12,
     "metadata": {},
     "output_type": "execute_result"
    }
   ],
   "source": [
    "# Multiplying the two matrices\n",
    "np.dot(X, Y)"
   ]
  },
  {
   "cell_type": "markdown",
   "id": "8de540c7",
   "metadata": {},
   "source": [
    "6) Create two arrays, x = ([2, -1, -8]) y = ([3, 1, -2]),\n",
    "Find the Shape, Number of dimensions of vector x.\n",
    "Reshape the vector x to a matrix of size (3,1) and determine the number of dimensions after reshaping y to a matrix of (3,1)."
   ]
  },
  {
   "cell_type": "code",
   "execution_count": 13,
   "id": "5b24744b",
   "metadata": {},
   "outputs": [],
   "source": [
    "x = np.array([2, -1, -8]) \n",
    "y = np.array([3, 1, -2])"
   ]
  },
  {
   "cell_type": "code",
   "execution_count": 14,
   "id": "1972d7bc",
   "metadata": {},
   "outputs": [
    {
     "name": "stdout",
     "output_type": "stream",
     "text": [
      "The Shape of X is : (3,)\n",
      "The Dimension of X is : 1\n"
     ]
    }
   ],
   "source": [
    "# Shape and Dimension of X\n",
    "print('The Shape of X is :', x.shape)\n",
    "print('The Dimension of X is :', x.ndim)"
   ]
  },
  {
   "cell_type": "code",
   "execution_count": 15,
   "id": "84785ee5",
   "metadata": {},
   "outputs": [
    {
     "data": {
      "text/plain": [
       "array([[ 2],\n",
       "       [-1],\n",
       "       [-8]])"
      ]
     },
     "execution_count": 15,
     "metadata": {},
     "output_type": "execute_result"
    }
   ],
   "source": [
    "# Reshaping X\n",
    "x.reshape(3, 1)"
   ]
  },
  {
   "cell_type": "code",
   "execution_count": 16,
   "id": "abe18c37",
   "metadata": {},
   "outputs": [
    {
     "name": "stdout",
     "output_type": "stream",
     "text": [
      "The Dimension of y after reshaping is : 2\n"
     ]
    }
   ],
   "source": [
    "print('The Dimension of y after reshaping is :', y.reshape(3, 1).ndim)"
   ]
  },
  {
   "cell_type": "markdown",
   "id": "37dd9d7c",
   "metadata": {},
   "source": [
    "7) How does broadcasting work? Demonstrate the subtraction, multiplication by considering a 3 x 3 matrix."
   ]
  },
  {
   "cell_type": "code",
   "execution_count": 17,
   "id": "5fbb5baa",
   "metadata": {},
   "outputs": [],
   "source": [
    "arr = np.array([[10, 20, 45], [30, 12, 16], [42, 17, 56]])"
   ]
  },
  {
   "cell_type": "code",
   "execution_count": 18,
   "id": "371a952b",
   "metadata": {},
   "outputs": [
    {
     "data": {
      "text/plain": [
       "array([[ 8, 18, 43],\n",
       "       [28, 10, 14],\n",
       "       [40, 15, 54]])"
      ]
     },
     "execution_count": 18,
     "metadata": {},
     "output_type": "execute_result"
    }
   ],
   "source": [
    "# Subracting on the Whole Array\n",
    "arr - 2"
   ]
  },
  {
   "cell_type": "code",
   "execution_count": 19,
   "id": "0720f0d9",
   "metadata": {},
   "outputs": [
    {
     "data": {
      "text/plain": [
       "array([[ 30,  60, 135],\n",
       "       [ 90,  36,  48],\n",
       "       [126,  51, 168]])"
      ]
     },
     "execution_count": 19,
     "metadata": {},
     "output_type": "execute_result"
    }
   ],
   "source": [
    "# Multiplying on the Whole Array\n",
    "arr * 3"
   ]
  },
  {
   "cell_type": "markdown",
   "id": "57e40aaa",
   "metadata": {},
   "source": [
    "### PART B"
   ]
  },
  {
   "cell_type": "markdown",
   "id": "dbe885f2",
   "metadata": {},
   "source": [
    "B.1) 4x + y - 2z = 10\n",
    "    2x - 3y + 2z = -4\n",
    "    x + 2y + 3z = 6"
   ]
  },
  {
   "cell_type": "code",
   "execution_count": 20,
   "id": "2e7fbab4",
   "metadata": {},
   "outputs": [],
   "source": [
    "equation_array = np.array([[2,1,-2], [2, -3, 2], [1,2,3]])\n",
    "right_side_array = np.array([10, -4, 6])"
   ]
  },
  {
   "cell_type": "code",
   "execution_count": 21,
   "id": "b613e7d0",
   "metadata": {},
   "outputs": [
    {
     "data": {
      "text/plain": [
       "array([ 2.86363636,  2.72727273, -0.77272727])"
      ]
     },
     "execution_count": 21,
     "metadata": {},
     "output_type": "execute_result"
    }
   ],
   "source": [
    "np.linalg.solve(equation_array, right_side_array)"
   ]
  },
  {
   "cell_type": "markdown",
   "id": "91fc0bc9",
   "metadata": {},
   "source": [
    "    B.2) Part B.2\n",
    "        2x - y + 3z + 4w = 10\n",
    "        4x - 2y + 6z + 8w = 20\n",
    "        3x + y - 2z + 2w = 3\n",
    "        x + 3y - 4z + w = -1"
   ]
  },
  {
   "cell_type": "code",
   "execution_count": 22,
   "id": "fe706ee9",
   "metadata": {},
   "outputs": [],
   "source": [
    "equation_array = np.array([[2, -1, 3, 4], [4, -2, 6, 8], [3, 1, -2, 2], [1,3,-4,1]])\n",
    "right_side_array = np.array([10, 20, 3, -1])"
   ]
  },
  {
   "cell_type": "code",
   "execution_count": 23,
   "id": "dedc441c",
   "metadata": {},
   "outputs": [
    {
     "name": "stdout",
     "output_type": "stream",
     "text": [
      "Singular matrix\n"
     ]
    }
   ],
   "source": [
    "# The matrix is singular in nature so we cannot use np to solve this equation\n",
    "try:\n",
    "    np.linalg.solve(equation_array, right_side_array)\n",
    "except Exception as ex:\n",
    "    print(ex)"
   ]
  },
  {
   "cell_type": "code",
   "execution_count": null,
   "id": "82087a66",
   "metadata": {},
   "outputs": [],
   "source": []
  }
 ],
 "metadata": {
  "kernelspec": {
   "display_name": "Python 3 (ipykernel)",
   "language": "python",
   "name": "python3"
  },
  "language_info": {
   "codemirror_mode": {
    "name": "ipython",
    "version": 3
   },
   "file_extension": ".py",
   "mimetype": "text/x-python",
   "name": "python",
   "nbconvert_exporter": "python",
   "pygments_lexer": "ipython3",
   "version": "3.10.9"
  }
 },
 "nbformat": 4,
 "nbformat_minor": 5
}
