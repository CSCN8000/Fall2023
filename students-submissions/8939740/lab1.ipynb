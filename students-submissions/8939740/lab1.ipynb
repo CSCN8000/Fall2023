{
 "cells": [
  {
   "cell_type": "code",
   "execution_count": 3,
   "metadata": {},
   "outputs": [
    {
     "name": "stdout",
     "output_type": "stream",
     "text": [
      "[ 1  4  7 10 13 16 19]\n"
     ]
    }
   ],
   "source": [
    "# Array 1-20 \n",
    "import numpy as np\n",
    "arr1=np.arange(start=1, stop=20, step=3)\n",
    "print(arr1)"
   ]
  },
  {
   "cell_type": "code",
   "execution_count": 4,
   "metadata": {},
   "outputs": [
    {
     "name": "stdout",
     "output_type": "stream",
     "text": [
      "[[0.20262463 0.22422234 0.16794877]\n",
      " [0.68917481 0.30348969 0.81511164]\n",
      " [0.08571996 0.75843277 0.87885409]]\n"
     ]
    }
   ],
   "source": [
    "# Shape 3 array with values between 0 and 1\n",
    "arr3D=np.random.rand(3,3)\n",
    "print(arr3D)"
   ]
  },
  {
   "cell_type": "code",
   "execution_count": 5,
   "metadata": {},
   "outputs": [
    {
     "name": "stdout",
     "output_type": "stream",
     "text": [
      "[[10 20 45]\n",
      " [30 12 16]\n",
      " [42 17 56]]\n",
      "\n",
      " [[10 20 45]\n",
      " [30 12 16]]\n",
      "\n",
      " [[30 12 16]\n",
      " [42 17 56]]\n"
     ]
    }
   ],
   "source": [
    "# slicing last and frist 2 rows of a 2D array\n",
    "list=[[10,20,45],[30,12,16],[42,17,56]]\n",
    "arr2D=np.array(list)\n",
    "print(arr2D)\n",
    "\n",
    "print(\"\\n\", arr2D[:2:])\n",
    "print(\"\\n\", arr2D[-2:])"
   ]
  },
  {
   "cell_type": "code",
   "execution_count": 9,
   "metadata": {},
   "outputs": [
    {
     "name": "stdout",
     "output_type": "stream",
     "text": [
      "\n",
      " [[1 2 3]\n",
      " [4 5 6]] \n",
      " [[10 20 30]\n",
      " [40 50 60]]\n",
      "\n",
      " [[ 1  2  3]\n",
      " [ 4  5  6]\n",
      " [10 20 30]\n",
      " [40 50 60]]\n",
      "\n",
      " [[ 1  2  3 10 20 30]\n",
      " [ 4  5  6 40 50 60]]\n"
     ]
    }
   ],
   "source": [
    "#Vertical and Horizontal Stack\n",
    "a2D=np.array([[1,2,3],[4,5,6]])\n",
    "a3D=np.array([[10,20,30],[40,50,60]])\n",
    "print(\"\\n\", a2D, \"\\n\", a3D)\n",
    "\n",
    "vstackedarr=np.vstack((a2D, a3D))\n",
    "print(\"\\n\", vstackedarr)\n",
    "\n",
    "hstackedarr=np.hstack((a2D, a3D))\n",
    "print(\"\\n\", hstackedarr)"
   ]
  },
  {
   "cell_type": "code",
   "execution_count": 13,
   "metadata": {},
   "outputs": [
    {
     "name": "stdout",
     "output_type": "stream",
     "text": [
      "\n",
      " [[5 7 2]\n",
      " [4 5 6]\n",
      " [7 4 2]] \n",
      "\n",
      " [[4 2]\n",
      " [6 2]\n",
      " [4 2]]\n",
      "\n",
      " The product is : \n",
      " [[70 28]\n",
      " [70 30]\n",
      " [60 26]]\n"
     ]
    }
   ],
   "source": [
    "#Multiplication\n",
    "n1=np.array([[5,7,2],[4,5,6],[7,4,2]])\n",
    "n2=np.array([[4,2],[6,2],[4,2]])\n",
    "print(\"\\n\", n1, \"\\n\\n\", n2)\n",
    "\n",
    "product=np.dot(n1,n2)\n",
    "print(\"\\n The product is : \\n\", product)\n",
    "\n",
    "#If n1=([[5,7,2],[4,5,6]]) and n2=([[4,2,6],[2,4,2]]) then the multplication is not possible"
   ]
  },
  {
   "cell_type": "code",
   "execution_count": 16,
   "metadata": {},
   "outputs": [
    {
     "name": "stdout",
     "output_type": "stream",
     "text": [
      "\n",
      " (3,) \n",
      " 1\n",
      "\n",
      " Reshaped : \n",
      " [[ 2]\n",
      " [-1]\n",
      " [-8]] \n",
      "\n",
      " [[ 3]\n",
      " [ 1]\n",
      " [-2]]\n",
      "\n",
      " 2\n"
     ]
    }
   ],
   "source": [
    "# Reshaping and finding no. of dimensions\n",
    "x1=np.array([2,-1,-8])\n",
    "x2=np.array([3,1,-2])\n",
    "#finding the shape and no. of dimensions of x1\n",
    "print(\"\\n\", x1.shape, \"\\n\", x1.ndim)\n",
    "\n",
    "#reshaping both x1,x2 and finding the no. of dimensions of x2\n",
    "rx1=x1.reshape(3,1)\n",
    "rx2=x2.reshape(3,1)\n",
    "\n",
    "print(\"\\n Reshaped : \\n\", rx1, \"\\n\\n\", rx2)\n",
    "print(\"\\n\", rx2.ndim)\n",
    "\n"
   ]
  },
  {
   "cell_type": "code",
   "execution_count": 19,
   "metadata": {},
   "outputs": [
    {
     "name": "stdout",
     "output_type": "stream",
     "text": [
      "\n",
      " [[ 2  4  6]\n",
      " [ 8 10 12]\n",
      " [14 16 18]]\n",
      "\n",
      " The difference array is : \n",
      " [[ 1  3  5]\n",
      " [ 7  9 11]\n",
      " [13 15 17]]\n",
      "\n",
      " The product array is : \n",
      " [[ 4  8 12]\n",
      " [16 20 24]\n",
      " [28 32 36]]\n"
     ]
    }
   ],
   "source": [
    "#Broadcasting\n",
    "#It is used for performing operations on different arrays of various shapes\n",
    "array3D=np.array([[2,4,6],[8,10,12],[14,16,18]])\n",
    "print(\"\\n\", array3D)\n",
    "\n",
    "sub3D=array3D - 1\n",
    "mul3D=array3D * 2\n",
    "\n",
    "print(\"\\n The difference array is : \\n\", sub3D)\n",
    "print(\"\\n The product array is : \\n\", mul3D)"
   ]
  }
 ],
 "metadata": {
  "kernelspec": {
   "display_name": "CSCN8010_classic_ml",
   "language": "python",
   "name": "cscn8010_classic_ml"
  },
  "language_info": {
   "codemirror_mode": {
    "name": "ipython",
    "version": 3
   },
   "file_extension": ".py",
   "mimetype": "text/x-python",
   "name": "python",
   "nbconvert_exporter": "python",
   "pygments_lexer": "ipython3",
   "version": "3.10.11"
  },
  "orig_nbformat": 4
 },
 "nbformat": 4,
 "nbformat_minor": 2
}
