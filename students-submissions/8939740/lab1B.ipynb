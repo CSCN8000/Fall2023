{
 "cells": [
  {
   "cell_type": "markdown",
   "metadata": {},
   "source": [
    "# Determine the singularity and solution of following linear equations : \n",
    "## 1.  \n",
    "##   4x + y - 2z = 10\n",
    "##    2x - 3y + 2z = -4\n",
    "##    x + 2y + 3z = 6"
   ]
  },
  {
   "cell_type": "code",
   "execution_count": 7,
   "metadata": {},
   "outputs": [
    {
     "name": "stdout",
     "output_type": "stream",
     "text": [
      "\n",
      " The solution of given equation is : \n",
      " [ 1.8  2.4 -0.2]\n"
     ]
    }
   ],
   "source": [
    "import numpy as np\n",
    "\n",
    "# 4x + y - 2z = 10\n",
    "# 2x - 3y + 2z = -4\n",
    "# x + 2y + 3z = 6\n",
    "\n",
    "A=np.array([[4,1,-2],[2,-3,2],[1,2,3]])\n",
    "#Finding the determinant\n",
    "det=np.linalg.det(A)\n",
    "\n",
    "if(det == 0):\n",
    "    print(\"\\n The given equation is singular, Therefore no solution\")\n",
    "else:\n",
    "    A1=np.array([10,-4,6])\n",
    "    xyz=np.linalg.solve(A,A1)\n",
    "    print(\"\\n The solution of given equation is : \\n\", xyz)"
   ]
  },
  {
   "cell_type": "markdown",
   "metadata": {},
   "source": [
    "## 2.   \n",
    "##   2x - y + 3z + 4w = 10\n",
    "##   4x - 2y + 6z + 8w = 20\n",
    "##   3x + y - 2z + 2w = 3\n",
    "##   x + 3y - 4z + w = -1"
   ]
  },
  {
   "cell_type": "code",
   "execution_count": 8,
   "metadata": {},
   "outputs": [
    {
     "name": "stdout",
     "output_type": "stream",
     "text": [
      "\n",
      " The given equation is singular, Therefore no solution\n"
     ]
    }
   ],
   "source": [
    "# 2x - y + 3z + 4w = 10\n",
    "# 4x - 2y + 6z + 8w = 20\n",
    "# 3x + y - 2z + 2w = 3\n",
    "# x + 3y - 4z + w = -1\n",
    "\n",
    "B=np.array([[2,-1,3,4],[4,-2,6,8],[3,1,-2,2],[1,3,-4,1]])\n",
    "#Finding the determinant\n",
    "det1=np.linalg.det(B)\n",
    "\n",
    "if(det1 == 0):\n",
    "    print(\"\\n The given equation is singular, Therefore no solution\")\n",
    "else:\n",
    "    B1=np.array([10,20,3,-1])\n",
    "    xyzw=np.linalg.solve(B,B1)\n",
    "    print(\"\\n The solution of given equation is : \\n\", xyzw)\n"
   ]
  }
 ],
 "metadata": {
  "kernelspec": {
   "display_name": "CSCN8010_classic_ml",
   "language": "python",
   "name": "cscn8010_classic_ml"
  },
  "language_info": {
   "codemirror_mode": {
    "name": "ipython",
    "version": 3
   },
   "file_extension": ".py",
   "mimetype": "text/x-python",
   "name": "python",
   "nbconvert_exporter": "python",
   "pygments_lexer": "ipython3",
   "version": "3.10.11"
  },
  "orig_nbformat": 4
 },
 "nbformat": 4,
 "nbformat_minor": 2
}
