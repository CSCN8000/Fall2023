{
 "cells": [
  {
   "cell_type": "markdown",
   "metadata": {},
   "source": [
    "# Creating a NumPy Array with a Specified Range and Increment"
   ]
  },
  {
   "cell_type": "code",
   "execution_count": 12,
   "metadata": {},
   "outputs": [
    {
     "name": "stdout",
     "output_type": "stream",
     "text": [
      "[ 1  4  7 10 13 16 19]\n"
     ]
    }
   ],
   "source": [
    "import numpy as np\n",
    "\n",
    "myRange = np.arange(1, 21, 3)\n",
    "print(myRange)"
   ]
  },
  {
   "cell_type": "markdown",
   "metadata": {},
   "source": [
    "# Creating a NumPy Array with Random Numbers"
   ]
  },
  {
   "cell_type": "code",
   "execution_count": 13,
   "metadata": {},
   "outputs": [
    {
     "name": "stdout",
     "output_type": "stream",
     "text": [
      "[0.43140808 0.64582801 0.26077108]\n"
     ]
    }
   ],
   "source": [
    "import numpy as np\n",
    "\n",
    "randomArray = np.random.rand(3)\n",
    "print(randomArray)"
   ]
  },
  {
   "cell_type": "markdown",
   "metadata": {},
   "source": [
    "# Creating a 2D Array and Performing Slicing"
   ]
  },
  {
   "cell_type": "code",
   "execution_count": 16,
   "metadata": {},
   "outputs": [
    {
     "name": "stdout",
     "output_type": "stream",
     "text": [
      "my array\n",
      "[[13 24 35]\n",
      " [39  4 56]\n",
      " [41  8 33]]\n",
      "\n",
      "first 2 rows\n",
      "[[13 24 35]\n",
      " [39  4 56]]\n",
      "\n",
      "last 2 rows\n",
      "[[39  4 56]\n",
      " [41  8 33]]\n"
     ]
    }
   ],
   "source": [
    "import numpy as np\n",
    "\n",
    "# Create a 2D array\n",
    "myArray = np.array([[13, 24, 35],\n",
    "                     [39, 4, 56],\n",
    "                     [41, 8, 33]])\n",
    "\n",
    "first_two_rows = myArray[:2, :]\n",
    "\n",
    "last_two_rows = myArray[1:, :]\n",
    "\n",
    "print(\"my array\")\n",
    "print(myArray)\n",
    "\n",
    "print(\"\\nfirst 2 rows\")\n",
    "print(first_two_rows)\n",
    "\n",
    "print(\"\\nlast 2 rows\")\n",
    "print(last_two_rows)\n"
   ]
  },
  {
   "cell_type": "markdown",
   "metadata": {},
   "source": [
    "# Creating and Manipulating 2x2 Arrays in NumPy"
   ]
  },
  {
   "cell_type": "code",
   "execution_count": 17,
   "metadata": {},
   "outputs": [
    {
     "name": "stdout",
     "output_type": "stream",
     "text": [
      "first array\n",
      "[[1 2]\n",
      " [3 4]]\n",
      "\n",
      "second array\n",
      "[[5 6]\n",
      " [7 8]]\n",
      "\n",
      "vertical\n",
      "[[1 2]\n",
      " [3 4]\n",
      " [5 6]\n",
      " [7 8]]\n",
      "\n",
      "horizontally\n",
      "[[1 2 5 6]\n",
      " [3 4 7 8]]\n",
      "\n",
      "split\n",
      "[array([[1, 2],\n",
      "       [3, 4]]), array([[5, 6],\n",
      "       [7, 8]])]\n"
     ]
    }
   ],
   "source": [
    "import numpy as np\n",
    "\n",
    "firstArray = np.array([[1, 2],\n",
    "                   [3, 4]])\n",
    "\n",
    "secondArray = np.array([[5, 6],\n",
    "                   [7, 8]])\n",
    "\n",
    "vertical = np.vstack((firstArray, secondArray))\n",
    "horizontal = np.hstack((firstArray, secondArray))\n",
    "splitArrays = np.hsplit(horizontal, 2)\n",
    "\n",
    "print(\"first array\")\n",
    "print(firstArray)\n",
    "print(\"\\nsecond array\")\n",
    "print(secondArray)\n",
    "print(\"\\nvertical\")\n",
    "print(vertical)\n",
    "print(\"\\nhorizontally\")\n",
    "print(horizontal)\n",
    "print(\"\\nsplit\")\n",
    "print(splitArrays)\n"
   ]
  },
  {
   "cell_type": "markdown",
   "metadata": {},
   "source": [
    "# Matrix Multiplication and Checking Validity"
   ]
  },
  {
   "cell_type": "code",
   "execution_count": 18,
   "metadata": {},
   "outputs": [
    {
     "name": "stdout",
     "output_type": "stream",
     "text": [
      "multiplication possible? True\n",
      "\n",
      "Result:\n",
      "[[70 28]\n",
      " [70 30]\n",
      " [60 26]]\n"
     ]
    }
   ],
   "source": [
    "import numpy as np\n",
    "\n",
    "X = np.array([[5, 7, 2],\n",
    "              [4, 5, 6],\n",
    "              [7, 4, 2]])\n",
    "\n",
    "Y = np.array([[4, 2],\n",
    "              [6, 2],\n",
    "              [4, 2]])\n",
    "\n",
    "if X.shape[1] == Y.shape[0]:\n",
    "    result = np.dot(X, Y)\n",
    "    multiPossible = True\n",
    "else:\n",
    "    multiPossible = False\n",
    "\n",
    "print(\"multiplication possible?\", multiPossible)\n",
    "\n",
    "if multiPossible:\n",
    "    print(\"\\nResult:\")\n",
    "    print(result)\n",
    "else:\n",
    "    print(\"\\nMatrix multiplication is not possible because the number of columns in X is not equal to the number of rows in Y.\")\n"
   ]
  },
  {
   "cell_type": "markdown",
   "metadata": {},
   "source": [
    "# Working with NumPy Arrays: Shape and Reshaping\n"
   ]
  },
  {
   "cell_type": "code",
   "execution_count": 24,
   "metadata": {},
   "outputs": [
    {
     "name": "stdout",
     "output_type": "stream",
     "text": [
      "vector x\n",
      "shape: (3,)\n",
      "num of dimensions 1\n",
      "\n",
      "reshaped x\n",
      "[[ 12]\n",
      " [-33]\n",
      " [  8]]\n",
      "\n",
      "reshaped y\n",
      "[[33]\n",
      " [-1]\n",
      " [22]]\n",
      "num of dimensions afterreshaping y 2\n"
     ]
    }
   ],
   "source": [
    "import numpy as np\n",
    "\n",
    "x = np.array([12, -33, 8])\n",
    "y = np.array([33, -1, 22])\n",
    "\n",
    "xShape = x.shape\n",
    "xDimensions = x.ndim\n",
    "\n",
    "xReshaped = x.reshape((3, 1))\n",
    "\n",
    "yReshaped = y.reshape((3, 1))\n",
    "\n",
    "yReshapedDimensions = yReshaped.ndim\n",
    "\n",
    "print(\"vector x\")\n",
    "print(\"shape:\", xShape)\n",
    "print(\"num of dimensions\", xDimensions)\n",
    "\n",
    "print(\"\\nreshaped x\")\n",
    "print(xReshaped)\n",
    "\n",
    "print(\"\\nreshaped y\")\n",
    "print(yReshaped)\n",
    "print(\"num of dimensions afterreshaping y\", yReshapedDimensions)\n"
   ]
  },
  {
   "cell_type": "markdown",
   "metadata": {},
   "source": [
    "# Broadcasting in NumPy: Subtraction and Multiplication"
   ]
  },
  {
   "cell_type": "code",
   "execution_count": 27,
   "metadata": {},
   "outputs": [
    {
     "name": "stdout",
     "output_type": "stream",
     "text": [
      "original\n",
      "[[33 -2 13]\n",
      " [ 4 52 60]\n",
      " [19  4 21]]\n",
      "\n",
      "subtraction\n",
      "[[31 -4 11]\n",
      " [ 2 50 58]\n",
      " [17  2 19]]\n",
      "\n",
      "multiplication\n",
      "[[ 66  -4  26]\n",
      " [  8 104 120]\n",
      " [ 38   8  42]]\n"
     ]
    }
   ],
   "source": [
    "import numpy as np\n",
    "\n",
    "matrix = np.array([[33, -2, 13],\n",
    "                   [4, 52, 60],\n",
    "                   [19, 4, 21]])\n",
    "\n",
    "scalarValue = 2\n",
    "resultSub = matrix - scalarValue\n",
    "resultMulti = matrix * scalarValue\n",
    "\n",
    "print(\"original\")\n",
    "print(matrix)\n",
    "\n",
    "print(\"\\nsubtraction\")\n",
    "print(resultSub)\n",
    "\n",
    "print(\"\\nmultiplication\")\n",
    "print(resultMulti)\n"
   ]
  }
 ],
 "metadata": {
  "kernelspec": {
   "display_name": "Python 3",
   "language": "python",
   "name": "python3"
  },
  "language_info": {
   "codemirror_mode": {
    "name": "ipython",
    "version": 3
   },
   "file_extension": ".py",
   "mimetype": "text/x-python",
   "name": "python",
   "nbconvert_exporter": "python",
   "pygments_lexer": "ipython3",
   "version": "3.11.3"
  },
  "orig_nbformat": 4
 },
 "nbformat": 4,
 "nbformat_minor": 2
}
