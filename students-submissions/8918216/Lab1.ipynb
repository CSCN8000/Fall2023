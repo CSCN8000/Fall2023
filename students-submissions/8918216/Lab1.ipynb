{
 "cells": [
  {
   "cell_type": "markdown",
   "metadata": {},
   "source": [
    "# Lab 1 – Basic NumPy Operations\n",
    "## Part A - Demonstration of Numpy Operations"
   ]
  },
  {
   "cell_type": "code",
   "execution_count": 10,
   "metadata": {},
   "outputs": [],
   "source": [
    "import numpy as np"
   ]
  },
  {
   "cell_type": "markdown",
   "metadata": {},
   "source": [
    "### 1. Creating an array that starts from the integer 1, ends at 20, incremented by 3."
   ]
  },
  {
   "cell_type": "code",
   "execution_count": 11,
   "metadata": {},
   "outputs": [
    {
     "name": "stdout",
     "output_type": "stream",
     "text": [
      "Array 1: [ 1  4  7 10 13 16 19]\n"
     ]
    }
   ],
   "source": [
    "array1 = np.arange(1, 20, 3)\n",
    "print(f\"Array 1: {array1}\")"
   ]
  },
  {
   "cell_type": "markdown",
   "metadata": {},
   "source": [
    "### 2. Creating a new array of shape 3 with random numbers between 0 and 1."
   ]
  },
  {
   "cell_type": "code",
   "execution_count": 12,
   "metadata": {},
   "outputs": [
    {
     "name": "stdout",
     "output_type": "stream",
     "text": [
      "Array 2: [0.85066637 0.00299839 0.48111347]\n"
     ]
    }
   ],
   "source": [
    "array2 = np.random.rand(3)\n",
    "print(f\"Array 2: {array2}\")"
   ]
  },
  {
   "cell_type": "markdown",
   "metadata": {},
   "source": [
    "### 3. Creating a 2D array [[10,20,45], [30,12,16], [42,17,56]] and performing the following operations:\n",
    "##### Slicing the 2D array to get the first two rows, slicing the 2D array to get the last two rows."
   ]
  },
  {
   "cell_type": "code",
   "execution_count": 13,
   "metadata": {},
   "outputs": [
    {
     "name": "stdout",
     "output_type": "stream",
     "text": [
      "Array 3: [[10 20 45]\n",
      " [30 12 16]\n",
      " [42 17 56]]\n",
      "\n",
      "First two rows: [[10 20 45]\n",
      " [30 12 16]]\n",
      "\n",
      "Last two rows: [[30 12 16]\n",
      " [42 17 56]]\n"
     ]
    }
   ],
   "source": [
    "array3 = np.array([[10,20,45], [30,12,16], [42,17,56]])\n",
    "print(f\"Array 3: {array3}\\n\")\n",
    "\n",
    "# Slicing the 2D array to get the first two rows\n",
    "print(f\"First two rows: {array3[:2]}\\n\")\n",
    "\n",
    "# Slicing the 2D array to get the last two rows\n",
    "print(f\"Last two rows: {array3[1:]}\")"
   ]
  },
  {
   "cell_type": "markdown",
   "metadata": {},
   "source": [
    "### 4. Creating two 2x2 arrays and demonstrating how you can stack the elements vertically, horizontally, and split the arrays into smaller arrays."
   ]
  },
  {
   "cell_type": "code",
   "execution_count": 14,
   "metadata": {},
   "outputs": [
    {
     "name": "stdout",
     "output_type": "stream",
     "text": [
      "Array 4: [[1 2]\n",
      " [3 4]]\n",
      "\n",
      "Array 5: [[5 6]\n",
      " [7 8]]\n",
      "\n",
      "Vertical stack: [[1 2]\n",
      " [3 4]\n",
      " [5 6]\n",
      " [7 8]]\n",
      "\n",
      "Horizontal stack: [[1 2 5 6]\n",
      " [3 4 7 8]]\n",
      "\n",
      "Split array: [array([[1, 2]]), array([[3, 4]])]\n"
     ]
    }
   ],
   "source": [
    "array4 = np.array([[1,2], [3,4]])\n",
    "array5 = np.array([[5,6], [7,8]])\n",
    "\n",
    "print(f\"Array 4: {array4}\\n\")\n",
    "print(f\"Array 5: {array5}\\n\")\n",
    "\n",
    "# Stacking arrays vertically\n",
    "print(f\"Vertical stack: {np.vstack((array4, array5))}\\n\")\n",
    "\n",
    "# Stacking arrays horizontally\n",
    "print(f\"Horizontal stack: {np.hstack((array4, array5))}\\n\")\n",
    "\n",
    "# Splitting array into smaller array\n",
    "print(f\"Split array: {np.split(array4, 2)}\")"
   ]
  },
  {
   "cell_type": "markdown",
   "metadata": {},
   "source": [
    "### 5. Creating two matrices X=([[5, 7, 2], [4, 5, 6], [7, 4 ,2]]) Y=([[4, 2], [6, 2], [4, 2]]),\n",
    "##### Is it possible to multiply these matrices?\n",
    "##### Demonstrating the case when it is not possible to."
   ]
  },
  {
   "cell_type": "code",
   "execution_count": 15,
   "metadata": {},
   "outputs": [
    {
     "name": "stdout",
     "output_type": "stream",
     "text": [
      "X: [[5 7 2]\n",
      " [4 5 6]\n",
      " [7 4 2]]\n",
      "\n",
      "Y: [[4 2]\n",
      " [6 2]\n",
      " [4 2]]\n",
      "\n",
      "Matrix multiplication: [[70 28]\n",
      " [70 30]\n",
      " [60 26]]\n",
      "\n"
     ]
    },
    {
     "ename": "ValueError",
     "evalue": "matmul: Input operand 1 has a mismatch in its core dimension 0, with gufunc signature (n?,k),(k,m?)->(n?,m?) (size 3 is different from 2)",
     "output_type": "error",
     "traceback": [
      "\u001b[1;31m---------------------------------------------------------------------------\u001b[0m",
      "\u001b[1;31mValueError\u001b[0m                                Traceback (most recent call last)",
      "\u001b[1;32mc:\\Users\\dharm\\OneDrive\\Desktop\\Fall2023\\students-submissions\\8918216\\lab1.ipynb Cell 12\u001b[0m line \u001b[0;36m1\n\u001b[0;32m      <a href='vscode-notebook-cell:/c%3A/Users/dharm/OneDrive/Desktop/Fall2023/students-submissions/8918216/lab1.ipynb#X14sZmlsZQ%3D%3D?line=7'>8</a>\u001b[0m \u001b[39mprint\u001b[39m(\u001b[39mf\u001b[39m\u001b[39m\"\u001b[39m\u001b[39mMatrix multiplication: \u001b[39m\u001b[39m{\u001b[39;00mnp\u001b[39m.\u001b[39mmatmul(X,\u001b[39m \u001b[39mY)\u001b[39m}\u001b[39;00m\u001b[39m\\n\u001b[39;00m\u001b[39m\"\u001b[39m)\n\u001b[0;32m     <a href='vscode-notebook-cell:/c%3A/Users/dharm/OneDrive/Desktop/Fall2023/students-submissions/8918216/lab1.ipynb#X14sZmlsZQ%3D%3D?line=9'>10</a>\u001b[0m \u001b[39m# Below is a case where it is not possible to multiply the matrices.\u001b[39;00m\n\u001b[1;32m---> <a href='vscode-notebook-cell:/c%3A/Users/dharm/OneDrive/Desktop/Fall2023/students-submissions/8918216/lab1.ipynb#X14sZmlsZQ%3D%3D?line=10'>11</a>\u001b[0m \u001b[39mprint\u001b[39m(\u001b[39mf\u001b[39m\u001b[39m\"\u001b[39m\u001b[39mMatrix multiplication: \u001b[39m\u001b[39m{\u001b[39;00mnp\u001b[39m.\u001b[39;49mmatmul(Y,\u001b[39m \u001b[39;49mX)\u001b[39m}\u001b[39;00m\u001b[39m\"\u001b[39m)\n",
      "\u001b[1;31mValueError\u001b[0m: matmul: Input operand 1 has a mismatch in its core dimension 0, with gufunc signature (n?,k),(k,m?)->(n?,m?) (size 3 is different from 2)"
     ]
    }
   ],
   "source": [
    "X = np.array([[5, 7, 2], [4, 5, 6], [7, 4 ,2]])\n",
    "Y = np.array([[4, 2], [6, 2], [4, 2]])\n",
    "\n",
    "print(f\"X: {X}\\n\")\n",
    "print(f\"Y: {Y}\\n\")\n",
    "\n",
    "# Below is a case where it is possible to multiply the matrices.\n",
    "print(f\"Matrix multiplication: {np.matmul(X, Y)}\\n\")\n",
    "\n",
    "# Below is a case where it is not possible to multiply the matrices.\n",
    "print(f\"Matrix multiplication: {np.matmul(Y, X)}\")"
   ]
  },
  {
   "cell_type": "markdown",
   "metadata": {},
   "source": [
    "### 6. Creating two arrays, x = ([2, -1, -8]) y = ([3, 1, -2]),\n",
    "##### Finding the Shape, Number of dimensions of vector x.\n",
    "##### Reshaping the vector x to a matrix of size (3,1) and determine the number of dimensions after reshaping y to a matrix of (3,1)."
   ]
  },
  {
   "cell_type": "code",
   "execution_count": 16,
   "metadata": {},
   "outputs": [
    {
     "name": "stdout",
     "output_type": "stream",
     "text": [
      "x: [ 2 -1 -8]\n",
      "\n",
      "y: [ 3  1 -2]\n",
      "\n",
      "Shape of x: (3,)\n",
      "\n",
      "Number of dimensions of x: 1\n",
      "\n",
      "Reshaped x: [[ 2]\n",
      " [-1]\n",
      " [-8]]\n",
      "\n",
      "Reshaped y: [[ 3]\n",
      " [ 1]\n",
      " [-2]]\n",
      "\n",
      "Number of dimensions of y: 2\n"
     ]
    }
   ],
   "source": [
    "x = np.array([2, -1, -8])\n",
    "y = np.array([3, 1, -2])\n",
    "\n",
    "print(f\"x: {x}\\n\")\n",
    "print(f\"y: {y}\\n\")\n",
    "\n",
    "# Finding the shape of vector x\n",
    "print(f\"Shape of x: {x.shape}\\n\")\n",
    "\n",
    "# Finding the number of dimensions of vector x\n",
    "print(f\"Number of dimensions of x: {x.ndim}\\n\")\n",
    "\n",
    "# Reshaping vector x to a matrix of size (3,1)\n",
    "x = x.reshape(3,1)\n",
    "print(f\"Reshaped x: {x}\\n\")\n",
    "\n",
    "# Determining the number of dimensions after reshaping y to a matrix of (3,1)\n",
    "y = y.reshape(3,1)\n",
    "print(f\"Reshaped y: {y}\\n\")\n",
    "\n",
    "# Finding the number of dimensions of vector y\n",
    "print(f\"Number of dimensions of y: {y.ndim}\")"
   ]
  },
  {
   "cell_type": "markdown",
   "metadata": {},
   "source": [
    "### 7. Showing how broadcasting work and demonstrating the subtraction, multiplication by considering a 3 x 3 matrix."
   ]
  },
  {
   "cell_type": "code",
   "execution_count": 17,
   "metadata": {},
   "outputs": [
    {
     "name": "stdout",
     "output_type": "stream",
     "text": [
      "Matrix: [[1 2 3]\n",
      " [4 5 6]\n",
      " [7 8 9]]\n",
      "\n",
      "Subtracting 1 from each element in the matrix: [[0 1 2]\n",
      " [3 4 5]\n",
      " [6 7 8]]\n",
      "\n",
      "Multiplying each element in the matrix by 2: [[ 2  4  6]\n",
      " [ 8 10 12]\n",
      " [14 16 18]]\n"
     ]
    }
   ],
   "source": [
    "# Creating a 3 x 3 matrix\n",
    "matrix = np.array([[1, 2, 3], [4, 5, 6], [7, 8, 9]])\n",
    "print(f\"Matrix: {matrix}\\n\")\n",
    "\n",
    "# Subtracting 1 from each element in the matrix\n",
    "print(f\"Subtracting 1 from each element in the matrix: {matrix - 1}\\n\")\n",
    "\n",
    "# Multiplying each element in the matrix by 2\n",
    "print(f\"Multiplying each element in the matrix by 2: {matrix * 2}\")"
   ]
  },
  {
   "cell_type": "markdown",
   "metadata": {},
   "source": [
    "## Part B - Linear Equations"
   ]
  },
  {
   "cell_type": "markdown",
   "metadata": {},
   "source": [
    "##### Determining the singularity of the system of equations. Solving the system of equations if possible and justify the reason why the system can or cannot be solved using numpy functions."
   ]
  },
  {
   "cell_type": "markdown",
   "metadata": {},
   "source": [
    "##### Part B.1<br>4x + y - 2z = 10<br>2x - 3y + 2z = -4<br>x + 2y + 3z = 6"
   ]
  },
  {
   "cell_type": "code",
   "execution_count": 18,
   "metadata": {},
   "outputs": [
    {
     "name": "stdout",
     "output_type": "stream",
     "text": [
      "Determinant of B1: -70.00000000000003\n"
     ]
    }
   ],
   "source": [
    "# Converting equation to matrix form\n",
    "B1 = np.array([[4, 1, -2], [2, -3, 2], [1, 2, 3]])\n",
    "\n",
    "# Finding the determinant of matrix B1\n",
    "det_B1 = np.linalg.det(B1)\n",
    "\n",
    "print(\"Determinant of B1:\", det_B1)"
   ]
  },
  {
   "cell_type": "markdown",
   "metadata": {},
   "source": [
    "##### As the determinant of matrix B1 is not equal to zero, the matrix is nonsingular, and we can proceed to solve it using numpy functions. Let's find the solution to the equation."
   ]
  },
  {
   "cell_type": "code",
   "execution_count": 19,
   "metadata": {},
   "outputs": [
    {
     "name": "stdout",
     "output_type": "stream",
     "text": [
      "Solution: [ 1.8  2.4 -0.2]\n"
     ]
    }
   ],
   "source": [
    "b = np.array([10, -4, 6])\n",
    "x = np.linalg.solve(B1, b)\n",
    "\n",
    "print(\"Solution:\", x)"
   ]
  },
  {
   "cell_type": "markdown",
   "metadata": {},
   "source": [
    "##### Part B.2<br>2x - y + 3z + 4w = 10<br>4x - 2y + 6z + 8w = 20<br>3x + y - 2z + 2w = 3<br>x + 3y - 4z + w = -1"
   ]
  },
  {
   "cell_type": "code",
   "execution_count": 20,
   "metadata": {},
   "outputs": [
    {
     "name": "stdout",
     "output_type": "stream",
     "text": [
      "Determinant of B2: 0.0\n"
     ]
    }
   ],
   "source": [
    "# Converting equation to matrix form\n",
    "B2 = np.array([[2, -1, 3, 4], [4, -2, 6, 8], [3, 1, -2, 2], [1, 3, -4, 1]])\n",
    "\n",
    "# Finding the determinant of matrix B2\n",
    "det_B2 = np.linalg.det(B2)\n",
    "\n",
    "print(\"Determinant of B2:\", det_B2)"
   ]
  },
  {
   "cell_type": "markdown",
   "metadata": {},
   "source": [
    "##### As the determinant of matrix B2 is equal to zero, the matrix is singular, and it may have either no solution or infinitely many solutions."
   ]
  },
  {
   "cell_type": "markdown",
   "metadata": {},
   "source": []
  }
 ],
 "metadata": {
  "kernelspec": {
   "display_name": "venv",
   "language": "python",
   "name": "python3"
  },
  "language_info": {
   "codemirror_mode": {
    "name": "ipython",
    "version": 3
   },
   "file_extension": ".py",
   "mimetype": "text/x-python",
   "name": "python",
   "nbconvert_exporter": "python",
   "pygments_lexer": "ipython3",
   "version": "3.10.10"
  },
  "orig_nbformat": 4
 },
 "nbformat": 4,
 "nbformat_minor": 2
}
