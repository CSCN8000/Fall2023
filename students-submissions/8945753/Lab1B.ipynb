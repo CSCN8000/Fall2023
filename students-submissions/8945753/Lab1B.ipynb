{
 "cells": [
  {
   "cell_type": "markdown",
   "metadata": {},
   "source": [
    "# **Lab1 Assignment**"
   ]
  },
  {
   "cell_type": "markdown",
   "metadata": {},
   "source": [
    "## PART B"
   ]
  },
  {
   "cell_type": "markdown",
   "metadata": {},
   "source": [
    "### Linear Equations :"
   ]
  },
  {
   "cell_type": "markdown",
   "metadata": {},
   "source": [
    "##### B1"
   ]
  },
  {
   "cell_type": "code",
   "execution_count": 12,
   "metadata": {},
   "outputs": [
    {
     "name": "stdout",
     "output_type": "stream",
     "text": [
      "\n",
      " The determinant is : \n",
      "-70.00000000000003\n",
      "The given matrix is non-singular and have unique solution\n",
      "\n",
      " The unique solution of the given equation is : \n",
      "[ 1.8  2.4 -0.2]\n"
     ]
    }
   ],
   "source": [
    "import numpy as np\n",
    "#Defining the given array\n",
    "Arr3D = np.array([[4,1,-2],\n",
    "                  [2,-3,2],\n",
    "                  [1,2,3]])\n",
    "Ar3D = np.array([10,-4,6])\n",
    "#Calculating the determinant of the given matrix\n",
    "det =np.linalg.det(Arr3D)\n",
    "print(\"\\n\", \"The determinant is : \")\n",
    "print(det)\n",
    "\n",
    "#Determining if the given matrix is singular or non singular\n",
    "if (det == 0):\n",
    "    print(\"The given matrix is singular and no unique solution\")\n",
    "else:\n",
    "    print(\"The given matrix is non-singular and have unique solution\")\n",
    "    #Finding the solution of the non-singular matrix\n",
    "    soln = np.linalg.solve(Arr3D,Ar3D)\n",
    "    print(\"\\n\", \"The unique solution of the given equation is : \")\n",
    "    print(soln)\n",
    "\n",
    "\n"
   ]
  },
  {
   "cell_type": "markdown",
   "metadata": {},
   "source": [
    "##### B2"
   ]
  },
  {
   "cell_type": "code",
   "execution_count": 17,
   "metadata": {},
   "outputs": [
    {
     "name": "stdout",
     "output_type": "stream",
     "text": [
      "\n",
      " The determinant is : \n",
      "0.0\n",
      "The given matrix is singular and there is no unique solution\n"
     ]
    }
   ],
   "source": [
    "#Defining the given array \n",
    "num1 = np.array([[2,-1,3,4],\n",
    "                [4,-2,6,8],\n",
    "                [3,1,-2,2],\n",
    "                 [1,3,-4,1]])\n",
    "num2 = np.array([10,20,3,-1])\n",
    "\n",
    "#Calculating the determinant of the given matrix\n",
    "det1 =np.linalg.det(num1)\n",
    "print(\"\\n\", \"The determinant is : \")\n",
    "print(det1)\n",
    "\n",
    "#Determining if the given matrix is singular or non singular\n",
    "if (det1 ==0):\n",
    "    print(\"The given matrix is singular and there is no unique solution\")\n",
    "else:\n",
    "    print(\"The given matrix is non-singular and have unique solution\")\n",
    "    result = np.linalg.solve(num1,num2)\n",
    "    print(\"\\n\", \"The unique solution of the given equation is : \")\n",
    "    print(result)\n",
    "\n"
   ]
  }
 ],
 "metadata": {
  "kernelspec": {
   "display_name": "CSCN8010_classic_ml",
   "language": "python",
   "name": "cscn8010_classic_ml"
  },
  "language_info": {
   "codemirror_mode": {
    "name": "ipython",
    "version": 3
   },
   "file_extension": ".py",
   "mimetype": "text/x-python",
   "name": "python",
   "nbconvert_exporter": "python",
   "pygments_lexer": "ipython3",
   "version": "3.11.3"
  },
  "orig_nbformat": 4
 },
 "nbformat": 4,
 "nbformat_minor": 2
}
