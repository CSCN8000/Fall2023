{
 "cells": [
  {
   "cell_type": "markdown",
   "metadata": {},
   "source": [
    "\n",
    "# **Lab1 Assignment**"
   ]
  },
  {
   "cell_type": "markdown",
   "metadata": {},
   "source": [
    "## PART A"
   ]
  },
  {
   "cell_type": "markdown",
   "metadata": {},
   "source": [
    "###  NumPy Operations :"
   ]
  },
  {
   "cell_type": "markdown",
   "metadata": {},
   "source": [
    "##### A1\n"
   ]
  },
  {
   "cell_type": "code",
   "execution_count": 61,
   "metadata": {},
   "outputs": [
    {
     "name": "stdout",
     "output_type": "stream",
     "text": [
      "\n",
      " The array is : \n",
      "[ 1  4  7 10 13 16 19]\n"
     ]
    }
   ],
   "source": [
    "import numpy as np\n",
    "#An array starting with 1 and ends at 20\n",
    "array1 = np.arange(start=1, stop=20, step=3) \n",
    "print(\"\\n\", \"The array is : \")\n",
    "print(array1)"
   ]
  },
  {
   "cell_type": "markdown",
   "metadata": {},
   "source": [
    "##### A2"
   ]
  },
  {
   "cell_type": "code",
   "execution_count": 62,
   "metadata": {},
   "outputs": [
    {
     "name": "stdout",
     "output_type": "stream",
     "text": [
      "\n",
      " The Random Array : \n",
      "[[0.49207926 0.22196532 0.03215227]\n",
      " [0.2641344  0.7049374  0.93627994]\n",
      " [0.35998908 0.15983377 0.38038106]]\n"
     ]
    }
   ],
   "source": [
    "#An array with random number wth shape 3\n",
    "randomArray = np.random.rand(3,3)\n",
    "print(\"\\n\", \"The Random Array : \")\n",
    "print(randomArray)"
   ]
  },
  {
   "cell_type": "markdown",
   "metadata": {},
   "source": [
    "##### A3"
   ]
  },
  {
   "cell_type": "code",
   "execution_count": 75,
   "metadata": {},
   "outputs": [
    {
     "name": "stdout",
     "output_type": "stream",
     "text": [
      "Array after slicing is : \n",
      "[[10 20 45]\n",
      " [30 12 16]]\n",
      "\n",
      " Array after slicing is : \n",
      "[[30 12 16]\n",
      " [42 17 56]]\n"
     ]
    }
   ],
   "source": [
    "#2D Array\n",
    "list = [[10,20,45],[30,12,16],[42,17,56]]\n",
    "num =np.array(list)\n",
    "#Array slicing to get the first two rows\n",
    "print(\"Array after slicing is : \")\n",
    "print(num[:2]) \n",
    "\n",
    "#Array slicing to get the last two rows\n",
    "print(\"\\n\",\"Array after slicing is : \")\n",
    "# print(num[1::])\n",
    "print(num[1:])"
   ]
  },
  {
   "cell_type": "markdown",
   "metadata": {},
   "source": [
    "##### A4"
   ]
  },
  {
   "cell_type": "code",
   "execution_count": 82,
   "metadata": {},
   "outputs": [
    {
     "name": "stdout",
     "output_type": "stream",
     "text": [
      "The Arrays are : \n",
      "[[4 5]\n",
      " [2 3]] \n",
      "\n",
      " [[8 9]\n",
      " [6 7]]\n",
      "\n",
      " The Array after stacking the elements vertically : \n",
      "\n",
      " [[4 5]\n",
      " [2 3]\n",
      " [8 9]\n",
      " [6 7]]\n",
      "\n",
      " The Array after stacking the elements horizontally : \n",
      "\n",
      " [[4 5 8 9]\n",
      " [2 3 6 7]]\n",
      "\n",
      " The first array after splitting : \n",
      "\n",
      " [array([[4, 5]]), array([[2, 3]])]\n",
      "\n",
      " The second array after splitting : \n",
      "\n",
      " [array([[8, 9]]), array([[6, 7]])]\n"
     ]
    }
   ],
   "source": [
    "#2 arrays arr1 and arr2\n",
    "arr1 = np.array([[4,5],[2,3]])\n",
    "arr2 = np.array([[8,9],[6,7]])\n",
    "print(\"The Arrays are : \")\n",
    "print(arr1,\"\\n\\n\", arr2)\n",
    "\n",
    "#Stacking the arrays vertically\n",
    "stackedArrayVertical = np.vstack((arr1, arr2))\n",
    "print(\"\\n\",\"The Array after stacking the elements vertically : \")\n",
    "print(\"\\n\", stackedArrayVertical)\n",
    "\n",
    "#Stacking the arrays horizontally\n",
    "stackedArrayHorizontal = np.hstack((arr1, arr2))\n",
    "print(\"\\n\",\"The Array after stacking the elements horizontally : \")\n",
    "print(\"\\n\", stackedArrayHorizontal)\n",
    "\n",
    "#splitting the 2 arrays into smaller arrays\n",
    "arr3= np.split(arr1,2)\n",
    "print(\"\\n\",\"The first array after splitting : \")\n",
    "print(\"\\n\", arr3)\n",
    "\n",
    "arr4= np.split(arr2,2)\n",
    "print(\"\\n\",\"The second array after splitting : \")\n",
    "print(\"\\n\", arr4)\n",
    "\n",
    "\n",
    "\n"
   ]
  },
  {
   "cell_type": "markdown",
   "metadata": {},
   "source": [
    "##### A5"
   ]
  },
  {
   "cell_type": "code",
   "execution_count": 41,
   "metadata": {},
   "outputs": [
    {
     "name": "stdout",
     "output_type": "stream",
     "text": [
      "[[5 7 2]\n",
      " [4 5 6]\n",
      " [7 4 2]] \n",
      "\n",
      " [[4 2]\n",
      " [6 2]\n",
      " [4 2]]\n",
      "\n",
      " The matrix multiplication of arrays is :\n",
      "\n",
      " [[70 28]\n",
      " [70 30]\n",
      " [60 26]]\n"
     ]
    }
   ],
   "source": [
    "#Matrix multiplication of 2 arrays num1 and num2\n",
    "num1 = np.array([[5,7,2],[4,5,6],[7, 4 ,2]])\n",
    "num2 = np.array([[4, 2], [6, 2], [4, 2]])\n",
    "print(num1,\"\\n\\n\", num2)\n",
    "\n",
    "result =np.dot(num1,num2)\n",
    "print(\"\\n\",\"The matrix multiplication of arrays is :\")\n",
    "print(\"\\n\", result)\n",
    "\n",
    "#Matrix multiplication of num3= np.array([[4, 2], [6, 2], [4, 2]]) and num4= np.array([[4, 2], [6, 2], [4, 2],[8,9]])) is not possible \n",
    "\n"
   ]
  },
  {
   "cell_type": "markdown",
   "metadata": {},
   "source": [
    "##### A6"
   ]
  },
  {
   "cell_type": "code",
   "execution_count": 60,
   "metadata": {},
   "outputs": [
    {
     "name": "stdout",
     "output_type": "stream",
     "text": [
      "\n",
      " The two arrays are :\n",
      "[ 2 -1 -8] \n",
      "\n",
      " [ 3  1 -2]\n",
      "\n",
      " The shape of array is :\n",
      "\n",
      " (3,)\n",
      "\n",
      " The dimension of firstarr is :\n",
      "1\n",
      "\n",
      " The reshaped array is :\n",
      "[[ 2]\n",
      " [-1]\n",
      " [-8]]\n",
      "\n",
      " The reshaped array is :\n",
      "[[ 3]\n",
      " [ 1]\n",
      " [-2]]\n",
      "\n",
      " The dimension of secondarr is :\n",
      "2\n"
     ]
    }
   ],
   "source": [
    "#Defining 2 arrays fistarr and secondarr\n",
    "firstarr= np.array([2, -1, -8])\n",
    "secondarr = np.array([3, 1, -2])\n",
    "print(\"\\n\",\"The two arrays are :\")\n",
    "print(firstarr, \"\\n\\n\", secondarr)\n",
    "# Finding the shape of firstarray\n",
    "print(\"\\n\",\"The shape of array is :\")\n",
    "print(\"\\n\", firstarr.shape)\n",
    "\n",
    "\n",
    "#Finding the dimension of firstarr\n",
    "print(\"\\n\",\"The dimension of firstarr is :\")\n",
    "print(firstarr.ndim)\n",
    "\n",
    "#reshaping the firstarray to (3,1)\n",
    "newarr =firstarr.reshape(3,1)\n",
    "print(\"\\n\",\"The reshaped array is :\")\n",
    "print(newarr)\n",
    "\n",
    "#reshaping the secondarray to (3,1)\n",
    "newarr1 =secondarr.reshape(3,1)\n",
    "print(\"\\n\",\"The reshaped array is :\")\n",
    "print(newarr1)\n",
    "\n",
    "#Finding the dimension of reshaped secondarray\n",
    "print(\"\\n\",\"The dimension of secondarr is :\")\n",
    "print(newarr1.ndim)\n",
    "\n",
    "\n",
    "\n"
   ]
  },
  {
   "cell_type": "markdown",
   "metadata": {},
   "source": [
    "##### A7"
   ]
  },
  {
   "cell_type": "code",
   "execution_count": 66,
   "metadata": {},
   "outputs": [
    {
     "name": "stdout",
     "output_type": "stream",
     "text": [
      "\n",
      " The 3D Array is :\n",
      "[[10 20 30]\n",
      " [50 60 80]\n",
      " [40 70 90]]\n",
      "\n",
      " The subtracted array is : \n",
      "[[ 5 15 25]\n",
      " [45 55 75]\n",
      " [35 65 85]]\n",
      "\n",
      " The array after multiplication is :\n",
      "[[ 20  40  60]\n",
      " [100 120 160]\n",
      " [ 80 140 180]]\n"
     ]
    }
   ],
   "source": [
    "#Broadcasting in numpy :\n",
    "#The broadcasting feature of NumPy can be used to perform operations on arrays of various shapes,and join arrays with varying dimensionality.\n",
    "#NumPy handles broadcasting automatically and makes element-wise operations possible by expanding the smaller array to adopt the geometry of the larger one.\n",
    "\n",
    "# A 3 Dimensional array \n",
    "Arr3D = np.array([[10,20,30],[50,60,80],[40,70,90]])\n",
    "print(\"\\n\", \"The 3D Array is :\")\n",
    "print(Arr3D)\n",
    "\n",
    "#Performing scalar subtraction operation on the created 3D array \n",
    "ArrSub = Arr3D -5\n",
    "print(\"\\n\",\"The subtracted array is : \")\n",
    "print(ArrSub)\n",
    "\n",
    "#Performing scalar multiplication operation on the created 3D array\n",
    "ArrMulti = Arr3D * 2\n",
    "print(\"\\n\", \"The array after multiplication is :\")\n",
    "print(ArrMulti)\n",
    "\n",
    "\n"
   ]
  }
 ],
 "metadata": {
  "kernelspec": {
   "display_name": "CSCN8010_classic_ml",
   "language": "python",
   "name": "cscn8010_classic_ml"
  },
  "language_info": {
   "codemirror_mode": {
    "name": "ipython",
    "version": 3
   },
   "file_extension": ".py",
   "mimetype": "text/x-python",
   "name": "python",
   "nbconvert_exporter": "python",
   "pygments_lexer": "ipython3",
   "version": "3.11.3"
  },
  "orig_nbformat": 4
 },
 "nbformat": 4,
 "nbformat_minor": 2
}
