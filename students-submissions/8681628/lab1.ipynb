{
 "cells": [
  {
   "cell_type": "code",
   "execution_count": 8,
   "metadata": {},
   "outputs": [
    {
     "name": "stdout",
     "output_type": "stream",
     "text": [
      "Q1 - Create an array that starts from the integer 1, ends at 20, incremented by 3.\n",
      "[1, 4, 7, 10, 13, 16, 19]\n"
     ]
    }
   ],
   "source": [
    "print (\"Q1 - Create an array that starts from the integer 1, ends at 20, incremented by 3.\")\n",
    "list = [x for x in range(1, 21, 3)]\n",
    "print(list)"
   ]
  },
  {
   "cell_type": "code",
   "execution_count": 2,
   "metadata": {},
   "outputs": [
    {
     "name": "stdout",
     "output_type": "stream",
     "text": [
      "Collecting numpy\n",
      "  Downloading numpy-1.25.2-cp311-cp311-win_amd64.whl (15.5 MB)\n",
      "     ---------------------------------------- 15.5/15.5 MB 4.4 MB/s eta 0:00:00\n",
      "Installing collected packages: numpy\n",
      "Successfully installed numpy-1.25.2\n",
      "Note: you may need to restart the kernel to use updated packages.\n"
     ]
    },
    {
     "name": "stderr",
     "output_type": "stream",
     "text": [
      "  WARNING: The script f2py.exe is installed in 'c:\\Users\\Rj\\AppData\\Local\\Programs\\Python\\Python311\\Scripts' which is not on PATH.\n",
      "  Consider adding this directory to PATH or, if you prefer to suppress this warning, use --no-warn-script-location.\n",
      "\n",
      "[notice] A new release of pip available: 22.3.1 -> 23.2.1\n",
      "[notice] To update, run: python.exe -m pip install --upgrade pip\n"
     ]
    }
   ],
   "source": [
    "%pip install numpy\n"
   ]
  },
  {
   "cell_type": "code",
   "execution_count": 9,
   "metadata": {},
   "outputs": [
    {
     "name": "stdout",
     "output_type": "stream",
     "text": [
      "Q2 - Create a new array of shape 3 with random numbers between 0 and 1.\n",
      "[0.80399923 0.60279146 0.1100465 ]\n",
      "(3,)\n"
     ]
    }
   ],
   "source": [
    "print (\"Q2 - Create a new array of shape 3 with random numbers between 0 and 1.\")\n",
    "\n",
    "import numpy as np\n",
    "\n",
    "list2 = np.random.rand(3)\n",
    "\n",
    "print(list2)\n",
    "print(list2.shape)"
   ]
  },
  {
   "cell_type": "code",
   "execution_count": 10,
   "metadata": {},
   "outputs": [
    {
     "name": "stdout",
     "output_type": "stream",
     "text": [
      "Q3 - Create a 2 D array [[10,20,45], [30,12,16], [42,17,56]] \n",
      "Q3(a) - Slice the 2D array to get the first two rows, slice the 2D array to get the last two rows.\n",
      "first two rows : [[10 20 45]\n",
      " [30 12 16]]\n",
      "last two rows : [[30 12 16]\n",
      " [42 17 56]]\n"
     ]
    }
   ],
   "source": [
    "print (\"Q3 - Create a 2 D array [[10,20,45], [30,12,16], [42,17,56]] \")\n",
    "\n",
    "\n",
    "td_array = np.array([[10,20,45], [30,12,16], [42,17,56]])\n",
    "\n",
    "print (\"Q3(a) - Slice the 2D array to get the first two rows, slice the 2D array to get the last two rows.\")\n",
    "\n",
    "\n",
    "first_two_rows = td_array[:2,:]\n",
    "\n",
    "last_two_rows = td_array[1:,:]\n",
    "\n",
    "\n",
    "print(f\"first two rows : {first_two_rows}\")\n",
    "print(f\"last two rows : {last_two_rows}\")"
   ]
  },
  {
   "cell_type": "code",
   "execution_count": 15,
   "metadata": {},
   "outputs": [
    {
     "name": "stdout",
     "output_type": "stream",
     "text": [
      "Q4 - Create two 2x2 arrays and demonstrate how you can stack the elements vertically, horizontally, and split the arrays into smaller arrays.\n",
      "verticlly stacked arrays : [[42 17]\n",
      " [30 12]\n",
      " [20 45]\n",
      " [13 16]]\n",
      "horizontally stacked arrays : [[42 17 20 45]\n",
      " [30 12 13 16]]\n",
      "verticlly split arrays : [array([[42, 17]]), array([[30, 12]])]\n",
      "horizontally split arrays : [array([[42],\n",
      "       [30]]), array([[17],\n",
      "       [12]])]\n"
     ]
    }
   ],
   "source": [
    "print (\"Q4 - Create two 2x2 arrays and demonstrate how you can stack the elements vertically, horizontally, and split the arrays into smaller arrays.\")\n",
    "\n",
    "\n",
    "\n",
    "first_array = np.array([[42,17],[30,12]])\n",
    "second_array = np.array([[20,45],[13,16]])\n",
    "\n",
    "\n",
    "verticle_stack = np.vstack((first_array,second_array))\n",
    "\n",
    "horizontal_stack = np.hstack((first_array,second_array))\n",
    "\n",
    "print(f\"verticlly stacked arrays : {verticle_stack}\")\n",
    "\n",
    "print(f\"horizontally stacked arrays : {horizontal_stack}\")\n",
    "\n",
    "\n",
    "\n",
    "split_first_array_ver = np.vsplit(first_array,2)\n",
    "\n",
    "split_first_array_hor = np.hsplit(first_array,2)\n",
    "\n",
    "\n",
    "print(f\"verticlly split arrays : {split_first_array_ver}\")\n",
    "print(f\"horizontally split arrays : {split_first_array_hor}\")\n",
    "\n",
    "\n"
   ]
  },
  {
   "cell_type": "code",
   "execution_count": null,
   "metadata": {},
   "outputs": [],
   "source": []
  }
 ],
 "metadata": {
  "kernelspec": {
   "display_name": "Python 3",
   "language": "python",
   "name": "python3"
  },
  "language_info": {
   "codemirror_mode": {
    "name": "ipython",
    "version": 3
   },
   "file_extension": ".py",
   "mimetype": "text/x-python",
   "name": "python",
   "nbconvert_exporter": "python",
   "pygments_lexer": "ipython3",
   "version": "3.11.2"
  },
  "orig_nbformat": 4
 },
 "nbformat": 4,
 "nbformat_minor": 2
}
