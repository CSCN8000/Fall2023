{
 "cells": [
  {
   "cell_type": "markdown",
   "metadata": {},
   "source": [
    "# Part A"
   ]
  },
  {
   "cell_type": "markdown",
   "metadata": {},
   "source": [
    "### Q1 - Create an array that starts from the integer 1, ends at 20, incremented by 3."
   ]
  },
  {
   "cell_type": "code",
   "execution_count": 19,
   "metadata": {},
   "outputs": [
    {
     "name": "stdout",
     "output_type": "stream",
     "text": [
      "[1, 4, 7, 10, 13, 16, 19]\n"
     ]
    }
   ],
   "source": [
    "list = [x for x in range(1, 21, 3)]\n",
    "print(list)"
   ]
  },
  {
   "cell_type": "code",
   "execution_count": 4,
   "metadata": {},
   "outputs": [
    {
     "name": "stdout",
     "output_type": "stream",
     "text": [
      "Note: you may need to restart the kernel to use updated packages.\n"
     ]
    },
    {
     "name": "stderr",
     "output_type": "stream",
     "text": [
      "'f:\\conestoga\\ai' is not recognized as an internal or external command,\n",
      "operable program or batch file.\n"
     ]
    }
   ],
   "source": [
    "%pip install numpy\n"
   ]
  },
  {
   "cell_type": "markdown",
   "metadata": {},
   "source": [
    "###  Q2 - Create a new array of shape 3 with random numbers between 0 and 1."
   ]
  },
  {
   "cell_type": "code",
   "execution_count": 20,
   "metadata": {},
   "outputs": [
    {
     "name": "stdout",
     "output_type": "stream",
     "text": [
      "[0.71376457 0.3323655  0.49696122]\n",
      "(3,)\n"
     ]
    }
   ],
   "source": [
    "import numpy as np\n",
    "\n",
    "list2 = np.random.rand(3)\n",
    "\n",
    "print(list2)\n",
    "print(list2.shape)"
   ]
  },
  {
   "cell_type": "markdown",
   "metadata": {},
   "source": [
    "### Q3 - Create a 2 D array [[10,20,45], [30,12,16], [42,17,56]] "
   ]
  },
  {
   "cell_type": "code",
   "execution_count": 21,
   "metadata": {},
   "outputs": [
    {
     "name": "stdout",
     "output_type": "stream",
     "text": [
      "Q3(a) - Slice the 2D array to get the first two rows, slice the 2D array to get the last two rows.\n",
      "first two rows : [[10 20 45]\n",
      " [30 12 16]]\n",
      "last two rows : [[30 12 16]\n",
      " [42 17 56]]\n"
     ]
    }
   ],
   "source": [
    "\n",
    "\n",
    "td_array = np.array([[10,20,45], [30,12,16], [42,17,56]])\n",
    "\n",
    "print (\"Q3(a) - Slice the 2D array to get the first two rows, slice the 2D array to get the last two rows.\")\n",
    "\n",
    "\n",
    "first_two_rows = td_array[:2,:]\n",
    "\n",
    "last_two_rows = td_array[1:,:]\n",
    "\n",
    "\n",
    "print(f\"first two rows : {first_two_rows}\")\n",
    "print(f\"last two rows : {last_two_rows}\")"
   ]
  },
  {
   "cell_type": "markdown",
   "metadata": {},
   "source": [
    "### Q4 - Create two 2x2 arrays and demonstrate how you can stack the elements vertically, horizontally, and split the arrays into smaller arrays."
   ]
  },
  {
   "cell_type": "code",
   "execution_count": 22,
   "metadata": {},
   "outputs": [
    {
     "name": "stdout",
     "output_type": "stream",
     "text": [
      "verticlly stacked arrays : [[42 17]\n",
      " [30 12]\n",
      " [20 45]\n",
      " [13 16]]\n",
      "horizontally stacked arrays : [[42 17 20 45]\n",
      " [30 12 13 16]]\n",
      "verticlly split arrays : [array([[42, 17]]), array([[30, 12]])]\n",
      "horizontally split arrays : [array([[42],\n",
      "       [30]]), array([[17],\n",
      "       [12]])]\n"
     ]
    }
   ],
   "source": [
    "first_array = np.array([[42,17],[30,12]])\n",
    "second_array = np.array([[20,45],[13,16]])\n",
    "\n",
    "\n",
    "verticle_stack = np.vstack((first_array,second_array))\n",
    "\n",
    "horizontal_stack = np.hstack((first_array,second_array))\n",
    "\n",
    "print(f\"verticlly stacked arrays : {verticle_stack}\")\n",
    "\n",
    "print(f\"horizontally stacked arrays : {horizontal_stack}\")\n",
    "\n",
    "\n",
    "\n",
    "split_first_array_ver = np.vsplit(first_array,2)\n",
    "\n",
    "split_first_array_hor = np.hsplit(first_array,2)\n",
    "\n",
    "\n",
    "print(f\"verticlly split arrays : {split_first_array_ver}\")\n",
    "print(f\"horizontally split arrays : {split_first_array_hor}\")\n",
    "\n",
    "\n"
   ]
  },
  {
   "cell_type": "markdown",
   "metadata": {},
   "source": [
    "### Q5 - Create two matrices X= ([[5, 7, 2], [4, 5, 6], [7, 4 ,2]]) Y= ([[4, 2], [6, 2], [4, 2]]),\n",
    "#### Is it possible to multiply these matrices?\n",
    "#### Demonstrate the case when it is not possible to."
   ]
  },
  {
   "cell_type": "code",
   "execution_count": 8,
   "metadata": {},
   "outputs": [
    {
     "name": "stdout",
     "output_type": "stream",
     "text": [
      "shape of X: (3, 3)\n",
      "shape of Y: (3, 2)\n"
     ]
    }
   ],
   "source": [
    "X= np.array([[5, 7, 2], [4, 5, 6], [7, 4 ,2]])\n",
    "Y= np.array([[4, 2], [6, 2], [4, 2]])\n",
    "\n",
    "print(f\"shape of X: {X.shape}\")\n",
    "print(f\"shape of Y: {Y.shape}\")\n",
    "\n"
   ]
  },
  {
   "cell_type": "code",
   "execution_count": 9,
   "metadata": {},
   "outputs": [
    {
     "name": "stdout",
     "output_type": "stream",
     "text": [
      "shapes (3,3) and (2,2) not aligned: 3 (dim 1) != 2 (dim 0)\n"
     ]
    }
   ],
   "source": [
    "demo_X = np.array([[5, 7, 2], [4, 5, 6], [7, 4, 2]])\n",
    "demo_Y = np.array([[4, 2], [6, 2]])\n",
    "try:\n",
    "    multi = np.dot(demo_X, demo_Y)\n",
    "except Exception as e:\n",
    "    print(e)"
   ]
  },
  {
   "cell_type": "markdown",
   "metadata": {},
   "source": [
    "### Q6 - Create two arrays, x = ([2, -1, -8]) y = ([3, 1, -2]),\n",
    "#### Find the Shape, Number of dimensions of vector x.\n",
    "#### Reshape the vector x to a matrix of size (3,1) and determine the number of dimensions after reshaping y to a matrix of (3,1).\n"
   ]
  },
  {
   "cell_type": "code",
   "execution_count": 10,
   "metadata": {},
   "outputs": [
    {
     "name": "stdout",
     "output_type": "stream",
     "text": [
      "shape of x  is  : (3,) and dimension of x is 1\n",
      "shape of reshaped x  is  : (3, 1) and dimension of reshaped x is 2 \n",
      " reshaped x [[ 2]\n",
      " [-1]\n",
      " [-8]]\n",
      "shape of reshaped y  is  : (3, 1) and dimension of reshaped y is 2\n",
      " reshaped y [[ 3]\n",
      " [ 1]\n",
      " [-2]]\n"
     ]
    }
   ],
   "source": [
    "x = np.array([2, -1, -8])\n",
    "y = np.array([3, 1, -2])\n",
    "\n",
    "shape_x = x.shape\n",
    "dim_x = x.ndim\n",
    "\n",
    "print(f\"shape of x  is  : {shape_x} and dimension of x is {dim_x}\")\n",
    "\n",
    "x_reshaped = x.reshape((3, 1))\n",
    "y_reshaped = y.reshape((3, 1))\n",
    "\n",
    "print(f\"shape of reshaped x  is  : {x_reshaped.shape} and dimension of reshaped x is {x_reshaped.ndim} \\n reshaped x {x_reshaped}\")\n",
    "\n",
    "print(f\"shape of reshaped y  is  : {y_reshaped.shape} and dimension of reshaped y is {y_reshaped.ndim}\\n reshaped y {y_reshaped}\")\n",
    "\n"
   ]
  },
  {
   "cell_type": "markdown",
   "metadata": {},
   "source": [
    "### How does broadcasting work? Demonstrate the subtraction, multiplication by considering a 3 x 3 matrix.\n"
   ]
  },
  {
   "cell_type": "markdown",
   "metadata": {},
   "source": [
    "Broadcasting in NumPy allows us to perform different operations on arrays without re-shaping them. When there's difference in shape, broadcasting handles it by maximizing the smaller array to the shape of larger one.\n",
    "\n",
    "In example below, \n",
    "broadcasting is demonstrated by doing substraction and multiplication on 3*3 matrix. It allowed us to multiply the matrix by the number 6 and substract the same matix by number 5. It automatically took care of difference of shape between the matrix and number 6 and 5 respectively while performing those arithmetic operations. "
   ]
  },
  {
   "cell_type": "code",
   "execution_count": 23,
   "metadata": {},
   "outputs": [
    {
     "name": "stdout",
     "output_type": "stream",
     "text": [
      "The 3*3 matirx : \n",
      " [[0.13935805 0.39130303 0.98179792]\n",
      " [0.1589155  0.88611104 0.60318977]\n",
      " [0.9500035  0.6633018  0.64601085]]\n",
      "Matrix after substration : \n",
      " [[-4.86064195 -4.60869697 -4.01820208]\n",
      " [-4.8410845  -4.11388896 -4.39681023]\n",
      " [-4.0499965  -4.3366982  -4.35398915]]\n",
      "Matrix after multiplication :\n",
      " [[0.83614828 2.3478182  5.89078755]\n",
      " [0.95349297 5.31666623 3.61913863]\n",
      " [5.70002099 3.97981083 3.87606509]]\n"
     ]
    }
   ],
   "source": [
    "my_matr = np.random.rand(3, 3)\n",
    "\n",
    "print(f\"The 3*3 matirx : \\n {my_matr}\")\n",
    "\n",
    "sub_matr = my_matr - 5\n",
    "print(f\"Matrix after substration : \\n {sub_matr}\")\n",
    "\n",
    "\n",
    "mul_matr = my_matr * 6\n",
    "\n",
    "print(f\"Matrix after multiplication :\\n {mul_matr}\")\n",
    "\n"
   ]
  },
  {
   "cell_type": "markdown",
   "metadata": {},
   "source": [
    "# Part B"
   ]
  },
  {
   "cell_type": "markdown",
   "metadata": {},
   "source": [
    "## Determine the singularity of the system of equations, comment on the expected solution of the system. Solve the system of equations if possible. Justify the reason why you believe the system can or cannot be solved using numpy functions.\n",
    "\n",
    "### Part B.1"
   ]
  },
  {
   "cell_type": "code",
   "execution_count": 27,
   "metadata": {},
   "outputs": [
    {
     "name": "stdout",
     "output_type": "stream",
     "text": [
      "-70.00000000000003\n"
     ]
    }
   ],
   "source": [
    "cooff = np.array([[4, 1, -2],[2, -3, 2],[1, 2, 3]])\n",
    "\n",
    "constant = np.array([10, -4, 6])\n",
    "\n",
    "determinant = np.linalg.det(cooff)\n",
    "\n",
    "print(determinant)"
   ]
  },
  {
   "cell_type": "code",
   "execution_count": 29,
   "metadata": {},
   "outputs": [
    {
     "name": "stdout",
     "output_type": "stream",
     "text": [
      "[ 1.8  2.4 -0.2]\n"
     ]
    }
   ],
   "source": [
    "sol = np.linalg.solve(cooff, constant)\n",
    "print(sol)"
   ]
  },
  {
   "cell_type": "markdown",
   "metadata": {},
   "source": [
    "### Part B.2"
   ]
  },
  {
   "cell_type": "code",
   "execution_count": 30,
   "metadata": {},
   "outputs": [
    {
     "name": "stdout",
     "output_type": "stream",
     "text": [
      "0.0\n"
     ]
    }
   ],
   "source": [
    "cooff_b = np.array([[2, -1, 3, 4],[4, -2, 6, 8],[3, 1, -2, 2],[1, 3, -4, 1]])\n",
    "\n",
    "constant_b = np.array([10, 20, 3, -1])\n",
    "\n",
    "determinant_b = np.linalg.det(cooff_b)\n",
    "print(determinant_b)"
   ]
  },
  {
   "cell_type": "code",
   "execution_count": 32,
   "metadata": {},
   "outputs": [
    {
     "ename": "LinAlgError",
     "evalue": "Singular matrix",
     "output_type": "error",
     "traceback": [
      "\u001b[1;31m---------------------------------------------------------------------------\u001b[0m",
      "\u001b[1;31mLinAlgError\u001b[0m                               Traceback (most recent call last)",
      "\u001b[1;32m<ipython-input-32-9a16c3998227>\u001b[0m in \u001b[0;36m<module>\u001b[1;34m\u001b[0m\n\u001b[1;32m----> 1\u001b[1;33m \u001b[0msol_b\u001b[0m \u001b[1;33m=\u001b[0m \u001b[0mnp\u001b[0m\u001b[1;33m.\u001b[0m\u001b[0mlinalg\u001b[0m\u001b[1;33m.\u001b[0m\u001b[0msolve\u001b[0m\u001b[1;33m(\u001b[0m\u001b[0mcooff_b\u001b[0m\u001b[1;33m,\u001b[0m \u001b[0mconstant_b\u001b[0m\u001b[1;33m)\u001b[0m\u001b[1;33m\u001b[0m\u001b[1;33m\u001b[0m\u001b[0m\n\u001b[0m\u001b[0;32m      2\u001b[0m \u001b[0mprint\u001b[0m\u001b[1;33m(\u001b[0m\u001b[0msol_b\u001b[0m\u001b[1;33m)\u001b[0m\u001b[1;33m\u001b[0m\u001b[1;33m\u001b[0m\u001b[0m\n",
      "\u001b[1;32m<__array_function__ internals>\u001b[0m in \u001b[0;36msolve\u001b[1;34m(*args, **kwargs)\u001b[0m\n",
      "\u001b[1;32mf:\\conestoga\\ai and algo\\fall2023--ai-algo\\venv\\lib\\site-packages\\numpy\\linalg\\linalg.py\u001b[0m in \u001b[0;36msolve\u001b[1;34m(a, b)\u001b[0m\n\u001b[0;32m    392\u001b[0m     \u001b[0msignature\u001b[0m \u001b[1;33m=\u001b[0m \u001b[1;34m'DD->D'\u001b[0m \u001b[1;32mif\u001b[0m \u001b[0misComplexType\u001b[0m\u001b[1;33m(\u001b[0m\u001b[0mt\u001b[0m\u001b[1;33m)\u001b[0m \u001b[1;32melse\u001b[0m \u001b[1;34m'dd->d'\u001b[0m\u001b[1;33m\u001b[0m\u001b[1;33m\u001b[0m\u001b[0m\n\u001b[0;32m    393\u001b[0m     \u001b[0mextobj\u001b[0m \u001b[1;33m=\u001b[0m \u001b[0mget_linalg_error_extobj\u001b[0m\u001b[1;33m(\u001b[0m\u001b[0m_raise_linalgerror_singular\u001b[0m\u001b[1;33m)\u001b[0m\u001b[1;33m\u001b[0m\u001b[1;33m\u001b[0m\u001b[0m\n\u001b[1;32m--> 394\u001b[1;33m     \u001b[0mr\u001b[0m \u001b[1;33m=\u001b[0m \u001b[0mgufunc\u001b[0m\u001b[1;33m(\u001b[0m\u001b[0ma\u001b[0m\u001b[1;33m,\u001b[0m \u001b[0mb\u001b[0m\u001b[1;33m,\u001b[0m \u001b[0msignature\u001b[0m\u001b[1;33m=\u001b[0m\u001b[0msignature\u001b[0m\u001b[1;33m,\u001b[0m \u001b[0mextobj\u001b[0m\u001b[1;33m=\u001b[0m\u001b[0mextobj\u001b[0m\u001b[1;33m)\u001b[0m\u001b[1;33m\u001b[0m\u001b[1;33m\u001b[0m\u001b[0m\n\u001b[0m\u001b[0;32m    395\u001b[0m \u001b[1;33m\u001b[0m\u001b[0m\n\u001b[0;32m    396\u001b[0m     \u001b[1;32mreturn\u001b[0m \u001b[0mwrap\u001b[0m\u001b[1;33m(\u001b[0m\u001b[0mr\u001b[0m\u001b[1;33m.\u001b[0m\u001b[0mastype\u001b[0m\u001b[1;33m(\u001b[0m\u001b[0mresult_t\u001b[0m\u001b[1;33m,\u001b[0m \u001b[0mcopy\u001b[0m\u001b[1;33m=\u001b[0m\u001b[1;32mFalse\u001b[0m\u001b[1;33m)\u001b[0m\u001b[1;33m)\u001b[0m\u001b[1;33m\u001b[0m\u001b[1;33m\u001b[0m\u001b[0m\n",
      "\u001b[1;32mf:\\conestoga\\ai and algo\\fall2023--ai-algo\\venv\\lib\\site-packages\\numpy\\linalg\\linalg.py\u001b[0m in \u001b[0;36m_raise_linalgerror_singular\u001b[1;34m(err, flag)\u001b[0m\n\u001b[0;32m     86\u001b[0m \u001b[1;33m\u001b[0m\u001b[0m\n\u001b[0;32m     87\u001b[0m \u001b[1;32mdef\u001b[0m \u001b[0m_raise_linalgerror_singular\u001b[0m\u001b[1;33m(\u001b[0m\u001b[0merr\u001b[0m\u001b[1;33m,\u001b[0m \u001b[0mflag\u001b[0m\u001b[1;33m)\u001b[0m\u001b[1;33m:\u001b[0m\u001b[1;33m\u001b[0m\u001b[1;33m\u001b[0m\u001b[0m\n\u001b[1;32m---> 88\u001b[1;33m     \u001b[1;32mraise\u001b[0m \u001b[0mLinAlgError\u001b[0m\u001b[1;33m(\u001b[0m\u001b[1;34m\"Singular matrix\"\u001b[0m\u001b[1;33m)\u001b[0m\u001b[1;33m\u001b[0m\u001b[1;33m\u001b[0m\u001b[0m\n\u001b[0m\u001b[0;32m     89\u001b[0m \u001b[1;33m\u001b[0m\u001b[0m\n\u001b[0;32m     90\u001b[0m \u001b[1;32mdef\u001b[0m \u001b[0m_raise_linalgerror_nonposdef\u001b[0m\u001b[1;33m(\u001b[0m\u001b[0merr\u001b[0m\u001b[1;33m,\u001b[0m \u001b[0mflag\u001b[0m\u001b[1;33m)\u001b[0m\u001b[1;33m:\u001b[0m\u001b[1;33m\u001b[0m\u001b[1;33m\u001b[0m\u001b[0m\n",
      "\u001b[1;31mLinAlgError\u001b[0m: Singular matrix"
     ]
    }
   ],
   "source": [
    "try:\n",
    "    sol_b = np.linalg.solve(cooff_b, constant_b)\n",
    "except LinAlgError as e:\n",
    "    print(\"The \")"
   ]
  },
  {
   "cell_type": "code",
   "execution_count": null,
   "metadata": {},
   "outputs": [],
   "source": []
  }
 ],
 "metadata": {
  "kernelspec": {
   "display_name": "Python 3",
   "language": "python",
   "name": "python3"
  },
  "language_info": {
   "codemirror_mode": {
    "name": "ipython",
    "version": 3
   },
   "file_extension": ".py",
   "mimetype": "text/x-python",
   "name": "python",
   "nbconvert_exporter": "python",
   "pygments_lexer": "ipython3",
   "version": "3.6.8"
  }
 },
 "nbformat": 4,
 "nbformat_minor": 2
}
