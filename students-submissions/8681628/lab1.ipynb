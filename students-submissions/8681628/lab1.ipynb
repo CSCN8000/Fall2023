{
 "cells": [
  {
   "cell_type": "markdown",
   "metadata": {},
   "source": [
    "# Part A"
   ]
  },
  {
   "cell_type": "markdown",
   "metadata": {},
   "source": [
    "### Q1 - Create an array that starts from the integer 1, ends at 20, incremented by 3."
   ]
  },
  {
   "cell_type": "code",
   "execution_count": 2,
   "metadata": {},
   "outputs": [
    {
     "name": "stdout",
     "output_type": "stream",
     "text": [
      "[1, 4, 7, 10, 13, 16, 19]\n"
     ]
    }
   ],
   "source": [
    "list = [x for x in range(1, 21, 3)]\n",
    "print(list)"
   ]
  },
  {
   "cell_type": "code",
   "execution_count": 3,
   "metadata": {},
   "outputs": [
    {
     "name": "stdout",
     "output_type": "stream",
     "text": [
      "Note: you may need to restart the kernel to use updated packages.\n"
     ]
    },
    {
     "name": "stderr",
     "output_type": "stream",
     "text": [
      "'f:\\conestoga\\ai' is not recognized as an internal or external command,\n",
      "operable program or batch file.\n"
     ]
    }
   ],
   "source": [
    "%pip install numpy\n"
   ]
  },
  {
   "cell_type": "markdown",
   "metadata": {},
   "source": [
    "###  Q2 - Create a new array of shape 3 with random numbers between 0 and 1."
   ]
  },
  {
   "cell_type": "code",
   "execution_count": 4,
   "metadata": {},
   "outputs": [
    {
     "name": "stdout",
     "output_type": "stream",
     "text": [
      "[0.63804512 0.67069126 0.70654224]\n",
      "(3,)\n"
     ]
    }
   ],
   "source": [
    "import numpy as np\n",
    "\n",
    "list2 = np.random.rand(3)\n",
    "\n",
    "print(list2)\n",
    "print(list2.shape)"
   ]
  },
  {
   "cell_type": "markdown",
   "metadata": {},
   "source": [
    "### Q3 - Create a 2 D array [[10,20,45], [30,12,16], [42,17,56]] "
   ]
  },
  {
   "cell_type": "code",
   "execution_count": 5,
   "metadata": {},
   "outputs": [
    {
     "name": "stdout",
     "output_type": "stream",
     "text": [
      "Q3(a) - Slice the 2D array to get the first two rows, slice the 2D array to get the last two rows.\n",
      "first two rows : [[10 20 45]\n",
      " [30 12 16]]\n",
      "last two rows : [[30 12 16]\n",
      " [42 17 56]]\n"
     ]
    }
   ],
   "source": [
    "\n",
    "\n",
    "td_array = np.array([[10,20,45], [30,12,16], [42,17,56]])\n",
    "\n",
    "print (\"Q3(a) - Slice the 2D array to get the first two rows, slice the 2D array to get the last two rows.\")\n",
    "\n",
    "\n",
    "first_two_rows = td_array[:2,:]\n",
    "\n",
    "last_two_rows = td_array[1:,:]\n",
    "\n",
    "\n",
    "print(f\"first two rows : {first_two_rows}\")\n",
    "print(f\"last two rows : {last_two_rows}\")"
   ]
  },
  {
   "cell_type": "markdown",
   "metadata": {},
   "source": [
    "### Q4 - Create two 2x2 arrays and demonstrate how you can stack the elements vertically, horizontally, and split the arrays into smaller arrays."
   ]
  },
  {
   "cell_type": "code",
   "execution_count": 6,
   "metadata": {},
   "outputs": [
    {
     "name": "stdout",
     "output_type": "stream",
     "text": [
      "verticlly stacked arrays : [[42 17]\n",
      " [30 12]\n",
      " [20 45]\n",
      " [13 16]]\n",
      "horizontally stacked arrays : [[42 17 20 45]\n",
      " [30 12 13 16]]\n",
      "verticlly split arrays : [array([[42, 17]]), array([[30, 12]])]\n",
      "horizontally split arrays : [array([[42],\n",
      "       [30]]), array([[17],\n",
      "       [12]])]\n"
     ]
    }
   ],
   "source": [
    "first_array = np.array([[42,17],[30,12]])\n",
    "second_array = np.array([[20,45],[13,16]])\n",
    "\n",
    "\n",
    "verticle_stack = np.vstack((first_array,second_array))\n",
    "\n",
    "horizontal_stack = np.hstack((first_array,second_array))\n",
    "\n",
    "print(f\"verticlly stacked arrays : {verticle_stack}\")\n",
    "\n",
    "print(f\"horizontally stacked arrays : {horizontal_stack}\")\n",
    "\n",
    "\n",
    "\n",
    "split_first_array_ver = np.vsplit(first_array,2)\n",
    "\n",
    "split_first_array_hor = np.hsplit(first_array,2)\n",
    "\n",
    "\n",
    "print(f\"verticlly split arrays : {split_first_array_ver}\")\n",
    "print(f\"horizontally split arrays : {split_first_array_hor}\")\n",
    "\n",
    "\n"
   ]
  },
  {
   "cell_type": "markdown",
   "metadata": {},
   "source": [
    "### Q5 - Create two matrices X= ([[5, 7, 2], [4, 5, 6], [7, 4 ,2]]) Y= ([[4, 2], [6, 2], [4, 2]]),\n",
    "#### Is it possible to multiply these matrices?\n",
    "#### Demonstrate the case when it is not possible to."
   ]
  },
  {
   "cell_type": "code",
   "execution_count": 7,
   "metadata": {},
   "outputs": [
    {
     "name": "stdout",
     "output_type": "stream",
     "text": [
      "shape of X: (3, 3)\n",
      "shape of Y: (3, 2)\n"
     ]
    }
   ],
   "source": [
    "X= np.array([[5, 7, 2], [4, 5, 6], [7, 4 ,2]])\n",
    "Y= np.array([[4, 2], [6, 2], [4, 2]])\n",
    "\n",
    "print(f\"shape of X: {X.shape}\")\n",
    "print(f\"shape of Y: {Y.shape}\")\n",
    "\n"
   ]
  },
  {
   "cell_type": "code",
   "execution_count": 8,
   "metadata": {},
   "outputs": [
    {
     "name": "stdout",
     "output_type": "stream",
     "text": [
      "shapes (3,3) and (2,2) not aligned: 3 (dim 1) != 2 (dim 0)\n"
     ]
    }
   ],
   "source": [
    "demo_X = np.array([[5, 7, 2], [4, 5, 6], [7, 4, 2]])\n",
    "demo_Y = np.array([[4, 2], [6, 2]])\n",
    "try:\n",
    "    multi = np.dot(demo_X, demo_Y)\n",
    "except Exception as e:\n",
    "    print(e)"
   ]
  },
  {
   "cell_type": "markdown",
   "metadata": {},
   "source": [
    "### Q6 - Create two arrays, x = ([2, -1, -8]) y = ([3, 1, -2]),\n",
    "#### Find the Shape, Number of dimensions of vector x.\n",
    "#### Reshape the vector x to a matrix of size (3,1) and determine the number of dimensions after reshaping y to a matrix of (3,1).\n"
   ]
  },
  {
   "cell_type": "code",
   "execution_count": 9,
   "metadata": {},
   "outputs": [
    {
     "name": "stdout",
     "output_type": "stream",
     "text": [
      "shape of x  is  : (3,) and dimension of x is 1\n",
      "shape of reshaped x  is  : (3, 1) and dimension of reshaped x is 2 \n",
      " reshaped x [[ 2]\n",
      " [-1]\n",
      " [-8]]\n",
      "shape of reshaped y  is  : (3, 1) and dimension of reshaped y is 2\n",
      " reshaped y [[ 3]\n",
      " [ 1]\n",
      " [-2]]\n"
     ]
    }
   ],
   "source": [
    "x = np.array([2, -1, -8])\n",
    "y = np.array([3, 1, -2])\n",
    "\n",
    "shape_x = x.shape\n",
    "dim_x = x.ndim\n",
    "\n",
    "print(f\"shape of x  is  : {shape_x} and dimension of x is {dim_x}\")\n",
    "\n",
    "x_reshaped = x.reshape((3, 1))\n",
    "y_reshaped = y.reshape((3, 1))\n",
    "\n",
    "print(f\"shape of reshaped x  is  : {x_reshaped.shape} and dimension of reshaped x is {x_reshaped.ndim} \\n reshaped x {x_reshaped}\")\n",
    "\n",
    "print(f\"shape of reshaped y  is  : {y_reshaped.shape} and dimension of reshaped y is {y_reshaped.ndim}\\n reshaped y {y_reshaped}\")\n",
    "\n"
   ]
  },
  {
   "cell_type": "markdown",
   "metadata": {},
   "source": [
    "### How does broadcasting work? Demonstrate the subtraction, multiplication by considering a 3 x 3 matrix.\n"
   ]
  },
  {
   "cell_type": "markdown",
   "metadata": {},
   "source": [
    "Broadcasting in NumPy allows us to perform different operations on arrays without re-shaping them. When there's difference in shape, broadcasting handles it by maximizing the smaller array to the shape of larger one.\n",
    "\n",
    "In example below, \n",
    "broadcasting is demonstrated by doing substraction and multiplication on 3*3 matrix. It allowed us to multiply the matrix by the number 6 and substract the same matix by number 5. It automatically took care of difference of shape between the matrix and number 6 and 5 respectively while performing those arithmetic operations. "
   ]
  },
  {
   "cell_type": "code",
   "execution_count": 10,
   "metadata": {},
   "outputs": [
    {
     "name": "stdout",
     "output_type": "stream",
     "text": [
      "The 3*3 matirx : \n",
      " [[0.3261808  0.08063159 0.48720569]\n",
      " [0.00942024 0.67388485 0.98784733]\n",
      " [0.50711876 0.26521671 0.35078603]]\n",
      "Matrix after substration : \n",
      " [[-4.6738192  -4.91936841 -4.51279431]\n",
      " [-4.99057976 -4.32611515 -4.01215267]\n",
      " [-4.49288124 -4.73478329 -4.64921397]]\n",
      "Matrix after multiplication :\n",
      " [[1.95708479 0.48378955 2.92323415]\n",
      " [0.05652145 4.04330911 5.92708397]\n",
      " [3.04271254 1.59130023 2.10471618]]\n"
     ]
    }
   ],
   "source": [
    "my_matr = np.random.rand(3, 3)\n",
    "\n",
    "print(f\"The 3*3 matirx : \\n {my_matr}\")\n",
    "\n",
    "sub_matr = my_matr - 5\n",
    "print(f\"Matrix after substration : \\n {sub_matr}\")\n",
    "\n",
    "\n",
    "mul_matr = my_matr * 6\n",
    "\n",
    "print(f\"Matrix after multiplication :\\n {mul_matr}\")\n",
    "\n"
   ]
  },
  {
   "cell_type": "markdown",
   "metadata": {},
   "source": [
    "# Part B"
   ]
  },
  {
   "cell_type": "markdown",
   "metadata": {},
   "source": [
    "## Determine the singularity of the system of equations, comment on the expected solution of the system. Solve the system of equations if possible. Justify the reason why you believe the system can or cannot be solved using numpy functions.\n",
    "\n",
    "### Part B.1"
   ]
  },
  {
   "cell_type": "code",
   "execution_count": 11,
   "metadata": {},
   "outputs": [
    {
     "name": "stdout",
     "output_type": "stream",
     "text": [
      "-70.00000000000003\n"
     ]
    }
   ],
   "source": [
    "cooff = np.array([[4, 1, -2],[2, -3, 2],[1, 2, 3]])\n",
    "\n",
    "constant = np.array([10, -4, 6])\n",
    "\n",
    "determinant = np.linalg.det(cooff)\n",
    "\n",
    "print(determinant)"
   ]
  },
  {
   "cell_type": "markdown",
   "metadata": {},
   "source": [
    "To determine the singularity, linalg function from numpy is used. \n",
    "As seen from the result, the determinant is non zero number, which tells that the matrix is non-singular. The solution is found using solve function from linalg."
   ]
  },
  {
   "cell_type": "code",
   "execution_count": 12,
   "metadata": {},
   "outputs": [
    {
     "name": "stdout",
     "output_type": "stream",
     "text": [
      "[ 1.8  2.4 -0.2]\n"
     ]
    }
   ],
   "source": [
    "sol = np.linalg.solve(cooff, constant)\n",
    "print(sol)"
   ]
  },
  {
   "cell_type": "markdown",
   "metadata": {},
   "source": [
    "### Part B.2"
   ]
  },
  {
   "cell_type": "code",
   "execution_count": 13,
   "metadata": {},
   "outputs": [
    {
     "name": "stdout",
     "output_type": "stream",
     "text": [
      "0.0\n"
     ]
    }
   ],
   "source": [
    "cooff_b = np.array([[2, -1, 3, 4],[4, -2, 6, 8],[3, 1, -2, 2],[1, 3, -4, 1]])\n",
    "\n",
    "constant_b = np.array([10, 20, 3, -1])\n",
    "\n",
    "determinant_b = np.linalg.det(cooff_b)\n",
    "print(determinant_b)"
   ]
  },
  {
   "cell_type": "markdown",
   "metadata": {},
   "source": [
    "Here, in this case, we can see the deteminant value is zero, which suggests that the matrix is singular and would not be possible to find a solution, as it could have no solution or infinite solutions. "
   ]
  },
  {
   "cell_type": "code",
   "execution_count": 14,
   "metadata": {},
   "outputs": [
    {
     "name": "stdout",
     "output_type": "stream",
     "text": [
      "The system is already singular and might not have a unique solution.\n"
     ]
    }
   ],
   "source": [
    "from numpy.linalg import LinAlgError\n",
    "try:\n",
    "    sol_b = np.linalg.solve(cooff_b, constant_b)\n",
    "except LinAlgError as e:\n",
    "    print(\"The system is already singular and might not have a unique solution.\")"
   ]
  }
 ],
 "metadata": {
  "kernelspec": {
   "display_name": "Python 3",
   "language": "python",
   "name": "python3"
  },
  "language_info": {
   "codemirror_mode": {
    "name": "ipython",
    "version": 3
   },
   "file_extension": ".py",
   "mimetype": "text/x-python",
   "name": "python",
   "nbconvert_exporter": "python",
   "pygments_lexer": "ipython3",
   "version": "3.6.8"
  }
 },
 "nbformat": 4,
 "nbformat_minor": 2
}
