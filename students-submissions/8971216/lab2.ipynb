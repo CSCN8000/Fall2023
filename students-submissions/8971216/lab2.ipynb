{
 "cells": [
  {
   "cell_type": "markdown",
   "metadata": {},
   "source": [
    "## Lab 2 ##\n",
    "Kar Lok Ng\n",
    "\n",
    "8971216"
   ]
  },
  {
   "cell_type": "markdown",
   "metadata": {},
   "source": [
    "### Part A ###"
   ]
  },
  {
   "cell_type": "code",
   "execution_count": 454,
   "metadata": {},
   "outputs": [],
   "source": [
    "import pandas as pd\n",
    "import random\n",
    "import matplotlib.pyplot as plt\n",
    "from sklearn.feature_extraction.text import CountVectorizer\n",
    "from sklearn.model_selection import train_test_split\n",
    "from sklearn.svm import SVC\n",
    "from sklearn.naive_bayes import MultinomialNB, GaussianNB\n",
    "from sklearn.metrics import confusion_matrix, f1_score\n",
    "\n",
    "random.seed(42)\n",
    "\n",
    "# Loading the data\n",
    "lab2_data_path = \\\n",
    "    \"/Users/karlokng/Documents/fall_2023/CSCN8000/CSCN8000_Fall2023/practical_labs/datasets/Lab_2/Lab2_dataset.csv\"\n",
    "lab2_data = pd.read_csv(lab2_data_path, index_col= 0)\n",
    "\n",
    "# take a sample for development purposes\n",
    "#lab2_data = lab2_data.iloc[:100]\n",
    "\n",
    "lab2_data.sort_index(inplace= True)"
   ]
  },
  {
   "cell_type": "markdown",
   "metadata": {},
   "source": [
    "### Pre-Processing ###"
   ]
  },
  {
   "cell_type": "code",
   "execution_count": 455,
   "metadata": {},
   "outputs": [],
   "source": [
    "# use CountVectorizer to transform the \"text\" feature\n",
    "# Without providing a dictionary, number of features would default to vocab size\n",
    "# (i.e. number of features = number of unique words in \"text\")\n",
    "\n",
    "# transform the data\n",
    "vectorizer = CountVectorizer()\n",
    "X = vectorizer.fit_transform(lab2_data['text'])\n",
    "\n",
    "# toarray() makes it a 5171 x 50447 array\n",
    "# tolist() converts the array to a list of lists of length 5171\n",
    "# where each list is the tokenized \"text\"\n",
    "X_arr = X.toarray()\n",
    "\n",
    "# splitting to training and testing\n",
    "X_train, X_test, y_train, y_test = train_test_split(X_arr, \\\n",
    "                                                    lab2_data['label_num'], train_size= 0.8)"
   ]
  },
  {
   "cell_type": "markdown",
   "metadata": {},
   "source": [
    "### Model Training and Evaluation ###"
   ]
  },
  {
   "cell_type": "code",
   "execution_count": 456,
   "metadata": {},
   "outputs": [
    {
     "data": {
      "text/html": [
       "<style>#sk-container-id-16 {color: black;background-color: white;}#sk-container-id-16 pre{padding: 0;}#sk-container-id-16 div.sk-toggleable {background-color: white;}#sk-container-id-16 label.sk-toggleable__label {cursor: pointer;display: block;width: 100%;margin-bottom: 0;padding: 0.3em;box-sizing: border-box;text-align: center;}#sk-container-id-16 label.sk-toggleable__label-arrow:before {content: \"▸\";float: left;margin-right: 0.25em;color: #696969;}#sk-container-id-16 label.sk-toggleable__label-arrow:hover:before {color: black;}#sk-container-id-16 div.sk-estimator:hover label.sk-toggleable__label-arrow:before {color: black;}#sk-container-id-16 div.sk-toggleable__content {max-height: 0;max-width: 0;overflow: hidden;text-align: left;background-color: #f0f8ff;}#sk-container-id-16 div.sk-toggleable__content pre {margin: 0.2em;color: black;border-radius: 0.25em;background-color: #f0f8ff;}#sk-container-id-16 input.sk-toggleable__control:checked~div.sk-toggleable__content {max-height: 200px;max-width: 100%;overflow: auto;}#sk-container-id-16 input.sk-toggleable__control:checked~label.sk-toggleable__label-arrow:before {content: \"▾\";}#sk-container-id-16 div.sk-estimator input.sk-toggleable__control:checked~label.sk-toggleable__label {background-color: #d4ebff;}#sk-container-id-16 div.sk-label input.sk-toggleable__control:checked~label.sk-toggleable__label {background-color: #d4ebff;}#sk-container-id-16 input.sk-hidden--visually {border: 0;clip: rect(1px 1px 1px 1px);clip: rect(1px, 1px, 1px, 1px);height: 1px;margin: -1px;overflow: hidden;padding: 0;position: absolute;width: 1px;}#sk-container-id-16 div.sk-estimator {font-family: monospace;background-color: #f0f8ff;border: 1px dotted black;border-radius: 0.25em;box-sizing: border-box;margin-bottom: 0.5em;}#sk-container-id-16 div.sk-estimator:hover {background-color: #d4ebff;}#sk-container-id-16 div.sk-parallel-item::after {content: \"\";width: 100%;border-bottom: 1px solid gray;flex-grow: 1;}#sk-container-id-16 div.sk-label:hover label.sk-toggleable__label {background-color: #d4ebff;}#sk-container-id-16 div.sk-serial::before {content: \"\";position: absolute;border-left: 1px solid gray;box-sizing: border-box;top: 0;bottom: 0;left: 50%;z-index: 0;}#sk-container-id-16 div.sk-serial {display: flex;flex-direction: column;align-items: center;background-color: white;padding-right: 0.2em;padding-left: 0.2em;position: relative;}#sk-container-id-16 div.sk-item {position: relative;z-index: 1;}#sk-container-id-16 div.sk-parallel {display: flex;align-items: stretch;justify-content: center;background-color: white;position: relative;}#sk-container-id-16 div.sk-item::before, #sk-container-id-16 div.sk-parallel-item::before {content: \"\";position: absolute;border-left: 1px solid gray;box-sizing: border-box;top: 0;bottom: 0;left: 50%;z-index: -1;}#sk-container-id-16 div.sk-parallel-item {display: flex;flex-direction: column;z-index: 1;position: relative;background-color: white;}#sk-container-id-16 div.sk-parallel-item:first-child::after {align-self: flex-end;width: 50%;}#sk-container-id-16 div.sk-parallel-item:last-child::after {align-self: flex-start;width: 50%;}#sk-container-id-16 div.sk-parallel-item:only-child::after {width: 0;}#sk-container-id-16 div.sk-dashed-wrapped {border: 1px dashed gray;margin: 0 0.4em 0.5em 0.4em;box-sizing: border-box;padding-bottom: 0.4em;background-color: white;}#sk-container-id-16 div.sk-label label {font-family: monospace;font-weight: bold;display: inline-block;line-height: 1.2em;}#sk-container-id-16 div.sk-label-container {text-align: center;}#sk-container-id-16 div.sk-container {/* jupyter's `normalize.less` sets `[hidden] { display: none; }` but bootstrap.min.css set `[hidden] { display: none !important; }` so we also need the `!important` here to be able to override the default hidden behavior on the sphinx rendered scikit-learn.org. See: https://github.com/scikit-learn/scikit-learn/issues/21755 */display: inline-block !important;position: relative;}#sk-container-id-16 div.sk-text-repr-fallback {display: none;}</style><div id=\"sk-container-id-16\" class=\"sk-top-container\"><div class=\"sk-text-repr-fallback\"><pre>GaussianNB()</pre><b>In a Jupyter environment, please rerun this cell to show the HTML representation or trust the notebook. <br />On GitHub, the HTML representation is unable to render, please try loading this page with nbviewer.org.</b></div><div class=\"sk-container\" hidden><div class=\"sk-item\"><div class=\"sk-estimator sk-toggleable\"><input class=\"sk-toggleable__control sk-hidden--visually\" id=\"sk-estimator-id-16\" type=\"checkbox\" checked><label for=\"sk-estimator-id-16\" class=\"sk-toggleable__label sk-toggleable__label-arrow\">GaussianNB</label><div class=\"sk-toggleable__content\"><pre>GaussianNB()</pre></div></div></div></div></div>"
      ],
      "text/plain": [
       "GaussianNB()"
      ]
     },
     "execution_count": 456,
     "metadata": {},
     "output_type": "execute_result"
    }
   ],
   "source": [
    "# TRAINING CELL\n",
    "# takes awhile...\n",
    "model1 = SVC()\n",
    "model1.fit(X_train, y_train)\n",
    "\n",
    "model2 = MultinomialNB()\n",
    "model2.fit(X_train, y_train)\n",
    "\n",
    "model3 = GaussianNB()\n",
    "model3.fit(X_train, y_train)"
   ]
  },
  {
   "cell_type": "code",
   "execution_count": 457,
   "metadata": {},
   "outputs": [
    {
     "name": "stdout",
     "output_type": "stream",
     "text": [
      "[[696  27]\n",
      " [ 13 299]]\n",
      "[[714   9]\n",
      " [ 16 296]]\n",
      "[[714   9]\n",
      " [ 32 280]]\n"
     ]
    }
   ],
   "source": [
    "# Evaluation\n",
    "y_pred1 = model1.predict(X_test)\n",
    "y_pred2 = model2.predict(X_test)\n",
    "y_pred3 = model3.predict(X_test)\n",
    "\n",
    "conf1 = confusion_matrix(y_test, y_pred1)\n",
    "conf2 = confusion_matrix(y_test, y_pred2)\n",
    "conf3 = confusion_matrix(y_test, y_pred3)\n",
    "\n",
    "# the count of true negatives is C_00, false negatives is C_10, \n",
    "# true positives C_11 is and false positives is C_01.\n",
    "print(conf1)\n",
    "print(conf2)\n",
    "print(conf3)"
   ]
  },
  {
   "cell_type": "code",
   "execution_count": 458,
   "metadata": {},
   "outputs": [
    {
     "name": "stdout",
     "output_type": "stream",
     "text": [
      "0.9373040752351097 0.9594813614262561 0.9317803660565723\n"
     ]
    }
   ],
   "source": [
    "score1 = f1_score(y_test, y_pred1)\n",
    "score2 = f1_score(y_test, y_pred2)\n",
    "score3 = f1_score(y_test, y_pred3)\n",
    "\n",
    "print(score1, score2, score3)"
   ]
  },
  {
   "cell_type": "markdown",
   "metadata": {},
   "source": [
    "By looking at the confusion matrices, we see that all 3 models perform quite well. We also see that the two Naive Bayes classifier perform much more similarly to each other as compared to the SVM method.\n",
    "\n",
    "The SVM classifier works by trying to draw a decision boundary between the classes in the feature space. It \"learns\" this decision boundary by trying to find a hyperplane that maximize the margin between the points and the boundary. Thus it does not make any prior assumptions about the conditional probabilities of the features we have, unlike the Naive Bayes methods. \n",
    "\n",
    "We note that the true negative and false positive counts for the two Naive Bayes methods are quite similar, and the difference in performance is most noticeable between the false negative and true positives count. This could indicate that the Gaussian method of attaining the probabilities $p(x_i | C_k)$ is more biased towards an email being negative than positive compared to the Multinomial method. \n",
    "\n",
    "Another metric we could look at is the F-score. The F-score is the harmonic mean (a fancy arithmetic mean where all the numerator terms are reciprocated) between precision (the proportion of true positives in all entries flagged as positive) and the recall (the proportion of true positives flagged wthin all the \"actual\" positives which should all been flagged as positive). All 3 models performed very well, although the MultinomialNB classifier performed best. \n",
    "\n",
    "Since we are working with textual data and our input space is not continuous, I would personally choose MultinomialNB rather than GaussianNB. Although the SVM's lack of prior assumptions regarding our features is nice, it does not perform as well as MultinomialNB in our case, as such perhaps we could choose MultinomialNB classfier amongst the 3. \n",
    "\n",
    "NOTE: Sorry for the amount of brackets in my explanation of the F_score. I couldn't really think of a better way to define all the terms. ALSO I've always been a little confused about how the kernel trick works in SVM to find non-linear boundaries. I hope that's something we would cover eventually."
   ]
  },
  {
   "cell_type": "markdown",
   "metadata": {},
   "source": [
    "### Part B ###"
   ]
  },
  {
   "cell_type": "code",
   "execution_count": 459,
   "metadata": {},
   "outputs": [],
   "source": [
    "ab_nyc_2019_path = \"/Users/karlokng/Documents/fall_2023/CSCN8000/CSCN8000_Fall2023/practical_labs/datasets/Lab_2/AB_NYC_2019.csv\"\n",
    "ab_nyc_2019 = pd.read_csv(ab_nyc_2019_path, index_col=0)"
   ]
  },
  {
   "cell_type": "code",
   "execution_count": 460,
   "metadata": {},
   "outputs": [],
   "source": [
    "def z_score_filter(data_col, threshold= 3):\n",
    "    \"\"\"\n",
    "    Description: A z_score filter that assigns each element \\\n",
    "        True if outlier, False otherwise\n",
    "    Input: A Series of numerical data (int or floats), \\\n",
    "        optionally a custom threshold\n",
    "    Output: A Series of boolean values\n",
    "    \"\"\"\n",
    "    data_mean = data_col.mean()\n",
    "    data_sd = data_col.std()\n",
    "\n",
    "    # Now I calculate the z_score\n",
    "    z_score = (data_col - data_mean)/data_sd\n",
    "\n",
    "    return pd.Series([(element < -threshold or element > threshold) \\\n",
    "                      for element in z_score], index= data_col.index)\n",
    "\n",
    "def box_whisker_filter(data_col):\n",
    "    \"\"\"\n",
    "    Description: A box_whisker based filter that assigns each element\\\n",
    "        True if outlier, False otherwise\n",
    "    Input: A Series of numerical data (int or floats)\n",
    "    Output: A Series of boolean values\n",
    "    \"\"\"\n",
    "\n",
    "    # compute the quantiles\n",
    "    q1 = data_col.quantile(0.25)\n",
    "    q3 = data_col.quantile(0.75)\n",
    "\n",
    "    # get the IQR and the lower bound(lb) and the upper bound(ub)\n",
    "    iqr = q3 - q1\n",
    "    lb = q1 - 1.5*iqr\n",
    "    ub = q3 + 1.5*iqr\n",
    "\n",
    "    return pd.Series([(element < lb or element > ub) \\\n",
    "                      for element in data_col], index= data_col.index)"
   ]
  },
  {
   "cell_type": "code",
   "execution_count": 461,
   "metadata": {},
   "outputs": [
    {
     "name": "stdout",
     "output_type": "stream",
     "text": [
      "(48895, 17)\n",
      "(48507, 15)\n",
      "(45923, 15)\n"
     ]
    }
   ],
   "source": [
    "# We can filter the outliers using each method by first appending\n",
    "# the bool values from the function onto the dataframe\n",
    "ab_nyc_2019['z_score_filter'] = z_score_filter(ab_nyc_2019['price'])\n",
    "ab_nyc_2019['box_whisker_filter'] = box_whisker_filter(ab_nyc_2019['price'])\n",
    "\n",
    "# We then filter by the value from the corresponding column\n",
    "ab_nyc_2019_z_score = ab_nyc_2019.iloc[:,:-2][ab_nyc_2019['z_score_filter'] == False]\n",
    "ab_nyc_2019_box_whisker = ab_nyc_2019.iloc[:,:-2][ab_nyc_2019['box_whisker_filter'] == False]\n",
    "\n",
    "print(ab_nyc_2019.shape)\n",
    "print(ab_nyc_2019_z_score.shape)\n",
    "print(ab_nyc_2019_box_whisker.shape)"
   ]
  },
  {
   "cell_type": "markdown",
   "metadata": {},
   "source": [
    "The default threshold value (3 standard deviations above/below the mean) is much more loose as a filter compared to the box whisker method of $\\pm 1.5IQR$. To get a better idea of which method would be more suitable, we can plot the distribution of \"price\"."
   ]
  },
  {
   "cell_type": "code",
   "execution_count": 462,
   "metadata": {},
   "outputs": [
    {
     "data": {
      "image/png": "[encoded data removed]",
      "text/plain": [
       "<Figure size 640x480 with 1 Axes>"
      ]
     },
     "metadata": {},
     "output_type": "display_data"
    }
   ],
   "source": [
    "plt.hist(ab_nyc_2019['price'], bins= 200)\n",
    "plt.show()"
   ]
  },
  {
   "cell_type": "markdown",
   "metadata": {},
   "source": [
    "We can see that the distribution is heavily right skewed, with a very sharp peak. This would mean that the IQR would be relatively low, which would lead to our box-whiskers method of outlier detection being much more stringent than our z-score based method.\n",
    "\n",
    "Given that only ~3000 observations are taken out with the more stringent box-whisker approach (out of ~49,000, about 6%), I would choose the box-whisker approach over the z-score approach as we still have a good amount of data for modelling."
   ]
  }
 ],
 "metadata": {
  "kernelspec": {
   "display_name": "CSCN8010_classic_ml",
   "language": "python",
   "name": "python3"
  },
  "language_info": {
   "codemirror_mode": {
    "name": "ipython",
    "version": 3
   },
   "file_extension": ".py",
   "mimetype": "text/x-python",
   "name": "python",
   "nbconvert_exporter": "python",
   "pygments_lexer": "ipython3",
   "version": "3.11.5"
  },
  "orig_nbformat": 4
 },
 "nbformat": 4,
 "nbformat_minor": 2
}
