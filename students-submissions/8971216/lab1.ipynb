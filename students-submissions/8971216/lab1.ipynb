{
 "cells": [
  {
   "cell_type": "markdown",
   "metadata": {},
   "source": [
    "# LAB 1 #\n",
    "## Part A ##"
   ]
  },
  {
   "cell_type": "markdown",
   "metadata": {},
   "source": [
    "First, we import the packages we need for the rest of the notebook."
   ]
  },
  {
   "cell_type": "code",
   "execution_count": 18,
   "metadata": {},
   "outputs": [],
   "source": [
    "import numpy as np"
   ]
  },
  {
   "cell_type": "markdown",
   "metadata": {},
   "source": [
    "### Q1 ###\n",
    "Create an array that starts from the integer 1, ends at 20, incremented by 3."
   ]
  },
  {
   "cell_type": "code",
   "execution_count": 19,
   "metadata": {},
   "outputs": [
    {
     "name": "stdout",
     "output_type": "stream",
     "text": [
      "[ 1  4  7 10 13 16 19]\n"
     ]
    }
   ],
   "source": [
    "q1 = np.arange(1, 20, 3)\n",
    "print(q1)"
   ]
  },
  {
   "cell_type": "markdown",
   "metadata": {},
   "source": [
    "### Q2 ### \n",
    "Create a new array of shape 3 with random numbers between 0 and 1."
   ]
  },
  {
   "cell_type": "code",
   "execution_count": 20,
   "metadata": {},
   "outputs": [
    {
     "name": "stdout",
     "output_type": "stream",
     "text": [
      "(3, 1)\n",
      "[[0.75888599]\n",
      " [0.62192259]\n",
      " [0.13385123]]\n"
     ]
    }
   ],
   "source": [
    "q2 = np.random.rand(3,1)\n",
    "print(q2.shape)\n",
    "print(q2)"
   ]
  },
  {
   "cell_type": "markdown",
   "metadata": {},
   "source": [
    "### Q3 ###\n",
    "Create a 2 D array `[[10,20,45], [30,12,16], [42,17,56]]` and perform the following operations: \n",
    "\t - Slice the 2D array to get the first two rows, slice the 2D array to get the last two rows."
   ]
  },
  {
   "cell_type": "code",
   "execution_count": 95,
   "metadata": {},
   "outputs": [
    {
     "name": "stdout",
     "output_type": "stream",
     "text": [
      "[[10 20 45]\n",
      " [30 12 16]]\n",
      "\n",
      "[[30 12 16]\n",
      " [42 17 56]]\n"
     ]
    }
   ],
   "source": [
    "q3 = np.array([[10,20,45], [30,12,16], [42,17,56]])\n",
    "\n",
    "first_two_rows = q3[:2, :]\n",
    "print(first_two_rows)\n",
    "\n",
    "last_two_rows = q3[-2:, :]\n",
    "print()\n",
    "print(last_two_rows)"
   ]
  },
  {
   "cell_type": "markdown",
   "metadata": {},
   "source": [
    "### Q4 ### \n",
    "Create two 2x2 arrays and demonstrate how you can stack the elements vertically, horizontally, and split the arrays into smaller arrays."
   ]
  },
  {
   "cell_type": "code",
   "execution_count": 100,
   "metadata": {},
   "outputs": [
    {
     "name": "stdout",
     "output_type": "stream",
     "text": [
      "[['a' 'b']\n",
      " ['c' 'd']]\n",
      "\n",
      "[['a' 'b' 'c' 'd']]\n"
     ]
    }
   ],
   "source": [
    "q4_1 = np.array([['a', 'b']])\n",
    "q4_2 = np.array([['c', 'd']])\n",
    "\n",
    "stack_vert = np.concatenate((q4_1, q4_2), axis= 0)\n",
    "print(stack_vert)\n",
    "\n",
    "stack_hori = np.concatenate((q4_1, q4_2), axis= 1)\n",
    "print()\n",
    "print(stack_hori)\n",
    "\n",
    "# split arrays? How do you want me to splti it?"
   ]
  },
  {
   "cell_type": "markdown",
   "metadata": {},
   "source": [
    "### Q5 ###\n",
    "Create two matrices `X= ([[5, 7, 2], [4, 5, 6], [7, 4 ,2]]) Y= ([[4, 2], [6, 2], [4, 2]]),` \n",
    "\t - Is it possible to multiply these matrices? \n",
    "\t - Demonstrate the case when it is not possible to."
   ]
  },
  {
   "cell_type": "code",
   "execution_count": 101,
   "metadata": {},
   "outputs": [
    {
     "name": "stdout",
     "output_type": "stream",
     "text": [
      "(3, 3)\n",
      "(3, 2)\n"
     ]
    }
   ],
   "source": [
    "X = np.array([[5, 7, 2], [4, 5, 6], [7, 4 ,2]]) \n",
    "Y= np.array([[4, 2], [6, 2], [4, 2]])\n",
    "\n",
    "print(X.shape)\n",
    "print(Y.shape)"
   ]
  },
  {
   "cell_type": "markdown",
   "metadata": {},
   "source": [
    "Since X is of shape (3,3) and Y is of shape(3,2), we can multiply the matrices as such:"
   ]
  },
  {
   "cell_type": "code",
   "execution_count": 102,
   "metadata": {},
   "outputs": [
    {
     "data": {
      "text/plain": [
       "array([[70, 28],\n",
       "       [70, 30],\n",
       "       [60, 26]])"
      ]
     },
     "execution_count": 102,
     "metadata": {},
     "output_type": "execute_result"
    }
   ],
   "source": [
    "np.matmul(X, Y)"
   ]
  },
  {
   "cell_type": "markdown",
   "metadata": {},
   "source": [
    "For the same reason, it is not possible to multiply the matrics in reverse order:"
   ]
  },
  {
   "cell_type": "code",
   "execution_count": 103,
   "metadata": {},
   "outputs": [
    {
     "ename": "ValueError",
     "evalue": "matmul: Input operand 1 has a mismatch in its core dimension 0, with gufunc signature (n?,k),(k,m?)->(n?,m?) (size 3 is different from 2)",
     "output_type": "error",
     "traceback": [
      "\u001b[0;31m---------------------------------------------------------------------------\u001b[0m",
      "\u001b[0;31mValueError\u001b[0m                                Traceback (most recent call last)",
      "Cell \u001b[0;32mIn[103], line 1\u001b[0m\n\u001b[0;32m----> 1\u001b[0m np\u001b[39m.\u001b[39;49mmatmul(Y,X) \u001b[39m# raises an error as it is an invalid matrix multiplication\u001b[39;00m\n",
      "\u001b[0;31mValueError\u001b[0m: matmul: Input operand 1 has a mismatch in its core dimension 0, with gufunc signature (n?,k),(k,m?)->(n?,m?) (size 3 is different from 2)"
     ]
    }
   ],
   "source": [
    "np.matmul(Y,X) # raises an error as it is an invalid matrix multiplication"
   ]
  },
  {
   "cell_type": "markdown",
   "metadata": {},
   "source": [
    "### Q6 ###\n",
    "Create two arrays, `x = ([2, -1, -8]) y = ([3, 1, -2]),`\n",
    "\t - Find the Shape, Number of dimensions of vector x.\n",
    "\t - Reshape the vector x to a matrix of size (3,1) and determine the number of dimensions after reshaping y to a matrix of (3,1)."
   ]
  },
  {
   "cell_type": "code",
   "execution_count": null,
   "metadata": {},
   "outputs": [
    {
     "name": "stdout",
     "output_type": "stream",
     "text": [
      "(3,)\n",
      "1\n",
      "2\n"
     ]
    }
   ],
   "source": [
    "x = np.array([2, -1, -8])\n",
    "y = np.array([3, 1, -2])\n",
    "\n",
    "print(x.shape)\n",
    "print(x.ndim)\n",
    "\n",
    "x_reshaped = np.reshape(x, (3,1))\n",
    "print(x_reshaped.ndim)"
   ]
  },
  {
   "cell_type": "markdown",
   "metadata": {},
   "source": [
    "### Q7 ###\n",
    "How does broadcasting work? Demonstrate the subtraction, multiplication by considering a 3 x 3 matrix."
   ]
  },
  {
   "cell_type": "code",
   "execution_count": null,
   "metadata": {},
   "outputs": [
    {
     "name": "stdout",
     "output_type": "stream",
     "text": [
      "[[2 2 2]\n",
      " [2 2 2]\n",
      " [2 2 2]]\n"
     ]
    }
   ],
   "source": [
    "q7 = np.full((3,3), 2)\n",
    "print(q7)"
   ]
  },
  {
   "cell_type": "markdown",
   "metadata": {},
   "source": [
    "I can subtract elementwise from the matrix using broadcasting (of a scalar)."
   ]
  },
  {
   "cell_type": "code",
   "execution_count": null,
   "metadata": {},
   "outputs": [
    {
     "name": "stdout",
     "output_type": "stream",
     "text": [
      "[[1 1 1]\n",
      " [1 1 1]\n",
      " [1 1 1]]\n"
     ]
    }
   ],
   "source": [
    "q7_sub = q7 - 1\n",
    "print(q7_sub)"
   ]
  },
  {
   "cell_type": "markdown",
   "metadata": {},
   "source": [
    "I can multiply through elementwise as well using broadcasting (which is different from matrix multiplication)"
   ]
  },
  {
   "cell_type": "code",
   "execution_count": null,
   "metadata": {},
   "outputs": [
    {
     "name": "stdout",
     "output_type": "stream",
     "text": [
      "[12 12 12]\n",
      "[[2 4 6]\n",
      " [2 4 6]\n",
      " [2 4 6]]\n"
     ]
    }
   ],
   "source": [
    "mult_val = np.array([1,2,3]) # creating a sample 1x3 array\n",
    "q7_matmul = np.matmul(q7, mult_val) # doing matmul on the sample\n",
    "q7_broadcast_mul = q7 * mult_val # doing broadcasting on the sample\n",
    "\n",
    "# We check to see that the values are different\n",
    "print(q7_matmul)\n",
    "print(q7_broadcast_mul)"
   ]
  },
  {
   "cell_type": "markdown",
   "metadata": {},
   "source": [
    "## Part B ##"
   ]
  },
  {
   "cell_type": "markdown",
   "metadata": {},
   "source": [
    "### B.1 ###"
   ]
  },
  {
   "cell_type": "markdown",
   "metadata": {},
   "source": [
    "1. 4x + y - 2z = 10\n",
    "2. 2x - 3y + 2z = -4\n",
    "3. x + 2y + 3z = 6"
   ]
  },
  {
   "cell_type": "code",
   "execution_count": 108,
   "metadata": {},
   "outputs": [
    {
     "name": "stdout",
     "output_type": "stream",
     "text": [
      "-70.00000000000003\n"
     ]
    }
   ],
   "source": [
    "# converting the system of linear equation to matrix\n",
    "bX_1 = np.array([[4,1,-2], [2,-3,2], [1,2,3]])\n",
    "bY_1 = np.array([10,-4,6]).reshape(3,1)\n",
    "\n",
    "# Check the determinant of the left matrix\n",
    "detX_1 = np.linalg.det(bX_1)\n",
    "print(detX_1)"
   ]
  },
  {
   "cell_type": "markdown",
   "metadata": {},
   "source": [
    "Since the determinant of the matrix is non-zero, it is non-singular and thus the system of linear equation it represents can be solved."
   ]
  },
  {
   "cell_type": "code",
   "execution_count": 110,
   "metadata": {},
   "outputs": [
    {
     "name": "stdout",
     "output_type": "stream",
     "text": [
      "[[ 1.8]\n",
      " [ 2.4]\n",
      " [-0.2]]\n"
     ]
    }
   ],
   "source": [
    "sol_1 = np.linalg.solve(bX_1, bY_1)\n",
    "print(sol_1)"
   ]
  },
  {
   "cell_type": "markdown",
   "metadata": {},
   "source": [
    "The solution to the system of linear equation is $x=1.8, y=2.4, z=-0.2$"
   ]
  },
  {
   "cell_type": "markdown",
   "metadata": {},
   "source": [
    "### B.2 ###"
   ]
  },
  {
   "cell_type": "markdown",
   "metadata": {},
   "source": [
    "1. 2x - y + 3z + 4w = 10\n",
    "2. 4x - 2y + 6z + 8w = 20\n",
    "3. 3x + y - 2z + 2w = 3\n",
    "4. x + 3y - 4z + w = -1"
   ]
  },
  {
   "cell_type": "code",
   "execution_count": 119,
   "metadata": {},
   "outputs": [
    {
     "name": "stdout",
     "output_type": "stream",
     "text": [
      "0.0\n"
     ]
    }
   ],
   "source": [
    "# Similar to above, we first convert the system to a matrix\n",
    "bX_2 = np.array([[2, -1, 3, 4], [4, -2, 6, 8], \\\n",
    "                 [3, 1, -2, 2], [1, 3, -4, 1]])\n",
    "bY_2 = np.array([10,20, 3, -1]).reshape(1, 4)\n",
    "\n",
    "# Check the determinant of the left matrix\n",
    "detX_2 = np.linalg.det(bX_2)\n",
    "print(detX_2)"
   ]
  },
  {
   "cell_type": "markdown",
   "metadata": {},
   "source": [
    "Since the determinant of the matrix representing the system of linear equation is equal to 0, this system is singular, and thus a unique solution cannot be defined.\n",
    "\n",
    "We can also see that equation 2 in the system is a linear combination of equation 1 (we simply multiply 2 through the equation). This further shows that the system is singular, and thus no unique solution can be found."
   ]
  }
 ],
 "metadata": {
  "kernelspec": {
   "display_name": "Python 3",
   "language": "python",
   "name": "python3"
  },
  "language_info": {
   "codemirror_mode": {
    "name": "ipython",
    "version": 3
   },
   "file_extension": ".py",
   "mimetype": "text/x-python",
   "name": "python",
   "nbconvert_exporter": "python",
   "pygments_lexer": "ipython3",
   "version": "3.11.5"
  },
  "orig_nbformat": 4
 },
 "nbformat": 4,
 "nbformat_minor": 2
}
