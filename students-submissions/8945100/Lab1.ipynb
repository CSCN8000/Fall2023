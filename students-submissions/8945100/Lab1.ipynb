{
 "cells": [
  {
   "cell_type": "markdown",
   "metadata": {},
   "source": [
    "# PART A - Creating a Notebook to demonstrate Numpy Operations."
   ]
  },
  {
   "cell_type": "markdown",
   "metadata": {},
   "source": [
    "1. Create an array that starts from the integer 1, ends at 20, incremented by 3."
   ]
  },
  {
   "cell_type": "code",
   "execution_count": 7,
   "metadata": {},
   "outputs": [
    {
     "name": "stdout",
     "output_type": "stream",
     "text": [
      "[ 1  4  7 10 13 16 19]\n"
     ]
    }
   ],
   "source": [
    "import numpy as np\n",
    "#Creation of array using list\n",
    "list = [i for i in range(1,20,3)]\n",
    "\n",
    "#converting array to numpy array\n",
    "array = np.array(list)\n",
    "print(array)"
   ]
  },
  {
   "cell_type": "markdown",
   "metadata": {},
   "source": [
    "2. Create a new array of shape 3 with random numbers between 0 and 1.\n"
   ]
  },
  {
   "cell_type": "code",
   "execution_count": 10,
   "metadata": {},
   "outputs": [
    {
     "name": "stdout",
     "output_type": "stream",
     "text": [
      "[0.80152734 0.69756185 0.96271061]\n"
     ]
    }
   ],
   "source": [
    "array = np.random.rand(3)\n",
    "print(array)"
   ]
  },
  {
   "cell_type": "markdown",
   "metadata": {},
   "source": [
    "3. Create a 2 D array [[10,20,45], [30,12,16], [42,17,56]] and perform the following operations:\n",
    "Slice the 2D array to get the first two rows, slice the 2D array to get the last two rows."
   ]
  },
  {
   "cell_type": "code",
   "execution_count": 18,
   "metadata": {},
   "outputs": [
    {
     "name": "stdout",
     "output_type": "stream",
     "text": [
      "Upper rows :\n",
      " [[10 20 45]\n",
      " [30 12 16]]\n",
      "Lower rows :\n",
      " [[30 12 16]\n",
      " [42 17 56]]\n"
     ]
    }
   ],
   "source": [
    "#2D Array\n",
    "nparray = np.array([[10,20,45],[30,12,16],[42,17,56]])\n",
    "\n",
    "#Slicing to get first two rows\n",
    "upper_rows = nparray[:2,:]\n",
    "\n",
    "#Slicing to get last two rows\n",
    "lower_rows = nparray[1:,:]\n",
    "\n",
    "#print upper rows\n",
    "print(\"Upper rows :\\n\", + upper_rows)\n",
    "\n",
    "#print lower rows\n",
    "print(\"Lower rows :\\n\", + lower_rows)"
   ]
  },
  {
   "cell_type": "markdown",
   "metadata": {},
   "source": [
    "4. Create two 2x2 arrays and demonstrate how you can stack the elements vertically, horizontally, and split the arrays into smaller arrays."
   ]
  },
  {
   "cell_type": "code",
   "execution_count": 19,
   "metadata": {},
   "outputs": [
    {
     "name": "stdout",
     "output_type": "stream",
     "text": [
      "Array 1:\n",
      "[[ 5  6]\n",
      " [10 12]]\n",
      "\n",
      "Array 2:\n",
      "[[ 3  4]\n",
      " [14 16]]\n",
      "\n",
      "Vertically stacked:\n",
      "[[ 5  6]\n",
      " [10 12]\n",
      " [ 3  4]\n",
      " [14 16]]\n",
      "\n",
      "Horizontally stacked:\n",
      "[[ 5  6  3  4]\n",
      " [10 12 14 16]]\n",
      "\n",
      "Split horizontally:\n",
      "[array([[ 5,  6],\n",
      "       [10, 12]]), array([[ 3,  4],\n",
      "       [14, 16]])]\n",
      "\n",
      "Split vertically:\n",
      "[array([[ 5,  6],\n",
      "       [10, 12]]), array([[ 3,  4],\n",
      "       [14, 16]])]\n"
     ]
    }
   ],
   "source": [
    "# 2x2 arrays of my choice:\n",
    "a1 = np.array([[5, 6], [10, 12]])\n",
    "a2 = np.array([[3, 4], [14, 16]])\n",
    "\n",
    "# Stacking elements vertically\n",
    "verticalStack = np.vstack((a1, a2))\n",
    "\n",
    "# Stack elements horizontally\n",
    "horizontalStack = np.hstack((a1, a2))\n",
    "\n",
    "# Splitting horizontally and vertically\n",
    "splitHorizontal = np.hsplit(horizontalStack, 2)\n",
    "splitVertical = np.vsplit(verticalStack, 2)\n",
    "\n",
    "# Results\n",
    "\n",
    "#Displaying First array in order to view the stacking and splitting effectively\n",
    "print(\"Array 1:\")\n",
    "print(a1)\n",
    "\n",
    "#Displaying second array in order to view the stacking and splitting effectively\n",
    "print(\"\\nArray 2:\")\n",
    "print(a2)\n",
    "\n",
    "print(\"\\nVertically stacked:\")\n",
    "print(verticalStack)\n",
    "\n",
    "print(\"\\nHorizontally stacked:\")\n",
    "print(horizontalStack)\n",
    "\n",
    "print(\"\\nSplit horizontally:\")\n",
    "print(splitHorizontal)\n",
    "\n",
    "print(\"\\nSplit vertically:\")\n",
    "print(splitVertical)"
   ]
  },
  {
   "cell_type": "markdown",
   "metadata": {},
   "source": [
    "5. Create two matrices X= ([[5, 7, 2], [4, 5, 6], [7, 4 ,2]]) Y= ([[4, 2], [6, 2], [4, 2]]),\n",
    "Is it possible to multiply these matrices?\n",
    "Demonstrate the case when it is not possible to."
   ]
  },
  {
   "cell_type": "markdown",
   "metadata": {},
   "source": [
    "-> We can only multiply the matrices if the number of columns of matrix X are equal to number of rows of matrix Y. According to the given two matrices, matrix X has dimensions 3X3 and matrix Y has dimensions 3X2. Hence, it is seen that the number of Columns in matrix X is equal to number of rows in matrix Y, hence the multiplication is possible. But, if the matrix X is 3X3 dimensional and matrix Y is 2X3 dimensional, then the result of multiplication of X x Y matrices is Matrix Z which will be 3X2, where the multiplication is not possible."
   ]
  },
  {
   "cell_type": "code",
   "execution_count": 28,
   "metadata": {},
   "outputs": [
    {
     "name": "stdout",
     "output_type": "stream",
     "text": [
      "Multiplication is possible: \n",
      " [[70 28]\n",
      " [70 30]\n",
      " [60 26]]\n"
     ]
    }
   ],
   "source": [
    "# Matrix X and Y\n",
    "X = np.array([[5,7,2],\n",
    "              [4,5,6],\n",
    "              [7,4,2]])\n",
    "\n",
    "Y = np.array([[4,2],\n",
    "              [6,2],\n",
    "              [4,2]])\n",
    "\n",
    "#Checking the possibility of multiplication\n",
    "\n",
    "# The below given command will give number of columns and number of rows in X and Y\n",
    "cols_X = X.shape[1]\n",
    "rows_Y = Y.shape[0]\n",
    "\n",
    "#Multiplication\n",
    "if cols_X == rows_Y:\n",
    "    result = np.dot(X,Y)\n",
    "\n",
    "    print(\"Multiplication is possible: \\n\",result)\n",
    "else:\n",
    "    print(\"Multiplication is not possible\")\n",
    "    \n"
   ]
  },
  {
   "cell_type": "code",
   "execution_count": 29,
   "metadata": {},
   "outputs": [
    {
     "name": "stdout",
     "output_type": "stream",
     "text": [
      "Multiplication is not possible\n"
     ]
    }
   ],
   "source": [
    "#Now lets see if 3x3 dimensional and 2x3 dimensional matrices can be multiplied.\n",
    "X = np.array([[5,7,2],[4,5,6]])\n",
    "Y = np.array([[4,2],[6,2]])\n",
    "\n",
    "#Checking the possibility of multiplication\n",
    "\n",
    "# The below given command will give number of columns and number of rows in X and Y\n",
    "cols_X = X.shape[1]\n",
    "rows_Y = Y.shape[0]\n",
    "\n",
    "#Multiplication\n",
    "if cols_X == rows_Y:\n",
    "    result = np.dot(X,Y)\n",
    "\n",
    "    print(\"Multiplication is possible: \\n\",result)\n",
    "else:\n",
    "    print(\"Multiplication is not possible\")"
   ]
  },
  {
   "cell_type": "markdown",
   "metadata": {},
   "source": [
    "6. Create two arrays, x = ([2, -1, -8]) y = ([3, 1, -2]). Find the Shape, Number of dimensions of vector x. Reshape the vector x to a matrix of size (3,1) and determine the number of dimensions after reshaping y to a matrix of (3,1)."
   ]
  },
  {
   "cell_type": "code",
   "execution_count": 30,
   "metadata": {},
   "outputs": [
    {
     "name": "stdout",
     "output_type": "stream",
     "text": [
      "x: \n",
      " [ 2 -1 -8]\n",
      "Shape of x: (3,)\n",
      "Number of dimensions of x: 1\n",
      "\n",
      "Reshaped x:\n",
      "[[ 2]\n",
      " [-1]\n",
      " [-8]]\n",
      "\n",
      "Reshaped y:\n",
      "[[ 3]\n",
      " [ 1]\n",
      " [-2]]\n",
      "Number of dimensions of reshaped y: 2\n"
     ]
    }
   ],
   "source": [
    "# Arrays x and y\n",
    "x = np.array([2, -1, -8])\n",
    "y = np.array([3, 1, -2])\n",
    "\n",
    "# Find the shape and number of dimensions of vector x\n",
    "shape_of_x = x.shape\n",
    "#The above line of code returns the shape of the array x, which is (3,), i.e 1D array with 3 elements.\n",
    "\n",
    "dimensions_of_x = x.ndim\n",
    "#The above code returns the number of dimensions of x, i.e 1.\n",
    "\n",
    "# Reshaping x to matrix of size (3, 1)\n",
    "#x.reshape((3, 1)) will reshape x into a 2D array with dimensions (3, 1).\n",
    "xReshaped = x.reshape((3, 1))\n",
    "\n",
    "# Reshape y to a matrix of size (3, 1)\n",
    "#y.reshape((3, 1)) will reshape y into a 2D array with dimensions (3, 1).\n",
    "yReshaped = y.reshape((3, 1))\n",
    "\n",
    "# Determine the number of dimensions after reshaping y\n",
    "yReshapedDimensions = yReshaped.ndim\n",
    "#yReshaped.ndim returns the number of dimensions of the reshaped y, which is 2\n",
    "\n",
    "print(\"x: \\n\",x)\n",
    "\n",
    "print(f\"Shape of x: {shape_of_x}\")\n",
    "print(f\"Number of dimensions of x: {dimensions_of_x}\")\n",
    "\n",
    "print(\"\\nReshaped x:\")\n",
    "print(xReshaped)\n",
    "\n",
    "print(\"\\nReshaped y:\")\n",
    "print(yReshaped)\n",
    "print(f\"Number of dimensions of reshaped y: {yReshapedDimensions}\")"
   ]
  },
  {
   "cell_type": "markdown",
   "metadata": {},
   "source": [
    "7. How does broadcasting work? Demonstrate the subtraction, multiplication by considering a 3 x 3 matrix"
   ]
  },
  {
   "cell_type": "markdown",
   "metadata": {},
   "source": [
    "-> Broadcasting in NumPy allows arrays having different shapes to combine together in order to perform arithmetic operations. It implicitly expands the smaller array to match with the shape of larger array in order to perform the element-wise operation."
   ]
  },
  {
   "cell_type": "code",
   "execution_count": 38,
   "metadata": {},
   "outputs": [
    {
     "name": "stdout",
     "output_type": "stream",
     "text": [
      "X : \n",
      " [[11 12 13]\n",
      " [14 15 16]\n",
      " [17 18 19]] \n",
      "\n",
      "Y : \n",
      " [10 20 30] \n",
      "\n",
      "Z : \n",
      " [[4]\n",
      " [5]\n",
      " [6]] \n",
      "\n",
      "Subtraction (X - Y): \n",
      " [[  1  -8 -17]\n",
      " [  4  -5 -14]\n",
      " [  7  -2 -11]] \n",
      "\n",
      "Multiplication (X * Z): \n",
      " [[ 44  48  52]\n",
      " [ 70  75  80]\n",
      " [102 108 114]] \n",
      "\n"
     ]
    }
   ],
   "source": [
    "# Broadcasting with subtraction and multiplication of a 3x3 matrix:\n",
    "# Create 3x3 matrix\n",
    "X = np.array([[11, 12, 13],\n",
    "              [14, 15, 16],\n",
    "              [17, 18, 19]])\n",
    "\n",
    "# Define a 1D array (row vector)\n",
    "Y = np.array([10, 20, 30])\n",
    "\n",
    "# Define a 1D array (column vector)\n",
    "Z = np.array([4, 5, 6]).reshape(-1, 1)\n",
    "\n",
    "# Broadcasting with subtraction\n",
    "Subtraction = X - Y\n",
    "\n",
    "# Broadcasting with multiplication\n",
    "Multiplication = X * Z\n",
    "\n",
    "print(\"X : \\n\",X,\"\\n\")\n",
    "print(\"Y : \\n\",Y,\"\\n\")\n",
    "print(\"Z : \\n\",Z,\"\\n\")\n",
    "\n",
    "print(\"Subtraction (X - Y): \\n\",Subtraction,\"\\n\")\n",
    "\n",
    "print(\"Multiplication (X * Z): \\n\",Multiplication,\"\\n\")"
   ]
  },
  {
   "cell_type": "markdown",
   "metadata": {},
   "source": [
    "# Part B- Linear Equations"
   ]
  },
  {
   "cell_type": "markdown",
   "metadata": {},
   "source": [
    "1. Determine the singularity of the system of equations, comment on the expected solution of the system. Solve the system of equations if possible.\n",
    "Justify the reason why you believe the system can or cannot be solved using numpy functions.\n",
    "\n",
    "Part B.1\n",
    "\n",
    "4x + y - 2z = 10\n",
    "\n",
    "2x - 3y + 2z = -4\n",
    "\n",
    "x + 2y +  = 6\n",
    "\n"
   ]
  },
  {
   "cell_type": "markdown",
   "metadata": {},
   "source": [
    "-> In order to determine the singularity of the system, we analyze the determinant of the coefficient matrix. If the determinant is non-zero and the system is non-singular, it will have a unique solution. In case the determinant is zero, the system may be singular having no solutions or the system may have infinite solutions."
   ]
  },
  {
   "cell_type": "code",
   "execution_count": 43,
   "metadata": {},
   "outputs": [
    {
     "name": "stdout",
     "output_type": "stream",
     "text": [
      "It is a non-singular system hence there is a unique solution:\n",
      "x =1.7999999999999998,y=2.4,z=[2]\n"
     ]
    }
   ],
   "source": [
    "# Coefficient of Matrix X\n",
    "X = np.array([[4,1,-2],\n",
    "              [2,-3,2],\n",
    "              [1,2,3]])\n",
    "\n",
    "#Constant vector Y\n",
    "Y = np.array([10,-4,6])\n",
    "\n",
    "#Determinant of X\n",
    "\n",
    "detX = np.linalg.det(X)\n",
    "\n",
    "#Solving Z with numpy Linear Algebra\n",
    "if detX !=0:\n",
    "    Z = np.linalg.solve(X,Y)\n",
    "    print(\"It is a non-singular system hence there is a unique solution:\")\n",
    "    print(f\"x ={Z[0]},y={Z[1]},z={[2]}\")\n",
    "else:\n",
    "    print(\"This may be a singular system or there might be no infinite solutions\")"
   ]
  },
  {
   "cell_type": "markdown",
   "metadata": {},
   "source": [
    "Part B.2\n",
    "\n",
    "2x - y + 3z + 4w = 10\n",
    "\n",
    "4x - 2y + 6z + 8w = 20\n",
    "\n",
    "3x + y - 2z + 2w = 3\n",
    "\n",
    "x + 3y - 4z + w = -1"
   ]
  },
  {
   "cell_type": "code",
   "execution_count": 44,
   "metadata": {},
   "outputs": [
    {
     "name": "stdout",
     "output_type": "stream",
     "text": [
      "This may be a singular system or there might be no infinite solutions\n"
     ]
    }
   ],
   "source": [
    "# Coefficient of Matrix X\n",
    "X = np.array([[2,-1,3,4],\n",
    "              [4,-2,6,8],\n",
    "              [3,1,-2,2],\n",
    "              [1,3,-4,1]])\n",
    "\n",
    "#Constant vector Y\n",
    "Y = np.array([10,20,3,-1])\n",
    "\n",
    "#Determinant of X\n",
    "\n",
    "detX = np.linalg.det(X)\n",
    "\n",
    "#Solving Z with numpy Linear Algebra\n",
    "if detX !=0:\n",
    "    Z = np.linalg.solve(X,Y)\n",
    "    print(\"It is a non-singular system hence there is a unique solution:\")\n",
    "    print(f\"x ={Z[0]},y={Z[1]},z={[2]},w={[3]}\")\n",
    "else:\n",
    "    print(\"This may be a singular system or there might be no infinite solutions\")"
   ]
  },
  {
   "cell_type": "code",
   "execution_count": null,
   "metadata": {},
   "outputs": [],
   "source": []
  }
 ],
 "metadata": {
  "kernelspec": {
   "display_name": "Python 3 (ipykernel)",
   "language": "python",
   "name": "python3"
  },
  "language_info": {
   "codemirror_mode": {
    "name": "ipython",
    "version": 3
   },
   "file_extension": ".py",
   "mimetype": "text/x-python",
   "name": "python",
   "nbconvert_exporter": "python",
   "pygments_lexer": "ipython3",
   "version": "3.11.5"
  }
 },
 "nbformat": 4,
 "nbformat_minor": 4
}
