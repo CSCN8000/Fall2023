{
 "cells": [
  {
   "cell_type": "markdown",
   "metadata": {},
   "source": [
    "# Part - A\n",
    "## Import numpy and Array operations\n",
    "### - Creating an array\n",
    "### - Creating array of shape 3 with random numbers\n",
    "### - Creating an 2D array\n",
    "### - Slicing the 2D array"
   ]
  },
  {
   "cell_type": "code",
   "execution_count": 34,
   "metadata": {},
   "outputs": [
    {
     "name": "stdout",
     "output_type": "stream",
     "text": [
      "Array 1: [ 1  4  7 10 13 16 19]\n",
      "Random Array: [0.56682931 0.68983976 0.08515414]\n",
      "Matrix:\n",
      "[[10 20 45]\n",
      " [30 12 16]\n",
      " [42 17 56]]\n",
      "First Two Rows:\n",
      "[[10 20 45]\n",
      " [30 12 16]]\n",
      "Last Two Rows:\n",
      "[[30 12 16]\n",
      " [42 17 56]]\n"
     ]
    }
   ],
   "source": [
    "import numpy as np\n",
    "\n",
    "# Create an array from 1 to 20 incremented by 3\n",
    "array1 = np.arange(1, 21, 3)\n",
    "\n",
    "# Create a new array of shape 3 with random numbers between 0 and 1\n",
    "random_array = np.random.rand(3)\n",
    "\n",
    "# Create a 2D array\n",
    "matrix = np.array([[10, 20, 45], [30, 12, 16], [42, 17, 56]])\n",
    "\n",
    "# Slice the 2D array to get the first two rows\n",
    "first_two_rows = matrix[:2, :]\n",
    "\n",
    "# Slice the 2D array to get the last two rows\n",
    "last_two_rows = matrix[1:, :]\n",
    "\n",
    "print(\"Array 1:\", array1)\n",
    "print(\"Random Array:\", random_array)\n",
    "print(\"Matrix:\")\n",
    "print(matrix)\n",
    "print(\"First Two Rows:\")\n",
    "print(first_two_rows)\n",
    "print(\"Last Two Rows:\")\n",
    "print(last_two_rows)\n",
    "\n"
   ]
  },
  {
   "cell_type": "markdown",
   "metadata": {},
   "source": [
    "### Creating two 2x2 arrays\n",
    "### Stacking the arrays vertically\n",
    "### Stacking the arrays horizontally\n",
    "### Spliting the array into smaller arrays"
   ]
  },
  {
   "cell_type": "code",
   "execution_count": 35,
   "metadata": {},
   "outputs": [
    {
     "name": "stdout",
     "output_type": "stream",
     "text": [
      "Array 2\n",
      "[[1 2]\n",
      " [3 4]]\n",
      "Array 3\n",
      "[[5 6]\n",
      " [7 8]]\n",
      "Vertical Stack:\n",
      "[[1 2]\n",
      " [3 4]\n",
      " [5 6]\n",
      " [7 8]]\n",
      "Horizontal Stack:\n",
      "[[1 2 5 6]\n",
      " [3 4 7 8]]\n",
      "Split Array 2:\n",
      "[array([[1, 2]]), array([[3, 4]])]\n",
      "Split Array 3:\n",
      "[array([[5, 6]]), array([[7, 8]])]\n"
     ]
    }
   ],
   "source": [
    "# Create two 2x2 arrays\n",
    "array2 = np.array([[1, 2], [3, 4]])\n",
    "array3 = np.array([[5, 6], [7, 8]])\n",
    "\n",
    "# Stack the arrays vertically\n",
    "vertical_stack = np.vstack((array2, array3))\n",
    "\n",
    "# Stack the arrays horizontally\n",
    "horizontal_stack = np.hstack((array2, array3))\n",
    "\n",
    "# Split the arrays into smaller arrays\n",
    "split_array2 = np.split(array2, 2)\n",
    "split_array3 = np.split(array3, 2)\n",
    "\n",
    "print(\"Array 2\")\n",
    "print(array2)\n",
    "print(\"Array 3\")\n",
    "print(array3)\n",
    "print(\"Vertical Stack:\")\n",
    "print(vertical_stack)\n",
    "print(\"Horizontal Stack:\")\n",
    "print(horizontal_stack)\n",
    "print(\"Split Array 2:\")\n",
    "print(split_array2)\n",
    "print(\"Split Array 3:\")\n",
    "print(split_array3)\n"
   ]
  },
  {
   "cell_type": "markdown",
   "metadata": {},
   "source": [
    "### Creating Matrices X and Y\n",
    "### Checking the possible to multiply X and Y"
   ]
  },
  {
   "cell_type": "code",
   "execution_count": 36,
   "metadata": {},
   "outputs": [
    {
     "name": "stdout",
     "output_type": "stream",
     "text": [
      "Matrix X:\n",
      "[[5 7 2]\n",
      " [4 5 6]\n",
      " [7 4 2]]\n",
      "Matrix Y:\n",
      "[[4 2]\n",
      " [6 2]\n",
      " [4 2]]\n",
      "Matrix Multiplication Result:\n",
      "[[70 28]\n",
      " [70 30]\n",
      " [60 26]]\n"
     ]
    }
   ],
   "source": [
    "# Create matrices X and Y\n",
    "X = np.array([[5, 7, 2], [4, 5, 6], [7, 4, 2]])\n",
    "Y = np.array([[4, 2], [6, 2], [4, 2]])\n",
    "\n",
    "# Check if it's possible to multiply X and Y\n",
    "if X.shape[1] == Y.shape[0]:\n",
    "    multiplication_result = np.dot(X, Y)\n",
    "else:\n",
    "    multiplication_result = \"Matrix multiplication is not possible.\"\n",
    "\n",
    "print(\"Matrix X:\")\n",
    "print(X)\n",
    "print(\"Matrix Y:\")\n",
    "print(Y)\n",
    "print(\"Matrix Multiplication Result:\")\n",
    "print(multiplication_result)\n",
    "\n"
   ]
  },
  {
   "cell_type": "markdown",
   "metadata": {},
   "source": [
    "### Creating two arrays, x and y\n",
    "### Finding the shape and number of dimensions of vector x\n",
    "### Reshape the vector x to a matrix of size (3,1)\n",
    "### Determining the number of dimensions after reshaping y to a matrix of (3,1)"
   ]
  },
  {
   "cell_type": "code",
   "execution_count": 37,
   "metadata": {},
   "outputs": [
    {
     "name": "stdout",
     "output_type": "stream",
     "text": [
      "Vector x Shape: (3,)\n",
      "Vector x Number of Dimensions: 1\n",
      "Reshaped Vector x:\n",
      "[[ 2]\n",
      " [-1]\n",
      " [-8]]\n",
      "Number of Dimensions after Reshaping y: 2\n"
     ]
    }
   ],
   "source": [
    "# Create two arrays, x and y\n",
    "x = np.array([2, -1, -8])\n",
    "y = np.array([3, 1, -2])\n",
    "\n",
    "# Find the shape and number of dimensions of vector x\n",
    "x_shape = x.shape\n",
    "x_dimensions = x.ndim\n",
    "\n",
    "# Reshape vector x to a matrix of size (3, 1)\n",
    "x_reshaped = x.reshape(3, 1)\n",
    "\n",
    "# Determine the number of dimensions after reshaping y to a matrix of (3, 1)\n",
    "y_reshaped = y.reshape(3, 1)\n",
    "y_reshaped_dimensions = y_reshaped.ndim\n",
    "\n",
    "print(\"Vector x Shape:\", x_shape)\n",
    "print(\"Vector x Number of Dimensions:\", x_dimensions)\n",
    "print(\"Reshaped Vector x:\")\n",
    "print(x_reshaped)\n",
    "print(\"Number of Dimensions after Reshaping y:\", y_reshaped_dimensions)\n"
   ]
  },
  {
   "cell_type": "markdown",
   "metadata": {},
   "source": [
    "### Broadcasting : Subtraction and Multiplication by 3x3 matrix"
   ]
  },
  {
   "cell_type": "code",
   "execution_count": 38,
   "metadata": {},
   "outputs": [
    {
     "name": "stdout",
     "output_type": "stream",
     "text": [
      "Broadcasting Subtraction:\n",
      "[[-9 -8 -7]\n",
      " [-6 -5 -4]\n",
      " [-3 -2 -1]]\n",
      "Broadcasting Multiplication:\n",
      "[[10 20 30]\n",
      " [40 50 60]\n",
      " [70 80 90]]\n"
     ]
    }
   ],
   "source": [
    "# Broadcasting: Demonstrate subtraction and multiplication by considering a 3x3 matrix\n",
    "matrix_a = np.array([[1, 2, 3], [4, 5, 6], [7, 8, 9]])\n",
    "scalar = 10\n",
    "\n",
    "# Broadcasting subtraction\n",
    "result_subtraction = matrix_a - scalar\n",
    "\n",
    "# Broadcasting multiplication\n",
    "result_multiplication = matrix_a * scalar\n",
    "\n",
    "print(\"Broadcasting Subtraction:\")\n",
    "print(result_subtraction)\n",
    "print(\"Broadcasting Multiplication:\")\n",
    "print(result_multiplication)"
   ]
  },
  {
   "cell_type": "markdown",
   "metadata": {},
   "source": [
    "# Part - B - Linear Equations\n",
    "### Part B.1\n",
    "### 4x + y - 2z = 10\n",
    "### 2x - 3y + 2z = -4\n",
    "### x + 2y + 3z = 6\n"
   ]
  },
  {
   "cell_type": "code",
   "execution_count": 39,
   "metadata": {},
   "outputs": [
    {
     "name": "stdout",
     "output_type": "stream",
     "text": [
      "Determinant of matrix B.1: -70.0\n",
      "Solution B.1: [ 1.8  2.4 -0.2]\n"
     ]
    }
   ],
   "source": [
    "# Matrix b1\n",
    "matrix_b1 = np.array([[4, 1, -2], [2, -3, 2], [1, 2, 3]])\n",
    "\n",
    "# Right-hand side constants\n",
    "constants_b1 = np.array([10, -4, 6])\n",
    "\n",
    "# Check the determinant of the coefficient matrix\n",
    "determinant_b1 = np.linalg.det(matrix_b1)\n",
    "\n",
    "# Determine if the system is singular\n",
    "if determinant_b1 != 0:\n",
    "    # The system has a unique solution\n",
    "    solution_b1 = np.linalg.solve(matrix_b1, constants_b1)\n",
    "else:\n",
    "    # The system is singular, and the solution may not exist or be non-unique\n",
    "    solution_b1 = \"No unique solution (system is singular)\"\n",
    "\n",
    "print(\"Determinant of matrix B.1:\", round(determinant_b1,2))\n",
    "print(\"Solution B.1:\", solution_b1)\n"
   ]
  },
  {
   "cell_type": "markdown",
   "metadata": {},
   "source": [
    "### Part B.2\n",
    "### 2x - y + 3z + 4w = 10\n",
    "### 4x - 2y + 6z + 8w = 20\n",
    "### 3x + y - 2z + 2w = 3\n",
    "### x + 3y - 4z + w = -1\n"
   ]
  },
  {
   "cell_type": "code",
   "execution_count": 41,
   "metadata": {},
   "outputs": [
    {
     "name": "stdout",
     "output_type": "stream",
     "text": [
      "Determinant of matrix B.2: 0.0\n",
      "Solution B.2: No unique solution (system is singular)\n"
     ]
    }
   ],
   "source": [
    "# Matrix b2\n",
    "matrix_b2 = np.array([[2, -1, 3, 4], [4, -2, 6, 8], [3, 1, -2, 2], [1, 3, -4, 1]])\n",
    "\n",
    "# Right-hand side constants\n",
    "constants_b2 = np.array([10, 20, 3, -1])\n",
    "\n",
    "# Check the determinant of the coefficient matrix\n",
    "determinant_b2 = np.linalg.det(matrix_b2)\n",
    "\n",
    "# Determine if the system is singular\n",
    "if determinant_b2 != 0:\n",
    "    # The system has a unique solution\n",
    "    solution_b2 = np.linalg.solve(matrix_b2, constants_b2)\n",
    "else:\n",
    "    # The system is singular, and the solution may not exist or be non-unique\n",
    "    solution_b2 = \"No unique solution (system is singular)\"\n",
    "\n",
    "print(\"Determinant of matrix B.2:\", determinant_b2)\n",
    "print(\"Solution B.2:\", solution_b2)\n"
   ]
  }
 ],
 "metadata": {
  "kernelspec": {
   "display_name": "Python 3",
   "language": "python",
   "name": "python3"
  },
  "language_info": {
   "codemirror_mode": {
    "name": "ipython",
    "version": 3
   },
   "file_extension": ".py",
   "mimetype": "text/x-python",
   "name": "python",
   "nbconvert_exporter": "python",
   "pygments_lexer": "ipython3",
   "version": "3.11.3"
  },
  "orig_nbformat": 4
 },
 "nbformat": 4,
 "nbformat_minor": 2
}
