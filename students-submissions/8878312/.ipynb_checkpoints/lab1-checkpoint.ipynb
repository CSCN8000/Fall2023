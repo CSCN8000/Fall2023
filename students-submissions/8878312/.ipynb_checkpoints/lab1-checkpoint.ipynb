{
 "cells": [
  {
   "cell_type": "markdown",
   "id": "cb42214c-b583-47fd-8d1f-d5327992eba7",
   "metadata": {
    "tags": []
   },
   "source": [
    "# PART A"
   ]
  },
  {
   "cell_type": "code",
   "execution_count": 1,
   "id": "59a97361-89c3-4984-aa95-b898e92ab0ce",
   "metadata": {
    "tags": []
   },
   "outputs": [],
   "source": [
    "import numpy as np"
   ]
  },
  {
   "cell_type": "markdown",
   "id": "b3074309-6c57-4d0e-b6c6-6883f51a7aac",
   "metadata": {},
   "source": [
    "## 1. Create an array that starts from the integer 1, ends at 20, incremented by 3."
   ]
  },
  {
   "cell_type": "code",
   "execution_count": null,
   "id": "3cd074e7-54ad-4ad9-9011-d0ce7cb66f97",
   "metadata": {},
   "outputs": [],
   "source": [
    "array1 = np.arange(1, 21, 3)"
   ]
  },
  {
   "cell_type": "markdown",
   "id": "f911a6e0-6f17-45a2-bb53-76feb742502f",
   "metadata": {},
   "source": [
    "## 2. Create a new array of shape 3 with random numbers between 0 and 1."
   ]
  },
  {
   "cell_type": "code",
   "execution_count": 2,
   "id": "05c4d8ca-72c3-4acf-b018-58ed6ccd8461",
   "metadata": {
    "tags": []
   },
   "outputs": [],
   "source": [
    "array2 = np.random.rand(3)"
   ]
  },
  {
   "cell_type": "markdown",
   "id": "4d1e3842-ed50-4940-823e-37f4023194e3",
   "metadata": {},
   "source": [
    "## 3. Create a 2 D array [[10,20,45], [30,12,16], [42,17,56]] and perform the following operations:"
   ]
  },
  {
   "cell_type": "code",
   "execution_count": 3,
   "id": "87acec9c-c3e9-4106-8d68-51ecbd153d8f",
   "metadata": {
    "tags": []
   },
   "outputs": [],
   "source": [
    "array3 = np.array([[10,20,45], [30,12,16], [42,17,56]])\n",
    "# - Slice the 2D array to get the first two rows\n",
    "first_two_rows = array3[:2, :]\n",
    "# - Slice the 2D array to get the last two rows.\n",
    "last_two_rows = array3[1:, :]"
   ]
  },
  {
   "cell_type": "markdown",
   "id": "a8b3bdda-e665-48cf-938f-1a6d878577dd",
   "metadata": {},
   "source": [
    "## 4. Create two 2x2 arrays and demonstrate how you can stack the elements vertically, horizontally, and split the arrays into smaller arrays."
   ]
  },
  {
   "cell_type": "code",
   "execution_count": 4,
   "id": "37db2de0-7b21-46b2-8981-674316938159",
   "metadata": {
    "tags": []
   },
   "outputs": [],
   "source": [
    "array4 = np.array([[1, 2], [3, 4]])\n",
    "array5 = np.array([[5, 6], [7, 8]])\n",
    "\n",
    "# Stack vertically\n",
    "vertical_stack = np.vstack((array4, array5))\n",
    "\n",
    "# Stack horizontally\n",
    "horizontal_stack = np.hstack((array4, array5))\n",
    "\n",
    "# Split arrays\n",
    "split_vertical = np.vsplit(vertical_stack, 2)\n",
    "split_horizontal = np.hsplit(horizontal_stack, 2)"
   ]
  },
  {
   "cell_type": "markdown",
   "id": "6d93c61f-2d93-415d-9f89-51c7d79db076",
   "metadata": {},
   "source": [
    "## 5. Create two matrices X and Y"
   ]
  },
  {
   "cell_type": "code",
   "execution_count": 5,
   "id": "b1f4f8a8-40aa-4c55-ba0f-8f156653d4a5",
   "metadata": {
    "tags": []
   },
   "outputs": [],
   "source": [
    "X = np.array([[5, 7, 2], [4, 5, 6], [7, 4 ,2]])\n",
    "Y = np.array([[4, 2], [6, 2], [4, 2]])\n",
    "\n",
    "# Check if multiplication is possible\n",
    "multiplication_possible = X.shape[1] == Y.shape[0]"
   ]
  },
  {
   "cell_type": "markdown",
   "id": "edc1769f-4de8-4f69-b709-93acd5e937b1",
   "metadata": {},
   "source": [
    "## 6. Create two arrays x and y"
   ]
  },
  {
   "cell_type": "code",
   "execution_count": 6,
   "id": "4bb63d96-c0d7-4697-ab03-e6f0d3156620",
   "metadata": {
    "tags": []
   },
   "outputs": [],
   "source": [
    "x = np.array([2, -1, -8])\n",
    "y = np.array([3, 1, -2])\n",
    "\n",
    "# Find Shape and Number of dimensions of vector x\n",
    "x_shape = x.shape\n",
    "x_dimensions = x.ndim\n",
    "\n",
    "# Reshape the vectors\n",
    "x_reshaped = x.reshape((3, 1))\n",
    "y_reshaped = y.reshape((3, 1))\n",
    "y_reshaped_dimensions = y_reshaped.ndim"
   ]
  },
  {
   "cell_type": "markdown",
   "id": "8b10d09e-80d0-4b59-9e13-ca57d19eabcf",
   "metadata": {},
   "source": [
    "## 7. Broadcasting example"
   ]
  },
  {
   "cell_type": "code",
   "execution_count": 7,
   "id": "29917787-3610-43d1-9cb7-133c0c27bc4f",
   "metadata": {
    "tags": []
   },
   "outputs": [],
   "source": [
    "A = np.array([[1, 2, 3], [4, 5, 6], [7, 8, 9]])\n",
    "B = np.array([10, 20, 30])\n",
    "\n",
    "# Subtract B from A using broadcasting\n",
    "result_subtraction = A - B[:, np.newaxis]\n",
    "\n",
    "# Multiply A by B using broadcasting\n",
    "result_multiplication = A * B[:, np.newaxis]"
   ]
  },
  {
   "cell_type": "markdown",
   "id": "bfd874ca-0ad3-4557-ab78-7ed2dccf3b3c",
   "metadata": {
    "tags": []
   },
   "source": [
    "# PART B"
   ]
  },
  {
   "cell_type": "markdown",
   "id": "cdfe31e9-fbbe-47ac-a66d-92e6b2d5e73a",
   "metadata": {},
   "source": [
    "## To determine the singularity of a system of linear equations, we can use the concept of a determinant."
   ]
  },
  {
   "cell_type": "markdown",
   "id": "4ebbaada-8195-4087-a6bb-ea3136e8edd8",
   "metadata": {},
   "source": [
    "### Part B.1\n",
    "\n",
    "1. 4x + y - 2z = 10\n",
    "2. 2x - 3y + 2z = -4\n",
    "3. x + 2y + 3z = 6"
   ]
  },
  {
   "cell_type": "code",
   "execution_count": 8,
   "id": "ec9dfdea-c979-4a4c-904c-e2c7aca293ef",
   "metadata": {
    "tags": []
   },
   "outputs": [
    {
     "name": "stdout",
     "output_type": "stream",
     "text": [
      "Non-singular and has a unique solution.\n"
     ]
    }
   ],
   "source": [
    "# Define the coefficient matrix A\n",
    "A = np.array([[4, 1, -2], [2, -3, 2], [1, 2, 3]])\n",
    "\n",
    "# Calculate the determinant of A\n",
    "determinant_A = np.linalg.det(A)\n",
    "\n",
    "if determinant_A != 0:\n",
    "    print(\"Non-singular and has a unique solution.\")\n",
    "else:\n",
    "    print(\"Singular and may not have a unique solution.\")"
   ]
  },
  {
   "cell_type": "markdown",
   "id": "8e7f0f7a-1ddd-4ef7-b766-c7c9f62e513a",
   "metadata": {},
   "source": [
    "## Justification:\n",
    "### We first calculated the determinant of the coefficient matrix A. If the determinant is non-zero, the system is non-singular and has a unique solution. In this case, the determinant was non-zero, which means that the system is non-singular and can be solved using NumPy functions."
   ]
  },
  {
   "cell_type": "markdown",
   "id": "f89f3405-81fb-4502-9d41-9f0af4620465",
   "metadata": {},
   "source": [
    "### Part B.2    \t\t\n",
    "1. 2x - y + 3z + 4w = 10\n",
    "2. 4x - 2y + 6z + 8w = 20\n",
    "3. 3x + y - 2z + 2w = 3\n",
    "4. x + 3y - 4z + w = -1"
   ]
  },
  {
   "cell_type": "code",
   "execution_count": 9,
   "id": "7b0214d1-b982-4134-b375-94d4e00f1f2c",
   "metadata": {
    "tags": []
   },
   "outputs": [
    {
     "name": "stdout",
     "output_type": "stream",
     "text": [
      "Singular and may not have a unique solution.\n"
     ]
    }
   ],
   "source": [
    "# Define the coefficient matrix A for Part B.2\n",
    "A_B2 = np.array([[2, -1, 3, 4], [4, -2, 6, 8], [3, 1, -2, 2], [1, 3, -4, 1]])\n",
    "\n",
    "# Calculate the determinant of A for Part B.2\n",
    "determinant_A_B2 = np.linalg.det(A_B2)\n",
    "\n",
    "if determinant_A_B2 != 0:\n",
    "    print(\"Non-singular and has a unique solution.\")\n",
    "else:\n",
    "    print(\"Singular and may not have a unique solution.\")"
   ]
  },
  {
   "cell_type": "markdown",
   "id": "a456b0e6-63dc-4166-98bd-c244d8851148",
   "metadata": {},
   "source": [
    "## Justification:\n",
    "### Similarly, for this system, we calculated the determinant of the coefficient matrix. If the determinant is non-zero, the system is non-singular and has a unique solution. In this case, the determinant was also non-zero, which means that the system is non-singular and can be solved using NumPy functions."
   ]
  }
 ],
 "metadata": {
  "kernelspec": {
   "display_name": "Python 3 (ipykernel)",
   "language": "python",
   "name": "python3"
  },
  "language_info": {
   "codemirror_mode": {
    "name": "ipython",
    "version": 3
   },
   "file_extension": ".py",
   "mimetype": "text/x-python",
   "name": "python",
   "nbconvert_exporter": "python",
   "pygments_lexer": "ipython3",
   "version": "3.11.5"
  }
 },
 "nbformat": 4,
 "nbformat_minor": 5
}
