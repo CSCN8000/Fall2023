{
 "cells": [
  {
   "cell_type": "markdown",
   "id": "46979b98-30fb-4148-a133-e49a4744faa4",
   "metadata": {},
   "source": [
    "# Lab 2 - Sandeep Pandey - 88788312"
   ]
  },
  {
   "cell_type": "code",
   "execution_count": null,
   "id": "c4a4f4f2-578a-4a69-af00-3248d3af3ed6",
   "metadata": {},
   "outputs": [],
   "source": [
    "import pandas as pd\n",
    "import numpy as np\n",
    "from sklearn.model_selection import train_test_split\n",
    "from sklearn.feature_extraction.text import CountVectorizer\n",
    "from sklearn.svm import SVC\n",
    "from sklearn.naive_bayes import GaussianNB, MultinomialNB\n",
    "from sklearn.metrics import accuracy_score, classification_report"
   ]
  },
  {
   "cell_type": "markdown",
   "id": "6bebf58c-e61c-4f1e-b148-d1e186238391",
   "metadata": {},
   "source": [
    "# Part A"
   ]
  },
  {
   "cell_type": "code",
   "execution_count": 3,
   "id": "5a708050-700c-4c1f-b83a-a6932228f142",
   "metadata": {},
   "outputs": [],
   "source": [
    "# Step 1: Load the dataset\n",
    "df = pd.read_csv('Lab2_dataset.csv')"
   ]
  },
  {
   "cell_type": "code",
   "execution_count": 6,
   "id": "eb538c8f-3c34-45eb-8488-0b8f604c9f11",
   "metadata": {},
   "outputs": [],
   "source": [
    "# Step 2: Preprocessing\n",
    "vectorizer = CountVectorizer(max_features=1000)\n",
    "X = vectorizer.fit_transform(df['text'])\n",
    "y = df['label_num']"
   ]
  },
  {
   "cell_type": "code",
   "execution_count": 7,
   "id": "401c85b8-84c4-4122-9a87-c1ec8b8f2b08",
   "metadata": {},
   "outputs": [],
   "source": [
    "# Step 3: Split the dataset into training and testing\n",
    "X_train, X_test, y_train, y_test = train_test_split(X, y, test_size=0.2, random_state=42)"
   ]
  },
  {
   "cell_type": "code",
   "execution_count": 8,
   "id": "4560942f-2e20-4a5b-a990-1c0f0f829bef",
   "metadata": {},
   "outputs": [],
   "source": [
    "# Step 4: Model Training and Evaluation\n",
    "# Train the Sklearn SVC model\n",
    "svc_model = SVC()\n",
    "svc_model.fit(X_train, y_train)\n",
    "svc_pred = svc_model.predict(X_test)\n",
    "\n",
    "# Evaluate SVC\n",
    "svc_accuracy = accuracy_score(y_test, svc_pred)\n",
    "svc_report = classification_report(y_test, svc_pred)"
   ]
  },
  {
   "cell_type": "code",
   "execution_count": 9,
   "id": "01dc36fb-30ee-4661-ac4f-5add37f509f7",
   "metadata": {},
   "outputs": [],
   "source": [
    "# Train and evaluate Gaussian Naive Bayes Classifier\n",
    "gnb_model = GaussianNB()\n",
    "gnb_model.fit(X_train.toarray(), y_train)\n",
    "gnb_pred = gnb_model.predict(X_test.toarray())\n",
    "\n",
    "# Evaluate GaussianNB\n",
    "gnb_accuracy = accuracy_score(y_test, gnb_pred)\n",
    "gnb_report = classification_report(y_test, gnb_pred)\n",
    "\n",
    "# Train and evaluate Multinomial Naive Bayes Classifier\n",
    "mnb_model = MultinomialNB()\n",
    "mnb_model.fit(X_train, y_train)\n",
    "mnb_pred = mnb_model.predict(X_test)"
   ]
  },
  {
   "cell_type": "code",
   "execution_count": 10,
   "id": "cd0c2103-d0bc-4315-b7ba-430a31c70203",
   "metadata": {},
   "outputs": [],
   "source": [
    "# Evaluate MultinomialNB\n",
    "mnb_accuracy = accuracy_score(y_test, mnb_pred)\n",
    "mnb_report = classification_report(y_test, mnb_pred)"
   ]
  },
  {
   "cell_type": "code",
   "execution_count": 11,
   "id": "89948c5f-fd68-4555-8ff0-6630792511ff",
   "metadata": {},
   "outputs": [
    {
     "name": "stdout",
     "output_type": "stream",
     "text": [
      "SVC Accuracy: 0.9497584541062802\n",
      "Gaussian NB Accuracy: 0.9420289855072463\n",
      "Multinomial NB Accuracy: 0.9342995169082126\n",
      "\n",
      "Classification Report for SVC:\n",
      "              precision    recall  f1-score   support\n",
      "\n",
      "           0       0.98      0.95      0.96       742\n",
      "           1       0.88      0.96      0.92       293\n",
      "\n",
      "    accuracy                           0.95      1035\n",
      "   macro avg       0.93      0.95      0.94      1035\n",
      "weighted avg       0.95      0.95      0.95      1035\n",
      "\n",
      "\n",
      "Classification Report for Gaussian NB:\n",
      "              precision    recall  f1-score   support\n",
      "\n",
      "           0       0.99      0.93      0.96       742\n",
      "           1       0.85      0.97      0.90       293\n",
      "\n",
      "    accuracy                           0.94      1035\n",
      "   macro avg       0.92      0.95      0.93      1035\n",
      "weighted avg       0.95      0.94      0.94      1035\n",
      "\n",
      "\n",
      "Classification Report for Multinomial NB:\n",
      "              precision    recall  f1-score   support\n",
      "\n",
      "           0       0.97      0.94      0.95       742\n",
      "           1       0.86      0.92      0.89       293\n",
      "\n",
      "    accuracy                           0.93      1035\n",
      "   macro avg       0.91      0.93      0.92      1035\n",
      "weighted avg       0.94      0.93      0.93      1035\n",
      "\n"
     ]
    }
   ],
   "source": [
    "# Step 5: Compare model performances and comment on the differences\n",
    "print(f\"SVC Accuracy: {svc_accuracy}\")\n",
    "print(f\"Gaussian NB Accuracy: {gnb_accuracy}\")\n",
    "print(f\"Multinomial NB Accuracy: {mnb_accuracy}\")\n",
    "\n",
    "print(\"\\nClassification Report for SVC:\")\n",
    "print(svc_report)\n",
    "\n",
    "print(\"\\nClassification Report for Gaussian NB:\")\n",
    "print(gnb_report)\n",
    "\n",
    "print(\"\\nClassification Report for Multinomial NB:\")\n",
    "print(mnb_report)"
   ]
  },
  {
   "cell_type": "markdown",
   "id": "cb1f0547-388c-4a5e-ba57-be17d6d3e4e0",
   "metadata": {},
   "source": [
    "# Part B"
   ]
  },
  {
   "cell_type": "code",
   "execution_count": 12,
   "id": "c231cfde-db0c-45c0-a9f5-f33ef4089db0",
   "metadata": {},
   "outputs": [],
   "source": [
    "# Load the dataset\n",
    "df = pd.read_csv('AB_NYC_2019.csv')"
   ]
  },
  {
   "cell_type": "code",
   "execution_count": 16,
   "id": "2ba6c373-3b4a-4a2f-bffd-a15a4f16d5c3",
   "metadata": {},
   "outputs": [
    {
     "name": "stdout",
     "output_type": "stream",
     "text": [
      "Original dataset size: 48895\n",
      "Dataset size after Z-score method: 48507\n",
      "Dataset size after whiskers (IQR) method: 45923\n"
     ]
    }
   ],
   "source": [
    "# Calculate Z-scores\n",
    "z_scores = np.abs((df['price'] - df['price'].mean()) / df['price'].std())\n",
    "\n",
    "# Define threshold for Z-score method\n",
    "z_threshold = 3\n",
    "\n",
    "# Z-score approach: Remove outliers\n",
    "cleaned_zscore = df[z_scores <= z_threshold]\n",
    "\n",
    "# IQR (Whiskers) approach: Remove outliers\n",
    "Q1 = df['price'].quantile(0.25)\n",
    "Q3 = df['price'].quantile(0.75)\n",
    "IQR = Q3 - Q1\n",
    "lower_bound = Q1 - 1.5 * IQR\n",
    "upper_bound = Q3 + 1.5 * IQR\n",
    "cleaned_iqr = df[(df['price'] >= lower_bound) & (df['price'] <= upper_bound)]\n",
    "\n",
    "# Compare the two approaches\n",
    "print(f\"Original dataset size: {len(df)}\")\n",
    "print(f\"Dataset size after Z-score method: {len(cleaned_zscore)}\")\n",
    "print(f\"Dataset size after whiskers (IQR) method: {len(cleaned_iqr)}\")"
   ]
  }
 ],
 "metadata": {
  "kernelspec": {
   "display_name": "Python 3 (ipykernel)",
   "language": "python",
   "name": "python3"
  },
  "language_info": {
   "codemirror_mode": {
    "name": "ipython",
    "version": 3
   },
   "file_extension": ".py",
   "mimetype": "text/x-python",
   "name": "python",
   "nbconvert_exporter": "python",
   "pygments_lexer": "ipython3",
   "version": "3.9.18"
  }
 },
 "nbformat": 4,
 "nbformat_minor": 5
}
