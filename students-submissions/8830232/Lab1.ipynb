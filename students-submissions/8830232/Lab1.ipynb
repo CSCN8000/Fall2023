{
 "cells": [
  {
   "cell_type": "markdown",
   "metadata": {},
   "source": [
    "# Lab 01\n",
    "\n",
    "#### Submitted by : Aagnay Kariyal\n",
    "#### Student ID: 8830232\n",
    "\n",
    "HTML link to file: https://aagnaykariyal.github.io/Fall2023//students-submissions/8830232/Lab1.html\n",
    "\n",
    "***\n"
   ]
  },
  {
   "cell_type": "markdown",
   "metadata": {},
   "source": [
    "# Part A\n",
    "\n",
    "***"
   ]
  },
  {
   "cell_type": "code",
   "execution_count": 1,
   "metadata": {},
   "outputs": [],
   "source": [
    "import numpy as np"
   ]
  },
  {
   "cell_type": "markdown",
   "metadata": {},
   "source": [
    "## Question 1\n",
    "\n",
    "***\n",
    "\n",
    "The code below demonstrates how to create an array that starts from the integer 1 and ends at 20, and is incremented by 3."
   ]
  },
  {
   "cell_type": "code",
   "execution_count": 19,
   "metadata": {},
   "outputs": [
    {
     "name": "stdout",
     "output_type": "stream",
     "text": [
      "Array with range from 1 and 20 is: \n",
      "[ 1  4  7 10 13 16 19]\n"
     ]
    }
   ],
   "source": [
    "# Question 1\n",
    "array_01 = np.arange(1, 20, 3)\n",
    "print(f'Array with range from 1 and 20 is: \\n{array_01}')"
   ]
  },
  {
   "cell_type": "markdown",
   "metadata": {},
   "source": [
    "## Question 2\n",
    "\n",
    "***\n",
    "\n",
    "The following code is used to create a new array of shape 3 with random numbers between 0 and 1"
   ]
  },
  {
   "cell_type": "code",
   "execution_count": 20,
   "metadata": {},
   "outputs": [
    {
     "name": "stdout",
     "output_type": "stream",
     "text": [
      "A new array with shape 3 with random numbers between 0 and 1:\n",
      "[0.79369415 0.08312174 0.05001747]\n"
     ]
    }
   ],
   "source": [
    "# Question 2\n",
    "array_02 = np.random.rand(3)\n",
    "print(f'A new array with shape 3 with random numbers between 0 and 1:\\n{array_02}')"
   ]
  },
  {
   "cell_type": "markdown",
   "metadata": {},
   "source": [
    "## Question 3\n",
    "\n",
    "***\n",
    "\n",
    "In the code block below, we create a 2D array containing 3 rows and we slice them to get the first two rows, and the last two rows as well."
   ]
  },
  {
   "cell_type": "code",
   "execution_count": 22,
   "metadata": {},
   "outputs": [
    {
     "name": "stdout",
     "output_type": "stream",
     "text": [
      "Main array:\n",
      "[[10 20 45]\n",
      " [30 12 16]\n",
      " [42 17 56]]\n",
      "\n",
      "Slice with the first two rows:\n",
      "[[10 20 45]\n",
      " [30 12 16]]\n",
      "\n",
      "Slice with the last two rows:\n",
      "[[42 17 56]\n",
      " [30 12 16]]\n"
     ]
    }
   ],
   "source": [
    "# Question 3\n",
    "array_2D = np.array([[10,20,45],[30,12,16],[42,17,56]])\n",
    "print(f'Main array:\\n{array_2D}\\n')\n",
    "# Slice for the first two rows\n",
    "print(f'Slice with the first two rows:\\n{array_2D[0:2]}\\n')\n",
    "# Slice for the last two rows\n",
    "print(f'Slice with the last two rows:\\n{array_2D[:0:-1]}')"
   ]
  },
  {
   "cell_type": "markdown",
   "metadata": {},
   "source": [
    "## Question 4\n",
    "\n",
    "***\n",
    "\n",
    "Here, we create two 2x2 arrays and we stack those elements vertically and horizontally.<br>\n",
    "We then split this array further into 4 smaller arrays"
   ]
  },
  {
   "cell_type": "code",
   "execution_count": 26,
   "metadata": {},
   "outputs": [
    {
     "name": "stdout",
     "output_type": "stream",
     "text": [
      "The arrays used:\n",
      "[[1 2]\n",
      " [3 4]]\n",
      "\n",
      "[[5 6]\n",
      " [7 8]]\n",
      "\n",
      "After Stacking\n",
      "\n",
      "Vertical Stack:\n",
      "[[1 2]\n",
      " [3 4]\n",
      " [5 6]\n",
      " [7 8]]\n",
      "\n",
      "Horizontal Stack:\n",
      "[[1 2 5 6]\n",
      " [3 4 7 8]]\n",
      "\n",
      "After splitting the array into 4 smaller arrays:\n",
      "[array([[1, 2]]), array([[3, 4]]), array([[5, 6]]), array([[7, 8]])]\n"
     ]
    }
   ],
   "source": [
    "# Question 4\n",
    "array_03 = np.array([[1,2],[3,4]])\n",
    "array_04 = np.array([[5,6],[7,8]])\n",
    "print(f'The arrays used:\\n{array_03}\\n\\n{array_04}\\n')\n",
    "# Stacking\n",
    "vertical_stack = np.vstack((array_03, array_04))\n",
    "horizontal_stack = np.hstack((array_03, array_04))\n",
    "print('After Stacking\\n')\n",
    "print(f'Vertical Stack:\\n{vertical_stack}\\n')\n",
    "print(f'Horizontal Stack:\\n{horizontal_stack}\\n')\n",
    "split_array = np.split(vertical_stack, 4)\n",
    "print(f'After splitting the array into 4 smaller arrays:\\n{split_array}')"
   ]
  },
  {
   "cell_type": "markdown",
   "metadata": {},
   "source": [
    "## Question 5\n",
    "\n",
    "***\n",
    "\n",
    "For the below code, we check if its possible to multiply the matrices array_x and array_y.<br>\n",
    "It definitely is possible to multiply them as x contains 3 columns and y contains 3 rows.<br>\n",
    "Since we multiply matrices by using the column of the first matrix and the row of the second, it works out.\n",
    "\n",
    "The case when it would not be poissible to perform a matrix multiplication would be when the number of columns in the first matrix is not equal to the number of rows in the second matrix"
   ]
  },
  {
   "cell_type": "code",
   "execution_count": 30,
   "metadata": {},
   "outputs": [
    {
     "name": "stdout",
     "output_type": "stream",
     "text": [
      "Arrays for finding the dot product:\n",
      "\n",
      "First Array:\n",
      "[[5, 7, 2], [4, 5, 6], [7, 4, 2]]\n",
      "\n",
      "Second Array:\n",
      "[[4, 2], [6, 2], [4, 2]]\n",
      "\n",
      "Dot product of the above arrays are:\n",
      "[[70 28]\n",
      " [70 30]\n",
      " [60 26]]\n",
      "\n",
      "Error demonstration:\n"
     ]
    },
    {
     "ename": "ValueError",
     "evalue": "shapes (3,2) and (3,3) not aligned: 2 (dim 1) != 3 (dim 0)",
     "output_type": "error",
     "traceback": [
      "\u001b[0;31m---------------------------------------------------------------------------\u001b[0m",
      "\u001b[0;31mValueError\u001b[0m                                Traceback (most recent call last)",
      "\u001b[1;32m/Users/aagnaykariyal/Documents/Github/Conestoga/Fall2023/students-submissions/8830232/Lab1.ipynb Cell 13\u001b[0m line \u001b[0;36m1\n\u001b[1;32m     <a href='vscode-notebook-cell:/Users/aagnaykariyal/Documents/Github/Conestoga/Fall2023/students-submissions/8830232/Lab1.ipynb#W3sZmlsZQ%3D%3D?line=10'>11</a>\u001b[0m \u001b[39m# Error demonstration\u001b[39;00m\n\u001b[1;32m     <a href='vscode-notebook-cell:/Users/aagnaykariyal/Documents/Github/Conestoga/Fall2023/students-submissions/8830232/Lab1.ipynb#W3sZmlsZQ%3D%3D?line=12'>13</a>\u001b[0m \u001b[39mprint\u001b[39m(\u001b[39m'\u001b[39m\u001b[39m\\n\u001b[39;00m\u001b[39mError demonstration:\u001b[39m\u001b[39m'\u001b[39m)\n\u001b[0;32m---> <a href='vscode-notebook-cell:/Users/aagnaykariyal/Documents/Github/Conestoga/Fall2023/students-submissions/8830232/Lab1.ipynb#W3sZmlsZQ%3D%3D?line=13'>14</a>\u001b[0m demo_array \u001b[39m=\u001b[39m np\u001b[39m.\u001b[39;49mdot(array_Y, array_X)\n\u001b[1;32m     <a href='vscode-notebook-cell:/Users/aagnaykariyal/Documents/Github/Conestoga/Fall2023/students-submissions/8830232/Lab1.ipynb#W3sZmlsZQ%3D%3D?line=14'>15</a>\u001b[0m \u001b[39mprint\u001b[39m(demo_array)\n",
      "\u001b[0;31mValueError\u001b[0m: shapes (3,2) and (3,3) not aligned: 2 (dim 1) != 3 (dim 0)"
     ]
    }
   ],
   "source": [
    "# Question 5\n",
    "array_X = ([[5, 7, 2], [4, 5, 6], [7, 4, 2]])\n",
    "array_Y = ([[4, 2], [6, 2], [4, 2]])\n",
    "\n",
    "print('Arrays for finding the dot product:\\n')\n",
    "print(f'First Array:\\n{array_X}\\n\\nSecond Array:\\n{array_Y}\\n')\n",
    "\n",
    "new_array = np.dot(array_X, array_Y)\n",
    "print(f'Dot product of the above arrays are:\\n{new_array}')\n",
    "\n",
    "# Error demonstration\n",
    "\n",
    "print('\\nError demonstration:')\n",
    "demo_array = np.dot(array_Y, array_X)\n",
    "print(demo_array)"
   ]
  },
  {
   "cell_type": "markdown",
   "metadata": {},
   "source": [
    "As you can see, the code returns a ValueError as the shapes of the arrays are not compatible to perform a matrix multiplication since, the columns of the first matrix are not in line with the rows of the second matrix\n"
   ]
  },
  {
   "cell_type": "markdown",
   "metadata": {},
   "source": [
    "## Question 6\n",
    "\n",
    "***\n",
    "\n",
    "We write the below code to find the shape and dimensions of x between x and y.<br>\n",
    "We also reshape the vector x to a matrix of size (3,1) and determine the number of dimensions after reshaping y to a matrix of (3,1)."
   ]
  },
  {
   "cell_type": "code",
   "execution_count": 14,
   "metadata": {},
   "outputs": [
    {
     "name": "stdout",
     "output_type": "stream",
     "text": [
      "Shape of X is (3,), and dimension is 1\n",
      "The shape of the array x after reshaping is now (3, 1)\n",
      "The dimension of y after reshaping is now 2\n"
     ]
    }
   ],
   "source": [
    "# Question 06\n",
    "array_X_new = np.array([2, -1, 8])\n",
    "array_Y_new = np.array([3, 1, -2])\n",
    "shape = array_X_new.shape\n",
    "dim = array_X_new.ndim\n",
    "print(f'Shape of X is {shape}, and dimension is {dim}')\n",
    "# Reshaping x\n",
    "array_x_reshaped = array_X_new.reshape(3,1)\n",
    "print(f'The shape of the array x after reshaping is now {array_x_reshaped.shape}')\n",
    "# Reshaping Y\n",
    "array_y_reshaped = array_Y_new.reshape(3,1)\n",
    "print(f'The dimension of y after reshaping is now {array_y_reshaped.ndim}')"
   ]
  },
  {
   "cell_type": "markdown",
   "metadata": {},
   "source": [
    "## Question 7\n",
    "\n",
    "***\n",
    "\n",
    "Broadcasting is a way of performing element wise operations on arrays with different shapes provided that they follow the compatibility rules\n",
    "\n",
    "In the code below, we try broadcasting by subtracting and multiplying 5 on a 3x3 matrix to demonstrate broadcasting."
   ]
  },
  {
   "cell_type": "code",
   "execution_count": 16,
   "metadata": {},
   "outputs": [
    {
     "name": "stdout",
     "output_type": "stream",
     "text": [
      "Main matrix : \n",
      "[[1 2 3]\n",
      " [4 5 6]\n",
      " [7 8 9]],\n",
      "\n",
      "After subtraction of 5:\n",
      "[[-4 -3 -2]\n",
      " [-1  0  1]\n",
      " [ 2  3  4]],\n",
      "\n",
      "After multiplication of 5:\n",
      "[[ 5 10 15]\n",
      " [20 25 30]\n",
      " [35 40 45]]\n"
     ]
    }
   ],
   "source": [
    "# Question 7\n",
    "matrix = np.array([[1, 2, 3],[4, 5, 6],[7, 8, 9]])\n",
    "subtraction = matrix - 5\n",
    "multiplication = matrix * 5\n",
    "\n",
    "print(f'Main matrix : \\n{matrix},\\n\\nAfter subtraction of 5:\\n{subtraction},\\n\\nAfter multiplication of 5:\\n{multiplication}')"
   ]
  },
  {
   "cell_type": "markdown",
   "metadata": {},
   "source": [
    "# PART B\n",
    "\n",
    "***\n",
    "\n",
    "## Part B.1\n",
    "\n",
    "***\n",
    "\n",
    "In the below code chunk we first check the singularity of the following linear equations:\n",
    "\n",
    "1. 4x + y - 2z = 10\n",
    "2. 2x - 3y + 2z = -4\n",
    "3. x + 2y + 3z = 6\n",
    "\n",
    "We check for the singularity by finding the determinant of the equations.<br> \n",
    "We use the numpy functions to find the determinant first.<br>\n",
    "Since the determinant of the equations are of a non-singular system, we can solve this system of linear equations using numpy."
   ]
  },
  {
   "cell_type": "code",
   "execution_count": 32,
   "metadata": {},
   "outputs": [
    {
     "name": "stdout",
     "output_type": "stream",
     "text": [
      "The determinant of the above equations are: -70.00000000000003\n",
      "\n",
      "The solutions for x,y and z are as follows: [2.6 0.8 0.6]\n",
      "\n"
     ]
    }
   ],
   "source": [
    "# Question B1\n",
    "a = np.array([[4, 1, -2], [2, -3, 2], [1, 2, 3]])\n",
    "b = np.array([10,4,6])\n",
    "det = np.linalg.det(a)\n",
    "print(f'The determinant of the above equations are: {det}\\n')\n",
    "ans = np.linalg.solve(a,b)\n",
    "print(f'The solutions for x,y and z are as follows: {ans}\\n')"
   ]
  },
  {
   "cell_type": "markdown",
   "metadata": {},
   "source": [
    "## Part B.2\n",
    "\n",
    "***\n",
    "\n",
    "We cannot solve the following equations:\n",
    "\n",
    "1. 2x - y + 3z + 4w = 10\n",
    "2. 4x - 2y + 6z + 8w = 20\n",
    "3. 3x + y - 2z + 2w = 3\n",
    "4. x + 3y - 4z + w = -1\n",
    "\n",
    "as the equations are of a singular system. <br>\n",
    "We found out that the system is singular and by checking for the determinant of the system, and since the determinant of the system is 0, the system is singular and cannot be solved using numpy functions."
   ]
  },
  {
   "cell_type": "code",
   "execution_count": 34,
   "metadata": {},
   "outputs": [
    {
     "name": "stdout",
     "output_type": "stream",
     "text": [
      "The determinants of the above equations are: 0.0\n",
      "Hence, they are singular systems and cannot be solved.\n"
     ]
    }
   ],
   "source": [
    "# Question B2\n",
    "c = np.array([[2, -1, 3, 4], [4, -2, 6, 8], [3, 1, -2, 2], [1, 3, -4, 1]])\n",
    "sol = np.linalg.det(c)\n",
    "print(f'The determinants of the above equations are: {sol}')\n",
    "print('Hence, they are singular systems and cannot be solved.')"
   ]
  }
 ],
 "metadata": {
  "kernelspec": {
   "display_name": "CSCN8010_classic_ml",
   "language": "python",
   "name": "cscn8010_classic_ml"
  },
  "language_info": {
   "codemirror_mode": {
    "name": "ipython",
    "version": 3
   },
   "file_extension": ".py",
   "mimetype": "text/x-python",
   "name": "python",
   "nbconvert_exporter": "python",
   "pygments_lexer": "ipython3",
   "version": "3.11.5"
  },
  "orig_nbformat": 4
 },
 "nbformat": 4,
 "nbformat_minor": 2
}
