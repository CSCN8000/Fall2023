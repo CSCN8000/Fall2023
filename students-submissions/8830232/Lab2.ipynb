{
 "cells": [
  {
   "cell_type": "markdown",
   "source": [
    "## Lab 2 - Probability and Statistics\n",
    "### Student Name: Aagnay Kariyal\n",
    "### Student ID: 8830232"
   ],
   "metadata": {
    "collapsed": false
   },
   "id": "d938088b2f4e72b5"
  },
  {
   "cell_type": "markdown",
   "source": [
    "## Part A\n",
    "\n",
    "***\n",
    "\n",
    "### Preprocessing\n",
    "- Load the dataset"
   ],
   "metadata": {
    "collapsed": false
   },
   "id": "ee6cb07cafa18ce"
  },
  {
   "cell_type": "code",
   "execution_count": 1,
   "id": "initial_id",
   "metadata": {
    "collapsed": true,
    "ExecuteTime": {
     "end_time": "2023-10-09T01:13:15.197874Z",
     "start_time": "2023-10-09T01:13:15.103831Z"
    }
   },
   "outputs": [],
   "source": [
    "import pandas as pd\n",
    "import numpy as np\n",
    "import seaborn as sns\n",
    "from sklearn.feature_extraction.text import CountVectorizer\n",
    "from sklearn.model_selection import train_test_split\n",
    "from sklearn.naive_bayes import GaussianNB,BernoulliNB,MultinomialNB"
   ]
  },
  {
   "cell_type": "code",
   "execution_count": 2,
   "outputs": [],
   "source": [
    "dataset = pd.read_csv('/Users/aagnaykariyal/Documents/Github/Conestoga/Fall2023/practical_labs/datasets/Lab_2/Lab2_dataset.csv')"
   ],
   "metadata": {
    "collapsed": false,
    "ExecuteTime": {
     "end_time": "2023-10-09T01:13:15.241017Z",
     "start_time": "2023-10-09T01:13:15.196546Z"
    }
   },
   "id": "16ecf843d0f5a05c"
  },
  {
   "cell_type": "markdown",
   "source": [
    "* We use a CountVectorizer function from sklearn to transform the \"text\" feature into a vector representation"
   ],
   "metadata": {
    "collapsed": false
   },
   "id": "55d5366658b3d8a7"
  },
  {
   "cell_type": "code",
   "execution_count": 3,
   "outputs": [
    {
     "name": "stdout",
     "output_type": "stream",
     "text": [
      "(5171, 50447) (5171, 2)\n"
     ]
    }
   ],
   "source": [
    "vectorizer = CountVectorizer()\n",
    "x = vectorizer.fit_transform(dataset['text']).toarray()\n",
    "y = vectorizer.fit_transform(dataset['label']).toarray()\n",
    "print(x.shape, y.shape)\n",
    "#From printing out the shape of x and y, we can see that y gives us two columns and we only need one. So we can drop one column.\n",
    "y = np.delete(y, 0, 1)\n",
    "# The ones that are spam would be 1 and the one's that are not labelled as spam would be 0"
   ],
   "metadata": {
    "collapsed": false,
    "ExecuteTime": {
     "end_time": "2023-10-09T01:13:15.813890Z",
     "start_time": "2023-10-09T01:13:15.247640Z"
    }
   },
   "id": "2a435dba5f332b52"
  },
  {
   "cell_type": "markdown",
   "source": [
    "* Here we split the dataset into testing and training data"
   ],
   "metadata": {
    "collapsed": false
   },
   "id": "cb1db6f55b451f85"
  },
  {
   "cell_type": "code",
   "execution_count": 4,
   "outputs": [],
   "source": [
    "x_train, x_test, y_train, y_test = train_test_split(x, y, test_size=0.2, random_state=0)"
   ],
   "metadata": {
    "collapsed": false,
    "ExecuteTime": {
     "end_time": "2023-10-09T01:13:16.884007Z",
     "start_time": "2023-10-09T01:13:15.812386Z"
    }
   },
   "id": "b02e0385e1a9ee72"
  },
  {
   "cell_type": "markdown",
   "source": [
    "#### Model training and evaluation\n",
    "\n",
    "***\n"
   ],
   "metadata": {
    "collapsed": false
   },
   "id": "da5b614e4929ac6e"
  },
  {
   "cell_type": "markdown",
   "source": [
    "### Standard Naive Bayes\n",
    "* For the standard naive bayes method we use the bernoulli naive bayes method and save the accuracy score to a score variable"
   ],
   "metadata": {
    "collapsed": false
   },
   "id": "1887f1bb78ec0bf5"
  },
  {
   "cell_type": "code",
   "execution_count": 5,
   "outputs": [
    {
     "name": "stderr",
     "output_type": "stream",
     "text": [
      "/Users/aagnaykariyal/Documents/Github/Conestoga/CSCN8010/venv/CSCN8010_classic_ml/lib/python3.11/site-packages/sklearn/utils/validation.py:1143: DataConversionWarning: A column-vector y was passed when a 1d array was expected. Please change the shape of y to (n_samples, ), for example using ravel().\n",
      "  y = column_or_1d(y, warn=True)\n"
     ]
    }
   ],
   "source": [
    "# Standard Naive Bayes\n",
    "snb = BernoulliNB()\n",
    "snb.fit(x_train, y_train)\n",
    "score = snb.score(x_test, y_test)"
   ],
   "metadata": {
    "collapsed": false,
    "ExecuteTime": {
     "end_time": "2023-10-09T01:13:21.662273Z",
     "start_time": "2023-10-09T01:13:16.885236Z"
    }
   },
   "id": "ad45a6a2c239d630"
  },
  {
   "cell_type": "markdown",
   "source": [
    "### Gaussian Naive Bayes\n",
    "\n",
    "* Here we use the Gaussian Naive Bayes method and store the accuracy score to a gnb_score variable"
   ],
   "metadata": {
    "collapsed": false
   },
   "id": "f25696607a2d003f"
  },
  {
   "cell_type": "code",
   "execution_count": 6,
   "outputs": [
    {
     "name": "stderr",
     "output_type": "stream",
     "text": [
      "/Users/aagnaykariyal/Documents/Github/Conestoga/CSCN8010/venv/CSCN8010_classic_ml/lib/python3.11/site-packages/sklearn/utils/validation.py:1143: DataConversionWarning: A column-vector y was passed when a 1d array was expected. Please change the shape of y to (n_samples, ), for example using ravel().\n",
      "  y = column_or_1d(y, warn=True)\n"
     ]
    }
   ],
   "source": [
    "# Gaussian Naive Bayes\n",
    "gnb = GaussianNB()\n",
    "gnb.fit(x_train, y_train)\n",
    "gnb_score = gnb.score(x_test, y_test)"
   ],
   "metadata": {
    "collapsed": false,
    "ExecuteTime": {
     "end_time": "2023-10-09T01:13:26.183509Z",
     "start_time": "2023-10-09T01:13:21.692958Z"
    }
   },
   "id": "bb4b17c894fe4dbb"
  },
  {
   "cell_type": "markdown",
   "source": [
    "### Multinomial Naive Bayes\n",
    "* Here we use the Multinomial Naive Bayes method and store the accuracy score to a mnb_score variable."
   ],
   "metadata": {
    "collapsed": false
   },
   "id": "3a0ae5f1f2b4adb1"
  },
  {
   "cell_type": "code",
   "execution_count": 7,
   "outputs": [
    {
     "name": "stderr",
     "output_type": "stream",
     "text": [
      "/Users/aagnaykariyal/Documents/Github/Conestoga/CSCN8010/venv/CSCN8010_classic_ml/lib/python3.11/site-packages/sklearn/utils/validation.py:1143: DataConversionWarning: A column-vector y was passed when a 1d array was expected. Please change the shape of y to (n_samples, ), for example using ravel().\n",
      "  y = column_or_1d(y, warn=True)\n"
     ]
    }
   ],
   "source": [
    "# Multinomial Naive Bayes\n",
    "mnb = MultinomialNB()\n",
    "mnb.fit(x_train, y_train)\n",
    "mnb_score = mnb.score(x_test, y_test)"
   ],
   "metadata": {
    "collapsed": false,
    "ExecuteTime": {
     "end_time": "2023-10-09T01:13:27.987792Z",
     "start_time": "2023-10-09T01:13:26.181962Z"
    }
   },
   "id": "ad06109a7b606f9d"
  },
  {
   "cell_type": "markdown",
   "source": [
    "* Now we print and compare the results"
   ],
   "metadata": {
    "collapsed": false
   },
   "id": "5d6eaf4e4a98780a"
  },
  {
   "cell_type": "code",
   "execution_count": 8,
   "outputs": [
    {
     "name": "stdout",
     "output_type": "stream",
     "text": [
      "The Accuracy of the Standard or Bernoulli Naive Bayes model is: 0.8570048309178744\n",
      "\n",
      "The accuracy of the Gaussian Naive Bayes model is: 0.9632850241545894\n",
      "\n",
      "The accuracy of the Multinomial Naive Bayes model is 0.9768115942028985\n"
     ]
    }
   ],
   "source": [
    "print(f\"The Accuracy of the Standard or Bernoulli Naive Bayes model is: {score}\\n\")\n",
    "print(f\"The accuracy of the Gaussian Naive Bayes model is: {gnb_score}\\n\")\n",
    "print(f\"The accuracy of the Multinomial Naive Bayes model is {mnb_score}\")"
   ],
   "metadata": {
    "collapsed": false,
    "ExecuteTime": {
     "end_time": "2023-10-09T01:13:28.076711Z",
     "start_time": "2023-10-09T01:13:27.991468Z"
    }
   },
   "id": "53339673ec3ba5ed"
  },
  {
   "cell_type": "markdown",
   "source": [
    "## Conclusion\n",
    "\n",
    "*** \n",
    "\n",
    "From the above data we can see that the Multinomial Naive Bayes has had the highest score, followed by Gaussian and then the Bernoulli. \n",
    "Multinomial NB had the highest score becasue it is mostly used for text classification which helps us in the classification of spam emails in this case."
   ],
   "metadata": {
    "collapsed": false
   },
   "id": "3010649e78023015"
  },
  {
   "cell_type": "markdown",
   "source": [
    "### Part B\n",
    "\n",
    "***\n",
    "\n",
    "* First we load the dataset"
   ],
   "metadata": {
    "collapsed": false
   },
   "id": "9ab128993f6f53f2"
  },
  {
   "cell_type": "code",
   "execution_count": 9,
   "outputs": [
    {
     "data": {
      "text/plain": "     id                                              name  host_id   \n0  2539                Clean & quiet apt home by the park     2787  \\\n1  2595                             Skylit Midtown Castle     2845   \n2  3647               THE VILLAGE OF HARLEM....NEW YORK !     4632   \n3  3831                   Cozy Entire Floor of Brownstone     4869   \n4  5022  Entire Apt: Spacious Studio/Loft by central park     7192   \n\n     host_name neighbourhood_group neighbourhood  latitude  longitude   \n0         John            Brooklyn    Kensington  40.64749  -73.97237  \\\n1     Jennifer           Manhattan       Midtown  40.75362  -73.98377   \n2    Elisabeth           Manhattan        Harlem  40.80902  -73.94190   \n3  LisaRoxanne            Brooklyn  Clinton Hill  40.68514  -73.95976   \n4        Laura           Manhattan   East Harlem  40.79851  -73.94399   \n\n         room_type  price  minimum_nights  number_of_reviews last_review   \n0     Private room    149               1                  9  2018-10-19  \\\n1  Entire home/apt    225               1                 45  2019-05-21   \n2     Private room    150               3                  0         NaN   \n3  Entire home/apt     89               1                270  2019-07-05   \n4  Entire home/apt     80              10                  9  2018-11-19   \n\n   reviews_per_month  calculated_host_listings_count  availability_365  \n0               0.21                               6               365  \n1               0.38                               2               355  \n2                NaN                               1               365  \n3               4.64                               1               194  \n4               0.10                               1                 0  ",
      "text/html": "<div>\n<style scoped>\n    .dataframe tbody tr th:only-of-type {\n        vertical-align: middle;\n    }\n\n    .dataframe tbody tr th {\n        vertical-align: top;\n    }\n\n    .dataframe thead th {\n        text-align: right;\n    }\n</style>\n<table border=\"1\" class=\"dataframe\">\n  <thead>\n    <tr style=\"text-align: right;\">\n      <th></th>\n      <th>id</th>\n      <th>name</th>\n      <th>host_id</th>\n      <th>host_name</th>\n      <th>neighbourhood_group</th>\n      <th>neighbourhood</th>\n      <th>latitude</th>\n      <th>longitude</th>\n      <th>room_type</th>\n      <th>price</th>\n      <th>minimum_nights</th>\n      <th>number_of_reviews</th>\n      <th>last_review</th>\n      <th>reviews_per_month</th>\n      <th>calculated_host_listings_count</th>\n      <th>availability_365</th>\n    </tr>\n  </thead>\n  <tbody>\n    <tr>\n      <th>0</th>\n      <td>2539</td>\n      <td>Clean &amp; quiet apt home by the park</td>\n      <td>2787</td>\n      <td>John</td>\n      <td>Brooklyn</td>\n      <td>Kensington</td>\n      <td>40.64749</td>\n      <td>-73.97237</td>\n      <td>Private room</td>\n      <td>149</td>\n      <td>1</td>\n      <td>9</td>\n      <td>2018-10-19</td>\n      <td>0.21</td>\n      <td>6</td>\n      <td>365</td>\n    </tr>\n    <tr>\n      <th>1</th>\n      <td>2595</td>\n      <td>Skylit Midtown Castle</td>\n      <td>2845</td>\n      <td>Jennifer</td>\n      <td>Manhattan</td>\n      <td>Midtown</td>\n      <td>40.75362</td>\n      <td>-73.98377</td>\n      <td>Entire home/apt</td>\n      <td>225</td>\n      <td>1</td>\n      <td>45</td>\n      <td>2019-05-21</td>\n      <td>0.38</td>\n      <td>2</td>\n      <td>355</td>\n    </tr>\n    <tr>\n      <th>2</th>\n      <td>3647</td>\n      <td>THE VILLAGE OF HARLEM....NEW YORK !</td>\n      <td>4632</td>\n      <td>Elisabeth</td>\n      <td>Manhattan</td>\n      <td>Harlem</td>\n      <td>40.80902</td>\n      <td>-73.94190</td>\n      <td>Private room</td>\n      <td>150</td>\n      <td>3</td>\n      <td>0</td>\n      <td>NaN</td>\n      <td>NaN</td>\n      <td>1</td>\n      <td>365</td>\n    </tr>\n    <tr>\n      <th>3</th>\n      <td>3831</td>\n      <td>Cozy Entire Floor of Brownstone</td>\n      <td>4869</td>\n      <td>LisaRoxanne</td>\n      <td>Brooklyn</td>\n      <td>Clinton Hill</td>\n      <td>40.68514</td>\n      <td>-73.95976</td>\n      <td>Entire home/apt</td>\n      <td>89</td>\n      <td>1</td>\n      <td>270</td>\n      <td>2019-07-05</td>\n      <td>4.64</td>\n      <td>1</td>\n      <td>194</td>\n    </tr>\n    <tr>\n      <th>4</th>\n      <td>5022</td>\n      <td>Entire Apt: Spacious Studio/Loft by central park</td>\n      <td>7192</td>\n      <td>Laura</td>\n      <td>Manhattan</td>\n      <td>East Harlem</td>\n      <td>40.79851</td>\n      <td>-73.94399</td>\n      <td>Entire home/apt</td>\n      <td>80</td>\n      <td>10</td>\n      <td>9</td>\n      <td>2018-11-19</td>\n      <td>0.10</td>\n      <td>1</td>\n      <td>0</td>\n    </tr>\n  </tbody>\n</table>\n</div>"
     },
     "execution_count": 9,
     "metadata": {},
     "output_type": "execute_result"
    }
   ],
   "source": [
    "dataset_to_clean = pd.read_csv('/Users/aagnaykariyal/Documents/Github/Conestoga/Fall2023/practical_labs/datasets/Lab_2/AB_NYC_2019.csv')\n",
    "dataset_to_clean.head()"
   ],
   "metadata": {
    "collapsed": false,
    "ExecuteTime": {
     "end_time": "2023-10-09T01:13:28.205993Z",
     "start_time": "2023-10-09T01:13:28.075030Z"
    }
   },
   "id": "116b73fca15aa4c8"
  },
  {
   "cell_type": "markdown",
   "source": [
    "* Then we check for outliers by visualizing it using a box plot"
   ],
   "metadata": {
    "collapsed": false
   },
   "id": "e32322eddf8aeb54"
  },
  {
   "cell_type": "code",
   "execution_count": 10,
   "outputs": [
    {
     "data": {
      "text/plain": "<Axes: xlabel='room_type', ylabel='price'>"
     },
     "execution_count": 10,
     "metadata": {},
     "output_type": "execute_result"
    },
    {
     "data": {
      "text/plain": "<Figure size 640x480 with 1 Axes>",
      "image/png": "[encoded data removed]"
     },
     "metadata": {},
     "output_type": "display_data"
    }
   ],
   "source": [
    "sns.boxplot(x=\"room_type\", y=\"price\", data=dataset_to_clean)"
   ],
   "metadata": {
    "collapsed": false,
    "ExecuteTime": {
     "end_time": "2023-10-09T01:13:28.365264Z",
     "start_time": "2023-10-09T01:13:28.203429Z"
    }
   },
   "id": "d79839ec926b4953"
  },
  {
   "cell_type": "markdown",
   "source": [
    "From the above box plot, it is evident that we have a lot of outliers.\n",
    "The first method that we are gonna try to remove the outliers is by removing all the values that are beneath the left whisker and above the right whisker.\n",
    "We then get the values of Q1 and Q3 quartiles per room type and then remove all the values that are beneath the left whisker and above the right whisker per room type category.\n",
    "\n",
    "***\n",
    "\n",
    "### For Private Room\n",
    "\n",
    "* Here we calculate the 1st quartile and the 3rd quartile\n",
    "* Then we calculate the Interquartile Range (IQR)\n",
    "* We then figure out what our Left Whiskers and Right Whiskers are and then create a dataframe which consists of values between them\n",
    "* Then we print out a box plot to visualize our results."
   ],
   "metadata": {
    "collapsed": false
   },
   "id": "1fee937c12911774"
  },
  {
   "cell_type": "code",
   "execution_count": 11,
   "outputs": [
    {
     "data": {
      "text/plain": "<Axes: xlabel='room_type', ylabel='price'>"
     },
     "execution_count": 11,
     "metadata": {},
     "output_type": "execute_result"
    },
    {
     "data": {
      "text/plain": "<Figure size 640x480 with 1 Axes>",
      "image/png": "[encoded data removed]"
     },
     "metadata": {},
     "output_type": "display_data"
    }
   ],
   "source": [
    "# Private Room\n",
    "## Calculating the 1st and 3rd quartile\n",
    "PR_Q1 = dataset_to_clean.loc[dataset_to_clean['room_type']=='Private room', 'price'].quantile(0.25)\n",
    "PR_Q3 = dataset_to_clean.loc[dataset_to_clean['room_type']=='Private room', 'price'].quantile(0.75)\n",
    "## Interquartile Range\n",
    "PR_IQR = PR_Q3 - PR_Q1\n",
    "## Whiskers\n",
    "LW_PR = PR_Q1 - (1.5*PR_IQR) ## Left Whisker\n",
    "RW_PR = PR_Q3 + (1.5*PR_IQR) ## Right Whisker\n",
    "# Creating a new dataframe which consists of values between the left and right whisker\n",
    "pr_df = dataset_to_clean[dataset_to_clean['room_type']=='Private room']\n",
    "pr_df1 = pr_df[(pr_df['price']>LW_PR) & (pr_df['price']<RW_PR)]\n",
    "# Displaying the boxplot\n",
    "sns.boxplot(data=pr_df1, x='room_type', y='price')"
   ],
   "metadata": {
    "collapsed": false,
    "ExecuteTime": {
     "end_time": "2023-10-09T01:13:28.527249Z",
     "start_time": "2023-10-09T01:13:28.336414Z"
    }
   },
   "id": "baea07ecee237a04"
  },
  {
   "cell_type": "markdown",
   "source": [
    "***\n",
    "\n",
    "### For Entire home/apt\n",
    "\n",
    "* Here we calculate the 1st quartile and the 3rd quartile\n",
    "* Then we calculate the Interquartile Range (IQR)\n",
    "* We then figure out what our Left Whiskers and Right Whiskers are and then create a dataframe which consists of values between them\n",
    "* Then we print out a box plot to visualize our results."
   ],
   "metadata": {
    "collapsed": false
   },
   "id": "fae60f81767f8bb6"
  },
  {
   "cell_type": "code",
   "execution_count": 12,
   "outputs": [
    {
     "data": {
      "text/plain": "<Axes: xlabel='room_type', ylabel='price'>"
     },
     "execution_count": 12,
     "metadata": {},
     "output_type": "execute_result"
    },
    {
     "data": {
      "text/plain": "<Figure size 640x480 with 1 Axes>",
      "image/png": "[encoded data removed]"
     },
     "metadata": {},
     "output_type": "display_data"
    }
   ],
   "source": [
    "# Entire home/apt\n",
    "## Calculating the 1st and 3rd quartile\n",
    "HA_Q1 = dataset_to_clean.loc[dataset_to_clean['room_type']=='Entire home/apt', 'price'].quantile(0.25)\n",
    "HA_Q3 = dataset_to_clean.loc[dataset_to_clean['room_type']=='Entire home/apt', 'price'].quantile(0.75)\n",
    "## Interquartile Range\n",
    "HA_IQR = HA_Q3 - HA_Q1\n",
    "## Whiskers\n",
    "LW_HA = HA_Q1 - (1.5*HA_IQR) ## Left Whisker\n",
    "RW_HA = HA_Q3 + (1.5*HA_IQR) ## Right Whisker \n",
    "# Creating a new dataframe which consists of values between the left and right whisker\n",
    "ha_df = dataset_to_clean[dataset_to_clean['room_type']=='Entire home/apt']\n",
    "ha_df1 = ha_df[(ha_df['price']>LW_HA) & (ha_df['price']<RW_HA)]\n",
    "# Displaying the boxplot\n",
    "sns.boxplot(data=ha_df1, x='room_type', y='price')"
   ],
   "metadata": {
    "collapsed": false,
    "ExecuteTime": {
     "end_time": "2023-10-09T01:13:28.621571Z",
     "start_time": "2023-10-09T01:13:28.493499Z"
    }
   },
   "id": "f4f0fe46d0f2e593"
  },
  {
   "cell_type": "markdown",
   "source": [
    "***\n",
    "\n",
    "### For Shared Room\n",
    "\n",
    "* Here we calculate the 1st quartile and the 3rd quartile\n",
    "* Then we calculate the Interquartile Range (IQR)\n",
    "* We then figure out what our Left Whiskers and Right Whiskers are and then create a dataframe which consists of values between them\n",
    "* Then we print out a box plot to visualize our results."
   ],
   "metadata": {
    "collapsed": false
   },
   "id": "7cbca6260d4410de"
  },
  {
   "cell_type": "code",
   "execution_count": 13,
   "outputs": [
    {
     "data": {
      "text/plain": "<Axes: xlabel='room_type', ylabel='price'>"
     },
     "execution_count": 13,
     "metadata": {},
     "output_type": "execute_result"
    },
    {
     "data": {
      "text/plain": "<Figure size 640x480 with 1 Axes>",
      "image/png": "[encoded data removed]"
     },
     "metadata": {},
     "output_type": "display_data"
    }
   ],
   "source": [
    "# Shared Room\n",
    "## Calculating the 1st and 3rd quartile\n",
    "SR_Q1 = dataset_to_clean.loc[dataset_to_clean['room_type']=='Shared room', 'price'].quantile(0.25)\n",
    "SR_Q3 = dataset_to_clean.loc[dataset_to_clean['room_type']=='Shared room', 'price'].quantile(0.75)\n",
    "## Interquartile Range\n",
    "SR_IQR = SR_Q3 - SR_Q1\n",
    "## Whiskers\n",
    "LW_SR = SR_Q1 - (1.5*SR_IQR) ## Left Whisker\n",
    "RW_SR = SR_Q3 + (1.5*SR_IQR) ## Right Whisker\n",
    "# Creating a new dataframe which consists of values between the left and right whisker\n",
    "sr_df = dataset_to_clean[dataset_to_clean['room_type']=='Shared room']\n",
    "sr_df1 = sr_df[(sr_df['price']>LW_SR) & (sr_df['price']<RW_SR)]\n",
    "# Displaying the boxplot\n",
    "sns.boxplot(data=sr_df1, x='room_type', y='price')"
   ],
   "metadata": {
    "collapsed": false,
    "ExecuteTime": {
     "end_time": "2023-10-09T01:13:28.687449Z",
     "start_time": "2023-10-09T01:13:28.601442Z"
    }
   },
   "id": "92556bbfad0c679f"
  },
  {
   "cell_type": "markdown",
   "source": [
    "As you can see most of the outliers from the initial box plot has now been removed.\n",
    "\n",
    "***\n",
    "\n",
    "Now we can try a different method to remove outliers by comparing it with the z-score\n",
    "\n",
    "* First we find the mean and the standard deviation to calculate the z-score\n",
    "* Then we subtract the mean from the value and divide it by the standard deviation to get the z-score\n",
    "* After finding the z-score we plot a box plot according to each room type to look for outliers"
   ],
   "metadata": {
    "collapsed": false
   },
   "id": "fbca23c4b82a997e"
  },
  {
   "cell_type": "markdown",
   "source": [
    "***\n",
    "\n",
    "### Calculating the Z-Score for Private Room"
   ],
   "metadata": {
    "collapsed": false
   },
   "id": "700f76467c14e869"
  },
  {
   "cell_type": "code",
   "execution_count": 14,
   "outputs": [
    {
     "name": "stderr",
     "output_type": "stream",
     "text": [
      "/var/folders/h6/5m4gzhp15gl394vgtm1x4wgr0000gn/T/ipykernel_23874/3903880844.py:4: SettingWithCopyWarning: \n",
      "A value is trying to be set on a copy of a slice from a DataFrame.\n",
      "Try using .loc[row_indexer,col_indexer] = value instead\n",
      "\n",
      "See the caveats in the documentation: https://pandas.pydata.org/pandas-docs/stable/user_guide/indexing.html#returning-a-view-versus-a-copy\n",
      "  pr_df['z_score'] = (pr_df['price'] - pr_mean)/pr_std\n"
     ]
    },
    {
     "data": {
      "text/plain": "<Axes: xlabel='room_type', ylabel='price'>"
     },
     "execution_count": 14,
     "metadata": {},
     "output_type": "execute_result"
    },
    {
     "data": {
      "text/plain": "<Figure size 640x480 with 1 Axes>",
      "image/png": "[encoded data removed]"
     },
     "metadata": {},
     "output_type": "display_data"
    }
   ],
   "source": [
    "pr_mean = pr_df['price'].mean() # Finding the mean\n",
    "pr_std = pr_df['price'].std() # Finding the standard deviation\n",
    "# Creating a new dataframe\n",
    "pr_df['z_score'] = (pr_df['price'] - pr_mean)/pr_std\n",
    "pr_cleaned = pr_df[(pr_df['z_score']> -2) & (pr_df['z_score']<2)]\n",
    "# Displaying the boxplot\n",
    "sns.boxplot(data=pr_cleaned, x=\"room_type\", y='price')"
   ],
   "metadata": {
    "collapsed": false,
    "ExecuteTime": {
     "end_time": "2023-10-09T01:13:28.792708Z",
     "start_time": "2023-10-09T01:13:28.680022Z"
    }
   },
   "id": "b0a56f29262e44ae"
  },
  {
   "cell_type": "markdown",
   "source": [
    "***\n",
    "\n",
    "### Calculating the Z-Score for Entire home/apt"
   ],
   "metadata": {
    "collapsed": false
   },
   "id": "e90128635df8e3f0"
  },
  {
   "cell_type": "code",
   "execution_count": 15,
   "outputs": [
    {
     "name": "stderr",
     "output_type": "stream",
     "text": [
      "/var/folders/h6/5m4gzhp15gl394vgtm1x4wgr0000gn/T/ipykernel_23874/1755795541.py:4: SettingWithCopyWarning: \n",
      "A value is trying to be set on a copy of a slice from a DataFrame.\n",
      "Try using .loc[row_indexer,col_indexer] = value instead\n",
      "\n",
      "See the caveats in the documentation: https://pandas.pydata.org/pandas-docs/stable/user_guide/indexing.html#returning-a-view-versus-a-copy\n",
      "  ha_df['z_score'] = (ha_df['price'] - ha_mean)/ha_std\n"
     ]
    },
    {
     "data": {
      "text/plain": "<Axes: xlabel='room_type', ylabel='price'>"
     },
     "execution_count": 15,
     "metadata": {},
     "output_type": "execute_result"
    },
    {
     "data": {
      "text/plain": "<Figure size 640x480 with 1 Axes>",
      "image/png": "[encoded data removed]"
     },
     "metadata": {},
     "output_type": "display_data"
    }
   ],
   "source": [
    "ha_mean = ha_df['price'].mean() # Finding the mean\n",
    "ha_std = ha_df['price'].std() # Finding the standard deviation\n",
    "# Creating a new dataframe\n",
    "ha_df['z_score'] = (ha_df['price'] - ha_mean)/ha_std\n",
    "ha_cleaned = ha_df[(ha_df['z_score']> -2) & (ha_df['z_score']<2)]\n",
    "# Displaying the boxplot\n",
    "sns.boxplot(data=ha_cleaned, x=\"room_type\", y='price')"
   ],
   "metadata": {
    "collapsed": false,
    "ExecuteTime": {
     "end_time": "2023-10-09T01:13:28.886952Z",
     "start_time": "2023-10-09T01:13:28.763230Z"
    }
   },
   "id": "a4c739073e0bf94a"
  },
  {
   "cell_type": "markdown",
   "source": [
    "***\n",
    "\n",
    "### Calculating the Z-Score for Shared Rooms"
   ],
   "metadata": {
    "collapsed": false
   },
   "id": "ac3bb6c78fbd24c1"
  },
  {
   "cell_type": "code",
   "execution_count": 16,
   "outputs": [
    {
     "name": "stderr",
     "output_type": "stream",
     "text": [
      "/var/folders/h6/5m4gzhp15gl394vgtm1x4wgr0000gn/T/ipykernel_23874/4089599083.py:4: SettingWithCopyWarning: \n",
      "A value is trying to be set on a copy of a slice from a DataFrame.\n",
      "Try using .loc[row_indexer,col_indexer] = value instead\n",
      "\n",
      "See the caveats in the documentation: https://pandas.pydata.org/pandas-docs/stable/user_guide/indexing.html#returning-a-view-versus-a-copy\n",
      "  sr_df['z_score'] = (sr_df['price'] - sr_mean)/sr_std\n"
     ]
    },
    {
     "data": {
      "text/plain": "<Axes: xlabel='room_type', ylabel='price'>"
     },
     "execution_count": 16,
     "metadata": {},
     "output_type": "execute_result"
    },
    {
     "data": {
      "text/plain": "<Figure size 640x480 with 1 Axes>",
      "image/png": "[encoded data removed]"
     },
     "metadata": {},
     "output_type": "display_data"
    }
   ],
   "source": [
    "sr_mean = sr_df['price'].mean() # Finding the mean\n",
    "sr_std = sr_df['price'].std() # Finding the standard deviation\n",
    "# Creating a new dataframe\n",
    "sr_df['z_score'] = (sr_df['price'] - sr_mean)/sr_std\n",
    "sr_cleaned = sr_df[(sr_df['z_score']> -2) & (sr_df['z_score']<2)]\n",
    "# Displaying the boxplot\n",
    "sns.boxplot(data=sr_cleaned, x=\"room_type\", y='price')"
   ],
   "metadata": {
    "collapsed": false,
    "ExecuteTime": {
     "end_time": "2023-10-09T01:13:28.969947Z",
     "start_time": "2023-10-09T01:13:28.863018Z"
    }
   },
   "id": "d5b25f2940835472"
  },
  {
   "cell_type": "markdown",
   "source": [
    "## Conclusion\n",
    "\n",
    "***\n",
    "\n",
    "From the above box-plots it's clear that using the Z-score to remove the outliers is not the better way to remove outliers since all the outliers have not been removed. \n",
    "\n",
    "From this we can conclude that comparing z-score elimination to removing outliers based on percentiles and quantiles, finding the z-score is not the better option to remove outliers."
   ],
   "metadata": {
    "collapsed": false
   },
   "id": "4e137fa070cbf5bf"
  },
  {
   "cell_type": "code",
   "execution_count": 16,
   "outputs": [],
   "source": [],
   "metadata": {
    "collapsed": false,
    "ExecuteTime": {
     "end_time": "2023-10-09T01:13:28.970743Z",
     "start_time": "2023-10-09T01:13:28.939729Z"
    }
   },
   "id": "4a177995096802b2"
  }
 ],
 "metadata": {
  "kernelspec": {
   "name": "cscn8010_classic_ml",
   "language": "python",
   "display_name": "CSCN8010_classic_ml"
  },
  "language_info": {
   "codemirror_mode": {
    "name": "ipython",
    "version": 2
   },
   "file_extension": ".py",
   "mimetype": "text/x-python",
   "name": "python",
   "nbconvert_exporter": "python",
   "pygments_lexer": "ipython2",
   "version": "2.7.6"
  }
 },
 "nbformat": 4,
 "nbformat_minor": 5
}
