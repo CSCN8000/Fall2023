{
 "cells": [
  {
   "cell_type": "markdown",
   "metadata": {},
   "source": [
    "<center>  \n",
    "<h1>Lab 2 – Probability and Statistics</h1>\n",
    "<h4>Submitted by Beena Kurian(8946601)</h4>\n",
    "<center>\n"
   ]
  },
  {
   "cell_type": "markdown",
   "metadata": {},
   "source": [
    "#### OBJECTIVE OF THE LAB: \n",
    "* The concept of probability and statistical measures to classify the data as spam or not spam.\n",
    "* Clean the data by removing the outliers using measures of central tendency and dispersion."
   ]
  },
  {
   "cell_type": "markdown",
   "metadata": {},
   "source": [
    "# Part A\n",
    "\n",
    "### Preprocessing\n"
   ]
  },
  {
   "cell_type": "markdown",
   "metadata": {},
   "source": [
    "IMPORT THE NECESSARY LIBRARIES"
   ]
  },
  {
   "cell_type": "code",
   "execution_count": 1936,
   "metadata": {},
   "outputs": [],
   "source": [
    "# importing necessary libraries\n",
    "import pandas as pd\n",
    "from sklearn.feature_extraction.text import CountVectorizer\n",
    "from sklearn.model_selection import train_test_split\n",
    "from sklearn.svm import SVC\n",
    "from sklearn.naive_bayes import GaussianNB, MultinomialNB\n",
    "from sklearn.metrics import accuracy_score, classification_report, confusion_matrix\n",
    "import numpy as np\n",
    "import matplotlib.pyplot as plt\n",
    "import seaborn as sns\n",
    "from scipy import stats"
   ]
  },
  {
   "cell_type": "markdown",
   "metadata": {},
   "source": [
    "### PREPROCESSING"
   ]
  },
  {
   "cell_type": "code",
   "execution_count": 1937,
   "metadata": {},
   "outputs": [
    {
     "data": {
      "text/html": [
       "<div>\n",
       "<style scoped>\n",
       "    .dataframe tbody tr th:only-of-type {\n",
       "        vertical-align: middle;\n",
       "    }\n",
       "\n",
       "    .dataframe tbody tr th {\n",
       "        vertical-align: top;\n",
       "    }\n",
       "\n",
       "    .dataframe thead th {\n",
       "        text-align: right;\n",
       "    }\n",
       "</style>\n",
       "<table border=\"1\" class=\"dataframe\">\n",
       "  <thead>\n",
       "    <tr style=\"text-align: right;\">\n",
       "      <th></th>\n",
       "      <th>Unnamed: 0</th>\n",
       "      <th>label</th>\n",
       "      <th>text</th>\n",
       "      <th>label_num</th>\n",
       "    </tr>\n",
       "  </thead>\n",
       "  <tbody>\n",
       "    <tr>\n",
       "      <th>0</th>\n",
       "      <td>605</td>\n",
       "      <td>ham</td>\n",
       "      <td>Subject: enron methanol ; meter # : 988291\\r\\n...</td>\n",
       "      <td>0</td>\n",
       "    </tr>\n",
       "    <tr>\n",
       "      <th>1</th>\n",
       "      <td>2349</td>\n",
       "      <td>ham</td>\n",
       "      <td>Subject: hpl nom for january 9 , 2001\\r\\n( see...</td>\n",
       "      <td>0</td>\n",
       "    </tr>\n",
       "    <tr>\n",
       "      <th>2</th>\n",
       "      <td>3624</td>\n",
       "      <td>ham</td>\n",
       "      <td>Subject: neon retreat\\r\\nho ho ho , we ' re ar...</td>\n",
       "      <td>0</td>\n",
       "    </tr>\n",
       "  </tbody>\n",
       "</table>\n",
       "</div>"
      ],
      "text/plain": [
       "   Unnamed: 0 label                                               text   \n",
       "0         605   ham  Subject: enron methanol ; meter # : 988291\\r\\n...  \\\n",
       "1        2349   ham  Subject: hpl nom for january 9 , 2001\\r\\n( see...   \n",
       "2        3624   ham  Subject: neon retreat\\r\\nho ho ho , we ' re ar...   \n",
       "\n",
       "   label_num  \n",
       "0          0  \n",
       "1          0  \n",
       "2          0  "
      ]
     },
     "execution_count": 1937,
     "metadata": {},
     "output_type": "execute_result"
    }
   ],
   "source": [
    "#Loading dataset Lab2_dataset.csv\n",
    "spam_df = pd.read_csv('C:/Users/beena/conestoga_aiml/aia/Fall2023/practical_labs/datasets/Lab_2/Lab2_dataset.csv')\n",
    "\n",
    "# First 3 rows\n",
    "spam_df.head(3)"
   ]
  },
  {
   "cell_type": "code",
   "execution_count": 1938,
   "metadata": {},
   "outputs": [],
   "source": [
    "# independent variable X is 'text'\n",
    "X = spam_df['text']\n",
    "\n",
    "# dependent variable y is 'label'\n",
    "y = spam_df['label']"
   ]
  },
  {
   "cell_type": "markdown",
   "metadata": {},
   "source": [
    "Use the function in sklearn to transform the \"text\" feature to a vector representation"
   ]
  },
  {
   "cell_type": "code",
   "execution_count": 1939,
   "metadata": {},
   "outputs": [],
   "source": [
    "#Use the function in sklearn to transform the \"text\" feature to a vector representation of a predetermined size.\n",
    "vectorizer = CountVectorizer(max_features=8000)\n",
    "X = vectorizer.fit_transform(X)"
   ]
  },
  {
   "cell_type": "code",
   "execution_count": 1940,
   "metadata": {},
   "outputs": [],
   "source": [
    "# Split the dataset into training and testing\n",
    "X_train, X_test, y_train, y_test = train_test_split(X, y, test_size=0.2, random_state=0)"
   ]
  },
  {
   "cell_type": "markdown",
   "metadata": {},
   "source": [
    "### MODEL TRAINING AND EVALUATION"
   ]
  },
  {
   "cell_type": "markdown",
   "metadata": {},
   "source": [
    "SVC"
   ]
  },
  {
   "cell_type": "code",
   "execution_count": 1941,
   "metadata": {},
   "outputs": [],
   "source": [
    "# Train the Sklearn SVC model on the training dataset and evaluate on the test set\n",
    "model1 = SVC()\n",
    "model1.fit(X_train, y_train)\n",
    "svc_predict = model1.predict(X_test)\n",
    "svc_accuracy = accuracy_score(y_test, svc_predict)"
   ]
  },
  {
   "cell_type": "markdown",
   "metadata": {},
   "source": [
    "GAUSSIAN NAIVE BAYES MODEL"
   ]
  },
  {
   "cell_type": "code",
   "execution_count": 1942,
   "metadata": {},
   "outputs": [],
   "source": [
    "# Train and predict using the Gaussian Naive Bayes model\n",
    "model2 = GaussianNB()\n",
    "model2.fit(X_train.toarray(), y_train)\n",
    "gaussian_pred = model2.predict(X_test.toarray())\n",
    "gaussian_pred_accuracy = accuracy_score(y_test, gaussian_pred)"
   ]
  },
  {
   "cell_type": "markdown",
   "metadata": {},
   "source": [
    "MULTINOMIAL NAIVE BAYES MODEL"
   ]
  },
  {
   "cell_type": "code",
   "execution_count": 1943,
   "metadata": {},
   "outputs": [],
   "source": [
    "# Train and predict using Multinomial Naive Bayes model\n",
    "model3 = MultinomialNB()\n",
    "model3.fit(X_train, y_train)\n",
    "multinomial_pred = model3.predict(X_test)\n",
    "multinomial_pred_acc = accuracy_score(y_test, multinomial_pred)"
   ]
  },
  {
   "cell_type": "markdown",
   "metadata": {},
   "source": [
    "### COMPARISON OF SVC, GAUSSIAN, AND MULTINOMINAL MODELS"
   ]
  },
  {
   "cell_type": "code",
   "execution_count": 1944,
   "metadata": {},
   "outputs": [
    {
     "name": "stdout",
     "output_type": "stream",
     "text": [
      "MODEL-1 :         Accuracy when using SVM: 0.9497584541062802\n",
      "-----------------------------------------------------------------------------\n",
      "              precision    recall  f1-score   support\n",
      "\n",
      "         ham       0.97      0.95      0.96       732\n",
      "        spam       0.90      0.94      0.92       303\n",
      "\n",
      "    accuracy                           0.95      1035\n",
      "   macro avg       0.93      0.95      0.94      1035\n",
      "weighted avg       0.95      0.95      0.95      1035\n",
      "\n",
      " TP =  284 |   TN = 699 |   FP = 33 |   FN = 19\n"
     ]
    }
   ],
   "source": [
    "print(\"MODEL-1 :         Accuracy when using SVM:\", svc_accuracy)\n",
    "print(\"-----------------------------------------------------------------------------\")\n",
    "print(classification_report(y_test, svc_predict))\n",
    "confusion_mat = confusion_matrix(y_test, svc_predict)\n",
    "TP = confusion_mat[1, 1]\n",
    "TN = confusion_mat[0, 0]\n",
    "FP = confusion_mat[0, 1]\n",
    "FN = confusion_mat[1, 0]\n",
    "print(\" TP = \", TP, \"|   TN =\", TN , \"|   FP =\", FP ,\"|   FN =\", FN)"
   ]
  },
  {
   "cell_type": "code",
   "execution_count": 1945,
   "metadata": {},
   "outputs": [
    {
     "name": "stdout",
     "output_type": "stream",
     "text": [
      "MODEL-2 : Accuracy when using Gaussian Naive Bayes: 0.9719806763285024\n",
      "-----------------------------------------------------------------------------\n",
      "              precision    recall  f1-score   support\n",
      "\n",
      "         ham       0.99      0.97      0.98       732\n",
      "        spam       0.94      0.97      0.95       303\n",
      "\n",
      "    accuracy                           0.97      1035\n",
      "   macro avg       0.96      0.97      0.97      1035\n",
      "weighted avg       0.97      0.97      0.97      1035\n",
      "\n",
      " TP =  293 |   TN = 713 |   FP = 19 |   FN = 10\n"
     ]
    }
   ],
   "source": [
    "print(\"MODEL-2 : Accuracy when using Gaussian Naive Bayes:\", gaussian_pred_accuracy)\n",
    "print(\"-----------------------------------------------------------------------------\")\n",
    "print(classification_report(y_test, gaussian_pred))\n",
    "confusion_mat = confusion_matrix(y_test, gaussian_pred)\n",
    "TP = confusion_mat[1, 1]\n",
    "TN = confusion_mat[0, 0]\n",
    "FP = confusion_mat[0, 1]\n",
    "FN = confusion_mat[1, 0]\n",
    "print(\" TP = \", TP, \"|   TN =\", TN , \"|   FP =\", FP ,\"|   FN =\", FN)"
   ]
  },
  {
   "cell_type": "code",
   "execution_count": 1946,
   "metadata": {},
   "outputs": [
    {
     "name": "stdout",
     "output_type": "stream",
     "text": [
      "MODEL-3 : Accuracy when using Multinomial Naive Bayes Accuracy: 0.9565217391304348\n",
      "-----------------------------------------------------------------------------\n",
      "              precision    recall  f1-score   support\n",
      "\n",
      "         ham       0.98      0.96      0.97       732\n",
      "        spam       0.90      0.95      0.93       303\n",
      "\n",
      "    accuracy                           0.96      1035\n",
      "   macro avg       0.94      0.96      0.95      1035\n",
      "weighted avg       0.96      0.96      0.96      1035\n",
      "\n",
      " TP =  289 |   TN = 701 |   FP = 31 |   FN = 14\n"
     ]
    }
   ],
   "source": [
    "print(\"MODEL-3 : Accuracy when using Multinomial Naive Bayes Accuracy:\", multinomial_pred_acc)\n",
    "print(\"-----------------------------------------------------------------------------\")\n",
    "print(classification_report(y_test, multinomial_pred))\n",
    "confusion_mat = confusion_matrix(y_test, multinomial_pred)\n",
    "TP = confusion_mat[1, 1]\n",
    "TN = confusion_mat[0, 0]\n",
    "FP = confusion_mat[0, 1]\n",
    "FN = confusion_mat[1, 0]\n",
    "print(\" TP = \", TP, \"|   TN =\", TN , \"|   FP =\", FP ,\"|   FN =\", FN)"
   ]
  },
  {
   "cell_type": "markdown",
   "metadata": {},
   "source": [
    "### COMPARISON OF THREE MODELS"
   ]
  },
  {
   "cell_type": "markdown",
   "metadata": {},
   "source": [
    "* SVM achieved an accuracy of approximately 94.98% on the email spam/ham dataset.\n",
    "* Gaussian Naive Bayes achieved the highest accuracy, approximately 97.20%, among the three models.\n",
    "* Multinomial Naive Bayes achieved an accuracy of approximately 95.65% on the dataset, it had a slightly lower accuracy compared to Gaussian Naive Bayes but still outperformed SVM in terms of accuracy.\n",
    "* But, this accuracy will change if 'max_features' parameter changed in CountVectoriser.\n",
    "* The max_features parameter determines the maximum number of features to include in the vocabulary based on their frequency. \n",
    "* I have experimented with various parameter values(max_features), and selected the one which produced highest accuracy."
   ]
  },
  {
   "cell_type": "markdown",
   "metadata": {},
   "source": [
    "## PART B"
   ]
  },
  {
   "cell_type": "markdown",
   "metadata": {},
   "source": [
    "### PREPROCESSING"
   ]
  },
  {
   "cell_type": "markdown",
   "metadata": {},
   "source": [
    "LOADING DATASET"
   ]
  },
  {
   "cell_type": "code",
   "execution_count": 1947,
   "metadata": {},
   "outputs": [
    {
     "data": {
      "text/html": [
       "<div>\n",
       "<style scoped>\n",
       "    .dataframe tbody tr th:only-of-type {\n",
       "        vertical-align: middle;\n",
       "    }\n",
       "\n",
       "    .dataframe tbody tr th {\n",
       "        vertical-align: top;\n",
       "    }\n",
       "\n",
       "    .dataframe thead th {\n",
       "        text-align: right;\n",
       "    }\n",
       "</style>\n",
       "<table border=\"1\" class=\"dataframe\">\n",
       "  <thead>\n",
       "    <tr style=\"text-align: right;\">\n",
       "      <th></th>\n",
       "      <th>id</th>\n",
       "      <th>name</th>\n",
       "      <th>host_id</th>\n",
       "      <th>host_name</th>\n",
       "      <th>neighbourhood_group</th>\n",
       "      <th>neighbourhood</th>\n",
       "      <th>latitude</th>\n",
       "      <th>longitude</th>\n",
       "      <th>room_type</th>\n",
       "      <th>price</th>\n",
       "      <th>minimum_nights</th>\n",
       "      <th>number_of_reviews</th>\n",
       "      <th>last_review</th>\n",
       "      <th>reviews_per_month</th>\n",
       "      <th>calculated_host_listings_count</th>\n",
       "      <th>availability_365</th>\n",
       "    </tr>\n",
       "  </thead>\n",
       "  <tbody>\n",
       "    <tr>\n",
       "      <th>0</th>\n",
       "      <td>2539</td>\n",
       "      <td>Clean &amp; quiet apt home by the park</td>\n",
       "      <td>2787</td>\n",
       "      <td>John</td>\n",
       "      <td>Brooklyn</td>\n",
       "      <td>Kensington</td>\n",
       "      <td>40.64749</td>\n",
       "      <td>-73.97237</td>\n",
       "      <td>Private room</td>\n",
       "      <td>149</td>\n",
       "      <td>1</td>\n",
       "      <td>9</td>\n",
       "      <td>2018-10-19</td>\n",
       "      <td>0.21</td>\n",
       "      <td>6</td>\n",
       "      <td>365</td>\n",
       "    </tr>\n",
       "    <tr>\n",
       "      <th>1</th>\n",
       "      <td>2595</td>\n",
       "      <td>Skylit Midtown Castle</td>\n",
       "      <td>2845</td>\n",
       "      <td>Jennifer</td>\n",
       "      <td>Manhattan</td>\n",
       "      <td>Midtown</td>\n",
       "      <td>40.75362</td>\n",
       "      <td>-73.98377</td>\n",
       "      <td>Entire home/apt</td>\n",
       "      <td>225</td>\n",
       "      <td>1</td>\n",
       "      <td>45</td>\n",
       "      <td>2019-05-21</td>\n",
       "      <td>0.38</td>\n",
       "      <td>2</td>\n",
       "      <td>355</td>\n",
       "    </tr>\n",
       "    <tr>\n",
       "      <th>2</th>\n",
       "      <td>3647</td>\n",
       "      <td>THE VILLAGE OF HARLEM....NEW YORK !</td>\n",
       "      <td>4632</td>\n",
       "      <td>Elisabeth</td>\n",
       "      <td>Manhattan</td>\n",
       "      <td>Harlem</td>\n",
       "      <td>40.80902</td>\n",
       "      <td>-73.94190</td>\n",
       "      <td>Private room</td>\n",
       "      <td>150</td>\n",
       "      <td>3</td>\n",
       "      <td>0</td>\n",
       "      <td>NaN</td>\n",
       "      <td>NaN</td>\n",
       "      <td>1</td>\n",
       "      <td>365</td>\n",
       "    </tr>\n",
       "  </tbody>\n",
       "</table>\n",
       "</div>"
      ],
      "text/plain": [
       "     id                                 name  host_id  host_name   \n",
       "0  2539   Clean & quiet apt home by the park     2787       John  \\\n",
       "1  2595                Skylit Midtown Castle     2845   Jennifer   \n",
       "2  3647  THE VILLAGE OF HARLEM....NEW YORK !     4632  Elisabeth   \n",
       "\n",
       "  neighbourhood_group neighbourhood  latitude  longitude        room_type   \n",
       "0            Brooklyn    Kensington  40.64749  -73.97237     Private room  \\\n",
       "1           Manhattan       Midtown  40.75362  -73.98377  Entire home/apt   \n",
       "2           Manhattan        Harlem  40.80902  -73.94190     Private room   \n",
       "\n",
       "   price  minimum_nights  number_of_reviews last_review  reviews_per_month   \n",
       "0    149               1                  9  2018-10-19               0.21  \\\n",
       "1    225               1                 45  2019-05-21               0.38   \n",
       "2    150               3                  0         NaN                NaN   \n",
       "\n",
       "   calculated_host_listings_count  availability_365  \n",
       "0                               6               365  \n",
       "1                               2               355  \n",
       "2                               1               365  "
      ]
     },
     "execution_count": 1947,
     "metadata": {},
     "output_type": "execute_result"
    }
   ],
   "source": [
    "#Loading dataset\n",
    "stay_df = pd.read_csv('C:/Users/beena/conestoga_aiml/aia/Fall2023/practical_labs/datasets/Lab_2/AB_NYC_2019.csv')\n",
    "stay_df.head(3)"
   ]
  },
  {
   "cell_type": "markdown",
   "metadata": {},
   "source": [
    "HISTOGRAM REPRESENTING PRICE (ACTUAL DATASET)"
   ]
  },
  {
   "cell_type": "code",
   "execution_count": 1948,
   "metadata": {},
   "outputs": [
    {
     "data": {
      "image/png": "[encoded data removed]",
      "text/plain": [
       "<Figure size 1200x500 with 1 Axes>"
      ]
     },
     "metadata": {},
     "output_type": "display_data"
    }
   ],
   "source": [
    "# Creating a histogram of Price\n",
    "plt.figure(figsize=(12, 5))\n",
    "X=stay_df['price']\n",
    "sns.histplot(X,bins=100,kde=True)\n",
    "plt.title('Distribution of Price')\n",
    "plt.xlabel('Price')\n",
    "plt.show()"
   ]
  },
  {
   "cell_type": "markdown",
   "metadata": {},
   "source": [
    "## CALCULATING Z-SCORE & REMOVING OUTLIERS"
   ]
  },
  {
   "cell_type": "code",
   "execution_count": 1949,
   "metadata": {},
   "outputs": [
    {
     "name": "stdout",
     "output_type": "stream",
     "text": [
      "Length of actual datset=  48895\n",
      "Length of new dataset after removing some outliers using zscore =  48128\n"
     ]
    }
   ],
   "source": [
    "# Calculate Z-scores for the 'price' column\n",
    "z_score = np.abs(stats.zscore(X))\n",
    "print(\"Length of actual datset= \", len(stay_df))\n",
    "\n",
    "# Setting a threshold 2 to identify outliers \n",
    "threshold1 = 2.0\n",
    "\n",
    "# Dataset after removing some outliers \n",
    "stay_df_new1 = stay_df[(z_score <= threshold1)]\n",
    "print(\"Length of new dataset after removing some outliers using zscore = \",len(stay_df_new1))\n"
   ]
  },
  {
   "cell_type": "markdown",
   "metadata": {},
   "source": [
    "HISTOGRAM REPRESENTING PRICE (AFTER REMOVING OUTLIERS USING Z-SCORE APPROACH)"
   ]
  },
  {
   "cell_type": "code",
   "execution_count": 1950,
   "metadata": {},
   "outputs": [
    {
     "data": {
      "text/plain": [
       "<Axes: xlabel='price', ylabel='Count'>"
      ]
     },
     "execution_count": 1950,
     "metadata": {},
     "output_type": "execute_result"
    },
    {
     "data": {
      "image/png": "[encoded data removed]",
      "text/plain": [
       "<Figure size 800x400 with 1 Axes>"
      ]
     },
     "metadata": {},
     "output_type": "display_data"
    }
   ],
   "source": [
    "# Creating a histogram of Price after outlier removal\n",
    "plt.figure(figsize=(8, 4))\n",
    "X_new1=stay_df_new1['price']\n",
    "sns.histplot(X_new1,bins =100)"
   ]
  },
  {
   "cell_type": "markdown",
   "metadata": {},
   "source": [
    "## CALCULATING WHISKERS & REMOVING OUTLIERS"
   ]
  },
  {
   "cell_type": "code",
   "execution_count": 1951,
   "metadata": {},
   "outputs": [
    {
     "name": "stdout",
     "output_type": "stream",
     "text": [
      "Length of actual datset= 48895\n",
      "Length of new datset after removing outliers using Whiskers Approach= 45923\n"
     ]
    }
   ],
   "source": [
    "print(\"Length of actual datset=\", len(stay_df))\n",
    "\n",
    "# Use the whiskers approach to identify and remove outliers\n",
    "Q1 = X.quantile(0.25)\n",
    "Q3 = X.quantile(0.75)\n",
    "IQR = Q3 - Q1\n",
    "LW = Q1 - 1.5 * IQR\n",
    "HW = Q3 + 1.5 * IQR\n",
    "stay_df_new2 = stay_df[(X >= LW) & (X <= HW)]\n",
    "print(\"Length of new datset after removing outliers using Whiskers Approach=\", len(stay_df_new2))"
   ]
  },
  {
   "cell_type": "code",
   "execution_count": 1952,
   "metadata": {},
   "outputs": [
    {
     "data": {
      "text/plain": [
       "<Axes: xlabel='price', ylabel='Count'>"
      ]
     },
     "execution_count": 1952,
     "metadata": {},
     "output_type": "execute_result"
    },
    {
     "data": {
      "image/png": "[encoded data removed]",
      "text/plain": [
       "<Figure size 800x400 with 1 Axes>"
      ]
     },
     "metadata": {},
     "output_type": "display_data"
    }
   ],
   "source": [
    "# Creating a histogram of Price after outlier removal\n",
    "plt.figure(figsize=(8, 4))\n",
    "X_new2=stay_df_new2['price']\n",
    "sns.histplot(X_new2, bins =100)"
   ]
  },
  {
   "cell_type": "code",
   "execution_count": 1953,
   "metadata": {},
   "outputs": [
    {
     "name": "stdout",
     "output_type": "stream",
     "text": [
      "Rows in the actual dataset : 48895\n",
      "Rows after removing outliers using Z-score with threshold 2 :  48128\n",
      "Total Rows removed : 767\n",
      "Rows after removing outliers using Whiskers approach :  45923\n",
      "Total Rows removed : 2972\n"
     ]
    }
   ],
   "source": [
    "# Comparison of both methods\n",
    "print(\"Rows in the actual dataset :\", len(stay_df))\n",
    "\n",
    "# Row data when z-score method used\n",
    "print(\"Rows after removing outliers using Z-score with threshold 2 : \", len(stay_df_new1))\n",
    "print(\"Total Rows removed :\", len(stay_df)-len(stay_df_new1))\n",
    "\n",
    "# Row data when whisker method used\n",
    "print(\"Rows after removing outliers using Whiskers approach : \", len(stay_df_new2))\n",
    "print(\"Total Rows removed :\", len(stay_df)-len(stay_df_new2))"
   ]
  },
  {
   "cell_type": "markdown",
   "metadata": {},
   "source": [
    "### COMPARISON BETWEEN Z-SCORE & WHISKER APPROACH"
   ]
  },
  {
   "cell_type": "markdown",
   "metadata": {},
   "source": [
    "In the analysis of a dataset containing 48,895 rows, two different outlier removal approaches were employed: \n",
    "* Z-score with a threshold of 2 \n",
    "* Whiskers approach. \n",
    "\n",
    "#### The Z-score Approach\n",
    "* This is a commonly used method for outlier detection, however demonstrated limitations in this dataset. \n",
    "* Setting the threshold to 2.0 resulted in the removal of 767 rows. \n",
    "* In my opinion, this approach is less effective in identifying outliers, potentially due to the dataset's right-skewed distribution.\n",
    "* I have also tried with different thresholds like 0.5,0.8,1.0,1.5, and 3.0. \n",
    "* This method perform approximately similar way as whisker approach, if threshold is between 0.5-1.0.\n",
    "* However, this method is more suitable for normally distributed datasets. \n",
    "\n",
    "#### Whisker Approach\n",
    "* The whiskers approach to determine outlier bounds is an alternative solution that proved effective in this case. \n",
    "* It resulted in the removal of approximately 2,972 rows, which is more than the Z-score approach \n",
    "* This approach still preserves a substantial portion of the dataset\n",
    "* This approach is less dependent on the skewness of the data distribution, making it a suitable choice for this type of dataset.\n",
    "\n"
   ]
  },
  {
   "cell_type": "markdown",
   "metadata": {},
   "source": [
    "Box plot visualizations below shows dataset before and after outlier removal using both approaches"
   ]
  },
  {
   "cell_type": "code",
   "execution_count": 1954,
   "metadata": {},
   "outputs": [
    {
     "data": {
      "image/png": "[encoded data removed]",
      "text/plain": [
       "<Figure size 640x480 with 1 Axes>"
      ]
     },
     "metadata": {},
     "output_type": "display_data"
    }
   ],
   "source": [
    "sns.boxplot(X)\n",
    "plt.title('Distribution of Price(Actual Dataset)')\n",
    "plt.ylabel('Price')\n",
    "plt.show()"
   ]
  },
  {
   "cell_type": "code",
   "execution_count": 1955,
   "metadata": {},
   "outputs": [
    {
     "data": {
      "image/png": "[encoded data removed]",
      "text/plain": [
       "<Figure size 640x480 with 1 Axes>"
      ]
     },
     "metadata": {},
     "output_type": "display_data"
    }
   ],
   "source": [
    "# Box plot of dataset after outlier removal using z-score method\n",
    "sns.boxplot(X_new1)\n",
    "plt.title('Distribution of Price(After outlier removal using z-score)')\n",
    "plt.ylabel('Price')\n",
    "plt.show()"
   ]
  },
  {
   "cell_type": "code",
   "execution_count": 1956,
   "metadata": {},
   "outputs": [
    {
     "data": {
      "image/png": "[encoded data removed]",
      "text/plain": [
       "<Figure size 640x480 with 1 Axes>"
      ]
     },
     "metadata": {},
     "output_type": "display_data"
    }
   ],
   "source": [
    "# Box plot of dataset after outlier removal using whisker method\n",
    "sns.boxplot(X_new2)\n",
    "plt.title('Distribution of Price(After outlier removal using whiskers)')\n",
    "plt.ylabel('Price')\n",
    "plt.show()"
   ]
  }
 ],
 "metadata": {
  "kernelspec": {
   "display_name": "Python 3",
   "language": "python",
   "name": "python3"
  },
  "language_info": {
   "codemirror_mode": {
    "name": "ipython",
    "version": 3
   },
   "file_extension": ".py",
   "mimetype": "text/x-python",
   "name": "python",
   "nbconvert_exporter": "python",
   "pygments_lexer": "ipython3",
   "version": "3.11.5"
  }
 },
 "nbformat": 4,
 "nbformat_minor": 2
}
