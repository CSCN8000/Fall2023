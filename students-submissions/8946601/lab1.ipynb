{
 "cells": [
  {
   "cell_type": "markdown",
   "metadata": {},
   "source": [
    "<h1><center>  Lab 1 – Basic NumPy Operations<center</h1>\n",
    "<h6>Submitted by Beena Kurian(8946601)</h6>\n"
   ]
  },
  {
   "cell_type": "markdown",
   "metadata": {},
   "source": [
    "<b>PART - A</b>\n",
    "<b> Notebook to demonstrate NumPy Operations </b>"
   ]
  },
  {
   "cell_type": "markdown",
   "metadata": {},
   "source": [
    "<font color=\"blue\"><b>1. Create an array that starts from the integer 1, ends at 20, incremented by 3.</b></font>"
   ]
  },
  {
   "cell_type": "code",
   "execution_count": 100,
   "metadata": {},
   "outputs": [
    {
     "name": "stdout",
     "output_type": "stream",
     "text": [
      "An array that starts from the integer 1, ends at 20: [ 1  4  7 10 13 16 19]\n"
     ]
    }
   ],
   "source": [
    "import numpy as np\n",
    "A=np.arange(1,20,3)\n",
    "print(\"An array that starts from the integer 1, ends at 20:\", A)"
   ]
  },
  {
   "cell_type": "markdown",
   "metadata": {},
   "source": [
    "<font color=\"blue\"><b>2. Create a new array of shape 3 with random numbers between 0 and 1.<b></font>"
   ]
  },
  {
   "cell_type": "code",
   "execution_count": 98,
   "metadata": {},
   "outputs": [
    {
     "name": "stdout",
     "output_type": "stream",
     "text": [
      "Random numbers between 0 and 1:\n",
      " [0.9809921994258683, 0.39646027437343667, 0.8023019254963508]\n"
     ]
    }
   ],
   "source": [
    "B = []\n",
    "for i in range(3):\n",
    "    B.append(np.random.rand())\n",
    "print(\"Random numbers between 0 and 1:\\n\",B)"
   ]
  },
  {
   "cell_type": "code",
   "execution_count": 103,
   "metadata": {},
   "outputs": [
    {
     "ename": "ValueError",
     "evalue": "cannot reshape array of size 0 into shape (3,)",
     "output_type": "error",
     "traceback": [
      "\u001b[1;31m---------------------------------------------------------------------------\u001b[0m",
      "\u001b[1;31mValueError\u001b[0m                                Traceback (most recent call last)",
      "\u001b[1;32mc:\\Users\\beena\\conestoga_aiml\\aia\\Fall2023\\students-submissions\\8946601\\lab1.ipynb Cell 7\u001b[0m line \u001b[0;36m1\n\u001b[1;32m----> <a href='vscode-notebook-cell:/c%3A/Users/beena/conestoga_aiml/aia/Fall2023/students-submissions/8946601/lab1.ipynb#X33sZmlsZQ%3D%3D?line=0'>1</a>\u001b[0m B\u001b[39m=\u001b[39mnp\u001b[39m.\u001b[39;49marray([])\u001b[39m.\u001b[39;49mreshape(\u001b[39m3\u001b[39;49m,)\n\u001b[0;32m      <a href='vscode-notebook-cell:/c%3A/Users/beena/conestoga_aiml/aia/Fall2023/students-submissions/8946601/lab1.ipynb#X33sZmlsZQ%3D%3D?line=1'>2</a>\u001b[0m \u001b[39mprint\u001b[39m(B)\n",
      "\u001b[1;31mValueError\u001b[0m: cannot reshape array of size 0 into shape (3,)"
     ]
    }
   ],
   "source": [
    "B=np.array([])\n",
    "print(B)"
   ]
  },
  {
   "cell_type": "markdown",
   "metadata": {},
   "source": [
    "<font color=\"blue\"><b>3. Create a 2 D array [[10,20,45], [30,12,16], [42,17,56]] and perform the following operations:\n",
    "Slice the 2D array to get the first two rows, slice the 2D array to get the last two rows.<b></font>"
   ]
  },
  {
   "cell_type": "code",
   "execution_count": 90,
   "metadata": {},
   "outputs": [
    {
     "name": "stdout",
     "output_type": "stream",
     "text": [
      "first 2 Rows\n",
      " [[10 20 45]\n",
      " [30 12 16]]\n",
      "Last 2 Rows\n",
      " [[30 12 16]\n",
      " [42 17 56]]\n"
     ]
    }
   ],
   "source": [
    "C=np.array([[10,20,45], [30,12,16], [42,17,56]])\n",
    "print(\"first 2 Rows\\n\",C[0:2])\n",
    "print(\"Last 2 Rows\\n\",C[1:3])"
   ]
  },
  {
   "cell_type": "markdown",
   "metadata": {},
   "source": [
    "<font color=\"blue\"><b>4. Create two 2x2 arrays and demonstrate how you can stack the elements vertically, horizontally, and split the arrays into smaller arrays.\n",
    "<b></font>"
   ]
  },
  {
   "cell_type": "code",
   "execution_count": 91,
   "metadata": {},
   "outputs": [
    {
     "name": "stdout",
     "output_type": "stream",
     "text": [
      "Stack the elements vertically\n",
      " [[ 10  20  30]\n",
      " [ 40  50  60]\n",
      " [ 70  80  90]\n",
      " [100 110 120]]\n",
      "Stack the elements horizontally\n",
      " [[ 10  20  30  70  80  90]\n",
      " [ 40  50  60 100 110 120]]\n",
      "splitting the arrays using array split\n",
      " [array([[10, 20, 30]]), array([[40, 50, 60]]), array([], shape=(0, 3), dtype=int32)]\n",
      "splitting the arrays \n",
      " [array([[10],\n",
      "       [40]]), array([[20],\n",
      "       [50]]), array([[30],\n",
      "       [60]])]\n"
     ]
    }
   ],
   "source": [
    "D=np.array([[10,20,30], [40,50,60]])\n",
    "E=np.array([[70,80,90], [100,110,120]])\n",
    "\n",
    "print(\"Stack the elements vertically\\n\",np.vstack((D,E)))\n",
    "print(\"Stack the elements horizontally\\n\",np.hstack((D,E)))\n",
    "print(\"splitting the arrays using array split\\n\",np.array_split(D,3))\n",
    "print(\"splitting the arrays \\n\",np.hsplit(D,3))\n"
   ]
  },
  {
   "cell_type": "markdown",
   "metadata": {},
   "source": [
    "<font color=\"blue\"><b> 5. Create two matrices X= ([[5, 7, 2], [4, 5, 6], [7, 4 ,2]]) Y= ([[4, 2], [6, 2], [4, 2]]),\n",
    "Is it possible to multiply these matrices?</font>\n",
    "<br>ANS: A matrix of shape (m, n) can be multiplied with a matrix of size (p,q) if and only if n is equal to p, then the shape of the resultant matrix will be (m,q). In the given example X is a matrix of shape (3,3) and Y is of shape (3,2), Thus, number of columns of first matrix is equal to number of rows of the second matrix. Thus it is possible to multiply x with Y. The resultant matrix will be of size (3,2). But the reverse is not possible. That is Y with X.<br>\n",
    "<font color=\"blue\">Demonstrate the case when it is not possible to.<b></font>\n",
    "<br> When we try to multiply Y with X, we can't multiply. Both examples are demonstrated below.\n"
   ]
  },
  {
   "cell_type": "code",
   "execution_count": 92,
   "metadata": {},
   "outputs": [
    {
     "name": "stdout",
     "output_type": "stream",
     "text": [
      "Trying to multiply X * Y -\n",
      " [[70 28]\n",
      " [70 30]\n",
      " [60 26]]\n",
      "--------------X * Y success--------------------\n",
      "OOPs...!!!! Not possible to multiply Y * X\n",
      "The column of first matrix is not equal to the row of second matrix\n",
      "\n"
     ]
    }
   ],
   "source": [
    "X=np.array([[5, 7, 2], [4, 5, 6], [7, 4 ,2]])\n",
    "Y=np.array([[4, 2], [6, 2], [4, 2]])\n",
    "try:\n",
    "    print(\"Trying to multiply X * Y -\\n\",np.matmul(X,Y))\n",
    "    print(\"--------------X * Y success--------------------\")\n",
    "    print(\"Trying to multiply Y * X -\\n\",np.matmul(Y,X))\n",
    "    print(\"--------------Y * X success--------------------\")\n",
    "except:\n",
    "    print(\"OOPs...!!!! Not possible to multiply Y * X\\nThe column of first matrix is not equal to the row of second matrix\\n\")\n"
   ]
  },
  {
   "cell_type": "markdown",
   "metadata": {},
   "source": [
    "<font color=\"blue\"><b>6. Create two arrays, x = ([2, -1, -8]) y = ([3, 1, -2]),\n",
    "Find the Shape, Number of dimensions of vector x.<br>\n",
    "Reshape the vector x to a matrix of size (3,1) and <br>determine the number of dimensions after reshaping y to a matrix of (3,1).</b>,</font>"
   ]
  },
  {
   "cell_type": "code",
   "execution_count": 93,
   "metadata": {},
   "outputs": [
    {
     "name": "stdout",
     "output_type": "stream",
     "text": [
      "Shape of vector X= (3,)\n",
      "Shape of vector Y= (3,)\n",
      "Dimension of vector X= 1\n",
      "Reshaping array X to (3,1)\n",
      " [[ 2]\n",
      " [-1]\n",
      " [-8]]\n",
      "Shape of reshaped vector X= (3, 1)\n",
      "Dimension of reshaped Y= 2\n",
      "Shape of reshaped vector Y= (3, 1)\n"
     ]
    }
   ],
   "source": [
    "X=np.array([2, -1, -8])\n",
    "Y=np.array([3, 1, -2])\n",
    "print(\"Shape of vector X=\",X.shape)\n",
    "print(\"Shape of vector Y=\",Y.shape)\n",
    "print(\"Dimension of vector X=\",X.ndim)\n",
    "X_new=X.reshape(3,1)\n",
    "print(\"Reshaping array X to (3,1)\\n\",X_new)\n",
    "print(\"Shape of reshaped vector X=\",X_new.shape)\n",
    "\n",
    "Y_new=Y.reshape(3,1)\n",
    "print(\"Dimension of reshaped Y=\",Y_new.ndim)\n",
    "print(\"Shape of reshaped vector Y=\",Y_new.shape)\n",
    "\n"
   ]
  },
  {
   "cell_type": "markdown",
   "metadata": {},
   "source": [
    "<font color=\"blue\"><b>7. How does broadcasting work? Demonstrate the subtraction, multiplication by considering a 3 x 3 matrix.</b></font>\n",
    "<br><b>Broadcasting is the ability of Numpy to treat arrays of different shapes to perform arithemetic operations. <br>The shape of the arrays are compatible if they are of same size or one of then is of size one."
   ]
  },
  {
   "cell_type": "code",
   "execution_count": 94,
   "metadata": {},
   "outputs": [
    {
     "name": "stdout",
     "output_type": "stream",
     "text": [
      "Subtraction using broadcasting\n",
      " [[3 5 0]\n",
      " [2 3 4]\n",
      " [5 2 0]]\n",
      "Subtraction using broadcasting\n",
      " [[0 0 0]\n",
      " [0 0 0]\n",
      " [6 3 1]]\n",
      "Multiplication using broadcasting\n",
      " [[10 14  4]\n",
      " [ 8 10 12]\n",
      " [14  8  4]]\n",
      "Multiplication using broadcasting\n",
      " [[25 49  4]\n",
      " [16 25 36]\n",
      " [ 7  4  2]]\n"
     ]
    }
   ],
   "source": [
    "A=np.array([[5, 7, 2], [4, 5, 6], [7, 4 ,2]])\n",
    "B=np.array([2])\n",
    "C=np.array([[5, 7, 2], [4, 5, 6], [1, 1 ,1]])\n",
    "DEC1=A-B\n",
    "print(\"Subtraction using broadcasting\\n\",DEC1)\n",
    "DEC2=A-C\n",
    "print(\"Subtraction using broadcasting\\n\",DEC2)\n",
    "MUL1=A*B\n",
    "print(\"Multiplication using broadcasting\\n\",MUL1)\n",
    "MUL2=A*C\n",
    "print(\"Multiplication using broadcasting\\n\",MUL2)\n",
    "\n"
   ]
  },
  {
   "cell_type": "markdown",
   "metadata": {},
   "source": [
    "<center><b>PART - B\n",
    "Linear Equations </b></center>"
   ]
  },
  {
   "cell_type": "markdown",
   "metadata": {},
   "source": [
    "<font color=\"Blue\"><b>Determine the singularity of the system of equations, comment on the expected solution of the system. Solve the system of equations if possible. Justify the reason why you believe the system can or cannot be solved using numpy functions.</b></font><br>\n",
    "\n",
    "\n"
   ]
  },
  {
   "cell_type": "markdown",
   "metadata": {},
   "source": [
    "<b>Part B.1</b><br>\n",
    "4x + y - 2z = 10<br>\n",
    "2x - 3y + 2z = -4<br>\n",
    "x + 2y + 3z = 6<br>\n",
    "<b>Expected solution: The determinant of the matrix is not zero, thus, the matrix is non-singular,and  we can solve the matrix</b> "
   ]
  },
  {
   "cell_type": "code",
   "execution_count": 95,
   "metadata": {},
   "outputs": [
    {
     "name": "stdout",
     "output_type": "stream",
     "text": [
      "Determinant= -70.00000000000003\n",
      "Part B.1, Solution =  [ 1.8  2.4 -0.2]\n"
     ]
    }
   ],
   "source": [
    "L=np.array([[4,1,-2],[2,-3,2],[1,2,3]])\n",
    "R=np.array([10,-4,6])\n",
    "detL=np.linalg.det(L)\n",
    "print(\"Determinant=\",detL)\n",
    "if(detL!=0):\n",
    "    result=np.linalg.solve(L,R)\n",
    "    print(\"Part B.1, Solution = \", result)\n",
    "else:\n",
    "    print(\"Sorry...!!! The linear system of equations is not solvable\")\n"
   ]
  },
  {
   "cell_type": "markdown",
   "metadata": {},
   "source": [
    "<b>Part B.2</b><br>\n",
    "2x - y + 3z + 4w = 10<br>\n",
    "4x - 2y + 6z + 8w = 20<br>\n",
    "3x + y - 2z + 2w = 3<br>\n",
    "x + 3y - 4z + w = -1<br>\n",
    "<b>Expected solution: The determinant of the matrix is zero, thus, the matrix is singular,and  we can not solve the matrix</b> "
   ]
  },
  {
   "cell_type": "code",
   "execution_count": 96,
   "metadata": {},
   "outputs": [
    {
     "name": "stdout",
     "output_type": "stream",
     "text": [
      "Determinant= 0.0\n",
      "Sorry...!!! The linear system of equations is not solvable, because the matrix is singular\n"
     ]
    }
   ],
   "source": [
    "L=np.array([[2,-1,3,4],[4,-2,6,8],[3,1,-2,2],[1,3,-4,1]])\n",
    "R=np.array([10,20,3,-1])\n",
    "detL=np.linalg.det(L)\n",
    "print(\"Determinant=\",detL)\n",
    "if(detL!=0):\n",
    "    result=np.linalg.solve(L,R)\n",
    "    print(\"Part B.2, Solution = \", result)\n",
    "else:\n",
    "    print(\"Sorry...!!! The linear system of equations is not solvable, because the matrix is singular\")"
   ]
  }
 ],
 "metadata": {
  "kernelspec": {
   "display_name": "Python 3",
   "language": "python",
   "name": "python3"
  },
  "language_info": {
   "codemirror_mode": {
    "name": "ipython",
    "version": 3
   },
   "file_extension": ".py",
   "mimetype": "text/x-python",
   "name": "python",
   "nbconvert_exporter": "python",
   "pygments_lexer": "ipython3",
   "version": "3.11.5"
  },
  "orig_nbformat": 4
 },
 "nbformat": 4,
 "nbformat_minor": 2
}
