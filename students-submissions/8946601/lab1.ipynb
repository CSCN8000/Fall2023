{
 "cells": [
  {
   "cell_type": "markdown",
   "metadata": {},
   "source": [
    "<h1><center>  Lab 1 – Basic NumPy Operations<center</h1>\n",
    "<h6>Submitted by Beena Kurian(8946601)</h6>\n"
   ]
  },
  {
   "cell_type": "markdown",
   "metadata": {},
   "source": [
    "<b>PART - A</b>\n",
    "<b> Notebook to demonstrate NumPy Operations </b>"
   ]
  },
  {
   "cell_type": "markdown",
   "metadata": {},
   "source": [
    "<font color=\"blue\"><b>1. Create an array that starts from the integer 1, ends at 20, incremented by 3.</b></font>"
   ]
  },
  {
   "cell_type": "code",
   "execution_count": 1,
   "metadata": {},
   "outputs": [
    {
     "name": "stdout",
     "output_type": "stream",
     "text": [
      "An array 1-20 incremented by: [ 1  4  7 10 13 16 19]\n"
     ]
    }
   ],
   "source": [
    "import numpy as np\n",
    "A=np.arange(1,20,3)\n",
    "print(\"An array 1-20 incremented by:\", A)"
   ]
  },
  {
   "cell_type": "markdown",
   "metadata": {},
   "source": [
    "<font color=\"blue\"><b>2. Create a new array of shape 3 with random numbers between 0 and 1.<b></font>"
   ]
  },
  {
   "cell_type": "code",
   "execution_count": 2,
   "metadata": {},
   "outputs": [
    {
     "name": "stdout",
     "output_type": "stream",
     "text": [
      "[0.4645874  0.22024276 0.14474393]\n"
     ]
    }
   ],
   "source": [
    "B=np.random.rand(3)\n",
    "print(B)"
   ]
  },
  {
   "cell_type": "markdown",
   "metadata": {},
   "source": [
    "<font color=\"blue\"><b>3. Create a 2 D array [[10,20,45], [30,12,16], [42,17,56]] and perform the following operations:\n",
    "Slice the 2D array to get the first two rows, slice the 2D array to get the last two rows.<b></font>"
   ]
  },
  {
   "cell_type": "code",
   "execution_count": 3,
   "metadata": {},
   "outputs": [
    {
     "name": "stdout",
     "output_type": "stream",
     "text": [
      "first 2 Rows\n",
      " [[10 20 45]\n",
      " [30 12 16]]\n",
      "Last 2 Rows\n",
      " [[30 12 16]\n",
      " [42 17 56]]\n"
     ]
    }
   ],
   "source": [
    "# Creating Arrays\n",
    "C=np.array([[10,20,45], [30,12,16], [42,17,56]])\n",
    "\n",
    "# Slicing Arrays\n",
    "print(\"first 2 Rows\\n\",C[:2])\n",
    "print(\"Last 2 Rows\\n\",C[-2:])"
   ]
  },
  {
   "cell_type": "markdown",
   "metadata": {},
   "source": [
    "<font color=\"blue\"><b>4. Create two 2x2 arrays and demonstrate how you can stack the elements vertically, horizontally, and split the arrays into smaller arrays.\n",
    "<b></font>"
   ]
  },
  {
   "cell_type": "code",
   "execution_count": 4,
   "metadata": {},
   "outputs": [
    {
     "name": "stdout",
     "output_type": "stream",
     "text": [
      "Stack the elements vertically\n",
      " [[ 10  20  30]\n",
      " [ 40  50  60]\n",
      " [ 70  80  90]\n",
      " [100 110 120]]\n",
      "Stack the elements horizontally\n",
      " [[ 10  20  30  70  80  90]\n",
      " [ 40  50  60 100 110 120]]\n",
      "splitting the arrays using array split\n",
      " [array([[10, 20, 30]]), array([[40, 50, 60]])]\n",
      "splitting the arrays horizontally \n",
      " [array([[10],\n",
      "       [40]]), array([[20],\n",
      "       [50]]), array([[30],\n",
      "       [60]])]\n",
      "splitting the arrays vertically\n",
      " [array([[10, 20, 30],\n",
      "       [40, 50, 60]])]\n"
     ]
    }
   ],
   "source": [
    "# Creating Arrays\n",
    "D=np.array([[10,20,30], [40,50,60]])\n",
    "E=np.array([[70,80,90], [100,110,120]])\n",
    "\n",
    "# Array Stacking\n",
    "print(\"Stack the elements vertically\\n\",np.vstack((D,E)))\n",
    "print(\"Stack the elements horizontally\\n\",np.hstack((D,E)))\n",
    "\n",
    "# Array split, Vertical and Horizontal Split\n",
    "print(\"splitting the arrays using array split\\n\",np.array_split(D,2))\n",
    "print(\"splitting the arrays horizontally \\n\",np.hsplit(D,3))\n",
    "print(\"splitting the arrays vertically\\n\",np.vsplit(D,1))"
   ]
  },
  {
   "cell_type": "markdown",
   "metadata": {},
   "source": [
    "<font color=\"blue\"><b> 5. Create two matrices X= ([[5, 7, 2], [4, 5, 6], [7, 4 ,2]]) Y= ([[4, 2], [6, 2], [4, 2]]),\n",
    "Is it possible to multiply these matrices?</font>\n",
    "<br>ANS: A matrix of shape (m, n) can be multiplied with a matrix of size (p,q) if and only if n is equal to p, then the shape of the resultant matrix will be (m,q). In the given example X is a matrix of shape (3,3) and Y is of shape (3,2), Thus, number of columns of first matrix is equal to number of rows of the second matrix. Thus it is possible to multiply x with Y. The resultant matrix will be of size (3,2). But the reverse is not possible. That is Y with X.<br>\n",
    "<font color=\"blue\">Demonstrate the case when it is not possible to.<b></font>\n",
    "<br> When we try to multiply Y with X, we can't multiply. Both examples are demonstrated below.</b>\n"
   ]
  },
  {
   "cell_type": "code",
   "execution_count": 5,
   "metadata": {},
   "outputs": [
    {
     "name": "stdout",
     "output_type": "stream",
     "text": [
      " ----------X * Y ----------- \n",
      " [[70 28]\n",
      " [70 30]\n",
      " [60 26]]\n",
      "\n",
      "OOPs...!!!! Not possible to multiply Y * X\n",
      "The number of columns of first matrix is not equal to the row of second matrix\n"
     ]
    }
   ],
   "source": [
    "# Creating 2 Matrices\n",
    "X=np.array([[5, 7, 2], [4, 5, 6], [7, 4 ,2]])\n",
    "Y=np.array([[4, 2], [6, 2], [4, 2]])\n",
    "\n",
    "# Multiplying X*Y\n",
    "if(X.shape[1]==Y.shape[0]):\n",
    "    print(\" ----------X * Y ----------- \\n\",np.matmul(X,Y))\n",
    "else:\n",
    "    print(\"OOPs...!!!! Not possible to multiply X * Y\")\n",
    "    print(\"The number of columns of first matrix is not equal to the row of second matrix\")\n",
    "    \n",
    "# Multiplying Y*X\n",
    "if(Y.shape[1]==X.shape[0]):\n",
    "    print(\" ----------Y * X ----------- \\n\",np.matmul(Y,X))\n",
    "else:\n",
    "    print(\"\\nOOPs...!!!! Not possible to multiply Y * X\")\n",
    "    print(\"The number of columns of first matrix is not equal to the row of second matrix\")\n"
   ]
  },
  {
   "cell_type": "markdown",
   "metadata": {},
   "source": [
    "<font color=\"blue\"><b>6. Create two arrays, x = ([2, -1, -8]) y = ([3, 1, -2]),\n",
    "Find the Shape, Number of dimensions of vector x.<br>\n",
    "Reshape the vector x to a matrix of size (3,1) and <br>determine the number of dimensions after reshaping y to a matrix of (3,1).</b>,</font>"
   ]
  },
  {
   "cell_type": "code",
   "execution_count": 6,
   "metadata": {},
   "outputs": [
    {
     "name": "stdout",
     "output_type": "stream",
     "text": [
      "Shape of vector X= (3,)\n",
      "Shape of vector Y= (3,)\n",
      "Dimension of vector X= 1\n",
      "Reshaping array X to (3,1)\n",
      " [[ 2]\n",
      " [-1]\n",
      " [-8]]\n",
      "Shape of reshaped vector X= (3, 1)\n",
      "Dimension of reshaped Y= 2\n",
      "Shape of reshaped vector Y= (3, 1)\n"
     ]
    }
   ],
   "source": [
    "# Creating Arrays\n",
    "X=np.array([2, -1, -8])\n",
    "Y=np.array([3, 1, -2])\n",
    "\n",
    "# Shape of Arrays\n",
    "print(\"Shape of vector X=\",X.shape)\n",
    "print(\"Shape of vector Y=\",Y.shape)\n",
    "\n",
    "# Dimension of Array X\n",
    "print(\"Dimension of vector X=\",X.ndim)\n",
    "\n",
    "# Reshaping of Array X and check shape again\n",
    "X_new=X.reshape(3,1)\n",
    "print(\"Reshaping array X to (3,1)\\n\",X_new)\n",
    "print(\"Shape of reshaped vector X=\",X_new.shape)\n",
    "\n",
    "# Reshaping of Array Y and check shape again\n",
    "Y_new=Y.reshape(3,1)\n",
    "print(\"Dimension of reshaped Y=\",Y_new.ndim)\n",
    "print(\"Shape of reshaped vector Y=\",Y_new.shape)\n"
   ]
  },
  {
   "cell_type": "markdown",
   "metadata": {},
   "source": [
    "<font color=\"blue\"><b>7. How does broadcasting work? Demonstrate the subtraction, multiplication by considering a 3 x 3 matrix.</b></font>\n",
    "<br><b>Broadcasting is the ability of Numpy to treat arrays of different shapes to perform arithemetic operations. <br>The shape of the arrays are compatible if they are of same size or one of then is of size one."
   ]
  },
  {
   "cell_type": "code",
   "execution_count": 7,
   "metadata": {},
   "outputs": [
    {
     "name": "stdout",
     "output_type": "stream",
     "text": [
      "Subtraction using broadcasting\n",
      " [[3 5 0]\n",
      " [2 3 4]\n",
      " [5 2 0]]\n",
      "Subtraction using broadcasting\n",
      " [[0 0 0]\n",
      " [0 0 0]\n",
      " [6 3 1]]\n",
      "Multiplication using broadcasting\n",
      " [[10 14  4]\n",
      " [ 8 10 12]\n",
      " [14  8  4]]\n",
      "Multiplication using broadcasting\n",
      " [[25 49  4]\n",
      " [16 25 36]\n",
      " [ 7  4  2]]\n"
     ]
    }
   ],
   "source": [
    "# Creating Arrays\n",
    "A=np.array([[5, 7, 2], [4, 5, 6], [7, 4 ,2]])\n",
    "B=np.array([2])\n",
    "C=np.array([[5, 7, 2], [4, 5, 6], [1, 1 ,1]])\n",
    "\n",
    "# Broadcast Examples\n",
    "DEC1=A-B\n",
    "print(\"Subtraction using broadcasting\\n\",DEC1)\n",
    "DEC2=A-C\n",
    "print(\"Subtraction using broadcasting\\n\",DEC2)\n",
    "MUL1=A*B\n",
    "print(\"Multiplication using broadcasting\\n\",MUL1)\n",
    "MUL2=A*C\n",
    "print(\"Multiplication using broadcasting\\n\",MUL2)\n",
    "\n"
   ]
  },
  {
   "cell_type": "markdown",
   "metadata": {},
   "source": [
    "<center><b>PART - B\n",
    "Linear Equations </b></center>"
   ]
  },
  {
   "cell_type": "markdown",
   "metadata": {},
   "source": [
    "<font color=\"Blue\"><b>Determine the singularity of the system of equations, comment on the expected solution of the system. Solve the system of equations if possible. Justify the reason why you believe the system can or cannot be solved using numpy functions.</b></font><br>\n",
    "\n",
    "\n"
   ]
  },
  {
   "cell_type": "markdown",
   "metadata": {},
   "source": [
    "<b>Part B.1</b><br>\n",
    "4x + y - 2z = 10<br>\n",
    "2x - 3y + 2z = -4<br>\n",
    "x + 2y + 3z = 6<br>\n",
    "<b>Expected solution: The determinant of the matrix is not zero, thus, the matrix is non-singular,and  we can solve the matrix. This equations can be solved by numpy function np.linalg.solve()</b> "
   ]
  },
  {
   "cell_type": "code",
   "execution_count": 8,
   "metadata": {},
   "outputs": [
    {
     "name": "stdout",
     "output_type": "stream",
     "text": [
      "------------Expected Solution-------------------:\n",
      "Non-singular, solvable\n",
      "------------Actual Solution------------:\n",
      "Part B.1, Solution =  [ 1.8  2.4 -0.2]\n"
     ]
    }
   ],
   "source": [
    "# Representing Linear Equations \n",
    "L=np.array([[4,1,-2],[2,-3,2],[1,2,3]])\n",
    "R=np.array([10,-4,6])\n",
    "\n",
    "# computing determinant of matrix L\n",
    "detL=np.linalg.det(L)\n",
    "\n",
    "# Expected Solution\n",
    "print(\"------------Expected Solution-------------------:\")\n",
    "if(detL==0):\n",
    "    print(\"Singular, Not solvable\")\n",
    "else:\n",
    "    print(\"Non-singular, solvable\")\n",
    "\n",
    "#trying to solve linear equations using numpy function\n",
    "print(\"------------Actual Solution------------:\")\n",
    "try: \n",
    "    result=np.linalg.solve(L,R)            \n",
    "    print(\"Part B.1, Solution = \", result)\n",
    "except:\n",
    "    print(\"Sorry...!!! The linear system of equations is not solvable using numpy function because determinant=\",detL)\n"
   ]
  },
  {
   "cell_type": "markdown",
   "metadata": {},
   "source": [
    "<b>Part B.2</b><br>\n",
    "2x - y + 3z + 4w = 10<br>\n",
    "4x - 2y + 6z + 8w = 20<br>\n",
    "3x + y - 2z + 2w = 3<br>\n",
    "x + 3y - 4z + w = -1<br>\n",
    "<b>Expected solution: The determinant of the matrix is zero, thus, the matrix is singular,and  we can not solve the matrix</b> "
   ]
  },
  {
   "cell_type": "code",
   "execution_count": 9,
   "metadata": {},
   "outputs": [
    {
     "name": "stdout",
     "output_type": "stream",
     "text": [
      "------------Expected Solution-------------------:\n",
      "Singular, Not solvable\n",
      "---------------Actual Solution------------------:\n",
      "Sorry...!!! The linear system of equations is not solvable using numpy function because determinant= 0.0\n"
     ]
    }
   ],
   "source": [
    "L=np.array([[2,-1,3,4],[4,-2,6,8],[3,1,-2,2],[1,3,-4,1]])\n",
    "R=np.array([10,20,3,-1])\n",
    "\n",
    "# computing determinant of matrix L\n",
    "detL=np.linalg.det(L)\n",
    "\n",
    "# Expected Solution\n",
    "print(\"------------Expected Solution-------------------:\")\n",
    "if(detL==0):\n",
    "    print(\"Singular, Not solvable\")\n",
    "else:\n",
    "    print(\"Non-singular, solvable\")\n",
    "\n",
    "#trying to solve linear equations using numpy function\n",
    "print(\"---------------Actual Solution------------------:\")\n",
    "try: \n",
    "    result=np.linalg.solve(L,R)            \n",
    "    print(\"Part B.2, Solution = \", result)\n",
    "except:\n",
    "    print(\"Sorry...!!! The linear system of equations is not solvable using numpy function because determinant=\",detL)"
   ]
  }
 ],
 "metadata": {
  "kernelspec": {
   "display_name": "Python 3",
   "language": "python",
   "name": "python3"
  },
  "language_info": {
   "codemirror_mode": {
    "name": "ipython",
    "version": 3
   },
   "file_extension": ".py",
   "mimetype": "text/x-python",
   "name": "python",
   "nbconvert_exporter": "python",
   "pygments_lexer": "ipython3",
   "version": "3.11.5"
  },
  "orig_nbformat": 4
 },
 "nbformat": 4,
 "nbformat_minor": 2
}
