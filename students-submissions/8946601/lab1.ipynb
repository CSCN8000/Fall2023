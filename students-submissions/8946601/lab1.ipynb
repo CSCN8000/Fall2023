{
 "cells": [
  {
   "cell_type": "markdown",
   "metadata": {},
   "source": [
    "<h1><center>  Lab 1 – Basic NumPy Operations<center</h1>\n",
    "<h6>Submitted by Beena Kurian(8946601)</h6>\n",
    "<b>PART - A</b>\n",
    "<b> Notebook to demonstrate NumPy Operations </b>"
   ]
  },
  {
   "cell_type": "markdown",
   "metadata": {},
   "source": [
    "<font color=\"blue\"><b>1. Create an array that starts from the integer 1, ends at 20, incremented by 3.</b></font>"
   ]
  },
  {
   "cell_type": "code",
   "execution_count": 31,
   "metadata": {},
   "outputs": [
    {
     "name": "stdout",
     "output_type": "stream",
     "text": [
      "[ 1  4  7 10 13 16 19]\n"
     ]
    }
   ],
   "source": [
    "import numpy as np\n",
    "A=np.arange(1,20,3)\n",
    "print(a)"
   ]
  },
  {
   "cell_type": "markdown",
   "metadata": {},
   "source": [
    "<font color=\"blue\"><b>2. Create a new array of shape 3 with random numbers between 0 and 1.<b></font>"
   ]
  },
  {
   "cell_type": "code",
   "execution_count": 32,
   "metadata": {},
   "outputs": [
    {
     "name": "stdout",
     "output_type": "stream",
     "text": [
      "random numbers between 0 and 1\n",
      " [0.8900666813944441, 0.10279941941346715, 0.42653729435073295]\n"
     ]
    }
   ],
   "source": [
    "B = []\n",
    "for i in range(3):\n",
    "    B.append(np.random.rand())\n",
    "print(\"random numbers between 0 and 1\\n\",B)"
   ]
  },
  {
   "cell_type": "markdown",
   "metadata": {},
   "source": [
    "<font color=\"blue\"><b>3. Create a 2 D array [[10,20,45], [30,12,16], [42,17,56]] and perform the following operations:\n",
    "Slice the 2D array to get the first two rows, slice the 2D array to get the last two rows.<b></font>"
   ]
  },
  {
   "cell_type": "code",
   "execution_count": 33,
   "metadata": {},
   "outputs": [
    {
     "name": "stdout",
     "output_type": "stream",
     "text": [
      "first 2 Rows\n",
      " [[10 20 45]\n",
      " [30 12 16]]\n",
      "Last 2 Rows\n",
      " [[30 12 16]\n",
      " [42 17 56]]\n"
     ]
    }
   ],
   "source": [
    "C=np.array([[10,20,45], [30,12,16], [42,17,56]])\n",
    "print(\"first 2 Rows\\n\",C[0:2])\n",
    "print(\"Last 2 Rows\\n\",C[1:3])"
   ]
  },
  {
   "cell_type": "markdown",
   "metadata": {},
   "source": [
    "<font color=\"blue\"><b>4. Create two 2x2 arrays and demonstrate how you can stack the elements vertically, horizontally, and split the arrays into smaller arrays.\n",
    "3. Create a 2 D array [[10,20,45], [30,12,16], [42,17,56]] and perform the following operations:<b></font>"
   ]
  },
  {
   "cell_type": "code",
   "execution_count": 34,
   "metadata": {},
   "outputs": [
    {
     "name": "stdout",
     "output_type": "stream",
     "text": [
      "Stack the elements vertically\n",
      " [[ 10  20  30]\n",
      " [ 40  50  60]\n",
      " [ 70  80  90]\n",
      " [100 110 120]]\n",
      "Stack the elements horizontally\n",
      " [[ 10  20  30  70  80  90]\n",
      " [ 40  50  60 100 110 120]]\n",
      "splitting the arrays using array split\n",
      " [array([[10, 20, 30]]), array([[40, 50, 60]]), array([], shape=(0, 3), dtype=int32)]\n",
      "splitting the arrays \n",
      " [array([[10],\n",
      "       [40]]), array([[20],\n",
      "       [50]]), array([[30],\n",
      "       [60]])]\n"
     ]
    }
   ],
   "source": [
    "D=np.array([[10,20,30], [40,50,60]])\n",
    "E=np.array([[70,80,90], [100,110,120]])\n",
    "\n",
    "print(\"Stack the elements vertically\\n\",np.vstack((D,E)))\n",
    "print(\"Stack the elements horizontally\\n\",np.hstack((D,E)))\n",
    "print(\"splitting the arrays using array split\\n\",np.array_split(D,3))\n",
    "print(\"splitting the arrays \\n\",np.hsplit(D,3))\n"
   ]
  },
  {
   "cell_type": "markdown",
   "metadata": {},
   "source": [
    "<font color=\"blue\"><b> 5. Create two matrices X= ([[5, 7, 2], [4, 5, 6], [7, 4 ,2]]) Y= ([[4, 2], [6, 2], [4, 2]]),\n",
    "<br>\n",
    " Is it possible to multiply these matrices?</font>\n",
    "<br>ANS: A matrix of shape (m, n) can be multiplied with a matrix of size (p,q) if and only if n is equal to p, then the shape of the resultant matrix will be (m,q). In the given example X is a matrix of shape (3,3) and Y is of shape (3,2), Thus, number of columns of first matrix is equal to number of rows of the second matrix. Thus it is possible to multiply x with Y. The resultant matrix will be of size (3,2). But the reverse is not possible. That is Y with X.<br>\n",
    "<font color=\"blue\">Demonstrate the case when it is not possible to.<b></font>\n",
    "<br> When we try to multiply Y with X, we can't multiply. Both examples are demonstrated below.\n"
   ]
  },
  {
   "cell_type": "code",
   "execution_count": 40,
   "metadata": {},
   "outputs": [
    {
     "name": "stdout",
     "output_type": "stream",
     "text": [
      "Trying to multiply X * Y -\n",
      " [[70 28]\n",
      " [70 30]\n",
      " [60 26]]\n",
      "Not possible to multiply Y * X- The column of first matrix is not equal to second\n"
     ]
    }
   ],
   "source": [
    "X=np.array([[5, 7, 2], [4, 5, 6], [7, 4 ,2]])\n",
    "Y=np.array([[4, 2], [6, 2], [4, 2]])\n",
    "\n",
    "print(\"Trying to multiply X * Y -\\n\",np.dot(X,Y))\n",
    "try:\n",
    "    print(\"Trying to multiply Y * X -\\n\",np.dot(Y,X))\n",
    "except:\n",
    "    print(\"Not possible to multiply Y * X- The column of first matrix is not equal to second\")\n"
   ]
  },
  {
   "cell_type": "markdown",
   "metadata": {},
   "source": [
    "<font color=\"blue\"><b>6. Create two arrays, x = ([2, -1, -8]) y = ([3, 1, -2]),\n",
    "Find the Shape, Number of dimensions of vector x.\n",
    "Reshape the vector x to a matrix of size (3,1) and determine the number of dimensions after reshaping y to a matrix of (3,1).</b>,</font>"
   ]
  },
  {
   "cell_type": "code",
   "execution_count": 49,
   "metadata": {},
   "outputs": [
    {
     "name": "stdout",
     "output_type": "stream",
     "text": [
      "shape of X= (3,)\n",
      "Dimension of vector X= 1\n",
      "shape of X= (3,)\n"
     ]
    }
   ],
   "source": [
    "X=np.array([2, -1, -8])\n",
    "print(\"shape of X=\",X.shape)\n",
    "print(\"Dimension of vector X=\",X.ndim)\n",
    "Y=np.array([3, 1, -2])\n",
    "print(\"shape of X=\",Y.shape)\n"
   ]
  },
  {
   "cell_type": "markdown",
   "metadata": {},
   "source": [
    "7. How does broadcasting work? Demonstrate the subtraction, multiplication by considering a 3 x 3 matrix."
   ]
  }
 ],
 "metadata": {
  "kernelspec": {
   "display_name": "Python 3",
   "language": "python",
   "name": "python3"
  },
  "language_info": {
   "codemirror_mode": {
    "name": "ipython",
    "version": 3
   },
   "file_extension": ".py",
   "mimetype": "text/x-python",
   "name": "python",
   "nbconvert_exporter": "python",
   "pygments_lexer": "ipython3",
   "version": "3.11.5"
  },
  "orig_nbformat": 4
 },
 "nbformat": 4,
 "nbformat_minor": 2
}
