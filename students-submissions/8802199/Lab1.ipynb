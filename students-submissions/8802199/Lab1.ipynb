{
 "cells": [
  {
   "cell_type": "markdown",
   "metadata": {},
   "source": [
    "Part A- Create a Notebook to demonstrate NumPy Operations\n"
   ]
  },
  {
   "cell_type": "code",
   "execution_count": 1,
   "metadata": {},
   "outputs": [],
   "source": [
    "import numpy as np\n"
   ]
  },
  {
   "cell_type": "markdown",
   "metadata": {},
   "source": [
    "Create an array that starts from the integer 1, ends at 20, incremented by 3."
   ]
  },
  {
   "cell_type": "code",
   "execution_count": 2,
   "metadata": {},
   "outputs": [
    {
     "name": "stdout",
     "output_type": "stream",
     "text": [
      "[ 1  4  7 10 13 16 19]\n"
     ]
    }
   ],
   "source": [
    "array = np.arange(1, 21, 3)#(start of an array, end of an array, step size)\n",
    "print(array)\n"
   ]
  },
  {
   "cell_type": "markdown",
   "metadata": {},
   "source": [
    "Create a new array of shape 3 with random numbers between 0 and 1."
   ]
  },
  {
   "cell_type": "code",
   "execution_count": 4,
   "metadata": {},
   "outputs": [
    {
     "name": "stdout",
     "output_type": "stream",
     "text": [
      "[0.92007925 0.62930122 0.06395103]\n"
     ]
    }
   ],
   "source": [
    "array = np.random.rand(3)\n",
    "print(array)\n"
   ]
  },
  {
   "cell_type": "markdown",
   "metadata": {},
   "source": [
    "Create a 2 D array [[10,20,45], [30,12,16], [42,17,56]] and perform the following operations:\n",
    "\n",
    "    Slice the 2D array to get the first two rows, slice the 2D array to get the last two rows.\n"
   ]
  },
  {
   "cell_type": "code",
   "execution_count": 7,
   "metadata": {},
   "outputs": [
    {
     "name": "stdout",
     "output_type": "stream",
     "text": [
      "[[10 20 45]\n",
      " [30 12 16]]\n",
      "[[30 12 16]\n",
      " [42 17 56]]\n"
     ]
    }
   ],
   "source": [
    "array_2D = np.array([[10,20,45], [30,12,16], [42,17,56]])\n",
    "\n",
    "firstTwoRows = array_2D[:2]\n",
    "lastTwoRows  = array_2D[-2:]\n",
    "\n",
    "print(firstTwoRows)\n",
    "print(lastTwoRows)\n"
   ]
  },
  {
   "cell_type": "markdown",
   "metadata": {},
   "source": [
    "Create two 2x2 arrays and demonstrate how you can stack the elements vertically, horizontally, and split the arrays into smaller arrays."
   ]
  },
  {
   "cell_type": "code",
   "execution_count": 8,
   "metadata": {},
   "outputs": [
    {
     "name": "stdout",
     "output_type": "stream",
     "text": [
      "[[10 20]\n",
      " [45 30]\n",
      " [12 16]\n",
      " [42 17]]\n",
      "[[10 20 12 16]\n",
      " [45 30 42 17]]\n",
      "[array([[10],\n",
      "       [45],\n",
      "       [12],\n",
      "       [42]]), array([[20],\n",
      "       [30],\n",
      "       [16],\n",
      "       [17]])]\n"
     ]
    }
   ],
   "source": [
    "array1 = np.array([[10, 20], [45, 30]])\n",
    "array2 = np.array([[12, 16], [42, 17]])\n",
    "\n",
    "# Stack the arrays vertically\n",
    "stack_vertically = np.vstack((array1, array2))\n",
    "print(stacked_vertically)\n",
    "\n",
    "# Stack the arrays horizontally\n",
    "stack_horizontally = np.hstack((array1, array2))\n",
    "print(stacked_horizontally)\n",
    "\n",
    "# Split the arrays into smaller arrays\n",
    "split_arrays = np.split(stacked_vertically, 2, axis=1)\n",
    "print(split_arrays)"
   ]
  },
  {
   "cell_type": "markdown",
   "metadata": {},
   "source": [
    "Create two matrices X= ([[5, 7, 2], [4, 5, 6], [7, 4 ,2]]) Y= ([[4, 2], [6, 2], [4, 2]]),\n",
    "\n",
    "    Is it possible to multiply these matrices?\n",
    "    Demonstrate the case when it is not possible to.\n"
   ]
  },
  {
   "cell_type": "code",
   "execution_count": 10,
   "metadata": {},
   "outputs": [
    {
     "name": "stdout",
     "output_type": "stream",
     "text": [
      "[[70 28]\n",
      " [70 30]\n",
      " [60 26]]\n"
     ]
    }
   ],
   "source": [
    "X = np.array([[5, 7, 2], [4, 5, 6], [7, 4, 2]])\n",
    "Y = np.array([[4, 2], [6, 2], [4, 2]])\n",
    "\n",
    "product = np.dot(X, Y)\n",
    "print(product)"
   ]
  },
  {
   "cell_type": "markdown",
   "metadata": {},
   "source": [
    "For the multiplication to not be possible it would mean that the number of columns in the first matrix was not equal to the number of rows in the second matrix. An example case would be:"
   ]
  },
  {
   "cell_type": "code",
   "execution_count": 13,
   "metadata": {},
   "outputs": [
    {
     "ename": "ValueError",
     "evalue": "setting an array element with a sequence. The requested array has an inhomogeneous shape after 1 dimensions. The detected shape was (2,) + inhomogeneous part.",
     "output_type": "error",
     "traceback": [
      "\u001b[1;31m---------------------------------------------------------------------------\u001b[0m",
      "\u001b[1;31mValueError\u001b[0m                                Traceback (most recent call last)",
      "\u001b[1;32mUntitled-1.ipynb Cell 14\u001b[0m line \u001b[0;36m1\n\u001b[1;32m----> <a href='vscode-notebook-cell:Untitled-1.ipynb?jupyter-notebook#X24sdW50aXRsZWQ%3D?line=0'>1</a>\u001b[0m X \u001b[39m=\u001b[39m np\u001b[39m.\u001b[39;49marray([[\u001b[39m5\u001b[39;49m, \u001b[39m7\u001b[39;49m, \u001b[39m2\u001b[39;49m], [\u001b[39m4\u001b[39;49m, \u001b[39m5\u001b[39;49m]])\n\u001b[0;32m      <a href='vscode-notebook-cell:Untitled-1.ipynb?jupyter-notebook#X24sdW50aXRsZWQ%3D?line=1'>2</a>\u001b[0m Y \u001b[39m=\u001b[39m np\u001b[39m.\u001b[39marray([[\u001b[39m4\u001b[39m, \u001b[39m2\u001b[39m], [\u001b[39m6\u001b[39m, \u001b[39m2\u001b[39m], [\u001b[39m4\u001b[39m, \u001b[39m2\u001b[39m]])\n\u001b[0;32m      <a href='vscode-notebook-cell:Untitled-1.ipynb?jupyter-notebook#X24sdW50aXRsZWQ%3D?line=3'>4</a>\u001b[0m product \u001b[39m=\u001b[39m np\u001b[39m.\u001b[39mdot(X, Y)\n",
      "\u001b[1;31mValueError\u001b[0m: setting an array element with a sequence. The requested array has an inhomogeneous shape after 1 dimensions. The detected shape was (2,) + inhomogeneous part."
     ]
    }
   ],
   "source": [
    "X = np.array([[5, 7, 2], [4, 5]])\n",
    "Y = np.array([[4, 2], [6, 2], [4, 2]])\n",
    "\n",
    "product = np.dot(X, Y)\n",
    "print(product)"
   ]
  },
  {
   "cell_type": "markdown",
   "metadata": {},
   "source": [
    "Create two arrays, x = ([2, -1, -8]) y = ([3, 1, -2]),\n",
    "\n",
    "    Find the Shape, Number of dimensions of vector x.\n",
    "    Reshape the vector x to a matrix of size (3,1) and determine the number of dimensions after reshaping y to a matrix of (3,1).\n"
   ]
  },
  {
   "cell_type": "code",
   "execution_count": 14,
   "metadata": {},
   "outputs": [
    {
     "name": "stdout",
     "output_type": "stream",
     "text": [
      "Shape of x:  (3,)\n",
      "Number of dimensions of x:  1\n"
     ]
    }
   ],
   "source": [
    "x = np.array([2, -1, -8])\n",
    "\n",
    "print(\"Shape of x: \", x.shape)\n",
    "print(\"Number of dimensions of x: \", x.ndim)"
   ]
  },
  {
   "cell_type": "code",
   "execution_count": 15,
   "metadata": {},
   "outputs": [
    {
     "name": "stdout",
     "output_type": "stream",
     "text": [
      "Shape of x_reshaped:  (3, 1)\n",
      "Number of dimensions of x_reshaped:  2\n"
     ]
    }
   ],
   "source": [
    "x_reshaped = x.reshape(3,1)\n",
    "\n",
    "print(\"Shape of x_reshaped: \", x_reshaped.shape)\n",
    "print(\"Number of dimensions of x_reshaped: \", x_reshaped.ndim)"
   ]
  },
  {
   "cell_type": "code",
   "execution_count": 17,
   "metadata": {},
   "outputs": [
    {
     "name": "stdout",
     "output_type": "stream",
     "text": [
      "Shape of y_reshaped:  (3, 1)\n",
      "Number of dimensions of y_reshaped:  2\n"
     ]
    }
   ],
   "source": [
    "y = np.array([3, 1, -2])\n",
    "y_reshaped = y.reshape(3,1)\n",
    "\n",
    "print(\"Shape of y_reshaped: \", y_reshaped.shape)\n",
    "print(\"Number of dimensions of y_reshaped: \", y_reshaped.ndim)"
   ]
  },
  {
   "cell_type": "markdown",
   "metadata": {},
   "source": [
    "How does broadcasting work? Demonstrate the subtraction, multiplication by considering a 3 x 3 matrix."
   ]
  },
  {
   "cell_type": "code",
   "execution_count": 20,
   "metadata": {},
   "outputs": [
    {
     "name": "stdout",
     "output_type": "stream",
     "text": [
      "[[-4 -3 -2]\n",
      " [-1  0  1]\n",
      " [ 2  3  4]]\n",
      "\n",
      " [ 4 10 18]\n"
     ]
    }
   ],
   "source": [
    "#scalar value 5 is broadcast across the entire matrix A.\n",
    "A = np.array([[1, 2, 3], [4, 5, 6], [7, 8, 9]])\n",
    "\n",
    "B = A - 5\n",
    "print(B)\n",
    "\n",
    "#1x3 matrix y is broadcast across the 3x1 matrix x.\n",
    "x = np.array([1, 2, 3])\n",
    "y = np.array([4, 5, 6])\n",
    "\n",
    "z = x * y\n",
    "print('\\n',z)\n",
    "\n"
   ]
  },
  {
   "cell_type": "markdown",
   "metadata": {},
   "source": [
    "Part B- Linear Equations\n",
    "\n",
    "Determine the singularity of the system of equations, comment on the expected solution of the system. Solve the system of equations if possible. Justify the reason why you believe the system can or cannot be solved using numpy functions."
   ]
  },
  {
   "cell_type": "markdown",
   "metadata": {},
   "source": [
    "Part B.1\n",
    "\n",
    "    4x + y - 2z = 10\n",
    "    2x - 3y + 2z = -4\n",
    "    x + 2y + 3z = 6\n"
   ]
  },
  {
   "cell_type": "code",
   "execution_count": 23,
   "metadata": {},
   "outputs": [
    {
     "name": "stdout",
     "output_type": "stream",
     "text": [
      "The solution of the system is: [ 1.8  2.4 -0.2]\n"
     ]
    }
   ],
   "source": [
    "A = np.array([[4, 1, -2],\n",
    "              [2, -3, 2],\n",
    "              [1, 2, 3]])\n",
    "\n",
    "# Define the matrix of constants\n",
    "b = np.array([10, -4, 6])\n",
    "\n",
    "det = np.linalg.det(A)\n",
    "\n",
    "# Check if the system is singular\n",
    "if det == 0:\n",
    "    print(\"The system is singular and has no unique solution.\")\n",
    "else:\n",
    "    # Calculate the solution using numpy.linalg.solve()\n",
    "    x = np.linalg.solve(A, b)\n",
    "    print(\"The solution of the system is:\", x)"
   ]
  },
  {
   "cell_type": "markdown",
   "metadata": {},
   "source": [
    "Part B.2\n",
    "\n",
    "    2x - y + 3z + 4w = 10\n",
    "    4x - 2y + 6z + 8w = 20\n",
    "    3x + y - 2z + 2w = 3\n",
    "    x + 3y - 4z + w = -1\n"
   ]
  },
  {
   "cell_type": "code",
   "execution_count": 24,
   "metadata": {},
   "outputs": [
    {
     "name": "stdout",
     "output_type": "stream",
     "text": [
      "The system is singular and has no unique solution.\n"
     ]
    }
   ],
   "source": [
    "A = np.array([[2, -1, 3, 4], [4, -2, 6, 8], [3, 1, -2, 2], [1, 3, -4, 1]])\n",
    "\n",
    "b = np.array([10, 20, 3, -1])\n",
    "\n",
    "det = np.linalg.det(A)\n",
    "\n",
    "# Check if the system is singular\n",
    "if det == 0:\n",
    "    print(\"The system is singular and has no unique solution.\")\n",
    "else:\n",
    "    # Calculate the solution using numpy.linalg.solve()\n",
    "    x = np.linalg.solve(A, b)\n",
    "    print(\"The solution of the system is:\", x)"
   ]
  }
 ],
 "metadata": {
  "kernelspec": {
   "display_name": "CSCN8010_classic_ml",
   "language": "python",
   "name": "cscn8010_classic_ml"
  },
  "language_info": {
   "codemirror_mode": {
    "name": "ipython",
    "version": 3
   },
   "file_extension": ".py",
   "mimetype": "text/x-python",
   "name": "python",
   "nbconvert_exporter": "python",
   "pygments_lexer": "ipython3",
   "version": "3.10.6"
  },
  "orig_nbformat": 4
 },
 "nbformat": 4,
 "nbformat_minor": 2
}
