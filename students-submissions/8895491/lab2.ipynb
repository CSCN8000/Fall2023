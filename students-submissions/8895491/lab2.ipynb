{
 "cells": [
  {
   "cell_type": "code",
   "execution_count": 2,
   "id": "4bee724d",
   "metadata": {},
   "outputs": [],
   "source": [
    "import pandas as pd\n",
    "from sklearn.model_selection import train_test_split\n",
    "from sklearn.feature_extraction.text import CountVectorizer"
   ]
  },
  {
   "cell_type": "code",
   "execution_count": 3,
   "id": "b53b7642",
   "metadata": {},
   "outputs": [],
   "source": [
    "# Load the dataset\n",
    "df = pd.read_csv(\"Lab2_dataset.csv\")"
   ]
  },
  {
   "cell_type": "code",
   "execution_count": 4,
   "id": "fcfa514e",
   "metadata": {},
   "outputs": [],
   "source": [
    "# Transform the \"text\" feature using CountVectorizer\n",
    "vectorizer = CountVectorizer(max_features=1000) # the size is arbitrary, adjust as needed\n",
    "X = vectorizer.fit_transform(df[\"text\"]).toarray()\n",
    "y = df[\"label\"]  # Assuming there's a column called \"label\""
   ]
  },
  {
   "cell_type": "code",
   "execution_count": 5,
   "id": "a55ba1be",
   "metadata": {},
   "outputs": [],
   "source": [
    "# Split the dataset into training and testing\n",
    "X_train, X_test, y_train, y_test = train_test_split(X, y, test_size=0.2, random_state=42)\n",
    "from sklearn.svm import SVC\n",
    "from sklearn.naive_bayes import GaussianNB, MultinomialNB\n",
    "from sklearn.metrics import accuracy_score"
   ]
  },
  {
   "cell_type": "code",
   "execution_count": 6,
   "id": "9344926c",
   "metadata": {},
   "outputs": [],
   "source": [
    "# Train the Sklearn SVC model\n",
    "svc_model = SVC()\n",
    "svc_model.fit(X_train, y_train)\n",
    "svc_pred = svc_model.predict(X_test)"
   ]
  },
  {
   "cell_type": "code",
   "execution_count": 7,
   "id": "20cb3ef5",
   "metadata": {},
   "outputs": [],
   "source": [
    "# Gaussian Naive Bayes\n",
    "gnb_model = GaussianNB()\n",
    "gnb_model.fit(X_train, y_train)\n",
    "gnb_pred = gnb_model.predict(X_test)"
   ]
  },
  {
   "cell_type": "code",
   "execution_count": 8,
   "id": "2548e990",
   "metadata": {},
   "outputs": [],
   "source": [
    "# Multinomial Naive Bayes\n",
    "mnb_model = MultinomialNB()\n",
    "mnb_model.fit(X_train, y_train)\n",
    "mnb_pred = mnb_model.predict(X_test)"
   ]
  },
  {
   "cell_type": "code",
   "execution_count": 9,
   "id": "75375838",
   "metadata": {},
   "outputs": [
    {
     "name": "stdout",
     "output_type": "stream",
     "text": [
      "SVC Accuracy: 0.9497584541062802\n",
      "GaussianNB Accuracy: 0.9420289855072463\n",
      "MultinomialNB Accuracy: 0.9342995169082126\n"
     ]
    }
   ],
   "source": [
    "# Evaluate Models\n",
    "print(f\"SVC Accuracy: {accuracy_score(y_test, svc_pred)}\")\n",
    "print(f\"GaussianNB Accuracy: {accuracy_score(y_test, gnb_pred)}\")\n",
    "print(f\"MultinomialNB Accuracy: {accuracy_score(y_test, mnb_pred)}\")\n"
   ]
  },
  {
   "cell_type": "code",
   "execution_count": 10,
   "id": "858a88f0",
   "metadata": {},
   "outputs": [],
   "source": [
    "import pandas as pd\n",
    "import numpy as np\n",
    "from scipy.stats import zscore"
   ]
  },
  {
   "cell_type": "code",
   "execution_count": 11,
   "id": "5d00777f",
   "metadata": {},
   "outputs": [],
   "source": [
    "# Load the dataset\n",
    "df = pd.read_csv(\"AB_NYC_2019.csv\")"
   ]
  },
  {
   "cell_type": "code",
   "execution_count": 12,
   "id": "a517fae4",
   "metadata": {},
   "outputs": [],
   "source": [
    "# Z-score approach for outlier removal\n",
    "z_scores = np.abs(zscore(df[\"price\"]))\n",
    "df_z = df[(z_scores < 3)]  # Threshold of 3 is typical but can be adjusted"
   ]
  },
  {
   "cell_type": "code",
   "execution_count": 13,
   "id": "f9814376",
   "metadata": {},
   "outputs": [],
   "source": [
    "# IQR (whiskers) approach for outlier removal\n",
    "Q1 = df[\"price\"].quantile(0.25)\n",
    "Q3 = df[\"price\"].quantile(0.75)\n",
    "IQR = Q3 - Q1\n",
    "lower_bound = Q1 - 1.5 * IQR\n",
    "upper_bound = Q3 + 1.5 * IQR\n",
    "df_iqr = df[(df[\"price\"] >= lower_bound) & (df[\"price\"] <= upper_bound)]"
   ]
  },
  {
   "cell_type": "code",
   "execution_count": 14,
   "id": "50b5b9e8",
   "metadata": {},
   "outputs": [
    {
     "name": "stdout",
     "output_type": "stream",
     "text": [
      "Original dataset length: 48895\n",
      "Dataset length after Z-score filtering: 48507\n",
      "Dataset length after IQR filtering: 45923\n"
     ]
    }
   ],
   "source": [
    "# Print out the results\n",
    "print(f\"Original dataset length: {len(df)}\")\n",
    "print(f\"Dataset length after Z-score filtering: {len(df_z)}\")\n",
    "print(f\"Dataset length after IQR filtering: {len(df_iqr)}\")"
   ]
  },
  {
   "cell_type": "code",
   "execution_count": 15,
   "id": "05f8ab0d",
   "metadata": {},
   "outputs": [],
   "source": [
    "# Save filtered dataframes to new CSV files (optional)\n",
    "df_z.to_csv(\"filtered_by_zscore.csv\", index=False)\n",
    "df_iqr.to_csv(\"filtered_by_iqr.csv\", index=False)\n"
   ]
  }
 ],
 "metadata": {
  "kernelspec": {
   "display_name": "cscn8010",
   "language": "python",
   "name": "python3"
  },
  "language_info": {
   "codemirror_mode": {
    "name": "ipython",
    "version": 3
   },
   "file_extension": ".py",
   "mimetype": "text/x-python",
   "name": "python",
   "nbconvert_exporter": "python",
   "pygments_lexer": "ipython3",
   "version": "3.11.5"
  }
 },
 "nbformat": 4,
 "nbformat_minor": 5
}
