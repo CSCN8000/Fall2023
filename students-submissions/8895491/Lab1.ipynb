{
 "cells": [
  {
   "cell_type": "code",
   "execution_count": 3,
   "metadata": {},
   "outputs": [
    {
     "name": "stdout",
     "output_type": "stream",
     "text": [
      "[1, 4, 7, 10, 13, 16, 19]\n"
     ]
    }
   ],
   "source": [
    "frarr = [x for x in range(1, 21, 3)]\n",
    "print(frarr)"
   ]
  },
  {
   "cell_type": "code",
   "execution_count": 4,
   "metadata": {},
   "outputs": [
    {
     "name": "stdout",
     "output_type": "stream",
     "text": [
      "[0.23720759 0.82191038 0.44346817]\n"
     ]
    }
   ],
   "source": [
    "import numpy as np\n",
    "\n",
    "# Create a random array with shape (3,) and values between 0 and 1\n",
    "secarr = np.random.rand(3)\n",
    "\n",
    "print(secarr)"
   ]
  },
  {
   "cell_type": "code",
   "execution_count": 5,
   "metadata": {},
   "outputs": [
    {
     "name": "stdout",
     "output_type": "stream",
     "text": [
      "First two rows:\n",
      "[[10 20 45]\n",
      " [30 12 16]]\n",
      "\n",
      "Last two rows:\n",
      "[[30 12 16]\n",
      " [42 17 56]]\n"
     ]
    }
   ],
   "source": [
    "import numpy as np\n",
    "\n",
    "# Create the 2D array\n",
    "thrdarr = np.array([[10, 20, 45], [30, 12, 16], [42, 17, 56]])\n",
    "\n",
    "# Slice to get the first two rows\n",
    "first_two_rows = thrdarr[:2]\n",
    "\n",
    "# Slice to get the last two rows\n",
    "last_two_rows = thrdarr[1:]\n",
    "\n",
    "# Print the results\n",
    "print(\"First two rows:\")\n",
    "print(first_two_rows)\n",
    "\n",
    "print(\"\\nLast two rows:\")\n",
    "print(last_two_rows)"
   ]
  },
  {
   "cell_type": "code",
   "execution_count": 6,
   "metadata": {},
   "outputs": [
    {
     "name": "stdout",
     "output_type": "stream",
     "text": [
      "Array 1:\n",
      "[[1 2]\n",
      " [3 4]]\n",
      "\n",
      "Array 2:\n",
      "[[5 6]\n",
      " [7 8]]\n",
      "\n",
      "Vertically Stacked:\n",
      "[[1 2]\n",
      " [3 4]\n",
      " [5 6]\n",
      " [7 8]]\n",
      "\n",
      "Horizontally Stacked:\n",
      "[[1 2 5 6]\n",
      " [3 4 7 8]]\n",
      "\n",
      "Split Vertically:\n",
      "[array([[1, 2],\n",
      "       [3, 4]]), array([[5, 6],\n",
      "       [7, 8]])]\n",
      "\n",
      "Split Horizontally:\n",
      "[array([[1, 2],\n",
      "       [3, 4]]), array([[5, 6],\n",
      "       [7, 8]])]\n"
     ]
    }
   ],
   "source": [
    "import numpy as np\n",
    "\n",
    "# Create two 2x2 arrays\n",
    "fotharr = np.array([[1, 2], [3, 4]])\n",
    "fitharr = np.array([[5, 6], [7, 8]])\n",
    "\n",
    "# Stack them vertically\n",
    "vertical_stack = np.vstack((fotharr, fitharr))\n",
    "\n",
    "# Stack them horizontally\n",
    "horizontal_stack = np.hstack((fotharr, fitharr))\n",
    "# Split the vertically stacked array into two smaller arrays\n",
    "split_vertical = np.split(vertical_stack, 2)\n",
    "\n",
    "# Split the horizontally stacked array into two smaller arrays\n",
    "split_horizontal = np.split(horizontal_stack, 2, axis=1)\n",
    "\n",
    "# Print the results\n",
    "print(\"Array 1:\")\n",
    "print(fotharr)\n",
    "\n",
    "print(\"\\nArray 2:\")\n",
    "print(fitharr)\n",
    "\n",
    "print(\"\\nVertically Stacked:\")\n",
    "print(vertical_stack)\n",
    "print(\"\\nHorizontally Stacked:\")\n",
    "print(horizontal_stack)\n",
    "print(\"\\nSplit Vertically:\")\n",
    "print(split_vertical)\n",
    "\n",
    "print(\"\\nSplit Horizontally:\")\n",
    "print(split_horizontal)\n"
   ]
  },
  {
   "cell_type": "code",
   "execution_count": 7,
   "metadata": {},
   "outputs": [
    {
     "name": "stdout",
     "output_type": "stream",
     "text": [
      "[[5 7 2]\n",
      " [4 5 6]\n",
      " [7 4 2]]\n",
      "\n",
      "Matrix Y:\n",
      "[[4 2]\n",
      " [6 2]\n",
      " [4 2]]\n",
      "\n",
      "Result of X * Y:\n",
      "[[70 28]\n",
      " [70 30]\n",
      " [60 26]]\n"
     ]
    }
   ],
   "source": [
    "import numpy as np\n",
    "\n",
    "# Define matrices X and Y\n",
    "X = np.array([[5, 7, 2], [4, 5, 6], [7, 4, 2]])\n",
    "Y = np.array([[4, 2], [6, 2], [4, 2]])\n",
    "\n",
    "# Try to multiply X and Y\n",
    "try:\n",
    "    result = np.dot(X, Y)\n",
    "except ValueError as e:\n",
    "    result = str(e)\n",
    "    print(\"Matrix X:\")\n",
    "print(X)\n",
    "\n",
    "print(\"\\nMatrix Y:\")\n",
    "print(Y)\n",
    "\n",
    "print(\"\\nResult of X * Y:\")\n",
    "print(result)"
   ]
  },
  {
   "cell_type": "code",
   "execution_count": 8,
   "metadata": {},
   "outputs": [
    {
     "name": "stdout",
     "output_type": "stream",
     "text": [
      "Vector x:\n",
      "Shape: (3,)\n",
      "Number of Dimensions: 1\n",
      "\n",
      "Reshaped Matrix x:\n",
      "[[ 2]\n",
      " [-1]\n",
      " [-8]]\n",
      "\n",
      "Reshaped Matrix y:\n",
      "[[ 3]\n",
      " [ 1]\n",
      " [-2]]\n",
      "Number of Dimensions after reshaping y: 2\n"
     ]
    }
   ],
   "source": [
    "import numpy as np\n",
    "\n",
    "# Create the arrays\n",
    "x = np.array([2, -1, -8])\n",
    "y = np.array([3, 1, -2])\n",
    "\n",
    "# Find the shape and number of dimensions of vector x\n",
    "x_shape = x.shape\n",
    "x_dimensions = x.ndim\n",
    "\n",
    "# Reshape vector x to a matrix of size (3, 1)\n",
    "x_reshaped = x.reshape(3, 1)\n",
    "\n",
    "# Reshape vector y to a matrix of size (3, 1) and determine the number of dimensions\n",
    "y_reshaped = y.reshape(3, 1)\n",
    "y_dimensions = y_reshaped.ndim\n",
    "\n",
    "# Print the results\n",
    "print(\"Vector x:\")\n",
    "print(\"Shape:\", x_shape)\n",
    "print(\"Number of Dimensions:\", x_dimensions)\n",
    "\n",
    "print(\"\\nReshaped Matrix x:\")\n",
    "print(x_reshaped)\n",
    "\n",
    "print(\"\\nReshaped Matrix y:\")\n",
    "print(y_reshaped)\n",
    "print(\"Number of Dimensions after reshaping y:\", y_dimensions)"
   ]
  },
  {
   "cell_type": "code",
   "execution_count": 9,
   "metadata": {},
   "outputs": [
    {
     "name": "stdout",
     "output_type": "stream",
     "text": [
      "Original Matrix:\n",
      "[[1 2 3]\n",
      " [4 5 6]\n",
      " [7 8 9]]\n",
      "\n",
      "Subtracted Matrix (matrix - 5):\n",
      "[[-4 -3 -2]\n",
      " [-1  0  1]\n",
      " [ 2  3  4]]\n",
      "\n",
      "Multiplied Matrix (matrix * 2):\n",
      "[[ 2  4  6]\n",
      " [ 8 10 12]\n",
      " [14 16 18]]\n"
     ]
    }
   ],
   "source": [
    "import numpy as np\n",
    "\n",
    "# Create a 3x3 matrix\n",
    "matrix = np.array([[1, 2, 3], [4, 5, 6], [7, 8, 9]])\n",
    "\n",
    "# Subtract a scalar (5) from the matrix using broadcasting\n",
    "subtracted_matrix = matrix - 5\n",
    "# Multiply the matrix by a scalar (2) using broadcasting\n",
    "multiplied_matrix = matrix * 2\n",
    "\n",
    "# Print the original matrix and the results of subtraction and multiplication\n",
    "print(\"Original Matrix:\")\n",
    "print(matrix)\n",
    "\n",
    "print(\"\\nSubtracted Matrix (matrix - 5):\")\n",
    "print(subtracted_matrix)\n",
    "\n",
    "print(\"\\nMultiplied Matrix (matrix * 2):\")\n",
    "print(multiplied_matrix)"
   ]
  }
 ],
 "metadata": {
  "kernelspec": {
   "display_name": "Python 3",
   "language": "python",
   "name": "python3"
  },
  "language_info": {
   "codemirror_mode": {
    "name": "ipython",
    "version": 3
   },
   "file_extension": ".py",
   "mimetype": "text/x-python",
   "name": "python",
   "nbconvert_exporter": "python",
   "pygments_lexer": "ipython3",
   "version": "3.11.5"
  },
  "orig_nbformat": 4
 },
 "nbformat": 4,
 "nbformat_minor": 2
}
