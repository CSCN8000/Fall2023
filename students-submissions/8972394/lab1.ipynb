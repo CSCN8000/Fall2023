{
 "cells": [
  {
   "cell_type": "markdown",
   "metadata": {},
   "source": [
    "Troy Mazerolle\n",
    "\n",
    "Student Number: 8972394\n",
    "\n",
    "# Lab 1 – Basic NumPy Operations"
   ]
  },
  {
   "cell_type": "code",
   "execution_count": 120,
   "metadata": {},
   "outputs": [],
   "source": [
    "import numpy as np"
   ]
  },
  {
   "cell_type": "markdown",
   "metadata": {},
   "source": [
    "## Part A - Create a Notebook to demonstrate NumPy Operations"
   ]
  },
  {
   "cell_type": "markdown",
   "metadata": {},
   "source": [
    "1. Create an array that starts from the integer 1, ends at 20, incremented by 3.\n",
    "\n",
    "Array sequences can be generated using the numpy.arange() method, with the first argument being the number the array starts at, the second argument being the largest value that the elements of the array can be without going over, and the third argument being the incremental value that the next element of the array increases by."
   ]
  },
  {
   "cell_type": "code",
   "execution_count": 121,
   "metadata": {},
   "outputs": [
    {
     "name": "stdout",
     "output_type": "stream",
     "text": [
      "Array of integers between 1 and 20 incrementing by 3:\n",
      "[ 1  4  7 10 13 16 19]\n"
     ]
    }
   ],
   "source": [
    "arrayOfInts = np.arange(1, 20, 3)\n",
    "print(\"Array of integers between 1 and 20 incrementing by 3:\")\n",
    "print(arrayOfInts)"
   ]
  },
  {
   "cell_type": "markdown",
   "metadata": {},
   "source": [
    "2. Create a new array of shape 3 with random numbers between 0 and 1.\n",
    "\n",
    "Random numbers can be generated using the numpy.random.rand(n) method.  The method will produce an array of size n of values between 0 and 1."
   ]
  },
  {
   "cell_type": "code",
   "execution_count": 122,
   "metadata": {},
   "outputs": [
    {
     "name": "stdout",
     "output_type": "stream",
     "text": [
      "Array of three random numbers between 0 and 1:\n",
      "[0.99531167 0.59284959 0.32669403]\n"
     ]
    }
   ],
   "source": [
    "randomArray = np.random.rand(3)\n",
    "print(\"Array of three random numbers between 0 and 1:\")\n",
    "print(randomArray)"
   ]
  },
  {
   "cell_type": "markdown",
   "metadata": {},
   "source": [
    "3. Create a 2 D array [[10,20,45], [30,12,16], [42,17,56]] and perform the following operations:\n",
    "   * Slice the 2D array to get the first two rows, slice the 2D array to get the last two rows.\n",
    "\n",
    "nd-arrays can be sliced by adding [m:n, p:q] to the end of the array, where m:n are the start and endpoints of the rows you want to slice and p:q are the start and endpoints of the columns you want to slice.  As seen below, a shorthand can be used by leaving a number blank, which the interpreter will read as starting from the first element or ending at the last element, depending on which position is left blank."
   ]
  },
  {
   "cell_type": "code",
   "execution_count": 123,
   "metadata": {},
   "outputs": [
    {
     "name": "stdout",
     "output_type": "stream",
     "text": [
      "Original Array:\n",
      "[[10 20 45]\n",
      " [30 12 16]\n",
      " [42 17 56]]\n",
      "\n",
      "First Two Rows:\n",
      "[[10 20 45]\n",
      " [30 12 16]]\n",
      "\n",
      "Last Two Rows:\n",
      "[[30 12 16]\n",
      " [42 17 56]]\n"
     ]
    }
   ],
   "source": [
    "ndArray1 = np.array([[10,20,45], [30,12,16], [42,17,56]])\n",
    "\n",
    "print(\"Original Array:\")\n",
    "print(ndArray1)\n",
    "print()\n",
    "print(\"First Two Rows:\")\n",
    "print(ndArray1[:2,])\n",
    "print()\n",
    "print(\"Last Two Rows:\")\n",
    "print(ndArray1[1:,])"
   ]
  },
  {
   "cell_type": "markdown",
   "metadata": {},
   "source": [
    "4. Create two 2x2 arrays and demonstrate how you can stack the elements vertically, horizontally, and split the arrays into smaller arrays.\n",
    "\n",
    "Matricies in Python can be stacked vertically or horizontally by using the numpy.vstack(M1, M2) and numpy.hstack(M1, M2) methods respectively.  If M1 and M2 are both 2x2 matricies:\n",
    "* numpy.vstack(M1, M2) will stack the matricies vertically with M1 on the top and M2 on the bottom to produce a 4x2 matrix.\n",
    "* numpy.hstack(M1, M2) will stack the matricies horizontally with M1 on the left and M2 on the right to produce a 2x4 matrix."
   ]
  },
  {
   "cell_type": "code",
   "execution_count": 124,
   "metadata": {},
   "outputs": [
    {
     "name": "stdout",
     "output_type": "stream",
     "text": [
      "Array 1:\n",
      "[[1 2]\n",
      " [3 4]]\n",
      "\n",
      "Array 2:\n",
      "[[5 6]\n",
      " [7 8]]\n",
      "\n",
      "Vertical Stack:\n",
      "[[1 2]\n",
      " [3 4]\n",
      " [5 6]\n",
      " [7 8]]\n",
      "\n",
      "Horizontal Stack:\n",
      "[[1 2 5 6]\n",
      " [3 4 7 8]]\n"
     ]
    }
   ],
   "source": [
    "array1234 = np.array([[1,2],\n",
    "                      [3,4]])\n",
    "array5678 = np.array([[5,6],\n",
    "                      [7,8]])\n",
    "vertArray = np.vstack([array1234, array5678])\n",
    "horArray = np.hstack([array1234, array5678])\n",
    "print(\"Array 1:\")\n",
    "print(array1234)\n",
    "print()\n",
    "print(\"Array 2:\")\n",
    "print(array5678)\n",
    "print()\n",
    "print(\"Vertical Stack:\")\n",
    "print(vertArray)\n",
    "print()\n",
    "print(\"Horizontal Stack:\")\n",
    "print(horArray)\n"
   ]
  },
  {
   "cell_type": "markdown",
   "metadata": {},
   "source": [
    "5. Create two matrices X= ([[5, 7, 2], [4, 5, 6], [7, 4 ,2]]) Y= ([[4, 2], [6, 2], [4, 2]]),\n",
    "   * Is it possible to multiply these matrices?\n",
    "   * Demonstrate the case when it is not possible to.\n",
    "\n",
    "Two matricies with (n,m) dimensions and (p,q) dimensions respectively can be multiplied when m = p to produce an n,q dimension matrix.  Since matrix X is 3x3 and matrix Y is 3x2, they can be multiplied to make a 3x2 matrix."
   ]
  },
  {
   "cell_type": "code",
   "execution_count": 125,
   "metadata": {},
   "outputs": [
    {
     "name": "stdout",
     "output_type": "stream",
     "text": [
      "Matrix X (3x3):\n",
      "[[5 7 2]\n",
      " [4 5 6]\n",
      " [7 4 2]]\n",
      "\n",
      "Matrix Y (3x2):\n",
      "[[4 2]\n",
      " [6 2]\n",
      " [4 2]]\n",
      "\n",
      "Matrix X*Y (3x2):\n",
      "[[70 28]\n",
      " [70 30]\n",
      " [60 26]]\n"
     ]
    }
   ],
   "source": [
    "X = np.matrix([[5, 7, 2], [4, 5, 6], [7, 4 ,2]])\n",
    "Y = np.matrix([[4, 2], [6, 2], [4, 2]])\n",
    "\n",
    "print(\"Matrix X (3x3):\")\n",
    "print(X)\n",
    "print()\n",
    "print(\"Matrix Y (3x2):\")\n",
    "print(Y)\n",
    "print()\n",
    "print(\"Matrix X*Y (3x2):\")\n",
    "try:\n",
    "    print(X @ Y)\n",
    "except ValueError:\n",
    "    print(\"ERROR: the columns in X and the rows in Y must have equal length!\")"
   ]
  },
  {
   "cell_type": "markdown",
   "metadata": {},
   "source": [
    "Two matricies cannot be multiplied together when $m \\ne p$.  To demonstrate this, we will reduce Y to be a 2x2 matrix and try multiplying X by Y."
   ]
  },
  {
   "cell_type": "code",
   "execution_count": 126,
   "metadata": {},
   "outputs": [
    {
     "name": "stdout",
     "output_type": "stream",
     "text": [
      "Matrix X (3x3):\n",
      "[[5 7 2]\n",
      " [4 5 6]\n",
      " [7 4 2]]\n",
      "\n",
      "Matrix Y (2x2):\n",
      "[[4 2]\n",
      " [6 2]]\n",
      "\n",
      "Matrix X*Y (Should Fail):\n",
      "ERROR: the columns in X and the rows in Y must have equal length!\n"
     ]
    }
   ],
   "source": [
    "Y = Y[:2,]\n",
    "\n",
    "print(\"Matrix X (3x3):\")\n",
    "print(X)\n",
    "print()\n",
    "print(\"Matrix Y (2x2):\")\n",
    "print(Y)\n",
    "print()\n",
    "print(\"Matrix X*Y (Should Fail):\")\n",
    "try:\n",
    "    print(X @ Y)\n",
    "except ValueError:\n",
    "    print(\"ERROR: the columns in X and the rows in Y must have equal length!\")\n"
   ]
  },
  {
   "cell_type": "markdown",
   "metadata": {},
   "source": [
    "6. Create two arrays, x = ([2, -1, -8]) y = ([3, 1, -2]),\n",
    "   * Find the Shape, Number of dimensions of vector x.\n",
    "   * Reshape the vector x to a matrix of size (3,1) and determine the number of dimensions after reshaping y to a matrix of (3,1).\n",
    "\n",
    "The shape and dimensions of a matrix can be found using the .shape() and .ndim() methods.  To alter the shape of a matrix, we can use numpy.reshape(m, n).  Note that in order for the matrix to be reshaped, the total number of elements in the matrix must be equal to m * n."
   ]
  },
  {
   "cell_type": "code",
   "execution_count": 127,
   "metadata": {},
   "outputs": [
    {
     "name": "stdout",
     "output_type": "stream",
     "text": [
      "Attributes of x:\n",
      "[ 2 -1 -8]\n",
      "Shape:  (3,)\n",
      "Number of Dimensions:  1\n",
      "\n",
      "x Reshaped:\n",
      "[[ 2]\n",
      " [-1]\n",
      " [-8]]\n",
      "\n",
      "Attributes of y Reshaped:\n",
      "[[ 3]\n",
      " [ 1]\n",
      " [-2]]\n",
      "Shape:  (3, 1)\n",
      "Number of Dimensions:  2\n"
     ]
    }
   ],
   "source": [
    "x = np.array([2, -1, -8]) \n",
    "y = np.array([3, 1, -2])\n",
    "\n",
    "print(\"Attributes of x:\")\n",
    "print(x)\n",
    "print(\"Shape: \", x.shape)\n",
    "print(\"Number of Dimensions: \", x.ndim)\n",
    "print()\n",
    "print(\"x Reshaped:\")\n",
    "print(np.reshape(x, (3,1)))\n",
    "print()\n",
    "\n",
    "yNew = np.reshape(y, (3,1))\n",
    "print(\"Attributes of y Reshaped:\")\n",
    "print(yNew)\n",
    "print(\"Shape: \", yNew.shape)\n",
    "print(\"Number of Dimensions: \", yNew.ndim)"
   ]
  },
  {
   "cell_type": "markdown",
   "metadata": {},
   "source": [
    "7. How does broadcasting work? Demonstrate the subtraction, multiplication by considering a 3 x 3 matrix.\n",
    "\n",
    "Broadcasting is how NumPy handles operations between nd-arrays of different dimentions.  As shown below, if two arrays share an equal amount of rows and/or columns, then certain operations can be performed on them to produce new arrays.\n",
    "\n",
    "For example, a 3x3 matrix of ones multiplied by 2 will result in all elements being multiplied by two.  Similarly, a 3x3 matrix of ones subtracted by 2 will result in all elements being subtracted by 2.\n",
    "\n"
   ]
  },
  {
   "cell_type": "code",
   "execution_count": 128,
   "metadata": {},
   "outputs": [
    {
     "name": "stdout",
     "output_type": "stream",
     "text": [
      "Original Matrix:\n",
      "[[1 1 1]\n",
      " [1 1 1]\n",
      " [1 1 1]]\n",
      "\n",
      "Multiplied by 2:\n",
      "[[2 2 2]\n",
      " [2 2 2]\n",
      " [2 2 2]]\n",
      "\n",
      "Subtracted by 2:\n",
      "[[-1 -1 -1]\n",
      " [-1 -1 -1]\n",
      " [-1 -1 -1]]\n"
     ]
    }
   ],
   "source": [
    "broadMatrix = np.array([[1,1,1],\n",
    "                         [1,1,1],\n",
    "                         [1,1,1]])\n",
    "\n",
    "print(\"Original Matrix:\")\n",
    "print(broadMatrix)\n",
    "print()\n",
    "print(\"Multiplied by 2:\")\n",
    "print(broadMatrix * 2)\n",
    "print()\n",
    "print(\"Subtracted by 2:\")\n",
    "print(broadMatrix - 2)"
   ]
  },
  {
   "cell_type": "markdown",
   "metadata": {},
   "source": [
    "Broadcasting can also apply to matricies and column/row vectors.  If a matrix is multiplied or subtracted by a row vector, each row of the matrix will be multiplied or subtracted by the row vector, with each element of the matrix row corresponding to each element in the row vector.  The same concept applies to column vectors."
   ]
  },
  {
   "cell_type": "code",
   "execution_count": 129,
   "metadata": {},
   "outputs": [
    {
     "name": "stdout",
     "output_type": "stream",
     "text": [
      "Original Matrix:\n",
      "[[1 1 1]\n",
      " [1 1 1]\n",
      " [1 1 1]]\n",
      "\n",
      "Rows Multiplied by [1,2,3]:\n",
      "[[1 2 3]\n",
      " [1 2 3]\n",
      " [1 2 3]]\n",
      "\n",
      "Rows Subtracted by [1,2,3]:\n",
      "[[ 0 -1 -2]\n",
      " [ 0 -1 -2]\n",
      " [ 0 -1 -2]]\n",
      "\n",
      "Columns Multiplied by [[1],[2],[3]]:\n",
      "[[1 1 1]\n",
      " [2 2 2]\n",
      " [3 3 3]]\n",
      "\n",
      "Columns Subtracted by [[1],[2],[3]]:\n",
      "[[ 0  0  0]\n",
      " [-1 -1 -1]\n",
      " [-2 -2 -2]]\n"
     ]
    }
   ],
   "source": [
    "rowVector = np.array([1,2,3])\n",
    "colvector = rowVector.reshape(3,1)\n",
    "\n",
    "print(\"Original Matrix:\")\n",
    "print(broadMatrix)\n",
    "print()\n",
    "print(\"Rows Multiplied by [1,2,3]:\")\n",
    "print(broadMatrix * rowVector)\n",
    "print()\n",
    "print(\"Rows Subtracted by [1,2,3]:\")\n",
    "print(broadMatrix - rowVector)\n",
    "print()\n",
    "print(\"Columns Multiplied by [[1],[2],[3]]:\")\n",
    "print(broadMatrix * colvector)\n",
    "print()\n",
    "print(\"Columns Subtracted by [[1],[2],[3]]:\")\n",
    "print(broadMatrix - colvector)\n"
   ]
  },
  {
   "cell_type": "markdown",
   "metadata": {},
   "source": [
    "Lastly, broadcasting can apply to arrays of equal rows and columns.  In this case, each element in the first array will be multiplied or subtracted to the corresponding element in the other array."
   ]
  },
  {
   "cell_type": "code",
   "execution_count": 130,
   "metadata": {},
   "outputs": [
    {
     "name": "stdout",
     "output_type": "stream",
     "text": [
      "Original Matrix:\n",
      "[[1 1 1]\n",
      " [1 1 1]\n",
      " [1 1 1]]\n",
      "\n",
      "Multiplied by [[2,2,2],[2,2,2],[2,2,2]]:\n",
      "[[2 2 2]\n",
      " [2 2 2]\n",
      " [2 2 2]]\n",
      "\n",
      "Subtracted by by [[2,2,2],[2,2,2],[2,2,2]]:\n",
      "[[-1 -1 -1]\n",
      " [-1 -1 -1]\n",
      " [-1 -1 -1]]\n"
     ]
    }
   ],
   "source": [
    "broadMatrix2 = np.array([[2,2,2],\n",
    "                         [2,2,2],\n",
    "                         [2,2,2]])\n",
    "\n",
    "print(\"Original Matrix:\")\n",
    "print(broadMatrix)\n",
    "print()\n",
    "print(\"Multiplied by [[2,2,2],[2,2,2],[2,2,2]]:\")\n",
    "print(broadMatrix * broadMatrix2)\n",
    "print()\n",
    "print(\"Subtracted by by [[2,2,2],[2,2,2],[2,2,2]]:\")\n",
    "print(broadMatrix - broadMatrix2)"
   ]
  },
  {
   "cell_type": "markdown",
   "metadata": {},
   "source": [
    "## Part B: Linear Equations"
   ]
  },
  {
   "cell_type": "markdown",
   "metadata": {},
   "source": [
    "### Part B.1\n",
    "Since the system will make a 3x3 matrix and each equation does not appear to be a linear combination of the others, I expect the system to be non-singular with a unique solution."
   ]
  },
  {
   "cell_type": "code",
   "execution_count": 131,
   "metadata": {},
   "outputs": [
    {
     "name": "stdout",
     "output_type": "stream",
     "text": [
      "[x, y, z] =  [ 1.8  2.4 -0.2]\n"
     ]
    }
   ],
   "source": [
    "coefMatrixB1 = np.matrix([[4,  1, -2],\n",
    "                          [2, -3,  2],\n",
    "                          [1,  2,  3]])\n",
    "depVarsB1 = np.array([10, -4, 6])\n",
    "try:\n",
    "    solutionB1 = np.linalg.solve(coefMatrixB1, depVarsB1)\n",
    "    print(\"[x, y, z] = \", solutionB1)\n",
    "except:\n",
    "    print(\"The system cannot be solved with numpy functions\")"
   ]
  },
  {
   "cell_type": "markdown",
   "metadata": {},
   "source": [
    "### Part B.2\n",
    "Looking at the first two equations, I can see that the second equation is simply two times the first equation.  This will make the system singular, and thus this system is not solvable using numpy functions."
   ]
  },
  {
   "cell_type": "code",
   "execution_count": 132,
   "metadata": {},
   "outputs": [
    {
     "name": "stdout",
     "output_type": "stream",
     "text": [
      "The system cannot be solved with numpy functions\n"
     ]
    }
   ],
   "source": [
    "coefMatrixB2 = np.matrix([[2, -1,  3, 4],\n",
    "                          [4, -2,  6, 8],\n",
    "                          [3,  1, -2, 2],\n",
    "                          [1,  3, -4, 1]])\n",
    "depVarsB2 = np.array([10, 20, 3, -1])\n",
    "try:\n",
    "    solutionB2 = np.linalg.solve(coefMatrixB2, depVarsB2)\n",
    "    print(\"[x, y, z, w] = \", solutionB2)\n",
    "except:\n",
    "    print(\"The system cannot be solved with numpy functions\")"
   ]
  },
  {
   "cell_type": "markdown",
   "metadata": {},
   "source": [
    "It is worth noting that we can check whether these matricies are solvable using determinants.  If the determinant of a matrix is 0, then the system does not have a unique solution.  Otherwise, a unique solution should exist.  So we should expect the determinant of part B.1 to be non-zero, and the determinant of B.2 to be 0."
   ]
  },
  {
   "cell_type": "code",
   "execution_count": 133,
   "metadata": {},
   "outputs": [
    {
     "name": "stdout",
     "output_type": "stream",
     "text": [
      "Determinant of matrix B.1:\n",
      "-70.00000000000003\n",
      "\n",
      "Determinant of matrix B.2:\n",
      "0.0\n"
     ]
    }
   ],
   "source": [
    "print(\"Determinant of matrix B.1:\")\n",
    "print(np.linalg.det(coefMatrixB1))\n",
    "print()\n",
    "print(\"Determinant of matrix B.2:\")\n",
    "print(np.linalg.det(coefMatrixB2))"
   ]
  }
 ],
 "metadata": {
  "kernelspec": {
   "display_name": "base",
   "language": "python",
   "name": "python3"
  },
  "language_info": {
   "codemirror_mode": {
    "name": "ipython",
    "version": 3
   },
   "file_extension": ".py",
   "mimetype": "text/x-python",
   "name": "python",
   "nbconvert_exporter": "python",
   "pygments_lexer": "ipython3",
   "version": "3.11.5"
  },
  "orig_nbformat": 4
 },
 "nbformat": 4,
 "nbformat_minor": 2
}
