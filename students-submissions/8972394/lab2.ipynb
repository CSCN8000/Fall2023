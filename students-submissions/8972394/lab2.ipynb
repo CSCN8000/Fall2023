{
 "cells": [
  {
   "cell_type": "markdown",
   "metadata": {},
   "source": [
    "Troy Mazerolle\n",
    "\n",
    "Student Number: 8972394\n",
    "\n",
    "# Lab 2 - Probability and Statistics"
   ]
  },
  {
   "cell_type": "code",
   "execution_count": 2,
   "metadata": {},
   "outputs": [],
   "source": [
    "# Uitility Libraries\n",
    "import numpy as np\n",
    "import pandas as pd\n",
    "\n",
    "# Plotting Libraries\n",
    "import matplotlib.pyplot as plt\n",
    "\n",
    "# Sci-Kit Learn\n",
    "from sklearn.feature_extraction.text import CountVectorizer\n",
    "from sklearn.model_selection import train_test_split, GridSearchCV\n",
    "from sklearn.naive_bayes import GaussianNB, MultinomialNB\n",
    "from sklearn.metrics import confusion_matrix, ConfusionMatrixDisplay\n",
    "from sklearn import svm"
   ]
  },
  {
   "cell_type": "markdown",
   "metadata": {},
   "source": [
    "## Part A\n",
    "\n",
    "Preprocessing\n",
    "* Load the dataset"
   ]
  },
  {
   "cell_type": "code",
   "execution_count": 2,
   "metadata": {},
   "outputs": [
    {
     "data": {
      "text/html": [
       "<div>\n",
       "<style scoped>\n",
       "    .dataframe tbody tr th:only-of-type {\n",
       "        vertical-align: middle;\n",
       "    }\n",
       "\n",
       "    .dataframe tbody tr th {\n",
       "        vertical-align: top;\n",
       "    }\n",
       "\n",
       "    .dataframe thead th {\n",
       "        text-align: right;\n",
       "    }\n",
       "</style>\n",
       "<table border=\"1\" class=\"dataframe\">\n",
       "  <thead>\n",
       "    <tr style=\"text-align: right;\">\n",
       "      <th></th>\n",
       "      <th>Unnamed: 0</th>\n",
       "      <th>label</th>\n",
       "      <th>text</th>\n",
       "      <th>label_num</th>\n",
       "    </tr>\n",
       "  </thead>\n",
       "  <tbody>\n",
       "    <tr>\n",
       "      <th>0</th>\n",
       "      <td>605</td>\n",
       "      <td>ham</td>\n",
       "      <td>Subject: enron methanol ; meter # : 988291\\r\\n...</td>\n",
       "      <td>0</td>\n",
       "    </tr>\n",
       "    <tr>\n",
       "      <th>1</th>\n",
       "      <td>2349</td>\n",
       "      <td>ham</td>\n",
       "      <td>Subject: hpl nom for january 9 , 2001\\r\\n( see...</td>\n",
       "      <td>0</td>\n",
       "    </tr>\n",
       "    <tr>\n",
       "      <th>2</th>\n",
       "      <td>3624</td>\n",
       "      <td>ham</td>\n",
       "      <td>Subject: neon retreat\\r\\nho ho ho , we ' re ar...</td>\n",
       "      <td>0</td>\n",
       "    </tr>\n",
       "    <tr>\n",
       "      <th>3</th>\n",
       "      <td>4685</td>\n",
       "      <td>spam</td>\n",
       "      <td>Subject: photoshop , windows , office . cheap ...</td>\n",
       "      <td>1</td>\n",
       "    </tr>\n",
       "    <tr>\n",
       "      <th>4</th>\n",
       "      <td>2030</td>\n",
       "      <td>ham</td>\n",
       "      <td>Subject: re : indian springs\\r\\nthis deal is t...</td>\n",
       "      <td>0</td>\n",
       "    </tr>\n",
       "  </tbody>\n",
       "</table>\n",
       "</div>"
      ],
      "text/plain": [
       "   Unnamed: 0 label                                               text   \n",
       "0         605   ham  Subject: enron methanol ; meter # : 988291\\r\\n...  \\\n",
       "1        2349   ham  Subject: hpl nom for january 9 , 2001\\r\\n( see...   \n",
       "2        3624   ham  Subject: neon retreat\\r\\nho ho ho , we ' re ar...   \n",
       "3        4685  spam  Subject: photoshop , windows , office . cheap ...   \n",
       "4        2030   ham  Subject: re : indian springs\\r\\nthis deal is t...   \n",
       "\n",
       "   label_num  \n",
       "0          0  \n",
       "1          0  \n",
       "2          0  \n",
       "3          1  \n",
       "4          0  "
      ]
     },
     "execution_count": 2,
     "metadata": {},
     "output_type": "execute_result"
    }
   ],
   "source": [
    "lab2Data = pd.read_csv(\"../../practical_labs/datasets/Lab_2/Lab2_dataset.csv\")\n",
    "lab2Data.head()"
   ]
  },
  {
   "cell_type": "markdown",
   "metadata": {},
   "source": [
    "Use the CountVectorizer function in sklearn to transform the \"text\" feature to a vector representation of a predetermined size.\n",
    "\n",
    "* The CountVectorizer() function creates an m by n matrix, where m is the amount of rows in the original data set and n is the total number of unique words observed in the `text` column in the original data.  The matrix rows contains the count of each word represented by the corresponding column.\n",
    "\n",
    "To visualize this, we will get the vectorized data, and convert the data into a dataframe with the corresponding column names.  "
   ]
  },
  {
   "cell_type": "code",
   "execution_count": 3,
   "metadata": {},
   "outputs": [
    {
     "data": {
      "text/html": [
       "<div>\n",
       "<style scoped>\n",
       "    .dataframe tbody tr th:only-of-type {\n",
       "        vertical-align: middle;\n",
       "    }\n",
       "\n",
       "    .dataframe tbody tr th {\n",
       "        vertical-align: top;\n",
       "    }\n",
       "\n",
       "    .dataframe thead th {\n",
       "        text-align: right;\n",
       "    }\n",
       "</style>\n",
       "<table border=\"1\" class=\"dataframe\">\n",
       "  <thead>\n",
       "    <tr style=\"text-align: right;\">\n",
       "      <th></th>\n",
       "      <th>00</th>\n",
       "      <th>000</th>\n",
       "      <th>0000</th>\n",
       "      <th>000000</th>\n",
       "      <th>000000000002858</th>\n",
       "      <th>000000000049773</th>\n",
       "      <th>000080</th>\n",
       "      <th>000099</th>\n",
       "      <th>0001</th>\n",
       "      <th>00018</th>\n",
       "      <th>...</th>\n",
       "      <th>zynve</th>\n",
       "      <th>zyqtaqlt</th>\n",
       "      <th>zyrtec</th>\n",
       "      <th>zyyqywp</th>\n",
       "      <th>zzezrjok</th>\n",
       "      <th>zzn</th>\n",
       "      <th>zzo</th>\n",
       "      <th>zzocb</th>\n",
       "      <th>zzso</th>\n",
       "      <th>zzsyt</th>\n",
       "    </tr>\n",
       "  </thead>\n",
       "  <tbody>\n",
       "    <tr>\n",
       "      <th>0</th>\n",
       "      <td>1</td>\n",
       "      <td>0</td>\n",
       "      <td>0</td>\n",
       "      <td>0</td>\n",
       "      <td>0</td>\n",
       "      <td>0</td>\n",
       "      <td>0</td>\n",
       "      <td>0</td>\n",
       "      <td>0</td>\n",
       "      <td>0</td>\n",
       "      <td>...</td>\n",
       "      <td>0</td>\n",
       "      <td>0</td>\n",
       "      <td>0</td>\n",
       "      <td>0</td>\n",
       "      <td>0</td>\n",
       "      <td>0</td>\n",
       "      <td>0</td>\n",
       "      <td>0</td>\n",
       "      <td>0</td>\n",
       "      <td>0</td>\n",
       "    </tr>\n",
       "    <tr>\n",
       "      <th>1</th>\n",
       "      <td>0</td>\n",
       "      <td>0</td>\n",
       "      <td>0</td>\n",
       "      <td>0</td>\n",
       "      <td>0</td>\n",
       "      <td>0</td>\n",
       "      <td>0</td>\n",
       "      <td>0</td>\n",
       "      <td>0</td>\n",
       "      <td>0</td>\n",
       "      <td>...</td>\n",
       "      <td>0</td>\n",
       "      <td>0</td>\n",
       "      <td>0</td>\n",
       "      <td>0</td>\n",
       "      <td>0</td>\n",
       "      <td>0</td>\n",
       "      <td>0</td>\n",
       "      <td>0</td>\n",
       "      <td>0</td>\n",
       "      <td>0</td>\n",
       "    </tr>\n",
       "    <tr>\n",
       "      <th>2</th>\n",
       "      <td>0</td>\n",
       "      <td>0</td>\n",
       "      <td>0</td>\n",
       "      <td>0</td>\n",
       "      <td>0</td>\n",
       "      <td>0</td>\n",
       "      <td>0</td>\n",
       "      <td>0</td>\n",
       "      <td>0</td>\n",
       "      <td>0</td>\n",
       "      <td>...</td>\n",
       "      <td>0</td>\n",
       "      <td>0</td>\n",
       "      <td>0</td>\n",
       "      <td>0</td>\n",
       "      <td>0</td>\n",
       "      <td>0</td>\n",
       "      <td>0</td>\n",
       "      <td>0</td>\n",
       "      <td>0</td>\n",
       "      <td>0</td>\n",
       "    </tr>\n",
       "    <tr>\n",
       "      <th>3</th>\n",
       "      <td>0</td>\n",
       "      <td>0</td>\n",
       "      <td>0</td>\n",
       "      <td>0</td>\n",
       "      <td>0</td>\n",
       "      <td>0</td>\n",
       "      <td>0</td>\n",
       "      <td>0</td>\n",
       "      <td>0</td>\n",
       "      <td>0</td>\n",
       "      <td>...</td>\n",
       "      <td>0</td>\n",
       "      <td>0</td>\n",
       "      <td>0</td>\n",
       "      <td>0</td>\n",
       "      <td>0</td>\n",
       "      <td>0</td>\n",
       "      <td>0</td>\n",
       "      <td>0</td>\n",
       "      <td>0</td>\n",
       "      <td>0</td>\n",
       "    </tr>\n",
       "    <tr>\n",
       "      <th>4</th>\n",
       "      <td>0</td>\n",
       "      <td>0</td>\n",
       "      <td>0</td>\n",
       "      <td>0</td>\n",
       "      <td>0</td>\n",
       "      <td>0</td>\n",
       "      <td>0</td>\n",
       "      <td>0</td>\n",
       "      <td>0</td>\n",
       "      <td>0</td>\n",
       "      <td>...</td>\n",
       "      <td>0</td>\n",
       "      <td>0</td>\n",
       "      <td>0</td>\n",
       "      <td>0</td>\n",
       "      <td>0</td>\n",
       "      <td>0</td>\n",
       "      <td>0</td>\n",
       "      <td>0</td>\n",
       "      <td>0</td>\n",
       "      <td>0</td>\n",
       "    </tr>\n",
       "  </tbody>\n",
       "</table>\n",
       "<p>5 rows × 50447 columns</p>\n",
       "</div>"
      ],
      "text/plain": [
       "   00  000  0000  000000  000000000002858  000000000049773  000080  000099   \n",
       "0   1    0     0       0                0                0       0       0  \\\n",
       "1   0    0     0       0                0                0       0       0   \n",
       "2   0    0     0       0                0                0       0       0   \n",
       "3   0    0     0       0                0                0       0       0   \n",
       "4   0    0     0       0                0                0       0       0   \n",
       "\n",
       "   0001  00018  ...  zynve  zyqtaqlt  zyrtec  zyyqywp  zzezrjok  zzn  zzo   \n",
       "0     0      0  ...      0         0       0        0         0    0    0  \\\n",
       "1     0      0  ...      0         0       0        0         0    0    0   \n",
       "2     0      0  ...      0         0       0        0         0    0    0   \n",
       "3     0      0  ...      0         0       0        0         0    0    0   \n",
       "4     0      0  ...      0         0       0        0         0    0    0   \n",
       "\n",
       "   zzocb  zzso  zzsyt  \n",
       "0      0     0      0  \n",
       "1      0     0      0  \n",
       "2      0     0      0  \n",
       "3      0     0      0  \n",
       "4      0     0      0  \n",
       "\n",
       "[5 rows x 50447 columns]"
      ]
     },
     "execution_count": 3,
     "metadata": {},
     "output_type": "execute_result"
    }
   ],
   "source": [
    "vectorizer = CountVectorizer()\n",
    "vectorizedData = pd.DataFrame(vectorizer.fit_transform(lab2Data['text']).toarray(), columns = vectorizer.get_feature_names_out())\n",
    "vectorizedData.head()"
   ]
  },
  {
   "cell_type": "markdown",
   "metadata": {},
   "source": [
    "After converting the matrix to a dataframe, we get the above output.  Most of the elements are 0, meaning that the first five messages in the original data do not contain most of the displayed words that are currently shown.  However, the [0,0] element of the matrix is 1, meaning that the very first observation in the original data set contains the string \"00\", and the string occurs one time.\n",
    "\n",
    "Basically, we are trying to determine whether or not a message is spam given the counts of words that are contained in the messages.  Since the rows of the original dataframe correspond to the rows of the above dataframe of word counts, we do not need to worry about realigning them.  We want to predict the value of label_num (which directly corresponds to label) based on the word counts.  This makes label_num the dependent variable we are trying to predict, and the word count dataframe contains the covariates.\n",
    "\n",
    "We will start by splitting the data into train and test sets.  We will use 90% of the data to train the models and set aside 10% of the data to test the model accuracy."
   ]
  },
  {
   "cell_type": "code",
   "execution_count": 4,
   "metadata": {},
   "outputs": [],
   "source": [
    "xTrain, xTest, yTrain, yTest = train_test_split(vectorizedData, lab2Data['label_num'],\n",
    "                                                test_size = 0.1, random_state = 8972394)"
   ]
  },
  {
   "cell_type": "markdown",
   "metadata": {},
   "source": [
    "### Support Vector Classifier\n",
    "\n",
    "The baseline model we are going to use is a support vector machine.  \n",
    "\n",
    "For my own practice, I wrote the code below to perform cross-validation to determine the optimal hyperparameters for a support vector machine on the training data.  Since it will take too long to run, I am commenting it out.  "
   ]
  },
  {
   "cell_type": "code",
   "execution_count": 5,
   "metadata": {},
   "outputs": [],
   "source": [
    "# svmMod = svm.SVC()\n",
    "# parameters = {\n",
    "#     'kernel': ['linear', 'rbf', 'poly'],\n",
    "#     'C': [0.1, 1, 10],\n",
    "#     'degree': [1,2,3,4,5]\n",
    "# }\n",
    "\n",
    "# cv = GridSearchCV(svmMod, parameters, cv = 10)\n",
    "# cv.fit(vectorizedData, lab2Data['label_num'])"
   ]
  },
  {
   "cell_type": "markdown",
   "metadata": {},
   "source": [
    "Using the default hyperparameters of the support vector classifier, we train the model below.  The default parameters are a $cost = 1$ and $kernel = \"rbf\"$."
   ]
  },
  {
   "cell_type": "code",
   "execution_count": 6,
   "metadata": {},
   "outputs": [
    {
     "name": "stdout",
     "output_type": "stream",
     "text": [
      "<sklearn.metrics._plot.confusion_matrix.ConfusionMatrixDisplay object at 0x000001BE58566C50>\n",
      "Accuracy of Support Vector Classifier:  0.959\n"
     ]
    },
    {
     "data": {
      "image/png": "[encoded data removed]",
      "text/plain": [
       "<Figure size 640x480 with 2 Axes>"
      ]
     },
     "metadata": {},
     "output_type": "display_data"
    }
   ],
   "source": [
    "svmMod = svm.SVC()\n",
    "svmMod.fit(xTrain, yTrain)\n",
    "yPredSVM = svmMod.predict(xTest)\n",
    "svmModAccuracy = sum(yTest == yPredSVM) / len(yPredSVM)\n",
    "confMatSVM = confusion_matrix(yTest, yPredSVM, labels = [1,0])\n",
    "print(ConfusionMatrixDisplay(confMatSVM, display_labels = [\"spam\", \"ham\"]).plot())\n",
    "print(\"Accuracy of Support Vector Classifier: \", round(svmModAccuracy, 3))"
   ]
  },
  {
   "cell_type": "markdown",
   "metadata": {},
   "source": [
    "With the support vector classifier, we get an accuracy of about 95.9%.  We will move on to testing Naive Bayes classifiers to compare the accuracy to."
   ]
  },
  {
   "cell_type": "markdown",
   "metadata": {},
   "source": [
    "### Naive Bayes\n",
    "\n",
    "Bayes formula is written as the following:\n",
    "\n",
    "$P(y | x_1,...,x_n) = \\frac{P(x_1,...,x_n | y)}{P(x_1,...,x_n)}P(y)$\n",
    "\n",
    "Bayes formula basically defines the relationship between conditional probabilities.  However, the challenge with this form of Bayes formula is that the conditional probabilities are often difficult to determine when they are grouped together, as they are in $P(x_1,...,x_n | y)$.  So, if we assume that $x_1,...,x_n$ are independent of eachother, then the Bayes Formula can be simplified to:\n",
    "\n",
    "$P(y | x_1,...,x_n) = \\frac{P(x_1 | y)...P(x_n | y)}{P(x_1)...P(x_n)}P(y)$\n",
    "\n",
    "Some would describe this assumption as naive.  However, this assumption makes building models significantly easier."
   ]
  },
  {
   "cell_type": "markdown",
   "metadata": {},
   "source": [
    "### Gaussian Naive Bayes\n",
    "\n",
    "In a Gaussian Naive Bayes model, each covariate is assumed to have a Gaussian distribution, meaning that:\n",
    "\n",
    "$P(x_i | y) = \\frac{1}{\\sqrt{2\\pi\\sigma_y^2}}e^{-\\frac{(x_i - \\mu_y)^2}{2\\sigma_y^2}}$\n",
    "\n",
    "where $\\mu_y$ and $\\sigma_y$ are the mean and standard deviation of $y$ respectively.\n",
    "\n",
    "We will build the Gaussian Naive Bayes model below:"
   ]
  },
  {
   "cell_type": "code",
   "execution_count": 7,
   "metadata": {},
   "outputs": [
    {
     "name": "stdout",
     "output_type": "stream",
     "text": [
      "<sklearn.metrics._plot.confusion_matrix.ConfusionMatrixDisplay object at 0x000001BE6A7AB210>\n",
      "Accuracy of Gaussian Naive Bayes:  0.963\n"
     ]
    },
    {
     "data": {
      "image/png": "[encoded data removed]",
      "text/plain": [
       "<Figure size 640x480 with 2 Axes>"
      ]
     },
     "metadata": {},
     "output_type": "display_data"
    }
   ],
   "source": [
    "gaussNaiveBayes = GaussianNB()\n",
    "gaussMod = gaussNaiveBayes.fit(xTrain, yTrain)\n",
    "yPredGauss = gaussMod.predict(xTest)\n",
    "confMatGauss = confusion_matrix(yTest, yPredGauss, labels = [1,0])\n",
    "gaussModAccuracy = sum(yTest == yPredGauss)/len(yPredGauss)\n",
    "print(ConfusionMatrixDisplay(confMatGauss, display_labels = [\"spam\", \"ham\"]).plot())\n",
    "print(\"Accuracy of Gaussian Naive Bayes: \", round(gaussModAccuracy, 3))"
   ]
  },
  {
   "cell_type": "markdown",
   "metadata": {},
   "source": [
    "In total, our Gaussian Naive Bayes predicts 96.3% of our test data correctly.  It predicted 150 spam messages and 349 ham messages correctly, misclassified 6 ham messages as spam, and misclassified 13 spam messages as ham.\n",
    "\n",
    "We will now build the Multinomial Naive Bayes model, which assumes that the data is multinomial distributed."
   ]
  },
  {
   "cell_type": "code",
   "execution_count": 8,
   "metadata": {},
   "outputs": [
    {
     "name": "stdout",
     "output_type": "stream",
     "text": [
      "<sklearn.metrics._plot.confusion_matrix.ConfusionMatrixDisplay object at 0x000001BE6A666690>\n",
      "Accuracy of Multinomial Naive Bayes:  0.979\n"
     ]
    },
    {
     "data": {
      "image/png": "[encoded data removed]",
      "text/plain": [
       "<Figure size 640x480 with 2 Axes>"
      ]
     },
     "metadata": {},
     "output_type": "display_data"
    }
   ],
   "source": [
    "multinomNaiveBayes = MultinomialNB()\n",
    "multinomMod = multinomNaiveBayes.fit(xTrain, yTrain)\n",
    "yPredMultinom = multinomMod.predict(xTest)\n",
    "confMatMultinom = confusion_matrix(yTest, yPredMultinom, labels = [1,0])\n",
    "multinomModAccuracy = sum(yTest == yPredMultinom)/len(yPredMultinom)\n",
    "print(ConfusionMatrixDisplay(confMatMultinom, display_labels = [\"spam\", \"ham\"]).plot())\n",
    "print(\"Accuracy of Multinomial Naive Bayes: \", round(multinomModAccuracy, 3))"
   ]
  },
  {
   "cell_type": "markdown",
   "metadata": {},
   "source": [
    "In total, our Multinomial Naive Bayes predicts 97.9% of our test data correctly.  It predicted 158 spam messages and 349 ham messages correctly, misclassified 6 ham messages as spam, and misclassified 5 spam messages as ham.\n",
    "\n",
    "The SVM model has a test prediction accuracy of about 95.9%, while the Gaussian and multinomial naive Bayes have a test prediction accuracy of about 96.3% and 97.9% respectively.  Both naive Bayes models outperform the support vector machine, which I personally find a bit surprising since naive Bayes makes an assumption of independence among covariates, while the SVM model does not.  If I were to guess, since all three models are relatively close in accuracy already, a better-tuned SVM model would outperform both naive Bayes models (although I cannot prove it without finding the optimal hyperparameters of the SVM model)."
   ]
  },
  {
   "cell_type": "markdown",
   "metadata": {},
   "source": [
    "## Part B\n",
    "\n",
    "The goal for this part is to remove outliers from the data.  For this question, outliers of the data are considered to be the outliers of the prices under the \"Entire home/apt\" category."
   ]
  },
  {
   "cell_type": "code",
   "execution_count": 3,
   "metadata": {},
   "outputs": [
    {
     "data": {
      "text/html": [
       "<div>\n",
       "<style scoped>\n",
       "    .dataframe tbody tr th:only-of-type {\n",
       "        vertical-align: middle;\n",
       "    }\n",
       "\n",
       "    .dataframe tbody tr th {\n",
       "        vertical-align: top;\n",
       "    }\n",
       "\n",
       "    .dataframe thead th {\n",
       "        text-align: right;\n",
       "    }\n",
       "</style>\n",
       "<table border=\"1\" class=\"dataframe\">\n",
       "  <thead>\n",
       "    <tr style=\"text-align: right;\">\n",
       "      <th></th>\n",
       "      <th>id</th>\n",
       "      <th>name</th>\n",
       "      <th>host_id</th>\n",
       "      <th>host_name</th>\n",
       "      <th>neighbourhood_group</th>\n",
       "      <th>neighbourhood</th>\n",
       "      <th>latitude</th>\n",
       "      <th>longitude</th>\n",
       "      <th>room_type</th>\n",
       "      <th>price</th>\n",
       "      <th>minimum_nights</th>\n",
       "      <th>number_of_reviews</th>\n",
       "      <th>last_review</th>\n",
       "      <th>reviews_per_month</th>\n",
       "      <th>calculated_host_listings_count</th>\n",
       "      <th>availability_365</th>\n",
       "    </tr>\n",
       "  </thead>\n",
       "  <tbody>\n",
       "    <tr>\n",
       "      <th>0</th>\n",
       "      <td>2539</td>\n",
       "      <td>Clean &amp; quiet apt home by the park</td>\n",
       "      <td>2787</td>\n",
       "      <td>John</td>\n",
       "      <td>Brooklyn</td>\n",
       "      <td>Kensington</td>\n",
       "      <td>40.64749</td>\n",
       "      <td>-73.97237</td>\n",
       "      <td>Private room</td>\n",
       "      <td>149</td>\n",
       "      <td>1</td>\n",
       "      <td>9</td>\n",
       "      <td>2018-10-19</td>\n",
       "      <td>0.21</td>\n",
       "      <td>6</td>\n",
       "      <td>365</td>\n",
       "    </tr>\n",
       "    <tr>\n",
       "      <th>1</th>\n",
       "      <td>2595</td>\n",
       "      <td>Skylit Midtown Castle</td>\n",
       "      <td>2845</td>\n",
       "      <td>Jennifer</td>\n",
       "      <td>Manhattan</td>\n",
       "      <td>Midtown</td>\n",
       "      <td>40.75362</td>\n",
       "      <td>-73.98377</td>\n",
       "      <td>Entire home/apt</td>\n",
       "      <td>225</td>\n",
       "      <td>1</td>\n",
       "      <td>45</td>\n",
       "      <td>2019-05-21</td>\n",
       "      <td>0.38</td>\n",
       "      <td>2</td>\n",
       "      <td>355</td>\n",
       "    </tr>\n",
       "    <tr>\n",
       "      <th>2</th>\n",
       "      <td>3647</td>\n",
       "      <td>THE VILLAGE OF HARLEM....NEW YORK !</td>\n",
       "      <td>4632</td>\n",
       "      <td>Elisabeth</td>\n",
       "      <td>Manhattan</td>\n",
       "      <td>Harlem</td>\n",
       "      <td>40.80902</td>\n",
       "      <td>-73.94190</td>\n",
       "      <td>Private room</td>\n",
       "      <td>150</td>\n",
       "      <td>3</td>\n",
       "      <td>0</td>\n",
       "      <td>NaN</td>\n",
       "      <td>NaN</td>\n",
       "      <td>1</td>\n",
       "      <td>365</td>\n",
       "    </tr>\n",
       "    <tr>\n",
       "      <th>3</th>\n",
       "      <td>3831</td>\n",
       "      <td>Cozy Entire Floor of Brownstone</td>\n",
       "      <td>4869</td>\n",
       "      <td>LisaRoxanne</td>\n",
       "      <td>Brooklyn</td>\n",
       "      <td>Clinton Hill</td>\n",
       "      <td>40.68514</td>\n",
       "      <td>-73.95976</td>\n",
       "      <td>Entire home/apt</td>\n",
       "      <td>89</td>\n",
       "      <td>1</td>\n",
       "      <td>270</td>\n",
       "      <td>2019-07-05</td>\n",
       "      <td>4.64</td>\n",
       "      <td>1</td>\n",
       "      <td>194</td>\n",
       "    </tr>\n",
       "    <tr>\n",
       "      <th>4</th>\n",
       "      <td>5022</td>\n",
       "      <td>Entire Apt: Spacious Studio/Loft by central park</td>\n",
       "      <td>7192</td>\n",
       "      <td>Laura</td>\n",
       "      <td>Manhattan</td>\n",
       "      <td>East Harlem</td>\n",
       "      <td>40.79851</td>\n",
       "      <td>-73.94399</td>\n",
       "      <td>Entire home/apt</td>\n",
       "      <td>80</td>\n",
       "      <td>10</td>\n",
       "      <td>9</td>\n",
       "      <td>2018-11-19</td>\n",
       "      <td>0.10</td>\n",
       "      <td>1</td>\n",
       "      <td>0</td>\n",
       "    </tr>\n",
       "  </tbody>\n",
       "</table>\n",
       "</div>"
      ],
      "text/plain": [
       "     id                                              name  host_id   \n",
       "0  2539                Clean & quiet apt home by the park     2787  \\\n",
       "1  2595                             Skylit Midtown Castle     2845   \n",
       "2  3647               THE VILLAGE OF HARLEM....NEW YORK !     4632   \n",
       "3  3831                   Cozy Entire Floor of Brownstone     4869   \n",
       "4  5022  Entire Apt: Spacious Studio/Loft by central park     7192   \n",
       "\n",
       "     host_name neighbourhood_group neighbourhood  latitude  longitude   \n",
       "0         John            Brooklyn    Kensington  40.64749  -73.97237  \\\n",
       "1     Jennifer           Manhattan       Midtown  40.75362  -73.98377   \n",
       "2    Elisabeth           Manhattan        Harlem  40.80902  -73.94190   \n",
       "3  LisaRoxanne            Brooklyn  Clinton Hill  40.68514  -73.95976   \n",
       "4        Laura           Manhattan   East Harlem  40.79851  -73.94399   \n",
       "\n",
       "         room_type  price  minimum_nights  number_of_reviews last_review   \n",
       "0     Private room    149               1                  9  2018-10-19  \\\n",
       "1  Entire home/apt    225               1                 45  2019-05-21   \n",
       "2     Private room    150               3                  0         NaN   \n",
       "3  Entire home/apt     89               1                270  2019-07-05   \n",
       "4  Entire home/apt     80              10                  9  2018-11-19   \n",
       "\n",
       "   reviews_per_month  calculated_host_listings_count  availability_365  \n",
       "0               0.21                               6               365  \n",
       "1               0.38                               2               355  \n",
       "2                NaN                               1               365  \n",
       "3               4.64                               1               194  \n",
       "4               0.10                               1                 0  "
      ]
     },
     "execution_count": 3,
     "metadata": {},
     "output_type": "execute_result"
    }
   ],
   "source": [
    "AB_NYC_2019 = pd.read_csv(\"../../practical_labs/datasets/Lab_2/AB_NYC_2019.csv\")\n",
    "AB_NYC_2019.head()"
   ]
  },
  {
   "cell_type": "markdown",
   "metadata": {},
   "source": [
    "We need a filter for when $room\\_type == \"Entire\\ home/apt\"$.  Then we will make additional filters based on what value of price we are filtering.  The final filter applied to the dataset will look something like:\n",
    "* $outlierFilter = (room\\_type == \"Entire\\ home/apt\")\\ \\&\\ (price > price\\_range)$\n",
    "\n",
    "for some price range that we will determine.\n",
    "\n",
    "We will first create the `priceForHomeApt` array which is the array of prices of the \"Entire home/apt\" room type.  For the next two parts we will visualize this array to determine where the outliers are."
   ]
  },
  {
   "cell_type": "code",
   "execution_count": 4,
   "metadata": {},
   "outputs": [],
   "source": [
    "roomTypeFilter = AB_NYC_2019['room_type'] == \"Entire home/apt\"\n",
    "priceForHomeApt = AB_NYC_2019[roomTypeFilter]['price']"
   ]
  },
  {
   "cell_type": "markdown",
   "metadata": {},
   "source": [
    "### Method 1: Filter by Boxplot Range\n",
    "\n",
    "For this part, we will assume that outliers are any points outside of the range $[Q1 - 1.5*IQR, Q3 + 1.5*IQR]$, which are the points that would be outside of a boxplot.\n",
    "\n",
    "First let us see what the boxplot looks like."
   ]
  },
  {
   "cell_type": "code",
   "execution_count": 5,
   "metadata": {},
   "outputs": [
    {
     "data": {
      "image/png": "[encoded data removed]",
      "text/plain": [
       "<Figure size 640x480 with 1 Axes>"
      ]
     },
     "metadata": {},
     "output_type": "display_data"
    }
   ],
   "source": [
    "plt.boxplot(priceForHomeApt);"
   ]
  },
  {
   "cell_type": "markdown",
   "metadata": {},
   "source": [
    "Clearly the outliers above the top whisker are skewing the boxplot since the outliers are significantly further away from the Q3 range.  \n",
    "\n",
    "To remove these outliers, we can determine the value of the top whisker, and create a filter that removes any value above the top whisker (or more specifically, a filter that keeps any value below the top whisker)."
   ]
  },
  {
   "cell_type": "code",
   "execution_count": 6,
   "metadata": {},
   "outputs": [
    {
     "data": {
      "text/plain": [
       "392.5"
      ]
     },
     "execution_count": 6,
     "metadata": {},
     "output_type": "execute_result"
    }
   ],
   "source": [
    "priceStats = priceForHomeApt.describe()\n",
    "q3 = priceStats['75%']\n",
    "iqr = priceStats['75%'] - priceStats['25%']\n",
    "topWhisker = q3 + 1.5 * iqr\n",
    "topWhisker"
   ]
  },
  {
   "cell_type": "markdown",
   "metadata": {},
   "source": [
    "We get the top of the whisker to be 392.5.  Therefore, anything above 392.5 should be considered an outlier."
   ]
  },
  {
   "cell_type": "code",
   "execution_count": 100,
   "metadata": {},
   "outputs": [
    {
     "name": "stdout",
     "output_type": "stream",
     "text": [
      "Percent of data removed:  3.83 %\n"
     ]
    },
    {
     "data": {
      "image/png": "[encoded data removed]",
      "text/plain": [
       "<Figure size 640x480 with 1 Axes>"
      ]
     },
     "metadata": {},
     "output_type": "display_data"
    }
   ],
   "source": [
    "plt.boxplot(priceForHomeApt[priceForHomeApt <= topWhisker]);\n",
    "print(\"Percent of data removed: \", round(100 * (sum(priceForHomeApt > topWhisker) / len(AB_NYC_2019)), 2), \"%\")"
   ]
  },
  {
   "cell_type": "markdown",
   "metadata": {},
   "source": [
    "Since we filtered out the previous outliers of price in \"Entire home/apt\", the quartiles are recalculated and we get a new set of outliers.  However, this box plot is significantly easier to work with."
   ]
  },
  {
   "cell_type": "markdown",
   "metadata": {},
   "source": [
    "### Method 2: Filter by z-scores\n",
    "\n",
    "Next we will try filtering by the values of z-scores.  First, let us look at a histogram of the data."
   ]
  },
  {
   "cell_type": "code",
   "execution_count": 101,
   "metadata": {},
   "outputs": [
    {
     "data": {
      "image/png": "[encoded data removed]",
      "text/plain": [
       "<Figure size 640x480 with 1 Axes>"
      ]
     },
     "metadata": {},
     "output_type": "display_data"
    }
   ],
   "source": [
    "plt.hist(priceForHomeApt, bins = 100);"
   ]
  },
  {
   "cell_type": "markdown",
   "metadata": {},
   "source": [
    "As we already know, since the plot is trying to display everything, the large values highly skew what the histogram is supposed to look like.\n",
    "\n",
    "Next, we will calculate the corresponding z-score of each price."
   ]
  },
  {
   "cell_type": "code",
   "execution_count": 102,
   "metadata": {},
   "outputs": [
    {
     "name": "stdout",
     "output_type": "stream",
     "text": [
      "Max z-score:  34.46\n"
     ]
    },
    {
     "data": {
      "image/png": "[encoded data removed]",
      "text/plain": [
       "<Figure size 640x480 with 1 Axes>"
      ]
     },
     "metadata": {},
     "output_type": "display_data"
    }
   ],
   "source": [
    "priceMean = np.mean(priceForHomeApt)\n",
    "priceSTD = np.std(priceForHomeApt)\n",
    "zscores = (priceForHomeApt - priceMean) / priceSTD\n",
    "print(\"Max z-score: \", round(max(zscores), 2))\n",
    "plt.hist(zscores, bins = 100);"
   ]
  },
  {
   "cell_type": "markdown",
   "metadata": {},
   "source": [
    "The largest z-score we get is about 34.5, meaning that the largest price value lies just over 34 standard deviations away from the mean.  Given that about 99.7% of values should lie within 3 standard deviations away from the mean (assuming a normal distribution), this is incredibly unusual.\n",
    "\n",
    "We will make a filter that will remove values that have a z-score greater than 3, and then replot the histogram.  "
   ]
  },
  {
   "cell_type": "code",
   "execution_count": 103,
   "metadata": {},
   "outputs": [
    {
     "name": "stdout",
     "output_type": "stream",
     "text": [
      "Percent of data removed:  0.73 %\n"
     ]
    },
    {
     "data": {
      "image/png": "[encoded data removed]",
      "text/plain": [
       "<Figure size 640x480 with 1 Axes>"
      ]
     },
     "metadata": {},
     "output_type": "display_data"
    }
   ],
   "source": [
    "zscoreFilter = zscores <= 3\n",
    "plt.hist(priceForHomeApt[zscoreFilter], bins = 100);\n",
    "print(\"Percent of data removed: \", round(100 * (1 - sum(zscoreFilter) / len(zscoreFilter)), 2), \"%\")"
   ]
  },
  {
   "cell_type": "markdown",
   "metadata": {},
   "source": [
    "### Comparring Filter by Boxplot vs Filter by z-score\n",
    "\n",
    "Below are the histograms after filtering via the boxplot method and the z-score method respectively:"
   ]
  },
  {
   "cell_type": "code",
   "execution_count": 105,
   "metadata": {},
   "outputs": [
    {
     "data": {
      "text/plain": [
       "Text(0.5, 1.0, 'Filtered by z-score > 3')"
      ]
     },
     "execution_count": 105,
     "metadata": {},
     "output_type": "execute_result"
    },
    {
     "data": {
      "image/png": "[encoded data removed]",
      "text/plain": [
       "<Figure size 1200x800 with 2 Axes>"
      ]
     },
     "metadata": {},
     "output_type": "display_data"
    }
   ],
   "source": [
    "fig, histograms = plt.subplots(2, 1, figsize = (12,8))\n",
    "\n",
    "histograms[0].hist(priceForHomeApt[priceForHomeApt < topWhisker], bins = 50);\n",
    "histograms[0].set_title(\"Filtered by Boxplot Whiskers\")\n",
    "histograms[1].hist(priceForHomeApt[zscoreFilter], bins = 50);\n",
    "histograms[1].set_title(\"Filtered by z-score > 3\")"
   ]
  },
  {
   "cell_type": "markdown",
   "metadata": {},
   "source": [
    "Filtering by using boxplot whiskers seems to produce a more centred histogram than filtering by z-score.  However, filtering by z-score could produce a more centred histogram with a better choice of z-score.  For the second histogram above, I arbitrarily chose to filter out anything with z-score > 3, whereas the filter for the first histogram above was calculated based on the Q3 and IQR values of the total data.  After calculating Q3 + 1.5*IQR, the filter for the first histogram came out to be any price above 392.5.  If we chose to filter the data based on the z-score that corresponds to 392.5, then the second histogram produced would be the same as the first histogram.  However, using this method requires us to calculate the boxplot whisker range anyway.  If in both scenarios we choose an optimal filter value based on the whisker values, then in this case it is better to simply filter by boxplot range.\n",
    "\n",
    "While we will not really be able to see the difference in the dataset, the final filtered dataset based on boxplot ranges will be:"
   ]
  },
  {
   "cell_type": "code",
   "execution_count": 106,
   "metadata": {},
   "outputs": [
    {
     "data": {
      "text/html": [
       "<div>\n",
       "<style scoped>\n",
       "    .dataframe tbody tr th:only-of-type {\n",
       "        vertical-align: middle;\n",
       "    }\n",
       "\n",
       "    .dataframe tbody tr th {\n",
       "        vertical-align: top;\n",
       "    }\n",
       "\n",
       "    .dataframe thead th {\n",
       "        text-align: right;\n",
       "    }\n",
       "</style>\n",
       "<table border=\"1\" class=\"dataframe\">\n",
       "  <thead>\n",
       "    <tr style=\"text-align: right;\">\n",
       "      <th></th>\n",
       "      <th>id</th>\n",
       "      <th>name</th>\n",
       "      <th>host_id</th>\n",
       "      <th>host_name</th>\n",
       "      <th>neighbourhood_group</th>\n",
       "      <th>neighbourhood</th>\n",
       "      <th>latitude</th>\n",
       "      <th>longitude</th>\n",
       "      <th>room_type</th>\n",
       "      <th>price</th>\n",
       "      <th>minimum_nights</th>\n",
       "      <th>number_of_reviews</th>\n",
       "      <th>last_review</th>\n",
       "      <th>reviews_per_month</th>\n",
       "      <th>calculated_host_listings_count</th>\n",
       "      <th>availability_365</th>\n",
       "    </tr>\n",
       "  </thead>\n",
       "  <tbody>\n",
       "    <tr>\n",
       "      <th>0</th>\n",
       "      <td>2539</td>\n",
       "      <td>Clean &amp; quiet apt home by the park</td>\n",
       "      <td>2787</td>\n",
       "      <td>John</td>\n",
       "      <td>Brooklyn</td>\n",
       "      <td>Kensington</td>\n",
       "      <td>40.64749</td>\n",
       "      <td>-73.97237</td>\n",
       "      <td>Private room</td>\n",
       "      <td>149</td>\n",
       "      <td>1</td>\n",
       "      <td>9</td>\n",
       "      <td>2018-10-19</td>\n",
       "      <td>0.21</td>\n",
       "      <td>6</td>\n",
       "      <td>365</td>\n",
       "    </tr>\n",
       "    <tr>\n",
       "      <th>1</th>\n",
       "      <td>2595</td>\n",
       "      <td>Skylit Midtown Castle</td>\n",
       "      <td>2845</td>\n",
       "      <td>Jennifer</td>\n",
       "      <td>Manhattan</td>\n",
       "      <td>Midtown</td>\n",
       "      <td>40.75362</td>\n",
       "      <td>-73.98377</td>\n",
       "      <td>Entire home/apt</td>\n",
       "      <td>225</td>\n",
       "      <td>1</td>\n",
       "      <td>45</td>\n",
       "      <td>2019-05-21</td>\n",
       "      <td>0.38</td>\n",
       "      <td>2</td>\n",
       "      <td>355</td>\n",
       "    </tr>\n",
       "    <tr>\n",
       "      <th>2</th>\n",
       "      <td>3647</td>\n",
       "      <td>THE VILLAGE OF HARLEM....NEW YORK !</td>\n",
       "      <td>4632</td>\n",
       "      <td>Elisabeth</td>\n",
       "      <td>Manhattan</td>\n",
       "      <td>Harlem</td>\n",
       "      <td>40.80902</td>\n",
       "      <td>-73.94190</td>\n",
       "      <td>Private room</td>\n",
       "      <td>150</td>\n",
       "      <td>3</td>\n",
       "      <td>0</td>\n",
       "      <td>NaN</td>\n",
       "      <td>NaN</td>\n",
       "      <td>1</td>\n",
       "      <td>365</td>\n",
       "    </tr>\n",
       "    <tr>\n",
       "      <th>3</th>\n",
       "      <td>3831</td>\n",
       "      <td>Cozy Entire Floor of Brownstone</td>\n",
       "      <td>4869</td>\n",
       "      <td>LisaRoxanne</td>\n",
       "      <td>Brooklyn</td>\n",
       "      <td>Clinton Hill</td>\n",
       "      <td>40.68514</td>\n",
       "      <td>-73.95976</td>\n",
       "      <td>Entire home/apt</td>\n",
       "      <td>89</td>\n",
       "      <td>1</td>\n",
       "      <td>270</td>\n",
       "      <td>2019-07-05</td>\n",
       "      <td>4.64</td>\n",
       "      <td>1</td>\n",
       "      <td>194</td>\n",
       "    </tr>\n",
       "    <tr>\n",
       "      <th>4</th>\n",
       "      <td>5022</td>\n",
       "      <td>Entire Apt: Spacious Studio/Loft by central park</td>\n",
       "      <td>7192</td>\n",
       "      <td>Laura</td>\n",
       "      <td>Manhattan</td>\n",
       "      <td>East Harlem</td>\n",
       "      <td>40.79851</td>\n",
       "      <td>-73.94399</td>\n",
       "      <td>Entire home/apt</td>\n",
       "      <td>80</td>\n",
       "      <td>10</td>\n",
       "      <td>9</td>\n",
       "      <td>2018-11-19</td>\n",
       "      <td>0.10</td>\n",
       "      <td>1</td>\n",
       "      <td>0</td>\n",
       "    </tr>\n",
       "  </tbody>\n",
       "</table>\n",
       "</div>"
      ],
      "text/plain": [
       "     id                                              name  host_id   \n",
       "0  2539                Clean & quiet apt home by the park     2787  \\\n",
       "1  2595                             Skylit Midtown Castle     2845   \n",
       "2  3647               THE VILLAGE OF HARLEM....NEW YORK !     4632   \n",
       "3  3831                   Cozy Entire Floor of Brownstone     4869   \n",
       "4  5022  Entire Apt: Spacious Studio/Loft by central park     7192   \n",
       "\n",
       "     host_name neighbourhood_group neighbourhood  latitude  longitude   \n",
       "0         John            Brooklyn    Kensington  40.64749  -73.97237  \\\n",
       "1     Jennifer           Manhattan       Midtown  40.75362  -73.98377   \n",
       "2    Elisabeth           Manhattan        Harlem  40.80902  -73.94190   \n",
       "3  LisaRoxanne            Brooklyn  Clinton Hill  40.68514  -73.95976   \n",
       "4        Laura           Manhattan   East Harlem  40.79851  -73.94399   \n",
       "\n",
       "         room_type  price  minimum_nights  number_of_reviews last_review   \n",
       "0     Private room    149               1                  9  2018-10-19  \\\n",
       "1  Entire home/apt    225               1                 45  2019-05-21   \n",
       "2     Private room    150               3                  0         NaN   \n",
       "3  Entire home/apt     89               1                270  2019-07-05   \n",
       "4  Entire home/apt     80              10                  9  2018-11-19   \n",
       "\n",
       "   reviews_per_month  calculated_host_listings_count  availability_365  \n",
       "0               0.21                               6               365  \n",
       "1               0.38                               2               355  \n",
       "2                NaN                               1               365  \n",
       "3               4.64                               1               194  \n",
       "4               0.10                               1                 0  "
      ]
     },
     "execution_count": 106,
     "metadata": {},
     "output_type": "execute_result"
    }
   ],
   "source": [
    "topWhiskerFilter = AB_NYC_2019['price'] > topWhisker\n",
    "outlierFilterBoxplot = np.invert(roomTypeFilter & topWhiskerFilter) # invert True/False so that we keep elements that do not match criteria instead of remove them\n",
    "AB_NYC_2019FilteredBoxplot = AB_NYC_2019[outlierFilterBoxplot]\n",
    "AB_NYC_2019FilteredBoxplot.head()"
   ]
  }
 ],
 "metadata": {
  "kernelspec": {
   "display_name": "CSCN8010_classic_ml",
   "language": "python",
   "name": "python3"
  },
  "language_info": {
   "codemirror_mode": {
    "name": "ipython",
    "version": 3
   },
   "file_extension": ".py",
   "mimetype": "text/x-python",
   "name": "python",
   "nbconvert_exporter": "python",
   "pygments_lexer": "ipython3",
   "version": "3.11.5"
  },
  "orig_nbformat": 4
 },
 "nbformat": 4,
 "nbformat_minor": 2
}
