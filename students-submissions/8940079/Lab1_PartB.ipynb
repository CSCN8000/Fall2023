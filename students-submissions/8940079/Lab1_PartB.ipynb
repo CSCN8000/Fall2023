{
 "cells": [
  {
   "cell_type": "markdown",
   "metadata": {},
   "source": [
    "To determine the singularity of a system of linear equations, we can analyze the coefficient matrix's determinant. If the determinant is nonzero, the system is non-singular and has a unique solution. If the determinant is zero, the system is singular, indicating that there might be no unique solution, or the system might be underdetermined (infinite solutions)."
   ]
  },
  {
   "cell_type": "markdown",
   "metadata": {},
   "source": [
    "PART B.1:\n",
    "\n",
    "4x + y - 2z = 10\n",
    "\n",
    "2x - 3y + 2z = -4\n",
    "\n",
    "x + 2y + 3z = 6"
   ]
  },
  {
   "cell_type": "markdown",
   "metadata": {},
   "source": [
    "We can represent this system in matrix form as Ax = b, where\n",
    "\n",
    "A is the coefficient matrix, \n",
    "x is the column vector of variables [x,y,z], \n",
    "b is the column vector of constants [10,−4,6].\n",
    "\n",
    "Let's calculate the determinant of matrix A:"
   ]
  },
  {
   "cell_type": "code",
   "execution_count": 1,
   "metadata": {},
   "outputs": [
    {
     "name": "stdout",
     "output_type": "stream",
     "text": [
      "Determinant of A: -70.00000000000003\n"
     ]
    }
   ],
   "source": [
    "import numpy as np\n",
    "\n",
    "A = np.array([[4, 1, -2],\n",
    "              [2, -3, 2],\n",
    "              [1, 2, 3]])\n",
    "\n",
    "det_A = np.linalg.det(A)\n",
    "print(\"Determinant of A:\", det_A)\n"
   ]
  },
  {
   "cell_type": "markdown",
   "metadata": {},
   "source": [
    "If det_A is nonzero, the system is non-singular and has a unique solution. If det_A is zero, the system is singular. \n",
    "\n",
    "Since det_A = -70, it indicates a unique solution."
   ]
  },
  {
   "cell_type": "markdown",
   "metadata": {},
   "source": [
    "PART B.2:\n",
    "\n",
    "2x - y + 3z + 4w = 10\n",
    "\n",
    "4x - 2y + 6z + 8w = 20\n",
    "\n",
    "3x + y - 2z + 2w = 3\n",
    "\n",
    "x + 3y - 4z + w = -1"
   ]
  },
  {
   "cell_type": "markdown",
   "metadata": {},
   "source": [
    "We can represent this system in matrix form as Ax = b, where\n",
    "\n",
    "A is the coefficient matrix, \n",
    "x is the column vector of variables [x,y,z,w], \n",
    "b is the column vector of constants [10,20,3,-1].\n",
    "\n",
    "Let's calculate the determinant of matrix A:"
   ]
  },
  {
   "cell_type": "code",
   "execution_count": 2,
   "metadata": {},
   "outputs": [
    {
     "name": "stdout",
     "output_type": "stream",
     "text": [
      "Determinant of A: 0.0\n"
     ]
    }
   ],
   "source": [
    "import numpy as np\n",
    "\n",
    "A = np.array([[2, -1, 3, 4],\n",
    "              [4, -2, 6, 8],\n",
    "              [3, 1, -2, 2],\n",
    "              [1, 3, -4, 1]])\n",
    "\n",
    "det_A = np.linalg.det(A)\n",
    "print(\"Determinant of A:\", det_A)\n"
   ]
  },
  {
   "cell_type": "markdown",
   "metadata": {},
   "source": [
    "If det_A is nonzero, the system is non-singular and has a unique solution. If det_A is zero, the system is singular. \n",
    "\n",
    "Since det_A = 0, it indicates a singular system that is underdetermined."
   ]
  }
 ],
 "metadata": {
  "kernelspec": {
   "display_name": "CSCN8010_classic_ml",
   "language": "python",
   "name": "python3"
  },
  "language_info": {
   "codemirror_mode": {
    "name": "ipython",
    "version": 3
   },
   "file_extension": ".py",
   "mimetype": "text/x-python",
   "name": "python",
   "nbconvert_exporter": "python",
   "pygments_lexer": "ipython3",
   "version": "3.8.9"
  },
  "orig_nbformat": 4
 },
 "nbformat": 4,
 "nbformat_minor": 2
}
