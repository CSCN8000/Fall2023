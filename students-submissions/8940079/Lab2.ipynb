{
 "cells": [
  {
   "cell_type": "markdown",
   "metadata": {},
   "source": [
    "PART A"
   ]
  },
  {
   "cell_type": "code",
   "execution_count": 1,
   "metadata": {},
   "outputs": [
    {
     "name": "stdout",
     "output_type": "stream",
     "text": [
      "SVC Accuracy: 0.97\n",
      "Gaussian Naive Bayes Accuracy: 0.95\n",
      "Multinomial Naive Bayes Accuracy: 0.98\n"
     ]
    }
   ],
   "source": [
    "# Importing necessary libraries\n",
    "import pandas as pd\n",
    "from sklearn.feature_extraction.text import CountVectorizer\n",
    "from sklearn.model_selection import train_test_split\n",
    "from sklearn.svm import SVC\n",
    "from sklearn.naive_bayes import GaussianNB, MultinomialNB\n",
    "from sklearn.metrics import accuracy_score\n",
    "\n",
    "# Loading the dataset\n",
    "data = pd.read_csv('/Users/engr/Downloads/Lab2_dataset.csv')\n",
    "\n",
    "# Preprocessing\n",
    "# Transforming the \"text\" feature to a vector representation\n",
    "vectorizer = CountVectorizer()\n",
    "X = vectorizer.fit_transform(data['text'])\n",
    "\n",
    "# Splitting the dataset into training and testing sets\n",
    "X_train, X_test, y_train, y_test = train_test_split(X, data['label'], test_size=0.2, random_state=42)\n",
    "\n",
    "# Model Training and Evaluation\n",
    "# Training the SVC model\n",
    "svc_model = SVC()\n",
    "svc_model.fit(X_train, y_train)\n",
    "svc_predictions = svc_model.predict(X_test)\n",
    "svc_accuracy = accuracy_score(y_test, svc_predictions)\n",
    "\n",
    "# Training the Gaussian Naive Bayes model\n",
    "gnb_model = GaussianNB()\n",
    "gnb_model.fit(X_train.toarray(), y_train)\n",
    "gnb_predictions = gnb_model.predict(X_test.toarray())\n",
    "gnb_accuracy = accuracy_score(y_test, gnb_predictions)\n",
    "\n",
    "# Training the Multinomial Naive Bayes model\n",
    "mnb_model = MultinomialNB()\n",
    "mnb_model.fit(X_train, y_train)\n",
    "mnb_predictions = mnb_model.predict(X_test)\n",
    "mnb_accuracy = accuracy_score(y_test, mnb_predictions)\n",
    "\n",
    "# Comparing the performance of all models\n",
    "print(\"SVC Accuracy: {:.2f}\".format (svc_accuracy))\n",
    "print(\"Gaussian Naive Bayes Accuracy: {:.2f}\".format (gnb_accuracy))\n",
    "print(\"Multinomial Naive Bayes Accuracy: {:.2f}\".format (mnb_accuracy))\n"
   ]
  },
  {
   "cell_type": "markdown",
   "metadata": {},
   "source": [
    "The Multinomial Naive Bayes model achieved the highest accuracy (98%) in text classification due to its compatibility with word frequency data. Support Vector Machine (SVC) performed well (97%) but may have overfit. Gaussian Naive Bayes (95%) suffered due to its independence assumption, which isn't ideal for correlated text features. Choosing the right model depends on data compatibility; Multinomial Naive Bayes excelled in this context, showcasing the importance of aligning algorithms with data characteristics for optimal performance."
   ]
  },
  {
   "cell_type": "markdown",
   "metadata": {},
   "source": [
    "PART B"
   ]
  },
  {
   "cell_type": "code",
   "execution_count": 2,
   "metadata": {},
   "outputs": [
    {
     "name": "stdout",
     "output_type": "stream",
     "text": [
      "Shape of the final cleaned dataset using Z-score approach : (48507, 16)\n"
     ]
    }
   ],
   "source": [
    "import pandas as pd\n",
    "from scipy.stats import zscore\n",
    "\n",
    "# Loading the dataset\n",
    "data = pd.read_csv('/Users/engr/Downloads/AB_NYC_2019.csv')\n",
    "\n",
    "# Z-Score approach: Remove outliers\n",
    "z_scores = zscore(data['price'])\n",
    "z_threshold = 3\n",
    "data_zscore = data[(z_scores < z_threshold)]\n",
    "\n",
    "# Whiskers approach (IQR): Remove outliers\n",
    "Q1 = data['price'].quantile(0.25)\n",
    "Q3 = data['price'].quantile(0.75)\n",
    "IQR = Q3 - Q1\n",
    "lower_whisker = Q1 - 1.5 * IQR\n",
    "upper_whisker = Q3 + 1.5 * IQR\n",
    "data_whiskers = data[(data['price'] >= lower_whisker) & (data['price'] <= upper_whisker)]\n",
    "\n",
    "# Choosing the cleaner dataset\n",
    "if data_zscore.shape[0] > data_whiskers.shape[0]:\n",
    "    clean_data = data_zscore\n",
    "    method_used = \"Z-score approach\"\n",
    "else:\n",
    "    clean_data = data_whiskers\n",
    "    method_used = \"Whiskers approach\"\n",
    "\n",
    "# Check the shape of the final cleaned dataset\n",
    "print(\"Shape of the final cleaned dataset using\", method_used, \":\", clean_data.shape)\n"
   ]
  },
  {
   "cell_type": "markdown",
   "metadata": {},
   "source": [
    "Using the Z-score approach, the dataset was cleaned, resulting in 48,507 rows and 16 columns. This method, based on standard deviation, assumed a normal distribution and removed outliers. The choice of approach (Z-score vs. whiskers) depends on data distribution; Z-score is suitable for approximately normal data, while whiskers (IQR) is robust for skewed data, preserving more points without assuming normality. The Z-score method retained 48,507 rows, indicating its effectiveness in this context."
   ]
  }
 ],
 "metadata": {
  "kernelspec": {
   "display_name": "CSCN8010_classic_ml",
   "language": "python",
   "name": "python3"
  },
  "language_info": {
   "codemirror_mode": {
    "name": "ipython",
    "version": 3
   },
   "file_extension": ".py",
   "mimetype": "text/x-python",
   "name": "python",
   "nbconvert_exporter": "python",
   "pygments_lexer": "ipython3",
   "version": "3.8.9"
  },
  "orig_nbformat": 4
 },
 "nbformat": 4,
 "nbformat_minor": 2
}
