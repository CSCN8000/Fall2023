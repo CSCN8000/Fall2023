{
 "cells": [
  {
   "cell_type": "code",
   "execution_count": 1,
   "metadata": {},
   "outputs": [
    {
     "name": "stdout",
     "output_type": "stream",
     "text": [
      "[ 1  4  7 10 13 16 19]\n"
     ]
    }
   ],
   "source": [
    "#Question 1\n",
    "import numpy as np\n",
    "\n",
    "# Create the array\n",
    "my_array = np.arange(1, 21, 3)\n",
    "\n",
    "# Print the array\n",
    "print(my_array)\n"
   ]
  },
  {
   "cell_type": "markdown",
   "metadata": {},
   "source": [
    "This array starts at 1, ends at 20, and is incremented by 3, as required."
   ]
  },
  {
   "cell_type": "code",
   "execution_count": 2,
   "metadata": {},
   "outputs": [
    {
     "name": "stdout",
     "output_type": "stream",
     "text": [
      "[0.65932488 0.87785038 0.32768556]\n"
     ]
    }
   ],
   "source": [
    "#Question 2\n",
    "import numpy as np\n",
    "\n",
    "# Create a random array of shape (3,) with numbers between 0 and 1\n",
    "random_array = np.random.rand(3)\n",
    "\n",
    "# Print the random array\n",
    "print(random_array)\n"
   ]
  },
  {
   "cell_type": "markdown",
   "metadata": {},
   "source": [
    "This array generates different random numbers between 0 and 1 each time it's run."
   ]
  },
  {
   "cell_type": "code",
   "execution_count": 3,
   "metadata": {},
   "outputs": [
    {
     "name": "stdout",
     "output_type": "stream",
     "text": [
      "Original 2D Array:\n",
      "[[10 20 45]\n",
      " [30 12 16]\n",
      " [42 17 56]]\n",
      "\n",
      "First Two Rows:\n",
      "[[10 20 45]\n",
      " [30 12 16]]\n",
      "\n",
      "Last Two Rows:\n",
      "[[30 12 16]\n",
      " [42 17 56]]\n"
     ]
    }
   ],
   "source": [
    "#Question 3\n",
    "import numpy as np\n",
    "\n",
    "# Create the 2D array\n",
    "my_2d_array = np.array([[10, 20, 45], [30, 12, 16], [42, 17, 56]])\n",
    "\n",
    "# Slice the first two rows\n",
    "first_two_rows = my_2d_array[:2, :]\n",
    "\n",
    "# Slice the last two rows\n",
    "last_two_rows = my_2d_array[1:, :]\n",
    "\n",
    "# Print the results\n",
    "print(\"Original 2D Array:\")\n",
    "print(my_2d_array)\n",
    "\n",
    "print(\"\\nFirst Two Rows:\")\n",
    "print(first_two_rows)\n",
    "\n",
    "print(\"\\nLast Two Rows:\")\n",
    "print(last_two_rows)\n"
   ]
  },
  {
   "cell_type": "markdown",
   "metadata": {},
   "source": [
    "In this code, a 2D NumPy array my_2d_array with the specified values was created. my_2d_array[:2, :] was used to slice the first two rows, where :2 specifies the first two rows, and : includes all columns. To slice the last two rows, my_2d_array[1:, :] was used, where 1: specifies all rows from the second row onward, and : includes all columns."
   ]
  },
  {
   "cell_type": "code",
   "execution_count": 4,
   "metadata": {},
   "outputs": [
    {
     "name": "stdout",
     "output_type": "stream",
     "text": [
      "Array 1:\n",
      "[[1 2]\n",
      " [3 4]]\n",
      "\n",
      "Array 2:\n",
      "[[5 6]\n",
      " [7 8]]\n",
      "\n",
      "Stacked Vertically:\n",
      "[[1 2]\n",
      " [3 4]\n",
      " [5 6]\n",
      " [7 8]]\n",
      "\n",
      "Stacked Horizontally:\n",
      "[[1 2 5 6]\n",
      " [3 4 7 8]]\n",
      "\n",
      "Split Vertically:\n",
      "[[1 2]\n",
      " [3 4]]\n",
      "[[5 6]\n",
      " [7 8]]\n",
      "\n",
      "Split Horizontally:\n",
      "[[1 2]\n",
      " [3 4]]\n",
      "[[5 6]\n",
      " [7 8]]\n"
     ]
    }
   ],
   "source": [
    "#Question 4\n",
    "import numpy as np\n",
    "\n",
    "# Create two 2x2 arrays\n",
    "array1 = np.array([[1, 2],\n",
    "                   [3, 4]])\n",
    "\n",
    "array2 = np.array([[5, 6],\n",
    "                   [7, 8]])\n",
    "\n",
    "# Stack the arrays vertically\n",
    "vertical_stack = np.vstack((array1, array2))\n",
    "\n",
    "# Stack the arrays horizontally\n",
    "horizontal_stack = np.hstack((array1, array2))\n",
    "\n",
    "# Split the combined array back into smaller arrays\n",
    "split_vertical = np.split(vertical_stack, 2)\n",
    "split_horizontal = np.split(horizontal_stack, 2, axis=1)\n",
    "\n",
    "# Print the original arrays and the results\n",
    "print(\"Array 1:\")\n",
    "print(array1)\n",
    "\n",
    "print(\"\\nArray 2:\")\n",
    "print(array2)\n",
    "\n",
    "print(\"\\nStacked Vertically:\")\n",
    "print(vertical_stack)\n",
    "\n",
    "print(\"\\nStacked Horizontally:\")\n",
    "print(horizontal_stack)\n",
    "\n",
    "print(\"\\nSplit Vertically:\")\n",
    "for subarray in split_vertical:\n",
    "    print(subarray)\n",
    "\n",
    "print(\"\\nSplit Horizontally:\")\n",
    "for subarray in split_horizontal:\n",
    "    print(subarray)\n"
   ]
  },
  {
   "cell_type": "markdown",
   "metadata": {},
   "source": [
    "Arrrays can be stack both vertically and horizontally, and then split back into smaller arrays as needed using NumPy functions."
   ]
  },
  {
   "cell_type": "code",
   "execution_count": 5,
   "metadata": {},
   "outputs": [
    {
     "name": "stdout",
     "output_type": "stream",
     "text": [
      "Result of Matrix Multiplication:\n",
      "[[70 28]\n",
      " [70 30]\n",
      " [60 26]]\n",
      "Matrix multiplication is not possible: shapes (3,3) and (2,3) not aligned: 3 (dim 1) != 2 (dim 0)\n"
     ]
    }
   ],
   "source": [
    "#Question 5\n",
    "import numpy as np\n",
    "\n",
    "# Define matrices X and Y\n",
    "X = np.array([[5, 7, 2],\n",
    "              [4, 5, 6],\n",
    "              [7, 4, 2]])\n",
    "\n",
    "Y = np.array([[4, 2],\n",
    "              [6, 2],\n",
    "              [4, 2]])\n",
    "\n",
    "# Attempt matrix multiplication\n",
    "try:\n",
    "    result = np.dot(X, Y)\n",
    "    print(\"Result of Matrix Multiplication:\")\n",
    "    print(result)\n",
    "except ValueError as e:\n",
    "    print(f\"Matrix multiplication is not possible: {e}\")\n",
    "\n",
    "# Demonstrate a case where multiplication is not possible\n",
    "Z = np.array([[4, 2, 1],\n",
    "              [6, 2, 5]])\n",
    "\n",
    "try:\n",
    "    result = np.dot(X, Z)\n",
    "    print(\"Result of Matrix Multiplication:\")\n",
    "    print(result)\n",
    "except ValueError as e:\n",
    "    print(f\"Matrix multiplication is not possible: {e}\")\n"
   ]
  },
  {
   "cell_type": "markdown",
   "metadata": {},
   "source": [
    "This code first performs matrix multiplication for matrices X and Y (which is possible), and then it demonstrates a case with matrices X and Z (where multiplication is not possible)."
   ]
  },
  {
   "cell_type": "code",
   "execution_count": 6,
   "metadata": {},
   "outputs": [
    {
     "name": "stdout",
     "output_type": "stream",
     "text": [
      "Vector x:\n",
      "Shape: (3,)\n",
      "Number of dimensions: 1\n",
      "\n",
      "Reshaped Vector x:\n",
      "[[ 2]\n",
      " [-1]\n",
      " [-8]]\n",
      "\n",
      "Reshaped Vector y:\n",
      "[[ 3]\n",
      " [ 1]\n",
      " [-2]]\n",
      "Number of dimensions after reshaping y: 2\n"
     ]
    }
   ],
   "source": [
    "#Question 6\n",
    "import numpy as np\n",
    "\n",
    "# Create the arrays\n",
    "x = np.array([2, -1, -8])\n",
    "y = np.array([3, 1, -2])\n",
    "\n",
    "# Find the shape and number of dimensions of vector x\n",
    "x_shape = x.shape\n",
    "x_dimensions = x.ndim\n",
    "\n",
    "# Reshape vector x to a matrix of size (3,1)\n",
    "x_reshaped = x.reshape((3, 1))\n",
    "\n",
    "# Determine the number of dimensions after reshaping vector y to a matrix of size (3,1)\n",
    "y_reshaped = y.reshape((3, 1))\n",
    "y_dimensions_after_reshape = y_reshaped.ndim\n",
    "\n",
    "# Print the results\n",
    "print(\"Vector x:\")\n",
    "print(\"Shape:\", x_shape)\n",
    "print(\"Number of dimensions:\", x_dimensions)\n",
    "\n",
    "print(\"\\nReshaped Vector x:\")\n",
    "print(x_reshaped)\n",
    "\n",
    "print(\"\\nReshaped Vector y:\")\n",
    "print(y_reshaped)\n",
    "print(\"Number of dimensions after reshaping y:\", y_dimensions_after_reshape)\n"
   ]
  },
  {
   "cell_type": "markdown",
   "metadata": {},
   "source": [
    "The original vector x has a shape of (3,) and 1 dimension. After reshaping x to a matrix of size (3,1), it becomes a 2D array. Vector y is also reshaped to a matrix of size (3,1), which results in a 2D array with 2 dimensions."
   ]
  },
  {
   "cell_type": "code",
   "execution_count": 7,
   "metadata": {},
   "outputs": [
    {
     "name": "stdout",
     "output_type": "stream",
     "text": [
      "Original Matrix A:\n",
      "[[1 2 3]\n",
      " [4 5 6]\n",
      " [7 8 9]]\n",
      "\n",
      "Subtract 2 from every element:\n",
      "[[-1  0  1]\n",
      " [ 2  3  4]\n",
      " [ 5  6  7]]\n",
      "\n",
      "Multiply every element by 3:\n",
      "[[ 3  6  9]\n",
      " [12 15 18]\n",
      " [21 24 27]]\n"
     ]
    }
   ],
   "source": [
    "#Question 7\n",
    "import numpy as np\n",
    "\n",
    "# Create a 3x3 matrix A\n",
    "A = np.array([[1, 2, 3],\n",
    "              [4, 5, 6],\n",
    "              [7, 8, 9]])\n",
    "\n",
    "# Subtract a scalar (e.g., 2) from every element of the matrix\n",
    "result_subtract = A - 2\n",
    "\n",
    "# Multiply every element of the matrix by a scalar (e.g., 3)\n",
    "result_multiply = A * 3\n",
    "\n",
    "# Print the results\n",
    "print(\"Original Matrix A:\")\n",
    "print(A)\n",
    "\n",
    "print(\"\\nSubtract 2 from every element:\")\n",
    "print(result_subtract)\n",
    "\n",
    "print(\"\\nMultiply every element by 3:\")\n",
    "print(result_multiply)\n"
   ]
  },
  {
   "cell_type": "markdown",
   "metadata": {},
   "source": [
    "Broadcasting is a powerful feature in NumPy that allows for element-wise operations between arrays of different shapes, as long as certain compatibility rules are met. These rules allow NumPy to implicitly expand smaller arrays to match the shape of larger arrays, making operations more flexible and efficient. Broadcasting is particularly useful when working with arrays of different shapes in mathematical operations like addition, subtraction, multiplication, etc."
   ]
  },
  {
   "cell_type": "markdown",
   "metadata": {},
   "source": [
    "As you can see, broadcasting allows us to perform element-wise subtraction and multiplication between the matrix and scalars without explicitly creating a matching-shaped scalar array. NumPy automatically handles the broadcasting to make the operations work seamlessly."
   ]
  }
 ],
 "metadata": {
  "kernelspec": {
   "display_name": "Python 3",
   "language": "python",
   "name": "python3"
  },
  "language_info": {
   "codemirror_mode": {
    "name": "ipython",
    "version": 3
   },
   "file_extension": ".py",
   "mimetype": "text/x-python",
   "name": "python",
   "nbconvert_exporter": "python",
   "pygments_lexer": "ipython3",
   "version": "3.8.9"
  },
  "orig_nbformat": 4
 },
 "nbformat": 4,
 "nbformat_minor": 2
}
