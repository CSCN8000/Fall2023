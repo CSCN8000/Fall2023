{
 "cells": [
  {
   "cell_type": "markdown",
   "metadata": {},
   "source": [
    "Bhavesh Thadhani\n",
    "Lab-1\n",
    "PartB Link - https://barneyyyyyy.github.io/Fall2023/8897786/Lab1PartB.html\n",
    "\n",
    "\n",
    "Part-A"
   ]
  },
  {
   "cell_type": "markdown",
   "metadata": {},
   "source": [
    "1)Created an array which starts at 1, ends at 20 and incremented by 3."
   ]
  },
  {
   "cell_type": "code",
   "execution_count": 150,
   "metadata": {},
   "outputs": [
    {
     "name": "stdout",
     "output_type": "stream",
     "text": [
      "[ 1  4  7 10 13 16 19]\n"
     ]
    }
   ],
   "source": [
    "import numpy as np\n",
    "\n",
    "arr = np.arange(1, 21, 3)\n",
    "print(arr)\n"
   ]
  },
  {
   "cell_type": "markdown",
   "metadata": {},
   "source": [
    "2)Created a new array of shape 3 with random numbers between 0 and 1."
   ]
  },
  {
   "cell_type": "code",
   "execution_count": 151,
   "metadata": {},
   "outputs": [
    {
     "name": "stdout",
     "output_type": "stream",
     "text": [
      "[0.09563438 0.44866443 0.86273627]\n"
     ]
    }
   ],
   "source": [
    "random_arr = np.random.rand(3)\n",
    "print(random_arr)\n"
   ]
  },
  {
   "cell_type": "markdown",
   "metadata": {},
   "source": [
    "3)create a 2 D array [[11,15,13], [21,26,29], [14,25,26]] and perform the following operations:\n",
    "Slice the 2D array to get the first two rows, slice the 2D array to get the last two rows.\n",
    "\n",
    "Choosed dfferent numbers"
   ]
  },
  {
   "cell_type": "code",
   "execution_count": 152,
   "metadata": {},
   "outputs": [
    {
     "name": "stdout",
     "output_type": "stream",
     "text": [
      "Original 2D Array:\n",
      " [[11 15 13]\n",
      " [21 26 29]\n",
      " [14 25 26]]\n"
     ]
    }
   ],
   "source": [
    "\n",
    "import numpy as np\n",
    "\n",
    "array_2D = np.array([[11, 15, 13], \n",
    "                     [21, 26, 29], \n",
    "                     [14, 25, 26]])\n",
    "\n",
    "print(\"Original 2D Array:\\n\", array_2D)\n",
    "\n"
   ]
  },
  {
   "cell_type": "markdown",
   "metadata": {},
   "source": [
    "3.1)Slicing with Negative Indexing"
   ]
  },
  {
   "cell_type": "code",
   "execution_count": 153,
   "metadata": {},
   "outputs": [
    {
     "name": "stdout",
     "output_type": "stream",
     "text": [
      "First two rows:\n",
      " [[11 15 13]\n",
      " [21 26 29]]\n",
      "Last two rows:\n",
      " [[21 26 29]\n",
      " [14 25 26]]\n"
     ]
    }
   ],
   "source": [
    "first_two_rows = array_2D[:-1, :]\n",
    "\n",
    "print(\"First two rows:\\n\", first_two_rows)\n",
    "\n",
    "\n",
    "last_two_rows = array_2D[-2:, :]\n",
    "\n",
    "print(\"Last two rows:\\n\", last_two_rows)\n",
    "\n"
   ]
  },
  {
   "cell_type": "markdown",
   "metadata": {},
   "source": [
    "3.1)Slicing by omitting the Start or Stop Index"
   ]
  },
  {
   "cell_type": "code",
   "execution_count": 154,
   "metadata": {},
   "outputs": [
    {
     "name": "stdout",
     "output_type": "stream",
     "text": [
      "First two rows:\n",
      " [[11 15 13]\n",
      " [21 26 29]]\n",
      "Last two rows:\n",
      " [[21 26 29]\n",
      " [14 25 26]]\n"
     ]
    }
   ],
   "source": [
    "first_two_rows = array_2D[:2, :]\n",
    "\n",
    "print(\"First two rows:\\n\", first_two_rows)\n",
    "\n",
    "\n",
    "\n",
    "last_two_rows = array_2D[1:, :]\n",
    "\n",
    "print(\"Last two rows:\\n\", last_two_rows)\n"
   ]
  },
  {
   "cell_type": "markdown",
   "metadata": {},
   "source": [
    "3.1)Sliciing by using Range Function with np.arange"
   ]
  },
  {
   "cell_type": "code",
   "execution_count": 155,
   "metadata": {},
   "outputs": [
    {
     "name": "stdout",
     "output_type": "stream",
     "text": [
      "First two rows:\n",
      " [[11 15 13]\n",
      " [21 26 29]]\n",
      "Last two rows:\n",
      " [[21 26 29]\n",
      " [14 25 26]]\n"
     ]
    }
   ],
   "source": [
    "first_two_rows = array_2D[np.arange(2), :]\n",
    "\n",
    "print(\"First two rows:\\n\", first_two_rows)\n",
    "\n",
    "last_two_rows = array_2D[np.arange(1, 3), :]\n",
    "\n",
    "print(\"Last two rows:\\n\", last_two_rows)\n"
   ]
  },
  {
   "cell_type": "markdown",
   "metadata": {},
   "source": [
    "4)create two 2x2 arrays and demonstrate how you can stack the elements vertically, horizontally, and split the arrays into smaller arrays."
   ]
  },
  {
   "cell_type": "code",
   "execution_count": 156,
   "metadata": {},
   "outputs": [
    {
     "name": "stdout",
     "output_type": "stream",
     "text": [
      "Array 1:\n",
      " [[0 1]\n",
      " [2 3]]\n",
      "\n",
      "Array 2:\n",
      " [[4 5]\n",
      " [6 7]]\n"
     ]
    }
   ],
   "source": [
    "\n",
    "import numpy as np\n",
    "\n",
    "array1 = np.array([[0, 1], \n",
    "                   [2, 3]])\n",
    "\n",
    "array2 = np.array([[4, 5], \n",
    "                   [6, 7]])\n",
    "\n",
    "print(\"Array 1:\\n\", array1)\n",
    "print(\"\\nArray 2:\\n\", array2)\n"
   ]
  },
  {
   "cell_type": "markdown",
   "metadata": {},
   "source": [
    "4.1)Vertically stacking the arrays"
   ]
  },
  {
   "cell_type": "code",
   "execution_count": 157,
   "metadata": {},
   "outputs": [
    {
     "name": "stdout",
     "output_type": "stream",
     "text": [
      "\n",
      "Vertically Stacked:\n",
      " [[0 1]\n",
      " [2 3]\n",
      " [4 5]\n",
      " [6 7]]\n"
     ]
    }
   ],
   "source": [
    "vstacked = np.vstack((array1, array2))\n",
    "print(\"\\nVertically Stacked:\\n\", vstacked)\n"
   ]
  },
  {
   "cell_type": "markdown",
   "metadata": {},
   "source": [
    "4.2)Horizontally stacking the arrays"
   ]
  },
  {
   "cell_type": "code",
   "execution_count": 158,
   "metadata": {},
   "outputs": [
    {
     "name": "stdout",
     "output_type": "stream",
     "text": [
      "\n",
      "Horizontally Stacked:\n",
      " [[0 1 4 5]\n",
      " [2 3 6 7]]\n"
     ]
    }
   ],
   "source": [
    "hstacked = np.hstack((array1, array2))\n",
    "print(\"\\nHorizontally Stacked:\\n\", hstacked)\n"
   ]
  },
  {
   "cell_type": "markdown",
   "metadata": {},
   "source": [
    "4.3)Splitting the arrays vertically"
   ]
  },
  {
   "cell_type": "code",
   "execution_count": 159,
   "metadata": {},
   "outputs": [
    {
     "name": "stdout",
     "output_type": "stream",
     "text": [
      "\n",
      "Vertically Split Arrays:\n",
      "\n",
      "[[0 1]\n",
      " [2 3]]\n",
      "\n",
      "[[4 5]\n",
      " [6 7]]\n",
      "\n"
     ]
    }
   ],
   "source": [
    "split_arrays_vertical = np.hsplit(hstacked, 2)\n",
    "print(\"\\nVertically Split Arrays:\\n\")\n",
    "for arr in split_arrays_vertical:\n",
    "    print(arr)\n",
    "    print()\n"
   ]
  },
  {
   "cell_type": "markdown",
   "metadata": {},
   "source": [
    "4.4)Splitting the arrays Horizontally"
   ]
  },
  {
   "cell_type": "code",
   "execution_count": 160,
   "metadata": {},
   "outputs": [
    {
     "name": "stdout",
     "output_type": "stream",
     "text": [
      "\n",
      "Horizontally Split Arrays:\n",
      "\n",
      "[[0 1]\n",
      " [2 3]]\n",
      "\n",
      "[[4 5]\n",
      " [6 7]]\n",
      "\n"
     ]
    }
   ],
   "source": [
    "split_arrays_horizontal = np.vsplit(vstacked, 2)\n",
    "print(\"\\nHorizontally Split Arrays:\\n\")\n",
    "for arr in split_arrays_horizontal:\n",
    "    print(arr)\n",
    "    print()\n"
   ]
  },
  {
   "cell_type": "markdown",
   "metadata": {},
   "source": [
    "5)Create two matrices X= ([[5, 7, 2], [4, 5, 6], [7, 4 ,2]]) Y= ([[4, 2], [6, 2], [4, 2]]),\n",
    "Is it possible to multiply these matrices?\n",
    "Demonstrate the case when it is not possible to."
   ]
  },
  {
   "cell_type": "code",
   "execution_count": 161,
   "metadata": {},
   "outputs": [
    {
     "name": "stdout",
     "output_type": "stream",
     "text": [
      "Matrix X:\n",
      " [[5 7 2]\n",
      " [4 5 6]\n",
      " [7 4 2]]\n",
      "\n",
      "Matrix Y:\n",
      " [[4 2]\n",
      " [6 2]\n",
      " [4 2]]\n"
     ]
    }
   ],
   "source": [
    "import numpy as np\n",
    "\n",
    "X = np.array([[5, 7, 2], \n",
    "              [4, 5, 6], \n",
    "              [7, 4, 2]])\n",
    "\n",
    "Y = np.array([[4, 2], \n",
    "              [6, 2], \n",
    "              [4, 2]])\n",
    "\n",
    "print(\"Matrix X:\\n\", X)\n",
    "print(\"\\nMatrix Y:\\n\", Y)\n"
   ]
  },
  {
   "cell_type": "markdown",
   "metadata": {},
   "source": [
    "5.1)Multipying the matrices as the number of rows for both matrix are same so we can multiply by dot product"
   ]
  },
  {
   "cell_type": "code",
   "execution_count": 162,
   "metadata": {},
   "outputs": [
    {
     "name": "stdout",
     "output_type": "stream",
     "text": [
      "\n",
      "Resultant Matrix:\n",
      " [[70 28]\n",
      " [70 30]\n",
      " [60 26]]\n"
     ]
    }
   ],
   "source": [
    "result = np.dot(X, Y)\n",
    "print(\"\\nResultant Matrix:\\n\", result)\n"
   ]
  },
  {
   "cell_type": "markdown",
   "metadata": {},
   "source": [
    "5.2)For the case of multiplication failing we should have matrices with different number of rows as A has (3,2) and B has (2,3)\n",
    "For eg"
   ]
  },
  {
   "cell_type": "code",
   "execution_count": 163,
   "metadata": {},
   "outputs": [
    {
     "name": "stdout",
     "output_type": "stream",
     "text": [
      "\n",
      "Matrix A:\n",
      " [[7 1]\n",
      " [8 1]\n",
      " [9 1]]\n",
      "\n",
      "Matrix B:\n",
      " [[7 1 8]\n",
      " [8 1 9]]\n"
     ]
    }
   ],
   "source": [
    "A = np.array([[7, 1], \n",
    "              [8, 1], \n",
    "              [9, 1]])\n",
    "\n",
    "B = np.array([[7, 1, 8], \n",
    "              [8, 1, 9]])\n",
    "\n",
    "print(\"\\nMatrix A:\\n\", A)\n",
    "print(\"\\nMatrix B:\\n\", B)\n"
   ]
  },
  {
   "cell_type": "markdown",
   "metadata": {},
   "source": [
    "6)Create two arrays, x = ([2, -1, -8]) y = ([3, 1, -2]),\n",
    "Find the Shape, Number of dimensions of vector x.\n",
    "Reshape the vector x to a matrix of size (3,1) and determine the number of dimensions after reshaping y to a matrix of (3,1)."
   ]
  },
  {
   "cell_type": "code",
   "execution_count": 164,
   "metadata": {},
   "outputs": [
    {
     "name": "stdout",
     "output_type": "stream",
     "text": [
      "Array x: [ 2 -1 -8]\n",
      "Array y: [ 3  1 -2]\n"
     ]
    }
   ],
   "source": [
    "x = np.array([2, -1, -8])\n",
    "y = np.array([3, 1, -2])\n",
    "\n",
    "print(\"Array x:\", x)\n",
    "print(\"Array y:\", y)\n"
   ]
  },
  {
   "cell_type": "markdown",
   "metadata": {},
   "source": [
    "6.1)Shape, number of dimensions of vector x."
   ]
  },
  {
   "cell_type": "code",
   "execution_count": 165,
   "metadata": {},
   "outputs": [
    {
     "name": "stdout",
     "output_type": "stream",
     "text": [
      "Shape of x: (3,)\n",
      "Number of dimensions of x: 1\n"
     ]
    }
   ],
   "source": [
    "print(f\"Shape of x: {x.shape}\")\n",
    "print(f\"Number of dimensions of x: {x.ndim}\")"
   ]
  },
  {
   "cell_type": "markdown",
   "metadata": {},
   "source": [
    "6.2)Reshape the vector x to a matrix of size (3,1) and determine the number of dimensions after reshaping y to a matrix of (3,1)."
   ]
  },
  {
   "cell_type": "code",
   "execution_count": 166,
   "metadata": {},
   "outputs": [
    {
     "name": "stdout",
     "output_type": "stream",
     "text": [
      "\n",
      "Reshaped x:\n",
      " [[ 2]\n",
      " [-1]\n",
      " [-8]]\n",
      "Shape of reshaped x: (3, 1)\n",
      "Number of dimensions of reshaped x: 2\n"
     ]
    }
   ],
   "source": [
    "x_reshaped = x.reshape(3,1)\n",
    "print(\"\\nReshaped x:\\n\", x_reshaped)\n",
    "\n",
    "print(\"Shape of reshaped x:\", x_reshaped.shape)\n",
    "print(\"Number of dimensions of reshaped x:\", x_reshaped.ndim)\n"
   ]
  },
  {
   "cell_type": "markdown",
   "metadata": {},
   "source": [
    "6.2)Reshape the vector x to a matrix of size (3,1) and determine the number of dimensions after reshaping y to a matrix of (3,1)."
   ]
  },
  {
   "cell_type": "code",
   "execution_count": 167,
   "metadata": {},
   "outputs": [
    {
     "name": "stdout",
     "output_type": "stream",
     "text": [
      "\n",
      "Reshaped y:\n",
      " [[ 3]\n",
      " [ 1]\n",
      " [-2]]\n",
      "Shape of reshaped y: (3, 1)\n",
      "Number of dimensions of reshaped y: 2\n"
     ]
    }
   ],
   "source": [
    "y_reshaped = y.reshape(3,1)\n",
    "print(\"\\nReshaped y:\\n\", y_reshaped)\n",
    "\n",
    "print(\"Shape of reshaped y:\", y_reshaped.shape)\n",
    "print(\"Number of dimensions of reshaped y:\", y_reshaped.ndim)\n"
   ]
  },
  {
   "cell_type": "markdown",
   "metadata": {},
   "source": [
    "7)Methods of broadcasting"
   ]
  },
  {
   "cell_type": "code",
   "execution_count": 168,
   "metadata": {},
   "outputs": [
    {
     "name": "stdout",
     "output_type": "stream",
     "text": [
      "Original matrix:\n",
      " [[1 2 3]\n",
      " [4 5 6]\n",
      " [7 8 9]]\n",
      "\n",
      "Array: [1 0 1]\n",
      "\n",
      "Subtraction Result (Broadcasted):\n",
      " [[0 2 2]\n",
      " [3 5 5]\n",
      " [6 8 8]]\n",
      "\n",
      "Multiplication Result (Broadcasted):\n",
      " [[1 0 3]\n",
      " [4 0 6]\n",
      " [7 0 9]]\n"
     ]
    }
   ],
   "source": [
    "import numpy as np\n",
    "\n",
    "# Creating a 3x3 matrix\n",
    "matrix = np.array([[1, 3, 1], [1, 1, 9], [9, 9, 0]])\n",
    "\n",
    "# Creating a 1x3 array\n",
    "array = np.array([1, 0, 1])\n",
    "\n",
    "print(\"Original matrix:\\n\", matrix)\n",
    "print(\"\\nArray:\", array)\n",
    "\n",
    "# Broadcasting with subtraction\n",
    "subtracted_result = matrix - array\n",
    "print(\"\\nSubtraction Result (Broadcasted):\\n\", subtracted_result)\n",
    "\n",
    "# Broadcasting with multiplication\n",
    "multiplied_result = matrix * array\n",
    "print(\"\\nMultiplication Result (Broadcasted):\\n\", multiplied_result)\n"
   ]
  }
 ],
 "metadata": {
  "kernelspec": {
   "display_name": "CSCN8010_classic_ml",
   "language": "python",
   "name": "python3"
  },
  "language_info": {
   "codemirror_mode": {
    "name": "ipython",
    "version": 3
   },
   "file_extension": ".py",
   "mimetype": "text/x-python",
   "name": "python",
   "nbconvert_exporter": "python",
   "pygments_lexer": "ipython3",
   "version": "3.11.5"
  },
  "orig_nbformat": 4
 },
 "nbformat": 4,
 "nbformat_minor": 2
}
