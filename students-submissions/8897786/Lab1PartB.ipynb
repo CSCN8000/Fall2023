{
 "cells": [
  {
   "cell_type": "markdown",
   "metadata": {},
   "source": [
    "Bhavesh Thadhani\n",
    "Lab-1\n",
    "PartB"
   ]
  },
  {
   "cell_type": "markdown",
   "metadata": {},
   "source": [
    "B.1)Determine the singularity of the system of equations, comment on the expected solution of the system. Solve the system of equations if possible. Justify the reason why you believe the system can or cannot be solved using numpy functions.\n",
    "\n",
    "4x + y - 2z = 10\n",
    "2x - 3y + 2z = -4\n",
    "x + 2y + 3z = 6"
   ]
  },
  {
   "cell_type": "code",
   "execution_count": 1,
   "metadata": {},
   "outputs": [
    {
     "name": "stdout",
     "output_type": "stream",
     "text": [
      "Determinant of A1: -70.00000000000003\n",
      "Solution for system in Part B.1: [ 1.8  2.4 -0.2]\n"
     ]
    }
   ],
   "source": [
    "import numpy as np\n",
    "\n",
    "A1 = np.array([[4, 1, -2], \n",
    "              [2, -3, 2], \n",
    "              [1, 2, 3]])\n",
    "b1 = np.array([10, -4, 6])\n",
    "\n",
    "# Check the determinant\n",
    "det_A1 = np.linalg.det(A1)\n",
    "print(f\"Determinant of A1: {det_A1}\")\n",
    "\n",
    "# If the determinant is not zero, then its an nonsingular and has a unique solution\n",
    "if det_A1:\n",
    "    solution1 = np.linalg.solve(A1, b1)\n",
    "    print(f\"Solution for system in Part B.1: {solution1}\")\n",
    "else:\n",
    "    print(\"The system in Part B.1 doesn't have a unique solution.\")\n"
   ]
  },
  {
   "cell_type": "markdown",
   "metadata": {},
   "source": [
    "1.2)Determine the singularity of the system of equations, comment on the expected solution of the system. Solve the system of equations if possible. Justify the reason why you believe the system can or cannot be solved using numpy functions.\n",
    "\n",
    "2x - y + 3z + 4w = 10\n",
    "4x - 2y + 6z + 8w = 20\n",
    "3x + y - 2z + 2w = 3\n",
    "x + 3y - 4z + w = -1\n"
   ]
  },
  {
   "cell_type": "code",
   "execution_count": 2,
   "metadata": {},
   "outputs": [
    {
     "name": "stdout",
     "output_type": "stream",
     "text": [
      "\n",
      "Determinant of A2: 0.0\n",
      "The system in Part B.2 doesn't have a unique solution.\n"
     ]
    }
   ],
   "source": [
    "A2 = np.array([[2, -1, 3, 4], \n",
    "              [4, -2, 6, 8], \n",
    "              [3, 1, -2, 2], \n",
    "              [1, 3, -4, 1]])\n",
    "b2 = np.array([10, 20, 3, -1])\n",
    "\n",
    "# Check the determinant\n",
    "det_A2 = np.linalg.det(A2)\n",
    "print(f\"\\nDeterminant of A2: {det_A2}\")\n",
    "\n",
    "# If the determinant is not zero, then it's non-singular and has a unique solution\n",
    "if det_A2:\n",
    "    solution2 = np.linalg.solve(A2, b2)\n",
    "    print(f\"Solution for system in Part B.2: {solution2}\")\n",
    "else:\n",
    "    print(\"The system in Part B.2 doesn't have a unique solution.\")\n"
   ]
  }
 ],
 "metadata": {
  "kernelspec": {
   "display_name": "CSCN8010_classic_ml",
   "language": "python",
   "name": "python3"
  },
  "language_info": {
   "codemirror_mode": {
    "name": "ipython",
    "version": 3
   },
   "file_extension": ".py",
   "mimetype": "text/x-python",
   "name": "python",
   "nbconvert_exporter": "python",
   "pygments_lexer": "ipython3",
   "version": "3.11.5"
  },
  "orig_nbformat": 4
 },
 "nbformat": 4,
 "nbformat_minor": 2
}
