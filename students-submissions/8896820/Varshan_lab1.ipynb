{
 "cells": [
  {
   "cell_type": "code",
   "execution_count": 1,
   "metadata": {},
   "outputs": [],
   "source": [
    "import numpy as np"
   ]
  },
  {
   "cell_type": "markdown",
   "metadata": {},
   "source": [
    "Question A.1"
   ]
  },
  {
   "cell_type": "code",
   "execution_count": 4,
   "metadata": {},
   "outputs": [
    {
     "name": "stdout",
     "output_type": "stream",
     "text": [
      "[ 1  4  7 10 13 16 19]\n"
     ]
    }
   ],
   "source": [
    "arr_1 = np.arange(1, 21, 3)\n",
    "print(arr_1)"
   ]
  },
  {
   "cell_type": "markdown",
   "metadata": {},
   "source": [
    "Question A.2"
   ]
  },
  {
   "cell_type": "code",
   "execution_count": 5,
   "metadata": {},
   "outputs": [
    {
     "name": "stdout",
     "output_type": "stream",
     "text": [
      "[0.30376297 0.25539001 0.12172039]\n"
     ]
    }
   ],
   "source": [
    "# Task 2\n",
    "arr_2 = np.random.rand(3)\n",
    "print(arr_2)"
   ]
  },
  {
   "cell_type": "markdown",
   "metadata": {},
   "source": [
    "Question A.3"
   ]
  },
  {
   "cell_type": "code",
   "execution_count": 6,
   "metadata": {},
   "outputs": [
    {
     "name": "stdout",
     "output_type": "stream",
     "text": [
      "First two rows: [[10 20 45]\n",
      " [30 12 16]]\n",
      "Last two rows: [[30 12 16]\n",
      " [42 17 56]]\n"
     ]
    }
   ],
   "source": [
    "# Task 3\n",
    "arr_3 = np.array([[10, 20, 45], [30, 12, 16], [42, 17, 56]])\n",
    "first_two_rows = arr_3[:2]\n",
    "print(\"First two rows:\", first_two_rows)\n",
    "last_two_rows = arr_3[1:]\n",
    "print(\"Last two rows:\", last_two_rows)"
   ]
  },
  {
   "cell_type": "markdown",
   "metadata": {},
   "source": [
    "Question A.4"
   ]
  },
  {
   "cell_type": "code",
   "execution_count": 7,
   "metadata": {},
   "outputs": [
    {
     "name": "stdout",
     "output_type": "stream",
     "text": [
      "Vertical Stack: [[1 2]\n",
      " [3 4]\n",
      " [5 6]\n",
      " [7 8]]\n",
      "Horizontal Stack: [[1 2 5 6]\n",
      " [3 4 7 8]]\n",
      "Split Array: [array([[1, 2],\n",
      "       [3, 4]]), array([[5, 6],\n",
      "       [7, 8]])]\n"
     ]
    }
   ],
   "source": [
    "arr_4a = np.array([[1, 2], [3, 4]])\n",
    "arr_4b = np.array([[5, 6], [7, 8]])\n",
    "\n",
    "# Vertical stack\n",
    "vertical_stack = np.vstack((arr_4a, arr_4b))\n",
    "print(\"Vertical Stack:\", vertical_stack)\n",
    "\n",
    "# Horizontal stack\n",
    "horizontal_stack = np.hstack((arr_4a, arr_4b))\n",
    "print(\"Horizontal Stack:\", horizontal_stack)\n",
    "\n",
    "# Split into smaller arrays\n",
    "split_array = np.split(vertical_stack, 2)  # Split into 2 smaller arrays along vertical axis\n",
    "print(\"Split Array:\", split_array)\n"
   ]
  },
  {
   "cell_type": "markdown",
   "metadata": {},
   "source": [
    "Question A.5"
   ]
  },
  {
   "cell_type": "code",
   "execution_count": 8,
   "metadata": {},
   "outputs": [
    {
     "name": "stdout",
     "output_type": "stream",
     "text": [
      "Matrix Multiplication: [[70 28]\n",
      " [70 30]\n",
      " [60 26]]\n"
     ]
    }
   ],
   "source": [
    "\n",
    "X = np.array([[5, 7, 2], [4, 5, 6], [7, 4, 2]])\n",
    "Y = np.array([[4, 2], [6, 2], [4, 2]])"
   ]
  },
  {
   "cell_type": "markdown",
   "metadata": {},
   "source": [
    "its possible because shape of x is 3x3 and y is 3x2  \n",
    "the column of x and row of y is same. hence x*y is possible."
   ]
  },
  {
   "cell_type": "code",
   "execution_count": null,
   "metadata": {},
   "outputs": [],
   "source": [
    "\n",
    "# Matrix multiplication\n",
    "result = np.dot(X, Y)\n",
    "print(\"Matrix Multiplication:\", result)"
   ]
  },
  {
   "cell_type": "markdown",
   "metadata": {},
   "source": [
    "the reverse case is impossible because column of y and row of x is not same"
   ]
  },
  {
   "cell_type": "markdown",
   "metadata": {},
   "source": [
    "Question A.6"
   ]
  },
  {
   "cell_type": "code",
   "execution_count": 9,
   "metadata": {},
   "outputs": [
    {
     "name": "stdout",
     "output_type": "stream",
     "text": [
      "x Shape: (3,)\n",
      "x Dimensions: 1\n",
      "x Reshaped: [[ 2]\n",
      " [-1]\n",
      " [-8]]\n",
      "y Reshaped: [[ 3]\n",
      " [ 1]\n",
      " [-2]]\n",
      "x Reshaped Dimensions: 2\n",
      "y Reshaped Dimensions: 2\n"
     ]
    }
   ],
   "source": [
    "x = np.array([2, -1, -8])\n",
    "y = np.array([3, 1, -2])\n",
    "\n",
    "# Shape and number of dimensions\n",
    "print(\"x Shape:\", x.shape)\n",
    "print(\"x Dimensions:\", x.ndim)\n",
    "\n",
    "# Reshape to (3, 1)\n",
    "x_reshaped = x.reshape((3, 1))\n",
    "y_reshaped = y.reshape((3, 1))\n",
    "print(\"x Reshaped:\", x_reshaped)\n",
    "print(\"y Reshaped:\", y_reshaped)\n",
    "\n",
    "# Number of dimensions after reshaping\n",
    "x_reshaped_dimensions = x_reshaped.ndim\n",
    "y_reshaped_dimensions = y_reshaped.ndim\n",
    "print(\"x Reshaped Dimensions:\", x_reshaped_dimensions)\n",
    "print(\"y Reshaped Dimensions:\", y_reshaped_dimensions)\n"
   ]
  },
  {
   "cell_type": "markdown",
   "metadata": {},
   "source": [
    "Question A.7"
   ]
  },
  {
   "cell_type": "code",
   "execution_count": 11,
   "metadata": {},
   "outputs": [
    {
     "name": "stdout",
     "output_type": "stream",
     "text": [
      "Broadcasting Subtraction: [[ -9 -18 -27]\n",
      " [ -6 -15 -24]\n",
      " [ -3 -12 -21]]\n",
      "Broadcasting Multiplication: [[ 10  40  90]\n",
      " [ 40 100 180]\n",
      " [ 70 160 270]]\n"
     ]
    }
   ],
   "source": [
    "# Broadcasting example\n",
    "a = np.array([[1, 2, 3], [4, 5, 6], [7, 8, 9]])\n",
    "b = np.array([10, 20, 30])\n",
    "\n",
    "# Subtract vector b from matrix a using broadcasting\n",
    "result_subtraction = a - b\n",
    "print(\"Broadcasting Subtraction:\", result_subtraction)\n",
    "\n",
    "# Multiply matrix by vector using broadcasting\n",
    "result_multiplication = a * b\n",
    "print(\"Broadcasting Multiplication:\", result_multiplication)"
   ]
  },
  {
   "cell_type": "markdown",
   "metadata": {},
   "source": [
    "## Part B"
   ]
  },
  {
   "cell_type": "markdown",
   "metadata": {},
   "source": [
    "Question B.1"
   ]
  },
  {
   "cell_type": "code",
   "execution_count": 17,
   "metadata": {},
   "outputs": [],
   "source": [
    "B1 = np.array([[4, 1, -2], [2, -3, 2], [1, 2, 3]])"
   ]
  },
  {
   "cell_type": "code",
   "execution_count": 18,
   "metadata": {},
   "outputs": [
    {
     "name": "stdout",
     "output_type": "stream",
     "text": [
      "-70.00000000000003\n"
     ]
    }
   ],
   "source": [
    "print(np.linalg.det(B1))"
   ]
  },
  {
   "cell_type": "markdown",
   "metadata": {},
   "source": [
    "the above matrix is non singular because the determinent is not a zero.  \n",
    "the system of equation has the solution beacsue its non singular"
   ]
  },
  {
   "cell_type": "code",
   "execution_count": 15,
   "metadata": {},
   "outputs": [],
   "source": [
    "b = np.array([10, -4, 6])"
   ]
  },
  {
   "cell_type": "code",
   "execution_count": 21,
   "metadata": {},
   "outputs": [],
   "source": [
    "x, y, z = np.linalg.solve(B1, b)"
   ]
  },
  {
   "cell_type": "code",
   "execution_count": 23,
   "metadata": {},
   "outputs": [
    {
     "name": "stdout",
     "output_type": "stream",
     "text": [
      "The solution is \n",
      "x= 1.7999999999999998\n",
      "y= 2.4\n",
      "z= -0.2\n"
     ]
    }
   ],
   "source": [
    "print('The solution is ')\n",
    "print('x=', x)\n",
    "print('y=', y)\n",
    "print('z=', z)"
   ]
  },
  {
   "cell_type": "markdown",
   "metadata": {},
   "source": [
    "Question B.2"
   ]
  },
  {
   "cell_type": "code",
   "execution_count": 19,
   "metadata": {},
   "outputs": [],
   "source": [
    "B2 = np.array([[2, -1, 3, 4], [4, -2, 6, 8], [3, 1, -2, 2], [1, 3, -4, 1]])"
   ]
  },
  {
   "cell_type": "code",
   "execution_count": 20,
   "metadata": {},
   "outputs": [
    {
     "name": "stdout",
     "output_type": "stream",
     "text": [
      "0.0\n"
     ]
    }
   ],
   "source": [
    "print(np.linalg.det(B2))"
   ]
  },
  {
   "cell_type": "markdown",
   "metadata": {},
   "source": [
    "the above matrix is non singular because the determinent zero.  \n",
    "the system of equation does not has the solution beacsue its singular."
   ]
  },
  {
   "cell_type": "markdown",
   "metadata": {},
   "source": []
  }
 ],
 "metadata": {
  "kernelspec": {
   "display_name": "CSCN8010",
   "language": "python",
   "name": "python3"
  },
  "language_info": {
   "codemirror_mode": {
    "name": "ipython",
    "version": 3
   },
   "file_extension": ".py",
   "mimetype": "text/x-python",
   "name": "python",
   "nbconvert_exporter": "python",
   "pygments_lexer": "ipython3",
   "version": "3.11.5"
  },
  "orig_nbformat": 4
 },
 "nbformat": 4,
 "nbformat_minor": 2
}
