{
 "cells": [
  {
   "cell_type": "markdown",
   "metadata": {},
   "source": [
    "__Lab 1 – Basic NumPy Operations__"
   ]
  },
  {
   "cell_type": "markdown",
   "metadata": {},
   "source": [
    "__Part A- Create a Notebook to demonstrate NumPy Operations.__"
   ]
  },
  {
   "cell_type": "markdown",
   "metadata": {},
   "source": [
    "Import Numpy Library"
   ]
  },
  {
   "cell_type": "code",
   "execution_count": 110,
   "metadata": {},
   "outputs": [],
   "source": [
    "import numpy as np"
   ]
  },
  {
   "cell_type": "markdown",
   "metadata": {},
   "source": [
    "Create an array starting from 1, ending at 20, incremented by 3"
   ]
  },
  {
   "cell_type": "code",
   "execution_count": 111,
   "metadata": {},
   "outputs": [
    {
     "name": "stdout",
     "output_type": "stream",
     "text": [
      "[ 1  4  7 10 13 16 19]\n"
     ]
    }
   ],
   "source": [
    "my_array = np.arange(1, 21, 3)\n",
    "print(my_array)"
   ]
  },
  {
   "cell_type": "markdown",
   "metadata": {},
   "source": [
    "Create a new array of shape 3 with random numbers between 0 and 1"
   ]
  },
  {
   "cell_type": "code",
   "execution_count": 112,
   "metadata": {},
   "outputs": [
    {
     "name": "stdout",
     "output_type": "stream",
     "text": [
      "[0.73602347 0.66852724 0.05716483]\n"
     ]
    }
   ],
   "source": [
    "random_array = np.random.rand(3)\n",
    "print(random_array)"
   ]
  },
  {
   "cell_type": "markdown",
   "metadata": {},
   "source": [
    "Create a 2 D array [[10,20,45], [30,12,16], [42,17,56]] and perform the following operations:\n",
    "\n",
    "- Slice the 2D array to get the first two rows, slice the 2D array to get the last two rows."
   ]
  },
  {
   "cell_type": "code",
   "execution_count": 113,
   "metadata": {},
   "outputs": [
    {
     "name": "stdout",
     "output_type": "stream",
     "text": [
      "[[10 20 45]\n",
      " [30 12 16]\n",
      " [42 17 56]]\n",
      "\n",
      "\n",
      "First 2 rows:\n",
      "[[10 20 45]\n",
      " [30 12 16]]\n",
      "\n",
      "\n",
      "Last 2 rows:\n",
      "[[30 12 16]\n",
      " [42 17 56]]\n"
     ]
    }
   ],
   "source": [
    "array_2d = np.array([[10,20,45],[30,12,16],[42,17,56]])\n",
    "print(array_2d)\n",
    "\n",
    "print(\"\\n\")\n",
    "print(\"First 2 rows:\")\n",
    "print(array_2d[:2,:])\n",
    "print(\"\\n\")\n",
    "print(\"Last 2 rows:\")\n",
    "print(array_2d[-2:,:])\n"
   ]
  },
  {
   "cell_type": "markdown",
   "metadata": {},
   "source": [
    "Create two 2x2 arrays and demonstrate how you can stack the elements vertically, horizontally, and split the arrays into smaller arrays.\n"
   ]
  },
  {
   "cell_type": "code",
   "execution_count": 114,
   "metadata": {},
   "outputs": [
    {
     "name": "stdout",
     "output_type": "stream",
     "text": [
      "Vertical Stack:\n",
      "[[ 2  3]\n",
      " [ 4  5]\n",
      " [ 7  8]\n",
      " [ 9 10]]\n",
      "\n",
      "\n",
      "Horizontal Stack:\n",
      "[[ 2  3  7  8]\n",
      " [ 4  5  9 10]]\n",
      "\n",
      "\n",
      "[array([[2, 3],\n",
      "       [4, 5]]), array([[ 7,  8],\n",
      "       [ 9, 10]])]\n",
      "\n",
      "\n",
      "[array([[ 2,  3,  7,  8],\n",
      "       [ 4,  5,  9, 10]])]\n"
     ]
    }
   ],
   "source": [
    "array_1 = np.array([[2,3],[4,5]])\n",
    "array_2 = np.array([[7,8],[9,10]])\n",
    "\n",
    "vt_array = np.vstack((array_1,array_2))\n",
    "print(\"Vertical Stack:\")\n",
    "print(vt_array)\n",
    "\n",
    "print(\"\\n\")\n",
    "\n",
    "ht_array = np.hstack((array_1,array_2))\n",
    "print(\"Horizontal Stack:\")\n",
    "print(ht_array)\n",
    "\n",
    "print(\"\\n\")\n",
    "\n",
    "print(np.vsplit(vt_array,2))\n",
    "\n",
    "print(\"\\n\")\n",
    "\n",
    "print(np.hsplit(ht_array,1))"
   ]
  },
  {
   "cell_type": "markdown",
   "metadata": {},
   "source": [
    "Create two matrices X= ([[5, 7, 2], [4, 5, 6], [7, 4 ,2]]) Y= ([[4, 2], [6, 2], [4, 2]]),\n",
    "\n",
    "Is it possible to multiply these matrices?\n",
    "\n",
    "Demonstrate the case when it is not possible to"
   ]
  },
  {
   "cell_type": "code",
   "execution_count": 115,
   "metadata": {},
   "outputs": [
    {
     "name": "stdout",
     "output_type": "stream",
     "text": [
      "Shape of Matrix 1: (3, 3)\n",
      "Shape of Matrix 2: (3, 2)\n",
      "\n",
      "\n",
      "Multiplication Possible\n",
      "\n",
      "\n",
      "Multiplication Result: \n",
      " [[70 28]\n",
      " [70 30]\n",
      " [60 26]]\n"
     ]
    }
   ],
   "source": [
    "matrix_1 = np.array([[5,7,2],[4,5,6],[7,4,2]])\n",
    "shape1 = matrix_1.shape\n",
    "print(\"Shape of Matrix 1:\",shape1)\n",
    "\n",
    "matrix_2 = np.array([[4,2],[6,2],[4,2]])\n",
    "shape2 = matrix_2.shape\n",
    "print(\"Shape of Matrix 2:\",shape2)\n",
    "\n",
    "print(\"\\n\")\n",
    "if shape1[1] == shape2[0]:\n",
    "    print(\"Multiplication Possible\")\n",
    "    print(\"\\n\")\n",
    "    print(\"Multiplication Result: \\n\",np.dot(matrix_1,matrix_2))\n",
    "\n",
    "else:\n",
    "    print(\"Multiplication Not Possible\")\n"
   ]
  },
  {
   "cell_type": "markdown",
   "metadata": {},
   "source": [
    "Create two arrays, x = ([2, -1, -8]) y = ([3, 1, -2]),\n",
    "\n",
    "Find the Shape, Number of dimensions of vector x.\n",
    "\n",
    "Reshape the vector x to a matrix of size (3,1) and determine the number of dimensions after reshaping to a matrix of (3,1)."
   ]
  },
  {
   "cell_type": "code",
   "execution_count": 116,
   "metadata": {},
   "outputs": [
    {
     "name": "stdout",
     "output_type": "stream",
     "text": [
      "Vector X: Shape (3,) and Dimension 1\n",
      "Vector Y: Shape (3,) and Dimension 1\n",
      "\n",
      "\n",
      "Reshaped Vector X:\n",
      "[[ 2]\n",
      " [-1]\n",
      " [-8]]\n",
      "Reshaped X: Shape (3, 1) and Dimension 2\n"
     ]
    }
   ],
   "source": [
    "x = np.array([2, -1, -8])\n",
    "print(f\"Vector X: Shape {x.shape} and Dimension {x.ndim}\")\n",
    "\n",
    "y = np.array([3, 1, -2])\n",
    "print(f\"Vector Y: Shape {y.shape} and Dimension {y.ndim}\")\n",
    "\n",
    "print(\"\\n\")\n",
    "print(\"Reshaped Vector X:\")\n",
    "x_reshape = x.reshape(3,1)\n",
    "print(x_reshape)\n",
    "\n",
    "print(f\"Reshaped X: Shape {x_reshape.shape} and Dimension {x_reshape.ndim}\")\n",
    "\n"
   ]
  },
  {
   "cell_type": "markdown",
   "metadata": {},
   "source": [
    "How does broadcasting work? Demonstrate the subtraction, multiplication by considering a 3 x 3 matrix.\n",
    "\n",
    "*Broadcasting allows to perform operations on arrays with different shapes. In the following examples, subtraction and multiplication will be performed on 3x3 matrix using a scalar value.*"
   ]
  },
  {
   "cell_type": "code",
   "execution_count": 117,
   "metadata": {},
   "outputs": [
    {
     "name": "stdout",
     "output_type": "stream",
     "text": [
      "Original Matrix:\n",
      "[[1 2 3]\n",
      " [4 5 6]\n",
      " [7 8 9]]\n",
      "\n",
      "\n",
      "Matrix after subtraction:\n",
      "[[-2 -1  0]\n",
      " [ 1  2  3]\n",
      " [ 4  5  6]]\n",
      "\n",
      "\n",
      "Matrix afer multiplication:\n",
      "[[ 4  8 12]\n",
      " [16 20 24]\n",
      " [28 32 36]]\n"
     ]
    }
   ],
   "source": [
    "array = np.array([[1,2,3],[4,5,6],[7,8,9]])\n",
    "\n",
    "sub_num = 3 #scalar value for subtraction\n",
    "mul_num = 4 #scalar value for multiplication\n",
    "\n",
    "print(\"Original Matrix:\")\n",
    "print(array)\n",
    "\n",
    "print(\"\\n\")\n",
    "print(\"Matrix after subtraction:\")\n",
    "result_subtract = array - sub_num\n",
    "print(result_subtract)\n",
    "\n",
    "print(\"\\n\")\n",
    "print(\"Matrix afer multiplication:\")\n",
    "result_multiple = array * mul_num\n",
    "print(result_multiple)\n"
   ]
  },
  {
   "cell_type": "markdown",
   "metadata": {},
   "source": [
    "__Part B- Linear Equations__"
   ]
  },
  {
   "cell_type": "markdown",
   "metadata": {},
   "source": [
    "Determine the singularity of the system of equations, comment on the expected solution of the system. Solve the system of equations if possible. Justify the reason why you believe the system can or cannot be solved using numpy functions."
   ]
  },
  {
   "cell_type": "markdown",
   "metadata": {},
   "source": [
    "__Part B.1__"
   ]
  },
  {
   "cell_type": "markdown",
   "metadata": {},
   "source": [
    "1. 4x + y - 2z = 10\n",
    "2. 2x - 3y + 2z = -4\n",
    "3. x + 2y + 3z = 6"
   ]
  },
  {
   "cell_type": "code",
   "execution_count": 118,
   "metadata": {},
   "outputs": [
    {
     "name": "stdout",
     "output_type": "stream",
     "text": [
      "Determinant of the array: -70\n",
      "\n",
      "\n",
      "Non-Singular System.Solution of the system: [ 1.8  2.4 -0.2]\n"
     ]
    }
   ],
   "source": [
    "coef_matrix1 = np.array([[4,1,-2],[2,-3,2],[1,2,3]]) #The coefficients of the linear equations (LHS)\n",
    "\n",
    "d_matrix = np.array([10,-4,6]) #Output of linear equations (RHS)\n",
    "\n",
    "determinant = np.linalg.det(coef_matrix1)\n",
    "print(\"Determinant of the array:\", int(determinant))\n",
    "\n",
    "print(\"\\n\")\n",
    "if determinant != 0 :\n",
    "    solution = np.linalg.solve(coef_matrix1,d_matrix) #calculate solution of the system\n",
    "    print(\"Non-Singular System.Solution of the system:\",solution)\n",
    "\n",
    "else:\n",
    "    print(\"Singular System.System can not be solved using numpy functions.\")\n",
    "\n"
   ]
  },
  {
   "cell_type": "markdown",
   "metadata": {},
   "source": [
    "__Part B.2__"
   ]
  },
  {
   "cell_type": "markdown",
   "metadata": {},
   "source": [
    "1. 2x - y + 3z + 4w = 10\n",
    "2. 4x - 2y + 6z + 8w = 20\n",
    "3. 3x + y - 2z + 2w = 3\n",
    "4. x + 3y - 4z + w = -1"
   ]
  },
  {
   "cell_type": "code",
   "execution_count": 119,
   "metadata": {},
   "outputs": [
    {
     "name": "stdout",
     "output_type": "stream",
     "text": [
      "Determinant of the array: 0\n",
      "\n",
      "\n",
      "Singular System.System can not be solved using numpy functions.\n"
     ]
    }
   ],
   "source": [
    "coef_matrix2 = np.array([[2,-1,3,4],[4,-2,6,8],[3,1,-2,2],[1,3,-4,1]]) #The coefficients of the linear equations (LHS)\n",
    "\n",
    "d_matrix2 = np.array([10,20,3,-1]) #Output of linear equations (RHS)\n",
    "\n",
    "determinant = np.linalg.det(coef_matrix2)\n",
    "print(\"Determinant of the array:\", int(determinant))\n",
    "\n",
    "print(\"\\n\")\n",
    "if determinant != 0 :\n",
    "    solution = np.linalg.solve(coef_matrix2,d_matrix2)\n",
    "    print(\"Non-Singular System.Solution of the system:\",solution)\n",
    "\n",
    "else:\n",
    "    print(\"Singular System.System can not be solved using numpy functions.\")"
   ]
  }
 ],
 "metadata": {
  "kernelspec": {
   "display_name": "CSCN8010_classic_ml",
   "language": "python",
   "name": "cscn8010_classic_ml"
  },
  "language_info": {
   "codemirror_mode": {
    "name": "ipython",
    "version": 3
   },
   "file_extension": ".py",
   "mimetype": "text/x-python",
   "name": "python",
   "nbconvert_exporter": "python",
   "pygments_lexer": "ipython3",
   "version": "3.11.5"
  },
  "orig_nbformat": 4
 },
 "nbformat": 4,
 "nbformat_minor": 2
}
