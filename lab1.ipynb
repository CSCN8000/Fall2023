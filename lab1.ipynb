{
 "cells": [
  {
   "cell_type": "markdown",
   "metadata": {},
   "source": [
    "# Part A- Create a Notebook to demonstrate NumPy Operations."
   ]
  },
  {
   "cell_type": "markdown",
   "metadata": {},
   "source": [
    "## Question 1: Create an array that starts from the integer 1, ends at 20, incremented by 3."
   ]
  },
  {
   "cell_type": "markdown",
   "metadata": {},
   "source": [
    "### Solution 1"
   ]
  },
  {
   "cell_type": "code",
   "execution_count": 8,
   "metadata": {},
   "outputs": [
    {
     "name": "stdout",
     "output_type": "stream",
     "text": [
      "[ 1  4  7 10 13 16 19]\n"
     ]
    }
   ],
   "source": [
    "import numpy as np #importing numpy library\n",
    "\n",
    "array_inc3=np.arange(1,20,3) #creating a array which starts with 1 and increases with a step size of 3 till 20\n",
    "print(array_inc3) #printing array"
   ]
  },
  {
   "cell_type": "markdown",
   "metadata": {},
   "source": [
    "## Question 2: Create a new array of shape 3 with random numbers between 0 and 1."
   ]
  },
  {
   "cell_type": "markdown",
   "metadata": {},
   "source": [
    "### Solution 2"
   ]
  },
  {
   "cell_type": "code",
   "execution_count": 19,
   "metadata": {},
   "outputs": [
    {
     "name": "stdout",
     "output_type": "stream",
     "text": [
      "[0.81007433 0.99012908 0.96815985]\n"
     ]
    }
   ],
   "source": [
    "import numpy as np #importing numpy library\n",
    "#from numpy import random # \n",
    "#array_shp3=np.arange()\n",
    "array_3=np.random.rand(3) #generating random 3 numbers between 0 and 1\n",
    "print(array_3) # printing an array of shape 3 \n"
   ]
  },
  {
   "cell_type": "code",
   "execution_count": 23,
   "metadata": {},
   "outputs": [
    {
     "ename": "NameError",
     "evalue": "name 'size' is not defined",
     "output_type": "error",
     "traceback": [
      "\u001b[0;31m---------------------------------------------------------------------------\u001b[0m",
      "\u001b[0;31mNameError\u001b[0m                                 Traceback (most recent call last)",
      "\u001b[1;32m/Users/samiksharajpal/Desktop/samikshaRajpal_8908982_Youssef/lab1.ipynb Cell 8\u001b[0m line \u001b[0;36m4\n\u001b[1;32m      <a href='vscode-notebook-cell:/Users/samiksharajpal/Desktop/samikshaRajpal_8908982_Youssef/lab1.ipynb#X21sZmlsZQ%3D%3D?line=1'>2</a>\u001b[0m \u001b[39mfrom\u001b[39;00m \u001b[39mnumpy\u001b[39;00m \u001b[39mimport\u001b[39;00m random\n\u001b[1;32m      <a href='vscode-notebook-cell:/Users/samiksharajpal/Desktop/samikshaRajpal_8908982_Youssef/lab1.ipynb#X21sZmlsZQ%3D%3D?line=2'>3</a>\u001b[0m \u001b[39m#array_shp3=np.arange()\u001b[39;00m\n\u001b[0;32m----> <a href='vscode-notebook-cell:/Users/samiksharajpal/Desktop/samikshaRajpal_8908982_Youssef/lab1.ipynb#X21sZmlsZQ%3D%3D?line=3'>4</a>\u001b[0m array_3\u001b[39m=\u001b[39mnp\u001b[39m.\u001b[39mrandom\u001b[39m.\u001b[39mrand(\u001b[39m1\u001b[39m,size(\u001b[39m1\u001b[39m,\u001b[39m3\u001b[39m)) \u001b[39m#generating random 3 numbers between 0 and 1\u001b[39;00m\n\u001b[1;32m      <a href='vscode-notebook-cell:/Users/samiksharajpal/Desktop/samikshaRajpal_8908982_Youssef/lab1.ipynb#X21sZmlsZQ%3D%3D?line=4'>5</a>\u001b[0m \u001b[39mprint\u001b[39m(array_3)\n",
      "\u001b[0;31mNameError\u001b[0m: name 'size' is not defined"
     ]
    }
   ],
   "source": [
    "import numpy as np #importing numpy library\n",
    "from numpy import random\n",
    "#array_shp3=np.arange()\n",
    "array_3=np.random.rand(1,size(1,3)) #generating random 3 numbers between 0 and 1\n",
    "print(array_3)"
   ]
  },
  {
   "cell_type": "markdown",
   "metadata": {},
   "source": [
    "## Question 3 : Create a 2 D array [[10,20,45], [30,12,16], [42,17,56]] and perform the following operations:\n",
    "\n",
    "### Slice the 2D array to get the first two rows, slice the 2D array to get the last two rows.\n"
   ]
  },
  {
   "cell_type": "markdown",
   "metadata": {},
   "source": [
    "### Solution 3 :"
   ]
  },
  {
   "cell_type": "code",
   "execution_count": 31,
   "metadata": {},
   "outputs": [
    {
     "name": "stdout",
     "output_type": "stream",
     "text": [
      "[[10 20 45]\n",
      " [30 12 16]\n",
      " [42 17 56]]\n",
      "[[10 20 45]\n",
      " [30 12 16]]\n",
      "[[30 12 16]\n",
      " [42 17 56]]\n"
     ]
    }
   ],
   "source": [
    "import numpy as np\n",
    "array_2D=np.array([[10,20,45],\n",
    "                  [30,12,16],\n",
    "                  [42,17,56]])  #creating given 2D array\n",
    "print(array_2D)\n",
    "\n",
    "array_first2=array_2D[:2]  #slicing first 2 rows of given 2D array\n",
    "print(array_first2) #printing first 2 rows of given 2D array\n",
    "\n",
    "array_last2=array_2D[-2:] #slicing last 2 rows of given 2D array\n",
    "print(array_last2) #printing last 2 rows of given 2D array"
   ]
  },
  {
   "cell_type": "markdown",
   "metadata": {},
   "source": [
    "## Question 4 : Create two 2x2 arrays and demonstrate how you can stack the elements vertically, horizontally, and split the arrays into smaller arrays."
   ]
  },
  {
   "cell_type": "markdown",
   "metadata": {},
   "source": [
    "### Solution 4 :"
   ]
  },
  {
   "cell_type": "code",
   "execution_count": 43,
   "metadata": {},
   "outputs": [
    {
     "name": "stdout",
     "output_type": "stream",
     "text": [
      "[[89 90]\n",
      " [71 10]]\n",
      "[[28 59]\n",
      " [53 40]]\n",
      "[[89 90]\n",
      " [71 10]\n",
      " [28 59]\n",
      " [53 40]]\n",
      "[[89 90 28 59]\n",
      " [71 10 53 40]]\n",
      "[array([[89, 90, 28, 59],\n",
      "       [71, 10, 53, 40]])]\n"
     ]
    }
   ],
   "source": [
    "import numpy as np #importing numpy library\n",
    "\n",
    "array1=np.random.randint(100,size=(2,2)) #creating a 2x2 array\n",
    "print(array1) #printing first 2x2 array\n",
    "\n",
    "array2=np.random.randint(100,size=(2,2))  #creating second 2x2 array\n",
    "print(array2) #printing second 2x2 array\n",
    "\n",
    "array_ver=np.vstack((array1,array2)) #stacking vertically both arrays\n",
    "print(array_ver) #printing vertically stacked arrays\n",
    "\n",
    "\n",
    "array_hor=np.hstack((array1,array2)) #stacking horizontally both arrays\n",
    "print(array_hor) #printing horizontally stacked arrays\n",
    "\n",
    "array_splitv=np.vsplit(array_hor,1) #splitting array vertically\n",
    "print(array_splitv) #printing vertically split array\n",
    "\n",
    "\n",
    "\n",
    "\n"
   ]
  },
  {
   "cell_type": "markdown",
   "metadata": {},
   "source": [
    "## Question 5 : Create two matrices X= ([[5, 7, 2], [4, 5, 6], [7, 4 ,2]]) Y= ([[4, 2], [6, 2], [4, 2]])\n",
    "### Is it possible to multiply these matrices?\n",
    "### Demonstrate the case when it is not possible to."
   ]
  },
  {
   "cell_type": "markdown",
   "metadata": {},
   "source": [
    "### Solution 5 :"
   ]
  },
  {
   "cell_type": "code",
   "execution_count": 56,
   "metadata": {},
   "outputs": [
    {
     "name": "stdout",
     "output_type": "stream",
     "text": [
      "[[5 7 2]\n",
      " [4 5 6]\n",
      " [7 4 2]]\n",
      "[[4 2]\n",
      " [6 2]\n",
      " [4 2]]\n",
      "[[70 28]\n",
      " [70 30]\n",
      " [60 26]]\n",
      "[[4 2]\n",
      " [6 2]]\n"
     ]
    }
   ],
   "source": [
    "import numpy as np\n",
    "mat1=np.array([[5,7,2],\n",
    "                  [4,5,6],\n",
    "                  [7,4,2]])  #creating given matrix 1\n",
    "print(mat1)\n",
    "\n",
    "mat2=np.array([[4,2],\n",
    "                [6,2],\n",
    "                [4,2]])  #creating given matrix 2\n",
    "print(mat2)\n",
    "\n",
    "\n",
    "matprod=np.dot(mat1,mat2) #product of two matrices\n",
    "print(matprod) #printing the new matrix\n",
    "\n",
    "mat2_ex=mat2[:2] #slicing matrix 2 for top 2 rows\n",
    "print(mat2_ex) #printing sliced matrix 2\n"
   ]
  },
  {
   "cell_type": "markdown",
   "metadata": {},
   "source": [
    "### Demonstration of when product of matrices is not possible"
   ]
  },
  {
   "cell_type": "code",
   "execution_count": 58,
   "metadata": {},
   "outputs": [
    {
     "name": "stdout",
     "output_type": "stream",
     "text": [
      "[[5 7 2]\n",
      " [4 5 6]\n",
      " [7 4 2]]\n",
      "[[4 2]\n",
      " [6 2]\n",
      " [4 2]]\n",
      "[[70 28]\n",
      " [70 30]\n",
      " [60 26]]\n",
      "[[4 2]\n",
      " [6 2]]\n"
     ]
    },
    {
     "ename": "ValueError",
     "evalue": "shapes (3,3) and (2,2) not aligned: 3 (dim 1) != 2 (dim 0)",
     "output_type": "error",
     "traceback": [
      "\u001b[0;31m---------------------------------------------------------------------------\u001b[0m",
      "\u001b[0;31mValueError\u001b[0m                                Traceback (most recent call last)",
      "\u001b[1;32m/Users/samiksharajpal/Desktop/samikshaRajpal_8908982_Youssef/lab1.ipynb Cell 19\u001b[0m line \u001b[0;36m1\n\u001b[1;32m     <a href='vscode-notebook-cell:/Users/samiksharajpal/Desktop/samikshaRajpal_8908982_Youssef/lab1.ipynb#X32sZmlsZQ%3D%3D?line=15'>16</a>\u001b[0m mat2_ex\u001b[39m=\u001b[39mmat2[:\u001b[39m2\u001b[39m] \u001b[39m#slicing matrix 2 for top 2 rows\u001b[39;00m\n\u001b[1;32m     <a href='vscode-notebook-cell:/Users/samiksharajpal/Desktop/samikshaRajpal_8908982_Youssef/lab1.ipynb#X32sZmlsZQ%3D%3D?line=16'>17</a>\u001b[0m \u001b[39mprint\u001b[39m(mat2_ex) \u001b[39m#printing sliced matrix 2\u001b[39;00m\n\u001b[0;32m---> <a href='vscode-notebook-cell:/Users/samiksharajpal/Desktop/samikshaRajpal_8908982_Youssef/lab1.ipynb#X32sZmlsZQ%3D%3D?line=18'>19</a>\u001b[0m matprod_new\u001b[39m=\u001b[39mnp\u001b[39m.\u001b[39;49mdot(mat1,mat2_ex) \u001b[39m#product of two matrix which has different dimensions (basically columns of first matrix should be equal to row of second matrix for the product to happen)\u001b[39;00m\n\u001b[1;32m     <a href='vscode-notebook-cell:/Users/samiksharajpal/Desktop/samikshaRajpal_8908982_Youssef/lab1.ipynb#X32sZmlsZQ%3D%3D?line=19'>20</a>\u001b[0m \u001b[39mprint\u001b[39m(matprod_new) \u001b[39m#this will not work as number of columns in first matrx is different than number of rows in second matrix\u001b[39;00m\n",
      "\u001b[0;31mValueError\u001b[0m: shapes (3,3) and (2,2) not aligned: 3 (dim 1) != 2 (dim 0)"
     ]
    }
   ],
   "source": [
    "import numpy as np\n",
    "mat1=np.array([[5,7,2],\n",
    "                  [4,5,6],\n",
    "                  [7,4,2]])  #creating given matrix 1\n",
    "print(mat1)\n",
    "\n",
    "mat2=np.array([[4,2],\n",
    "                [6,2],\n",
    "                [4,2]])  #creating given matrix 2\n",
    "print(mat2)\n",
    "\n",
    "\n",
    "matprod=np.dot(mat1,mat2) #product of two matrices\n",
    "print(matprod) #printing the new matrix\n",
    "\n",
    "mat2_ex=mat2[:2] #slicing matrix 2 for top 2 rows\n",
    "print(mat2_ex) #printing sliced matrix 2\n",
    "\n",
    "matprod_new=np.dot(mat1,mat2_ex) #product of two matrix which has different dimensions (basically columns of first matrix should be equal to row of second matrix for the product to happen)\n",
    "print(matprod_new) #this will not work as number of columns in first matrx is different than number of rows in second matrix"
   ]
  },
  {
   "cell_type": "markdown",
   "metadata": {},
   "source": [
    "## Question 6: Create two arrays, x = ([2, -1, -8]) y = ([3, 1, -2]),\n",
    "### Find the Shape, Number of dimensions of vector x.\n",
    "### Reshape the vector x to a matrix of size (3,1) and determine the number of dimensions after reshaping y to a matrix of (3,1).\n"
   ]
  },
  {
   "cell_type": "code",
   "execution_count": 64,
   "metadata": {},
   "outputs": [
    {
     "name": "stdout",
     "output_type": "stream",
     "text": [
      "(3,)\n",
      "1\n",
      "[[ 2]\n",
      " [-1]\n",
      " [-8]]\n",
      "2\n"
     ]
    }
   ],
   "source": [
    "import numpy as np\n",
    "x=np.array([2,-1,-8]) # creating first array\n",
    "\n",
    "y=np.array([3,1,-2]) # creating second array\n",
    "\n",
    "shpx=x.shape\n",
    "print(shpx)  # shape of vector x\n",
    "\n",
    "dimx=x.ndim\n",
    "print(dimx) # dimensions of vector x\n",
    "\n",
    "rex=x.reshape(3,1)\n",
    "print(rex)  # reshaping vector x to size (3,1)\n",
    "\n",
    "\n",
    "rexdim=rex.ndim\n",
    "print(rexdim) # dimensions of new reshaped vector x"
   ]
  },
  {
   "cell_type": "markdown",
   "metadata": {},
   "source": [
    "## Question 7 : How does broadcasting work? Demonstrate the subtraction, multiplication by considering a 3 x 3 matrix."
   ]
  },
  {
   "cell_type": "markdown",
   "metadata": {},
   "source": [
    "## Solution 7\n",
    "\n",
    "\n",
    "## Broadcasting of matrices allows us to perform multiple operations like addition, multiplication , subtraction\n",
    "## throughout an array without looping over each element. \n",
    "## The name broadcasting comes from how NumPy handles these operations, it essentially broadcasts a small  array in the larger array to turn them into compatible shapes. "
   ]
  },
  {
   "cell_type": "markdown",
   "metadata": {},
   "source": [
    "### Example for multiplication and subtraction"
   ]
  },
  {
   "cell_type": "code",
   "execution_count": 68,
   "metadata": {},
   "outputs": [
    {
     "name": "stdout",
     "output_type": "stream",
     "text": [
      "[[33  8 29]\n",
      " [44 35 35]\n",
      " [55  2 63]]\n",
      "[[78 24 11]\n",
      " [73 52  6]\n",
      " [77 65 17]]\n",
      "[[-45 -16  18]\n",
      " [-29 -17  29]\n",
      " [-22 -63  46]]\n",
      "[[2574  192  319]\n",
      " [3212 1820  210]\n",
      " [4235  130 1071]]\n"
     ]
    }
   ],
   "source": [
    "firstArray = np.random.randint(100,size=(3,3))\n",
    "secondArray = np.random.randint(100,size=(3,3))\n",
    "\n",
    "print(firstArray) #printing first array\n",
    "print(secondArray) #printing second array\n",
    "\n",
    "differenceArray = firstArray - secondArray #subtraction of 2 arrays\n",
    "productArray = firstArray * secondArray #product of 2 arrays\n",
    "\n",
    "print(differenceArray) #print difference array\n",
    "print(productArray) #print product array\n",
    "\n"
   ]
  },
  {
   "cell_type": "code",
   "execution_count": null,
   "metadata": {},
   "outputs": [],
   "source": []
  }
 ],
 "metadata": {
  "kernelspec": {
   "display_name": "Python 3",
   "language": "python",
   "name": "python3"
  },
  "language_info": {
   "codemirror_mode": {
    "name": "ipython",
    "version": 3
   },
   "file_extension": ".py",
   "mimetype": "text/x-python",
   "name": "python",
   "nbconvert_exporter": "python",
   "pygments_lexer": "ipython3",
   "version": "3.11.5"
  },
  "orig_nbformat": 4
 },
 "nbformat": 4,
 "nbformat_minor": 2
}
